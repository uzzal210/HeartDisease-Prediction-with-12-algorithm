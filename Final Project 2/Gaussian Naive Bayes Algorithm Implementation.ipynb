{
 "cells": [
  {
   "cell_type": "code",
   "execution_count": 1,
   "id": "e3fec6b0",
   "metadata": {},
   "outputs": [],
   "source": [
    "import pandas as pd\n",
    "import numpy as np\n",
    "import seaborn as sns\n",
    "import matplotlib.pyplot as plt\n",
    "%matplotlib inline"
   ]
  },
  {
   "cell_type": "code",
   "execution_count": 2,
   "id": "d22d00b7",
   "metadata": {},
   "outputs": [
    {
     "data": {
      "text/plain": [
       "(319795, 18)"
      ]
     },
     "execution_count": 2,
     "metadata": {},
     "output_type": "execute_result"
    }
   ],
   "source": [
    "df=pd.read_csv('Heart Disease.csv')\n",
    "df.shape"
   ]
  },
  {
   "cell_type": "markdown",
   "id": "e58c0e94",
   "metadata": {},
   "source": [
    "# Removing Duplicate value\n"
   ]
  },
  {
   "cell_type": "code",
   "execution_count": 3,
   "id": "f8fc109b",
   "metadata": {},
   "outputs": [
    {
     "data": {
      "text/plain": [
       "(301717, 18)"
      ]
     },
     "execution_count": 3,
     "metadata": {},
     "output_type": "execute_result"
    }
   ],
   "source": [
    "df.drop_duplicates(inplace=True)\n",
    "df.shape"
   ]
  },
  {
   "cell_type": "code",
   "execution_count": 4,
   "id": "c8efd060",
   "metadata": {},
   "outputs": [
    {
     "data": {
      "text/plain": [
       "No     274456\n",
       "Yes     27261\n",
       "Name: HeartDisease, dtype: int64"
      ]
     },
     "execution_count": 4,
     "metadata": {},
     "output_type": "execute_result"
    }
   ],
   "source": [
    "df.HeartDisease.value_counts()"
   ]
  },
  {
   "cell_type": "markdown",
   "id": "ba1c6c1e",
   "metadata": {},
   "source": [
    "# Encoding The DataSet with LabelEncoder\n"
   ]
  },
  {
   "cell_type": "code",
   "execution_count": 5,
   "id": "ca6553b0",
   "metadata": {},
   "outputs": [],
   "source": [
    "from sklearn.preprocessing import LabelEncoder\n",
    "label=LabelEncoder()"
   ]
  },
  {
   "cell_type": "code",
   "execution_count": 6,
   "id": "1270692b",
   "metadata": {},
   "outputs": [],
   "source": [
    "from pandas.core.dtypes.common import is_numeric_dtype\n",
    "for column in df.columns:\n",
    "    if is_numeric_dtype(df[column]):\n",
    "        continue\n",
    "    else:\n",
    "        df[column]=label.fit_transform(df[column])"
   ]
  },
  {
   "cell_type": "markdown",
   "id": "433cada6",
   "metadata": {},
   "source": [
    "# Separting x and y"
   ]
  },
  {
   "cell_type": "code",
   "execution_count": 7,
   "id": "c1f29753",
   "metadata": {},
   "outputs": [],
   "source": [
    "x=df.drop('HeartDisease',axis=1)\n",
    "y=df['HeartDisease']"
   ]
  },
  {
   "cell_type": "code",
   "execution_count": 8,
   "id": "c7928567",
   "metadata": {},
   "outputs": [
    {
     "data": {
      "text/html": [
       "<div>\n",
       "<style scoped>\n",
       "    .dataframe tbody tr th:only-of-type {\n",
       "        vertical-align: middle;\n",
       "    }\n",
       "\n",
       "    .dataframe tbody tr th {\n",
       "        vertical-align: top;\n",
       "    }\n",
       "\n",
       "    .dataframe thead th {\n",
       "        text-align: right;\n",
       "    }\n",
       "</style>\n",
       "<table border=\"1\" class=\"dataframe\">\n",
       "  <thead>\n",
       "    <tr style=\"text-align: right;\">\n",
       "      <th></th>\n",
       "      <th>BMI</th>\n",
       "      <th>Smoking</th>\n",
       "      <th>AlcoholDrinking</th>\n",
       "      <th>Stroke</th>\n",
       "      <th>PhysicalHealth</th>\n",
       "      <th>MentalHealth</th>\n",
       "      <th>DiffWalking</th>\n",
       "      <th>Sex</th>\n",
       "      <th>AgeCategory</th>\n",
       "      <th>Race</th>\n",
       "      <th>Diabetic</th>\n",
       "      <th>PhysicalActivity</th>\n",
       "      <th>GenHealth</th>\n",
       "      <th>SleepTime</th>\n",
       "      <th>Asthma</th>\n",
       "      <th>KidneyDisease</th>\n",
       "      <th>SkinCancer</th>\n",
       "    </tr>\n",
       "  </thead>\n",
       "  <tbody>\n",
       "    <tr>\n",
       "      <th>0</th>\n",
       "      <td>16.60</td>\n",
       "      <td>1</td>\n",
       "      <td>0</td>\n",
       "      <td>0</td>\n",
       "      <td>3</td>\n",
       "      <td>30</td>\n",
       "      <td>0</td>\n",
       "      <td>0</td>\n",
       "      <td>7</td>\n",
       "      <td>5</td>\n",
       "      <td>2</td>\n",
       "      <td>1</td>\n",
       "      <td>4</td>\n",
       "      <td>5</td>\n",
       "      <td>1</td>\n",
       "      <td>0</td>\n",
       "      <td>1</td>\n",
       "    </tr>\n",
       "    <tr>\n",
       "      <th>1</th>\n",
       "      <td>20.34</td>\n",
       "      <td>0</td>\n",
       "      <td>0</td>\n",
       "      <td>1</td>\n",
       "      <td>0</td>\n",
       "      <td>0</td>\n",
       "      <td>0</td>\n",
       "      <td>0</td>\n",
       "      <td>12</td>\n",
       "      <td>5</td>\n",
       "      <td>0</td>\n",
       "      <td>1</td>\n",
       "      <td>4</td>\n",
       "      <td>7</td>\n",
       "      <td>0</td>\n",
       "      <td>0</td>\n",
       "      <td>0</td>\n",
       "    </tr>\n",
       "    <tr>\n",
       "      <th>2</th>\n",
       "      <td>26.58</td>\n",
       "      <td>1</td>\n",
       "      <td>0</td>\n",
       "      <td>0</td>\n",
       "      <td>20</td>\n",
       "      <td>30</td>\n",
       "      <td>0</td>\n",
       "      <td>1</td>\n",
       "      <td>9</td>\n",
       "      <td>5</td>\n",
       "      <td>2</td>\n",
       "      <td>1</td>\n",
       "      <td>1</td>\n",
       "      <td>8</td>\n",
       "      <td>1</td>\n",
       "      <td>0</td>\n",
       "      <td>0</td>\n",
       "    </tr>\n",
       "    <tr>\n",
       "      <th>3</th>\n",
       "      <td>24.21</td>\n",
       "      <td>0</td>\n",
       "      <td>0</td>\n",
       "      <td>0</td>\n",
       "      <td>0</td>\n",
       "      <td>0</td>\n",
       "      <td>0</td>\n",
       "      <td>0</td>\n",
       "      <td>11</td>\n",
       "      <td>5</td>\n",
       "      <td>0</td>\n",
       "      <td>0</td>\n",
       "      <td>2</td>\n",
       "      <td>6</td>\n",
       "      <td>0</td>\n",
       "      <td>0</td>\n",
       "      <td>1</td>\n",
       "    </tr>\n",
       "    <tr>\n",
       "      <th>4</th>\n",
       "      <td>23.71</td>\n",
       "      <td>0</td>\n",
       "      <td>0</td>\n",
       "      <td>0</td>\n",
       "      <td>28</td>\n",
       "      <td>0</td>\n",
       "      <td>1</td>\n",
       "      <td>0</td>\n",
       "      <td>4</td>\n",
       "      <td>5</td>\n",
       "      <td>0</td>\n",
       "      <td>1</td>\n",
       "      <td>4</td>\n",
       "      <td>8</td>\n",
       "      <td>0</td>\n",
       "      <td>0</td>\n",
       "      <td>0</td>\n",
       "    </tr>\n",
       "    <tr>\n",
       "      <th>...</th>\n",
       "      <td>...</td>\n",
       "      <td>...</td>\n",
       "      <td>...</td>\n",
       "      <td>...</td>\n",
       "      <td>...</td>\n",
       "      <td>...</td>\n",
       "      <td>...</td>\n",
       "      <td>...</td>\n",
       "      <td>...</td>\n",
       "      <td>...</td>\n",
       "      <td>...</td>\n",
       "      <td>...</td>\n",
       "      <td>...</td>\n",
       "      <td>...</td>\n",
       "      <td>...</td>\n",
       "      <td>...</td>\n",
       "      <td>...</td>\n",
       "    </tr>\n",
       "    <tr>\n",
       "      <th>319790</th>\n",
       "      <td>27.41</td>\n",
       "      <td>1</td>\n",
       "      <td>0</td>\n",
       "      <td>0</td>\n",
       "      <td>7</td>\n",
       "      <td>0</td>\n",
       "      <td>1</td>\n",
       "      <td>1</td>\n",
       "      <td>8</td>\n",
       "      <td>3</td>\n",
       "      <td>2</td>\n",
       "      <td>0</td>\n",
       "      <td>1</td>\n",
       "      <td>6</td>\n",
       "      <td>1</td>\n",
       "      <td>0</td>\n",
       "      <td>0</td>\n",
       "    </tr>\n",
       "    <tr>\n",
       "      <th>319791</th>\n",
       "      <td>29.84</td>\n",
       "      <td>1</td>\n",
       "      <td>0</td>\n",
       "      <td>0</td>\n",
       "      <td>0</td>\n",
       "      <td>0</td>\n",
       "      <td>0</td>\n",
       "      <td>1</td>\n",
       "      <td>3</td>\n",
       "      <td>3</td>\n",
       "      <td>0</td>\n",
       "      <td>1</td>\n",
       "      <td>4</td>\n",
       "      <td>5</td>\n",
       "      <td>1</td>\n",
       "      <td>0</td>\n",
       "      <td>0</td>\n",
       "    </tr>\n",
       "    <tr>\n",
       "      <th>319792</th>\n",
       "      <td>24.24</td>\n",
       "      <td>0</td>\n",
       "      <td>0</td>\n",
       "      <td>0</td>\n",
       "      <td>0</td>\n",
       "      <td>0</td>\n",
       "      <td>0</td>\n",
       "      <td>0</td>\n",
       "      <td>5</td>\n",
       "      <td>3</td>\n",
       "      <td>0</td>\n",
       "      <td>1</td>\n",
       "      <td>2</td>\n",
       "      <td>6</td>\n",
       "      <td>0</td>\n",
       "      <td>0</td>\n",
       "      <td>0</td>\n",
       "    </tr>\n",
       "    <tr>\n",
       "      <th>319793</th>\n",
       "      <td>32.81</td>\n",
       "      <td>0</td>\n",
       "      <td>0</td>\n",
       "      <td>0</td>\n",
       "      <td>0</td>\n",
       "      <td>0</td>\n",
       "      <td>0</td>\n",
       "      <td>0</td>\n",
       "      <td>1</td>\n",
       "      <td>3</td>\n",
       "      <td>0</td>\n",
       "      <td>0</td>\n",
       "      <td>2</td>\n",
       "      <td>12</td>\n",
       "      <td>0</td>\n",
       "      <td>0</td>\n",
       "      <td>0</td>\n",
       "    </tr>\n",
       "    <tr>\n",
       "      <th>319794</th>\n",
       "      <td>46.56</td>\n",
       "      <td>0</td>\n",
       "      <td>0</td>\n",
       "      <td>0</td>\n",
       "      <td>0</td>\n",
       "      <td>0</td>\n",
       "      <td>0</td>\n",
       "      <td>0</td>\n",
       "      <td>12</td>\n",
       "      <td>3</td>\n",
       "      <td>0</td>\n",
       "      <td>1</td>\n",
       "      <td>2</td>\n",
       "      <td>8</td>\n",
       "      <td>0</td>\n",
       "      <td>0</td>\n",
       "      <td>0</td>\n",
       "    </tr>\n",
       "  </tbody>\n",
       "</table>\n",
       "<p>301717 rows × 17 columns</p>\n",
       "</div>"
      ],
      "text/plain": [
       "          BMI  Smoking  AlcoholDrinking  Stroke  PhysicalHealth  MentalHealth  \\\n",
       "0       16.60        1                0       0               3            30   \n",
       "1       20.34        0                0       1               0             0   \n",
       "2       26.58        1                0       0              20            30   \n",
       "3       24.21        0                0       0               0             0   \n",
       "4       23.71        0                0       0              28             0   \n",
       "...       ...      ...              ...     ...             ...           ...   \n",
       "319790  27.41        1                0       0               7             0   \n",
       "319791  29.84        1                0       0               0             0   \n",
       "319792  24.24        0                0       0               0             0   \n",
       "319793  32.81        0                0       0               0             0   \n",
       "319794  46.56        0                0       0               0             0   \n",
       "\n",
       "        DiffWalking  Sex  AgeCategory  Race  Diabetic  PhysicalActivity  \\\n",
       "0                 0    0            7     5         2                 1   \n",
       "1                 0    0           12     5         0                 1   \n",
       "2                 0    1            9     5         2                 1   \n",
       "3                 0    0           11     5         0                 0   \n",
       "4                 1    0            4     5         0                 1   \n",
       "...             ...  ...          ...   ...       ...               ...   \n",
       "319790            1    1            8     3         2                 0   \n",
       "319791            0    1            3     3         0                 1   \n",
       "319792            0    0            5     3         0                 1   \n",
       "319793            0    0            1     3         0                 0   \n",
       "319794            0    0           12     3         0                 1   \n",
       "\n",
       "        GenHealth  SleepTime  Asthma  KidneyDisease  SkinCancer  \n",
       "0               4          5       1              0           1  \n",
       "1               4          7       0              0           0  \n",
       "2               1          8       1              0           0  \n",
       "3               2          6       0              0           1  \n",
       "4               4          8       0              0           0  \n",
       "...           ...        ...     ...            ...         ...  \n",
       "319790          1          6       1              0           0  \n",
       "319791          4          5       1              0           0  \n",
       "319792          2          6       0              0           0  \n",
       "319793          2         12       0              0           0  \n",
       "319794          2          8       0              0           0  \n",
       "\n",
       "[301717 rows x 17 columns]"
      ]
     },
     "execution_count": 8,
     "metadata": {},
     "output_type": "execute_result"
    }
   ],
   "source": [
    "x"
   ]
  },
  {
   "cell_type": "code",
   "execution_count": 9,
   "id": "c4b65bdb",
   "metadata": {},
   "outputs": [
    {
     "data": {
      "text/plain": [
       "0         0\n",
       "1         0\n",
       "2         0\n",
       "3         0\n",
       "4         0\n",
       "         ..\n",
       "319790    1\n",
       "319791    0\n",
       "319792    0\n",
       "319793    0\n",
       "319794    0\n",
       "Name: HeartDisease, Length: 301717, dtype: int32"
      ]
     },
     "execution_count": 9,
     "metadata": {},
     "output_type": "execute_result"
    }
   ],
   "source": [
    "y"
   ]
  },
  {
   "cell_type": "markdown",
   "id": "0639c193",
   "metadata": {},
   "source": [
    "# Imbalance Data handling\n"
   ]
  },
  {
   "cell_type": "code",
   "execution_count": 10,
   "id": "f688a28f",
   "metadata": {},
   "outputs": [
    {
     "data": {
      "text/plain": [
       "0    274456\n",
       "1     27261\n",
       "Name: HeartDisease, dtype: int64"
      ]
     },
     "execution_count": 10,
     "metadata": {},
     "output_type": "execute_result"
    }
   ],
   "source": [
    "df.HeartDisease.value_counts()"
   ]
  },
  {
   "cell_type": "code",
   "execution_count": 11,
   "id": "9bef8b3d",
   "metadata": {},
   "outputs": [],
   "source": [
    "not_HeartDisease=(274456/(274456+27261))*100\n",
    "HeartDisease=(27261/(274456+27261))*100"
   ]
  },
  {
   "cell_type": "code",
   "execution_count": 12,
   "id": "dd8882b1",
   "metadata": {},
   "outputs": [
    {
     "name": "stdout",
     "output_type": "stream",
     "text": [
      "No HeartDisease 90.96471196518591 percent of the total people\n"
     ]
    }
   ],
   "source": [
    "print('No HeartDisease {} percent of the total people'.format(not_HeartDisease))"
   ]
  },
  {
   "cell_type": "code",
   "execution_count": 13,
   "id": "e3fe2b21",
   "metadata": {},
   "outputs": [
    {
     "name": "stdout",
     "output_type": "stream",
     "text": [
      "HeartDisease 9.03528803481408 percent of the total people\n"
     ]
    }
   ],
   "source": [
    "print('HeartDisease {} percent of the total people'.format(HeartDisease))"
   ]
  },
  {
   "cell_type": "code",
   "execution_count": 14,
   "id": "6fc3ac1b",
   "metadata": {},
   "outputs": [],
   "source": [
    "HeartDisease_no=df[df['HeartDisease']==0]\n",
    "HeartDisease_yes=df[df['HeartDisease']==1]"
   ]
  },
  {
   "cell_type": "code",
   "execution_count": 15,
   "id": "c2d54f0c",
   "metadata": {},
   "outputs": [
    {
     "data": {
      "text/plain": [
       "(274456, 18)"
      ]
     },
     "execution_count": 15,
     "metadata": {},
     "output_type": "execute_result"
    }
   ],
   "source": [
    "HeartDisease_no.shape"
   ]
  },
  {
   "cell_type": "code",
   "execution_count": 16,
   "id": "dca69e22",
   "metadata": {},
   "outputs": [
    {
     "data": {
      "text/plain": [
       "(27261, 18)"
      ]
     },
     "execution_count": 16,
     "metadata": {},
     "output_type": "execute_result"
    }
   ],
   "source": [
    "HeartDisease_yes.shape"
   ]
  },
  {
   "cell_type": "markdown",
   "id": "ba10945e",
   "metadata": {},
   "source": [
    "# So we have to balance our dataset . Now applying Random over sampling techniques\n"
   ]
  },
  {
   "cell_type": "code",
   "execution_count": 17,
   "id": "2860d6df",
   "metadata": {},
   "outputs": [],
   "source": [
    "from imblearn.over_sampling import RandomOverSampler\n",
    "random_over_sampler = RandomOverSampler(random_state =100)"
   ]
  },
  {
   "cell_type": "code",
   "execution_count": 18,
   "id": "280f337c",
   "metadata": {},
   "outputs": [
    {
     "data": {
      "text/html": [
       "<div>\n",
       "<style scoped>\n",
       "    .dataframe tbody tr th:only-of-type {\n",
       "        vertical-align: middle;\n",
       "    }\n",
       "\n",
       "    .dataframe tbody tr th {\n",
       "        vertical-align: top;\n",
       "    }\n",
       "\n",
       "    .dataframe thead th {\n",
       "        text-align: right;\n",
       "    }\n",
       "</style>\n",
       "<table border=\"1\" class=\"dataframe\">\n",
       "  <thead>\n",
       "    <tr style=\"text-align: right;\">\n",
       "      <th></th>\n",
       "      <th>BMI</th>\n",
       "      <th>Smoking</th>\n",
       "      <th>AlcoholDrinking</th>\n",
       "      <th>Stroke</th>\n",
       "      <th>PhysicalHealth</th>\n",
       "      <th>MentalHealth</th>\n",
       "      <th>DiffWalking</th>\n",
       "      <th>Sex</th>\n",
       "      <th>AgeCategory</th>\n",
       "      <th>Race</th>\n",
       "      <th>Diabetic</th>\n",
       "      <th>PhysicalActivity</th>\n",
       "      <th>GenHealth</th>\n",
       "      <th>SleepTime</th>\n",
       "      <th>Asthma</th>\n",
       "      <th>KidneyDisease</th>\n",
       "      <th>SkinCancer</th>\n",
       "    </tr>\n",
       "  </thead>\n",
       "  <tbody>\n",
       "    <tr>\n",
       "      <th>0</th>\n",
       "      <td>16.60</td>\n",
       "      <td>1</td>\n",
       "      <td>0</td>\n",
       "      <td>0</td>\n",
       "      <td>3</td>\n",
       "      <td>30</td>\n",
       "      <td>0</td>\n",
       "      <td>0</td>\n",
       "      <td>7</td>\n",
       "      <td>5</td>\n",
       "      <td>2</td>\n",
       "      <td>1</td>\n",
       "      <td>4</td>\n",
       "      <td>5</td>\n",
       "      <td>1</td>\n",
       "      <td>0</td>\n",
       "      <td>1</td>\n",
       "    </tr>\n",
       "    <tr>\n",
       "      <th>1</th>\n",
       "      <td>20.34</td>\n",
       "      <td>0</td>\n",
       "      <td>0</td>\n",
       "      <td>1</td>\n",
       "      <td>0</td>\n",
       "      <td>0</td>\n",
       "      <td>0</td>\n",
       "      <td>0</td>\n",
       "      <td>12</td>\n",
       "      <td>5</td>\n",
       "      <td>0</td>\n",
       "      <td>1</td>\n",
       "      <td>4</td>\n",
       "      <td>7</td>\n",
       "      <td>0</td>\n",
       "      <td>0</td>\n",
       "      <td>0</td>\n",
       "    </tr>\n",
       "    <tr>\n",
       "      <th>2</th>\n",
       "      <td>26.58</td>\n",
       "      <td>1</td>\n",
       "      <td>0</td>\n",
       "      <td>0</td>\n",
       "      <td>20</td>\n",
       "      <td>30</td>\n",
       "      <td>0</td>\n",
       "      <td>1</td>\n",
       "      <td>9</td>\n",
       "      <td>5</td>\n",
       "      <td>2</td>\n",
       "      <td>1</td>\n",
       "      <td>1</td>\n",
       "      <td>8</td>\n",
       "      <td>1</td>\n",
       "      <td>0</td>\n",
       "      <td>0</td>\n",
       "    </tr>\n",
       "    <tr>\n",
       "      <th>3</th>\n",
       "      <td>24.21</td>\n",
       "      <td>0</td>\n",
       "      <td>0</td>\n",
       "      <td>0</td>\n",
       "      <td>0</td>\n",
       "      <td>0</td>\n",
       "      <td>0</td>\n",
       "      <td>0</td>\n",
       "      <td>11</td>\n",
       "      <td>5</td>\n",
       "      <td>0</td>\n",
       "      <td>0</td>\n",
       "      <td>2</td>\n",
       "      <td>6</td>\n",
       "      <td>0</td>\n",
       "      <td>0</td>\n",
       "      <td>1</td>\n",
       "    </tr>\n",
       "    <tr>\n",
       "      <th>4</th>\n",
       "      <td>23.71</td>\n",
       "      <td>0</td>\n",
       "      <td>0</td>\n",
       "      <td>0</td>\n",
       "      <td>28</td>\n",
       "      <td>0</td>\n",
       "      <td>1</td>\n",
       "      <td>0</td>\n",
       "      <td>4</td>\n",
       "      <td>5</td>\n",
       "      <td>0</td>\n",
       "      <td>1</td>\n",
       "      <td>4</td>\n",
       "      <td>8</td>\n",
       "      <td>0</td>\n",
       "      <td>0</td>\n",
       "      <td>0</td>\n",
       "    </tr>\n",
       "    <tr>\n",
       "      <th>...</th>\n",
       "      <td>...</td>\n",
       "      <td>...</td>\n",
       "      <td>...</td>\n",
       "      <td>...</td>\n",
       "      <td>...</td>\n",
       "      <td>...</td>\n",
       "      <td>...</td>\n",
       "      <td>...</td>\n",
       "      <td>...</td>\n",
       "      <td>...</td>\n",
       "      <td>...</td>\n",
       "      <td>...</td>\n",
       "      <td>...</td>\n",
       "      <td>...</td>\n",
       "      <td>...</td>\n",
       "      <td>...</td>\n",
       "      <td>...</td>\n",
       "    </tr>\n",
       "    <tr>\n",
       "      <th>548907</th>\n",
       "      <td>35.43</td>\n",
       "      <td>0</td>\n",
       "      <td>0</td>\n",
       "      <td>0</td>\n",
       "      <td>0</td>\n",
       "      <td>0</td>\n",
       "      <td>0</td>\n",
       "      <td>0</td>\n",
       "      <td>12</td>\n",
       "      <td>5</td>\n",
       "      <td>0</td>\n",
       "      <td>1</td>\n",
       "      <td>4</td>\n",
       "      <td>5</td>\n",
       "      <td>0</td>\n",
       "      <td>0</td>\n",
       "      <td>1</td>\n",
       "    </tr>\n",
       "    <tr>\n",
       "      <th>548908</th>\n",
       "      <td>23.01</td>\n",
       "      <td>1</td>\n",
       "      <td>0</td>\n",
       "      <td>0</td>\n",
       "      <td>0</td>\n",
       "      <td>20</td>\n",
       "      <td>0</td>\n",
       "      <td>1</td>\n",
       "      <td>8</td>\n",
       "      <td>5</td>\n",
       "      <td>0</td>\n",
       "      <td>1</td>\n",
       "      <td>4</td>\n",
       "      <td>6</td>\n",
       "      <td>0</td>\n",
       "      <td>0</td>\n",
       "      <td>0</td>\n",
       "    </tr>\n",
       "    <tr>\n",
       "      <th>548909</th>\n",
       "      <td>30.80</td>\n",
       "      <td>0</td>\n",
       "      <td>0</td>\n",
       "      <td>0</td>\n",
       "      <td>0</td>\n",
       "      <td>0</td>\n",
       "      <td>0</td>\n",
       "      <td>0</td>\n",
       "      <td>10</td>\n",
       "      <td>4</td>\n",
       "      <td>2</td>\n",
       "      <td>0</td>\n",
       "      <td>2</td>\n",
       "      <td>5</td>\n",
       "      <td>0</td>\n",
       "      <td>0</td>\n",
       "      <td>0</td>\n",
       "    </tr>\n",
       "    <tr>\n",
       "      <th>548910</th>\n",
       "      <td>44.63</td>\n",
       "      <td>0</td>\n",
       "      <td>0</td>\n",
       "      <td>0</td>\n",
       "      <td>0</td>\n",
       "      <td>7</td>\n",
       "      <td>1</td>\n",
       "      <td>0</td>\n",
       "      <td>9</td>\n",
       "      <td>2</td>\n",
       "      <td>2</td>\n",
       "      <td>0</td>\n",
       "      <td>2</td>\n",
       "      <td>8</td>\n",
       "      <td>0</td>\n",
       "      <td>0</td>\n",
       "      <td>0</td>\n",
       "    </tr>\n",
       "    <tr>\n",
       "      <th>548911</th>\n",
       "      <td>30.90</td>\n",
       "      <td>0</td>\n",
       "      <td>0</td>\n",
       "      <td>0</td>\n",
       "      <td>0</td>\n",
       "      <td>10</td>\n",
       "      <td>1</td>\n",
       "      <td>0</td>\n",
       "      <td>9</td>\n",
       "      <td>5</td>\n",
       "      <td>0</td>\n",
       "      <td>1</td>\n",
       "      <td>2</td>\n",
       "      <td>8</td>\n",
       "      <td>0</td>\n",
       "      <td>0</td>\n",
       "      <td>0</td>\n",
       "    </tr>\n",
       "  </tbody>\n",
       "</table>\n",
       "<p>548912 rows × 17 columns</p>\n",
       "</div>"
      ],
      "text/plain": [
       "          BMI  Smoking  AlcoholDrinking  Stroke  PhysicalHealth  MentalHealth  \\\n",
       "0       16.60        1                0       0               3            30   \n",
       "1       20.34        0                0       1               0             0   \n",
       "2       26.58        1                0       0              20            30   \n",
       "3       24.21        0                0       0               0             0   \n",
       "4       23.71        0                0       0              28             0   \n",
       "...       ...      ...              ...     ...             ...           ...   \n",
       "548907  35.43        0                0       0               0             0   \n",
       "548908  23.01        1                0       0               0            20   \n",
       "548909  30.80        0                0       0               0             0   \n",
       "548910  44.63        0                0       0               0             7   \n",
       "548911  30.90        0                0       0               0            10   \n",
       "\n",
       "        DiffWalking  Sex  AgeCategory  Race  Diabetic  PhysicalActivity  \\\n",
       "0                 0    0            7     5         2                 1   \n",
       "1                 0    0           12     5         0                 1   \n",
       "2                 0    1            9     5         2                 1   \n",
       "3                 0    0           11     5         0                 0   \n",
       "4                 1    0            4     5         0                 1   \n",
       "...             ...  ...          ...   ...       ...               ...   \n",
       "548907            0    0           12     5         0                 1   \n",
       "548908            0    1            8     5         0                 1   \n",
       "548909            0    0           10     4         2                 0   \n",
       "548910            1    0            9     2         2                 0   \n",
       "548911            1    0            9     5         0                 1   \n",
       "\n",
       "        GenHealth  SleepTime  Asthma  KidneyDisease  SkinCancer  \n",
       "0               4          5       1              0           1  \n",
       "1               4          7       0              0           0  \n",
       "2               1          8       1              0           0  \n",
       "3               2          6       0              0           1  \n",
       "4               4          8       0              0           0  \n",
       "...           ...        ...     ...            ...         ...  \n",
       "548907          4          5       0              0           1  \n",
       "548908          4          6       0              0           0  \n",
       "548909          2          5       0              0           0  \n",
       "548910          2          8       0              0           0  \n",
       "548911          2          8       0              0           0  \n",
       "\n",
       "[548912 rows x 17 columns]"
      ]
     },
     "execution_count": 18,
     "metadata": {},
     "output_type": "execute_result"
    }
   ],
   "source": [
    "x_new,y_new=random_over_sampler.fit_resample(x,y)\n",
    "x_new"
   ]
  },
  {
   "cell_type": "code",
   "execution_count": 19,
   "id": "fe83a1dd",
   "metadata": {},
   "outputs": [
    {
     "data": {
      "text/plain": [
       "0         0\n",
       "1         0\n",
       "2         0\n",
       "3         0\n",
       "4         0\n",
       "         ..\n",
       "548907    1\n",
       "548908    1\n",
       "548909    1\n",
       "548910    1\n",
       "548911    1\n",
       "Name: HeartDisease, Length: 548912, dtype: int32"
      ]
     },
     "execution_count": 19,
     "metadata": {},
     "output_type": "execute_result"
    }
   ],
   "source": [
    "y_new"
   ]
  },
  {
   "cell_type": "code",
   "execution_count": 20,
   "id": "bc2a7f20",
   "metadata": {},
   "outputs": [
    {
     "data": {
      "text/plain": [
       "(548912, 17)"
      ]
     },
     "execution_count": 20,
     "metadata": {},
     "output_type": "execute_result"
    }
   ],
   "source": [
    "x_new.shape"
   ]
  },
  {
   "cell_type": "code",
   "execution_count": 21,
   "id": "f3796f4d",
   "metadata": {},
   "outputs": [
    {
     "data": {
      "text/plain": [
       "(548912,)"
      ]
     },
     "execution_count": 21,
     "metadata": {},
     "output_type": "execute_result"
    }
   ],
   "source": [
    "y_new.shape"
   ]
  },
  {
   "cell_type": "code",
   "execution_count": 22,
   "id": "c872fdc0",
   "metadata": {},
   "outputs": [
    {
     "data": {
      "text/plain": [
       "0    274456\n",
       "1    274456\n",
       "Name: HeartDisease, dtype: int64"
      ]
     },
     "execution_count": 22,
     "metadata": {},
     "output_type": "execute_result"
    }
   ],
   "source": [
    "y_new.value_counts()"
   ]
  },
  {
   "cell_type": "markdown",
   "id": "3a212b90",
   "metadata": {},
   "source": [
    "# Gaussian Naive Bayes for holdout cross validation with Randon Over Sampling\n"
   ]
  },
  {
   "cell_type": "code",
   "execution_count": 23,
   "id": "09251144",
   "metadata": {},
   "outputs": [],
   "source": [
    "from sklearn.model_selection import train_test_split \n",
    "from sklearn.naive_bayes import GaussianNB\n",
    "gnb=GaussianNB()"
   ]
  },
  {
   "cell_type": "code",
   "execution_count": 24,
   "id": "ce6a547a",
   "metadata": {},
   "outputs": [
    {
     "data": {
      "text/plain": [
       "GaussianNB()"
      ]
     },
     "execution_count": 24,
     "metadata": {},
     "output_type": "execute_result"
    }
   ],
   "source": [
    "over_xtrain,over_xtest,over_ytrain,over_ytest = train_test_split(x_new,y_new,test_size = 0.30 ,random_state =42)\n",
    "gnb.fit(over_xtrain,over_ytrain)"
   ]
  },
  {
   "cell_type": "code",
   "execution_count": 25,
   "id": "f53a84b8",
   "metadata": {},
   "outputs": [
    {
     "data": {
      "text/plain": [
       "0.7023270218735198"
      ]
     },
     "execution_count": 25,
     "metadata": {},
     "output_type": "execute_result"
    }
   ],
   "source": [
    "OverSampleing_dataset_accuracy10= gnb.score(over_xtest,over_ytest)\n",
    "OverSampleing_dataset_accuracy10"
   ]
  },
  {
   "cell_type": "markdown",
   "id": "6d7e12b8",
   "metadata": {},
   "source": [
    "# Gaussian Naive Bayes for KFold cross validation for Random Over sampling\n"
   ]
  },
  {
   "cell_type": "code",
   "execution_count": 26,
   "id": "ebd5df6e",
   "metadata": {},
   "outputs": [],
   "source": [
    "from sklearn.model_selection import KFold, cross_val_score\n",
    "kfold = KFold(n_splits = 10)"
   ]
  },
  {
   "cell_type": "code",
   "execution_count": 27,
   "id": "ae16711f",
   "metadata": {},
   "outputs": [
    {
     "data": {
      "text/plain": [
       "array([0.77759965, 0.7828281 , 0.78244157, 0.78675921, 0.77730411,\n",
       "       0.68619628, 0.5777632 , 0.57626933, 0.58137035, 0.57987648])"
      ]
     },
     "execution_count": 27,
     "metadata": {},
     "output_type": "execute_result"
    }
   ],
   "source": [
    "OverSampleingDataset_kfold_result10= cross_val_score(gnb,x_new,y_new,cv = kfold)\n",
    "OverSampleingDataset_kfold_result10"
   ]
  },
  {
   "cell_type": "code",
   "execution_count": 28,
   "id": "11278a0d",
   "metadata": {},
   "outputs": [
    {
     "data": {
      "text/plain": [
       "0.6908408292292925"
      ]
     },
     "execution_count": 28,
     "metadata": {},
     "output_type": "execute_result"
    }
   ],
   "source": [
    "OverSampleingDataset_kfold_result10.mean()"
   ]
  },
  {
   "cell_type": "markdown",
   "id": "4f13a86f",
   "metadata": {},
   "source": [
    "# Gaussian Naive Bayes for StratiFied KFold cross validation for Over sampling\n"
   ]
  },
  {
   "cell_type": "code",
   "execution_count": 29,
   "id": "cb0973bd",
   "metadata": {},
   "outputs": [],
   "source": [
    "from sklearn.model_selection import StratifiedKFold\n",
    "Stf_Kfold = StratifiedKFold(n_splits = 10)"
   ]
  },
  {
   "cell_type": "code",
   "execution_count": 30,
   "id": "f5b94a63",
   "metadata": {},
   "outputs": [
    {
     "data": {
      "text/plain": [
       "array([0.70310792, 0.70048459, 0.70793026, 0.70155399, 0.70683719,\n",
       "       0.69936784, 0.71022572, 0.69379315, 0.70505183, 0.69530524])"
      ]
     },
     "execution_count": 30,
     "metadata": {},
     "output_type": "execute_result"
    }
   ],
   "source": [
    "OverSampleingDataset_Sf_kfold_result10= cross_val_score(gnb,x_new,y_new,cv = Stf_Kfold)\n",
    "OverSampleingDataset_Sf_kfold_result10 "
   ]
  },
  {
   "cell_type": "code",
   "execution_count": 31,
   "id": "64c91a52",
   "metadata": {},
   "outputs": [
    {
     "data": {
      "text/plain": [
       "0.7023657729090217"
      ]
     },
     "execution_count": 31,
     "metadata": {},
     "output_type": "execute_result"
    }
   ],
   "source": [
    "OverSampleingDataset_Sf_kfold_result10.mean()"
   ]
  },
  {
   "cell_type": "markdown",
   "id": "71167082",
   "metadata": {},
   "source": [
    "# Now from over sampling ,we calculate all confusion matrix performance\n"
   ]
  },
  {
   "cell_type": "code",
   "execution_count": 32,
   "id": "7ca43301",
   "metadata": {},
   "outputs": [
    {
     "data": {
      "text/plain": [
       "GaussianNB()"
      ]
     },
     "execution_count": 32,
     "metadata": {},
     "output_type": "execute_result"
    }
   ],
   "source": [
    "from sklearn.metrics import classification_report,accuracy_score,confusion_matrix,plot_roc_curve\n",
    "gnb.fit(over_xtrain,over_ytrain)"
   ]
  },
  {
   "cell_type": "code",
   "execution_count": 33,
   "id": "5ccd8aa5",
   "metadata": {},
   "outputs": [
    {
     "data": {
      "text/plain": [
       "array([1, 1, 0, ..., 1, 1, 0])"
      ]
     },
     "execution_count": 33,
     "metadata": {},
     "output_type": "execute_result"
    }
   ],
   "source": [
    "pred_y10=gnb.predict(over_xtest)#Predicted Class \n",
    "pred_y10"
   ]
  },
  {
   "cell_type": "code",
   "execution_count": 34,
   "id": "aa6f3164",
   "metadata": {},
   "outputs": [
    {
     "data": {
      "text/plain": [
       "374936    1\n",
       "319916    1\n",
       "56188     0\n",
       "444156    1\n",
       "170814    0\n",
       "         ..\n",
       "285161    0\n",
       "217312    1\n",
       "353792    1\n",
       "318432    1\n",
       "216193    0\n",
       "Name: HeartDisease, Length: 164674, dtype: int32"
      ]
     },
     "execution_count": 34,
     "metadata": {},
     "output_type": "execute_result"
    }
   ],
   "source": [
    "over_ytest"
   ]
  },
  {
   "cell_type": "code",
   "execution_count": 35,
   "id": "08834b33",
   "metadata": {},
   "outputs": [
    {
     "data": {
      "text/plain": [
       "array([1, 1, 0, ..., 1, 1, 0])"
      ]
     },
     "execution_count": 35,
     "metadata": {},
     "output_type": "execute_result"
    }
   ],
   "source": [
    "np.array(over_ytest) #actual class/y"
   ]
  },
  {
   "cell_type": "code",
   "execution_count": 36,
   "id": "0a79ac80",
   "metadata": {},
   "outputs": [
    {
     "name": "stdout",
     "output_type": "stream",
     "text": [
      "              precision    recall  f1-score   support\n",
      "\n",
      "           0       0.67      0.81      0.73     82143\n",
      "           1       0.76      0.60      0.67     82531\n",
      "\n",
      "    accuracy                           0.70    164674\n",
      "   macro avg       0.71      0.70      0.70    164674\n",
      "weighted avg       0.71      0.70      0.70    164674\n",
      "\n"
     ]
    }
   ],
   "source": [
    "print(classification_report(over_ytest,pred_y10))"
   ]
  },
  {
   "cell_type": "code",
   "execution_count": 37,
   "id": "cab30ced",
   "metadata": {},
   "outputs": [
    {
     "data": {
      "text/plain": [
       "array([[66172, 15971],\n",
       "       [33048, 49483]], dtype=int64)"
      ]
     },
     "execution_count": 37,
     "metadata": {},
     "output_type": "execute_result"
    }
   ],
   "source": [
    "cm10=confusion_matrix(over_ytest,pred_y10)\n",
    "cm10"
   ]
  },
  {
   "cell_type": "markdown",
   "id": "f154d49a",
   "metadata": {},
   "source": [
    "# Visualization with heatmap performance of confussion matrix for Gaussian NB\n"
   ]
  },
  {
   "cell_type": "code",
   "execution_count": 38,
   "id": "0835fcfd",
   "metadata": {},
   "outputs": [
    {
     "data": {
      "text/plain": [
       "Text(33.0, 0.5, 'Actual Values')"
      ]
     },
     "execution_count": 38,
     "metadata": {},
     "output_type": "execute_result"
    },
    {
     "data": {
      "image/png": "[encoded data removed]",
      "text/plain": [
       "<Figure size 432x288 with 2 Axes>"
      ]
     },
     "metadata": {
      "needs_background": "light"
     },
     "output_type": "display_data"
    }
   ],
   "source": [
    "sns.heatmap(cm10,annot=True)\n",
    "plt.xlabel('Predicted Values')\n",
    "plt.ylabel('Actual Values')"
   ]
  },
  {
   "cell_type": "code",
   "execution_count": 39,
   "id": "fb4c213d",
   "metadata": {},
   "outputs": [],
   "source": [
    "tp,fn,fp,tn=confusion_matrix(over_ytest,pred_y10).reshape(-1)"
   ]
  },
  {
   "cell_type": "code",
   "execution_count": 40,
   "id": "30b6e7b5",
   "metadata": {},
   "outputs": [
    {
     "data": {
      "text/plain": [
       "66172"
      ]
     },
     "execution_count": 40,
     "metadata": {},
     "output_type": "execute_result"
    }
   ],
   "source": [
    "tp"
   ]
  },
  {
   "cell_type": "code",
   "execution_count": 41,
   "id": "dd075f36",
   "metadata": {},
   "outputs": [
    {
     "data": {
      "text/plain": [
       "15971"
      ]
     },
     "execution_count": 41,
     "metadata": {},
     "output_type": "execute_result"
    }
   ],
   "source": [
    "fn"
   ]
  },
  {
   "cell_type": "code",
   "execution_count": 42,
   "id": "d867866a",
   "metadata": {},
   "outputs": [
    {
     "data": {
      "text/plain": [
       "33048"
      ]
     },
     "execution_count": 42,
     "metadata": {},
     "output_type": "execute_result"
    }
   ],
   "source": [
    "fp"
   ]
  },
  {
   "cell_type": "code",
   "execution_count": 43,
   "id": "21dbd603",
   "metadata": {},
   "outputs": [
    {
     "data": {
      "text/plain": [
       "49483"
      ]
     },
     "execution_count": 43,
     "metadata": {},
     "output_type": "execute_result"
    }
   ],
   "source": [
    "tn"
   ]
  },
  {
   "cell_type": "markdown",
   "id": "c8d5c99a",
   "metadata": {},
   "source": [
    "# Accuracy"
   ]
  },
  {
   "cell_type": "code",
   "execution_count": 44,
   "id": "eda0f37f",
   "metadata": {},
   "outputs": [
    {
     "data": {
      "text/plain": [
       "0.7023270218735198"
      ]
     },
     "execution_count": 44,
     "metadata": {},
     "output_type": "execute_result"
    }
   ],
   "source": [
    "(tp+tn)/(tp+tn+fn+fp)"
   ]
  },
  {
   "cell_type": "code",
   "execution_count": 45,
   "id": "fe5d7857",
   "metadata": {},
   "outputs": [
    {
     "name": "stdout",
     "output_type": "stream",
     "text": [
      "0.6669219915339649\n"
     ]
    }
   ],
   "source": [
    "#precision\n",
    "ppv = tp/(tp+fp)\n",
    "print(ppv)"
   ]
  },
  {
   "cell_type": "code",
   "execution_count": 46,
   "id": "16a605e5",
   "metadata": {},
   "outputs": [
    {
     "name": "stdout",
     "output_type": "stream",
     "text": [
      "0.8055707729203949\n"
     ]
    }
   ],
   "source": [
    "#Recall\n",
    "trp = tp/(tp+fn)\n",
    "print(trp)"
   ]
  },
  {
   "cell_type": "code",
   "execution_count": 47,
   "id": "55112f17",
   "metadata": {},
   "outputs": [
    {
     "name": "stdout",
     "output_type": "stream",
     "text": [
      "0.4004313530673323\n"
     ]
    }
   ],
   "source": [
    "#1-Specificity\n",
    "fpr = fp/(fp+tn)\n",
    "print(fpr)"
   ]
  },
  {
   "cell_type": "code",
   "execution_count": 48,
   "id": "bb5c07e2",
   "metadata": {},
   "outputs": [
    {
     "name": "stdout",
     "output_type": "stream",
     "text": [
      "0.7297188511438386\n"
     ]
    }
   ],
   "source": [
    "#F1-score\n",
    "f1_score = (2*ppv*trp)/(ppv+trp)\n",
    "print(f1_score)"
   ]
  },
  {
   "cell_type": "code",
   "execution_count": 49,
   "id": "3ee54dfd",
   "metadata": {},
   "outputs": [
    {
     "name": "stdout",
     "output_type": "stream",
     "text": [
      "0.5995686469326678\n"
     ]
    }
   ],
   "source": [
    "#Specificity\n",
    "tnr = tn/(tn+fp)\n",
    "print(tnr)"
   ]
  },
  {
   "cell_type": "code",
   "execution_count": 50,
   "id": "3230f072",
   "metadata": {},
   "outputs": [
    {
     "name": "stdout",
     "output_type": "stream",
     "text": [
      "0.5744546014879635\n"
     ]
    }
   ],
   "source": [
    "#CSI\n",
    "csi = tp/(tp+fn+fp)\n",
    "print(csi)"
   ]
  },
  {
   "cell_type": "code",
   "execution_count": 51,
   "id": "6c4707de",
   "metadata": {},
   "outputs": [
    {
     "name": "stdout",
     "output_type": "stream",
     "text": [
      "0.3330780084660351\n"
     ]
    }
   ],
   "source": [
    "#FDR\n",
    "fdr = fp/(tp+fp)\n",
    "print(fdr)"
   ]
  },
  {
   "cell_type": "markdown",
   "id": "5390000b",
   "metadata": {},
   "source": [
    "# Roc and Auc curve for Gaussian NB\n"
   ]
  },
  {
   "cell_type": "code",
   "execution_count": 52,
   "id": "9a13def2",
   "metadata": {},
   "outputs": [
    {
     "name": "stderr",
     "output_type": "stream",
     "text": [
      "C:\\Users\\WIN\\Anaconda3\\lib\\site-packages\\sklearn\\utils\\deprecation.py:87: FutureWarning: Function plot_roc_curve is deprecated; Function :func:`plot_roc_curve` is deprecated in 1.0 and will be removed in 1.2. Use one of the class methods: :meth:`sklearn.metric.RocCurveDisplay.from_predictions` or :meth:`sklearn.metric.RocCurveDisplay.from_estimator`.\n",
      "  warnings.warn(msg, category=FutureWarning)\n"
     ]
    },
    {
     "data": {
      "text/plain": [
       "[<matplotlib.lines.Line2D at 0x274801b9f40>]"
      ]
     },
     "execution_count": 52,
     "metadata": {},
     "output_type": "execute_result"
    },
    {
     "data": {
      "image/png": "[encoded data removed]",
      "text/plain": [
       "<Figure size 432x288 with 1 Axes>"
      ]
     },
     "metadata": {
      "needs_background": "light"
     },
     "output_type": "display_data"
    }
   ],
   "source": [
    "plot_roc_curve(gnb,over_xtest,over_ytest,color='red')\n",
    "plt.plot([0,1],[0,1])"
   ]
  },
  {
   "cell_type": "markdown",
   "id": "16783cad",
   "metadata": {},
   "source": [
    "# Tunning for Gaussian NB"
   ]
  },
  {
   "cell_type": "code",
   "execution_count": null,
   "id": "6d958ddf",
   "metadata": {},
   "outputs": [],
   "source": []
  },
  {
   "cell_type": "code",
   "execution_count": null,
   "id": "f99f5785",
   "metadata": {},
   "outputs": [],
   "source": []
  },
  {
   "cell_type": "code",
   "execution_count": null,
   "id": "71ecb6cd",
   "metadata": {},
   "outputs": [],
   "source": []
  },
  {
   "cell_type": "code",
   "execution_count": null,
   "id": "2c0f1114",
   "metadata": {},
   "outputs": [],
   "source": []
  },
  {
   "cell_type": "code",
   "execution_count": null,
   "id": "a26b51a8",
   "metadata": {},
   "outputs": [],
   "source": []
  }
 ],
 "metadata": {
  "kernelspec": {
   "display_name": "Python 3 (ipykernel)",
   "language": "python",
   "name": "python3"
  },
  "language_info": {
   "codemirror_mode": {
    "name": "ipython",
    "version": 3
   },
   "file_extension": ".py",
   "mimetype": "text/x-python",
   "name": "python",
   "nbconvert_exporter": "python",
   "pygments_lexer": "ipython3",
   "version": "3.9.7"
  }
 },
 "nbformat": 4,
 "nbformat_minor": 5
}
