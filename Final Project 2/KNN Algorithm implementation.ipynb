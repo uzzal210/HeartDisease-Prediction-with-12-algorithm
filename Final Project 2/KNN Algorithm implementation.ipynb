{
 "cells": [
  {
   "cell_type": "code",
   "execution_count": 1,
   "id": "a94c007f",
   "metadata": {},
   "outputs": [],
   "source": [
    "import pandas as pd\n",
    "import numpy as np\n",
    "import seaborn as sns\n",
    "import matplotlib.pyplot as plt"
   ]
  },
  {
   "cell_type": "code",
   "execution_count": 2,
   "id": "78dac2f3",
   "metadata": {},
   "outputs": [],
   "source": [
    "df=pd.read_csv('Heart Disease.csv')"
   ]
  },
  {
   "cell_type": "code",
   "execution_count": 3,
   "id": "a3be6cb9",
   "metadata": {},
   "outputs": [
    {
     "data": {
      "text/plain": [
       "(319795, 18)"
      ]
     },
     "execution_count": 3,
     "metadata": {},
     "output_type": "execute_result"
    }
   ],
   "source": [
    "df.shape"
   ]
  },
  {
   "cell_type": "markdown",
   "id": "94fa1a47",
   "metadata": {},
   "source": [
    "# Removing Duplicate"
   ]
  },
  {
   "cell_type": "code",
   "execution_count": 4,
   "id": "1d15ba85",
   "metadata": {},
   "outputs": [],
   "source": [
    "df.drop_duplicates(inplace=True)"
   ]
  },
  {
   "cell_type": "code",
   "execution_count": 5,
   "id": "14f83a6c",
   "metadata": {},
   "outputs": [
    {
     "data": {
      "text/plain": [
       "(301717, 18)"
      ]
     },
     "execution_count": 5,
     "metadata": {},
     "output_type": "execute_result"
    }
   ],
   "source": [
    "df.shape"
   ]
  },
  {
   "cell_type": "code",
   "execution_count": 6,
   "id": "7198d9db",
   "metadata": {},
   "outputs": [
    {
     "data": {
      "text/plain": [
       "No     274456\n",
       "Yes     27261\n",
       "Name: HeartDisease, dtype: int64"
      ]
     },
     "execution_count": 6,
     "metadata": {},
     "output_type": "execute_result"
    }
   ],
   "source": [
    "df.HeartDisease.value_counts()"
   ]
  },
  {
   "cell_type": "markdown",
   "id": "7507df03",
   "metadata": {},
   "source": [
    "# Encoding The DataSet with labelEncoder"
   ]
  },
  {
   "cell_type": "code",
   "execution_count": 7,
   "id": "c3bac289",
   "metadata": {},
   "outputs": [],
   "source": [
    "from sklearn.preprocessing import LabelEncoder\n",
    "label=LabelEncoder()"
   ]
  },
  {
   "cell_type": "code",
   "execution_count": 8,
   "id": "a7d1d825",
   "metadata": {},
   "outputs": [],
   "source": [
    "from pandas.core.dtypes.common import is_numeric_dtype\n",
    "for column in df.columns:\n",
    "    if is_numeric_dtype(df[column]):\n",
    "        continue\n",
    "    else:\n",
    "        df[column]=label.fit_transform(df[column])"
   ]
  },
  {
   "cell_type": "markdown",
   "id": "d4343378",
   "metadata": {},
   "source": [
    "# Separating x and y"
   ]
  },
  {
   "cell_type": "code",
   "execution_count": 9,
   "id": "6f5f4e0f",
   "metadata": {},
   "outputs": [],
   "source": [
    "x=df.drop('HeartDisease',axis=1)\n",
    "y=df['HeartDisease']"
   ]
  },
  {
   "cell_type": "code",
   "execution_count": 10,
   "id": "0b929a27",
   "metadata": {},
   "outputs": [
    {
     "data": {
      "text/html": [
       "<div>\n",
       "<style scoped>\n",
       "    .dataframe tbody tr th:only-of-type {\n",
       "        vertical-align: middle;\n",
       "    }\n",
       "\n",
       "    .dataframe tbody tr th {\n",
       "        vertical-align: top;\n",
       "    }\n",
       "\n",
       "    .dataframe thead th {\n",
       "        text-align: right;\n",
       "    }\n",
       "</style>\n",
       "<table border=\"1\" class=\"dataframe\">\n",
       "  <thead>\n",
       "    <tr style=\"text-align: right;\">\n",
       "      <th></th>\n",
       "      <th>BMI</th>\n",
       "      <th>Smoking</th>\n",
       "      <th>AlcoholDrinking</th>\n",
       "      <th>Stroke</th>\n",
       "      <th>PhysicalHealth</th>\n",
       "      <th>MentalHealth</th>\n",
       "      <th>DiffWalking</th>\n",
       "      <th>Sex</th>\n",
       "      <th>AgeCategory</th>\n",
       "      <th>Race</th>\n",
       "      <th>Diabetic</th>\n",
       "      <th>PhysicalActivity</th>\n",
       "      <th>GenHealth</th>\n",
       "      <th>SleepTime</th>\n",
       "      <th>Asthma</th>\n",
       "      <th>KidneyDisease</th>\n",
       "      <th>SkinCancer</th>\n",
       "    </tr>\n",
       "  </thead>\n",
       "  <tbody>\n",
       "    <tr>\n",
       "      <th>0</th>\n",
       "      <td>16.60</td>\n",
       "      <td>1</td>\n",
       "      <td>0</td>\n",
       "      <td>0</td>\n",
       "      <td>3</td>\n",
       "      <td>30</td>\n",
       "      <td>0</td>\n",
       "      <td>0</td>\n",
       "      <td>7</td>\n",
       "      <td>5</td>\n",
       "      <td>2</td>\n",
       "      <td>1</td>\n",
       "      <td>4</td>\n",
       "      <td>5</td>\n",
       "      <td>1</td>\n",
       "      <td>0</td>\n",
       "      <td>1</td>\n",
       "    </tr>\n",
       "    <tr>\n",
       "      <th>1</th>\n",
       "      <td>20.34</td>\n",
       "      <td>0</td>\n",
       "      <td>0</td>\n",
       "      <td>1</td>\n",
       "      <td>0</td>\n",
       "      <td>0</td>\n",
       "      <td>0</td>\n",
       "      <td>0</td>\n",
       "      <td>12</td>\n",
       "      <td>5</td>\n",
       "      <td>0</td>\n",
       "      <td>1</td>\n",
       "      <td>4</td>\n",
       "      <td>7</td>\n",
       "      <td>0</td>\n",
       "      <td>0</td>\n",
       "      <td>0</td>\n",
       "    </tr>\n",
       "    <tr>\n",
       "      <th>2</th>\n",
       "      <td>26.58</td>\n",
       "      <td>1</td>\n",
       "      <td>0</td>\n",
       "      <td>0</td>\n",
       "      <td>20</td>\n",
       "      <td>30</td>\n",
       "      <td>0</td>\n",
       "      <td>1</td>\n",
       "      <td>9</td>\n",
       "      <td>5</td>\n",
       "      <td>2</td>\n",
       "      <td>1</td>\n",
       "      <td>1</td>\n",
       "      <td>8</td>\n",
       "      <td>1</td>\n",
       "      <td>0</td>\n",
       "      <td>0</td>\n",
       "    </tr>\n",
       "    <tr>\n",
       "      <th>3</th>\n",
       "      <td>24.21</td>\n",
       "      <td>0</td>\n",
       "      <td>0</td>\n",
       "      <td>0</td>\n",
       "      <td>0</td>\n",
       "      <td>0</td>\n",
       "      <td>0</td>\n",
       "      <td>0</td>\n",
       "      <td>11</td>\n",
       "      <td>5</td>\n",
       "      <td>0</td>\n",
       "      <td>0</td>\n",
       "      <td>2</td>\n",
       "      <td>6</td>\n",
       "      <td>0</td>\n",
       "      <td>0</td>\n",
       "      <td>1</td>\n",
       "    </tr>\n",
       "    <tr>\n",
       "      <th>4</th>\n",
       "      <td>23.71</td>\n",
       "      <td>0</td>\n",
       "      <td>0</td>\n",
       "      <td>0</td>\n",
       "      <td>28</td>\n",
       "      <td>0</td>\n",
       "      <td>1</td>\n",
       "      <td>0</td>\n",
       "      <td>4</td>\n",
       "      <td>5</td>\n",
       "      <td>0</td>\n",
       "      <td>1</td>\n",
       "      <td>4</td>\n",
       "      <td>8</td>\n",
       "      <td>0</td>\n",
       "      <td>0</td>\n",
       "      <td>0</td>\n",
       "    </tr>\n",
       "    <tr>\n",
       "      <th>...</th>\n",
       "      <td>...</td>\n",
       "      <td>...</td>\n",
       "      <td>...</td>\n",
       "      <td>...</td>\n",
       "      <td>...</td>\n",
       "      <td>...</td>\n",
       "      <td>...</td>\n",
       "      <td>...</td>\n",
       "      <td>...</td>\n",
       "      <td>...</td>\n",
       "      <td>...</td>\n",
       "      <td>...</td>\n",
       "      <td>...</td>\n",
       "      <td>...</td>\n",
       "      <td>...</td>\n",
       "      <td>...</td>\n",
       "      <td>...</td>\n",
       "    </tr>\n",
       "    <tr>\n",
       "      <th>319790</th>\n",
       "      <td>27.41</td>\n",
       "      <td>1</td>\n",
       "      <td>0</td>\n",
       "      <td>0</td>\n",
       "      <td>7</td>\n",
       "      <td>0</td>\n",
       "      <td>1</td>\n",
       "      <td>1</td>\n",
       "      <td>8</td>\n",
       "      <td>3</td>\n",
       "      <td>2</td>\n",
       "      <td>0</td>\n",
       "      <td>1</td>\n",
       "      <td>6</td>\n",
       "      <td>1</td>\n",
       "      <td>0</td>\n",
       "      <td>0</td>\n",
       "    </tr>\n",
       "    <tr>\n",
       "      <th>319791</th>\n",
       "      <td>29.84</td>\n",
       "      <td>1</td>\n",
       "      <td>0</td>\n",
       "      <td>0</td>\n",
       "      <td>0</td>\n",
       "      <td>0</td>\n",
       "      <td>0</td>\n",
       "      <td>1</td>\n",
       "      <td>3</td>\n",
       "      <td>3</td>\n",
       "      <td>0</td>\n",
       "      <td>1</td>\n",
       "      <td>4</td>\n",
       "      <td>5</td>\n",
       "      <td>1</td>\n",
       "      <td>0</td>\n",
       "      <td>0</td>\n",
       "    </tr>\n",
       "    <tr>\n",
       "      <th>319792</th>\n",
       "      <td>24.24</td>\n",
       "      <td>0</td>\n",
       "      <td>0</td>\n",
       "      <td>0</td>\n",
       "      <td>0</td>\n",
       "      <td>0</td>\n",
       "      <td>0</td>\n",
       "      <td>0</td>\n",
       "      <td>5</td>\n",
       "      <td>3</td>\n",
       "      <td>0</td>\n",
       "      <td>1</td>\n",
       "      <td>2</td>\n",
       "      <td>6</td>\n",
       "      <td>0</td>\n",
       "      <td>0</td>\n",
       "      <td>0</td>\n",
       "    </tr>\n",
       "    <tr>\n",
       "      <th>319793</th>\n",
       "      <td>32.81</td>\n",
       "      <td>0</td>\n",
       "      <td>0</td>\n",
       "      <td>0</td>\n",
       "      <td>0</td>\n",
       "      <td>0</td>\n",
       "      <td>0</td>\n",
       "      <td>0</td>\n",
       "      <td>1</td>\n",
       "      <td>3</td>\n",
       "      <td>0</td>\n",
       "      <td>0</td>\n",
       "      <td>2</td>\n",
       "      <td>12</td>\n",
       "      <td>0</td>\n",
       "      <td>0</td>\n",
       "      <td>0</td>\n",
       "    </tr>\n",
       "    <tr>\n",
       "      <th>319794</th>\n",
       "      <td>46.56</td>\n",
       "      <td>0</td>\n",
       "      <td>0</td>\n",
       "      <td>0</td>\n",
       "      <td>0</td>\n",
       "      <td>0</td>\n",
       "      <td>0</td>\n",
       "      <td>0</td>\n",
       "      <td>12</td>\n",
       "      <td>3</td>\n",
       "      <td>0</td>\n",
       "      <td>1</td>\n",
       "      <td>2</td>\n",
       "      <td>8</td>\n",
       "      <td>0</td>\n",
       "      <td>0</td>\n",
       "      <td>0</td>\n",
       "    </tr>\n",
       "  </tbody>\n",
       "</table>\n",
       "<p>301717 rows × 17 columns</p>\n",
       "</div>"
      ],
      "text/plain": [
       "          BMI  Smoking  AlcoholDrinking  Stroke  PhysicalHealth  MentalHealth  \\\n",
       "0       16.60        1                0       0               3            30   \n",
       "1       20.34        0                0       1               0             0   \n",
       "2       26.58        1                0       0              20            30   \n",
       "3       24.21        0                0       0               0             0   \n",
       "4       23.71        0                0       0              28             0   \n",
       "...       ...      ...              ...     ...             ...           ...   \n",
       "319790  27.41        1                0       0               7             0   \n",
       "319791  29.84        1                0       0               0             0   \n",
       "319792  24.24        0                0       0               0             0   \n",
       "319793  32.81        0                0       0               0             0   \n",
       "319794  46.56        0                0       0               0             0   \n",
       "\n",
       "        DiffWalking  Sex  AgeCategory  Race  Diabetic  PhysicalActivity  \\\n",
       "0                 0    0            7     5         2                 1   \n",
       "1                 0    0           12     5         0                 1   \n",
       "2                 0    1            9     5         2                 1   \n",
       "3                 0    0           11     5         0                 0   \n",
       "4                 1    0            4     5         0                 1   \n",
       "...             ...  ...          ...   ...       ...               ...   \n",
       "319790            1    1            8     3         2                 0   \n",
       "319791            0    1            3     3         0                 1   \n",
       "319792            0    0            5     3         0                 1   \n",
       "319793            0    0            1     3         0                 0   \n",
       "319794            0    0           12     3         0                 1   \n",
       "\n",
       "        GenHealth  SleepTime  Asthma  KidneyDisease  SkinCancer  \n",
       "0               4          5       1              0           1  \n",
       "1               4          7       0              0           0  \n",
       "2               1          8       1              0           0  \n",
       "3               2          6       0              0           1  \n",
       "4               4          8       0              0           0  \n",
       "...           ...        ...     ...            ...         ...  \n",
       "319790          1          6       1              0           0  \n",
       "319791          4          5       1              0           0  \n",
       "319792          2          6       0              0           0  \n",
       "319793          2         12       0              0           0  \n",
       "319794          2          8       0              0           0  \n",
       "\n",
       "[301717 rows x 17 columns]"
      ]
     },
     "execution_count": 10,
     "metadata": {},
     "output_type": "execute_result"
    }
   ],
   "source": [
    "x"
   ]
  },
  {
   "cell_type": "code",
   "execution_count": 11,
   "id": "f663a92f",
   "metadata": {},
   "outputs": [
    {
     "data": {
      "text/plain": [
       "0         0\n",
       "1         0\n",
       "2         0\n",
       "3         0\n",
       "4         0\n",
       "         ..\n",
       "319790    1\n",
       "319791    0\n",
       "319792    0\n",
       "319793    0\n",
       "319794    0\n",
       "Name: HeartDisease, Length: 301717, dtype: int32"
      ]
     },
     "execution_count": 11,
     "metadata": {},
     "output_type": "execute_result"
    }
   ],
   "source": [
    "y"
   ]
  },
  {
   "cell_type": "markdown",
   "id": "72a85e26",
   "metadata": {},
   "source": [
    "# Imbalance Data handling\n"
   ]
  },
  {
   "cell_type": "code",
   "execution_count": 12,
   "id": "8be42b31",
   "metadata": {},
   "outputs": [
    {
     "data": {
      "text/plain": [
       "0    274456\n",
       "1     27261\n",
       "Name: HeartDisease, dtype: int64"
      ]
     },
     "execution_count": 12,
     "metadata": {},
     "output_type": "execute_result"
    }
   ],
   "source": [
    "df.HeartDisease.value_counts()"
   ]
  },
  {
   "cell_type": "code",
   "execution_count": 13,
   "id": "f3b28c99",
   "metadata": {},
   "outputs": [],
   "source": [
    "not_HeartDisease=(274456/(274456+27261))*100\n",
    "HeartDisease=(27261/(274456+27261))*100"
   ]
  },
  {
   "cell_type": "code",
   "execution_count": 14,
   "id": "474bf44e",
   "metadata": {},
   "outputs": [
    {
     "name": "stdout",
     "output_type": "stream",
     "text": [
      "No HeartDisease 90.96471196518591 percent of the total people\n"
     ]
    }
   ],
   "source": [
    "print('No HeartDisease {} percent of the total people'.format(not_HeartDisease))"
   ]
  },
  {
   "cell_type": "code",
   "execution_count": 15,
   "id": "b1c2bf3c",
   "metadata": {},
   "outputs": [
    {
     "name": "stdout",
     "output_type": "stream",
     "text": [
      "HeartDisease 9.03528803481408 percent of the total people\n"
     ]
    }
   ],
   "source": [
    "print('HeartDisease {} percent of the total people'.format(HeartDisease))"
   ]
  },
  {
   "cell_type": "code",
   "execution_count": 16,
   "id": "e3fea766",
   "metadata": {},
   "outputs": [],
   "source": [
    "HeartDisease_no=df[df['HeartDisease']==0]\n",
    "HeartDisease_yes=df[df['HeartDisease']==1]"
   ]
  },
  {
   "cell_type": "code",
   "execution_count": 17,
   "id": "cb481f9e",
   "metadata": {},
   "outputs": [
    {
     "data": {
      "text/plain": [
       "(274456, 18)"
      ]
     },
     "execution_count": 17,
     "metadata": {},
     "output_type": "execute_result"
    }
   ],
   "source": [
    "HeartDisease_no.shape"
   ]
  },
  {
   "cell_type": "code",
   "execution_count": 18,
   "id": "56229a7d",
   "metadata": {},
   "outputs": [
    {
     "data": {
      "text/plain": [
       "(27261, 18)"
      ]
     },
     "execution_count": 18,
     "metadata": {},
     "output_type": "execute_result"
    }
   ],
   "source": [
    "HeartDisease_yes.shape"
   ]
  },
  {
   "cell_type": "markdown",
   "id": "e943d55e",
   "metadata": {},
   "source": [
    "# So we have to balance our dataset . Now applying Random over sampling techniques\n"
   ]
  },
  {
   "cell_type": "markdown",
   "id": "6b5b3508",
   "metadata": {},
   "source": [
    "# Over sampling\n",
    "\n"
   ]
  },
  {
   "cell_type": "code",
   "execution_count": 19,
   "id": "880b2851",
   "metadata": {},
   "outputs": [],
   "source": [
    "from imblearn.over_sampling import RandomOverSampler\n",
    "random_over_sampler = RandomOverSampler(random_state =100)\n"
   ]
  },
  {
   "cell_type": "code",
   "execution_count": 20,
   "id": "3e91ce97",
   "metadata": {},
   "outputs": [],
   "source": [
    "x_new,y_new=random_over_sampler.fit_resample(x,y)"
   ]
  },
  {
   "cell_type": "code",
   "execution_count": 21,
   "id": "595e3fe1",
   "metadata": {},
   "outputs": [
    {
     "data": {
      "text/html": [
       "<div>\n",
       "<style scoped>\n",
       "    .dataframe tbody tr th:only-of-type {\n",
       "        vertical-align: middle;\n",
       "    }\n",
       "\n",
       "    .dataframe tbody tr th {\n",
       "        vertical-align: top;\n",
       "    }\n",
       "\n",
       "    .dataframe thead th {\n",
       "        text-align: right;\n",
       "    }\n",
       "</style>\n",
       "<table border=\"1\" class=\"dataframe\">\n",
       "  <thead>\n",
       "    <tr style=\"text-align: right;\">\n",
       "      <th></th>\n",
       "      <th>BMI</th>\n",
       "      <th>Smoking</th>\n",
       "      <th>AlcoholDrinking</th>\n",
       "      <th>Stroke</th>\n",
       "      <th>PhysicalHealth</th>\n",
       "      <th>MentalHealth</th>\n",
       "      <th>DiffWalking</th>\n",
       "      <th>Sex</th>\n",
       "      <th>AgeCategory</th>\n",
       "      <th>Race</th>\n",
       "      <th>Diabetic</th>\n",
       "      <th>PhysicalActivity</th>\n",
       "      <th>GenHealth</th>\n",
       "      <th>SleepTime</th>\n",
       "      <th>Asthma</th>\n",
       "      <th>KidneyDisease</th>\n",
       "      <th>SkinCancer</th>\n",
       "    </tr>\n",
       "  </thead>\n",
       "  <tbody>\n",
       "    <tr>\n",
       "      <th>0</th>\n",
       "      <td>16.60</td>\n",
       "      <td>1</td>\n",
       "      <td>0</td>\n",
       "      <td>0</td>\n",
       "      <td>3</td>\n",
       "      <td>30</td>\n",
       "      <td>0</td>\n",
       "      <td>0</td>\n",
       "      <td>7</td>\n",
       "      <td>5</td>\n",
       "      <td>2</td>\n",
       "      <td>1</td>\n",
       "      <td>4</td>\n",
       "      <td>5</td>\n",
       "      <td>1</td>\n",
       "      <td>0</td>\n",
       "      <td>1</td>\n",
       "    </tr>\n",
       "    <tr>\n",
       "      <th>1</th>\n",
       "      <td>20.34</td>\n",
       "      <td>0</td>\n",
       "      <td>0</td>\n",
       "      <td>1</td>\n",
       "      <td>0</td>\n",
       "      <td>0</td>\n",
       "      <td>0</td>\n",
       "      <td>0</td>\n",
       "      <td>12</td>\n",
       "      <td>5</td>\n",
       "      <td>0</td>\n",
       "      <td>1</td>\n",
       "      <td>4</td>\n",
       "      <td>7</td>\n",
       "      <td>0</td>\n",
       "      <td>0</td>\n",
       "      <td>0</td>\n",
       "    </tr>\n",
       "    <tr>\n",
       "      <th>2</th>\n",
       "      <td>26.58</td>\n",
       "      <td>1</td>\n",
       "      <td>0</td>\n",
       "      <td>0</td>\n",
       "      <td>20</td>\n",
       "      <td>30</td>\n",
       "      <td>0</td>\n",
       "      <td>1</td>\n",
       "      <td>9</td>\n",
       "      <td>5</td>\n",
       "      <td>2</td>\n",
       "      <td>1</td>\n",
       "      <td>1</td>\n",
       "      <td>8</td>\n",
       "      <td>1</td>\n",
       "      <td>0</td>\n",
       "      <td>0</td>\n",
       "    </tr>\n",
       "    <tr>\n",
       "      <th>3</th>\n",
       "      <td>24.21</td>\n",
       "      <td>0</td>\n",
       "      <td>0</td>\n",
       "      <td>0</td>\n",
       "      <td>0</td>\n",
       "      <td>0</td>\n",
       "      <td>0</td>\n",
       "      <td>0</td>\n",
       "      <td>11</td>\n",
       "      <td>5</td>\n",
       "      <td>0</td>\n",
       "      <td>0</td>\n",
       "      <td>2</td>\n",
       "      <td>6</td>\n",
       "      <td>0</td>\n",
       "      <td>0</td>\n",
       "      <td>1</td>\n",
       "    </tr>\n",
       "    <tr>\n",
       "      <th>4</th>\n",
       "      <td>23.71</td>\n",
       "      <td>0</td>\n",
       "      <td>0</td>\n",
       "      <td>0</td>\n",
       "      <td>28</td>\n",
       "      <td>0</td>\n",
       "      <td>1</td>\n",
       "      <td>0</td>\n",
       "      <td>4</td>\n",
       "      <td>5</td>\n",
       "      <td>0</td>\n",
       "      <td>1</td>\n",
       "      <td>4</td>\n",
       "      <td>8</td>\n",
       "      <td>0</td>\n",
       "      <td>0</td>\n",
       "      <td>0</td>\n",
       "    </tr>\n",
       "    <tr>\n",
       "      <th>...</th>\n",
       "      <td>...</td>\n",
       "      <td>...</td>\n",
       "      <td>...</td>\n",
       "      <td>...</td>\n",
       "      <td>...</td>\n",
       "      <td>...</td>\n",
       "      <td>...</td>\n",
       "      <td>...</td>\n",
       "      <td>...</td>\n",
       "      <td>...</td>\n",
       "      <td>...</td>\n",
       "      <td>...</td>\n",
       "      <td>...</td>\n",
       "      <td>...</td>\n",
       "      <td>...</td>\n",
       "      <td>...</td>\n",
       "      <td>...</td>\n",
       "    </tr>\n",
       "    <tr>\n",
       "      <th>548907</th>\n",
       "      <td>35.43</td>\n",
       "      <td>0</td>\n",
       "      <td>0</td>\n",
       "      <td>0</td>\n",
       "      <td>0</td>\n",
       "      <td>0</td>\n",
       "      <td>0</td>\n",
       "      <td>0</td>\n",
       "      <td>12</td>\n",
       "      <td>5</td>\n",
       "      <td>0</td>\n",
       "      <td>1</td>\n",
       "      <td>4</td>\n",
       "      <td>5</td>\n",
       "      <td>0</td>\n",
       "      <td>0</td>\n",
       "      <td>1</td>\n",
       "    </tr>\n",
       "    <tr>\n",
       "      <th>548908</th>\n",
       "      <td>23.01</td>\n",
       "      <td>1</td>\n",
       "      <td>0</td>\n",
       "      <td>0</td>\n",
       "      <td>0</td>\n",
       "      <td>20</td>\n",
       "      <td>0</td>\n",
       "      <td>1</td>\n",
       "      <td>8</td>\n",
       "      <td>5</td>\n",
       "      <td>0</td>\n",
       "      <td>1</td>\n",
       "      <td>4</td>\n",
       "      <td>6</td>\n",
       "      <td>0</td>\n",
       "      <td>0</td>\n",
       "      <td>0</td>\n",
       "    </tr>\n",
       "    <tr>\n",
       "      <th>548909</th>\n",
       "      <td>30.80</td>\n",
       "      <td>0</td>\n",
       "      <td>0</td>\n",
       "      <td>0</td>\n",
       "      <td>0</td>\n",
       "      <td>0</td>\n",
       "      <td>0</td>\n",
       "      <td>0</td>\n",
       "      <td>10</td>\n",
       "      <td>4</td>\n",
       "      <td>2</td>\n",
       "      <td>0</td>\n",
       "      <td>2</td>\n",
       "      <td>5</td>\n",
       "      <td>0</td>\n",
       "      <td>0</td>\n",
       "      <td>0</td>\n",
       "    </tr>\n",
       "    <tr>\n",
       "      <th>548910</th>\n",
       "      <td>44.63</td>\n",
       "      <td>0</td>\n",
       "      <td>0</td>\n",
       "      <td>0</td>\n",
       "      <td>0</td>\n",
       "      <td>7</td>\n",
       "      <td>1</td>\n",
       "      <td>0</td>\n",
       "      <td>9</td>\n",
       "      <td>2</td>\n",
       "      <td>2</td>\n",
       "      <td>0</td>\n",
       "      <td>2</td>\n",
       "      <td>8</td>\n",
       "      <td>0</td>\n",
       "      <td>0</td>\n",
       "      <td>0</td>\n",
       "    </tr>\n",
       "    <tr>\n",
       "      <th>548911</th>\n",
       "      <td>30.90</td>\n",
       "      <td>0</td>\n",
       "      <td>0</td>\n",
       "      <td>0</td>\n",
       "      <td>0</td>\n",
       "      <td>10</td>\n",
       "      <td>1</td>\n",
       "      <td>0</td>\n",
       "      <td>9</td>\n",
       "      <td>5</td>\n",
       "      <td>0</td>\n",
       "      <td>1</td>\n",
       "      <td>2</td>\n",
       "      <td>8</td>\n",
       "      <td>0</td>\n",
       "      <td>0</td>\n",
       "      <td>0</td>\n",
       "    </tr>\n",
       "  </tbody>\n",
       "</table>\n",
       "<p>548912 rows × 17 columns</p>\n",
       "</div>"
      ],
      "text/plain": [
       "          BMI  Smoking  AlcoholDrinking  Stroke  PhysicalHealth  MentalHealth  \\\n",
       "0       16.60        1                0       0               3            30   \n",
       "1       20.34        0                0       1               0             0   \n",
       "2       26.58        1                0       0              20            30   \n",
       "3       24.21        0                0       0               0             0   \n",
       "4       23.71        0                0       0              28             0   \n",
       "...       ...      ...              ...     ...             ...           ...   \n",
       "548907  35.43        0                0       0               0             0   \n",
       "548908  23.01        1                0       0               0            20   \n",
       "548909  30.80        0                0       0               0             0   \n",
       "548910  44.63        0                0       0               0             7   \n",
       "548911  30.90        0                0       0               0            10   \n",
       "\n",
       "        DiffWalking  Sex  AgeCategory  Race  Diabetic  PhysicalActivity  \\\n",
       "0                 0    0            7     5         2                 1   \n",
       "1                 0    0           12     5         0                 1   \n",
       "2                 0    1            9     5         2                 1   \n",
       "3                 0    0           11     5         0                 0   \n",
       "4                 1    0            4     5         0                 1   \n",
       "...             ...  ...          ...   ...       ...               ...   \n",
       "548907            0    0           12     5         0                 1   \n",
       "548908            0    1            8     5         0                 1   \n",
       "548909            0    0           10     4         2                 0   \n",
       "548910            1    0            9     2         2                 0   \n",
       "548911            1    0            9     5         0                 1   \n",
       "\n",
       "        GenHealth  SleepTime  Asthma  KidneyDisease  SkinCancer  \n",
       "0               4          5       1              0           1  \n",
       "1               4          7       0              0           0  \n",
       "2               1          8       1              0           0  \n",
       "3               2          6       0              0           1  \n",
       "4               4          8       0              0           0  \n",
       "...           ...        ...     ...            ...         ...  \n",
       "548907          4          5       0              0           1  \n",
       "548908          4          6       0              0           0  \n",
       "548909          2          5       0              0           0  \n",
       "548910          2          8       0              0           0  \n",
       "548911          2          8       0              0           0  \n",
       "\n",
       "[548912 rows x 17 columns]"
      ]
     },
     "execution_count": 21,
     "metadata": {},
     "output_type": "execute_result"
    }
   ],
   "source": [
    "#x1_new=x2_new=x3_new=x4_new=x5_new=x6_new=x7_new=x8_new=x9_new=x_new\n",
    "x_new"
   ]
  },
  {
   "cell_type": "code",
   "execution_count": 22,
   "id": "42df2511",
   "metadata": {},
   "outputs": [],
   "source": [
    "#y1_new=y2_new=y3_new=y4_new=y5_new=y6_new=y7_new=y8_new=y9_new=y_new"
   ]
  },
  {
   "cell_type": "code",
   "execution_count": 23,
   "id": "755efd15",
   "metadata": {},
   "outputs": [
    {
     "data": {
      "text/plain": [
       "0         0\n",
       "1         0\n",
       "2         0\n",
       "3         0\n",
       "4         0\n",
       "         ..\n",
       "548907    1\n",
       "548908    1\n",
       "548909    1\n",
       "548910    1\n",
       "548911    1\n",
       "Name: HeartDisease, Length: 548912, dtype: int32"
      ]
     },
     "execution_count": 23,
     "metadata": {},
     "output_type": "execute_result"
    }
   ],
   "source": [
    "y_new"
   ]
  },
  {
   "cell_type": "code",
   "execution_count": 24,
   "id": "ff2e1901",
   "metadata": {},
   "outputs": [
    {
     "data": {
      "text/plain": [
       "(548912, 17)"
      ]
     },
     "execution_count": 24,
     "metadata": {},
     "output_type": "execute_result"
    }
   ],
   "source": [
    "x_new.shape"
   ]
  },
  {
   "cell_type": "code",
   "execution_count": 25,
   "id": "393ed55b",
   "metadata": {},
   "outputs": [
    {
     "data": {
      "text/plain": [
       "(548912,)"
      ]
     },
     "execution_count": 25,
     "metadata": {},
     "output_type": "execute_result"
    }
   ],
   "source": [
    "y_new.shape\n"
   ]
  },
  {
   "cell_type": "code",
   "execution_count": 26,
   "id": "b524c080",
   "metadata": {},
   "outputs": [
    {
     "data": {
      "text/plain": [
       "0    274456\n",
       "1    274456\n",
       "Name: HeartDisease, dtype: int64"
      ]
     },
     "execution_count": 26,
     "metadata": {},
     "output_type": "execute_result"
    }
   ],
   "source": [
    "y_new.value_counts()"
   ]
  },
  {
   "cell_type": "markdown",
   "id": "f96b0725",
   "metadata": {},
   "source": [
    "# 3-> K Nearest Neighbors Algorithm implementation\n"
   ]
  },
  {
   "cell_type": "markdown",
   "id": "8779c63b",
   "metadata": {},
   "source": [
    "# KNN for holdout cross validation with Randon Over Sampling\n"
   ]
  },
  {
   "cell_type": "code",
   "execution_count": 27,
   "id": "52f5fd43",
   "metadata": {},
   "outputs": [],
   "source": [
    "from sklearn.model_selection import train_test_split \n",
    "from sklearn.neighbors import KNeighborsClassifier\n",
    "knn=KNeighborsClassifier()\n"
   ]
  },
  {
   "cell_type": "code",
   "execution_count": 28,
   "id": "624b30f6",
   "metadata": {},
   "outputs": [
    {
     "data": {
      "text/plain": [
       "KNeighborsClassifier()"
      ]
     },
     "execution_count": 28,
     "metadata": {},
     "output_type": "execute_result"
    }
   ],
   "source": [
    "over_xtrain,over_xtest,over_ytrain,over_ytest = train_test_split(x_new,y_new,test_size = 0.30 ,random_state =42)\n",
    "knn.fit(over_xtrain,over_ytrain)\n"
   ]
  },
  {
   "cell_type": "code",
   "execution_count": 29,
   "id": "45cfe159",
   "metadata": {},
   "outputs": [
    {
     "data": {
      "text/plain": [
       "0.8803089740942711"
      ]
     },
     "execution_count": 29,
     "metadata": {},
     "output_type": "execute_result"
    }
   ],
   "source": [
    "OverSampleing_dataset_accuracy2 = knn.score(over_xtest,over_ytest)\n",
    "OverSampleing_dataset_accuracy2"
   ]
  },
  {
   "cell_type": "markdown",
   "id": "f61fbad0",
   "metadata": {},
   "source": [
    "# KFold cross validation for Random Over sampling\n"
   ]
  },
  {
   "cell_type": "code",
   "execution_count": 30,
   "id": "c77132e8",
   "metadata": {},
   "outputs": [],
   "source": [
    "from sklearn.model_selection import KFold, cross_val_score\n",
    "kfold = KFold(n_splits = 10)\n"
   ]
  },
  {
   "cell_type": "code",
   "execution_count": null,
   "id": "4fbaa0b1",
   "metadata": {},
   "outputs": [],
   "source": [
    "OverSampleingDataset_kfold_result2 = cross_val_score(knn,x_new,y_new,cv = kfold)\n",
    "OverSampleingDataset_kfold_result2"
   ]
  },
  {
   "cell_type": "code",
   "execution_count": null,
   "id": "6d2a12fa",
   "metadata": {},
   "outputs": [],
   "source": [
    "OverSampleingDataset_kfold_result2.mean()"
   ]
  },
  {
   "cell_type": "markdown",
   "id": "5ab2e395",
   "metadata": {},
   "source": [
    "# StratiFied KFold cross validation for Over sampling\n"
   ]
  },
  {
   "cell_type": "code",
   "execution_count": null,
   "id": "a44a7e69",
   "metadata": {},
   "outputs": [],
   "source": [
    "from sklearn.model_selection import StratifiedKFold\n",
    "Stf_Kfold = StratifiedKFold(n_splits = 10)"
   ]
  },
  {
   "cell_type": "code",
   "execution_count": null,
   "id": "ebf8c74b",
   "metadata": {},
   "outputs": [],
   "source": [
    "OverSampleingDataset_Sf_kfold_result2 = cross_val_score(knn,x_new,y_new,cv = Stf_Kfold)\n",
    "OverSampleingDataset_Sf_kfold_result2"
   ]
  },
  {
   "cell_type": "code",
   "execution_count": null,
   "id": "193cac85",
   "metadata": {},
   "outputs": [],
   "source": [
    "OverSampleingDataset_Sf_kfold_result2.mean()"
   ]
  },
  {
   "cell_type": "markdown",
   "id": "38f31f4a",
   "metadata": {},
   "source": [
    "# Now from over sampling ,we calculate all confusion matrix performance"
   ]
  },
  {
   "cell_type": "code",
   "execution_count": null,
   "id": "4fe469ea",
   "metadata": {},
   "outputs": [],
   "source": [
    "from sklearn.metrics import classification_report,accuracy_score,confusion_matrix,plot_roc_curve\n",
    "knn.fit(over_xtrain,over_ytrain)"
   ]
  },
  {
   "cell_type": "code",
   "execution_count": null,
   "id": "1a4daf15",
   "metadata": {},
   "outputs": [],
   "source": [
    "pred_y2=knn.predict(over_xtest)#Predicted Class \n",
    "pred_y2"
   ]
  },
  {
   "cell_type": "code",
   "execution_count": null,
   "id": "80e11a67",
   "metadata": {},
   "outputs": [],
   "source": [
    "over_ytest"
   ]
  },
  {
   "cell_type": "code",
   "execution_count": null,
   "id": "869bedf2",
   "metadata": {},
   "outputs": [],
   "source": [
    "np.array(over_ytest) #actual class/y"
   ]
  },
  {
   "cell_type": "code",
   "execution_count": null,
   "id": "6ccc4fc2",
   "metadata": {},
   "outputs": [],
   "source": [
    "print(classification_report(over_ytest,pred_y2))"
   ]
  },
  {
   "cell_type": "code",
   "execution_count": null,
   "id": "416b3e98",
   "metadata": {},
   "outputs": [],
   "source": [
    "cm2=confusion_matrix(over_ytest,pred_y2)\n",
    "cm2"
   ]
  },
  {
   "cell_type": "markdown",
   "id": "7406db19",
   "metadata": {},
   "source": [
    "# Visualization with heatmap performance of confussion matrix for KNN"
   ]
  },
  {
   "cell_type": "code",
   "execution_count": null,
   "id": "7f049b0e",
   "metadata": {},
   "outputs": [],
   "source": [
    "sns.heatmap(cm2,annot=True)\n",
    "plt.xlabel('Predicted Values')\n",
    "plt.ylabel('Actual Values')"
   ]
  },
  {
   "cell_type": "code",
   "execution_count": null,
   "id": "928d6983",
   "metadata": {},
   "outputs": [],
   "source": [
    "tp,fn,fp,tn=confusion_matrix(over_ytest,pred_y2).reshape(-1)"
   ]
  },
  {
   "cell_type": "code",
   "execution_count": null,
   "id": "4b9a2246",
   "metadata": {},
   "outputs": [],
   "source": [
    "tp"
   ]
  },
  {
   "cell_type": "code",
   "execution_count": null,
   "id": "531f2723",
   "metadata": {},
   "outputs": [],
   "source": [
    "fn"
   ]
  },
  {
   "cell_type": "code",
   "execution_count": null,
   "id": "e4c4d204",
   "metadata": {},
   "outputs": [],
   "source": [
    "fp"
   ]
  },
  {
   "cell_type": "code",
   "execution_count": null,
   "id": "b5244908",
   "metadata": {},
   "outputs": [],
   "source": [
    "tn"
   ]
  },
  {
   "cell_type": "markdown",
   "id": "311bb20d",
   "metadata": {},
   "source": [
    "# Accuracy"
   ]
  },
  {
   "cell_type": "code",
   "execution_count": null,
   "id": "7f910c68",
   "metadata": {},
   "outputs": [],
   "source": [
    "(tp+tn)/(tp+fn+fp+tn)"
   ]
  },
  {
   "cell_type": "code",
   "execution_count": null,
   "id": "63fc7d4b",
   "metadata": {},
   "outputs": [],
   "source": [
    "#precision\n",
    "ppv = tp/(tp+fp)\n",
    "print(ppv)"
   ]
  },
  {
   "cell_type": "code",
   "execution_count": null,
   "id": "2552356d",
   "metadata": {},
   "outputs": [],
   "source": [
    "#Recall\n",
    "trp = tp/(tp+fn)\n",
    "print(trp)"
   ]
  },
  {
   "cell_type": "code",
   "execution_count": null,
   "id": "f748d21a",
   "metadata": {},
   "outputs": [],
   "source": [
    "#1-Specificity\n",
    "fpr = fp/(fp+tn)\n",
    "print(fpr)"
   ]
  },
  {
   "cell_type": "code",
   "execution_count": null,
   "id": "849bb921",
   "metadata": {},
   "outputs": [],
   "source": [
    "#F1-score\n",
    "f1_score = (2*ppv*trp)/(ppv+trp)\n",
    "print(f1_score)"
   ]
  },
  {
   "cell_type": "code",
   "execution_count": null,
   "id": "6e234f01",
   "metadata": {},
   "outputs": [],
   "source": [
    "#Specificity\n",
    "tnr = tn/(tn+fp)\n",
    "print(tnr)"
   ]
  },
  {
   "cell_type": "code",
   "execution_count": null,
   "id": "2fb073a9",
   "metadata": {},
   "outputs": [],
   "source": [
    "#CSI\n",
    "csi = tp/(tp+fn+fp)\n",
    "print(csi)"
   ]
  },
  {
   "cell_type": "code",
   "execution_count": null,
   "id": "f607d748",
   "metadata": {},
   "outputs": [],
   "source": [
    "#FDR\n",
    "fdr = fp/(tp+fp)\n",
    "print(fdr)"
   ]
  },
  {
   "cell_type": "markdown",
   "id": "ea3b4439",
   "metadata": {},
   "source": [
    "# Roc and Auc curve for KNN\n"
   ]
  },
  {
   "cell_type": "code",
   "execution_count": null,
   "id": "1e2642d5",
   "metadata": {},
   "outputs": [],
   "source": [
    "plot_roc_curve(knn,over_xtest,over_ytest,color='red')\n",
    "plt.plot([0,1],[0,1])"
   ]
  },
  {
   "cell_type": "markdown",
   "id": "4c7104a3",
   "metadata": {},
   "source": [
    "# Now Optimizing KNN Algorithm\n"
   ]
  },
  {
   "cell_type": "markdown",
   "id": "56fd6381",
   "metadata": {},
   "source": [
    "# Tuning KNN Algorithm using Randomized Search CV"
   ]
  },
  {
   "cell_type": "code",
   "execution_count": null,
   "id": "a8a8d1b1",
   "metadata": {},
   "outputs": [],
   "source": [
    "from sklearn.model_selection import RandomizedSearchCV"
   ]
  },
  {
   "cell_type": "markdown",
   "id": "06f74820",
   "metadata": {},
   "source": [
    "# Assign Parameters"
   ]
  },
  {
   "cell_type": "code",
   "execution_count": null,
   "id": "726b78e2",
   "metadata": {},
   "outputs": [],
   "source": [
    "n_neighbors=np.random.randint(1,12,20)\n",
    "weights=['uniform','distance']\n",
    "algorithm=['auto','ball_tree','kd_tree','brute']\n",
    "leaf_size=np.random.randint(1,12,20)\n",
    "p=np.random.randint(1,12,20)\n",
    "\n",
    "parameters={\n",
    "    'n_neighbors':n_neighbors,\n",
    "    'weights':weights,\n",
    "    'algorithm':algorithm,\n",
    "    'leaf_size':leaf_size,\n",
    "    'p':p\n",
    "}"
   ]
  },
  {
   "cell_type": "code",
   "execution_count": null,
   "id": "9299eee1",
   "metadata": {},
   "outputs": [],
   "source": [
    "print(parameters)"
   ]
  },
  {
   "cell_type": "code",
   "execution_count": null,
   "id": "10a82eb5",
   "metadata": {},
   "outputs": [],
   "source": [
    "import warnings\n",
    "warnings.filterwarnings('ignore')\n",
    "r=RandomizedSearchCV(knn,parameters,n_iter=100,cv=3)\n",
    "r.fit(over_xtrain,over_ytrain)"
   ]
  },
  {
   "cell_type": "code",
   "execution_count": null,
   "id": "2d0b1819",
   "metadata": {},
   "outputs": [],
   "source": [
    "r.cv_results_"
   ]
  },
  {
   "cell_type": "code",
   "execution_count": null,
   "id": "26c746f7",
   "metadata": {},
   "outputs": [],
   "source": [
    "result=pd.DataFrame(r.cv_results_)\n",
    "result"
   ]
  },
  {
   "cell_type": "code",
   "execution_count": null,
   "id": "c9d7bc61",
   "metadata": {},
   "outputs": [],
   "source": [
    "new_r=r.best_estimator_\n",
    "new_r"
   ]
  },
  {
   "cell_type": "code",
   "execution_count": null,
   "id": "ac1495fb",
   "metadata": {},
   "outputs": [],
   "source": [
    "new_r.fit(over_xtrain,over_ytrain)"
   ]
  },
  {
   "cell_type": "code",
   "execution_count": null,
   "id": "b0e13f15",
   "metadata": {},
   "outputs": [],
   "source": [
    "new_r.score(over_xtrain,over_ytrain)"
   ]
  },
  {
   "cell_type": "code",
   "execution_count": null,
   "id": "fc5f0f74",
   "metadata": {},
   "outputs": [],
   "source": []
  },
  {
   "cell_type": "code",
   "execution_count": null,
   "id": "47a61b05",
   "metadata": {},
   "outputs": [],
   "source": []
  },
  {
   "cell_type": "code",
   "execution_count": null,
   "id": "523efcaf",
   "metadata": {},
   "outputs": [],
   "source": []
  },
  {
   "cell_type": "code",
   "execution_count": null,
   "id": "691b5015",
   "metadata": {},
   "outputs": [],
   "source": []
  },
  {
   "cell_type": "code",
   "execution_count": null,
   "id": "20ee1190",
   "metadata": {},
   "outputs": [],
   "source": []
  },
  {
   "cell_type": "code",
   "execution_count": null,
   "id": "f7b6721b",
   "metadata": {},
   "outputs": [],
   "source": []
  }
 ],
 "metadata": {
  "kernelspec": {
   "display_name": "Python 3 (ipykernel)",
   "language": "python",
   "name": "python3"
  },
  "language_info": {
   "codemirror_mode": {
    "name": "ipython",
    "version": 3
   },
   "file_extension": ".py",
   "mimetype": "text/x-python",
   "name": "python",
   "nbconvert_exporter": "python",
   "pygments_lexer": "ipython3",
   "version": "3.9.7"
  }
 },
 "nbformat": 4,
 "nbformat_minor": 5
}
