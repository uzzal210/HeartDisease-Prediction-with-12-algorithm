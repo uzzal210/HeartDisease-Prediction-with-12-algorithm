{
 "cells": [
  {
   "cell_type": "markdown",
   "id": "67fb197d",
   "metadata": {},
   "source": [
    "# 2->RandomForestClassifier algorithm implementation"
   ]
  },
  {
   "cell_type": "markdown",
   "id": "475a2d22",
   "metadata": {},
   "source": [
    "# RFC for holdout cross validation with Randon Over Sampling"
   ]
  },
  {
   "cell_type": "code",
   "execution_count": 1,
   "id": "6c35b041",
   "metadata": {},
   "outputs": [],
   "source": [
    "import pandas as pd\n",
    "import numpy as np\n",
    "import seaborn as sns\n",
    "import matplotlib.pyplot as plt"
   ]
  },
  {
   "cell_type": "code",
   "execution_count": 2,
   "id": "e05b7066",
   "metadata": {},
   "outputs": [
    {
     "data": {
      "text/plain": [
       "(319795, 18)"
      ]
     },
     "execution_count": 2,
     "metadata": {},
     "output_type": "execute_result"
    }
   ],
   "source": [
    "df=pd.read_csv('Heart Disease.csv')\n",
    "df.shape"
   ]
  },
  {
   "cell_type": "markdown",
   "id": "c78d56f6",
   "metadata": {},
   "source": [
    "# Removing Duplicate value"
   ]
  },
  {
   "cell_type": "code",
   "execution_count": 3,
   "id": "b8a204e9",
   "metadata": {},
   "outputs": [],
   "source": [
    "df.drop_duplicates(inplace=True)"
   ]
  },
  {
   "cell_type": "code",
   "execution_count": 4,
   "id": "c2890ac3",
   "metadata": {},
   "outputs": [
    {
     "data": {
      "text/plain": [
       "(301717, 18)"
      ]
     },
     "execution_count": 4,
     "metadata": {},
     "output_type": "execute_result"
    }
   ],
   "source": [
    "df.shape"
   ]
  },
  {
   "cell_type": "code",
   "execution_count": 5,
   "id": "d08b1e0c",
   "metadata": {},
   "outputs": [
    {
     "data": {
      "text/plain": [
       "No     274456\n",
       "Yes     27261\n",
       "Name: HeartDisease, dtype: int64"
      ]
     },
     "execution_count": 5,
     "metadata": {},
     "output_type": "execute_result"
    }
   ],
   "source": [
    "df.HeartDisease.value_counts()"
   ]
  },
  {
   "cell_type": "markdown",
   "id": "324635ca",
   "metadata": {},
   "source": [
    "# Encoding The DataSet with LabelEncoder"
   ]
  },
  {
   "cell_type": "code",
   "execution_count": 6,
   "id": "788decc2",
   "metadata": {},
   "outputs": [],
   "source": [
    "from sklearn.preprocessing import LabelEncoder\n",
    "label=LabelEncoder()"
   ]
  },
  {
   "cell_type": "code",
   "execution_count": 7,
   "id": "8e39d6a6",
   "metadata": {},
   "outputs": [],
   "source": [
    "from pandas.core.dtypes.common import is_numeric_dtype\n",
    "for column in df.columns:\n",
    "    if is_numeric_dtype(df[column]):\n",
    "        continue\n",
    "    else:\n",
    "        df[column]=label.fit_transform(df[column])"
   ]
  },
  {
   "cell_type": "markdown",
   "id": "d728b511",
   "metadata": {},
   "source": [
    "# Separting x and y"
   ]
  },
  {
   "cell_type": "code",
   "execution_count": 8,
   "id": "9c5874fd",
   "metadata": {},
   "outputs": [],
   "source": [
    "x=df.drop('HeartDisease',axis=1)\n",
    "y=df['HeartDisease']"
   ]
  },
  {
   "cell_type": "code",
   "execution_count": 9,
   "id": "dd6833a6",
   "metadata": {},
   "outputs": [
    {
     "data": {
      "text/html": [
       "<div>\n",
       "<style scoped>\n",
       "    .dataframe tbody tr th:only-of-type {\n",
       "        vertical-align: middle;\n",
       "    }\n",
       "\n",
       "    .dataframe tbody tr th {\n",
       "        vertical-align: top;\n",
       "    }\n",
       "\n",
       "    .dataframe thead th {\n",
       "        text-align: right;\n",
       "    }\n",
       "</style>\n",
       "<table border=\"1\" class=\"dataframe\">\n",
       "  <thead>\n",
       "    <tr style=\"text-align: right;\">\n",
       "      <th></th>\n",
       "      <th>BMI</th>\n",
       "      <th>Smoking</th>\n",
       "      <th>AlcoholDrinking</th>\n",
       "      <th>Stroke</th>\n",
       "      <th>PhysicalHealth</th>\n",
       "      <th>MentalHealth</th>\n",
       "      <th>DiffWalking</th>\n",
       "      <th>Sex</th>\n",
       "      <th>AgeCategory</th>\n",
       "      <th>Race</th>\n",
       "      <th>Diabetic</th>\n",
       "      <th>PhysicalActivity</th>\n",
       "      <th>GenHealth</th>\n",
       "      <th>SleepTime</th>\n",
       "      <th>Asthma</th>\n",
       "      <th>KidneyDisease</th>\n",
       "      <th>SkinCancer</th>\n",
       "    </tr>\n",
       "  </thead>\n",
       "  <tbody>\n",
       "    <tr>\n",
       "      <th>0</th>\n",
       "      <td>16.60</td>\n",
       "      <td>1</td>\n",
       "      <td>0</td>\n",
       "      <td>0</td>\n",
       "      <td>3</td>\n",
       "      <td>30</td>\n",
       "      <td>0</td>\n",
       "      <td>0</td>\n",
       "      <td>7</td>\n",
       "      <td>5</td>\n",
       "      <td>2</td>\n",
       "      <td>1</td>\n",
       "      <td>4</td>\n",
       "      <td>5</td>\n",
       "      <td>1</td>\n",
       "      <td>0</td>\n",
       "      <td>1</td>\n",
       "    </tr>\n",
       "    <tr>\n",
       "      <th>1</th>\n",
       "      <td>20.34</td>\n",
       "      <td>0</td>\n",
       "      <td>0</td>\n",
       "      <td>1</td>\n",
       "      <td>0</td>\n",
       "      <td>0</td>\n",
       "      <td>0</td>\n",
       "      <td>0</td>\n",
       "      <td>12</td>\n",
       "      <td>5</td>\n",
       "      <td>0</td>\n",
       "      <td>1</td>\n",
       "      <td>4</td>\n",
       "      <td>7</td>\n",
       "      <td>0</td>\n",
       "      <td>0</td>\n",
       "      <td>0</td>\n",
       "    </tr>\n",
       "    <tr>\n",
       "      <th>2</th>\n",
       "      <td>26.58</td>\n",
       "      <td>1</td>\n",
       "      <td>0</td>\n",
       "      <td>0</td>\n",
       "      <td>20</td>\n",
       "      <td>30</td>\n",
       "      <td>0</td>\n",
       "      <td>1</td>\n",
       "      <td>9</td>\n",
       "      <td>5</td>\n",
       "      <td>2</td>\n",
       "      <td>1</td>\n",
       "      <td>1</td>\n",
       "      <td>8</td>\n",
       "      <td>1</td>\n",
       "      <td>0</td>\n",
       "      <td>0</td>\n",
       "    </tr>\n",
       "    <tr>\n",
       "      <th>3</th>\n",
       "      <td>24.21</td>\n",
       "      <td>0</td>\n",
       "      <td>0</td>\n",
       "      <td>0</td>\n",
       "      <td>0</td>\n",
       "      <td>0</td>\n",
       "      <td>0</td>\n",
       "      <td>0</td>\n",
       "      <td>11</td>\n",
       "      <td>5</td>\n",
       "      <td>0</td>\n",
       "      <td>0</td>\n",
       "      <td>2</td>\n",
       "      <td>6</td>\n",
       "      <td>0</td>\n",
       "      <td>0</td>\n",
       "      <td>1</td>\n",
       "    </tr>\n",
       "    <tr>\n",
       "      <th>4</th>\n",
       "      <td>23.71</td>\n",
       "      <td>0</td>\n",
       "      <td>0</td>\n",
       "      <td>0</td>\n",
       "      <td>28</td>\n",
       "      <td>0</td>\n",
       "      <td>1</td>\n",
       "      <td>0</td>\n",
       "      <td>4</td>\n",
       "      <td>5</td>\n",
       "      <td>0</td>\n",
       "      <td>1</td>\n",
       "      <td>4</td>\n",
       "      <td>8</td>\n",
       "      <td>0</td>\n",
       "      <td>0</td>\n",
       "      <td>0</td>\n",
       "    </tr>\n",
       "    <tr>\n",
       "      <th>...</th>\n",
       "      <td>...</td>\n",
       "      <td>...</td>\n",
       "      <td>...</td>\n",
       "      <td>...</td>\n",
       "      <td>...</td>\n",
       "      <td>...</td>\n",
       "      <td>...</td>\n",
       "      <td>...</td>\n",
       "      <td>...</td>\n",
       "      <td>...</td>\n",
       "      <td>...</td>\n",
       "      <td>...</td>\n",
       "      <td>...</td>\n",
       "      <td>...</td>\n",
       "      <td>...</td>\n",
       "      <td>...</td>\n",
       "      <td>...</td>\n",
       "    </tr>\n",
       "    <tr>\n",
       "      <th>319790</th>\n",
       "      <td>27.41</td>\n",
       "      <td>1</td>\n",
       "      <td>0</td>\n",
       "      <td>0</td>\n",
       "      <td>7</td>\n",
       "      <td>0</td>\n",
       "      <td>1</td>\n",
       "      <td>1</td>\n",
       "      <td>8</td>\n",
       "      <td>3</td>\n",
       "      <td>2</td>\n",
       "      <td>0</td>\n",
       "      <td>1</td>\n",
       "      <td>6</td>\n",
       "      <td>1</td>\n",
       "      <td>0</td>\n",
       "      <td>0</td>\n",
       "    </tr>\n",
       "    <tr>\n",
       "      <th>319791</th>\n",
       "      <td>29.84</td>\n",
       "      <td>1</td>\n",
       "      <td>0</td>\n",
       "      <td>0</td>\n",
       "      <td>0</td>\n",
       "      <td>0</td>\n",
       "      <td>0</td>\n",
       "      <td>1</td>\n",
       "      <td>3</td>\n",
       "      <td>3</td>\n",
       "      <td>0</td>\n",
       "      <td>1</td>\n",
       "      <td>4</td>\n",
       "      <td>5</td>\n",
       "      <td>1</td>\n",
       "      <td>0</td>\n",
       "      <td>0</td>\n",
       "    </tr>\n",
       "    <tr>\n",
       "      <th>319792</th>\n",
       "      <td>24.24</td>\n",
       "      <td>0</td>\n",
       "      <td>0</td>\n",
       "      <td>0</td>\n",
       "      <td>0</td>\n",
       "      <td>0</td>\n",
       "      <td>0</td>\n",
       "      <td>0</td>\n",
       "      <td>5</td>\n",
       "      <td>3</td>\n",
       "      <td>0</td>\n",
       "      <td>1</td>\n",
       "      <td>2</td>\n",
       "      <td>6</td>\n",
       "      <td>0</td>\n",
       "      <td>0</td>\n",
       "      <td>0</td>\n",
       "    </tr>\n",
       "    <tr>\n",
       "      <th>319793</th>\n",
       "      <td>32.81</td>\n",
       "      <td>0</td>\n",
       "      <td>0</td>\n",
       "      <td>0</td>\n",
       "      <td>0</td>\n",
       "      <td>0</td>\n",
       "      <td>0</td>\n",
       "      <td>0</td>\n",
       "      <td>1</td>\n",
       "      <td>3</td>\n",
       "      <td>0</td>\n",
       "      <td>0</td>\n",
       "      <td>2</td>\n",
       "      <td>12</td>\n",
       "      <td>0</td>\n",
       "      <td>0</td>\n",
       "      <td>0</td>\n",
       "    </tr>\n",
       "    <tr>\n",
       "      <th>319794</th>\n",
       "      <td>46.56</td>\n",
       "      <td>0</td>\n",
       "      <td>0</td>\n",
       "      <td>0</td>\n",
       "      <td>0</td>\n",
       "      <td>0</td>\n",
       "      <td>0</td>\n",
       "      <td>0</td>\n",
       "      <td>12</td>\n",
       "      <td>3</td>\n",
       "      <td>0</td>\n",
       "      <td>1</td>\n",
       "      <td>2</td>\n",
       "      <td>8</td>\n",
       "      <td>0</td>\n",
       "      <td>0</td>\n",
       "      <td>0</td>\n",
       "    </tr>\n",
       "  </tbody>\n",
       "</table>\n",
       "<p>301717 rows × 17 columns</p>\n",
       "</div>"
      ],
      "text/plain": [
       "          BMI  Smoking  AlcoholDrinking  Stroke  PhysicalHealth  MentalHealth  \\\n",
       "0       16.60        1                0       0               3            30   \n",
       "1       20.34        0                0       1               0             0   \n",
       "2       26.58        1                0       0              20            30   \n",
       "3       24.21        0                0       0               0             0   \n",
       "4       23.71        0                0       0              28             0   \n",
       "...       ...      ...              ...     ...             ...           ...   \n",
       "319790  27.41        1                0       0               7             0   \n",
       "319791  29.84        1                0       0               0             0   \n",
       "319792  24.24        0                0       0               0             0   \n",
       "319793  32.81        0                0       0               0             0   \n",
       "319794  46.56        0                0       0               0             0   \n",
       "\n",
       "        DiffWalking  Sex  AgeCategory  Race  Diabetic  PhysicalActivity  \\\n",
       "0                 0    0            7     5         2                 1   \n",
       "1                 0    0           12     5         0                 1   \n",
       "2                 0    1            9     5         2                 1   \n",
       "3                 0    0           11     5         0                 0   \n",
       "4                 1    0            4     5         0                 1   \n",
       "...             ...  ...          ...   ...       ...               ...   \n",
       "319790            1    1            8     3         2                 0   \n",
       "319791            0    1            3     3         0                 1   \n",
       "319792            0    0            5     3         0                 1   \n",
       "319793            0    0            1     3         0                 0   \n",
       "319794            0    0           12     3         0                 1   \n",
       "\n",
       "        GenHealth  SleepTime  Asthma  KidneyDisease  SkinCancer  \n",
       "0               4          5       1              0           1  \n",
       "1               4          7       0              0           0  \n",
       "2               1          8       1              0           0  \n",
       "3               2          6       0              0           1  \n",
       "4               4          8       0              0           0  \n",
       "...           ...        ...     ...            ...         ...  \n",
       "319790          1          6       1              0           0  \n",
       "319791          4          5       1              0           0  \n",
       "319792          2          6       0              0           0  \n",
       "319793          2         12       0              0           0  \n",
       "319794          2          8       0              0           0  \n",
       "\n",
       "[301717 rows x 17 columns]"
      ]
     },
     "execution_count": 9,
     "metadata": {},
     "output_type": "execute_result"
    }
   ],
   "source": [
    "x"
   ]
  },
  {
   "cell_type": "code",
   "execution_count": 10,
   "id": "f485ddfe",
   "metadata": {},
   "outputs": [
    {
     "data": {
      "text/plain": [
       "0         0\n",
       "1         0\n",
       "2         0\n",
       "3         0\n",
       "4         0\n",
       "         ..\n",
       "319790    1\n",
       "319791    0\n",
       "319792    0\n",
       "319793    0\n",
       "319794    0\n",
       "Name: HeartDisease, Length: 301717, dtype: int32"
      ]
     },
     "execution_count": 10,
     "metadata": {},
     "output_type": "execute_result"
    }
   ],
   "source": [
    "y"
   ]
  },
  {
   "cell_type": "markdown",
   "id": "1162dc27",
   "metadata": {},
   "source": [
    "# Imbalance Data handling"
   ]
  },
  {
   "cell_type": "code",
   "execution_count": 11,
   "id": "85a7f6d1",
   "metadata": {},
   "outputs": [
    {
     "data": {
      "text/plain": [
       "0    274456\n",
       "1     27261\n",
       "Name: HeartDisease, dtype: int64"
      ]
     },
     "execution_count": 11,
     "metadata": {},
     "output_type": "execute_result"
    }
   ],
   "source": [
    "df.HeartDisease.value_counts()"
   ]
  },
  {
   "cell_type": "code",
   "execution_count": 12,
   "id": "ec0be1bb",
   "metadata": {},
   "outputs": [],
   "source": [
    "not_HeartDisease=(274456/(274456+27261))*100\n",
    "HeartDisease=(27261/(274456+27261))*100"
   ]
  },
  {
   "cell_type": "code",
   "execution_count": 13,
   "id": "7a51bae1",
   "metadata": {},
   "outputs": [
    {
     "name": "stdout",
     "output_type": "stream",
     "text": [
      "No HeartDisease 90.96471196518591 percent of the total people\n"
     ]
    }
   ],
   "source": [
    "print('No HeartDisease {} percent of the total people'.format(not_HeartDisease))"
   ]
  },
  {
   "cell_type": "code",
   "execution_count": 14,
   "id": "5c2c5866",
   "metadata": {},
   "outputs": [
    {
     "name": "stdout",
     "output_type": "stream",
     "text": [
      "HeartDisease 9.03528803481408 percent of the total people\n"
     ]
    }
   ],
   "source": [
    "print('HeartDisease {} percent of the total people'.format(HeartDisease))"
   ]
  },
  {
   "cell_type": "code",
   "execution_count": 15,
   "id": "52ce1d10",
   "metadata": {},
   "outputs": [],
   "source": [
    "HeartDisease_no=df[df['HeartDisease']==0]\n",
    "HeartDisease_yes=df[df['HeartDisease']==1]"
   ]
  },
  {
   "cell_type": "code",
   "execution_count": 16,
   "id": "2ac3f161",
   "metadata": {},
   "outputs": [
    {
     "data": {
      "text/plain": [
       "(274456, 18)"
      ]
     },
     "execution_count": 16,
     "metadata": {},
     "output_type": "execute_result"
    }
   ],
   "source": [
    "HeartDisease_no.shape"
   ]
  },
  {
   "cell_type": "code",
   "execution_count": 17,
   "id": "d2f22ba7",
   "metadata": {},
   "outputs": [
    {
     "data": {
      "text/plain": [
       "(27261, 18)"
      ]
     },
     "execution_count": 17,
     "metadata": {},
     "output_type": "execute_result"
    }
   ],
   "source": [
    "HeartDisease_yes.shape"
   ]
  },
  {
   "cell_type": "markdown",
   "id": "9dc106b1",
   "metadata": {},
   "source": [
    "# So we have to balance our dataset . Now applying Random over sampling techniques\n"
   ]
  },
  {
   "cell_type": "markdown",
   "id": "7dc3979e",
   "metadata": {},
   "source": [
    "# Over sampling"
   ]
  },
  {
   "cell_type": "code",
   "execution_count": 18,
   "id": "1be69d03",
   "metadata": {},
   "outputs": [],
   "source": [
    "from imblearn.over_sampling import RandomOverSampler\n",
    "random_over_sampler = RandomOverSampler(random_state =100)"
   ]
  },
  {
   "cell_type": "code",
   "execution_count": 19,
   "id": "12ad85ea",
   "metadata": {},
   "outputs": [],
   "source": [
    "x_new,y_new=random_over_sampler.fit_resample(x,y)\n"
   ]
  },
  {
   "cell_type": "code",
   "execution_count": 20,
   "id": "da4a3809",
   "metadata": {},
   "outputs": [
    {
     "data": {
      "text/html": [
       "<div>\n",
       "<style scoped>\n",
       "    .dataframe tbody tr th:only-of-type {\n",
       "        vertical-align: middle;\n",
       "    }\n",
       "\n",
       "    .dataframe tbody tr th {\n",
       "        vertical-align: top;\n",
       "    }\n",
       "\n",
       "    .dataframe thead th {\n",
       "        text-align: right;\n",
       "    }\n",
       "</style>\n",
       "<table border=\"1\" class=\"dataframe\">\n",
       "  <thead>\n",
       "    <tr style=\"text-align: right;\">\n",
       "      <th></th>\n",
       "      <th>BMI</th>\n",
       "      <th>Smoking</th>\n",
       "      <th>AlcoholDrinking</th>\n",
       "      <th>Stroke</th>\n",
       "      <th>PhysicalHealth</th>\n",
       "      <th>MentalHealth</th>\n",
       "      <th>DiffWalking</th>\n",
       "      <th>Sex</th>\n",
       "      <th>AgeCategory</th>\n",
       "      <th>Race</th>\n",
       "      <th>Diabetic</th>\n",
       "      <th>PhysicalActivity</th>\n",
       "      <th>GenHealth</th>\n",
       "      <th>SleepTime</th>\n",
       "      <th>Asthma</th>\n",
       "      <th>KidneyDisease</th>\n",
       "      <th>SkinCancer</th>\n",
       "    </tr>\n",
       "  </thead>\n",
       "  <tbody>\n",
       "    <tr>\n",
       "      <th>0</th>\n",
       "      <td>16.60</td>\n",
       "      <td>1</td>\n",
       "      <td>0</td>\n",
       "      <td>0</td>\n",
       "      <td>3</td>\n",
       "      <td>30</td>\n",
       "      <td>0</td>\n",
       "      <td>0</td>\n",
       "      <td>7</td>\n",
       "      <td>5</td>\n",
       "      <td>2</td>\n",
       "      <td>1</td>\n",
       "      <td>4</td>\n",
       "      <td>5</td>\n",
       "      <td>1</td>\n",
       "      <td>0</td>\n",
       "      <td>1</td>\n",
       "    </tr>\n",
       "    <tr>\n",
       "      <th>1</th>\n",
       "      <td>20.34</td>\n",
       "      <td>0</td>\n",
       "      <td>0</td>\n",
       "      <td>1</td>\n",
       "      <td>0</td>\n",
       "      <td>0</td>\n",
       "      <td>0</td>\n",
       "      <td>0</td>\n",
       "      <td>12</td>\n",
       "      <td>5</td>\n",
       "      <td>0</td>\n",
       "      <td>1</td>\n",
       "      <td>4</td>\n",
       "      <td>7</td>\n",
       "      <td>0</td>\n",
       "      <td>0</td>\n",
       "      <td>0</td>\n",
       "    </tr>\n",
       "    <tr>\n",
       "      <th>2</th>\n",
       "      <td>26.58</td>\n",
       "      <td>1</td>\n",
       "      <td>0</td>\n",
       "      <td>0</td>\n",
       "      <td>20</td>\n",
       "      <td>30</td>\n",
       "      <td>0</td>\n",
       "      <td>1</td>\n",
       "      <td>9</td>\n",
       "      <td>5</td>\n",
       "      <td>2</td>\n",
       "      <td>1</td>\n",
       "      <td>1</td>\n",
       "      <td>8</td>\n",
       "      <td>1</td>\n",
       "      <td>0</td>\n",
       "      <td>0</td>\n",
       "    </tr>\n",
       "    <tr>\n",
       "      <th>3</th>\n",
       "      <td>24.21</td>\n",
       "      <td>0</td>\n",
       "      <td>0</td>\n",
       "      <td>0</td>\n",
       "      <td>0</td>\n",
       "      <td>0</td>\n",
       "      <td>0</td>\n",
       "      <td>0</td>\n",
       "      <td>11</td>\n",
       "      <td>5</td>\n",
       "      <td>0</td>\n",
       "      <td>0</td>\n",
       "      <td>2</td>\n",
       "      <td>6</td>\n",
       "      <td>0</td>\n",
       "      <td>0</td>\n",
       "      <td>1</td>\n",
       "    </tr>\n",
       "    <tr>\n",
       "      <th>4</th>\n",
       "      <td>23.71</td>\n",
       "      <td>0</td>\n",
       "      <td>0</td>\n",
       "      <td>0</td>\n",
       "      <td>28</td>\n",
       "      <td>0</td>\n",
       "      <td>1</td>\n",
       "      <td>0</td>\n",
       "      <td>4</td>\n",
       "      <td>5</td>\n",
       "      <td>0</td>\n",
       "      <td>1</td>\n",
       "      <td>4</td>\n",
       "      <td>8</td>\n",
       "      <td>0</td>\n",
       "      <td>0</td>\n",
       "      <td>0</td>\n",
       "    </tr>\n",
       "    <tr>\n",
       "      <th>...</th>\n",
       "      <td>...</td>\n",
       "      <td>...</td>\n",
       "      <td>...</td>\n",
       "      <td>...</td>\n",
       "      <td>...</td>\n",
       "      <td>...</td>\n",
       "      <td>...</td>\n",
       "      <td>...</td>\n",
       "      <td>...</td>\n",
       "      <td>...</td>\n",
       "      <td>...</td>\n",
       "      <td>...</td>\n",
       "      <td>...</td>\n",
       "      <td>...</td>\n",
       "      <td>...</td>\n",
       "      <td>...</td>\n",
       "      <td>...</td>\n",
       "    </tr>\n",
       "    <tr>\n",
       "      <th>548907</th>\n",
       "      <td>35.43</td>\n",
       "      <td>0</td>\n",
       "      <td>0</td>\n",
       "      <td>0</td>\n",
       "      <td>0</td>\n",
       "      <td>0</td>\n",
       "      <td>0</td>\n",
       "      <td>0</td>\n",
       "      <td>12</td>\n",
       "      <td>5</td>\n",
       "      <td>0</td>\n",
       "      <td>1</td>\n",
       "      <td>4</td>\n",
       "      <td>5</td>\n",
       "      <td>0</td>\n",
       "      <td>0</td>\n",
       "      <td>1</td>\n",
       "    </tr>\n",
       "    <tr>\n",
       "      <th>548908</th>\n",
       "      <td>23.01</td>\n",
       "      <td>1</td>\n",
       "      <td>0</td>\n",
       "      <td>0</td>\n",
       "      <td>0</td>\n",
       "      <td>20</td>\n",
       "      <td>0</td>\n",
       "      <td>1</td>\n",
       "      <td>8</td>\n",
       "      <td>5</td>\n",
       "      <td>0</td>\n",
       "      <td>1</td>\n",
       "      <td>4</td>\n",
       "      <td>6</td>\n",
       "      <td>0</td>\n",
       "      <td>0</td>\n",
       "      <td>0</td>\n",
       "    </tr>\n",
       "    <tr>\n",
       "      <th>548909</th>\n",
       "      <td>30.80</td>\n",
       "      <td>0</td>\n",
       "      <td>0</td>\n",
       "      <td>0</td>\n",
       "      <td>0</td>\n",
       "      <td>0</td>\n",
       "      <td>0</td>\n",
       "      <td>0</td>\n",
       "      <td>10</td>\n",
       "      <td>4</td>\n",
       "      <td>2</td>\n",
       "      <td>0</td>\n",
       "      <td>2</td>\n",
       "      <td>5</td>\n",
       "      <td>0</td>\n",
       "      <td>0</td>\n",
       "      <td>0</td>\n",
       "    </tr>\n",
       "    <tr>\n",
       "      <th>548910</th>\n",
       "      <td>44.63</td>\n",
       "      <td>0</td>\n",
       "      <td>0</td>\n",
       "      <td>0</td>\n",
       "      <td>0</td>\n",
       "      <td>7</td>\n",
       "      <td>1</td>\n",
       "      <td>0</td>\n",
       "      <td>9</td>\n",
       "      <td>2</td>\n",
       "      <td>2</td>\n",
       "      <td>0</td>\n",
       "      <td>2</td>\n",
       "      <td>8</td>\n",
       "      <td>0</td>\n",
       "      <td>0</td>\n",
       "      <td>0</td>\n",
       "    </tr>\n",
       "    <tr>\n",
       "      <th>548911</th>\n",
       "      <td>30.90</td>\n",
       "      <td>0</td>\n",
       "      <td>0</td>\n",
       "      <td>0</td>\n",
       "      <td>0</td>\n",
       "      <td>10</td>\n",
       "      <td>1</td>\n",
       "      <td>0</td>\n",
       "      <td>9</td>\n",
       "      <td>5</td>\n",
       "      <td>0</td>\n",
       "      <td>1</td>\n",
       "      <td>2</td>\n",
       "      <td>8</td>\n",
       "      <td>0</td>\n",
       "      <td>0</td>\n",
       "      <td>0</td>\n",
       "    </tr>\n",
       "  </tbody>\n",
       "</table>\n",
       "<p>548912 rows × 17 columns</p>\n",
       "</div>"
      ],
      "text/plain": [
       "          BMI  Smoking  AlcoholDrinking  Stroke  PhysicalHealth  MentalHealth  \\\n",
       "0       16.60        1                0       0               3            30   \n",
       "1       20.34        0                0       1               0             0   \n",
       "2       26.58        1                0       0              20            30   \n",
       "3       24.21        0                0       0               0             0   \n",
       "4       23.71        0                0       0              28             0   \n",
       "...       ...      ...              ...     ...             ...           ...   \n",
       "548907  35.43        0                0       0               0             0   \n",
       "548908  23.01        1                0       0               0            20   \n",
       "548909  30.80        0                0       0               0             0   \n",
       "548910  44.63        0                0       0               0             7   \n",
       "548911  30.90        0                0       0               0            10   \n",
       "\n",
       "        DiffWalking  Sex  AgeCategory  Race  Diabetic  PhysicalActivity  \\\n",
       "0                 0    0            7     5         2                 1   \n",
       "1                 0    0           12     5         0                 1   \n",
       "2                 0    1            9     5         2                 1   \n",
       "3                 0    0           11     5         0                 0   \n",
       "4                 1    0            4     5         0                 1   \n",
       "...             ...  ...          ...   ...       ...               ...   \n",
       "548907            0    0           12     5         0                 1   \n",
       "548908            0    1            8     5         0                 1   \n",
       "548909            0    0           10     4         2                 0   \n",
       "548910            1    0            9     2         2                 0   \n",
       "548911            1    0            9     5         0                 1   \n",
       "\n",
       "        GenHealth  SleepTime  Asthma  KidneyDisease  SkinCancer  \n",
       "0               4          5       1              0           1  \n",
       "1               4          7       0              0           0  \n",
       "2               1          8       1              0           0  \n",
       "3               2          6       0              0           1  \n",
       "4               4          8       0              0           0  \n",
       "...           ...        ...     ...            ...         ...  \n",
       "548907          4          5       0              0           1  \n",
       "548908          4          6       0              0           0  \n",
       "548909          2          5       0              0           0  \n",
       "548910          2          8       0              0           0  \n",
       "548911          2          8       0              0           0  \n",
       "\n",
       "[548912 rows x 17 columns]"
      ]
     },
     "execution_count": 20,
     "metadata": {},
     "output_type": "execute_result"
    }
   ],
   "source": [
    "x1_new=x2_new=x3_new=x4_new=x5_new=x6_new=x7_new=x8_new=x9_new=x_new\n",
    "x_new\n"
   ]
  },
  {
   "cell_type": "code",
   "execution_count": 21,
   "id": "05abadfe",
   "metadata": {},
   "outputs": [],
   "source": [
    "y1_new=y2_new=y3_new=y4_new=y5_new=y6_new=y7_new=y8_new=y9_new=y_new"
   ]
  },
  {
   "cell_type": "code",
   "execution_count": 22,
   "id": "ee6658c6",
   "metadata": {},
   "outputs": [
    {
     "data": {
      "text/plain": [
       "0         0\n",
       "1         0\n",
       "2         0\n",
       "3         0\n",
       "4         0\n",
       "         ..\n",
       "548907    1\n",
       "548908    1\n",
       "548909    1\n",
       "548910    1\n",
       "548911    1\n",
       "Name: HeartDisease, Length: 548912, dtype: int32"
      ]
     },
     "execution_count": 22,
     "metadata": {},
     "output_type": "execute_result"
    }
   ],
   "source": [
    "y_new"
   ]
  },
  {
   "cell_type": "code",
   "execution_count": 23,
   "id": "e08e498e",
   "metadata": {},
   "outputs": [
    {
     "data": {
      "text/plain": [
       "(548912, 17)"
      ]
     },
     "execution_count": 23,
     "metadata": {},
     "output_type": "execute_result"
    }
   ],
   "source": [
    "x_new.shape"
   ]
  },
  {
   "cell_type": "code",
   "execution_count": 24,
   "id": "edd16ddd",
   "metadata": {},
   "outputs": [
    {
     "data": {
      "text/plain": [
       "(548912,)"
      ]
     },
     "execution_count": 24,
     "metadata": {},
     "output_type": "execute_result"
    }
   ],
   "source": [
    "y_new.shape"
   ]
  },
  {
   "cell_type": "code",
   "execution_count": null,
   "id": "2a001fca",
   "metadata": {},
   "outputs": [],
   "source": [
    "   "
   ]
  },
  {
   "cell_type": "markdown",
   "id": "c0350f14",
   "metadata": {},
   "source": [
    "# 2->RandomForestClassifier algorithm implementation\n"
   ]
  },
  {
   "cell_type": "markdown",
   "id": "68bc75ba",
   "metadata": {},
   "source": [
    "# RFC for holdout cross validation with Randon Over Sampling\n"
   ]
  },
  {
   "cell_type": "code",
   "execution_count": 25,
   "id": "c8d45f44",
   "metadata": {},
   "outputs": [],
   "source": [
    "from sklearn.model_selection import train_test_split \n",
    "from sklearn.ensemble import RandomForestClassifier\n",
    "rfc=RandomForestClassifier()  "
   ]
  },
  {
   "cell_type": "code",
   "execution_count": 26,
   "id": "83c888d7",
   "metadata": {},
   "outputs": [
    {
     "data": {
      "text/plain": [
       "RandomForestClassifier()"
      ]
     },
     "execution_count": 26,
     "metadata": {},
     "output_type": "execute_result"
    }
   ],
   "source": [
    "over_xtrain,over_xtest,over_ytrain,over_ytest = train_test_split(x1_new,y1_new,test_size = 0.30 ,random_state =42)\n",
    "rfc.fit(over_xtrain,over_ytrain)"
   ]
  },
  {
   "cell_type": "code",
   "execution_count": 27,
   "id": "eeaf91d5",
   "metadata": {},
   "outputs": [
    {
     "data": {
      "text/plain": [
       "0.9640016031674703"
      ]
     },
     "execution_count": 27,
     "metadata": {},
     "output_type": "execute_result"
    }
   ],
   "source": [
    "OverSampleing_dataset_accuracy1 = rfc.score(over_xtest,over_ytest)\n",
    "OverSampleing_dataset_accuracy1"
   ]
  },
  {
   "cell_type": "markdown",
   "id": "a0219ebd",
   "metadata": {},
   "source": [
    "# RFC for KFold Cross Validation with Random Over sampling\n"
   ]
  },
  {
   "cell_type": "code",
   "execution_count": 28,
   "id": "74ecbec9",
   "metadata": {},
   "outputs": [],
   "source": [
    "from sklearn.model_selection import KFold, cross_val_score\n",
    "kfold = KFold(n_splits = 10)"
   ]
  },
  {
   "cell_type": "code",
   "execution_count": 29,
   "id": "e7eada70",
   "metadata": {},
   "outputs": [
    {
     "data": {
      "text/plain": [
       "array([0.94137579, 0.93908038, 0.94095571, 0.94700406, 0.94722268,\n",
       "       0.97502323, 1.        , 1.        , 1.        , 1.        ])"
      ]
     },
     "execution_count": 29,
     "metadata": {},
     "output_type": "execute_result"
    }
   ],
   "source": [
    "OverSampleingDataset_kfold_result1 = cross_val_score(rfc,x1_new,y1_new,cv = kfold)\n",
    "OverSampleingDataset_kfold_result1                  "
   ]
  },
  {
   "cell_type": "code",
   "execution_count": 30,
   "id": "b136aeb1",
   "metadata": {},
   "outputs": [
    {
     "data": {
      "text/plain": [
       "0.9690661848824608"
      ]
     },
     "execution_count": 30,
     "metadata": {},
     "output_type": "execute_result"
    }
   ],
   "source": [
    "OverSampleingDataset_kfold_result1.mean()"
   ]
  },
  {
   "cell_type": "markdown",
   "id": "810c2080",
   "metadata": {},
   "source": [
    "# RFC for StratiFied KFold cross validation for Random over sampling"
   ]
  },
  {
   "cell_type": "code",
   "execution_count": 31,
   "id": "693ab5b2",
   "metadata": {},
   "outputs": [],
   "source": [
    "from sklearn.model_selection import StratifiedKFold\n",
    "Stf_Kfold = StratifiedKFold(n_splits = 10)"
   ]
  },
  {
   "cell_type": "code",
   "execution_count": 32,
   "id": "396d5c77",
   "metadata": {},
   "outputs": [
    {
     "data": {
      "text/plain": [
       "array([0.97168986, 0.97101581, 0.96922993, 0.97085132, 0.97276421,\n",
       "       0.9691024 , 0.97593412, 0.96974003, 0.97485927, 0.97320144])"
      ]
     },
     "execution_count": 32,
     "metadata": {},
     "output_type": "execute_result"
    }
   ],
   "source": [
    "OverSampleingDataset_Sf_kfold_result1 = cross_val_score(rfc,x1_new,y1_new,cv = Stf_Kfold)\n",
    "OverSampleingDataset_Sf_kfold_result1"
   ]
  },
  {
   "cell_type": "code",
   "execution_count": 33,
   "id": "9d218abb",
   "metadata": {},
   "outputs": [
    {
     "data": {
      "text/plain": [
       "0.9718388393257973"
      ]
     },
     "execution_count": 33,
     "metadata": {},
     "output_type": "execute_result"
    }
   ],
   "source": [
    "OverSampleingDataset_Sf_kfold_result1.mean()"
   ]
  },
  {
   "cell_type": "markdown",
   "id": "0f382074",
   "metadata": {},
   "source": [
    "# Model Evaluating performance of confusion Matrix"
   ]
  },
  {
   "cell_type": "code",
   "execution_count": 34,
   "id": "e3d27994",
   "metadata": {},
   "outputs": [
    {
     "data": {
      "text/plain": [
       "array([1, 1, 0, ..., 1, 1, 0])"
      ]
     },
     "execution_count": 34,
     "metadata": {},
     "output_type": "execute_result"
    }
   ],
   "source": [
    "pred_y1=rfc.predict(over_xtest)#Predicted Class \n",
    "pred_y1"
   ]
  },
  {
   "cell_type": "code",
   "execution_count": 35,
   "id": "e6a1209f",
   "metadata": {},
   "outputs": [
    {
     "data": {
      "text/plain": [
       "array([1, 1, 0, ..., 1, 1, 0])"
      ]
     },
     "execution_count": 35,
     "metadata": {},
     "output_type": "execute_result"
    }
   ],
   "source": [
    "np.array(over_ytest) #actual class/y"
   ]
  },
  {
   "cell_type": "code",
   "execution_count": 37,
   "id": "2993a4f1",
   "metadata": {},
   "outputs": [
    {
     "name": "stdout",
     "output_type": "stream",
     "text": [
      "              precision    recall  f1-score   support\n",
      "\n",
      "           0       1.00      0.93      0.96     82143\n",
      "           1       0.93      1.00      0.97     82531\n",
      "\n",
      "    accuracy                           0.96    164674\n",
      "   macro avg       0.97      0.96      0.96    164674\n",
      "weighted avg       0.97      0.96      0.96    164674\n",
      "\n"
     ]
    }
   ],
   "source": [
    "from sklearn.metrics import classification_report,accuracy_score,confusion_matrix,plot_roc_curve\n",
    "print(classification_report(over_ytest,pred_y1))\n"
   ]
  },
  {
   "cell_type": "code",
   "execution_count": 38,
   "id": "5330a0e0",
   "metadata": {},
   "outputs": [
    {
     "data": {
      "text/plain": [
       "array([[76289,  5854],\n",
       "       [   74, 82457]], dtype=int64)"
      ]
     },
     "execution_count": 38,
     "metadata": {},
     "output_type": "execute_result"
    }
   ],
   "source": [
    "cm1=confusion_matrix(over_ytest,pred_y1)\n",
    "cm1"
   ]
  },
  {
   "cell_type": "markdown",
   "id": "d71c2328",
   "metadata": {},
   "source": [
    "# Visualization with heatmap performance of confussion matrix for RFC\n"
   ]
  },
  {
   "cell_type": "code",
   "execution_count": 39,
   "id": "edfb565f",
   "metadata": {},
   "outputs": [
    {
     "data": {
      "text/plain": [
       "Text(33.0, 0.5, 'Actual Values')"
      ]
     },
     "execution_count": 39,
     "metadata": {},
     "output_type": "execute_result"
    },
    {
     "data": {
      "image/png": "[encoded data removed]",
      "text/plain": [
       "<Figure size 432x288 with 2 Axes>"
      ]
     },
     "metadata": {
      "needs_background": "light"
     },
     "output_type": "display_data"
    }
   ],
   "source": [
    "sns.heatmap(cm1,annot=True)\n",
    "plt.xlabel('Predicted Values')\n",
    "plt.ylabel('Actual Values')\n"
   ]
  },
  {
   "cell_type": "code",
   "execution_count": 40,
   "id": "6e89f89d",
   "metadata": {},
   "outputs": [],
   "source": [
    "tp,fn,fp,tn=confusion_matrix(over_ytest,pred_y1).reshape(-1)"
   ]
  },
  {
   "cell_type": "code",
   "execution_count": 41,
   "id": "c8d9c613",
   "metadata": {},
   "outputs": [
    {
     "data": {
      "text/plain": [
       "76289"
      ]
     },
     "execution_count": 41,
     "metadata": {},
     "output_type": "execute_result"
    }
   ],
   "source": [
    "tp"
   ]
  },
  {
   "cell_type": "code",
   "execution_count": 42,
   "id": "c955e40f",
   "metadata": {},
   "outputs": [
    {
     "data": {
      "text/plain": [
       "5854"
      ]
     },
     "execution_count": 42,
     "metadata": {},
     "output_type": "execute_result"
    }
   ],
   "source": [
    "fn"
   ]
  },
  {
   "cell_type": "code",
   "execution_count": 43,
   "id": "63641dcf",
   "metadata": {},
   "outputs": [
    {
     "data": {
      "text/plain": [
       "74"
      ]
     },
     "execution_count": 43,
     "metadata": {},
     "output_type": "execute_result"
    }
   ],
   "source": [
    "fp"
   ]
  },
  {
   "cell_type": "code",
   "execution_count": 44,
   "id": "ff7795fb",
   "metadata": {},
   "outputs": [
    {
     "data": {
      "text/plain": [
       "82457"
      ]
     },
     "execution_count": 44,
     "metadata": {},
     "output_type": "execute_result"
    }
   ],
   "source": [
    "tn"
   ]
  },
  {
   "cell_type": "markdown",
   "id": "02ac3036",
   "metadata": {},
   "source": [
    "# Accuracy\n"
   ]
  },
  {
   "cell_type": "code",
   "execution_count": 45,
   "id": "8857f53a",
   "metadata": {},
   "outputs": [
    {
     "data": {
      "text/plain": [
       "0.9640016031674703"
      ]
     },
     "execution_count": 45,
     "metadata": {},
     "output_type": "execute_result"
    }
   ],
   "source": [
    "(tp+tn)/(tp+fn+fp+tn)"
   ]
  },
  {
   "cell_type": "code",
   "execution_count": 46,
   "id": "2808ed25",
   "metadata": {},
   "outputs": [
    {
     "name": "stdout",
     "output_type": "stream",
     "text": [
      "0.9990309443054882\n"
     ]
    }
   ],
   "source": [
    "#precision\n",
    "ppv = tp/(tp+fp)\n",
    "print(ppv)"
   ]
  },
  {
   "cell_type": "code",
   "execution_count": 47,
   "id": "c92b12e4",
   "metadata": {},
   "outputs": [
    {
     "name": "stdout",
     "output_type": "stream",
     "text": [
      "0.9287340369842835\n"
     ]
    }
   ],
   "source": [
    "#Recall\n",
    "trp = tp/(tp+fn)\n",
    "print(trp)"
   ]
  },
  {
   "cell_type": "code",
   "execution_count": 48,
   "id": "486a5927",
   "metadata": {},
   "outputs": [
    {
     "name": "stdout",
     "output_type": "stream",
     "text": [
      "0.0008966327804097854\n"
     ]
    }
   ],
   "source": [
    "#1-Specificity\n",
    "fpr = fp/(fp+tn)\n",
    "print(fpr)"
   ]
  },
  {
   "cell_type": "code",
   "execution_count": 49,
   "id": "9f9cf957",
   "metadata": {},
   "outputs": [
    {
     "name": "stdout",
     "output_type": "stream",
     "text": [
      "0.9626007848283346\n"
     ]
    }
   ],
   "source": [
    "#F1-score\n",
    "f1_score = (2*ppv*trp)/(ppv+trp)\n",
    "print(f1_score)"
   ]
  },
  {
   "cell_type": "code",
   "execution_count": 50,
   "id": "49f178df",
   "metadata": {},
   "outputs": [
    {
     "name": "stdout",
     "output_type": "stream",
     "text": [
      "0.9991033672195903\n"
     ]
    }
   ],
   "source": [
    "#Specificity\n",
    "tnr = tn/(tn+fp)\n",
    "print(tnr)"
   ]
  },
  {
   "cell_type": "code",
   "execution_count": 51,
   "id": "2cd52da4",
   "metadata": {},
   "outputs": [
    {
     "name": "stdout",
     "output_type": "stream",
     "text": [
      "0.92789812325918\n"
     ]
    }
   ],
   "source": [
    "#CSI\n",
    "csi = tp/(tp+fn+fp)\n",
    "print(csi)"
   ]
  },
  {
   "cell_type": "code",
   "execution_count": 52,
   "id": "18f68c33",
   "metadata": {},
   "outputs": [
    {
     "name": "stdout",
     "output_type": "stream",
     "text": [
      "0.00096905569451174\n"
     ]
    }
   ],
   "source": [
    "#FDR\n",
    "fdr = fp/(tp+fp)\n",
    "print(fdr)"
   ]
  },
  {
   "cell_type": "markdown",
   "id": "8a2faaa5",
   "metadata": {},
   "source": [
    "# Roc and Auc curve for Random Forest classifier\n"
   ]
  },
  {
   "cell_type": "code",
   "execution_count": 53,
   "id": "427829d5",
   "metadata": {},
   "outputs": [
    {
     "name": "stderr",
     "output_type": "stream",
     "text": [
      "C:\\Users\\WIN\\Anaconda3\\lib\\site-packages\\sklearn\\utils\\deprecation.py:87: FutureWarning: Function plot_roc_curve is deprecated; Function :func:`plot_roc_curve` is deprecated in 1.0 and will be removed in 1.2. Use one of the class methods: :meth:`sklearn.metric.RocCurveDisplay.from_predictions` or :meth:`sklearn.metric.RocCurveDisplay.from_estimator`.\n",
      "  warnings.warn(msg, category=FutureWarning)\n"
     ]
    },
    {
     "data": {
      "text/plain": [
       "[<matplotlib.lines.Line2D at 0x2268051f490>]"
      ]
     },
     "execution_count": 53,
     "metadata": {},
     "output_type": "execute_result"
    },
    {
     "data": {
      "image/png": "[encoded data removed]",
      "text/plain": [
       "<Figure size 432x288 with 1 Axes>"
      ]
     },
     "metadata": {
      "needs_background": "light"
     },
     "output_type": "display_data"
    }
   ],
   "source": [
    "plot_roc_curve(rfc,over_xtest,over_ytest,color='red')\n",
    "plt.plot([0,1],[0,1])"
   ]
  },
  {
   "cell_type": "markdown",
   "id": "3da851d7",
   "metadata": {},
   "source": [
    "# Now Optimizing Random Forest Classifier Algorithm\n"
   ]
  },
  {
   "cell_type": "markdown",
   "id": "c61cba3d",
   "metadata": {},
   "source": [
    "# Tuning Random Forest Classifier using Randomized Search CV\n"
   ]
  },
  {
   "cell_type": "code",
   "execution_count": 54,
   "id": "aeeca568",
   "metadata": {},
   "outputs": [],
   "source": [
    "from sklearn.model_selection import RandomizedSearchCV"
   ]
  },
  {
   "cell_type": "markdown",
   "id": "ce46ece6",
   "metadata": {},
   "source": [
    "# Assign Parameters"
   ]
  },
  {
   "cell_type": "code",
   "execution_count": 55,
   "id": "82789c13",
   "metadata": {},
   "outputs": [],
   "source": [
    "n_estimators=np.random.randint(15,200,20)\n",
    "criterion=['gini','entropy']\n",
    "max_features=['auto','sqrt','log2']\n",
    "max_depth=np.random.randint(1,12,20)\n",
    "min_samples_split=np.random.randint(1,12,15)\n",
    "\n",
    "parameters={\n",
    "    'n_estimators':n_estimators,\n",
    "     'criterion':criterion,\n",
    "    'max_features':max_features,\n",
    "    'max_depth':max_depth,\n",
    "    'min_samples_split':min_samples_split\n",
    "}"
   ]
  },
  {
   "cell_type": "code",
   "execution_count": 56,
   "id": "68f06075",
   "metadata": {},
   "outputs": [
    {
     "name": "stdout",
     "output_type": "stream",
     "text": [
      "{'n_estimators': array([ 83, 135,  70,  38,  64,  66, 107, 168,  22, 161, 116, 164, 122,\n",
      "       111,  20,  28, 198, 150, 117,  36]), 'criterion': ['gini', 'entropy'], 'max_features': ['auto', 'sqrt', 'log2'], 'max_depth': array([ 6,  4,  2,  5, 10,  8,  1,  9,  3,  9,  8, 10,  5, 10,  2, 11,  7,\n",
      "        4,  5,  6]), 'min_samples_split': array([10,  8,  7,  7,  9,  4,  8,  4,  3,  1,  9,  5, 11,  8, 11])}\n"
     ]
    }
   ],
   "source": [
    "print(parameters)"
   ]
  },
  {
   "cell_type": "code",
   "execution_count": 57,
   "id": "005741bc",
   "metadata": {},
   "outputs": [
    {
     "data": {
      "text/plain": [
       "RandomizedSearchCV(cv=3, estimator=RandomForestClassifier(), n_iter=100,\n",
       "                   param_distributions={'criterion': ['gini', 'entropy'],\n",
       "                                        'max_depth': array([ 6,  4,  2,  5, 10,  8,  1,  9,  3,  9,  8, 10,  5, 10,  2, 11,  7,\n",
       "        4,  5,  6]),\n",
       "                                        'max_features': ['auto', 'sqrt',\n",
       "                                                         'log2'],\n",
       "                                        'min_samples_split': array([10,  8,  7,  7,  9,  4,  8,  4,  3,  1,  9,  5, 11,  8, 11]),\n",
       "                                        'n_estimators': array([ 83, 135,  70,  38,  64,  66, 107, 168,  22, 161, 116, 164, 122,\n",
       "       111,  20,  28, 198, 150, 117,  36])})"
      ]
     },
     "execution_count": 57,
     "metadata": {},
     "output_type": "execute_result"
    }
   ],
   "source": [
    "import warnings\n",
    "warnings.filterwarnings('ignore')\n",
    "r=RandomizedSearchCV(rfc,parameters,n_iter=100,cv=3)\n",
    "r.fit(over_xtrain,over_ytrain)"
   ]
  },
  {
   "cell_type": "code",
   "execution_count": 58,
   "id": "9322b25d",
   "metadata": {},
   "outputs": [
    {
     "data": {
      "text/plain": [
       "{'mean_fit_time': array([ 0.29758827, 32.14595739, 50.57855058, 30.33507268, 67.16160647,\n",
       "         6.39601922,  9.43865061, 25.3247331 , 60.45296144,  5.11798954,\n",
       "         3.07850043, 39.33067838, 13.98481965, 33.19514521,  7.79747955,\n",
       "        24.54971512, 11.64974078, 26.91326515,  7.77664558, 29.07041256,\n",
       "         8.70429214, 15.85942809,  0.2619288 , 44.18053659, 51.63816595,\n",
       "         0.27084637, 51.63780713,  8.04866203, 52.02150687,  4.76659449,\n",
       "        77.07159503, 67.12941058, 27.43897986, 41.66455245, 25.97466954,\n",
       "         7.68555077, 46.94439658, 44.35452811,  9.17779382,  0.25522733,\n",
       "        28.65396277, 10.23516742, 10.83650128,  4.18782719, 77.49540194,\n",
       "        40.49833155, 44.36705661,  9.16217017, 38.47963452, 14.82656535,\n",
       "        38.03554956,  0.22396803, 38.68138258, 14.42820438, 15.55342555,\n",
       "         0.22397765, 32.03338528, 25.16967265, 38.90778017, 39.22862212,\n",
       "        16.26438419, 11.37042753, 15.47029066, 28.63941717, 57.85109719,\n",
       "        47.56979243,  7.77664399, 58.2504735 , 13.01201725,  5.12018752,\n",
       "         5.96400261,  3.82587616, 25.53886445, 37.92007089,  5.33374707,\n",
       "        49.40468399, 34.38007911,  9.21462107, 63.84057419, 38.03534214,\n",
       "        14.02304173,  9.85557747, 35.20609172, 25.10522326, 14.964703  ,\n",
       "        60.24270535, 50.0156699 , 16.72758563, 29.32081572, 41.27495686,\n",
       "        52.52949508,  0.26043646,  0.27606289, 75.77578902, 55.56329139,\n",
       "         8.17913071, 22.79381561, 47.11940201, 30.62243374, 32.39468567]),\n",
       " 'std_fit_time': array([0.02502121, 1.55341114, 4.22053012, 2.70906625, 0.24471767,\n",
       "        0.13304426, 0.11086238, 0.07672906, 0.87591529, 0.04138281,\n",
       "        0.04013592, 2.68711663, 1.76253986, 0.08466888, 0.12171113,\n",
       "        0.1091679 , 0.18205492, 0.1462985 , 0.0410117 , 0.16895268,\n",
       "        0.09978003, 0.03547619, 0.00782579, 0.40275874, 0.10729533,\n",
       "        0.0147401 , 0.35917323, 0.07275253, 0.21061246, 0.05511301,\n",
       "        1.33070053, 0.74504201, 0.09706954, 0.40527225, 0.97000856,\n",
       "        0.01325352, 0.09452644, 0.37639149, 0.06421678, 0.01473218,\n",
       "        0.12368343, 0.0776076 , 0.01662472, 0.12171193, 0.55226308,\n",
       "        0.35705474, 0.13074633, 0.17602073, 0.22158129, 0.07548894,\n",
       "        0.03423324, 0.01472679, 0.54535663, 0.24947486, 0.08622227,\n",
       "        0.00736671, 0.22265498, 0.26010101, 3.64640358, 0.10213676,\n",
       "        0.03155266, 1.65306767, 0.38450879, 0.39288453, 0.06903404,\n",
       "        0.36758799, 0.1859184 , 0.37945575, 0.09579958, 0.14340674,\n",
       "        0.06293534, 0.15000191, 0.11797217, 0.16070682, 0.00736446,\n",
       "        1.37709038, 0.23642517, 0.06559238, 0.28236755, 0.22055877,\n",
       "        0.10364764, 0.17365459, 0.33433771, 0.23987704, 0.22871079,\n",
       "        0.2448143 , 0.39322452, 0.25042214, 0.26057053, 0.17348486,\n",
       "        0.19983806, 0.00736755, 0.0073662 , 4.02309368, 2.41994817,\n",
       "        0.27569951, 0.07836102, 0.49824746, 0.43096276, 0.21119465]),\n",
       " 'mean_score_time': array([0.        , 2.11475062, 3.78462696, 1.84171081, 4.2945927 ,\n",
       "        0.45403401, 0.61954768, 1.68865871, 3.98768926, 0.38023845,\n",
       "        0.28127321, 3.80070599, 0.84010863, 2.18174847, 0.52609126,\n",
       "        1.593877  , 0.78652048, 1.72930153, 0.52087482, 1.96370769,\n",
       "        0.63026023, 1.08862615, 0.        , 2.82529704, 3.38897189,\n",
       "        0.        , 3.44358818, 0.53129244, 3.46702647, 0.4219083 ,\n",
       "        5.00559823, 4.39096904, 1.76055503, 2.6004614 , 1.74011151,\n",
       "        0.76568739, 2.9741919 , 2.80286574, 0.62505205, 0.        ,\n",
       "        1.932441  , 1.01570773, 0.72401547, 0.32814868, 5.04250979,\n",
       "        2.59395043, 2.92731174, 0.64588459, 2.48977653, 1.18010521,\n",
       "        2.41686519, 0.        , 2.38776636, 1.03133074, 1.27093259,\n",
       "        0.        , 2.10432974, 1.60950025, 2.35468427, 2.50019797,\n",
       "        1.07300305, 0.72909228, 1.28788471, 1.99397635, 3.71605968,\n",
       "        2.96898508, 0.53129252, 3.73466802, 0.85944494, 0.43232719,\n",
       "        0.59403268, 0.34898853, 1.76576344, 2.40643541, 0.36982155,\n",
       "        3.29713432, 2.2762231 , 0.76047707, 4.24547966, 2.38560088,\n",
       "        0.93757264, 0.7344319 , 2.5679094 , 1.65637994, 1.19801251,\n",
       "        3.98505831, 3.50027418, 1.09904623, 1.8912255 , 2.68771132,\n",
       "        3.6565361 , 0.        , 0.        , 5.12042697, 3.32317638,\n",
       "        0.56775292, 1.53115884, 3.12003819, 1.97932076, 2.04182935]),\n",
       " 'std_score_time': array([0.00000000e+00, 1.30947982e-01, 9.38752724e-01, 4.08883180e-02,\n",
       "        2.59479547e-01, 2.20109965e-02, 6.82868188e-03, 3.30764646e-02,\n",
       "        3.79821743e-01, 7.36614537e-03, 1.46109075e-06, 1.93949768e+00,\n",
       "        3.24164808e-02, 3.04712161e-02, 3.21117770e-02, 7.96806119e-02,\n",
       "        4.10147978e-02, 8.49532204e-02, 1.47318971e-02, 6.03002572e-02,\n",
       "        3.68307822e-02, 4.48075006e-02, 0.00000000e+00, 1.63896111e-01,\n",
       "        2.33886707e-01, 0.00000000e+00, 8.76771033e-02, 2.21001215e-02,\n",
       "        3.12502615e-01, 2.97996732e-06, 5.89305103e-02, 3.20495542e-01,\n",
       "        1.41117775e-01, 1.15197352e-01, 2.69440592e-02, 2.18803086e-06,\n",
       "        7.02679046e-02, 1.58748178e-01, 4.41986133e-02, 0.00000000e+00,\n",
       "        1.45097266e-01, 7.01885292e-07, 1.47321782e-02, 1.80877156e-06,\n",
       "        6.48018634e-02, 4.60005363e-02, 2.42864266e-01, 5.75326060e-02,\n",
       "        1.42266975e-01, 6.39538893e-03, 4.10192603e-02, 0.00000000e+00,\n",
       "        1.12217910e-01, 1.75561285e-06, 2.94628949e-02, 0.00000000e+00,\n",
       "        1.94856324e-02, 1.16934865e-01, 1.90425201e-02, 7.96786948e-02,\n",
       "        7.36625760e-03, 1.19302165e-01, 5.91775366e-02, 8.42804882e-03,\n",
       "        2.53060274e-01, 6.62973299e-02, 3.82762947e-02, 2.43087681e-01,\n",
       "        1.27543528e-02, 7.36451553e-03, 3.34892275e-04, 2.94640189e-02,\n",
       "        5.84649472e-02, 4.41986695e-02, 7.36861791e-03, 8.36631044e-02,\n",
       "        1.62560004e-01, 7.36895500e-03, 7.83389153e-02, 8.49524018e-02,\n",
       "        5.84677084e-02, 3.37536739e-02, 3.73363688e-01, 2.20970872e-02,\n",
       "        7.36620148e-03, 3.35580086e-01, 2.44422969e-01, 1.47338639e-02,\n",
       "        4.35593861e-02, 8.93133239e-02, 2.08869927e-01, 0.00000000e+00,\n",
       "        0.00000000e+00, 6.36247832e-01, 1.11472017e-01, 7.36788728e-03,\n",
       "        1.50135987e-01, 2.33986832e-01, 4.10088933e-02, 7.79577800e-02]),\n",
       " 'param_n_estimators': masked_array(data=[164, 70, 116, 111, 168, 28, 36, 117, 164, 20, 22, 150,\n",
       "                    36, 135, 20, 64, 28, 70, 22, 70, 20, 36, 161, 107, 135,\n",
       "                    116, 135, 22, 135, 36, 198, 164, 70, 117, 122, 83, 164,\n",
       "                    116, 22, 107, 64, 111, 38, 20, 198, 161, 107, 22, 107,\n",
       "                    111, 150, 38, 107, 83, 117, 38, 150, 70, 164, 150, 64,\n",
       "                    38, 116, 164, 150, 164, 20, 150, 36, 38, 64, 28, 66,\n",
       "                    150, 20, 117, 83, 70, 164, 107, 36, 22, 164, 117, 111,\n",
       "                    168, 111, 66, 116, 164, 117, 117, 164, 168, 164, 38,\n",
       "                    70, 122, 122, 111],\n",
       "              mask=[False, False, False, False, False, False, False, False,\n",
       "                    False, False, False, False, False, False, False, False,\n",
       "                    False, False, False, False, False, False, False, False,\n",
       "                    False, False, False, False, False, False, False, False,\n",
       "                    False, False, False, False, False, False, False, False,\n",
       "                    False, False, False, False, False, False, False, False,\n",
       "                    False, False, False, False, False, False, False, False,\n",
       "                    False, False, False, False, False, False, False, False,\n",
       "                    False, False, False, False, False, False, False, False,\n",
       "                    False, False, False, False, False, False, False, False,\n",
       "                    False, False, False, False, False, False, False, False,\n",
       "                    False, False, False, False, False, False, False, False,\n",
       "                    False, False, False, False],\n",
       "        fill_value='?',\n",
       "             dtype=object),\n",
       " 'param_min_samples_split': masked_array(data=[1, 11, 5, 10, 8, 8, 8, 4, 11, 8, 8, 3, 3, 10, 9, 9, 4,\n",
       "                    11, 5, 11, 7, 11, 1, 11, 7, 1, 10, 7, 4, 8, 8, 8, 7, 8,\n",
       "                    4, 3, 4, 7, 7, 1, 8, 5, 5, 9, 11, 5, 9, 11, 7, 4, 7, 1,\n",
       "                    4, 3, 3, 1, 8, 8, 7, 8, 10, 9, 9, 8, 9, 3, 5, 3, 5, 8,\n",
       "                    11, 7, 4, 8, 9, 8, 4, 7, 9, 7, 8, 4, 10, 9, 8, 9, 8, 7,\n",
       "                    3, 4, 9, 1, 1, 10, 4, 4, 4, 9, 3, 4],\n",
       "              mask=[False, False, False, False, False, False, False, False,\n",
       "                    False, False, False, False, False, False, False, False,\n",
       "                    False, False, False, False, False, False, False, False,\n",
       "                    False, False, False, False, False, False, False, False,\n",
       "                    False, False, False, False, False, False, False, False,\n",
       "                    False, False, False, False, False, False, False, False,\n",
       "                    False, False, False, False, False, False, False, False,\n",
       "                    False, False, False, False, False, False, False, False,\n",
       "                    False, False, False, False, False, False, False, False,\n",
       "                    False, False, False, False, False, False, False, False,\n",
       "                    False, False, False, False, False, False, False, False,\n",
       "                    False, False, False, False, False, False, False, False,\n",
       "                    False, False, False, False],\n",
       "        fill_value='?',\n",
       "             dtype=object),\n",
       " 'param_max_features': masked_array(data=['log2', 'auto', 'sqrt', 'auto', 'log2', 'auto', 'auto',\n",
       "                    'auto', 'log2', 'auto', 'log2', 'sqrt', 'sqrt', 'log2',\n",
       "                    'auto', 'auto', 'log2', 'sqrt', 'sqrt', 'auto', 'log2',\n",
       "                    'auto', 'log2', 'sqrt', 'auto', 'log2', 'sqrt', 'auto',\n",
       "                    'log2', 'sqrt', 'sqrt', 'auto', 'sqrt', 'log2', 'auto',\n",
       "                    'sqrt', 'auto', 'auto', 'auto', 'sqrt', 'auto', 'log2',\n",
       "                    'auto', 'auto', 'sqrt', 'auto', 'log2', 'sqrt', 'auto',\n",
       "                    'sqrt', 'log2', 'auto', 'log2', 'sqrt', 'log2', 'auto',\n",
       "                    'auto', 'log2', 'log2', 'sqrt', 'auto', 'sqrt', 'auto',\n",
       "                    'log2', 'auto', 'log2', 'log2', 'auto', 'auto', 'sqrt',\n",
       "                    'sqrt', 'sqrt', 'log2', 'auto', 'log2', 'log2', 'auto',\n",
       "                    'log2', 'sqrt', 'auto', 'sqrt', 'auto', 'log2', 'sqrt',\n",
       "                    'auto', 'log2', 'sqrt', 'sqrt', 'sqrt', 'log2', 'log2',\n",
       "                    'log2', 'log2', 'sqrt', 'log2', 'log2', 'auto', 'auto',\n",
       "                    'log2', 'auto'],\n",
       "              mask=[False, False, False, False, False, False, False, False,\n",
       "                    False, False, False, False, False, False, False, False,\n",
       "                    False, False, False, False, False, False, False, False,\n",
       "                    False, False, False, False, False, False, False, False,\n",
       "                    False, False, False, False, False, False, False, False,\n",
       "                    False, False, False, False, False, False, False, False,\n",
       "                    False, False, False, False, False, False, False, False,\n",
       "                    False, False, False, False, False, False, False, False,\n",
       "                    False, False, False, False, False, False, False, False,\n",
       "                    False, False, False, False, False, False, False, False,\n",
       "                    False, False, False, False, False, False, False, False,\n",
       "                    False, False, False, False, False, False, False, False,\n",
       "                    False, False, False, False],\n",
       "        fill_value='?',\n",
       "             dtype=object),\n",
       " 'param_max_depth': masked_array(data=[8, 11, 9, 5, 9, 4, 5, 4, 8, 5, 2, 5, 8, 5, 9, 9, 10, 9,\n",
       "                    8, 10, 11, 11, 9, 10, 9, 6, 9, 8, 9, 2, 9, 10, 9, 8, 4,\n",
       "                    1, 6, 9, 10, 4, 11, 1, 6, 4, 9, 5, 10, 10, 8, 2, 5, 10,\n",
       "                    8, 3, 2, 8, 4, 8, 4, 5, 5, 5, 2, 3, 9, 6, 9, 9, 8, 2,\n",
       "                    1, 2, 9, 5, 5, 10, 10, 2, 9, 8, 9, 11, 4, 4, 2, 8, 11,\n",
       "                    5, 5, 5, 11, 2, 10, 10, 7, 4, 7, 9, 5, 6],\n",
       "              mask=[False, False, False, False, False, False, False, False,\n",
       "                    False, False, False, False, False, False, False, False,\n",
       "                    False, False, False, False, False, False, False, False,\n",
       "                    False, False, False, False, False, False, False, False,\n",
       "                    False, False, False, False, False, False, False, False,\n",
       "                    False, False, False, False, False, False, False, False,\n",
       "                    False, False, False, False, False, False, False, False,\n",
       "                    False, False, False, False, False, False, False, False,\n",
       "                    False, False, False, False, False, False, False, False,\n",
       "                    False, False, False, False, False, False, False, False,\n",
       "                    False, False, False, False, False, False, False, False,\n",
       "                    False, False, False, False, False, False, False, False,\n",
       "                    False, False, False, False],\n",
       "        fill_value='?',\n",
       "             dtype=object),\n",
       " 'param_criterion': masked_array(data=['gini', 'gini', 'gini', 'gini', 'entropy', 'entropy',\n",
       "                    'gini', 'gini', 'gini', 'gini', 'gini', 'entropy',\n",
       "                    'gini', 'entropy', 'entropy', 'gini', 'entropy',\n",
       "                    'gini', 'entropy', 'entropy', 'gini', 'entropy',\n",
       "                    'gini', 'gini', 'gini', 'entropy', 'gini', 'entropy',\n",
       "                    'gini', 'gini', 'entropy', 'gini', 'entropy',\n",
       "                    'entropy', 'entropy', 'entropy', 'gini', 'gini',\n",
       "                    'entropy', 'gini', 'entropy', 'entropy', 'gini',\n",
       "                    'entropy', 'entropy', 'gini', 'gini', 'gini',\n",
       "                    'entropy', 'entropy', 'entropy', 'gini', 'entropy',\n",
       "                    'entropy', 'gini', 'gini', 'entropy', 'gini', 'gini',\n",
       "                    'gini', 'entropy', 'entropy', 'gini', 'entropy',\n",
       "                    'gini', 'entropy', 'gini', 'gini', 'gini', 'gini',\n",
       "                    'entropy', 'gini', 'gini', 'entropy', 'entropy',\n",
       "                    'entropy', 'entropy', 'entropy', 'entropy', 'gini',\n",
       "                    'entropy', 'gini', 'gini', 'gini', 'gini', 'gini',\n",
       "                    'entropy', 'gini', 'entropy', 'gini', 'entropy',\n",
       "                    'entropy', 'entropy', 'gini', 'gini', 'gini', 'gini',\n",
       "                    'gini', 'gini', 'entropy'],\n",
       "              mask=[False, False, False, False, False, False, False, False,\n",
       "                    False, False, False, False, False, False, False, False,\n",
       "                    False, False, False, False, False, False, False, False,\n",
       "                    False, False, False, False, False, False, False, False,\n",
       "                    False, False, False, False, False, False, False, False,\n",
       "                    False, False, False, False, False, False, False, False,\n",
       "                    False, False, False, False, False, False, False, False,\n",
       "                    False, False, False, False, False, False, False, False,\n",
       "                    False, False, False, False, False, False, False, False,\n",
       "                    False, False, False, False, False, False, False, False,\n",
       "                    False, False, False, False, False, False, False, False,\n",
       "                    False, False, False, False, False, False, False, False,\n",
       "                    False, False, False, False],\n",
       "        fill_value='?',\n",
       "             dtype=object),\n",
       " 'params': [{'n_estimators': 164,\n",
       "   'min_samples_split': 1,\n",
       "   'max_features': 'log2',\n",
       "   'max_depth': 8,\n",
       "   'criterion': 'gini'},\n",
       "  {'n_estimators': 70,\n",
       "   'min_samples_split': 11,\n",
       "   'max_features': 'auto',\n",
       "   'max_depth': 11,\n",
       "   'criterion': 'gini'},\n",
       "  {'n_estimators': 116,\n",
       "   'min_samples_split': 5,\n",
       "   'max_features': 'sqrt',\n",
       "   'max_depth': 9,\n",
       "   'criterion': 'gini'},\n",
       "  {'n_estimators': 111,\n",
       "   'min_samples_split': 10,\n",
       "   'max_features': 'auto',\n",
       "   'max_depth': 5,\n",
       "   'criterion': 'gini'},\n",
       "  {'n_estimators': 168,\n",
       "   'min_samples_split': 8,\n",
       "   'max_features': 'log2',\n",
       "   'max_depth': 9,\n",
       "   'criterion': 'entropy'},\n",
       "  {'n_estimators': 28,\n",
       "   'min_samples_split': 8,\n",
       "   'max_features': 'auto',\n",
       "   'max_depth': 4,\n",
       "   'criterion': 'entropy'},\n",
       "  {'n_estimators': 36,\n",
       "   'min_samples_split': 8,\n",
       "   'max_features': 'auto',\n",
       "   'max_depth': 5,\n",
       "   'criterion': 'gini'},\n",
       "  {'n_estimators': 117,\n",
       "   'min_samples_split': 4,\n",
       "   'max_features': 'auto',\n",
       "   'max_depth': 4,\n",
       "   'criterion': 'gini'},\n",
       "  {'n_estimators': 164,\n",
       "   'min_samples_split': 11,\n",
       "   'max_features': 'log2',\n",
       "   'max_depth': 8,\n",
       "   'criterion': 'gini'},\n",
       "  {'n_estimators': 20,\n",
       "   'min_samples_split': 8,\n",
       "   'max_features': 'auto',\n",
       "   'max_depth': 5,\n",
       "   'criterion': 'gini'},\n",
       "  {'n_estimators': 22,\n",
       "   'min_samples_split': 8,\n",
       "   'max_features': 'log2',\n",
       "   'max_depth': 2,\n",
       "   'criterion': 'gini'},\n",
       "  {'n_estimators': 150,\n",
       "   'min_samples_split': 3,\n",
       "   'max_features': 'sqrt',\n",
       "   'max_depth': 5,\n",
       "   'criterion': 'entropy'},\n",
       "  {'n_estimators': 36,\n",
       "   'min_samples_split': 3,\n",
       "   'max_features': 'sqrt',\n",
       "   'max_depth': 8,\n",
       "   'criterion': 'gini'},\n",
       "  {'n_estimators': 135,\n",
       "   'min_samples_split': 10,\n",
       "   'max_features': 'log2',\n",
       "   'max_depth': 5,\n",
       "   'criterion': 'entropy'},\n",
       "  {'n_estimators': 20,\n",
       "   'min_samples_split': 9,\n",
       "   'max_features': 'auto',\n",
       "   'max_depth': 9,\n",
       "   'criterion': 'entropy'},\n",
       "  {'n_estimators': 64,\n",
       "   'min_samples_split': 9,\n",
       "   'max_features': 'auto',\n",
       "   'max_depth': 9,\n",
       "   'criterion': 'gini'},\n",
       "  {'n_estimators': 28,\n",
       "   'min_samples_split': 4,\n",
       "   'max_features': 'log2',\n",
       "   'max_depth': 10,\n",
       "   'criterion': 'entropy'},\n",
       "  {'n_estimators': 70,\n",
       "   'min_samples_split': 11,\n",
       "   'max_features': 'sqrt',\n",
       "   'max_depth': 9,\n",
       "   'criterion': 'gini'},\n",
       "  {'n_estimators': 22,\n",
       "   'min_samples_split': 5,\n",
       "   'max_features': 'sqrt',\n",
       "   'max_depth': 8,\n",
       "   'criterion': 'entropy'},\n",
       "  {'n_estimators': 70,\n",
       "   'min_samples_split': 11,\n",
       "   'max_features': 'auto',\n",
       "   'max_depth': 10,\n",
       "   'criterion': 'entropy'},\n",
       "  {'n_estimators': 20,\n",
       "   'min_samples_split': 7,\n",
       "   'max_features': 'log2',\n",
       "   'max_depth': 11,\n",
       "   'criterion': 'gini'},\n",
       "  {'n_estimators': 36,\n",
       "   'min_samples_split': 11,\n",
       "   'max_features': 'auto',\n",
       "   'max_depth': 11,\n",
       "   'criterion': 'entropy'},\n",
       "  {'n_estimators': 161,\n",
       "   'min_samples_split': 1,\n",
       "   'max_features': 'log2',\n",
       "   'max_depth': 9,\n",
       "   'criterion': 'gini'},\n",
       "  {'n_estimators': 107,\n",
       "   'min_samples_split': 11,\n",
       "   'max_features': 'sqrt',\n",
       "   'max_depth': 10,\n",
       "   'criterion': 'gini'},\n",
       "  {'n_estimators': 135,\n",
       "   'min_samples_split': 7,\n",
       "   'max_features': 'auto',\n",
       "   'max_depth': 9,\n",
       "   'criterion': 'gini'},\n",
       "  {'n_estimators': 116,\n",
       "   'min_samples_split': 1,\n",
       "   'max_features': 'log2',\n",
       "   'max_depth': 6,\n",
       "   'criterion': 'entropy'},\n",
       "  {'n_estimators': 135,\n",
       "   'min_samples_split': 10,\n",
       "   'max_features': 'sqrt',\n",
       "   'max_depth': 9,\n",
       "   'criterion': 'gini'},\n",
       "  {'n_estimators': 22,\n",
       "   'min_samples_split': 7,\n",
       "   'max_features': 'auto',\n",
       "   'max_depth': 8,\n",
       "   'criterion': 'entropy'},\n",
       "  {'n_estimators': 135,\n",
       "   'min_samples_split': 4,\n",
       "   'max_features': 'log2',\n",
       "   'max_depth': 9,\n",
       "   'criterion': 'gini'},\n",
       "  {'n_estimators': 36,\n",
       "   'min_samples_split': 8,\n",
       "   'max_features': 'sqrt',\n",
       "   'max_depth': 2,\n",
       "   'criterion': 'gini'},\n",
       "  {'n_estimators': 198,\n",
       "   'min_samples_split': 8,\n",
       "   'max_features': 'sqrt',\n",
       "   'max_depth': 9,\n",
       "   'criterion': 'entropy'},\n",
       "  {'n_estimators': 164,\n",
       "   'min_samples_split': 8,\n",
       "   'max_features': 'auto',\n",
       "   'max_depth': 10,\n",
       "   'criterion': 'gini'},\n",
       "  {'n_estimators': 70,\n",
       "   'min_samples_split': 7,\n",
       "   'max_features': 'sqrt',\n",
       "   'max_depth': 9,\n",
       "   'criterion': 'entropy'},\n",
       "  {'n_estimators': 117,\n",
       "   'min_samples_split': 8,\n",
       "   'max_features': 'log2',\n",
       "   'max_depth': 8,\n",
       "   'criterion': 'entropy'},\n",
       "  {'n_estimators': 122,\n",
       "   'min_samples_split': 4,\n",
       "   'max_features': 'auto',\n",
       "   'max_depth': 4,\n",
       "   'criterion': 'entropy'},\n",
       "  {'n_estimators': 83,\n",
       "   'min_samples_split': 3,\n",
       "   'max_features': 'sqrt',\n",
       "   'max_depth': 1,\n",
       "   'criterion': 'entropy'},\n",
       "  {'n_estimators': 164,\n",
       "   'min_samples_split': 4,\n",
       "   'max_features': 'auto',\n",
       "   'max_depth': 6,\n",
       "   'criterion': 'gini'},\n",
       "  {'n_estimators': 116,\n",
       "   'min_samples_split': 7,\n",
       "   'max_features': 'auto',\n",
       "   'max_depth': 9,\n",
       "   'criterion': 'gini'},\n",
       "  {'n_estimators': 22,\n",
       "   'min_samples_split': 7,\n",
       "   'max_features': 'auto',\n",
       "   'max_depth': 10,\n",
       "   'criterion': 'entropy'},\n",
       "  {'n_estimators': 107,\n",
       "   'min_samples_split': 1,\n",
       "   'max_features': 'sqrt',\n",
       "   'max_depth': 4,\n",
       "   'criterion': 'gini'},\n",
       "  {'n_estimators': 64,\n",
       "   'min_samples_split': 8,\n",
       "   'max_features': 'auto',\n",
       "   'max_depth': 11,\n",
       "   'criterion': 'entropy'},\n",
       "  {'n_estimators': 111,\n",
       "   'min_samples_split': 5,\n",
       "   'max_features': 'log2',\n",
       "   'max_depth': 1,\n",
       "   'criterion': 'entropy'},\n",
       "  {'n_estimators': 38,\n",
       "   'min_samples_split': 5,\n",
       "   'max_features': 'auto',\n",
       "   'max_depth': 6,\n",
       "   'criterion': 'gini'},\n",
       "  {'n_estimators': 20,\n",
       "   'min_samples_split': 9,\n",
       "   'max_features': 'auto',\n",
       "   'max_depth': 4,\n",
       "   'criterion': 'entropy'},\n",
       "  {'n_estimators': 198,\n",
       "   'min_samples_split': 11,\n",
       "   'max_features': 'sqrt',\n",
       "   'max_depth': 9,\n",
       "   'criterion': 'entropy'},\n",
       "  {'n_estimators': 161,\n",
       "   'min_samples_split': 5,\n",
       "   'max_features': 'auto',\n",
       "   'max_depth': 5,\n",
       "   'criterion': 'gini'},\n",
       "  {'n_estimators': 107,\n",
       "   'min_samples_split': 9,\n",
       "   'max_features': 'log2',\n",
       "   'max_depth': 10,\n",
       "   'criterion': 'gini'},\n",
       "  {'n_estimators': 22,\n",
       "   'min_samples_split': 11,\n",
       "   'max_features': 'sqrt',\n",
       "   'max_depth': 10,\n",
       "   'criterion': 'gini'},\n",
       "  {'n_estimators': 107,\n",
       "   'min_samples_split': 7,\n",
       "   'max_features': 'auto',\n",
       "   'max_depth': 8,\n",
       "   'criterion': 'entropy'},\n",
       "  {'n_estimators': 111,\n",
       "   'min_samples_split': 4,\n",
       "   'max_features': 'sqrt',\n",
       "   'max_depth': 2,\n",
       "   'criterion': 'entropy'},\n",
       "  {'n_estimators': 150,\n",
       "   'min_samples_split': 7,\n",
       "   'max_features': 'log2',\n",
       "   'max_depth': 5,\n",
       "   'criterion': 'entropy'},\n",
       "  {'n_estimators': 38,\n",
       "   'min_samples_split': 1,\n",
       "   'max_features': 'auto',\n",
       "   'max_depth': 10,\n",
       "   'criterion': 'gini'},\n",
       "  {'n_estimators': 107,\n",
       "   'min_samples_split': 4,\n",
       "   'max_features': 'log2',\n",
       "   'max_depth': 8,\n",
       "   'criterion': 'entropy'},\n",
       "  {'n_estimators': 83,\n",
       "   'min_samples_split': 3,\n",
       "   'max_features': 'sqrt',\n",
       "   'max_depth': 3,\n",
       "   'criterion': 'entropy'},\n",
       "  {'n_estimators': 117,\n",
       "   'min_samples_split': 3,\n",
       "   'max_features': 'log2',\n",
       "   'max_depth': 2,\n",
       "   'criterion': 'gini'},\n",
       "  {'n_estimators': 38,\n",
       "   'min_samples_split': 1,\n",
       "   'max_features': 'auto',\n",
       "   'max_depth': 8,\n",
       "   'criterion': 'gini'},\n",
       "  {'n_estimators': 150,\n",
       "   'min_samples_split': 8,\n",
       "   'max_features': 'auto',\n",
       "   'max_depth': 4,\n",
       "   'criterion': 'entropy'},\n",
       "  {'n_estimators': 70,\n",
       "   'min_samples_split': 8,\n",
       "   'max_features': 'log2',\n",
       "   'max_depth': 8,\n",
       "   'criterion': 'gini'},\n",
       "  {'n_estimators': 164,\n",
       "   'min_samples_split': 7,\n",
       "   'max_features': 'log2',\n",
       "   'max_depth': 4,\n",
       "   'criterion': 'gini'},\n",
       "  {'n_estimators': 150,\n",
       "   'min_samples_split': 8,\n",
       "   'max_features': 'sqrt',\n",
       "   'max_depth': 5,\n",
       "   'criterion': 'gini'},\n",
       "  {'n_estimators': 64,\n",
       "   'min_samples_split': 10,\n",
       "   'max_features': 'auto',\n",
       "   'max_depth': 5,\n",
       "   'criterion': 'entropy'},\n",
       "  {'n_estimators': 38,\n",
       "   'min_samples_split': 9,\n",
       "   'max_features': 'sqrt',\n",
       "   'max_depth': 5,\n",
       "   'criterion': 'entropy'},\n",
       "  {'n_estimators': 116,\n",
       "   'min_samples_split': 9,\n",
       "   'max_features': 'auto',\n",
       "   'max_depth': 2,\n",
       "   'criterion': 'gini'},\n",
       "  {'n_estimators': 164,\n",
       "   'min_samples_split': 8,\n",
       "   'max_features': 'log2',\n",
       "   'max_depth': 3,\n",
       "   'criterion': 'entropy'},\n",
       "  {'n_estimators': 150,\n",
       "   'min_samples_split': 9,\n",
       "   'max_features': 'auto',\n",
       "   'max_depth': 9,\n",
       "   'criterion': 'gini'},\n",
       "  {'n_estimators': 164,\n",
       "   'min_samples_split': 3,\n",
       "   'max_features': 'log2',\n",
       "   'max_depth': 6,\n",
       "   'criterion': 'entropy'},\n",
       "  {'n_estimators': 20,\n",
       "   'min_samples_split': 5,\n",
       "   'max_features': 'log2',\n",
       "   'max_depth': 9,\n",
       "   'criterion': 'gini'},\n",
       "  {'n_estimators': 150,\n",
       "   'min_samples_split': 3,\n",
       "   'max_features': 'auto',\n",
       "   'max_depth': 9,\n",
       "   'criterion': 'gini'},\n",
       "  {'n_estimators': 36,\n",
       "   'min_samples_split': 5,\n",
       "   'max_features': 'auto',\n",
       "   'max_depth': 8,\n",
       "   'criterion': 'gini'},\n",
       "  {'n_estimators': 38,\n",
       "   'min_samples_split': 8,\n",
       "   'max_features': 'sqrt',\n",
       "   'max_depth': 2,\n",
       "   'criterion': 'gini'},\n",
       "  {'n_estimators': 64,\n",
       "   'min_samples_split': 11,\n",
       "   'max_features': 'sqrt',\n",
       "   'max_depth': 1,\n",
       "   'criterion': 'entropy'},\n",
       "  {'n_estimators': 28,\n",
       "   'min_samples_split': 7,\n",
       "   'max_features': 'sqrt',\n",
       "   'max_depth': 2,\n",
       "   'criterion': 'gini'},\n",
       "  {'n_estimators': 66,\n",
       "   'min_samples_split': 4,\n",
       "   'max_features': 'log2',\n",
       "   'max_depth': 9,\n",
       "   'criterion': 'gini'},\n",
       "  {'n_estimators': 150,\n",
       "   'min_samples_split': 8,\n",
       "   'max_features': 'auto',\n",
       "   'max_depth': 5,\n",
       "   'criterion': 'entropy'},\n",
       "  {'n_estimators': 20,\n",
       "   'min_samples_split': 9,\n",
       "   'max_features': 'log2',\n",
       "   'max_depth': 5,\n",
       "   'criterion': 'entropy'},\n",
       "  {'n_estimators': 117,\n",
       "   'min_samples_split': 8,\n",
       "   'max_features': 'log2',\n",
       "   'max_depth': 10,\n",
       "   'criterion': 'entropy'},\n",
       "  {'n_estimators': 83,\n",
       "   'min_samples_split': 4,\n",
       "   'max_features': 'auto',\n",
       "   'max_depth': 10,\n",
       "   'criterion': 'entropy'},\n",
       "  {'n_estimators': 70,\n",
       "   'min_samples_split': 7,\n",
       "   'max_features': 'log2',\n",
       "   'max_depth': 2,\n",
       "   'criterion': 'entropy'},\n",
       "  {'n_estimators': 164,\n",
       "   'min_samples_split': 9,\n",
       "   'max_features': 'sqrt',\n",
       "   'max_depth': 9,\n",
       "   'criterion': 'entropy'},\n",
       "  {'n_estimators': 107,\n",
       "   'min_samples_split': 7,\n",
       "   'max_features': 'auto',\n",
       "   'max_depth': 8,\n",
       "   'criterion': 'gini'},\n",
       "  {'n_estimators': 36,\n",
       "   'min_samples_split': 8,\n",
       "   'max_features': 'sqrt',\n",
       "   'max_depth': 9,\n",
       "   'criterion': 'entropy'},\n",
       "  {'n_estimators': 22,\n",
       "   'min_samples_split': 4,\n",
       "   'max_features': 'auto',\n",
       "   'max_depth': 11,\n",
       "   'criterion': 'gini'},\n",
       "  {'n_estimators': 164,\n",
       "   'min_samples_split': 10,\n",
       "   'max_features': 'log2',\n",
       "   'max_depth': 4,\n",
       "   'criterion': 'gini'},\n",
       "  {'n_estimators': 117,\n",
       "   'min_samples_split': 9,\n",
       "   'max_features': 'sqrt',\n",
       "   'max_depth': 4,\n",
       "   'criterion': 'gini'},\n",
       "  {'n_estimators': 111,\n",
       "   'min_samples_split': 8,\n",
       "   'max_features': 'auto',\n",
       "   'max_depth': 2,\n",
       "   'criterion': 'gini'},\n",
       "  {'n_estimators': 168,\n",
       "   'min_samples_split': 9,\n",
       "   'max_features': 'log2',\n",
       "   'max_depth': 8,\n",
       "   'criterion': 'gini'},\n",
       "  {'n_estimators': 111,\n",
       "   'min_samples_split': 8,\n",
       "   'max_features': 'sqrt',\n",
       "   'max_depth': 11,\n",
       "   'criterion': 'entropy'},\n",
       "  {'n_estimators': 66,\n",
       "   'min_samples_split': 7,\n",
       "   'max_features': 'sqrt',\n",
       "   'max_depth': 5,\n",
       "   'criterion': 'gini'},\n",
       "  {'n_estimators': 116,\n",
       "   'min_samples_split': 3,\n",
       "   'max_features': 'sqrt',\n",
       "   'max_depth': 5,\n",
       "   'criterion': 'entropy'},\n",
       "  {'n_estimators': 164,\n",
       "   'min_samples_split': 4,\n",
       "   'max_features': 'log2',\n",
       "   'max_depth': 5,\n",
       "   'criterion': 'gini'},\n",
       "  {'n_estimators': 117,\n",
       "   'min_samples_split': 9,\n",
       "   'max_features': 'log2',\n",
       "   'max_depth': 11,\n",
       "   'criterion': 'entropy'},\n",
       "  {'n_estimators': 117,\n",
       "   'min_samples_split': 1,\n",
       "   'max_features': 'log2',\n",
       "   'max_depth': 2,\n",
       "   'criterion': 'entropy'},\n",
       "  {'n_estimators': 164,\n",
       "   'min_samples_split': 1,\n",
       "   'max_features': 'log2',\n",
       "   'max_depth': 10,\n",
       "   'criterion': 'entropy'},\n",
       "  {'n_estimators': 168,\n",
       "   'min_samples_split': 10,\n",
       "   'max_features': 'sqrt',\n",
       "   'max_depth': 10,\n",
       "   'criterion': 'gini'},\n",
       "  {'n_estimators': 164,\n",
       "   'min_samples_split': 4,\n",
       "   'max_features': 'log2',\n",
       "   'max_depth': 7,\n",
       "   'criterion': 'gini'},\n",
       "  {'n_estimators': 38,\n",
       "   'min_samples_split': 4,\n",
       "   'max_features': 'log2',\n",
       "   'max_depth': 4,\n",
       "   'criterion': 'gini'},\n",
       "  {'n_estimators': 70,\n",
       "   'min_samples_split': 4,\n",
       "   'max_features': 'auto',\n",
       "   'max_depth': 7,\n",
       "   'criterion': 'gini'},\n",
       "  {'n_estimators': 122,\n",
       "   'min_samples_split': 9,\n",
       "   'max_features': 'auto',\n",
       "   'max_depth': 9,\n",
       "   'criterion': 'gini'},\n",
       "  {'n_estimators': 122,\n",
       "   'min_samples_split': 3,\n",
       "   'max_features': 'log2',\n",
       "   'max_depth': 5,\n",
       "   'criterion': 'gini'},\n",
       "  {'n_estimators': 111,\n",
       "   'min_samples_split': 4,\n",
       "   'max_features': 'auto',\n",
       "   'max_depth': 6,\n",
       "   'criterion': 'entropy'}],\n",
       " 'split0_test_score': array([       nan, 0.77008901, 0.76237508, 0.75094472, 0.76225016,\n",
       "        0.74387102, 0.74822767, 0.74729076, 0.75926765, 0.75150687,\n",
       "        0.73714085, 0.7515381 , 0.75900219, 0.75293567, 0.76125078,\n",
       "        0.76228139, 0.76463148, 0.76264834, 0.75855715, 0.76580262,\n",
       "        0.77104934, 0.77016708,        nan, 0.76545128, 0.76174266,\n",
       "               nan, 0.76230481, 0.75708932, 0.76249219, 0.70754216,\n",
       "        0.76152405, 0.76577139, 0.76181293, 0.75929888, 0.74862586,\n",
       "        0.71269519, 0.75417708, 0.762094  , 0.76402249,        nan,\n",
       "        0.76889444, 0.71637258, 0.75388039, 0.74170831, 0.76133666,\n",
       "        0.75192067, 0.76527951, 0.76474079, 0.75862742, 0.73958463,\n",
       "        0.75077295,        nan, 0.75955653, 0.7438554 , 0.73865553,\n",
       "               nan, 0.74845409, 0.75851031, 0.74796221, 0.75093691,\n",
       "        0.749594  , 0.7503123 , 0.72841193, 0.74416771, 0.76217208,\n",
       "        0.75524672, 0.76114928, 0.76225796, 0.75921299, 0.72478139,\n",
       "        0.70815116, 0.73518114, 0.76156309, 0.75207683, 0.74826671,\n",
       "        0.76502186, 0.76560743, 0.72724859, 0.76128201, 0.75933791,\n",
       "        0.76124297, 0.7710025 , 0.74770456, 0.74874297, 0.73372892,\n",
       "        0.7589163 , 0.77019831, 0.75113991, 0.75095253, 0.75145222,\n",
       "        0.77082292,        nan,        nan, 0.76570112, 0.75608994,\n",
       "        0.74652561, 0.75654279, 0.76193004, 0.7511321 , 0.75496565]),\n",
       " 'split1_test_score': array([       nan, 0.77160971, 0.76289634, 0.75046651, 0.76203749,\n",
       "        0.74777286, 0.75077101, 0.74859267, 0.75946096, 0.74981847,\n",
       "        0.73661568, 0.75152055, 0.75886757, 0.75295716, 0.76196722,\n",
       "        0.76305249, 0.76477799, 0.76273238, 0.75741535, 0.76537918,\n",
       "        0.77127398, 0.77046198,        nan, 0.76596476, 0.76243568,\n",
       "               nan, 0.7625528 , 0.7593985 , 0.76262307, 0.72395943,\n",
       "        0.76230295, 0.76701879, 0.76271676, 0.75984353, 0.74983409,\n",
       "        0.72377205, 0.75465143, 0.76236542, 0.76484045,        nan,\n",
       "        0.77022775, 0.69626559, 0.75494031, 0.7432444 , 0.76138165,\n",
       "        0.75149712, 0.76709687, 0.76637076, 0.7596093 , 0.73595203,\n",
       "        0.75365204,        nan, 0.76022611, 0.74518852, 0.74073814,\n",
       "               nan, 0.7502557 , 0.75907057, 0.74952959, 0.75354274,\n",
       "        0.7537145 , 0.75077882, 0.73343796, 0.74692182, 0.76225611,\n",
       "        0.7555415 , 0.76093661, 0.76338822, 0.75861773, 0.70800053,\n",
       "        0.71331756, 0.70066912, 0.76373176, 0.75260581, 0.75175478,\n",
       "        0.76563683, 0.76672991, 0.72875335, 0.76195942, 0.75949219,\n",
       "        0.76280265, 0.77202352, 0.74733563, 0.74895963, 0.73240734,\n",
       "        0.759906  , 0.77096948, 0.75272293, 0.75301181, 0.75293374,\n",
       "        0.77102413,        nan,        nan, 0.76637856, 0.75782134,\n",
       "        0.74693744, 0.75605681, 0.76309934, 0.75048993, 0.75543219]),\n",
       " 'split2_test_score': array([       nan, 0.7713989 , 0.76382545, 0.75047432, 0.76247472,\n",
       "        0.74612544, 0.75109112, 0.74935001, 0.7610303 , 0.75061485,\n",
       "        0.73934056, 0.75415173, 0.75965615, 0.75394093, 0.76249815,\n",
       "        0.76240445, 0.7655041 , 0.76243568, 0.75907057, 0.76637076,\n",
       "        0.77193763, 0.76955629,        nan, 0.76691729, 0.76293538,\n",
       "               nan, 0.76362245, 0.76090538, 0.76380984, 0.73627214,\n",
       "        0.76268553, 0.76750287, 0.76301345, 0.76055403, 0.74977163,\n",
       "        0.69756166, 0.75637692, 0.76291195, 0.76548849,        nan,\n",
       "        0.77224213, 0.69927154, 0.75227789, 0.72452939, 0.76333357,\n",
       "        0.75316016, 0.76739356, 0.76596476, 0.76018707, 0.73104881,\n",
       "        0.75416735,        nan, 0.76050719, 0.7406991 , 0.7344998 ,\n",
       "               nan, 0.74997463, 0.76113961, 0.74737467, 0.75374574,\n",
       "        0.75252774, 0.75200462, 0.73503072, 0.74207325, 0.76307591,\n",
       "        0.75604119, 0.76101469, 0.76416899, 0.75926577, 0.7265672 ,\n",
       "        0.70308169, 0.72263993, 0.76386449, 0.75344124, 0.74707017,\n",
       "        0.76638637, 0.76664402, 0.73534303, 0.76324768, 0.75976546,\n",
       "        0.76147534, 0.77239048, 0.75020886, 0.74971697, 0.73690457,\n",
       "        0.76102249, 0.7710944 , 0.75275416, 0.75305866, 0.75383162,\n",
       "        0.77126617,        nan,        nan, 0.76736233, 0.75828981,\n",
       "        0.7439549 , 0.75800092, 0.7633648 , 0.75194997, 0.75739192]),\n",
       " 'mean_test_score': array([       nan, 0.77103254, 0.76303229, 0.75062852, 0.76225412,\n",
       "        0.74592311, 0.75002993, 0.74841114, 0.75991963, 0.75064673,\n",
       "        0.73769903, 0.75240346, 0.7591753 , 0.75327792, 0.76190538,\n",
       "        0.76257944, 0.76497119, 0.76260547, 0.75834769, 0.76585085,\n",
       "        0.77142032, 0.77006178,        nan, 0.76611111, 0.76237124,\n",
       "               nan, 0.76282669, 0.75913106, 0.76297503, 0.72259125,\n",
       "        0.76217084, 0.76676435, 0.76251438, 0.75989881, 0.74941052,\n",
       "        0.71134297, 0.75506848, 0.76245712, 0.76478381,        nan,\n",
       "        0.77045477, 0.7039699 , 0.75369953, 0.73649403, 0.76201729,\n",
       "        0.75219265, 0.76658998, 0.7656921 , 0.7594746 , 0.73552849,\n",
       "        0.75286412,        nan, 0.76009661, 0.74324767, 0.73796449,\n",
       "               nan, 0.74956147, 0.7595735 , 0.74828882, 0.75274179,\n",
       "        0.75194541, 0.75103191, 0.73229354, 0.74438759, 0.76250137,\n",
       "        0.75560981, 0.76103353, 0.76327172, 0.75903216, 0.71978304,\n",
       "        0.70818347, 0.71949673, 0.76305311, 0.75270796, 0.74903055,\n",
       "        0.76568169, 0.76632712, 0.73044832, 0.76216304, 0.75953185,\n",
       "        0.76184032, 0.7718055 , 0.74841635, 0.74913986, 0.73434694,\n",
       "        0.75994826, 0.77075407, 0.75220567, 0.752341  , 0.75273919,\n",
       "        0.77103774,        nan,        nan, 0.76648067, 0.75740036,\n",
       "        0.74580598, 0.75686684, 0.76279806, 0.75119067, 0.75592992]),\n",
       " 'std_test_score': array([           nan, 6.72706187e-04, 5.99865471e-04, 2.23614247e-04,\n",
       "        1.78520506e-04, 1.59933204e-03, 1.28107628e-03, 8.50429341e-04,\n",
       "        7.89315287e-04, 6.89654586e-04, 1.18037264e-03, 1.23623714e-03,\n",
       "        3.44422321e-04, 4.68900911e-04, 5.11108569e-04, 3.38247134e-04,\n",
       "        3.81543203e-04, 1.24860746e-04, 6.91785558e-04, 4.06243007e-04,\n",
       "        3.77116524e-04, 3.77169212e-04,            nan, 6.07378492e-04,\n",
       "        4.89051480e-04,            nan, 5.71726068e-04, 1.56933475e-03,\n",
       "        5.92708547e-04, 1.17687987e-02, 4.83287497e-04, 7.29409789e-04,\n",
       "        5.10576269e-04, 5.13904610e-04, 5.55427465e-04, 1.07429811e-02,\n",
       "        9.45261568e-04, 3.40164695e-04, 5.99831335e-04,            nan,\n",
       "        1.37608466e-03, 8.85545915e-03, 1.09442565e-03, 8.48348979e-03,\n",
       "        9.30927722e-04, 7.05644437e-04, 9.34524002e-04, 6.92798943e-04,\n",
       "        6.43810225e-04, 3.49758322e-03, 1.49356442e-03,            nan,\n",
       "        3.98761950e-04, 1.88250139e-03, 2.59324301e-03,            nan,\n",
       "        7.91400102e-04, 1.13078353e-03, 9.09551533e-04, 1.27893119e-03,\n",
       "        1.73184974e-03, 7.13689247e-04, 2.82068292e-03, 1.98551760e-03,\n",
       "        4.07711707e-04, 3.27918364e-04, 8.78391302e-05, 7.84509766e-04,\n",
       "        2.93839841e-04, 8.36332814e-03, 4.17883892e-03, 1.42636987e-02,\n",
       "        1.05500000e-03, 5.61680726e-04, 1.98728981e-03, 5.57960917e-04,\n",
       "        5.10103540e-04, 3.51517495e-03, 8.15296496e-04, 1.76782955e-04,\n",
       "        6.87047779e-04, 5.87236970e-04, 1.27641160e-03, 4.17556802e-04,\n",
       "        1.88727695e-03, 8.60368428e-04, 3.96271341e-04, 7.53710023e-04,\n",
       "        9.81983463e-04, 9.81079186e-04, 1.81211136e-04,            nan,\n",
       "                   nan, 6.82017478e-04, 9.46138122e-04, 1.31966506e-03,\n",
       "        8.26095694e-04, 6.23274272e-04, 5.97494113e-04, 1.05119056e-03]),\n",
       " 'rank_test_score': array([100,   4,  20,  67,  30,  76,  68,  74,  39,  66,  81,  59,  44,\n",
       "         54,  34,  25,  16,  24,  47,  13,   2,   7,  93,  12,  29,  94,\n",
       "         22,  45,  21,  87,  31,   8,  26,  40,  70,  90,  52,  28,  17,\n",
       "         99,   6,  92,  53,  82,  33,  62,   9,  14,  43,  83,  55,  97,\n",
       "         37,  79,  80,  98,  69,  41,  75,  56,  63,  65,  85,  78,  27,\n",
       "         51,  36,  18,  46,  88,  91,  89,  19,  58,  72,  15,  11,  86,\n",
       "         32,  42,  35,   1,  73,  71,  84,  38,   5,  61,  60,  57,   3,\n",
       "         95,  96,  10,  48,  77,  49,  23,  64,  50])}"
      ]
     },
     "execution_count": 58,
     "metadata": {},
     "output_type": "execute_result"
    }
   ],
   "source": [
    "r.cv_results_"
   ]
  },
  {
   "cell_type": "code",
   "execution_count": 59,
   "id": "c2fdc547",
   "metadata": {},
   "outputs": [
    {
     "data": {
      "text/html": [
       "<div>\n",
       "<style scoped>\n",
       "    .dataframe tbody tr th:only-of-type {\n",
       "        vertical-align: middle;\n",
       "    }\n",
       "\n",
       "    .dataframe tbody tr th {\n",
       "        vertical-align: top;\n",
       "    }\n",
       "\n",
       "    .dataframe thead th {\n",
       "        text-align: right;\n",
       "    }\n",
       "</style>\n",
       "<table border=\"1\" class=\"dataframe\">\n",
       "  <thead>\n",
       "    <tr style=\"text-align: right;\">\n",
       "      <th></th>\n",
       "      <th>mean_fit_time</th>\n",
       "      <th>std_fit_time</th>\n",
       "      <th>mean_score_time</th>\n",
       "      <th>std_score_time</th>\n",
       "      <th>param_n_estimators</th>\n",
       "      <th>param_min_samples_split</th>\n",
       "      <th>param_max_features</th>\n",
       "      <th>param_max_depth</th>\n",
       "      <th>param_criterion</th>\n",
       "      <th>params</th>\n",
       "      <th>split0_test_score</th>\n",
       "      <th>split1_test_score</th>\n",
       "      <th>split2_test_score</th>\n",
       "      <th>mean_test_score</th>\n",
       "      <th>std_test_score</th>\n",
       "      <th>rank_test_score</th>\n",
       "    </tr>\n",
       "  </thead>\n",
       "  <tbody>\n",
       "    <tr>\n",
       "      <th>0</th>\n",
       "      <td>0.297588</td>\n",
       "      <td>0.025021</td>\n",
       "      <td>0.000000</td>\n",
       "      <td>0.000000</td>\n",
       "      <td>164</td>\n",
       "      <td>1</td>\n",
       "      <td>log2</td>\n",
       "      <td>8</td>\n",
       "      <td>gini</td>\n",
       "      <td>{'n_estimators': 164, 'min_samples_split': 1, ...</td>\n",
       "      <td>NaN</td>\n",
       "      <td>NaN</td>\n",
       "      <td>NaN</td>\n",
       "      <td>NaN</td>\n",
       "      <td>NaN</td>\n",
       "      <td>100</td>\n",
       "    </tr>\n",
       "    <tr>\n",
       "      <th>1</th>\n",
       "      <td>32.145957</td>\n",
       "      <td>1.553411</td>\n",
       "      <td>2.114751</td>\n",
       "      <td>0.130948</td>\n",
       "      <td>70</td>\n",
       "      <td>11</td>\n",
       "      <td>auto</td>\n",
       "      <td>11</td>\n",
       "      <td>gini</td>\n",
       "      <td>{'n_estimators': 70, 'min_samples_split': 11, ...</td>\n",
       "      <td>0.770089</td>\n",
       "      <td>0.771610</td>\n",
       "      <td>0.771399</td>\n",
       "      <td>0.771033</td>\n",
       "      <td>0.000673</td>\n",
       "      <td>4</td>\n",
       "    </tr>\n",
       "    <tr>\n",
       "      <th>2</th>\n",
       "      <td>50.578551</td>\n",
       "      <td>4.220530</td>\n",
       "      <td>3.784627</td>\n",
       "      <td>0.938753</td>\n",
       "      <td>116</td>\n",
       "      <td>5</td>\n",
       "      <td>sqrt</td>\n",
       "      <td>9</td>\n",
       "      <td>gini</td>\n",
       "      <td>{'n_estimators': 116, 'min_samples_split': 5, ...</td>\n",
       "      <td>0.762375</td>\n",
       "      <td>0.762896</td>\n",
       "      <td>0.763825</td>\n",
       "      <td>0.763032</td>\n",
       "      <td>0.000600</td>\n",
       "      <td>20</td>\n",
       "    </tr>\n",
       "    <tr>\n",
       "      <th>3</th>\n",
       "      <td>30.335073</td>\n",
       "      <td>2.709066</td>\n",
       "      <td>1.841711</td>\n",
       "      <td>0.040888</td>\n",
       "      <td>111</td>\n",
       "      <td>10</td>\n",
       "      <td>auto</td>\n",
       "      <td>5</td>\n",
       "      <td>gini</td>\n",
       "      <td>{'n_estimators': 111, 'min_samples_split': 10,...</td>\n",
       "      <td>0.750945</td>\n",
       "      <td>0.750467</td>\n",
       "      <td>0.750474</td>\n",
       "      <td>0.750629</td>\n",
       "      <td>0.000224</td>\n",
       "      <td>67</td>\n",
       "    </tr>\n",
       "    <tr>\n",
       "      <th>4</th>\n",
       "      <td>67.161606</td>\n",
       "      <td>0.244718</td>\n",
       "      <td>4.294593</td>\n",
       "      <td>0.259480</td>\n",
       "      <td>168</td>\n",
       "      <td>8</td>\n",
       "      <td>log2</td>\n",
       "      <td>9</td>\n",
       "      <td>entropy</td>\n",
       "      <td>{'n_estimators': 168, 'min_samples_split': 8, ...</td>\n",
       "      <td>0.762250</td>\n",
       "      <td>0.762037</td>\n",
       "      <td>0.762475</td>\n",
       "      <td>0.762254</td>\n",
       "      <td>0.000179</td>\n",
       "      <td>30</td>\n",
       "    </tr>\n",
       "    <tr>\n",
       "      <th>...</th>\n",
       "      <td>...</td>\n",
       "      <td>...</td>\n",
       "      <td>...</td>\n",
       "      <td>...</td>\n",
       "      <td>...</td>\n",
       "      <td>...</td>\n",
       "      <td>...</td>\n",
       "      <td>...</td>\n",
       "      <td>...</td>\n",
       "      <td>...</td>\n",
       "      <td>...</td>\n",
       "      <td>...</td>\n",
       "      <td>...</td>\n",
       "      <td>...</td>\n",
       "      <td>...</td>\n",
       "      <td>...</td>\n",
       "    </tr>\n",
       "    <tr>\n",
       "      <th>95</th>\n",
       "      <td>8.179131</td>\n",
       "      <td>0.275700</td>\n",
       "      <td>0.567753</td>\n",
       "      <td>0.007368</td>\n",
       "      <td>38</td>\n",
       "      <td>4</td>\n",
       "      <td>log2</td>\n",
       "      <td>4</td>\n",
       "      <td>gini</td>\n",
       "      <td>{'n_estimators': 38, 'min_samples_split': 4, '...</td>\n",
       "      <td>0.746526</td>\n",
       "      <td>0.746937</td>\n",
       "      <td>0.743955</td>\n",
       "      <td>0.745806</td>\n",
       "      <td>0.001320</td>\n",
       "      <td>77</td>\n",
       "    </tr>\n",
       "    <tr>\n",
       "      <th>96</th>\n",
       "      <td>22.793816</td>\n",
       "      <td>0.078361</td>\n",
       "      <td>1.531159</td>\n",
       "      <td>0.150136</td>\n",
       "      <td>70</td>\n",
       "      <td>4</td>\n",
       "      <td>auto</td>\n",
       "      <td>7</td>\n",
       "      <td>gini</td>\n",
       "      <td>{'n_estimators': 70, 'min_samples_split': 4, '...</td>\n",
       "      <td>0.756543</td>\n",
       "      <td>0.756057</td>\n",
       "      <td>0.758001</td>\n",
       "      <td>0.756867</td>\n",
       "      <td>0.000826</td>\n",
       "      <td>49</td>\n",
       "    </tr>\n",
       "    <tr>\n",
       "      <th>97</th>\n",
       "      <td>47.119402</td>\n",
       "      <td>0.498247</td>\n",
       "      <td>3.120038</td>\n",
       "      <td>0.233987</td>\n",
       "      <td>122</td>\n",
       "      <td>9</td>\n",
       "      <td>auto</td>\n",
       "      <td>9</td>\n",
       "      <td>gini</td>\n",
       "      <td>{'n_estimators': 122, 'min_samples_split': 9, ...</td>\n",
       "      <td>0.761930</td>\n",
       "      <td>0.763099</td>\n",
       "      <td>0.763365</td>\n",
       "      <td>0.762798</td>\n",
       "      <td>0.000623</td>\n",
       "      <td>23</td>\n",
       "    </tr>\n",
       "    <tr>\n",
       "      <th>98</th>\n",
       "      <td>30.622434</td>\n",
       "      <td>0.430963</td>\n",
       "      <td>1.979321</td>\n",
       "      <td>0.041009</td>\n",
       "      <td>122</td>\n",
       "      <td>3</td>\n",
       "      <td>log2</td>\n",
       "      <td>5</td>\n",
       "      <td>gini</td>\n",
       "      <td>{'n_estimators': 122, 'min_samples_split': 3, ...</td>\n",
       "      <td>0.751132</td>\n",
       "      <td>0.750490</td>\n",
       "      <td>0.751950</td>\n",
       "      <td>0.751191</td>\n",
       "      <td>0.000597</td>\n",
       "      <td>64</td>\n",
       "    </tr>\n",
       "    <tr>\n",
       "      <th>99</th>\n",
       "      <td>32.394686</td>\n",
       "      <td>0.211195</td>\n",
       "      <td>2.041829</td>\n",
       "      <td>0.077958</td>\n",
       "      <td>111</td>\n",
       "      <td>4</td>\n",
       "      <td>auto</td>\n",
       "      <td>6</td>\n",
       "      <td>entropy</td>\n",
       "      <td>{'n_estimators': 111, 'min_samples_split': 4, ...</td>\n",
       "      <td>0.754966</td>\n",
       "      <td>0.755432</td>\n",
       "      <td>0.757392</td>\n",
       "      <td>0.755930</td>\n",
       "      <td>0.001051</td>\n",
       "      <td>50</td>\n",
       "    </tr>\n",
       "  </tbody>\n",
       "</table>\n",
       "<p>100 rows × 16 columns</p>\n",
       "</div>"
      ],
      "text/plain": [
       "    mean_fit_time  std_fit_time  mean_score_time  std_score_time  \\\n",
       "0        0.297588      0.025021         0.000000        0.000000   \n",
       "1       32.145957      1.553411         2.114751        0.130948   \n",
       "2       50.578551      4.220530         3.784627        0.938753   \n",
       "3       30.335073      2.709066         1.841711        0.040888   \n",
       "4       67.161606      0.244718         4.294593        0.259480   \n",
       "..            ...           ...              ...             ...   \n",
       "95       8.179131      0.275700         0.567753        0.007368   \n",
       "96      22.793816      0.078361         1.531159        0.150136   \n",
       "97      47.119402      0.498247         3.120038        0.233987   \n",
       "98      30.622434      0.430963         1.979321        0.041009   \n",
       "99      32.394686      0.211195         2.041829        0.077958   \n",
       "\n",
       "   param_n_estimators param_min_samples_split param_max_features  \\\n",
       "0                 164                       1               log2   \n",
       "1                  70                      11               auto   \n",
       "2                 116                       5               sqrt   \n",
       "3                 111                      10               auto   \n",
       "4                 168                       8               log2   \n",
       "..                ...                     ...                ...   \n",
       "95                 38                       4               log2   \n",
       "96                 70                       4               auto   \n",
       "97                122                       9               auto   \n",
       "98                122                       3               log2   \n",
       "99                111                       4               auto   \n",
       "\n",
       "   param_max_depth param_criterion  \\\n",
       "0                8            gini   \n",
       "1               11            gini   \n",
       "2                9            gini   \n",
       "3                5            gini   \n",
       "4                9         entropy   \n",
       "..             ...             ...   \n",
       "95               4            gini   \n",
       "96               7            gini   \n",
       "97               9            gini   \n",
       "98               5            gini   \n",
       "99               6         entropy   \n",
       "\n",
       "                                               params  split0_test_score  \\\n",
       "0   {'n_estimators': 164, 'min_samples_split': 1, ...                NaN   \n",
       "1   {'n_estimators': 70, 'min_samples_split': 11, ...           0.770089   \n",
       "2   {'n_estimators': 116, 'min_samples_split': 5, ...           0.762375   \n",
       "3   {'n_estimators': 111, 'min_samples_split': 10,...           0.750945   \n",
       "4   {'n_estimators': 168, 'min_samples_split': 8, ...           0.762250   \n",
       "..                                                ...                ...   \n",
       "95  {'n_estimators': 38, 'min_samples_split': 4, '...           0.746526   \n",
       "96  {'n_estimators': 70, 'min_samples_split': 4, '...           0.756543   \n",
       "97  {'n_estimators': 122, 'min_samples_split': 9, ...           0.761930   \n",
       "98  {'n_estimators': 122, 'min_samples_split': 3, ...           0.751132   \n",
       "99  {'n_estimators': 111, 'min_samples_split': 4, ...           0.754966   \n",
       "\n",
       "    split1_test_score  split2_test_score  mean_test_score  std_test_score  \\\n",
       "0                 NaN                NaN              NaN             NaN   \n",
       "1            0.771610           0.771399         0.771033        0.000673   \n",
       "2            0.762896           0.763825         0.763032        0.000600   \n",
       "3            0.750467           0.750474         0.750629        0.000224   \n",
       "4            0.762037           0.762475         0.762254        0.000179   \n",
       "..                ...                ...              ...             ...   \n",
       "95           0.746937           0.743955         0.745806        0.001320   \n",
       "96           0.756057           0.758001         0.756867        0.000826   \n",
       "97           0.763099           0.763365         0.762798        0.000623   \n",
       "98           0.750490           0.751950         0.751191        0.000597   \n",
       "99           0.755432           0.757392         0.755930        0.001051   \n",
       "\n",
       "    rank_test_score  \n",
       "0               100  \n",
       "1                 4  \n",
       "2                20  \n",
       "3                67  \n",
       "4                30  \n",
       "..              ...  \n",
       "95               77  \n",
       "96               49  \n",
       "97               23  \n",
       "98               64  \n",
       "99               50  \n",
       "\n",
       "[100 rows x 16 columns]"
      ]
     },
     "execution_count": 59,
     "metadata": {},
     "output_type": "execute_result"
    }
   ],
   "source": [
    "result=pd.DataFrame(r.cv_results_)\n",
    "result"
   ]
  },
  {
   "cell_type": "code",
   "execution_count": 60,
   "id": "cad77649",
   "metadata": {},
   "outputs": [
    {
     "data": {
      "text/plain": [
       "RandomForestClassifier(max_depth=11, min_samples_split=4, n_estimators=22)"
      ]
     },
     "execution_count": 60,
     "metadata": {},
     "output_type": "execute_result"
    }
   ],
   "source": [
    "new_r=r.best_estimator_\n",
    "new_r"
   ]
  },
  {
   "cell_type": "code",
   "execution_count": 61,
   "id": "f30a4b84",
   "metadata": {},
   "outputs": [
    {
     "data": {
      "text/plain": [
       "RandomForestClassifier(max_depth=11, min_samples_split=4, n_estimators=22)"
      ]
     },
     "execution_count": 61,
     "metadata": {},
     "output_type": "execute_result"
    }
   ],
   "source": [
    "new_r.fit(over_xtrain,over_ytrain)"
   ]
  },
  {
   "cell_type": "code",
   "execution_count": 62,
   "id": "d2b86c70",
   "metadata": {},
   "outputs": [
    {
     "data": {
      "text/plain": [
       "0.7758784919763272"
      ]
     },
     "execution_count": 62,
     "metadata": {},
     "output_type": "execute_result"
    }
   ],
   "source": [
    "new_r.score(over_xtrain,over_ytrain)"
   ]
  },
  {
   "cell_type": "code",
   "execution_count": null,
   "id": "ee192efa",
   "metadata": {},
   "outputs": [],
   "source": []
  },
  {
   "cell_type": "code",
   "execution_count": null,
   "id": "42e6be46",
   "metadata": {},
   "outputs": [],
   "source": []
  },
  {
   "cell_type": "code",
   "execution_count": null,
   "id": "ab550128",
   "metadata": {},
   "outputs": [],
   "source": []
  }
 ],
 "metadata": {
  "kernelspec": {
   "display_name": "Python 3 (ipykernel)",
   "language": "python",
   "name": "python3"
  },
  "language_info": {
   "codemirror_mode": {
    "name": "ipython",
    "version": 3
   },
   "file_extension": ".py",
   "mimetype": "text/x-python",
   "name": "python",
   "nbconvert_exporter": "python",
   "pygments_lexer": "ipython3",
   "version": "3.9.7"
  }
 },
 "nbformat": 4,
 "nbformat_minor": 5
}
