{
 "cells": [
  {
   "cell_type": "code",
   "execution_count": 1,
   "id": "3a89f04a",
   "metadata": {},
   "outputs": [],
   "source": [
    "import pandas as pd\n",
    "import numpy as np\n",
    "import seaborn as sns\n",
    "import matplotlib.pyplot as plt"
   ]
  },
  {
   "cell_type": "code",
   "execution_count": 2,
   "id": "3b930260",
   "metadata": {},
   "outputs": [
    {
     "data": {
      "text/plain": [
       "(319795, 18)"
      ]
     },
     "execution_count": 2,
     "metadata": {},
     "output_type": "execute_result"
    }
   ],
   "source": [
    "df=pd.read_csv('Heart Disease.csv')\n",
    "df.shape"
   ]
  },
  {
   "cell_type": "markdown",
   "id": "e4b21b44",
   "metadata": {},
   "source": [
    "# Removing Duplicate value\n"
   ]
  },
  {
   "cell_type": "code",
   "execution_count": 3,
   "id": "77ee529f",
   "metadata": {},
   "outputs": [
    {
     "data": {
      "text/plain": [
       "(301717, 18)"
      ]
     },
     "execution_count": 3,
     "metadata": {},
     "output_type": "execute_result"
    }
   ],
   "source": [
    "df.drop_duplicates(inplace=True)\n",
    "df.shape"
   ]
  },
  {
   "cell_type": "code",
   "execution_count": 4,
   "id": "9a4bb21a",
   "metadata": {},
   "outputs": [
    {
     "data": {
      "text/plain": [
       "No     274456\n",
       "Yes     27261\n",
       "Name: HeartDisease, dtype: int64"
      ]
     },
     "execution_count": 4,
     "metadata": {},
     "output_type": "execute_result"
    }
   ],
   "source": [
    "df.HeartDisease.value_counts()"
   ]
  },
  {
   "cell_type": "markdown",
   "id": "cbb22d95",
   "metadata": {},
   "source": [
    "# Encoding The DataSet with LabelEncoder"
   ]
  },
  {
   "cell_type": "code",
   "execution_count": 5,
   "id": "e118c108",
   "metadata": {},
   "outputs": [],
   "source": [
    "from sklearn.preprocessing import LabelEncoder\n",
    "label=LabelEncoder()"
   ]
  },
  {
   "cell_type": "code",
   "execution_count": 6,
   "id": "7f8c33d9",
   "metadata": {},
   "outputs": [],
   "source": [
    "from pandas.core.dtypes.common import is_numeric_dtype\n",
    "for column in df.columns:\n",
    "    if is_numeric_dtype(df[column]):\n",
    "        continue\n",
    "    else:\n",
    "        df[column]=label.fit_transform(df[column])"
   ]
  },
  {
   "cell_type": "markdown",
   "id": "7ae54ba8",
   "metadata": {},
   "source": [
    "# Separting x and y\n"
   ]
  },
  {
   "cell_type": "code",
   "execution_count": 7,
   "id": "ddca5100",
   "metadata": {},
   "outputs": [],
   "source": [
    "x=df.drop('HeartDisease',axis=1)\n",
    "y=df['HeartDisease']"
   ]
  },
  {
   "cell_type": "code",
   "execution_count": 8,
   "id": "73cd476e",
   "metadata": {},
   "outputs": [
    {
     "data": {
      "text/html": [
       "<div>\n",
       "<style scoped>\n",
       "    .dataframe tbody tr th:only-of-type {\n",
       "        vertical-align: middle;\n",
       "    }\n",
       "\n",
       "    .dataframe tbody tr th {\n",
       "        vertical-align: top;\n",
       "    }\n",
       "\n",
       "    .dataframe thead th {\n",
       "        text-align: right;\n",
       "    }\n",
       "</style>\n",
       "<table border=\"1\" class=\"dataframe\">\n",
       "  <thead>\n",
       "    <tr style=\"text-align: right;\">\n",
       "      <th></th>\n",
       "      <th>BMI</th>\n",
       "      <th>Smoking</th>\n",
       "      <th>AlcoholDrinking</th>\n",
       "      <th>Stroke</th>\n",
       "      <th>PhysicalHealth</th>\n",
       "      <th>MentalHealth</th>\n",
       "      <th>DiffWalking</th>\n",
       "      <th>Sex</th>\n",
       "      <th>AgeCategory</th>\n",
       "      <th>Race</th>\n",
       "      <th>Diabetic</th>\n",
       "      <th>PhysicalActivity</th>\n",
       "      <th>GenHealth</th>\n",
       "      <th>SleepTime</th>\n",
       "      <th>Asthma</th>\n",
       "      <th>KidneyDisease</th>\n",
       "      <th>SkinCancer</th>\n",
       "    </tr>\n",
       "  </thead>\n",
       "  <tbody>\n",
       "    <tr>\n",
       "      <th>0</th>\n",
       "      <td>16.60</td>\n",
       "      <td>1</td>\n",
       "      <td>0</td>\n",
       "      <td>0</td>\n",
       "      <td>3</td>\n",
       "      <td>30</td>\n",
       "      <td>0</td>\n",
       "      <td>0</td>\n",
       "      <td>7</td>\n",
       "      <td>5</td>\n",
       "      <td>2</td>\n",
       "      <td>1</td>\n",
       "      <td>4</td>\n",
       "      <td>5</td>\n",
       "      <td>1</td>\n",
       "      <td>0</td>\n",
       "      <td>1</td>\n",
       "    </tr>\n",
       "    <tr>\n",
       "      <th>1</th>\n",
       "      <td>20.34</td>\n",
       "      <td>0</td>\n",
       "      <td>0</td>\n",
       "      <td>1</td>\n",
       "      <td>0</td>\n",
       "      <td>0</td>\n",
       "      <td>0</td>\n",
       "      <td>0</td>\n",
       "      <td>12</td>\n",
       "      <td>5</td>\n",
       "      <td>0</td>\n",
       "      <td>1</td>\n",
       "      <td>4</td>\n",
       "      <td>7</td>\n",
       "      <td>0</td>\n",
       "      <td>0</td>\n",
       "      <td>0</td>\n",
       "    </tr>\n",
       "    <tr>\n",
       "      <th>2</th>\n",
       "      <td>26.58</td>\n",
       "      <td>1</td>\n",
       "      <td>0</td>\n",
       "      <td>0</td>\n",
       "      <td>20</td>\n",
       "      <td>30</td>\n",
       "      <td>0</td>\n",
       "      <td>1</td>\n",
       "      <td>9</td>\n",
       "      <td>5</td>\n",
       "      <td>2</td>\n",
       "      <td>1</td>\n",
       "      <td>1</td>\n",
       "      <td>8</td>\n",
       "      <td>1</td>\n",
       "      <td>0</td>\n",
       "      <td>0</td>\n",
       "    </tr>\n",
       "    <tr>\n",
       "      <th>3</th>\n",
       "      <td>24.21</td>\n",
       "      <td>0</td>\n",
       "      <td>0</td>\n",
       "      <td>0</td>\n",
       "      <td>0</td>\n",
       "      <td>0</td>\n",
       "      <td>0</td>\n",
       "      <td>0</td>\n",
       "      <td>11</td>\n",
       "      <td>5</td>\n",
       "      <td>0</td>\n",
       "      <td>0</td>\n",
       "      <td>2</td>\n",
       "      <td>6</td>\n",
       "      <td>0</td>\n",
       "      <td>0</td>\n",
       "      <td>1</td>\n",
       "    </tr>\n",
       "    <tr>\n",
       "      <th>4</th>\n",
       "      <td>23.71</td>\n",
       "      <td>0</td>\n",
       "      <td>0</td>\n",
       "      <td>0</td>\n",
       "      <td>28</td>\n",
       "      <td>0</td>\n",
       "      <td>1</td>\n",
       "      <td>0</td>\n",
       "      <td>4</td>\n",
       "      <td>5</td>\n",
       "      <td>0</td>\n",
       "      <td>1</td>\n",
       "      <td>4</td>\n",
       "      <td>8</td>\n",
       "      <td>0</td>\n",
       "      <td>0</td>\n",
       "      <td>0</td>\n",
       "    </tr>\n",
       "    <tr>\n",
       "      <th>...</th>\n",
       "      <td>...</td>\n",
       "      <td>...</td>\n",
       "      <td>...</td>\n",
       "      <td>...</td>\n",
       "      <td>...</td>\n",
       "      <td>...</td>\n",
       "      <td>...</td>\n",
       "      <td>...</td>\n",
       "      <td>...</td>\n",
       "      <td>...</td>\n",
       "      <td>...</td>\n",
       "      <td>...</td>\n",
       "      <td>...</td>\n",
       "      <td>...</td>\n",
       "      <td>...</td>\n",
       "      <td>...</td>\n",
       "      <td>...</td>\n",
       "    </tr>\n",
       "    <tr>\n",
       "      <th>319790</th>\n",
       "      <td>27.41</td>\n",
       "      <td>1</td>\n",
       "      <td>0</td>\n",
       "      <td>0</td>\n",
       "      <td>7</td>\n",
       "      <td>0</td>\n",
       "      <td>1</td>\n",
       "      <td>1</td>\n",
       "      <td>8</td>\n",
       "      <td>3</td>\n",
       "      <td>2</td>\n",
       "      <td>0</td>\n",
       "      <td>1</td>\n",
       "      <td>6</td>\n",
       "      <td>1</td>\n",
       "      <td>0</td>\n",
       "      <td>0</td>\n",
       "    </tr>\n",
       "    <tr>\n",
       "      <th>319791</th>\n",
       "      <td>29.84</td>\n",
       "      <td>1</td>\n",
       "      <td>0</td>\n",
       "      <td>0</td>\n",
       "      <td>0</td>\n",
       "      <td>0</td>\n",
       "      <td>0</td>\n",
       "      <td>1</td>\n",
       "      <td>3</td>\n",
       "      <td>3</td>\n",
       "      <td>0</td>\n",
       "      <td>1</td>\n",
       "      <td>4</td>\n",
       "      <td>5</td>\n",
       "      <td>1</td>\n",
       "      <td>0</td>\n",
       "      <td>0</td>\n",
       "    </tr>\n",
       "    <tr>\n",
       "      <th>319792</th>\n",
       "      <td>24.24</td>\n",
       "      <td>0</td>\n",
       "      <td>0</td>\n",
       "      <td>0</td>\n",
       "      <td>0</td>\n",
       "      <td>0</td>\n",
       "      <td>0</td>\n",
       "      <td>0</td>\n",
       "      <td>5</td>\n",
       "      <td>3</td>\n",
       "      <td>0</td>\n",
       "      <td>1</td>\n",
       "      <td>2</td>\n",
       "      <td>6</td>\n",
       "      <td>0</td>\n",
       "      <td>0</td>\n",
       "      <td>0</td>\n",
       "    </tr>\n",
       "    <tr>\n",
       "      <th>319793</th>\n",
       "      <td>32.81</td>\n",
       "      <td>0</td>\n",
       "      <td>0</td>\n",
       "      <td>0</td>\n",
       "      <td>0</td>\n",
       "      <td>0</td>\n",
       "      <td>0</td>\n",
       "      <td>0</td>\n",
       "      <td>1</td>\n",
       "      <td>3</td>\n",
       "      <td>0</td>\n",
       "      <td>0</td>\n",
       "      <td>2</td>\n",
       "      <td>12</td>\n",
       "      <td>0</td>\n",
       "      <td>0</td>\n",
       "      <td>0</td>\n",
       "    </tr>\n",
       "    <tr>\n",
       "      <th>319794</th>\n",
       "      <td>46.56</td>\n",
       "      <td>0</td>\n",
       "      <td>0</td>\n",
       "      <td>0</td>\n",
       "      <td>0</td>\n",
       "      <td>0</td>\n",
       "      <td>0</td>\n",
       "      <td>0</td>\n",
       "      <td>12</td>\n",
       "      <td>3</td>\n",
       "      <td>0</td>\n",
       "      <td>1</td>\n",
       "      <td>2</td>\n",
       "      <td>8</td>\n",
       "      <td>0</td>\n",
       "      <td>0</td>\n",
       "      <td>0</td>\n",
       "    </tr>\n",
       "  </tbody>\n",
       "</table>\n",
       "<p>301717 rows × 17 columns</p>\n",
       "</div>"
      ],
      "text/plain": [
       "          BMI  Smoking  AlcoholDrinking  Stroke  PhysicalHealth  MentalHealth  \\\n",
       "0       16.60        1                0       0               3            30   \n",
       "1       20.34        0                0       1               0             0   \n",
       "2       26.58        1                0       0              20            30   \n",
       "3       24.21        0                0       0               0             0   \n",
       "4       23.71        0                0       0              28             0   \n",
       "...       ...      ...              ...     ...             ...           ...   \n",
       "319790  27.41        1                0       0               7             0   \n",
       "319791  29.84        1                0       0               0             0   \n",
       "319792  24.24        0                0       0               0             0   \n",
       "319793  32.81        0                0       0               0             0   \n",
       "319794  46.56        0                0       0               0             0   \n",
       "\n",
       "        DiffWalking  Sex  AgeCategory  Race  Diabetic  PhysicalActivity  \\\n",
       "0                 0    0            7     5         2                 1   \n",
       "1                 0    0           12     5         0                 1   \n",
       "2                 0    1            9     5         2                 1   \n",
       "3                 0    0           11     5         0                 0   \n",
       "4                 1    0            4     5         0                 1   \n",
       "...             ...  ...          ...   ...       ...               ...   \n",
       "319790            1    1            8     3         2                 0   \n",
       "319791            0    1            3     3         0                 1   \n",
       "319792            0    0            5     3         0                 1   \n",
       "319793            0    0            1     3         0                 0   \n",
       "319794            0    0           12     3         0                 1   \n",
       "\n",
       "        GenHealth  SleepTime  Asthma  KidneyDisease  SkinCancer  \n",
       "0               4          5       1              0           1  \n",
       "1               4          7       0              0           0  \n",
       "2               1          8       1              0           0  \n",
       "3               2          6       0              0           1  \n",
       "4               4          8       0              0           0  \n",
       "...           ...        ...     ...            ...         ...  \n",
       "319790          1          6       1              0           0  \n",
       "319791          4          5       1              0           0  \n",
       "319792          2          6       0              0           0  \n",
       "319793          2         12       0              0           0  \n",
       "319794          2          8       0              0           0  \n",
       "\n",
       "[301717 rows x 17 columns]"
      ]
     },
     "execution_count": 8,
     "metadata": {},
     "output_type": "execute_result"
    }
   ],
   "source": [
    "x"
   ]
  },
  {
   "cell_type": "code",
   "execution_count": 9,
   "id": "c22e41af",
   "metadata": {},
   "outputs": [
    {
     "data": {
      "text/plain": [
       "0         0\n",
       "1         0\n",
       "2         0\n",
       "3         0\n",
       "4         0\n",
       "         ..\n",
       "319790    1\n",
       "319791    0\n",
       "319792    0\n",
       "319793    0\n",
       "319794    0\n",
       "Name: HeartDisease, Length: 301717, dtype: int32"
      ]
     },
     "execution_count": 9,
     "metadata": {},
     "output_type": "execute_result"
    }
   ],
   "source": [
    "y"
   ]
  },
  {
   "cell_type": "markdown",
   "id": "e2d2365d",
   "metadata": {},
   "source": [
    "# Imbalance Data handling\n"
   ]
  },
  {
   "cell_type": "code",
   "execution_count": 10,
   "id": "1a51faf6",
   "metadata": {},
   "outputs": [
    {
     "data": {
      "text/plain": [
       "0    274456\n",
       "1     27261\n",
       "Name: HeartDisease, dtype: int64"
      ]
     },
     "execution_count": 10,
     "metadata": {},
     "output_type": "execute_result"
    }
   ],
   "source": [
    "df.HeartDisease.value_counts()"
   ]
  },
  {
   "cell_type": "code",
   "execution_count": 11,
   "id": "825a7460",
   "metadata": {},
   "outputs": [],
   "source": [
    "not_HeartDisease=(274456/(274456+27261))*100\n",
    "HeartDisease=(27261/(274456+27261))*100"
   ]
  },
  {
   "cell_type": "code",
   "execution_count": 12,
   "id": "57174d80",
   "metadata": {},
   "outputs": [
    {
     "name": "stdout",
     "output_type": "stream",
     "text": [
      "No HeartDisease 90.96471196518591 percent of the total people\n"
     ]
    }
   ],
   "source": [
    "print('No HeartDisease {} percent of the total people'.format(not_HeartDisease))"
   ]
  },
  {
   "cell_type": "code",
   "execution_count": 13,
   "id": "ae85b154",
   "metadata": {},
   "outputs": [
    {
     "name": "stdout",
     "output_type": "stream",
     "text": [
      "HeartDisease 9.03528803481408 percent of the total people\n"
     ]
    }
   ],
   "source": [
    "print('HeartDisease {} percent of the total people'.format(HeartDisease))"
   ]
  },
  {
   "cell_type": "code",
   "execution_count": 14,
   "id": "5b58784e",
   "metadata": {},
   "outputs": [],
   "source": [
    "HeartDisease_no=df[df['HeartDisease']==0]\n",
    "HeartDisease_yes=df[df['HeartDisease']==1]"
   ]
  },
  {
   "cell_type": "code",
   "execution_count": 15,
   "id": "503f92d8",
   "metadata": {},
   "outputs": [
    {
     "data": {
      "text/plain": [
       "(274456, 18)"
      ]
     },
     "execution_count": 15,
     "metadata": {},
     "output_type": "execute_result"
    }
   ],
   "source": [
    "HeartDisease_no.shape"
   ]
  },
  {
   "cell_type": "code",
   "execution_count": 16,
   "id": "0eba624b",
   "metadata": {},
   "outputs": [
    {
     "data": {
      "text/plain": [
       "(27261, 18)"
      ]
     },
     "execution_count": 16,
     "metadata": {},
     "output_type": "execute_result"
    }
   ],
   "source": [
    "HeartDisease_yes.shape"
   ]
  },
  {
   "cell_type": "markdown",
   "id": "d37854eb",
   "metadata": {},
   "source": [
    "# So we have to balance our dataset . Now applying Random over sampling techniques\n"
   ]
  },
  {
   "cell_type": "code",
   "execution_count": 17,
   "id": "83383985",
   "metadata": {},
   "outputs": [],
   "source": [
    "from imblearn.over_sampling import RandomOverSampler\n",
    "random_over_sampler = RandomOverSampler(random_state =100)"
   ]
  },
  {
   "cell_type": "code",
   "execution_count": 18,
   "id": "a1a5b554",
   "metadata": {},
   "outputs": [
    {
     "data": {
      "text/html": [
       "<div>\n",
       "<style scoped>\n",
       "    .dataframe tbody tr th:only-of-type {\n",
       "        vertical-align: middle;\n",
       "    }\n",
       "\n",
       "    .dataframe tbody tr th {\n",
       "        vertical-align: top;\n",
       "    }\n",
       "\n",
       "    .dataframe thead th {\n",
       "        text-align: right;\n",
       "    }\n",
       "</style>\n",
       "<table border=\"1\" class=\"dataframe\">\n",
       "  <thead>\n",
       "    <tr style=\"text-align: right;\">\n",
       "      <th></th>\n",
       "      <th>BMI</th>\n",
       "      <th>Smoking</th>\n",
       "      <th>AlcoholDrinking</th>\n",
       "      <th>Stroke</th>\n",
       "      <th>PhysicalHealth</th>\n",
       "      <th>MentalHealth</th>\n",
       "      <th>DiffWalking</th>\n",
       "      <th>Sex</th>\n",
       "      <th>AgeCategory</th>\n",
       "      <th>Race</th>\n",
       "      <th>Diabetic</th>\n",
       "      <th>PhysicalActivity</th>\n",
       "      <th>GenHealth</th>\n",
       "      <th>SleepTime</th>\n",
       "      <th>Asthma</th>\n",
       "      <th>KidneyDisease</th>\n",
       "      <th>SkinCancer</th>\n",
       "    </tr>\n",
       "  </thead>\n",
       "  <tbody>\n",
       "    <tr>\n",
       "      <th>0</th>\n",
       "      <td>16.60</td>\n",
       "      <td>1</td>\n",
       "      <td>0</td>\n",
       "      <td>0</td>\n",
       "      <td>3</td>\n",
       "      <td>30</td>\n",
       "      <td>0</td>\n",
       "      <td>0</td>\n",
       "      <td>7</td>\n",
       "      <td>5</td>\n",
       "      <td>2</td>\n",
       "      <td>1</td>\n",
       "      <td>4</td>\n",
       "      <td>5</td>\n",
       "      <td>1</td>\n",
       "      <td>0</td>\n",
       "      <td>1</td>\n",
       "    </tr>\n",
       "    <tr>\n",
       "      <th>1</th>\n",
       "      <td>20.34</td>\n",
       "      <td>0</td>\n",
       "      <td>0</td>\n",
       "      <td>1</td>\n",
       "      <td>0</td>\n",
       "      <td>0</td>\n",
       "      <td>0</td>\n",
       "      <td>0</td>\n",
       "      <td>12</td>\n",
       "      <td>5</td>\n",
       "      <td>0</td>\n",
       "      <td>1</td>\n",
       "      <td>4</td>\n",
       "      <td>7</td>\n",
       "      <td>0</td>\n",
       "      <td>0</td>\n",
       "      <td>0</td>\n",
       "    </tr>\n",
       "    <tr>\n",
       "      <th>2</th>\n",
       "      <td>26.58</td>\n",
       "      <td>1</td>\n",
       "      <td>0</td>\n",
       "      <td>0</td>\n",
       "      <td>20</td>\n",
       "      <td>30</td>\n",
       "      <td>0</td>\n",
       "      <td>1</td>\n",
       "      <td>9</td>\n",
       "      <td>5</td>\n",
       "      <td>2</td>\n",
       "      <td>1</td>\n",
       "      <td>1</td>\n",
       "      <td>8</td>\n",
       "      <td>1</td>\n",
       "      <td>0</td>\n",
       "      <td>0</td>\n",
       "    </tr>\n",
       "    <tr>\n",
       "      <th>3</th>\n",
       "      <td>24.21</td>\n",
       "      <td>0</td>\n",
       "      <td>0</td>\n",
       "      <td>0</td>\n",
       "      <td>0</td>\n",
       "      <td>0</td>\n",
       "      <td>0</td>\n",
       "      <td>0</td>\n",
       "      <td>11</td>\n",
       "      <td>5</td>\n",
       "      <td>0</td>\n",
       "      <td>0</td>\n",
       "      <td>2</td>\n",
       "      <td>6</td>\n",
       "      <td>0</td>\n",
       "      <td>0</td>\n",
       "      <td>1</td>\n",
       "    </tr>\n",
       "    <tr>\n",
       "      <th>4</th>\n",
       "      <td>23.71</td>\n",
       "      <td>0</td>\n",
       "      <td>0</td>\n",
       "      <td>0</td>\n",
       "      <td>28</td>\n",
       "      <td>0</td>\n",
       "      <td>1</td>\n",
       "      <td>0</td>\n",
       "      <td>4</td>\n",
       "      <td>5</td>\n",
       "      <td>0</td>\n",
       "      <td>1</td>\n",
       "      <td>4</td>\n",
       "      <td>8</td>\n",
       "      <td>0</td>\n",
       "      <td>0</td>\n",
       "      <td>0</td>\n",
       "    </tr>\n",
       "    <tr>\n",
       "      <th>...</th>\n",
       "      <td>...</td>\n",
       "      <td>...</td>\n",
       "      <td>...</td>\n",
       "      <td>...</td>\n",
       "      <td>...</td>\n",
       "      <td>...</td>\n",
       "      <td>...</td>\n",
       "      <td>...</td>\n",
       "      <td>...</td>\n",
       "      <td>...</td>\n",
       "      <td>...</td>\n",
       "      <td>...</td>\n",
       "      <td>...</td>\n",
       "      <td>...</td>\n",
       "      <td>...</td>\n",
       "      <td>...</td>\n",
       "      <td>...</td>\n",
       "    </tr>\n",
       "    <tr>\n",
       "      <th>548907</th>\n",
       "      <td>35.43</td>\n",
       "      <td>0</td>\n",
       "      <td>0</td>\n",
       "      <td>0</td>\n",
       "      <td>0</td>\n",
       "      <td>0</td>\n",
       "      <td>0</td>\n",
       "      <td>0</td>\n",
       "      <td>12</td>\n",
       "      <td>5</td>\n",
       "      <td>0</td>\n",
       "      <td>1</td>\n",
       "      <td>4</td>\n",
       "      <td>5</td>\n",
       "      <td>0</td>\n",
       "      <td>0</td>\n",
       "      <td>1</td>\n",
       "    </tr>\n",
       "    <tr>\n",
       "      <th>548908</th>\n",
       "      <td>23.01</td>\n",
       "      <td>1</td>\n",
       "      <td>0</td>\n",
       "      <td>0</td>\n",
       "      <td>0</td>\n",
       "      <td>20</td>\n",
       "      <td>0</td>\n",
       "      <td>1</td>\n",
       "      <td>8</td>\n",
       "      <td>5</td>\n",
       "      <td>0</td>\n",
       "      <td>1</td>\n",
       "      <td>4</td>\n",
       "      <td>6</td>\n",
       "      <td>0</td>\n",
       "      <td>0</td>\n",
       "      <td>0</td>\n",
       "    </tr>\n",
       "    <tr>\n",
       "      <th>548909</th>\n",
       "      <td>30.80</td>\n",
       "      <td>0</td>\n",
       "      <td>0</td>\n",
       "      <td>0</td>\n",
       "      <td>0</td>\n",
       "      <td>0</td>\n",
       "      <td>0</td>\n",
       "      <td>0</td>\n",
       "      <td>10</td>\n",
       "      <td>4</td>\n",
       "      <td>2</td>\n",
       "      <td>0</td>\n",
       "      <td>2</td>\n",
       "      <td>5</td>\n",
       "      <td>0</td>\n",
       "      <td>0</td>\n",
       "      <td>0</td>\n",
       "    </tr>\n",
       "    <tr>\n",
       "      <th>548910</th>\n",
       "      <td>44.63</td>\n",
       "      <td>0</td>\n",
       "      <td>0</td>\n",
       "      <td>0</td>\n",
       "      <td>0</td>\n",
       "      <td>7</td>\n",
       "      <td>1</td>\n",
       "      <td>0</td>\n",
       "      <td>9</td>\n",
       "      <td>2</td>\n",
       "      <td>2</td>\n",
       "      <td>0</td>\n",
       "      <td>2</td>\n",
       "      <td>8</td>\n",
       "      <td>0</td>\n",
       "      <td>0</td>\n",
       "      <td>0</td>\n",
       "    </tr>\n",
       "    <tr>\n",
       "      <th>548911</th>\n",
       "      <td>30.90</td>\n",
       "      <td>0</td>\n",
       "      <td>0</td>\n",
       "      <td>0</td>\n",
       "      <td>0</td>\n",
       "      <td>10</td>\n",
       "      <td>1</td>\n",
       "      <td>0</td>\n",
       "      <td>9</td>\n",
       "      <td>5</td>\n",
       "      <td>0</td>\n",
       "      <td>1</td>\n",
       "      <td>2</td>\n",
       "      <td>8</td>\n",
       "      <td>0</td>\n",
       "      <td>0</td>\n",
       "      <td>0</td>\n",
       "    </tr>\n",
       "  </tbody>\n",
       "</table>\n",
       "<p>548912 rows × 17 columns</p>\n",
       "</div>"
      ],
      "text/plain": [
       "          BMI  Smoking  AlcoholDrinking  Stroke  PhysicalHealth  MentalHealth  \\\n",
       "0       16.60        1                0       0               3            30   \n",
       "1       20.34        0                0       1               0             0   \n",
       "2       26.58        1                0       0              20            30   \n",
       "3       24.21        0                0       0               0             0   \n",
       "4       23.71        0                0       0              28             0   \n",
       "...       ...      ...              ...     ...             ...           ...   \n",
       "548907  35.43        0                0       0               0             0   \n",
       "548908  23.01        1                0       0               0            20   \n",
       "548909  30.80        0                0       0               0             0   \n",
       "548910  44.63        0                0       0               0             7   \n",
       "548911  30.90        0                0       0               0            10   \n",
       "\n",
       "        DiffWalking  Sex  AgeCategory  Race  Diabetic  PhysicalActivity  \\\n",
       "0                 0    0            7     5         2                 1   \n",
       "1                 0    0           12     5         0                 1   \n",
       "2                 0    1            9     5         2                 1   \n",
       "3                 0    0           11     5         0                 0   \n",
       "4                 1    0            4     5         0                 1   \n",
       "...             ...  ...          ...   ...       ...               ...   \n",
       "548907            0    0           12     5         0                 1   \n",
       "548908            0    1            8     5         0                 1   \n",
       "548909            0    0           10     4         2                 0   \n",
       "548910            1    0            9     2         2                 0   \n",
       "548911            1    0            9     5         0                 1   \n",
       "\n",
       "        GenHealth  SleepTime  Asthma  KidneyDisease  SkinCancer  \n",
       "0               4          5       1              0           1  \n",
       "1               4          7       0              0           0  \n",
       "2               1          8       1              0           0  \n",
       "3               2          6       0              0           1  \n",
       "4               4          8       0              0           0  \n",
       "...           ...        ...     ...            ...         ...  \n",
       "548907          4          5       0              0           1  \n",
       "548908          4          6       0              0           0  \n",
       "548909          2          5       0              0           0  \n",
       "548910          2          8       0              0           0  \n",
       "548911          2          8       0              0           0  \n",
       "\n",
       "[548912 rows x 17 columns]"
      ]
     },
     "execution_count": 18,
     "metadata": {},
     "output_type": "execute_result"
    }
   ],
   "source": [
    "x_new,y_new=random_over_sampler.fit_resample(x,y)\n",
    "x1_new=x2_new=x3_new=x4_new=x5_new=x6_new=x7_new=x8_new=x9_new=x_new\n",
    "x_new"
   ]
  },
  {
   "cell_type": "code",
   "execution_count": 19,
   "id": "610d61e5",
   "metadata": {},
   "outputs": [
    {
     "data": {
      "text/plain": [
       "0         0\n",
       "1         0\n",
       "2         0\n",
       "3         0\n",
       "4         0\n",
       "         ..\n",
       "548907    1\n",
       "548908    1\n",
       "548909    1\n",
       "548910    1\n",
       "548911    1\n",
       "Name: HeartDisease, Length: 548912, dtype: int32"
      ]
     },
     "execution_count": 19,
     "metadata": {},
     "output_type": "execute_result"
    }
   ],
   "source": [
    "y1_new=y2_new=y3_new=y4_new=y5_new=y6_new=y7_new=y8_new=y9_new=y_new\n",
    "y_new"
   ]
  },
  {
   "cell_type": "code",
   "execution_count": 20,
   "id": "7d47be19",
   "metadata": {},
   "outputs": [
    {
     "data": {
      "text/plain": [
       "(548912, 17)"
      ]
     },
     "execution_count": 20,
     "metadata": {},
     "output_type": "execute_result"
    }
   ],
   "source": [
    "x_new.shape"
   ]
  },
  {
   "cell_type": "code",
   "execution_count": 21,
   "id": "482d1a61",
   "metadata": {},
   "outputs": [
    {
     "data": {
      "text/plain": [
       "(548912,)"
      ]
     },
     "execution_count": 21,
     "metadata": {},
     "output_type": "execute_result"
    }
   ],
   "source": [
    "y_new.shape"
   ]
  },
  {
   "cell_type": "code",
   "execution_count": 22,
   "id": "f5109ef8",
   "metadata": {},
   "outputs": [
    {
     "data": {
      "text/plain": [
       "0    274456\n",
       "1    274456\n",
       "Name: HeartDisease, dtype: int64"
      ]
     },
     "execution_count": 22,
     "metadata": {},
     "output_type": "execute_result"
    }
   ],
   "source": [
    "y_new.value_counts()"
   ]
  },
  {
   "cell_type": "markdown",
   "id": "408551fc",
   "metadata": {},
   "source": [
    "# HistGradientBoosting Classifier for holdout cross validation with Randon Over Sampling\n"
   ]
  },
  {
   "cell_type": "code",
   "execution_count": 23,
   "id": "d6f98874",
   "metadata": {},
   "outputs": [],
   "source": [
    "from sklearn.model_selection import train_test_split \n",
    "from sklearn.ensemble import HistGradientBoostingClassifier\n",
    "hgbc=HistGradientBoostingClassifier()"
   ]
  },
  {
   "cell_type": "code",
   "execution_count": 24,
   "id": "c55695f4",
   "metadata": {},
   "outputs": [
    {
     "data": {
      "text/plain": [
       "HistGradientBoostingClassifier()"
      ]
     },
     "execution_count": 24,
     "metadata": {},
     "output_type": "execute_result"
    }
   ],
   "source": [
    "over_xtrain,over_xtest,over_ytrain,over_ytest = train_test_split(x7_new,y7_new,test_size = 0.30 ,random_state =42)\n",
    "hgbc.fit(over_xtrain,over_ytrain)"
   ]
  },
  {
   "cell_type": "code",
   "execution_count": 25,
   "id": "171524d5",
   "metadata": {},
   "outputs": [
    {
     "data": {
      "text/plain": [
       "0.7677228949318047"
      ]
     },
     "execution_count": 25,
     "metadata": {},
     "output_type": "execute_result"
    }
   ],
   "source": [
    "OverSampleing_dataset_accuracy7 = hgbc.score(over_xtest,over_ytest)\n",
    "OverSampleing_dataset_accuracy7"
   ]
  },
  {
   "cell_type": "markdown",
   "id": "49d90280",
   "metadata": {},
   "source": [
    "# HistGradientBoostingClassifier for KFold cross validation for Random Over sampling\n"
   ]
  },
  {
   "cell_type": "code",
   "execution_count": 26,
   "id": "2d5d5efa",
   "metadata": {},
   "outputs": [],
   "source": [
    "from sklearn.model_selection import KFold, cross_val_score\n",
    "kfold = KFold(n_splits = 10)"
   ]
  },
  {
   "cell_type": "code",
   "execution_count": 27,
   "id": "663689bd",
   "metadata": {},
   "outputs": [
    {
     "data": {
      "text/plain": [
       "array([0.69797056, 0.69532901, 0.69497732, 0.70712867, 0.70312073,\n",
       "       0.76192818, 0.76161848, 0.75996065, 0.76899674, 0.76890565])"
      ]
     },
     "execution_count": 27,
     "metadata": {},
     "output_type": "execute_result"
    }
   ],
   "source": [
    "OverSampleingDataset_kfold_result7= cross_val_score(hgbc,x7_new,y7_new,cv = kfold)\n",
    "OverSampleingDataset_kfold_result7"
   ]
  },
  {
   "cell_type": "code",
   "execution_count": 28,
   "id": "b49ff136",
   "metadata": {},
   "outputs": [
    {
     "data": {
      "text/plain": [
       "0.7319935994979687"
      ]
     },
     "execution_count": 28,
     "metadata": {},
     "output_type": "execute_result"
    }
   ],
   "source": [
    "OverSampleingDataset_kfold_result7.mean()"
   ]
  },
  {
   "cell_type": "markdown",
   "id": "aaac621c",
   "metadata": {},
   "source": [
    "# HistGradientBoostingClassifier for StratiFied KFold cross validation for Over sampling\n"
   ]
  },
  {
   "cell_type": "code",
   "execution_count": 29,
   "id": "8f8065ba",
   "metadata": {},
   "outputs": [],
   "source": [
    "from sklearn.model_selection import StratifiedKFold\n",
    "Stf_Kfold = StratifiedKFold(n_splits = 10)"
   ]
  },
  {
   "cell_type": "code",
   "execution_count": 30,
   "id": "605903b2",
   "metadata": {},
   "outputs": [
    {
     "data": {
      "text/plain": [
       "array([0.76971143, 0.7648109 , 0.7682498 , 0.7630577 , 0.76928823,\n",
       "       0.75884936, 0.77564628, 0.75762876, 0.77329617, 0.76535315])"
      ]
     },
     "execution_count": 30,
     "metadata": {},
     "output_type": "execute_result"
    }
   ],
   "source": [
    "OverSampleingDataset_Sf_kfold_result7= cross_val_score(hgbc,x7_new,y7_new,cv = Stf_Kfold)\n",
    "OverSampleingDataset_Sf_kfold_result7"
   ]
  },
  {
   "cell_type": "code",
   "execution_count": 31,
   "id": "a064201b",
   "metadata": {},
   "outputs": [
    {
     "data": {
      "text/plain": [
       "0.7665891776022759"
      ]
     },
     "execution_count": 31,
     "metadata": {},
     "output_type": "execute_result"
    }
   ],
   "source": [
    "OverSampleingDataset_Sf_kfold_result7.mean()"
   ]
  },
  {
   "cell_type": "markdown",
   "id": "7be19b19",
   "metadata": {},
   "source": [
    "# Now from over sampling ,we calculate all confusion matrix performance\n"
   ]
  },
  {
   "cell_type": "code",
   "execution_count": 32,
   "id": "86bb9f17",
   "metadata": {},
   "outputs": [
    {
     "data": {
      "text/plain": [
       "HistGradientBoostingClassifier()"
      ]
     },
     "execution_count": 32,
     "metadata": {},
     "output_type": "execute_result"
    }
   ],
   "source": [
    "from sklearn.metrics import classification_report,accuracy_score,confusion_matrix,plot_roc_curve\n",
    "hgbc.fit(over_xtrain,over_ytrain)"
   ]
  },
  {
   "cell_type": "code",
   "execution_count": 33,
   "id": "11ae40c9",
   "metadata": {},
   "outputs": [
    {
     "data": {
      "text/plain": [
       "array([1, 1, 0, ..., 1, 1, 1])"
      ]
     },
     "execution_count": 33,
     "metadata": {},
     "output_type": "execute_result"
    }
   ],
   "source": [
    "pred_y7=hgbc.predict(over_xtest)#Predicted Class \n",
    "pred_y7"
   ]
  },
  {
   "cell_type": "code",
   "execution_count": 34,
   "id": "0dd50602",
   "metadata": {},
   "outputs": [
    {
     "data": {
      "text/plain": [
       "374936    1\n",
       "319916    1\n",
       "56188     0\n",
       "444156    1\n",
       "170814    0\n",
       "         ..\n",
       "285161    0\n",
       "217312    1\n",
       "353792    1\n",
       "318432    1\n",
       "216193    0\n",
       "Name: HeartDisease, Length: 164674, dtype: int32"
      ]
     },
     "execution_count": 34,
     "metadata": {},
     "output_type": "execute_result"
    }
   ],
   "source": [
    "over_ytest"
   ]
  },
  {
   "cell_type": "code",
   "execution_count": 35,
   "id": "4d48613e",
   "metadata": {},
   "outputs": [
    {
     "data": {
      "text/plain": [
       "array([1, 1, 0, ..., 1, 1, 0])"
      ]
     },
     "execution_count": 35,
     "metadata": {},
     "output_type": "execute_result"
    }
   ],
   "source": [
    "np.array(over_ytest) #actual class/y\n"
   ]
  },
  {
   "cell_type": "code",
   "execution_count": 36,
   "id": "d9a2ca90",
   "metadata": {},
   "outputs": [
    {
     "name": "stdout",
     "output_type": "stream",
     "text": [
      "              precision    recall  f1-score   support\n",
      "\n",
      "           0       0.79      0.72      0.76     82143\n",
      "           1       0.75      0.81      0.78     82531\n",
      "\n",
      "    accuracy                           0.77    164674\n",
      "   macro avg       0.77      0.77      0.77    164674\n",
      "weighted avg       0.77      0.77      0.77    164674\n",
      "\n"
     ]
    }
   ],
   "source": [
    "print(classification_report(over_ytest,pred_y7))"
   ]
  },
  {
   "cell_type": "code",
   "execution_count": 39,
   "id": "b50f975a",
   "metadata": {},
   "outputs": [
    {
     "data": {
      "text/plain": [
       "array([[59428, 22715],\n",
       "       [15388, 67143]], dtype=int64)"
      ]
     },
     "execution_count": 39,
     "metadata": {},
     "output_type": "execute_result"
    }
   ],
   "source": [
    "cm7=confusion_matrix(over_ytest,pred_y7)\n",
    "cm7"
   ]
  },
  {
   "cell_type": "markdown",
   "id": "7eecd888",
   "metadata": {},
   "source": [
    "# Visualization with heatmap performance of confussion matrix for HistGradientBoosting Classifier\n"
   ]
  },
  {
   "cell_type": "code",
   "execution_count": 40,
   "id": "9fc86c3c",
   "metadata": {},
   "outputs": [
    {
     "data": {
      "text/plain": [
       "Text(33.0, 0.5, 'Actual Values')"
      ]
     },
     "execution_count": 40,
     "metadata": {},
     "output_type": "execute_result"
    },
    {
     "data": {
      "image/png": "[encoded data removed]",
      "text/plain": [
       "<Figure size 432x288 with 2 Axes>"
      ]
     },
     "metadata": {
      "needs_background": "light"
     },
     "output_type": "display_data"
    }
   ],
   "source": [
    "sns.heatmap(cm7,annot=True)\n",
    "plt.xlabel('Predicted Values')\n",
    "plt.ylabel('Actual Values')"
   ]
  },
  {
   "cell_type": "code",
   "execution_count": 41,
   "id": "c950bb6c",
   "metadata": {},
   "outputs": [],
   "source": [
    "tp,fn,fp,tn=confusion_matrix(over_ytest,pred_y7).reshape(-1)"
   ]
  },
  {
   "cell_type": "code",
   "execution_count": 42,
   "id": "06236563",
   "metadata": {},
   "outputs": [
    {
     "data": {
      "text/plain": [
       "59428"
      ]
     },
     "execution_count": 42,
     "metadata": {},
     "output_type": "execute_result"
    }
   ],
   "source": [
    "tp"
   ]
  },
  {
   "cell_type": "code",
   "execution_count": 43,
   "id": "a4dd5b9d",
   "metadata": {},
   "outputs": [
    {
     "data": {
      "text/plain": [
       "22715"
      ]
     },
     "execution_count": 43,
     "metadata": {},
     "output_type": "execute_result"
    }
   ],
   "source": [
    "fn"
   ]
  },
  {
   "cell_type": "code",
   "execution_count": 44,
   "id": "bb696857",
   "metadata": {},
   "outputs": [
    {
     "data": {
      "text/plain": [
       "15388"
      ]
     },
     "execution_count": 44,
     "metadata": {},
     "output_type": "execute_result"
    }
   ],
   "source": [
    "fp"
   ]
  },
  {
   "cell_type": "code",
   "execution_count": 45,
   "id": "f78322c1",
   "metadata": {},
   "outputs": [
    {
     "data": {
      "text/plain": [
       "67143"
      ]
     },
     "execution_count": 45,
     "metadata": {},
     "output_type": "execute_result"
    }
   ],
   "source": [
    "tn"
   ]
  },
  {
   "cell_type": "markdown",
   "id": "ce02a2dc",
   "metadata": {},
   "source": [
    "# Accuracy\n"
   ]
  },
  {
   "cell_type": "code",
   "execution_count": 46,
   "id": "bf171c47",
   "metadata": {},
   "outputs": [
    {
     "data": {
      "text/plain": [
       "0.768615567727753"
      ]
     },
     "execution_count": 46,
     "metadata": {},
     "output_type": "execute_result"
    }
   ],
   "source": [
    "(tp+tn)/(tp+tn+fn+fp)"
   ]
  },
  {
   "cell_type": "code",
   "execution_count": 47,
   "id": "5cd28752",
   "metadata": {},
   "outputs": [
    {
     "name": "stdout",
     "output_type": "stream",
     "text": [
      "0.7943220701454234\n"
     ]
    }
   ],
   "source": [
    "#precision\n",
    "ppv = tp/(tp+fp)\n",
    "print(ppv)"
   ]
  },
  {
   "cell_type": "code",
   "execution_count": 48,
   "id": "321df446",
   "metadata": {},
   "outputs": [
    {
     "name": "stdout",
     "output_type": "stream",
     "text": [
      "0.7234700461390502\n"
     ]
    }
   ],
   "source": [
    "#Recall\n",
    "trp = tp/(tp+fn)\n",
    "print(trp)"
   ]
  },
  {
   "cell_type": "code",
   "execution_count": 49,
   "id": "44b8df7f",
   "metadata": {},
   "outputs": [
    {
     "name": "stdout",
     "output_type": "stream",
     "text": [
      "0.18645115168845647\n"
     ]
    }
   ],
   "source": [
    "#1-Specificity\n",
    "fpr = fp/(fp+tn)\n",
    "print(fpr)"
   ]
  },
  {
   "cell_type": "code",
   "execution_count": 50,
   "id": "78dd7cff",
   "metadata": {},
   "outputs": [
    {
     "name": "stdout",
     "output_type": "stream",
     "text": [
      "0.7572423371708535\n"
     ]
    }
   ],
   "source": [
    "#F1-score\n",
    "f1_score = (2*ppv*trp)/(ppv+trp)\n",
    "print(f1_score)"
   ]
  },
  {
   "cell_type": "code",
   "execution_count": 51,
   "id": "86025982",
   "metadata": {},
   "outputs": [
    {
     "name": "stdout",
     "output_type": "stream",
     "text": [
      "0.8135488483115435\n"
     ]
    }
   ],
   "source": [
    "#Specificity\n",
    "tnr = tn/(tn+fp)\n",
    "print(tnr)"
   ]
  },
  {
   "cell_type": "code",
   "execution_count": 52,
   "id": "b3f217f6",
   "metadata": {},
   "outputs": [
    {
     "name": "stdout",
     "output_type": "stream",
     "text": [
      "0.6093242148650173\n"
     ]
    }
   ],
   "source": [
    "#CSI\n",
    "csi = tp/(tp+fn+fp)\n",
    "print(csi)"
   ]
  },
  {
   "cell_type": "code",
   "execution_count": 53,
   "id": "4417803b",
   "metadata": {},
   "outputs": [
    {
     "name": "stdout",
     "output_type": "stream",
     "text": [
      "0.20567792985457656\n"
     ]
    }
   ],
   "source": [
    "#FDR\n",
    "fdr = fp/(tp+fp)\n",
    "print(fdr)"
   ]
  },
  {
   "cell_type": "markdown",
   "id": "6c2a2989",
   "metadata": {},
   "source": [
    "# Roc and Auc curve for HistGradientingBoosting classifier\n"
   ]
  },
  {
   "cell_type": "code",
   "execution_count": 54,
   "id": "a8483861",
   "metadata": {},
   "outputs": [
    {
     "name": "stderr",
     "output_type": "stream",
     "text": [
      "C:\\Users\\WIN\\Anaconda3\\lib\\site-packages\\sklearn\\utils\\deprecation.py:87: FutureWarning: Function plot_roc_curve is deprecated; Function :func:`plot_roc_curve` is deprecated in 1.0 and will be removed in 1.2. Use one of the class methods: :meth:`sklearn.metric.RocCurveDisplay.from_predictions` or :meth:`sklearn.metric.RocCurveDisplay.from_estimator`.\n",
      "  warnings.warn(msg, category=FutureWarning)\n"
     ]
    },
    {
     "data": {
      "text/plain": [
       "[<matplotlib.lines.Line2D at 0x1e6adc9cc10>]"
      ]
     },
     "execution_count": 54,
     "metadata": {},
     "output_type": "execute_result"
    },
    {
     "data": {
      "image/png": "[encoded data removed]",
      "text/plain": [
       "<Figure size 432x288 with 1 Axes>"
      ]
     },
     "metadata": {
      "needs_background": "light"
     },
     "output_type": "display_data"
    }
   ],
   "source": [
    "plot_roc_curve(hgbc,over_xtest,over_ytest,color='red')\n",
    "plt.plot([0,1],[0,1])"
   ]
  },
  {
   "cell_type": "markdown",
   "id": "31943414",
   "metadata": {},
   "source": [
    "# Tunning HistGradientBoosting Classifier Algorithm using Randomized Search CV\n"
   ]
  },
  {
   "cell_type": "code",
   "execution_count": 58,
   "id": "fe06101c",
   "metadata": {},
   "outputs": [],
   "source": [
    "loss=['auto','binary_crossentropy','categorical_crossentropy']\n",
    "max_iter=np.random.randint(15,200,20)\n",
    "max_depth=np.random.randint(1,12,20)\n",
    "min_samples_leaf=np.random.randint(1,12,15)\n",
    "\n",
    "parameters={\n",
    "    'loss':loss,\n",
    "    'max_depth':max_depth,\n",
    "    'min_samples_leaf':min_samples_leaf\n",
    "}"
   ]
  },
  {
   "cell_type": "code",
   "execution_count": 59,
   "id": "b360d985",
   "metadata": {},
   "outputs": [
    {
     "name": "stdout",
     "output_type": "stream",
     "text": [
      "{'loss': ['auto', 'binary_crossentropy', 'categorical_crossentropy'], 'max_depth': array([ 1,  7,  3,  8,  9,  3,  7,  7,  2,  5, 10,  2,  9,  9,  2,  1,  8,\n",
      "       10,  3,  1]), 'min_samples_leaf': array([ 8, 10,  4, 10,  2,  7, 11,  9,  6, 11, 11,  3,  5,  6, 11])}\n"
     ]
    }
   ],
   "source": [
    "print(parameters)"
   ]
  },
  {
   "cell_type": "code",
   "execution_count": 60,
   "id": "26ffb26d",
   "metadata": {},
   "outputs": [
    {
     "data": {
      "text/plain": [
       "RandomizedSearchCV(cv=3, estimator=HistGradientBoostingClassifier(), n_iter=100,\n",
       "                   param_distributions={'loss': ['auto', 'binary_crossentropy',\n",
       "                                                 'categorical_crossentropy'],\n",
       "                                        'max_depth': array([ 1,  7,  3,  8,  9,  3,  7,  7,  2,  5, 10,  2,  9,  9,  2,  1,  8,\n",
       "       10,  3,  1]),\n",
       "                                        'min_samples_leaf': array([ 8, 10,  4, 10,  2,  7, 11,  9,  6, 11, 11,  3,  5,  6, 11])})"
      ]
     },
     "execution_count": 60,
     "metadata": {},
     "output_type": "execute_result"
    }
   ],
   "source": [
    "from sklearn.model_selection import RandomizedSearchCV\n",
    "import warnings\n",
    "warnings.filterwarnings('ignore')\n",
    "r=RandomizedSearchCV(hgbc,parameters,n_iter=100,cv=3)\n",
    "r.fit(over_xtrain,over_ytrain)"
   ]
  },
  {
   "cell_type": "code",
   "execution_count": 61,
   "id": "329da016",
   "metadata": {},
   "outputs": [
    {
     "data": {
      "text/plain": [
       "{'mean_fit_time': array([ 9.01913102,  0.30048974,  0.29263608, 11.76343528,  6.21613995,\n",
       "         9.2514383 ,  0.16943638,  0.12451228,  5.62765662,  0.20206801,\n",
       "         0.18927495,  0.15489546,  0.14299742,  9.52264063, 10.14156326,\n",
       "         9.61243947,  0.15105422,  9.79176545,  0.15411965,  5.51198888,\n",
       "         0.14786704,  9.10819411,  0.15485398,  0.12884514,  9.82947699,\n",
       "         0.16384133,  8.90462653,  8.82812182,  9.56904658,  5.30368519,\n",
       "         0.16302562,  0.13017352,  8.9134601 ,  0.16760818,  9.61116457,\n",
       "         9.02993639,  9.95269481,  0.1639177 ,  0.14938577,  0.12773617,\n",
       "         5.17834552,  0.13420145,  0.12214812,  0.12364252, 11.45681906,\n",
       "         0.29727586, 11.08716226,  5.79569372,  9.2290434 ,  5.09141787,\n",
       "         0.14380336,  5.49562478,  0.16315285,  0.15395093,  6.60070546,\n",
       "         0.13072634,  0.1093897 ,  9.29042673,  4.75243036, 10.07895025,\n",
       "         5.94316308, 12.0121092 ,  7.76715382, 10.26884468,  0.25217096,\n",
       "        12.70247618, 12.35970179,  6.89611165, 11.51348821,  6.95137739,\n",
       "         7.93469699,  0.28302209, 10.12996133,  6.4326241 , 10.64906923,\n",
       "         6.44073733, 10.11924434,  9.26343107, 10.3708171 ,  9.55007227,\n",
       "         7.12482182, 10.22521242,  0.15683532,  6.4555885 ,  0.20155668,\n",
       "         0.1299061 ,  9.11719131, 11.10752853, 10.91280468, 11.80273525,\n",
       "         0.16096298,  9.78895084,  7.69236143,  0.17712903,  0.12649616,\n",
       "        11.29367423, 11.92760507, 14.42938685,  0.15481337,  9.044391  ]),\n",
       " 'std_fit_time': array([2.51515922e-01, 2.84690367e-02, 1.81446808e-02, 2.57107569e+00,\n",
       "        4.15025283e-01, 2.74166522e-01, 3.64090916e-02, 7.06437705e-04,\n",
       "        6.29627053e-01, 3.98243334e-02, 3.75407353e-02, 1.11255567e-02,\n",
       "        1.51377439e-02, 3.09754577e-01, 4.58385299e-01, 3.36879086e-01,\n",
       "        1.47299304e-02, 4.09312549e-01, 2.83699543e-02, 2.07730545e-01,\n",
       "        1.08745057e-02, 3.54580255e-01, 9.29991208e-03, 8.50485697e-03,\n",
       "        1.21794914e+00, 1.09708774e-02, 7.04623127e-01, 6.30606852e-01,\n",
       "        4.12822977e-01, 4.76059012e-01, 1.79929760e-02, 7.29674345e-03,\n",
       "        2.14447740e-01, 1.84706584e-02, 4.93054501e-01, 5.41876448e-01,\n",
       "        5.15988065e-01, 9.09747881e-03, 1.23673466e-02, 3.85789827e-03,\n",
       "        1.90817130e-01, 1.88901166e-02, 4.01302546e-03, 1.11233080e-02,\n",
       "        2.92536606e+00, 4.93616177e-02, 1.10309376e+00, 6.60827810e-01,\n",
       "        1.26360903e-01, 5.07962754e-01, 3.77433460e-03, 4.03048397e-01,\n",
       "        1.44592057e-02, 1.92205700e-02, 3.60975691e-01, 7.03789036e-03,\n",
       "        9.60274217e-07, 6.00848429e-01, 1.27197611e-01, 9.08844833e-01,\n",
       "        4.83346808e-01, 2.00270820e+00, 1.07963641e+00, 1.39279857e-01,\n",
       "        3.65651152e-02, 2.11880097e+00, 9.12350007e-01, 2.95099571e-02,\n",
       "        3.04884842e-02, 2.31183348e-01, 1.08947510e-01, 5.65192252e-02,\n",
       "        2.75794002e-01, 7.08807724e-01, 1.31167438e+00, 6.10137635e-01,\n",
       "        8.58827000e-01, 1.32416419e+00, 3.61403203e-01, 3.68408626e-01,\n",
       "        4.20111338e-01, 6.21984774e-01, 1.03420372e-02, 1.32350253e-01,\n",
       "        3.58262460e-02, 1.68635712e-02, 7.93169152e-01, 1.73727187e+00,\n",
       "        9.48017633e-01, 2.29941514e+00, 7.87117595e-03, 3.40759685e-01,\n",
       "        5.32678860e-01, 2.30881853e-02, 1.21060541e-02, 1.07489071e+00,\n",
       "        5.44455152e+00, 4.75989037e+00, 6.02405364e-03, 4.36530497e-01]),\n",
       " 'mean_score_time': array([2.25124629, 0.        , 0.        , 1.91603327, 0.71469967,\n",
       "        1.96149214, 0.        , 0.        , 0.78299157, 0.        ,\n",
       "        0.        , 0.        , 0.        , 2.0958271 , 2.09489965,\n",
       "        1.95017012, 0.        , 2.53799303, 0.        , 0.86305459,\n",
       "        0.        , 1.91717386, 0.        , 0.        , 2.21620472,\n",
       "        0.        , 1.99209913, 1.84814564, 1.87287378, 0.52064395,\n",
       "        0.        , 0.        , 1.93172948, 0.        , 1.93161066,\n",
       "        2.4200898 , 2.01973915, 0.        , 0.        , 0.        ,\n",
       "        0.5365026 , 0.        , 0.        , 0.        , 2.03282285,\n",
       "        0.        , 2.2401317 , 0.78432218, 1.87425963, 0.48645941,\n",
       "        0.        , 0.67730641, 0.        , 0.        , 1.17282971,\n",
       "        0.        , 0.        , 1.73781292, 0.51483432, 2.22869857,\n",
       "        0.61934988, 2.47995273, 1.21260722, 2.20628905, 0.        ,\n",
       "        2.21646913, 1.97924383, 0.99206384, 2.15546083, 0.99004364,\n",
       "        1.3054239 , 0.        , 2.00415627, 0.8880314 , 1.83874154,\n",
       "        1.071232  , 1.94466178, 1.84419171, 1.81004405, 1.79171594,\n",
       "        1.2702899 , 1.77080806, 0.        , 0.97189657, 0.        ,\n",
       "        0.        , 1.9443152 , 1.88838712, 2.30241529, 1.81983495,\n",
       "        0.        , 1.86466424, 1.47433615, 0.        , 0.        ,\n",
       "        2.13091024, 3.58385626, 2.0610617 , 0.        , 1.86297305]),\n",
       " 'std_score_time': array([0.40022254, 0.        , 0.        , 0.11516963, 0.0815013 ,\n",
       "        0.08638274, 0.        , 0.        , 0.22905224, 0.        ,\n",
       "        0.        , 0.        , 0.        , 0.13880073, 0.35828269,\n",
       "        0.07505755, 0.        , 0.20625213, 0.        , 0.10710586,\n",
       "        0.        , 0.20159572, 0.        , 0.        , 0.21918173,\n",
       "        0.        , 0.14845458, 0.31927808, 0.17979037, 0.08004802,\n",
       "        0.        , 0.        , 0.17004042, 0.        , 0.23037632,\n",
       "        0.19189188, 0.23907767, 0.        , 0.        , 0.        ,\n",
       "        0.07953753, 0.        , 0.        , 0.        , 0.28544017,\n",
       "        0.        , 0.44720008, 0.0208268 , 0.2071613 , 0.01452687,\n",
       "        0.        , 0.04321645, 0.        , 0.        , 0.27554192,\n",
       "        0.        , 0.        , 0.15141274, 0.04302204, 0.28804455,\n",
       "        0.0175937 , 0.5296841 , 0.02583982, 0.1407249 , 0.        ,\n",
       "        0.07597626, 0.05697378, 0.07177525, 0.32714314, 0.04864879,\n",
       "        0.03762793, 0.        , 0.0849612 , 0.10512765, 0.1493881 ,\n",
       "        0.16187423, 0.18186159, 0.12281779, 0.08382126, 0.24065429,\n",
       "        0.31567887, 0.15026625, 0.        , 0.08781414, 0.        ,\n",
       "        0.        , 0.28567923, 0.1292777 , 0.44924342, 0.14018048,\n",
       "        0.        , 0.14586381, 0.24866546, 0.        , 0.        ,\n",
       "        0.16807987, 2.61746252, 0.39658139, 0.        , 0.06285444]),\n",
       " 'param_min_samples_leaf': masked_array(data=[9, 7, 6, 11, 10, 11, 10, 11, 7, 6, 6, 5, 11, 10, 6, 7,\n",
       "                    11, 11, 8, 4, 11, 11, 11, 7, 5, 3, 10, 11, 10, 11, 5,\n",
       "                    11, 4, 2, 9, 10, 11, 11, 11, 11, 3, 10, 5, 10, 11, 6,\n",
       "                    11, 11, 10, 11, 11, 4, 11, 10, 11, 8, 10, 6, 5, 7, 4,\n",
       "                    11, 10, 10, 11, 11, 6, 4, 6, 9, 11, 6, 9, 10, 11, 3,\n",
       "                    11, 7, 6, 4, 4, 6, 8, 10, 8, 9, 3, 11, 8, 5, 10, 8, 2,\n",
       "                    10, 10, 5, 7, 11, 6, 4],\n",
       "              mask=[False, False, False, False, False, False, False, False,\n",
       "                    False, False, False, False, False, False, False, False,\n",
       "                    False, False, False, False, False, False, False, False,\n",
       "                    False, False, False, False, False, False, False, False,\n",
       "                    False, False, False, False, False, False, False, False,\n",
       "                    False, False, False, False, False, False, False, False,\n",
       "                    False, False, False, False, False, False, False, False,\n",
       "                    False, False, False, False, False, False, False, False,\n",
       "                    False, False, False, False, False, False, False, False,\n",
       "                    False, False, False, False, False, False, False, False,\n",
       "                    False, False, False, False, False, False, False, False,\n",
       "                    False, False, False, False, False, False, False, False,\n",
       "                    False, False, False, False],\n",
       "        fill_value='?',\n",
       "             dtype=object),\n",
       " 'param_max_depth': masked_array(data=[9, 2, 8, 9, 2, 7, 8, 9, 1, 3, 8, 1, 7, 10, 10, 7, 10,\n",
       "                    7, 2, 2, 2, 7, 8, 1, 9, 7, 5, 5, 8, 1, 7, 9, 8, 1, 7,\n",
       "                    5, 8, 7, 9, 2, 1, 7, 1, 1, 9, 10, 8, 2, 8, 1, 1, 2, 3,\n",
       "                    3, 3, 9, 9, 7, 1, 9, 1, 5, 3, 7, 10, 5, 9, 2, 10, 2, 3,\n",
       "                    2, 9, 2, 10, 3, 7, 5, 9, 9, 3, 9, 3, 3, 10, 8, 7, 8, 8,\n",
       "                    10, 8, 9, 3, 10, 2, 9, 7, 9, 9, 8],\n",
       "              mask=[False, False, False, False, False, False, False, False,\n",
       "                    False, False, False, False, False, False, False, False,\n",
       "                    False, False, False, False, False, False, False, False,\n",
       "                    False, False, False, False, False, False, False, False,\n",
       "                    False, False, False, False, False, False, False, False,\n",
       "                    False, False, False, False, False, False, False, False,\n",
       "                    False, False, False, False, False, False, False, False,\n",
       "                    False, False, False, False, False, False, False, False,\n",
       "                    False, False, False, False, False, False, False, False,\n",
       "                    False, False, False, False, False, False, False, False,\n",
       "                    False, False, False, False, False, False, False, False,\n",
       "                    False, False, False, False, False, False, False, False,\n",
       "                    False, False, False, False],\n",
       "        fill_value='?',\n",
       "             dtype=object),\n",
       " 'param_loss': masked_array(data=['auto', 'categorical_crossentropy',\n",
       "                    'categorical_crossentropy', 'auto',\n",
       "                    'binary_crossentropy', 'binary_crossentropy',\n",
       "                    'categorical_crossentropy', 'categorical_crossentropy',\n",
       "                    'auto', 'categorical_crossentropy',\n",
       "                    'categorical_crossentropy', 'categorical_crossentropy',\n",
       "                    'categorical_crossentropy', 'auto',\n",
       "                    'binary_crossentropy', 'auto',\n",
       "                    'categorical_crossentropy', 'auto',\n",
       "                    'categorical_crossentropy', 'binary_crossentropy',\n",
       "                    'categorical_crossentropy', 'binary_crossentropy',\n",
       "                    'categorical_crossentropy', 'categorical_crossentropy',\n",
       "                    'binary_crossentropy', 'categorical_crossentropy',\n",
       "                    'auto', 'binary_crossentropy', 'binary_crossentropy',\n",
       "                    'auto', 'categorical_crossentropy',\n",
       "                    'categorical_crossentropy', 'auto',\n",
       "                    'categorical_crossentropy', 'binary_crossentropy',\n",
       "                    'binary_crossentropy', 'binary_crossentropy',\n",
       "                    'categorical_crossentropy', 'categorical_crossentropy',\n",
       "                    'categorical_crossentropy', 'binary_crossentropy',\n",
       "                    'categorical_crossentropy', 'categorical_crossentropy',\n",
       "                    'categorical_crossentropy', 'auto',\n",
       "                    'categorical_crossentropy', 'binary_crossentropy',\n",
       "                    'binary_crossentropy', 'binary_crossentropy',\n",
       "                    'binary_crossentropy', 'categorical_crossentropy',\n",
       "                    'auto', 'categorical_crossentropy',\n",
       "                    'categorical_crossentropy', 'auto',\n",
       "                    'categorical_crossentropy', 'categorical_crossentropy',\n",
       "                    'auto', 'auto', 'binary_crossentropy', 'auto', 'auto',\n",
       "                    'binary_crossentropy', 'auto',\n",
       "                    'categorical_crossentropy', 'auto',\n",
       "                    'binary_crossentropy', 'auto', 'auto',\n",
       "                    'binary_crossentropy', 'binary_crossentropy',\n",
       "                    'categorical_crossentropy', 'binary_crossentropy',\n",
       "                    'binary_crossentropy', 'auto', 'binary_crossentropy',\n",
       "                    'binary_crossentropy', 'auto', 'auto', 'auto',\n",
       "                    'binary_crossentropy', 'auto',\n",
       "                    'categorical_crossentropy', 'binary_crossentropy',\n",
       "                    'categorical_crossentropy', 'categorical_crossentropy',\n",
       "                    'binary_crossentropy', 'auto', 'binary_crossentropy',\n",
       "                    'auto', 'categorical_crossentropy', 'auto',\n",
       "                    'binary_crossentropy', 'categorical_crossentropy',\n",
       "                    'categorical_crossentropy', 'auto', 'auto', 'auto',\n",
       "                    'categorical_crossentropy', 'binary_crossentropy'],\n",
       "              mask=[False, False, False, False, False, False, False, False,\n",
       "                    False, False, False, False, False, False, False, False,\n",
       "                    False, False, False, False, False, False, False, False,\n",
       "                    False, False, False, False, False, False, False, False,\n",
       "                    False, False, False, False, False, False, False, False,\n",
       "                    False, False, False, False, False, False, False, False,\n",
       "                    False, False, False, False, False, False, False, False,\n",
       "                    False, False, False, False, False, False, False, False,\n",
       "                    False, False, False, False, False, False, False, False,\n",
       "                    False, False, False, False, False, False, False, False,\n",
       "                    False, False, False, False, False, False, False, False,\n",
       "                    False, False, False, False, False, False, False, False,\n",
       "                    False, False, False, False],\n",
       "        fill_value='?',\n",
       "             dtype=object),\n",
       " 'params': [{'min_samples_leaf': 9, 'max_depth': 9, 'loss': 'auto'},\n",
       "  {'min_samples_leaf': 7, 'max_depth': 2, 'loss': 'categorical_crossentropy'},\n",
       "  {'min_samples_leaf': 6, 'max_depth': 8, 'loss': 'categorical_crossentropy'},\n",
       "  {'min_samples_leaf': 11, 'max_depth': 9, 'loss': 'auto'},\n",
       "  {'min_samples_leaf': 10, 'max_depth': 2, 'loss': 'binary_crossentropy'},\n",
       "  {'min_samples_leaf': 11, 'max_depth': 7, 'loss': 'binary_crossentropy'},\n",
       "  {'min_samples_leaf': 10, 'max_depth': 8, 'loss': 'categorical_crossentropy'},\n",
       "  {'min_samples_leaf': 11, 'max_depth': 9, 'loss': 'categorical_crossentropy'},\n",
       "  {'min_samples_leaf': 7, 'max_depth': 1, 'loss': 'auto'},\n",
       "  {'min_samples_leaf': 6, 'max_depth': 3, 'loss': 'categorical_crossentropy'},\n",
       "  {'min_samples_leaf': 6, 'max_depth': 8, 'loss': 'categorical_crossentropy'},\n",
       "  {'min_samples_leaf': 5, 'max_depth': 1, 'loss': 'categorical_crossentropy'},\n",
       "  {'min_samples_leaf': 11, 'max_depth': 7, 'loss': 'categorical_crossentropy'},\n",
       "  {'min_samples_leaf': 10, 'max_depth': 10, 'loss': 'auto'},\n",
       "  {'min_samples_leaf': 6, 'max_depth': 10, 'loss': 'binary_crossentropy'},\n",
       "  {'min_samples_leaf': 7, 'max_depth': 7, 'loss': 'auto'},\n",
       "  {'min_samples_leaf': 11,\n",
       "   'max_depth': 10,\n",
       "   'loss': 'categorical_crossentropy'},\n",
       "  {'min_samples_leaf': 11, 'max_depth': 7, 'loss': 'auto'},\n",
       "  {'min_samples_leaf': 8, 'max_depth': 2, 'loss': 'categorical_crossentropy'},\n",
       "  {'min_samples_leaf': 4, 'max_depth': 2, 'loss': 'binary_crossentropy'},\n",
       "  {'min_samples_leaf': 11, 'max_depth': 2, 'loss': 'categorical_crossentropy'},\n",
       "  {'min_samples_leaf': 11, 'max_depth': 7, 'loss': 'binary_crossentropy'},\n",
       "  {'min_samples_leaf': 11, 'max_depth': 8, 'loss': 'categorical_crossentropy'},\n",
       "  {'min_samples_leaf': 7, 'max_depth': 1, 'loss': 'categorical_crossentropy'},\n",
       "  {'min_samples_leaf': 5, 'max_depth': 9, 'loss': 'binary_crossentropy'},\n",
       "  {'min_samples_leaf': 3, 'max_depth': 7, 'loss': 'categorical_crossentropy'},\n",
       "  {'min_samples_leaf': 10, 'max_depth': 5, 'loss': 'auto'},\n",
       "  {'min_samples_leaf': 11, 'max_depth': 5, 'loss': 'binary_crossentropy'},\n",
       "  {'min_samples_leaf': 10, 'max_depth': 8, 'loss': 'binary_crossentropy'},\n",
       "  {'min_samples_leaf': 11, 'max_depth': 1, 'loss': 'auto'},\n",
       "  {'min_samples_leaf': 5, 'max_depth': 7, 'loss': 'categorical_crossentropy'},\n",
       "  {'min_samples_leaf': 11, 'max_depth': 9, 'loss': 'categorical_crossentropy'},\n",
       "  {'min_samples_leaf': 4, 'max_depth': 8, 'loss': 'auto'},\n",
       "  {'min_samples_leaf': 2, 'max_depth': 1, 'loss': 'categorical_crossentropy'},\n",
       "  {'min_samples_leaf': 9, 'max_depth': 7, 'loss': 'binary_crossentropy'},\n",
       "  {'min_samples_leaf': 10, 'max_depth': 5, 'loss': 'binary_crossentropy'},\n",
       "  {'min_samples_leaf': 11, 'max_depth': 8, 'loss': 'binary_crossentropy'},\n",
       "  {'min_samples_leaf': 11, 'max_depth': 7, 'loss': 'categorical_crossentropy'},\n",
       "  {'min_samples_leaf': 11, 'max_depth': 9, 'loss': 'categorical_crossentropy'},\n",
       "  {'min_samples_leaf': 11, 'max_depth': 2, 'loss': 'categorical_crossentropy'},\n",
       "  {'min_samples_leaf': 3, 'max_depth': 1, 'loss': 'binary_crossentropy'},\n",
       "  {'min_samples_leaf': 10, 'max_depth': 7, 'loss': 'categorical_crossentropy'},\n",
       "  {'min_samples_leaf': 5, 'max_depth': 1, 'loss': 'categorical_crossentropy'},\n",
       "  {'min_samples_leaf': 10, 'max_depth': 1, 'loss': 'categorical_crossentropy'},\n",
       "  {'min_samples_leaf': 11, 'max_depth': 9, 'loss': 'auto'},\n",
       "  {'min_samples_leaf': 6, 'max_depth': 10, 'loss': 'categorical_crossentropy'},\n",
       "  {'min_samples_leaf': 11, 'max_depth': 8, 'loss': 'binary_crossentropy'},\n",
       "  {'min_samples_leaf': 11, 'max_depth': 2, 'loss': 'binary_crossentropy'},\n",
       "  {'min_samples_leaf': 10, 'max_depth': 8, 'loss': 'binary_crossentropy'},\n",
       "  {'min_samples_leaf': 11, 'max_depth': 1, 'loss': 'binary_crossentropy'},\n",
       "  {'min_samples_leaf': 11, 'max_depth': 1, 'loss': 'categorical_crossentropy'},\n",
       "  {'min_samples_leaf': 4, 'max_depth': 2, 'loss': 'auto'},\n",
       "  {'min_samples_leaf': 11, 'max_depth': 3, 'loss': 'categorical_crossentropy'},\n",
       "  {'min_samples_leaf': 10, 'max_depth': 3, 'loss': 'categorical_crossentropy'},\n",
       "  {'min_samples_leaf': 11, 'max_depth': 3, 'loss': 'auto'},\n",
       "  {'min_samples_leaf': 8, 'max_depth': 9, 'loss': 'categorical_crossentropy'},\n",
       "  {'min_samples_leaf': 10, 'max_depth': 9, 'loss': 'categorical_crossentropy'},\n",
       "  {'min_samples_leaf': 6, 'max_depth': 7, 'loss': 'auto'},\n",
       "  {'min_samples_leaf': 5, 'max_depth': 1, 'loss': 'auto'},\n",
       "  {'min_samples_leaf': 7, 'max_depth': 9, 'loss': 'binary_crossentropy'},\n",
       "  {'min_samples_leaf': 4, 'max_depth': 1, 'loss': 'auto'},\n",
       "  {'min_samples_leaf': 11, 'max_depth': 5, 'loss': 'auto'},\n",
       "  {'min_samples_leaf': 10, 'max_depth': 3, 'loss': 'binary_crossentropy'},\n",
       "  {'min_samples_leaf': 10, 'max_depth': 7, 'loss': 'auto'},\n",
       "  {'min_samples_leaf': 11,\n",
       "   'max_depth': 10,\n",
       "   'loss': 'categorical_crossentropy'},\n",
       "  {'min_samples_leaf': 11, 'max_depth': 5, 'loss': 'auto'},\n",
       "  {'min_samples_leaf': 6, 'max_depth': 9, 'loss': 'binary_crossentropy'},\n",
       "  {'min_samples_leaf': 4, 'max_depth': 2, 'loss': 'auto'},\n",
       "  {'min_samples_leaf': 6, 'max_depth': 10, 'loss': 'auto'},\n",
       "  {'min_samples_leaf': 9, 'max_depth': 2, 'loss': 'binary_crossentropy'},\n",
       "  {'min_samples_leaf': 11, 'max_depth': 3, 'loss': 'binary_crossentropy'},\n",
       "  {'min_samples_leaf': 6, 'max_depth': 2, 'loss': 'categorical_crossentropy'},\n",
       "  {'min_samples_leaf': 9, 'max_depth': 9, 'loss': 'binary_crossentropy'},\n",
       "  {'min_samples_leaf': 10, 'max_depth': 2, 'loss': 'binary_crossentropy'},\n",
       "  {'min_samples_leaf': 11, 'max_depth': 10, 'loss': 'auto'},\n",
       "  {'min_samples_leaf': 3, 'max_depth': 3, 'loss': 'binary_crossentropy'},\n",
       "  {'min_samples_leaf': 11, 'max_depth': 7, 'loss': 'binary_crossentropy'},\n",
       "  {'min_samples_leaf': 7, 'max_depth': 5, 'loss': 'auto'},\n",
       "  {'min_samples_leaf': 6, 'max_depth': 9, 'loss': 'auto'},\n",
       "  {'min_samples_leaf': 4, 'max_depth': 9, 'loss': 'auto'},\n",
       "  {'min_samples_leaf': 4, 'max_depth': 3, 'loss': 'binary_crossentropy'},\n",
       "  {'min_samples_leaf': 6, 'max_depth': 9, 'loss': 'auto'},\n",
       "  {'min_samples_leaf': 8, 'max_depth': 3, 'loss': 'categorical_crossentropy'},\n",
       "  {'min_samples_leaf': 10, 'max_depth': 3, 'loss': 'binary_crossentropy'},\n",
       "  {'min_samples_leaf': 8, 'max_depth': 10, 'loss': 'categorical_crossentropy'},\n",
       "  {'min_samples_leaf': 9, 'max_depth': 8, 'loss': 'categorical_crossentropy'},\n",
       "  {'min_samples_leaf': 3, 'max_depth': 7, 'loss': 'binary_crossentropy'},\n",
       "  {'min_samples_leaf': 11, 'max_depth': 8, 'loss': 'auto'},\n",
       "  {'min_samples_leaf': 8, 'max_depth': 8, 'loss': 'binary_crossentropy'},\n",
       "  {'min_samples_leaf': 5, 'max_depth': 10, 'loss': 'auto'},\n",
       "  {'min_samples_leaf': 10, 'max_depth': 8, 'loss': 'categorical_crossentropy'},\n",
       "  {'min_samples_leaf': 8, 'max_depth': 9, 'loss': 'auto'},\n",
       "  {'min_samples_leaf': 2, 'max_depth': 3, 'loss': 'binary_crossentropy'},\n",
       "  {'min_samples_leaf': 10,\n",
       "   'max_depth': 10,\n",
       "   'loss': 'categorical_crossentropy'},\n",
       "  {'min_samples_leaf': 10, 'max_depth': 2, 'loss': 'categorical_crossentropy'},\n",
       "  {'min_samples_leaf': 5, 'max_depth': 9, 'loss': 'auto'},\n",
       "  {'min_samples_leaf': 7, 'max_depth': 7, 'loss': 'auto'},\n",
       "  {'min_samples_leaf': 11, 'max_depth': 9, 'loss': 'auto'},\n",
       "  {'min_samples_leaf': 6, 'max_depth': 9, 'loss': 'categorical_crossentropy'},\n",
       "  {'min_samples_leaf': 4, 'max_depth': 8, 'loss': 'binary_crossentropy'}],\n",
       " 'split0_test_score': array([0.76683323,        nan,        nan, 0.76626327, 0.75827608,\n",
       "        0.76602124,        nan,        nan, 0.75302155,        nan,\n",
       "               nan,        nan,        nan, 0.76666146, 0.76643504,\n",
       "        0.76573235,        nan, 0.76643504,        nan, 0.7591193 ,\n",
       "               nan, 0.7655762 ,        nan,        nan, 0.76684104,\n",
       "               nan, 0.76541224, 0.7656777 , 0.76656777, 0.75277951,\n",
       "               nan,        nan, 0.76646627,        nan, 0.76604466,\n",
       "        0.76563086, 0.76655996,        nan,        nan,        nan,\n",
       "        0.75290443,        nan,        nan,        nan, 0.76666146,\n",
       "               nan, 0.76578701, 0.75886946, 0.7659822 , 0.75231106,\n",
       "               nan, 0.75883823,        nan,        nan, 0.76097751,\n",
       "               nan,        nan, 0.76591974, 0.75303716, 0.7659822 ,\n",
       "        0.75285759, 0.76559963, 0.76129763, 0.76576359,        nan,\n",
       "        0.76533417, 0.76702842, 0.75855715, 0.76593535, 0.758198  ,\n",
       "        0.76100874,        nan, 0.76592755, 0.75844004, 0.76563866,\n",
       "        0.76109463, 0.76606027, 0.76499844, 0.76559182, 0.76592755,\n",
       "        0.76102436, 0.76578701,        nan, 0.76114928,        nan,\n",
       "               nan, 0.76572455, 0.76627889, 0.76599781, 0.76616177,\n",
       "               nan, 0.7662867 , 0.7604544 ,        nan,        nan,\n",
       "        0.76616177, 0.76610712, 0.76593535,        nan, 0.76580262]),\n",
       " 'split1_test_score': array([0.76740918,        nan,        nan, 0.7680416 , 0.75877388,\n",
       "        0.76748725,        nan,        nan, 0.75400339,        nan,\n",
       "               nan,        nan,        nan, 0.7688536 , 0.76781518,\n",
       "        0.76776833,        nan, 0.76791668,        nan, 0.75948438,\n",
       "               nan, 0.76758875,        nan,        nan, 0.76738575,\n",
       "               nan, 0.76637856, 0.76607406, 0.76703441, 0.75403462,\n",
       "               nan,        nan, 0.76748725,        nan, 0.76774491,\n",
       "        0.76657376, 0.76769806,        nan,        nan,        nan,\n",
       "        0.75383162,        nan,        nan,        nan, 0.76772148,\n",
       "               nan, 0.76794791, 0.75875046, 0.76734672, 0.75395654,\n",
       "               nan, 0.75894565,        nan,        nan, 0.76185792,\n",
       "               nan,        nan, 0.7678386 , 0.75433912, 0.76767464,\n",
       "        0.754019  , 0.76615214, 0.76281045, 0.76699537,        nan,\n",
       "        0.76603503, 0.76678456, 0.75903154, 0.76729206, 0.75895346,\n",
       "        0.76207653,        nan, 0.76744041, 0.75859431, 0.76750287,\n",
       "        0.76231857, 0.76758095, 0.76630049, 0.76766683, 0.76713591,\n",
       "        0.76253718, 0.76782298,        nan, 0.76199845,        nan,\n",
       "               nan, 0.76701099, 0.76728425, 0.76669087, 0.76776052,\n",
       "               nan, 0.76754972, 0.76232638,        nan,        nan,\n",
       "        0.76715933, 0.76728425, 0.76745602,        nan, 0.76734672]),\n",
       " 'split2_test_score': array([0.7688536 ,        nan,        nan, 0.76875991, 0.76028076,\n",
       "        0.76853348,        nan,        nan, 0.75522139,        nan,\n",
       "               nan,        nan,        nan, 0.76867402, 0.76868964,\n",
       "        0.76811968,        nan, 0.76868964,        nan, 0.76070238,\n",
       "               nan, 0.76901756,        nan,        nan, 0.76847883,\n",
       "               nan, 0.76668306, 0.76708906, 0.76829145, 0.75514331,\n",
       "               nan,        nan, 0.7679401 ,        nan, 0.76857252,\n",
       "        0.76731548, 0.76870525,        nan,        nan,        nan,\n",
       "        0.7545187 ,        nan,        nan,        nan, 0.76871306,\n",
       "               nan, 0.76864279, 0.76040569, 0.76911125, 0.75500277,\n",
       "               nan, 0.76129576,        nan,        nan, 0.76257622,\n",
       "               nan,        nan, 0.76796352, 0.75519796, 0.76841637,\n",
       "        0.75517454, 0.76762779, 0.76248253, 0.7683461 ,        nan,\n",
       "        0.76719056, 0.7682446 , 0.76083511, 0.76851787, 0.76096003,\n",
       "        0.76273238,        nan, 0.7683461 , 0.76067115, 0.76863498,\n",
       "        0.76307591, 0.76819775, 0.76723741, 0.76875991, 0.76810406,\n",
       "        0.76280265, 0.76877552,        nan, 0.76259184,        nan,\n",
       "               nan, 0.76800256, 0.7683461 , 0.76786202, 0.76849444,\n",
       "               nan, 0.76827583, 0.76312276,        nan,        nan,\n",
       "        0.76798695, 0.76857252, 0.76847102,        nan, 0.76892387]),\n",
       " 'mean_test_score': array([0.76769867,        nan,        nan, 0.76768826, 0.75911024,\n",
       "        0.76734732,        nan,        nan, 0.75408211,        nan,\n",
       "               nan,        nan,        nan, 0.76806303, 0.76764662,\n",
       "        0.76720679,        nan, 0.76768045,        nan, 0.75976869,\n",
       "               nan, 0.76739417,        nan,        nan, 0.76756854,\n",
       "               nan, 0.76615796, 0.76628028, 0.76729787, 0.75398581,\n",
       "               nan,        nan, 0.76729787,        nan, 0.76745403,\n",
       "        0.7665067 , 0.76765443,        nan,        nan,        nan,\n",
       "        0.75375158,        nan,        nan,        nan, 0.76769867,\n",
       "               nan, 0.76745924, 0.75934187, 0.76748006, 0.75375679,\n",
       "               nan, 0.75969321,        nan,        nan, 0.76180388,\n",
       "               nan,        nan, 0.76724062, 0.75419142, 0.76735773,\n",
       "        0.75401704, 0.76645985, 0.76219687, 0.76703502,        nan,\n",
       "        0.76618658, 0.76735253, 0.7594746 , 0.76724843, 0.7593705 ,\n",
       "        0.76193922,        nan, 0.76723802, 0.75923516, 0.76725884,\n",
       "        0.76216304, 0.76727966, 0.76617878, 0.76733952, 0.76705584,\n",
       "        0.7621214 , 0.76746184,        nan, 0.76191319,        nan,\n",
       "               nan, 0.7669127 , 0.76730308, 0.76685024, 0.76747225,\n",
       "               nan, 0.76737075, 0.76196785,        nan,        nan,\n",
       "        0.76710268, 0.7673213 , 0.76728747,        nan, 0.76735774]),\n",
       " 'std_test_score': array([0.00084983,        nan,        nan, 0.00104942, 0.00085227,\n",
       "        0.00103038,        nan,        nan, 0.0008998 ,        nan,\n",
       "               nan,        nan,        nan, 0.00099376, 0.00092812,\n",
       "        0.0010524 ,        nan, 0.00093547,        nan, 0.00067683,\n",
       "               nan, 0.00141165,        nan,        nan, 0.000681  ,\n",
       "               nan, 0.00054175, 0.00059435, 0.00072793, 0.00096563,\n",
       "               nan,        nan, 0.00061641,        nan, 0.00105229,\n",
       "        0.00068938, 0.00087635,        nan,        nan,        nan,\n",
       "        0.00066144,        nan,        nan,        nan, 0.00083772,\n",
       "               nan, 0.001216  , 0.0007538 , 0.00128091, 0.00110793,\n",
       "               nan, 0.00113402,        nan,        nan, 0.00065379,\n",
       "               nan,        nan, 0.0009354 , 0.0008883 , 0.0010187 ,\n",
       "        0.00094589, 0.00085611, 0.0006498 , 0.00105468,        nan,\n",
       "        0.00076541, 0.0006386 , 0.00098133, 0.00105476, 0.00116552,\n",
       "        0.00071034,        nan, 0.00099769, 0.00101735, 0.00123535,\n",
       "        0.0008163 , 0.00089825, 0.0009181 , 0.00131391, 0.00089036,\n",
       "        0.00078326, 0.00124649,        nan, 0.000592  ,        nan,\n",
       "               nan, 0.00093259, 0.00084404, 0.00076936, 0.00097388,\n",
       "               nan, 0.00082186, 0.00111846,        nan,        nan,\n",
       "        0.0007462 , 0.00100684, 0.00104202,        nan, 0.00127427]),\n",
       " 'rank_test_score': array([  3,  72,  71,   4,  56,  19,  88,  91,  58,  98,  67,  73,  78,\n",
       "          1,   7,  31, 100,   5,  77,  50,  76,  14,  69,  68,   8,  64,\n",
       "         42,  39,  24,  60,  80,  81,  23,  82,  13,  37,   6,  97,  96,\n",
       "         95,  62,  94,  93,  99,   2,  89,  12,  54,   9,  61,  86,  51,\n",
       "         84,  83,  49,  63,  90,  29,  57,  17,  59,  38,  43,  34,  85,\n",
       "         40,  18,  52,  28,  53,  47,  92,  30,  55,  27,  44,  26,  41,\n",
       "         20,  33,  45,  11,  70,  48,  65,  66,  35,  22,  36,  10,  79,\n",
       "         15,  46,  74,  75,  32,  21,  25,  87,  16])}"
      ]
     },
     "execution_count": 61,
     "metadata": {},
     "output_type": "execute_result"
    }
   ],
   "source": [
    "r.cv_results_"
   ]
  },
  {
   "cell_type": "code",
   "execution_count": 62,
   "id": "3240d200",
   "metadata": {},
   "outputs": [
    {
     "data": {
      "text/html": [
       "<div>\n",
       "<style scoped>\n",
       "    .dataframe tbody tr th:only-of-type {\n",
       "        vertical-align: middle;\n",
       "    }\n",
       "\n",
       "    .dataframe tbody tr th {\n",
       "        vertical-align: top;\n",
       "    }\n",
       "\n",
       "    .dataframe thead th {\n",
       "        text-align: right;\n",
       "    }\n",
       "</style>\n",
       "<table border=\"1\" class=\"dataframe\">\n",
       "  <thead>\n",
       "    <tr style=\"text-align: right;\">\n",
       "      <th></th>\n",
       "      <th>mean_fit_time</th>\n",
       "      <th>std_fit_time</th>\n",
       "      <th>mean_score_time</th>\n",
       "      <th>std_score_time</th>\n",
       "      <th>param_min_samples_leaf</th>\n",
       "      <th>param_max_depth</th>\n",
       "      <th>param_loss</th>\n",
       "      <th>params</th>\n",
       "      <th>split0_test_score</th>\n",
       "      <th>split1_test_score</th>\n",
       "      <th>split2_test_score</th>\n",
       "      <th>mean_test_score</th>\n",
       "      <th>std_test_score</th>\n",
       "      <th>rank_test_score</th>\n",
       "    </tr>\n",
       "  </thead>\n",
       "  <tbody>\n",
       "    <tr>\n",
       "      <th>0</th>\n",
       "      <td>9.019131</td>\n",
       "      <td>0.251516</td>\n",
       "      <td>2.251246</td>\n",
       "      <td>0.400223</td>\n",
       "      <td>9</td>\n",
       "      <td>9</td>\n",
       "      <td>auto</td>\n",
       "      <td>{'min_samples_leaf': 9, 'max_depth': 9, 'loss'...</td>\n",
       "      <td>0.766833</td>\n",
       "      <td>0.767409</td>\n",
       "      <td>0.768854</td>\n",
       "      <td>0.767699</td>\n",
       "      <td>0.000850</td>\n",
       "      <td>3</td>\n",
       "    </tr>\n",
       "    <tr>\n",
       "      <th>1</th>\n",
       "      <td>0.300490</td>\n",
       "      <td>0.028469</td>\n",
       "      <td>0.000000</td>\n",
       "      <td>0.000000</td>\n",
       "      <td>7</td>\n",
       "      <td>2</td>\n",
       "      <td>categorical_crossentropy</td>\n",
       "      <td>{'min_samples_leaf': 7, 'max_depth': 2, 'loss'...</td>\n",
       "      <td>NaN</td>\n",
       "      <td>NaN</td>\n",
       "      <td>NaN</td>\n",
       "      <td>NaN</td>\n",
       "      <td>NaN</td>\n",
       "      <td>72</td>\n",
       "    </tr>\n",
       "    <tr>\n",
       "      <th>2</th>\n",
       "      <td>0.292636</td>\n",
       "      <td>0.018145</td>\n",
       "      <td>0.000000</td>\n",
       "      <td>0.000000</td>\n",
       "      <td>6</td>\n",
       "      <td>8</td>\n",
       "      <td>categorical_crossentropy</td>\n",
       "      <td>{'min_samples_leaf': 6, 'max_depth': 8, 'loss'...</td>\n",
       "      <td>NaN</td>\n",
       "      <td>NaN</td>\n",
       "      <td>NaN</td>\n",
       "      <td>NaN</td>\n",
       "      <td>NaN</td>\n",
       "      <td>71</td>\n",
       "    </tr>\n",
       "    <tr>\n",
       "      <th>3</th>\n",
       "      <td>11.763435</td>\n",
       "      <td>2.571076</td>\n",
       "      <td>1.916033</td>\n",
       "      <td>0.115170</td>\n",
       "      <td>11</td>\n",
       "      <td>9</td>\n",
       "      <td>auto</td>\n",
       "      <td>{'min_samples_leaf': 11, 'max_depth': 9, 'loss...</td>\n",
       "      <td>0.766263</td>\n",
       "      <td>0.768042</td>\n",
       "      <td>0.768760</td>\n",
       "      <td>0.767688</td>\n",
       "      <td>0.001049</td>\n",
       "      <td>4</td>\n",
       "    </tr>\n",
       "    <tr>\n",
       "      <th>4</th>\n",
       "      <td>6.216140</td>\n",
       "      <td>0.415025</td>\n",
       "      <td>0.714700</td>\n",
       "      <td>0.081501</td>\n",
       "      <td>10</td>\n",
       "      <td>2</td>\n",
       "      <td>binary_crossentropy</td>\n",
       "      <td>{'min_samples_leaf': 10, 'max_depth': 2, 'loss...</td>\n",
       "      <td>0.758276</td>\n",
       "      <td>0.758774</td>\n",
       "      <td>0.760281</td>\n",
       "      <td>0.759110</td>\n",
       "      <td>0.000852</td>\n",
       "      <td>56</td>\n",
       "    </tr>\n",
       "    <tr>\n",
       "      <th>...</th>\n",
       "      <td>...</td>\n",
       "      <td>...</td>\n",
       "      <td>...</td>\n",
       "      <td>...</td>\n",
       "      <td>...</td>\n",
       "      <td>...</td>\n",
       "      <td>...</td>\n",
       "      <td>...</td>\n",
       "      <td>...</td>\n",
       "      <td>...</td>\n",
       "      <td>...</td>\n",
       "      <td>...</td>\n",
       "      <td>...</td>\n",
       "      <td>...</td>\n",
       "    </tr>\n",
       "    <tr>\n",
       "      <th>95</th>\n",
       "      <td>11.293674</td>\n",
       "      <td>1.074891</td>\n",
       "      <td>2.130910</td>\n",
       "      <td>0.168080</td>\n",
       "      <td>5</td>\n",
       "      <td>9</td>\n",
       "      <td>auto</td>\n",
       "      <td>{'min_samples_leaf': 5, 'max_depth': 9, 'loss'...</td>\n",
       "      <td>0.766162</td>\n",
       "      <td>0.767159</td>\n",
       "      <td>0.767987</td>\n",
       "      <td>0.767103</td>\n",
       "      <td>0.000746</td>\n",
       "      <td>32</td>\n",
       "    </tr>\n",
       "    <tr>\n",
       "      <th>96</th>\n",
       "      <td>11.927605</td>\n",
       "      <td>5.444552</td>\n",
       "      <td>3.583856</td>\n",
       "      <td>2.617463</td>\n",
       "      <td>7</td>\n",
       "      <td>7</td>\n",
       "      <td>auto</td>\n",
       "      <td>{'min_samples_leaf': 7, 'max_depth': 7, 'loss'...</td>\n",
       "      <td>0.766107</td>\n",
       "      <td>0.767284</td>\n",
       "      <td>0.768573</td>\n",
       "      <td>0.767321</td>\n",
       "      <td>0.001007</td>\n",
       "      <td>21</td>\n",
       "    </tr>\n",
       "    <tr>\n",
       "      <th>97</th>\n",
       "      <td>14.429387</td>\n",
       "      <td>4.759890</td>\n",
       "      <td>2.061062</td>\n",
       "      <td>0.396581</td>\n",
       "      <td>11</td>\n",
       "      <td>9</td>\n",
       "      <td>auto</td>\n",
       "      <td>{'min_samples_leaf': 11, 'max_depth': 9, 'loss...</td>\n",
       "      <td>0.765935</td>\n",
       "      <td>0.767456</td>\n",
       "      <td>0.768471</td>\n",
       "      <td>0.767287</td>\n",
       "      <td>0.001042</td>\n",
       "      <td>25</td>\n",
       "    </tr>\n",
       "    <tr>\n",
       "      <th>98</th>\n",
       "      <td>0.154813</td>\n",
       "      <td>0.006024</td>\n",
       "      <td>0.000000</td>\n",
       "      <td>0.000000</td>\n",
       "      <td>6</td>\n",
       "      <td>9</td>\n",
       "      <td>categorical_crossentropy</td>\n",
       "      <td>{'min_samples_leaf': 6, 'max_depth': 9, 'loss'...</td>\n",
       "      <td>NaN</td>\n",
       "      <td>NaN</td>\n",
       "      <td>NaN</td>\n",
       "      <td>NaN</td>\n",
       "      <td>NaN</td>\n",
       "      <td>87</td>\n",
       "    </tr>\n",
       "    <tr>\n",
       "      <th>99</th>\n",
       "      <td>9.044391</td>\n",
       "      <td>0.436530</td>\n",
       "      <td>1.862973</td>\n",
       "      <td>0.062854</td>\n",
       "      <td>4</td>\n",
       "      <td>8</td>\n",
       "      <td>binary_crossentropy</td>\n",
       "      <td>{'min_samples_leaf': 4, 'max_depth': 8, 'loss'...</td>\n",
       "      <td>0.765803</td>\n",
       "      <td>0.767347</td>\n",
       "      <td>0.768924</td>\n",
       "      <td>0.767358</td>\n",
       "      <td>0.001274</td>\n",
       "      <td>16</td>\n",
       "    </tr>\n",
       "  </tbody>\n",
       "</table>\n",
       "<p>100 rows × 14 columns</p>\n",
       "</div>"
      ],
      "text/plain": [
       "    mean_fit_time  std_fit_time  mean_score_time  std_score_time  \\\n",
       "0        9.019131      0.251516         2.251246        0.400223   \n",
       "1        0.300490      0.028469         0.000000        0.000000   \n",
       "2        0.292636      0.018145         0.000000        0.000000   \n",
       "3       11.763435      2.571076         1.916033        0.115170   \n",
       "4        6.216140      0.415025         0.714700        0.081501   \n",
       "..            ...           ...              ...             ...   \n",
       "95      11.293674      1.074891         2.130910        0.168080   \n",
       "96      11.927605      5.444552         3.583856        2.617463   \n",
       "97      14.429387      4.759890         2.061062        0.396581   \n",
       "98       0.154813      0.006024         0.000000        0.000000   \n",
       "99       9.044391      0.436530         1.862973        0.062854   \n",
       "\n",
       "   param_min_samples_leaf param_max_depth                param_loss  \\\n",
       "0                       9               9                      auto   \n",
       "1                       7               2  categorical_crossentropy   \n",
       "2                       6               8  categorical_crossentropy   \n",
       "3                      11               9                      auto   \n",
       "4                      10               2       binary_crossentropy   \n",
       "..                    ...             ...                       ...   \n",
       "95                      5               9                      auto   \n",
       "96                      7               7                      auto   \n",
       "97                     11               9                      auto   \n",
       "98                      6               9  categorical_crossentropy   \n",
       "99                      4               8       binary_crossentropy   \n",
       "\n",
       "                                               params  split0_test_score  \\\n",
       "0   {'min_samples_leaf': 9, 'max_depth': 9, 'loss'...           0.766833   \n",
       "1   {'min_samples_leaf': 7, 'max_depth': 2, 'loss'...                NaN   \n",
       "2   {'min_samples_leaf': 6, 'max_depth': 8, 'loss'...                NaN   \n",
       "3   {'min_samples_leaf': 11, 'max_depth': 9, 'loss...           0.766263   \n",
       "4   {'min_samples_leaf': 10, 'max_depth': 2, 'loss...           0.758276   \n",
       "..                                                ...                ...   \n",
       "95  {'min_samples_leaf': 5, 'max_depth': 9, 'loss'...           0.766162   \n",
       "96  {'min_samples_leaf': 7, 'max_depth': 7, 'loss'...           0.766107   \n",
       "97  {'min_samples_leaf': 11, 'max_depth': 9, 'loss...           0.765935   \n",
       "98  {'min_samples_leaf': 6, 'max_depth': 9, 'loss'...                NaN   \n",
       "99  {'min_samples_leaf': 4, 'max_depth': 8, 'loss'...           0.765803   \n",
       "\n",
       "    split1_test_score  split2_test_score  mean_test_score  std_test_score  \\\n",
       "0            0.767409           0.768854         0.767699        0.000850   \n",
       "1                 NaN                NaN              NaN             NaN   \n",
       "2                 NaN                NaN              NaN             NaN   \n",
       "3            0.768042           0.768760         0.767688        0.001049   \n",
       "4            0.758774           0.760281         0.759110        0.000852   \n",
       "..                ...                ...              ...             ...   \n",
       "95           0.767159           0.767987         0.767103        0.000746   \n",
       "96           0.767284           0.768573         0.767321        0.001007   \n",
       "97           0.767456           0.768471         0.767287        0.001042   \n",
       "98                NaN                NaN              NaN             NaN   \n",
       "99           0.767347           0.768924         0.767358        0.001274   \n",
       "\n",
       "    rank_test_score  \n",
       "0                 3  \n",
       "1                72  \n",
       "2                71  \n",
       "3                 4  \n",
       "4                56  \n",
       "..              ...  \n",
       "95               32  \n",
       "96               21  \n",
       "97               25  \n",
       "98               87  \n",
       "99               16  \n",
       "\n",
       "[100 rows x 14 columns]"
      ]
     },
     "execution_count": 62,
     "metadata": {},
     "output_type": "execute_result"
    }
   ],
   "source": [
    "result=pd.DataFrame(r.cv_results_)\n",
    "result"
   ]
  },
  {
   "cell_type": "code",
   "execution_count": 63,
   "id": "6fc9fc61",
   "metadata": {},
   "outputs": [
    {
     "data": {
      "text/plain": [
       "HistGradientBoostingClassifier(max_depth=10, min_samples_leaf=10)"
      ]
     },
     "execution_count": 63,
     "metadata": {},
     "output_type": "execute_result"
    }
   ],
   "source": [
    "new_r=r.best_estimator_\n",
    "new_r"
   ]
  },
  {
   "cell_type": "code",
   "execution_count": 64,
   "id": "4077c34f",
   "metadata": {},
   "outputs": [
    {
     "data": {
      "text/plain": [
       "HistGradientBoostingClassifier(max_depth=10, min_samples_leaf=10)"
      ]
     },
     "execution_count": 64,
     "metadata": {},
     "output_type": "execute_result"
    }
   ],
   "source": [
    "new_r.fit(over_xtrain,over_ytrain)"
   ]
  },
  {
   "cell_type": "code",
   "execution_count": 65,
   "id": "f947974a",
   "metadata": {},
   "outputs": [
    {
     "data": {
      "text/plain": [
       "0.7691066474424706"
      ]
     },
     "execution_count": 65,
     "metadata": {},
     "output_type": "execute_result"
    }
   ],
   "source": [
    "new_r.score(over_xtrain,over_ytrain)"
   ]
  },
  {
   "cell_type": "code",
   "execution_count": null,
   "id": "6dcf2e24",
   "metadata": {},
   "outputs": [],
   "source": []
  },
  {
   "cell_type": "code",
   "execution_count": null,
   "id": "a216aa6b",
   "metadata": {},
   "outputs": [],
   "source": []
  },
  {
   "cell_type": "code",
   "execution_count": null,
   "id": "f7f80386",
   "metadata": {},
   "outputs": [],
   "source": []
  },
  {
   "cell_type": "code",
   "execution_count": null,
   "id": "c88391c6",
   "metadata": {},
   "outputs": [],
   "source": []
  },
  {
   "cell_type": "code",
   "execution_count": null,
   "id": "4b83e6b6",
   "metadata": {},
   "outputs": [],
   "source": []
  },
  {
   "cell_type": "code",
   "execution_count": null,
   "id": "88b5b23c",
   "metadata": {},
   "outputs": [],
   "source": []
  },
  {
   "cell_type": "code",
   "execution_count": null,
   "id": "1f288b44",
   "metadata": {},
   "outputs": [],
   "source": []
  }
 ],
 "metadata": {
  "kernelspec": {
   "display_name": "Python 3 (ipykernel)",
   "language": "python",
   "name": "python3"
  },
  "language_info": {
   "codemirror_mode": {
    "name": "ipython",
    "version": 3
   },
   "file_extension": ".py",
   "mimetype": "text/x-python",
   "name": "python",
   "nbconvert_exporter": "python",
   "pygments_lexer": "ipython3",
   "version": "3.9.7"
  }
 },
 "nbformat": 4,
 "nbformat_minor": 5
}
