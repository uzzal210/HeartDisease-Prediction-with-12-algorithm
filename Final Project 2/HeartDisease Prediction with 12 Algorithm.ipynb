{
 "cells": [
  {
   "cell_type": "code",
   "execution_count": 1,
   "id": "524dd9ac",
   "metadata": {},
   "outputs": [],
   "source": [
    "import pandas as pd\n",
    "import numpy as np\n",
    "import seaborn as sns\n",
    "import matplotlib.pyplot as plt\n",
    "%matplotlib inline"
   ]
  },
  {
   "cell_type": "code",
   "execution_count": 2,
   "id": "de5281d6",
   "metadata": {},
   "outputs": [],
   "source": [
    "df=pd.read_csv('Heart Disease.csv')"
   ]
  },
  {
   "cell_type": "code",
   "execution_count": 3,
   "id": "342358b7",
   "metadata": {},
   "outputs": [
    {
     "data": {
      "text/html": [
       "<div>\n",
       "<style scoped>\n",
       "    .dataframe tbody tr th:only-of-type {\n",
       "        vertical-align: middle;\n",
       "    }\n",
       "\n",
       "    .dataframe tbody tr th {\n",
       "        vertical-align: top;\n",
       "    }\n",
       "\n",
       "    .dataframe thead th {\n",
       "        text-align: right;\n",
       "    }\n",
       "</style>\n",
       "<table border=\"1\" class=\"dataframe\">\n",
       "  <thead>\n",
       "    <tr style=\"text-align: right;\">\n",
       "      <th></th>\n",
       "      <th>HeartDisease</th>\n",
       "      <th>BMI</th>\n",
       "      <th>Smoking</th>\n",
       "      <th>AlcoholDrinking</th>\n",
       "      <th>Stroke</th>\n",
       "      <th>PhysicalHealth</th>\n",
       "      <th>MentalHealth</th>\n",
       "      <th>DiffWalking</th>\n",
       "      <th>Sex</th>\n",
       "      <th>AgeCategory</th>\n",
       "      <th>Race</th>\n",
       "      <th>Diabetic</th>\n",
       "      <th>PhysicalActivity</th>\n",
       "      <th>GenHealth</th>\n",
       "      <th>SleepTime</th>\n",
       "      <th>Asthma</th>\n",
       "      <th>KidneyDisease</th>\n",
       "      <th>SkinCancer</th>\n",
       "    </tr>\n",
       "  </thead>\n",
       "  <tbody>\n",
       "    <tr>\n",
       "      <th>0</th>\n",
       "      <td>No</td>\n",
       "      <td>16.60</td>\n",
       "      <td>Yes</td>\n",
       "      <td>No</td>\n",
       "      <td>No</td>\n",
       "      <td>3</td>\n",
       "      <td>30</td>\n",
       "      <td>No</td>\n",
       "      <td>Female</td>\n",
       "      <td>55-59</td>\n",
       "      <td>White</td>\n",
       "      <td>Yes</td>\n",
       "      <td>Yes</td>\n",
       "      <td>Very good</td>\n",
       "      <td>5</td>\n",
       "      <td>Yes</td>\n",
       "      <td>No</td>\n",
       "      <td>Yes</td>\n",
       "    </tr>\n",
       "    <tr>\n",
       "      <th>1</th>\n",
       "      <td>No</td>\n",
       "      <td>20.34</td>\n",
       "      <td>No</td>\n",
       "      <td>No</td>\n",
       "      <td>Yes</td>\n",
       "      <td>0</td>\n",
       "      <td>0</td>\n",
       "      <td>No</td>\n",
       "      <td>Female</td>\n",
       "      <td>80 or older</td>\n",
       "      <td>White</td>\n",
       "      <td>No</td>\n",
       "      <td>Yes</td>\n",
       "      <td>Very good</td>\n",
       "      <td>7</td>\n",
       "      <td>No</td>\n",
       "      <td>No</td>\n",
       "      <td>No</td>\n",
       "    </tr>\n",
       "    <tr>\n",
       "      <th>2</th>\n",
       "      <td>No</td>\n",
       "      <td>26.58</td>\n",
       "      <td>Yes</td>\n",
       "      <td>No</td>\n",
       "      <td>No</td>\n",
       "      <td>20</td>\n",
       "      <td>30</td>\n",
       "      <td>No</td>\n",
       "      <td>Male</td>\n",
       "      <td>65-69</td>\n",
       "      <td>White</td>\n",
       "      <td>Yes</td>\n",
       "      <td>Yes</td>\n",
       "      <td>Fair</td>\n",
       "      <td>8</td>\n",
       "      <td>Yes</td>\n",
       "      <td>No</td>\n",
       "      <td>No</td>\n",
       "    </tr>\n",
       "    <tr>\n",
       "      <th>3</th>\n",
       "      <td>No</td>\n",
       "      <td>24.21</td>\n",
       "      <td>No</td>\n",
       "      <td>No</td>\n",
       "      <td>No</td>\n",
       "      <td>0</td>\n",
       "      <td>0</td>\n",
       "      <td>No</td>\n",
       "      <td>Female</td>\n",
       "      <td>75-79</td>\n",
       "      <td>White</td>\n",
       "      <td>No</td>\n",
       "      <td>No</td>\n",
       "      <td>Good</td>\n",
       "      <td>6</td>\n",
       "      <td>No</td>\n",
       "      <td>No</td>\n",
       "      <td>Yes</td>\n",
       "    </tr>\n",
       "    <tr>\n",
       "      <th>4</th>\n",
       "      <td>No</td>\n",
       "      <td>23.71</td>\n",
       "      <td>No</td>\n",
       "      <td>No</td>\n",
       "      <td>No</td>\n",
       "      <td>28</td>\n",
       "      <td>0</td>\n",
       "      <td>Yes</td>\n",
       "      <td>Female</td>\n",
       "      <td>40-44</td>\n",
       "      <td>White</td>\n",
       "      <td>No</td>\n",
       "      <td>Yes</td>\n",
       "      <td>Very good</td>\n",
       "      <td>8</td>\n",
       "      <td>No</td>\n",
       "      <td>No</td>\n",
       "      <td>No</td>\n",
       "    </tr>\n",
       "    <tr>\n",
       "      <th>...</th>\n",
       "      <td>...</td>\n",
       "      <td>...</td>\n",
       "      <td>...</td>\n",
       "      <td>...</td>\n",
       "      <td>...</td>\n",
       "      <td>...</td>\n",
       "      <td>...</td>\n",
       "      <td>...</td>\n",
       "      <td>...</td>\n",
       "      <td>...</td>\n",
       "      <td>...</td>\n",
       "      <td>...</td>\n",
       "      <td>...</td>\n",
       "      <td>...</td>\n",
       "      <td>...</td>\n",
       "      <td>...</td>\n",
       "      <td>...</td>\n",
       "      <td>...</td>\n",
       "    </tr>\n",
       "    <tr>\n",
       "      <th>319790</th>\n",
       "      <td>Yes</td>\n",
       "      <td>27.41</td>\n",
       "      <td>Yes</td>\n",
       "      <td>No</td>\n",
       "      <td>No</td>\n",
       "      <td>7</td>\n",
       "      <td>0</td>\n",
       "      <td>Yes</td>\n",
       "      <td>Male</td>\n",
       "      <td>60-64</td>\n",
       "      <td>Hispanic</td>\n",
       "      <td>Yes</td>\n",
       "      <td>No</td>\n",
       "      <td>Fair</td>\n",
       "      <td>6</td>\n",
       "      <td>Yes</td>\n",
       "      <td>No</td>\n",
       "      <td>No</td>\n",
       "    </tr>\n",
       "    <tr>\n",
       "      <th>319791</th>\n",
       "      <td>No</td>\n",
       "      <td>29.84</td>\n",
       "      <td>Yes</td>\n",
       "      <td>No</td>\n",
       "      <td>No</td>\n",
       "      <td>0</td>\n",
       "      <td>0</td>\n",
       "      <td>No</td>\n",
       "      <td>Male</td>\n",
       "      <td>35-39</td>\n",
       "      <td>Hispanic</td>\n",
       "      <td>No</td>\n",
       "      <td>Yes</td>\n",
       "      <td>Very good</td>\n",
       "      <td>5</td>\n",
       "      <td>Yes</td>\n",
       "      <td>No</td>\n",
       "      <td>No</td>\n",
       "    </tr>\n",
       "    <tr>\n",
       "      <th>319792</th>\n",
       "      <td>No</td>\n",
       "      <td>24.24</td>\n",
       "      <td>No</td>\n",
       "      <td>No</td>\n",
       "      <td>No</td>\n",
       "      <td>0</td>\n",
       "      <td>0</td>\n",
       "      <td>No</td>\n",
       "      <td>Female</td>\n",
       "      <td>45-49</td>\n",
       "      <td>Hispanic</td>\n",
       "      <td>No</td>\n",
       "      <td>Yes</td>\n",
       "      <td>Good</td>\n",
       "      <td>6</td>\n",
       "      <td>No</td>\n",
       "      <td>No</td>\n",
       "      <td>No</td>\n",
       "    </tr>\n",
       "    <tr>\n",
       "      <th>319793</th>\n",
       "      <td>No</td>\n",
       "      <td>32.81</td>\n",
       "      <td>No</td>\n",
       "      <td>No</td>\n",
       "      <td>No</td>\n",
       "      <td>0</td>\n",
       "      <td>0</td>\n",
       "      <td>No</td>\n",
       "      <td>Female</td>\n",
       "      <td>25-29</td>\n",
       "      <td>Hispanic</td>\n",
       "      <td>No</td>\n",
       "      <td>No</td>\n",
       "      <td>Good</td>\n",
       "      <td>12</td>\n",
       "      <td>No</td>\n",
       "      <td>No</td>\n",
       "      <td>No</td>\n",
       "    </tr>\n",
       "    <tr>\n",
       "      <th>319794</th>\n",
       "      <td>No</td>\n",
       "      <td>46.56</td>\n",
       "      <td>No</td>\n",
       "      <td>No</td>\n",
       "      <td>No</td>\n",
       "      <td>0</td>\n",
       "      <td>0</td>\n",
       "      <td>No</td>\n",
       "      <td>Female</td>\n",
       "      <td>80 or older</td>\n",
       "      <td>Hispanic</td>\n",
       "      <td>No</td>\n",
       "      <td>Yes</td>\n",
       "      <td>Good</td>\n",
       "      <td>8</td>\n",
       "      <td>No</td>\n",
       "      <td>No</td>\n",
       "      <td>No</td>\n",
       "    </tr>\n",
       "  </tbody>\n",
       "</table>\n",
       "<p>319795 rows × 18 columns</p>\n",
       "</div>"
      ],
      "text/plain": [
       "       HeartDisease    BMI Smoking AlcoholDrinking Stroke  PhysicalHealth  \\\n",
       "0                No  16.60     Yes              No     No               3   \n",
       "1                No  20.34      No              No    Yes               0   \n",
       "2                No  26.58     Yes              No     No              20   \n",
       "3                No  24.21      No              No     No               0   \n",
       "4                No  23.71      No              No     No              28   \n",
       "...             ...    ...     ...             ...    ...             ...   \n",
       "319790          Yes  27.41     Yes              No     No               7   \n",
       "319791           No  29.84     Yes              No     No               0   \n",
       "319792           No  24.24      No              No     No               0   \n",
       "319793           No  32.81      No              No     No               0   \n",
       "319794           No  46.56      No              No     No               0   \n",
       "\n",
       "        MentalHealth DiffWalking     Sex  AgeCategory      Race Diabetic  \\\n",
       "0                 30          No  Female        55-59     White      Yes   \n",
       "1                  0          No  Female  80 or older     White       No   \n",
       "2                 30          No    Male        65-69     White      Yes   \n",
       "3                  0          No  Female        75-79     White       No   \n",
       "4                  0         Yes  Female        40-44     White       No   \n",
       "...              ...         ...     ...          ...       ...      ...   \n",
       "319790             0         Yes    Male        60-64  Hispanic      Yes   \n",
       "319791             0          No    Male        35-39  Hispanic       No   \n",
       "319792             0          No  Female        45-49  Hispanic       No   \n",
       "319793             0          No  Female        25-29  Hispanic       No   \n",
       "319794             0          No  Female  80 or older  Hispanic       No   \n",
       "\n",
       "       PhysicalActivity  GenHealth  SleepTime Asthma KidneyDisease SkinCancer  \n",
       "0                   Yes  Very good          5    Yes            No        Yes  \n",
       "1                   Yes  Very good          7     No            No         No  \n",
       "2                   Yes       Fair          8    Yes            No         No  \n",
       "3                    No       Good          6     No            No        Yes  \n",
       "4                   Yes  Very good          8     No            No         No  \n",
       "...                 ...        ...        ...    ...           ...        ...  \n",
       "319790               No       Fair          6    Yes            No         No  \n",
       "319791              Yes  Very good          5    Yes            No         No  \n",
       "319792              Yes       Good          6     No            No         No  \n",
       "319793               No       Good         12     No            No         No  \n",
       "319794              Yes       Good          8     No            No         No  \n",
       "\n",
       "[319795 rows x 18 columns]"
      ]
     },
     "execution_count": 3,
     "metadata": {},
     "output_type": "execute_result"
    }
   ],
   "source": [
    "df"
   ]
  },
  {
   "cell_type": "code",
   "execution_count": 4,
   "id": "64328613",
   "metadata": {},
   "outputs": [
    {
     "name": "stdout",
     "output_type": "stream",
     "text": [
      "<class 'pandas.core.frame.DataFrame'>\n",
      "RangeIndex: 319795 entries, 0 to 319794\n",
      "Data columns (total 18 columns):\n",
      " #   Column            Non-Null Count   Dtype  \n",
      "---  ------            --------------   -----  \n",
      " 0   HeartDisease      319795 non-null  object \n",
      " 1   BMI               319795 non-null  float64\n",
      " 2   Smoking           319795 non-null  object \n",
      " 3   AlcoholDrinking   319795 non-null  object \n",
      " 4   Stroke            319795 non-null  object \n",
      " 5   PhysicalHealth    319795 non-null  int64  \n",
      " 6   MentalHealth      319795 non-null  int64  \n",
      " 7   DiffWalking       319795 non-null  object \n",
      " 8   Sex               319795 non-null  object \n",
      " 9   AgeCategory       319795 non-null  object \n",
      " 10  Race              319795 non-null  object \n",
      " 11  Diabetic          319795 non-null  object \n",
      " 12  PhysicalActivity  319795 non-null  object \n",
      " 13  GenHealth         319795 non-null  object \n",
      " 14  SleepTime         319795 non-null  int64  \n",
      " 15  Asthma            319795 non-null  object \n",
      " 16  KidneyDisease     319795 non-null  object \n",
      " 17  SkinCancer        319795 non-null  object \n",
      "dtypes: float64(1), int64(3), object(14)\n",
      "memory usage: 43.9+ MB\n"
     ]
    }
   ],
   "source": [
    "df.info()"
   ]
  },
  {
   "cell_type": "code",
   "execution_count": 5,
   "id": "7530ce0c",
   "metadata": {},
   "outputs": [
    {
     "data": {
      "text/plain": [
       "(319795, 18)"
      ]
     },
     "execution_count": 5,
     "metadata": {},
     "output_type": "execute_result"
    }
   ],
   "source": [
    "df.shape"
   ]
  },
  {
   "cell_type": "code",
   "execution_count": 6,
   "id": "98e6f1d1",
   "metadata": {},
   "outputs": [
    {
     "data": {
      "text/plain": [
       "HeartDisease        0\n",
       "BMI                 0\n",
       "Smoking             0\n",
       "AlcoholDrinking     0\n",
       "Stroke              0\n",
       "PhysicalHealth      0\n",
       "MentalHealth        0\n",
       "DiffWalking         0\n",
       "Sex                 0\n",
       "AgeCategory         0\n",
       "Race                0\n",
       "Diabetic            0\n",
       "PhysicalActivity    0\n",
       "GenHealth           0\n",
       "SleepTime           0\n",
       "Asthma              0\n",
       "KidneyDisease       0\n",
       "SkinCancer          0\n",
       "dtype: int64"
      ]
     },
     "execution_count": 6,
     "metadata": {},
     "output_type": "execute_result"
    }
   ],
   "source": [
    "df.isnull().sum()"
   ]
  },
  {
   "cell_type": "code",
   "execution_count": 7,
   "id": "0470aac7",
   "metadata": {},
   "outputs": [
    {
     "data": {
      "text/plain": [
       "No     292422\n",
       "Yes     27373\n",
       "Name: HeartDisease, dtype: int64"
      ]
     },
     "execution_count": 7,
     "metadata": {},
     "output_type": "execute_result"
    }
   ],
   "source": [
    "df.HeartDisease.value_counts()"
   ]
  },
  {
   "cell_type": "markdown",
   "id": "620a795b",
   "metadata": {},
   "source": [
    "# If duplicate , then drop it"
   ]
  },
  {
   "cell_type": "code",
   "execution_count": 8,
   "id": "5986b630",
   "metadata": {},
   "outputs": [],
   "source": [
    "df.drop_duplicates(inplace=True)"
   ]
  },
  {
   "cell_type": "code",
   "execution_count": 9,
   "id": "d7b06937",
   "metadata": {},
   "outputs": [
    {
     "data": {
      "text/plain": [
       "False"
      ]
     },
     "execution_count": 9,
     "metadata": {},
     "output_type": "execute_result"
    }
   ],
   "source": [
    "df.isnull().values.any()"
   ]
  },
  {
   "cell_type": "code",
   "execution_count": 10,
   "id": "dd61e1ee",
   "metadata": {},
   "outputs": [
    {
     "data": {
      "text/plain": [
       "HeartDisease        0\n",
       "BMI                 0\n",
       "Smoking             0\n",
       "AlcoholDrinking     0\n",
       "Stroke              0\n",
       "PhysicalHealth      0\n",
       "MentalHealth        0\n",
       "DiffWalking         0\n",
       "Sex                 0\n",
       "AgeCategory         0\n",
       "Race                0\n",
       "Diabetic            0\n",
       "PhysicalActivity    0\n",
       "GenHealth           0\n",
       "SleepTime           0\n",
       "Asthma              0\n",
       "KidneyDisease       0\n",
       "SkinCancer          0\n",
       "dtype: int64"
      ]
     },
     "execution_count": 10,
     "metadata": {},
     "output_type": "execute_result"
    }
   ],
   "source": [
    "df.isnull().sum()"
   ]
  },
  {
   "cell_type": "code",
   "execution_count": 11,
   "id": "c379eb40",
   "metadata": {},
   "outputs": [
    {
     "data": {
      "text/plain": [
       "(301717, 18)"
      ]
     },
     "execution_count": 11,
     "metadata": {},
     "output_type": "execute_result"
    }
   ],
   "source": [
    "df.shape"
   ]
  },
  {
   "cell_type": "code",
   "execution_count": 12,
   "id": "dfd80653",
   "metadata": {},
   "outputs": [
    {
     "data": {
      "text/html": [
       "<div>\n",
       "<style scoped>\n",
       "    .dataframe tbody tr th:only-of-type {\n",
       "        vertical-align: middle;\n",
       "    }\n",
       "\n",
       "    .dataframe tbody tr th {\n",
       "        vertical-align: top;\n",
       "    }\n",
       "\n",
       "    .dataframe thead th {\n",
       "        text-align: right;\n",
       "    }\n",
       "</style>\n",
       "<table border=\"1\" class=\"dataframe\">\n",
       "  <thead>\n",
       "    <tr style=\"text-align: right;\">\n",
       "      <th></th>\n",
       "      <th>HeartDisease</th>\n",
       "      <th>BMI</th>\n",
       "      <th>Smoking</th>\n",
       "      <th>AlcoholDrinking</th>\n",
       "      <th>Stroke</th>\n",
       "      <th>PhysicalHealth</th>\n",
       "      <th>MentalHealth</th>\n",
       "      <th>DiffWalking</th>\n",
       "      <th>Sex</th>\n",
       "      <th>AgeCategory</th>\n",
       "      <th>Race</th>\n",
       "      <th>Diabetic</th>\n",
       "      <th>PhysicalActivity</th>\n",
       "      <th>GenHealth</th>\n",
       "      <th>SleepTime</th>\n",
       "      <th>Asthma</th>\n",
       "      <th>KidneyDisease</th>\n",
       "      <th>SkinCancer</th>\n",
       "    </tr>\n",
       "  </thead>\n",
       "  <tbody>\n",
       "    <tr>\n",
       "      <th>0</th>\n",
       "      <td>No</td>\n",
       "      <td>16.60</td>\n",
       "      <td>Yes</td>\n",
       "      <td>No</td>\n",
       "      <td>No</td>\n",
       "      <td>3</td>\n",
       "      <td>30</td>\n",
       "      <td>No</td>\n",
       "      <td>Female</td>\n",
       "      <td>55-59</td>\n",
       "      <td>White</td>\n",
       "      <td>Yes</td>\n",
       "      <td>Yes</td>\n",
       "      <td>Very good</td>\n",
       "      <td>5</td>\n",
       "      <td>Yes</td>\n",
       "      <td>No</td>\n",
       "      <td>Yes</td>\n",
       "    </tr>\n",
       "    <tr>\n",
       "      <th>1</th>\n",
       "      <td>No</td>\n",
       "      <td>20.34</td>\n",
       "      <td>No</td>\n",
       "      <td>No</td>\n",
       "      <td>Yes</td>\n",
       "      <td>0</td>\n",
       "      <td>0</td>\n",
       "      <td>No</td>\n",
       "      <td>Female</td>\n",
       "      <td>80 or older</td>\n",
       "      <td>White</td>\n",
       "      <td>No</td>\n",
       "      <td>Yes</td>\n",
       "      <td>Very good</td>\n",
       "      <td>7</td>\n",
       "      <td>No</td>\n",
       "      <td>No</td>\n",
       "      <td>No</td>\n",
       "    </tr>\n",
       "    <tr>\n",
       "      <th>2</th>\n",
       "      <td>No</td>\n",
       "      <td>26.58</td>\n",
       "      <td>Yes</td>\n",
       "      <td>No</td>\n",
       "      <td>No</td>\n",
       "      <td>20</td>\n",
       "      <td>30</td>\n",
       "      <td>No</td>\n",
       "      <td>Male</td>\n",
       "      <td>65-69</td>\n",
       "      <td>White</td>\n",
       "      <td>Yes</td>\n",
       "      <td>Yes</td>\n",
       "      <td>Fair</td>\n",
       "      <td>8</td>\n",
       "      <td>Yes</td>\n",
       "      <td>No</td>\n",
       "      <td>No</td>\n",
       "    </tr>\n",
       "    <tr>\n",
       "      <th>3</th>\n",
       "      <td>No</td>\n",
       "      <td>24.21</td>\n",
       "      <td>No</td>\n",
       "      <td>No</td>\n",
       "      <td>No</td>\n",
       "      <td>0</td>\n",
       "      <td>0</td>\n",
       "      <td>No</td>\n",
       "      <td>Female</td>\n",
       "      <td>75-79</td>\n",
       "      <td>White</td>\n",
       "      <td>No</td>\n",
       "      <td>No</td>\n",
       "      <td>Good</td>\n",
       "      <td>6</td>\n",
       "      <td>No</td>\n",
       "      <td>No</td>\n",
       "      <td>Yes</td>\n",
       "    </tr>\n",
       "    <tr>\n",
       "      <th>4</th>\n",
       "      <td>No</td>\n",
       "      <td>23.71</td>\n",
       "      <td>No</td>\n",
       "      <td>No</td>\n",
       "      <td>No</td>\n",
       "      <td>28</td>\n",
       "      <td>0</td>\n",
       "      <td>Yes</td>\n",
       "      <td>Female</td>\n",
       "      <td>40-44</td>\n",
       "      <td>White</td>\n",
       "      <td>No</td>\n",
       "      <td>Yes</td>\n",
       "      <td>Very good</td>\n",
       "      <td>8</td>\n",
       "      <td>No</td>\n",
       "      <td>No</td>\n",
       "      <td>No</td>\n",
       "    </tr>\n",
       "    <tr>\n",
       "      <th>...</th>\n",
       "      <td>...</td>\n",
       "      <td>...</td>\n",
       "      <td>...</td>\n",
       "      <td>...</td>\n",
       "      <td>...</td>\n",
       "      <td>...</td>\n",
       "      <td>...</td>\n",
       "      <td>...</td>\n",
       "      <td>...</td>\n",
       "      <td>...</td>\n",
       "      <td>...</td>\n",
       "      <td>...</td>\n",
       "      <td>...</td>\n",
       "      <td>...</td>\n",
       "      <td>...</td>\n",
       "      <td>...</td>\n",
       "      <td>...</td>\n",
       "      <td>...</td>\n",
       "    </tr>\n",
       "    <tr>\n",
       "      <th>319790</th>\n",
       "      <td>Yes</td>\n",
       "      <td>27.41</td>\n",
       "      <td>Yes</td>\n",
       "      <td>No</td>\n",
       "      <td>No</td>\n",
       "      <td>7</td>\n",
       "      <td>0</td>\n",
       "      <td>Yes</td>\n",
       "      <td>Male</td>\n",
       "      <td>60-64</td>\n",
       "      <td>Hispanic</td>\n",
       "      <td>Yes</td>\n",
       "      <td>No</td>\n",
       "      <td>Fair</td>\n",
       "      <td>6</td>\n",
       "      <td>Yes</td>\n",
       "      <td>No</td>\n",
       "      <td>No</td>\n",
       "    </tr>\n",
       "    <tr>\n",
       "      <th>319791</th>\n",
       "      <td>No</td>\n",
       "      <td>29.84</td>\n",
       "      <td>Yes</td>\n",
       "      <td>No</td>\n",
       "      <td>No</td>\n",
       "      <td>0</td>\n",
       "      <td>0</td>\n",
       "      <td>No</td>\n",
       "      <td>Male</td>\n",
       "      <td>35-39</td>\n",
       "      <td>Hispanic</td>\n",
       "      <td>No</td>\n",
       "      <td>Yes</td>\n",
       "      <td>Very good</td>\n",
       "      <td>5</td>\n",
       "      <td>Yes</td>\n",
       "      <td>No</td>\n",
       "      <td>No</td>\n",
       "    </tr>\n",
       "    <tr>\n",
       "      <th>319792</th>\n",
       "      <td>No</td>\n",
       "      <td>24.24</td>\n",
       "      <td>No</td>\n",
       "      <td>No</td>\n",
       "      <td>No</td>\n",
       "      <td>0</td>\n",
       "      <td>0</td>\n",
       "      <td>No</td>\n",
       "      <td>Female</td>\n",
       "      <td>45-49</td>\n",
       "      <td>Hispanic</td>\n",
       "      <td>No</td>\n",
       "      <td>Yes</td>\n",
       "      <td>Good</td>\n",
       "      <td>6</td>\n",
       "      <td>No</td>\n",
       "      <td>No</td>\n",
       "      <td>No</td>\n",
       "    </tr>\n",
       "    <tr>\n",
       "      <th>319793</th>\n",
       "      <td>No</td>\n",
       "      <td>32.81</td>\n",
       "      <td>No</td>\n",
       "      <td>No</td>\n",
       "      <td>No</td>\n",
       "      <td>0</td>\n",
       "      <td>0</td>\n",
       "      <td>No</td>\n",
       "      <td>Female</td>\n",
       "      <td>25-29</td>\n",
       "      <td>Hispanic</td>\n",
       "      <td>No</td>\n",
       "      <td>No</td>\n",
       "      <td>Good</td>\n",
       "      <td>12</td>\n",
       "      <td>No</td>\n",
       "      <td>No</td>\n",
       "      <td>No</td>\n",
       "    </tr>\n",
       "    <tr>\n",
       "      <th>319794</th>\n",
       "      <td>No</td>\n",
       "      <td>46.56</td>\n",
       "      <td>No</td>\n",
       "      <td>No</td>\n",
       "      <td>No</td>\n",
       "      <td>0</td>\n",
       "      <td>0</td>\n",
       "      <td>No</td>\n",
       "      <td>Female</td>\n",
       "      <td>80 or older</td>\n",
       "      <td>Hispanic</td>\n",
       "      <td>No</td>\n",
       "      <td>Yes</td>\n",
       "      <td>Good</td>\n",
       "      <td>8</td>\n",
       "      <td>No</td>\n",
       "      <td>No</td>\n",
       "      <td>No</td>\n",
       "    </tr>\n",
       "  </tbody>\n",
       "</table>\n",
       "<p>301717 rows × 18 columns</p>\n",
       "</div>"
      ],
      "text/plain": [
       "       HeartDisease    BMI Smoking AlcoholDrinking Stroke  PhysicalHealth  \\\n",
       "0                No  16.60     Yes              No     No               3   \n",
       "1                No  20.34      No              No    Yes               0   \n",
       "2                No  26.58     Yes              No     No              20   \n",
       "3                No  24.21      No              No     No               0   \n",
       "4                No  23.71      No              No     No              28   \n",
       "...             ...    ...     ...             ...    ...             ...   \n",
       "319790          Yes  27.41     Yes              No     No               7   \n",
       "319791           No  29.84     Yes              No     No               0   \n",
       "319792           No  24.24      No              No     No               0   \n",
       "319793           No  32.81      No              No     No               0   \n",
       "319794           No  46.56      No              No     No               0   \n",
       "\n",
       "        MentalHealth DiffWalking     Sex  AgeCategory      Race Diabetic  \\\n",
       "0                 30          No  Female        55-59     White      Yes   \n",
       "1                  0          No  Female  80 or older     White       No   \n",
       "2                 30          No    Male        65-69     White      Yes   \n",
       "3                  0          No  Female        75-79     White       No   \n",
       "4                  0         Yes  Female        40-44     White       No   \n",
       "...              ...         ...     ...          ...       ...      ...   \n",
       "319790             0         Yes    Male        60-64  Hispanic      Yes   \n",
       "319791             0          No    Male        35-39  Hispanic       No   \n",
       "319792             0          No  Female        45-49  Hispanic       No   \n",
       "319793             0          No  Female        25-29  Hispanic       No   \n",
       "319794             0          No  Female  80 or older  Hispanic       No   \n",
       "\n",
       "       PhysicalActivity  GenHealth  SleepTime Asthma KidneyDisease SkinCancer  \n",
       "0                   Yes  Very good          5    Yes            No        Yes  \n",
       "1                   Yes  Very good          7     No            No         No  \n",
       "2                   Yes       Fair          8    Yes            No         No  \n",
       "3                    No       Good          6     No            No        Yes  \n",
       "4                   Yes  Very good          8     No            No         No  \n",
       "...                 ...        ...        ...    ...           ...        ...  \n",
       "319790               No       Fair          6    Yes            No         No  \n",
       "319791              Yes  Very good          5    Yes            No         No  \n",
       "319792              Yes       Good          6     No            No         No  \n",
       "319793               No       Good         12     No            No         No  \n",
       "319794              Yes       Good          8     No            No         No  \n",
       "\n",
       "[301717 rows x 18 columns]"
      ]
     },
     "execution_count": 12,
     "metadata": {},
     "output_type": "execute_result"
    }
   ],
   "source": [
    "df"
   ]
  },
  {
   "cell_type": "code",
   "execution_count": 13,
   "id": "e17694a4",
   "metadata": {},
   "outputs": [
    {
     "data": {
      "text/plain": [
       "No     274456\n",
       "Yes     27261\n",
       "Name: HeartDisease, dtype: int64"
      ]
     },
     "execution_count": 13,
     "metadata": {},
     "output_type": "execute_result"
    }
   ],
   "source": [
    "df.HeartDisease.value_counts()"
   ]
  },
  {
   "cell_type": "code",
   "execution_count": 14,
   "id": "72abaa47",
   "metadata": {},
   "outputs": [
    {
     "data": {
      "text/plain": [
       "Index(['HeartDisease', 'BMI', 'Smoking', 'AlcoholDrinking', 'Stroke',\n",
       "       'PhysicalHealth', 'MentalHealth', 'DiffWalking', 'Sex', 'AgeCategory',\n",
       "       'Race', 'Diabetic', 'PhysicalActivity', 'GenHealth', 'SleepTime',\n",
       "       'Asthma', 'KidneyDisease', 'SkinCancer'],\n",
       "      dtype='object')"
      ]
     },
     "execution_count": 14,
     "metadata": {},
     "output_type": "execute_result"
    }
   ],
   "source": [
    "df.columns"
   ]
  },
  {
   "cell_type": "code",
   "execution_count": 15,
   "id": "67edfece",
   "metadata": {},
   "outputs": [
    {
     "data": {
      "text/plain": [
       "18"
      ]
     },
     "execution_count": 15,
     "metadata": {},
     "output_type": "execute_result"
    }
   ],
   "source": [
    "len(df.columns)"
   ]
  },
  {
   "cell_type": "code",
   "execution_count": 16,
   "id": "9a8a2139",
   "metadata": {},
   "outputs": [
    {
     "data": {
      "text/plain": [
       "<bound method IndexOpsMixin.value_counts of Index(['HeartDisease', 'BMI', 'Smoking', 'AlcoholDrinking', 'Stroke',\n",
       "       'PhysicalHealth', 'MentalHealth', 'DiffWalking', 'Sex', 'AgeCategory',\n",
       "       'Race', 'Diabetic', 'PhysicalActivity', 'GenHealth', 'SleepTime',\n",
       "       'Asthma', 'KidneyDisease', 'SkinCancer'],\n",
       "      dtype='object')>"
      ]
     },
     "execution_count": 16,
     "metadata": {},
     "output_type": "execute_result"
    }
   ],
   "source": [
    "df.columns.value_counts"
   ]
  },
  {
   "cell_type": "code",
   "execution_count": 17,
   "id": "6568dc7a",
   "metadata": {},
   "outputs": [
    {
     "name": "stdout",
     "output_type": "stream",
     "text": [
      "<class 'pandas.core.frame.DataFrame'>\n",
      "Int64Index: 301717 entries, 0 to 319794\n",
      "Data columns (total 18 columns):\n",
      " #   Column            Non-Null Count   Dtype  \n",
      "---  ------            --------------   -----  \n",
      " 0   HeartDisease      301717 non-null  object \n",
      " 1   BMI               301717 non-null  float64\n",
      " 2   Smoking           301717 non-null  object \n",
      " 3   AlcoholDrinking   301717 non-null  object \n",
      " 4   Stroke            301717 non-null  object \n",
      " 5   PhysicalHealth    301717 non-null  int64  \n",
      " 6   MentalHealth      301717 non-null  int64  \n",
      " 7   DiffWalking       301717 non-null  object \n",
      " 8   Sex               301717 non-null  object \n",
      " 9   AgeCategory       301717 non-null  object \n",
      " 10  Race              301717 non-null  object \n",
      " 11  Diabetic          301717 non-null  object \n",
      " 12  PhysicalActivity  301717 non-null  object \n",
      " 13  GenHealth         301717 non-null  object \n",
      " 14  SleepTime         301717 non-null  int64  \n",
      " 15  Asthma            301717 non-null  object \n",
      " 16  KidneyDisease     301717 non-null  object \n",
      " 17  SkinCancer        301717 non-null  object \n",
      "dtypes: float64(1), int64(3), object(14)\n",
      "memory usage: 43.7+ MB\n"
     ]
    }
   ],
   "source": [
    "df.info()"
   ]
  },
  {
   "cell_type": "code",
   "execution_count": 18,
   "id": "f007e077",
   "metadata": {},
   "outputs": [
    {
     "data": {
      "text/html": [
       "<div>\n",
       "<style scoped>\n",
       "    .dataframe tbody tr th:only-of-type {\n",
       "        vertical-align: middle;\n",
       "    }\n",
       "\n",
       "    .dataframe tbody tr th {\n",
       "        vertical-align: top;\n",
       "    }\n",
       "\n",
       "    .dataframe thead th {\n",
       "        text-align: right;\n",
       "    }\n",
       "</style>\n",
       "<table border=\"1\" class=\"dataframe\">\n",
       "  <thead>\n",
       "    <tr style=\"text-align: right;\">\n",
       "      <th></th>\n",
       "      <th>BMI</th>\n",
       "      <th>PhysicalHealth</th>\n",
       "      <th>MentalHealth</th>\n",
       "      <th>SleepTime</th>\n",
       "    </tr>\n",
       "  </thead>\n",
       "  <tbody>\n",
       "    <tr>\n",
       "      <th>count</th>\n",
       "      <td>301717.000000</td>\n",
       "      <td>301717.000000</td>\n",
       "      <td>301717.000000</td>\n",
       "      <td>301717.000000</td>\n",
       "    </tr>\n",
       "    <tr>\n",
       "      <th>mean</th>\n",
       "      <td>28.441970</td>\n",
       "      <td>3.572298</td>\n",
       "      <td>4.121475</td>\n",
       "      <td>7.084559</td>\n",
       "    </tr>\n",
       "    <tr>\n",
       "      <th>std</th>\n",
       "      <td>6.468134</td>\n",
       "      <td>8.140656</td>\n",
       "      <td>8.128288</td>\n",
       "      <td>1.467122</td>\n",
       "    </tr>\n",
       "    <tr>\n",
       "      <th>min</th>\n",
       "      <td>12.020000</td>\n",
       "      <td>0.000000</td>\n",
       "      <td>0.000000</td>\n",
       "      <td>1.000000</td>\n",
       "    </tr>\n",
       "    <tr>\n",
       "      <th>25%</th>\n",
       "      <td>24.030000</td>\n",
       "      <td>0.000000</td>\n",
       "      <td>0.000000</td>\n",
       "      <td>6.000000</td>\n",
       "    </tr>\n",
       "    <tr>\n",
       "      <th>50%</th>\n",
       "      <td>27.410000</td>\n",
       "      <td>0.000000</td>\n",
       "      <td>0.000000</td>\n",
       "      <td>7.000000</td>\n",
       "    </tr>\n",
       "    <tr>\n",
       "      <th>75%</th>\n",
       "      <td>31.650000</td>\n",
       "      <td>2.000000</td>\n",
       "      <td>4.000000</td>\n",
       "      <td>8.000000</td>\n",
       "    </tr>\n",
       "    <tr>\n",
       "      <th>max</th>\n",
       "      <td>94.850000</td>\n",
       "      <td>30.000000</td>\n",
       "      <td>30.000000</td>\n",
       "      <td>24.000000</td>\n",
       "    </tr>\n",
       "  </tbody>\n",
       "</table>\n",
       "</div>"
      ],
      "text/plain": [
       "                 BMI  PhysicalHealth   MentalHealth      SleepTime\n",
       "count  301717.000000   301717.000000  301717.000000  301717.000000\n",
       "mean       28.441970        3.572298       4.121475       7.084559\n",
       "std         6.468134        8.140656       8.128288       1.467122\n",
       "min        12.020000        0.000000       0.000000       1.000000\n",
       "25%        24.030000        0.000000       0.000000       6.000000\n",
       "50%        27.410000        0.000000       0.000000       7.000000\n",
       "75%        31.650000        2.000000       4.000000       8.000000\n",
       "max        94.850000       30.000000      30.000000      24.000000"
      ]
     },
     "execution_count": 18,
     "metadata": {},
     "output_type": "execute_result"
    }
   ],
   "source": [
    "df.describe()"
   ]
  },
  {
   "cell_type": "markdown",
   "id": "5147e0ef",
   "metadata": {},
   "source": [
    "# Data visualization using seaborn  and matplotlib library"
   ]
  },
  {
   "cell_type": "code",
   "execution_count": 19,
   "id": "8d2533ee",
   "metadata": {},
   "outputs": [
    {
     "name": "stderr",
     "output_type": "stream",
     "text": [
      "C:\\Users\\WIN\\Anaconda3\\lib\\site-packages\\seaborn\\_decorators.py:36: FutureWarning: Pass the following variable as a keyword arg: x. From version 0.12, the only valid positional argument will be `data`, and passing other arguments without an explicit keyword will result in an error or misinterpretation.\n",
      "  warnings.warn(\n"
     ]
    },
    {
     "data": {
      "text/plain": [
       "<AxesSubplot:xlabel='HeartDisease', ylabel='count'>"
      ]
     },
     "execution_count": 19,
     "metadata": {},
     "output_type": "execute_result"
    },
    {
     "data": {
      "image/png": "[encoded data removed]",
      "text/plain": [
       "<Figure size 432x288 with 1 Axes>"
      ]
     },
     "metadata": {
      "needs_background": "light"
     },
     "output_type": "display_data"
    }
   ],
   "source": [
    "sns.countplot(df['HeartDisease'],color='#2B00FF')"
   ]
  },
  {
   "cell_type": "code",
   "execution_count": 20,
   "id": "f0035eec",
   "metadata": {},
   "outputs": [
    {
     "data": {
      "text/plain": [
       "array(['Female', 'Male'], dtype=object)"
      ]
     },
     "execution_count": 20,
     "metadata": {},
     "output_type": "execute_result"
    }
   ],
   "source": [
    "df.Sex.unique()"
   ]
  },
  {
   "cell_type": "code",
   "execution_count": 21,
   "id": "0c4928fd",
   "metadata": {},
   "outputs": [
    {
     "data": {
      "text/plain": [
       "<AxesSubplot:xlabel='Sex', ylabel='count'>"
      ]
     },
     "execution_count": 21,
     "metadata": {},
     "output_type": "execute_result"
    },
    {
     "data": {
      "image/png": "[encoded data removed]",
      "text/plain": [
       "<Figure size 432x288 with 1 Axes>"
      ]
     },
     "metadata": {
      "needs_background": "light"
     },
     "output_type": "display_data"
    }
   ],
   "source": [
    "sns.countplot(x='Sex',hue='HeartDisease',data=df)"
   ]
  },
  {
   "cell_type": "code",
   "execution_count": 22,
   "id": "cd8bfb8d",
   "metadata": {},
   "outputs": [
    {
     "data": {
      "text/plain": [
       "array(['Yes', 'No'], dtype=object)"
      ]
     },
     "execution_count": 22,
     "metadata": {},
     "output_type": "execute_result"
    }
   ],
   "source": [
    "df.Smoking.unique()"
   ]
  },
  {
   "cell_type": "code",
   "execution_count": 23,
   "id": "24ded764",
   "metadata": {},
   "outputs": [
    {
     "data": {
      "text/plain": [
       "<AxesSubplot:xlabel='Smoking', ylabel='count'>"
      ]
     },
     "execution_count": 23,
     "metadata": {},
     "output_type": "execute_result"
    },
    {
     "data": {
      "image/png": "[encoded data removed]",
      "text/plain": [
       "<Figure size 432x288 with 1 Axes>"
      ]
     },
     "metadata": {
      "needs_background": "light"
     },
     "output_type": "display_data"
    }
   ],
   "source": [
    "sns.countplot(x='Smoking',hue='HeartDisease',data=df)"
   ]
  },
  {
   "cell_type": "code",
   "execution_count": 24,
   "id": "8e7edcb4",
   "metadata": {},
   "outputs": [
    {
     "data": {
      "text/plain": [
       "array(['No', 'Yes'], dtype=object)"
      ]
     },
     "execution_count": 24,
     "metadata": {},
     "output_type": "execute_result"
    }
   ],
   "source": [
    "df.AlcoholDrinking.unique()"
   ]
  },
  {
   "cell_type": "code",
   "execution_count": 25,
   "id": "9de69a4a",
   "metadata": {},
   "outputs": [
    {
     "data": {
      "text/plain": [
       "<AxesSubplot:xlabel='AlcoholDrinking', ylabel='count'>"
      ]
     },
     "execution_count": 25,
     "metadata": {},
     "output_type": "execute_result"
    },
    {
     "data": {
      "image/png": "[encoded data removed]",
      "text/plain": [
       "<Figure size 432x288 with 1 Axes>"
      ]
     },
     "metadata": {
      "needs_background": "light"
     },
     "output_type": "display_data"
    }
   ],
   "source": [
    "sns.countplot(x='AlcoholDrinking',hue='HeartDisease',data=df)"
   ]
  },
  {
   "cell_type": "code",
   "execution_count": 26,
   "id": "75f73e4d",
   "metadata": {},
   "outputs": [
    {
     "data": {
      "text/plain": [
       "<AxesSubplot:xlabel='Stroke', ylabel='count'>"
      ]
     },
     "execution_count": 26,
     "metadata": {},
     "output_type": "execute_result"
    },
    {
     "data": {
      "image/png": "[encoded data removed]",
      "text/plain": [
       "<Figure size 432x288 with 1 Axes>"
      ]
     },
     "metadata": {
      "needs_background": "light"
     },
     "output_type": "display_data"
    }
   ],
   "source": [
    "sns.countplot(x='Stroke',hue='HeartDisease',data=df)"
   ]
  },
  {
   "cell_type": "code",
   "execution_count": 27,
   "id": "6904d76f",
   "metadata": {},
   "outputs": [
    {
     "data": {
      "text/plain": [
       "<AxesSubplot:xlabel='Asthma', ylabel='count'>"
      ]
     },
     "execution_count": 27,
     "metadata": {},
     "output_type": "execute_result"
    },
    {
     "data": {
      "image/png": "[encoded data removed]",
      "text/plain": [
       "<Figure size 432x288 with 1 Axes>"
      ]
     },
     "metadata": {
      "needs_background": "light"
     },
     "output_type": "display_data"
    }
   ],
   "source": [
    "sns.countplot(x='Asthma',hue='HeartDisease',data=df)"
   ]
  },
  {
   "cell_type": "code",
   "execution_count": 28,
   "id": "cebf14f2",
   "metadata": {},
   "outputs": [
    {
     "data": {
      "text/plain": [
       "<AxesSubplot:xlabel='KidneyDisease', ylabel='count'>"
      ]
     },
     "execution_count": 28,
     "metadata": {},
     "output_type": "execute_result"
    },
    {
     "data": {
      "image/png": "[encoded data removed]",
      "text/plain": [
       "<Figure size 432x288 with 1 Axes>"
      ]
     },
     "metadata": {
      "needs_background": "light"
     },
     "output_type": "display_data"
    }
   ],
   "source": [
    "sns.countplot(x='KidneyDisease',hue='HeartDisease',data=df)"
   ]
  },
  {
   "cell_type": "code",
   "execution_count": 29,
   "id": "77215976",
   "metadata": {},
   "outputs": [
    {
     "data": {
      "text/plain": [
       "<AxesSubplot:xlabel='SkinCancer', ylabel='count'>"
      ]
     },
     "execution_count": 29,
     "metadata": {},
     "output_type": "execute_result"
    },
    {
     "data": {
      "image/png": "[encoded data removed]",
      "text/plain": [
       "<Figure size 432x288 with 1 Axes>"
      ]
     },
     "metadata": {
      "needs_background": "light"
     },
     "output_type": "display_data"
    }
   ],
   "source": [
    "sns.countplot(x='SkinCancer',hue='HeartDisease',data=df)"
   ]
  },
  {
   "cell_type": "code",
   "execution_count": 30,
   "id": "0a18fdb1",
   "metadata": {},
   "outputs": [
    {
     "data": {
      "text/plain": [
       "24"
      ]
     },
     "execution_count": 30,
     "metadata": {},
     "output_type": "execute_result"
    }
   ],
   "source": [
    "df.SleepTime.max()"
   ]
  },
  {
   "cell_type": "code",
   "execution_count": 31,
   "id": "2d18b11e",
   "metadata": {},
   "outputs": [
    {
     "data": {
      "text/plain": [
       "1"
      ]
     },
     "execution_count": 31,
     "metadata": {},
     "output_type": "execute_result"
    }
   ],
   "source": [
    "df.SleepTime.min()"
   ]
  },
  {
   "cell_type": "code",
   "execution_count": 32,
   "id": "9e4b5d15",
   "metadata": {},
   "outputs": [
    {
     "data": {
      "text/plain": [
       "<AxesSubplot:xlabel='SleepTime', ylabel='count'>"
      ]
     },
     "execution_count": 32,
     "metadata": {},
     "output_type": "execute_result"
    },
    {
     "data": {
      "image/png": "[encoded data removed]",
      "text/plain": [
       "<Figure size 432x288 with 1 Axes>"
      ]
     },
     "metadata": {
      "needs_background": "light"
     },
     "output_type": "display_data"
    }
   ],
   "source": [
    "sns.countplot(x='SleepTime',hue='HeartDisease',data=df)"
   ]
  },
  {
   "cell_type": "code",
   "execution_count": 33,
   "id": "1fb58a85",
   "metadata": {},
   "outputs": [
    {
     "data": {
      "text/plain": [
       "94.85"
      ]
     },
     "execution_count": 33,
     "metadata": {},
     "output_type": "execute_result"
    }
   ],
   "source": [
    "df.BMI.max()"
   ]
  },
  {
   "cell_type": "code",
   "execution_count": 34,
   "id": "8cafbff7",
   "metadata": {},
   "outputs": [
    {
     "data": {
      "text/plain": [
       "12.02"
      ]
     },
     "execution_count": 34,
     "metadata": {},
     "output_type": "execute_result"
    }
   ],
   "source": [
    "df.BMI.min()"
   ]
  },
  {
   "cell_type": "code",
   "execution_count": 35,
   "id": "c5614ace",
   "metadata": {},
   "outputs": [],
   "source": [
    "#sns.countplot(x='BMI',hue='HeartDisease',data=df) taking more time"
   ]
  },
  {
   "cell_type": "code",
   "execution_count": 36,
   "id": "e2581a93",
   "metadata": {},
   "outputs": [
    {
     "data": {
      "text/plain": [
       "array(['Yes', 'No', 'No, borderline diabetes', 'Yes (during pregnancy)'],\n",
       "      dtype=object)"
      ]
     },
     "execution_count": 36,
     "metadata": {},
     "output_type": "execute_result"
    }
   ],
   "source": [
    "df.Diabetic.unique()"
   ]
  },
  {
   "cell_type": "code",
   "execution_count": 37,
   "id": "303dcc11",
   "metadata": {},
   "outputs": [
    {
     "data": {
      "text/plain": [
       "<AxesSubplot:xlabel='Diabetic', ylabel='count'>"
      ]
     },
     "execution_count": 37,
     "metadata": {},
     "output_type": "execute_result"
    },
    {
     "data": {
      "image/png": "[encoded data removed]",
      "text/plain": [
       "<Figure size 432x288 with 1 Axes>"
      ]
     },
     "metadata": {
      "needs_background": "light"
     },
     "output_type": "display_data"
    }
   ],
   "source": [
    "sns.countplot(x='Diabetic',hue='HeartDisease',data=df)"
   ]
  },
  {
   "cell_type": "code",
   "execution_count": 38,
   "id": "74c89008",
   "metadata": {},
   "outputs": [
    {
     "data": {
      "text/plain": [
       "<AxesSubplot:xlabel='AgeCategory', ylabel='count'>"
      ]
     },
     "execution_count": 38,
     "metadata": {},
     "output_type": "execute_result"
    },
    {
     "data": {
      "image/png": "[encoded data removed]",
      "text/plain": [
       "<Figure size 432x288 with 1 Axes>"
      ]
     },
     "metadata": {
      "needs_background": "light"
     },
     "output_type": "display_data"
    }
   ],
   "source": [
    "sns.countplot(x='AgeCategory',hue='HeartDisease',data=df)"
   ]
  },
  {
   "cell_type": "code",
   "execution_count": 39,
   "id": "1f42b3d0",
   "metadata": {},
   "outputs": [
    {
     "data": {
      "text/plain": [
       "<AxesSubplot:xlabel='DiffWalking', ylabel='count'>"
      ]
     },
     "execution_count": 39,
     "metadata": {},
     "output_type": "execute_result"
    },
    {
     "data": {
      "image/png": "[encoded data removed]",
      "text/plain": [
       "<Figure size 432x288 with 1 Axes>"
      ]
     },
     "metadata": {
      "needs_background": "light"
     },
     "output_type": "display_data"
    }
   ],
   "source": [
    "sns.countplot(x='DiffWalking',hue='HeartDisease',data=df)"
   ]
  },
  {
   "cell_type": "code",
   "execution_count": 40,
   "id": "be69a416",
   "metadata": {},
   "outputs": [
    {
     "data": {
      "text/plain": [
       "array(['Very good', 'Fair', 'Good', 'Poor', 'Excellent'], dtype=object)"
      ]
     },
     "execution_count": 40,
     "metadata": {},
     "output_type": "execute_result"
    }
   ],
   "source": [
    "df.GenHealth.unique()"
   ]
  },
  {
   "cell_type": "code",
   "execution_count": 41,
   "id": "944975bd",
   "metadata": {},
   "outputs": [
    {
     "data": {
      "text/plain": [
       "<AxesSubplot:xlabel='GenHealth', ylabel='count'>"
      ]
     },
     "execution_count": 41,
     "metadata": {},
     "output_type": "execute_result"
    },
    {
     "data": {
      "image/png": "[encoded data removed]",
      "text/plain": [
       "<Figure size 432x288 with 1 Axes>"
      ]
     },
     "metadata": {
      "needs_background": "light"
     },
     "output_type": "display_data"
    }
   ],
   "source": [
    "sns.countplot(x='GenHealth',hue='HeartDisease',data=df)"
   ]
  },
  {
   "cell_type": "code",
   "execution_count": 42,
   "id": "bdd624c2",
   "metadata": {},
   "outputs": [
    {
     "data": {
      "text/plain": [
       "<AxesSubplot:>"
      ]
     },
     "execution_count": 42,
     "metadata": {},
     "output_type": "execute_result"
    },
    {
     "data": {
      "image/png": "[encoded data removed]",
      "text/plain": [
       "<Figure size 432x288 with 1 Axes>"
      ]
     },
     "metadata": {
      "needs_background": "light"
     },
     "output_type": "display_data"
    }
   ],
   "source": [
    "df.GenHealth.value_counts().plot(kind='bar')"
   ]
  },
  {
   "cell_type": "code",
   "execution_count": 43,
   "id": "38abd8ec",
   "metadata": {},
   "outputs": [
    {
     "data": {
      "text/plain": [
       "<AxesSubplot:xlabel='PhysicalActivity', ylabel='count'>"
      ]
     },
     "execution_count": 43,
     "metadata": {},
     "output_type": "execute_result"
    },
    {
     "data": {
      "image/png": "[encoded data removed]",
      "text/plain": [
       "<Figure size 432x288 with 1 Axes>"
      ]
     },
     "metadata": {
      "needs_background": "light"
     },
     "output_type": "display_data"
    }
   ],
   "source": [
    "sns.countplot(x='PhysicalActivity',hue='HeartDisease',data=df)"
   ]
  },
  {
   "cell_type": "markdown",
   "id": "7e108e08",
   "metadata": {},
   "source": [
    "# preprocessing The DataSet"
   ]
  },
  {
   "cell_type": "code",
   "execution_count": 44,
   "id": "0b6287d8",
   "metadata": {},
   "outputs": [
    {
     "data": {
      "text/html": [
       "<div>\n",
       "<style scoped>\n",
       "    .dataframe tbody tr th:only-of-type {\n",
       "        vertical-align: middle;\n",
       "    }\n",
       "\n",
       "    .dataframe tbody tr th {\n",
       "        vertical-align: top;\n",
       "    }\n",
       "\n",
       "    .dataframe thead th {\n",
       "        text-align: right;\n",
       "    }\n",
       "</style>\n",
       "<table border=\"1\" class=\"dataframe\">\n",
       "  <thead>\n",
       "    <tr style=\"text-align: right;\">\n",
       "      <th></th>\n",
       "      <th>HeartDisease</th>\n",
       "      <th>BMI</th>\n",
       "      <th>Smoking</th>\n",
       "      <th>AlcoholDrinking</th>\n",
       "      <th>Stroke</th>\n",
       "      <th>PhysicalHealth</th>\n",
       "      <th>MentalHealth</th>\n",
       "      <th>DiffWalking</th>\n",
       "      <th>Sex</th>\n",
       "      <th>AgeCategory</th>\n",
       "      <th>Race</th>\n",
       "      <th>Diabetic</th>\n",
       "      <th>PhysicalActivity</th>\n",
       "      <th>GenHealth</th>\n",
       "      <th>SleepTime</th>\n",
       "      <th>Asthma</th>\n",
       "      <th>KidneyDisease</th>\n",
       "      <th>SkinCancer</th>\n",
       "    </tr>\n",
       "  </thead>\n",
       "  <tbody>\n",
       "    <tr>\n",
       "      <th>0</th>\n",
       "      <td>No</td>\n",
       "      <td>16.60</td>\n",
       "      <td>Yes</td>\n",
       "      <td>No</td>\n",
       "      <td>No</td>\n",
       "      <td>3</td>\n",
       "      <td>30</td>\n",
       "      <td>No</td>\n",
       "      <td>Female</td>\n",
       "      <td>55-59</td>\n",
       "      <td>White</td>\n",
       "      <td>Yes</td>\n",
       "      <td>Yes</td>\n",
       "      <td>Very good</td>\n",
       "      <td>5</td>\n",
       "      <td>Yes</td>\n",
       "      <td>No</td>\n",
       "      <td>Yes</td>\n",
       "    </tr>\n",
       "    <tr>\n",
       "      <th>1</th>\n",
       "      <td>No</td>\n",
       "      <td>20.34</td>\n",
       "      <td>No</td>\n",
       "      <td>No</td>\n",
       "      <td>Yes</td>\n",
       "      <td>0</td>\n",
       "      <td>0</td>\n",
       "      <td>No</td>\n",
       "      <td>Female</td>\n",
       "      <td>80 or older</td>\n",
       "      <td>White</td>\n",
       "      <td>No</td>\n",
       "      <td>Yes</td>\n",
       "      <td>Very good</td>\n",
       "      <td>7</td>\n",
       "      <td>No</td>\n",
       "      <td>No</td>\n",
       "      <td>No</td>\n",
       "    </tr>\n",
       "    <tr>\n",
       "      <th>2</th>\n",
       "      <td>No</td>\n",
       "      <td>26.58</td>\n",
       "      <td>Yes</td>\n",
       "      <td>No</td>\n",
       "      <td>No</td>\n",
       "      <td>20</td>\n",
       "      <td>30</td>\n",
       "      <td>No</td>\n",
       "      <td>Male</td>\n",
       "      <td>65-69</td>\n",
       "      <td>White</td>\n",
       "      <td>Yes</td>\n",
       "      <td>Yes</td>\n",
       "      <td>Fair</td>\n",
       "      <td>8</td>\n",
       "      <td>Yes</td>\n",
       "      <td>No</td>\n",
       "      <td>No</td>\n",
       "    </tr>\n",
       "    <tr>\n",
       "      <th>3</th>\n",
       "      <td>No</td>\n",
       "      <td>24.21</td>\n",
       "      <td>No</td>\n",
       "      <td>No</td>\n",
       "      <td>No</td>\n",
       "      <td>0</td>\n",
       "      <td>0</td>\n",
       "      <td>No</td>\n",
       "      <td>Female</td>\n",
       "      <td>75-79</td>\n",
       "      <td>White</td>\n",
       "      <td>No</td>\n",
       "      <td>No</td>\n",
       "      <td>Good</td>\n",
       "      <td>6</td>\n",
       "      <td>No</td>\n",
       "      <td>No</td>\n",
       "      <td>Yes</td>\n",
       "    </tr>\n",
       "    <tr>\n",
       "      <th>4</th>\n",
       "      <td>No</td>\n",
       "      <td>23.71</td>\n",
       "      <td>No</td>\n",
       "      <td>No</td>\n",
       "      <td>No</td>\n",
       "      <td>28</td>\n",
       "      <td>0</td>\n",
       "      <td>Yes</td>\n",
       "      <td>Female</td>\n",
       "      <td>40-44</td>\n",
       "      <td>White</td>\n",
       "      <td>No</td>\n",
       "      <td>Yes</td>\n",
       "      <td>Very good</td>\n",
       "      <td>8</td>\n",
       "      <td>No</td>\n",
       "      <td>No</td>\n",
       "      <td>No</td>\n",
       "    </tr>\n",
       "    <tr>\n",
       "      <th>...</th>\n",
       "      <td>...</td>\n",
       "      <td>...</td>\n",
       "      <td>...</td>\n",
       "      <td>...</td>\n",
       "      <td>...</td>\n",
       "      <td>...</td>\n",
       "      <td>...</td>\n",
       "      <td>...</td>\n",
       "      <td>...</td>\n",
       "      <td>...</td>\n",
       "      <td>...</td>\n",
       "      <td>...</td>\n",
       "      <td>...</td>\n",
       "      <td>...</td>\n",
       "      <td>...</td>\n",
       "      <td>...</td>\n",
       "      <td>...</td>\n",
       "      <td>...</td>\n",
       "    </tr>\n",
       "    <tr>\n",
       "      <th>319790</th>\n",
       "      <td>Yes</td>\n",
       "      <td>27.41</td>\n",
       "      <td>Yes</td>\n",
       "      <td>No</td>\n",
       "      <td>No</td>\n",
       "      <td>7</td>\n",
       "      <td>0</td>\n",
       "      <td>Yes</td>\n",
       "      <td>Male</td>\n",
       "      <td>60-64</td>\n",
       "      <td>Hispanic</td>\n",
       "      <td>Yes</td>\n",
       "      <td>No</td>\n",
       "      <td>Fair</td>\n",
       "      <td>6</td>\n",
       "      <td>Yes</td>\n",
       "      <td>No</td>\n",
       "      <td>No</td>\n",
       "    </tr>\n",
       "    <tr>\n",
       "      <th>319791</th>\n",
       "      <td>No</td>\n",
       "      <td>29.84</td>\n",
       "      <td>Yes</td>\n",
       "      <td>No</td>\n",
       "      <td>No</td>\n",
       "      <td>0</td>\n",
       "      <td>0</td>\n",
       "      <td>No</td>\n",
       "      <td>Male</td>\n",
       "      <td>35-39</td>\n",
       "      <td>Hispanic</td>\n",
       "      <td>No</td>\n",
       "      <td>Yes</td>\n",
       "      <td>Very good</td>\n",
       "      <td>5</td>\n",
       "      <td>Yes</td>\n",
       "      <td>No</td>\n",
       "      <td>No</td>\n",
       "    </tr>\n",
       "    <tr>\n",
       "      <th>319792</th>\n",
       "      <td>No</td>\n",
       "      <td>24.24</td>\n",
       "      <td>No</td>\n",
       "      <td>No</td>\n",
       "      <td>No</td>\n",
       "      <td>0</td>\n",
       "      <td>0</td>\n",
       "      <td>No</td>\n",
       "      <td>Female</td>\n",
       "      <td>45-49</td>\n",
       "      <td>Hispanic</td>\n",
       "      <td>No</td>\n",
       "      <td>Yes</td>\n",
       "      <td>Good</td>\n",
       "      <td>6</td>\n",
       "      <td>No</td>\n",
       "      <td>No</td>\n",
       "      <td>No</td>\n",
       "    </tr>\n",
       "    <tr>\n",
       "      <th>319793</th>\n",
       "      <td>No</td>\n",
       "      <td>32.81</td>\n",
       "      <td>No</td>\n",
       "      <td>No</td>\n",
       "      <td>No</td>\n",
       "      <td>0</td>\n",
       "      <td>0</td>\n",
       "      <td>No</td>\n",
       "      <td>Female</td>\n",
       "      <td>25-29</td>\n",
       "      <td>Hispanic</td>\n",
       "      <td>No</td>\n",
       "      <td>No</td>\n",
       "      <td>Good</td>\n",
       "      <td>12</td>\n",
       "      <td>No</td>\n",
       "      <td>No</td>\n",
       "      <td>No</td>\n",
       "    </tr>\n",
       "    <tr>\n",
       "      <th>319794</th>\n",
       "      <td>No</td>\n",
       "      <td>46.56</td>\n",
       "      <td>No</td>\n",
       "      <td>No</td>\n",
       "      <td>No</td>\n",
       "      <td>0</td>\n",
       "      <td>0</td>\n",
       "      <td>No</td>\n",
       "      <td>Female</td>\n",
       "      <td>80 or older</td>\n",
       "      <td>Hispanic</td>\n",
       "      <td>No</td>\n",
       "      <td>Yes</td>\n",
       "      <td>Good</td>\n",
       "      <td>8</td>\n",
       "      <td>No</td>\n",
       "      <td>No</td>\n",
       "      <td>No</td>\n",
       "    </tr>\n",
       "  </tbody>\n",
       "</table>\n",
       "<p>301717 rows × 18 columns</p>\n",
       "</div>"
      ],
      "text/plain": [
       "       HeartDisease    BMI Smoking AlcoholDrinking Stroke  PhysicalHealth  \\\n",
       "0                No  16.60     Yes              No     No               3   \n",
       "1                No  20.34      No              No    Yes               0   \n",
       "2                No  26.58     Yes              No     No              20   \n",
       "3                No  24.21      No              No     No               0   \n",
       "4                No  23.71      No              No     No              28   \n",
       "...             ...    ...     ...             ...    ...             ...   \n",
       "319790          Yes  27.41     Yes              No     No               7   \n",
       "319791           No  29.84     Yes              No     No               0   \n",
       "319792           No  24.24      No              No     No               0   \n",
       "319793           No  32.81      No              No     No               0   \n",
       "319794           No  46.56      No              No     No               0   \n",
       "\n",
       "        MentalHealth DiffWalking     Sex  AgeCategory      Race Diabetic  \\\n",
       "0                 30          No  Female        55-59     White      Yes   \n",
       "1                  0          No  Female  80 or older     White       No   \n",
       "2                 30          No    Male        65-69     White      Yes   \n",
       "3                  0          No  Female        75-79     White       No   \n",
       "4                  0         Yes  Female        40-44     White       No   \n",
       "...              ...         ...     ...          ...       ...      ...   \n",
       "319790             0         Yes    Male        60-64  Hispanic      Yes   \n",
       "319791             0          No    Male        35-39  Hispanic       No   \n",
       "319792             0          No  Female        45-49  Hispanic       No   \n",
       "319793             0          No  Female        25-29  Hispanic       No   \n",
       "319794             0          No  Female  80 or older  Hispanic       No   \n",
       "\n",
       "       PhysicalActivity  GenHealth  SleepTime Asthma KidneyDisease SkinCancer  \n",
       "0                   Yes  Very good          5    Yes            No        Yes  \n",
       "1                   Yes  Very good          7     No            No         No  \n",
       "2                   Yes       Fair          8    Yes            No         No  \n",
       "3                    No       Good          6     No            No        Yes  \n",
       "4                   Yes  Very good          8     No            No         No  \n",
       "...                 ...        ...        ...    ...           ...        ...  \n",
       "319790               No       Fair          6    Yes            No         No  \n",
       "319791              Yes  Very good          5    Yes            No         No  \n",
       "319792              Yes       Good          6     No            No         No  \n",
       "319793               No       Good         12     No            No         No  \n",
       "319794              Yes       Good          8     No            No         No  \n",
       "\n",
       "[301717 rows x 18 columns]"
      ]
     },
     "execution_count": 44,
     "metadata": {},
     "output_type": "execute_result"
    }
   ],
   "source": [
    "df"
   ]
  },
  {
   "cell_type": "code",
   "execution_count": 45,
   "id": "986507c2",
   "metadata": {},
   "outputs": [
    {
     "data": {
      "text/plain": [
       "(301717, 18)"
      ]
     },
     "execution_count": 45,
     "metadata": {},
     "output_type": "execute_result"
    }
   ],
   "source": [
    "df.shape"
   ]
  },
  {
   "cell_type": "markdown",
   "id": "8532212f",
   "metadata": {},
   "source": [
    "# Encoding The DataSet with LabelEncoder"
   ]
  },
  {
   "cell_type": "code",
   "execution_count": 46,
   "id": "c6e56e95",
   "metadata": {},
   "outputs": [],
   "source": [
    "from sklearn.preprocessing import LabelEncoder\n",
    "label=LabelEncoder()"
   ]
  },
  {
   "cell_type": "code",
   "execution_count": 47,
   "id": "f0d22816",
   "metadata": {},
   "outputs": [],
   "source": [
    "from pandas.core.dtypes.common import is_numeric_dtype"
   ]
  },
  {
   "cell_type": "code",
   "execution_count": 48,
   "id": "cc66e93b",
   "metadata": {},
   "outputs": [],
   "source": [
    "\n",
    "#from pandas.core.dtypes.common import is_numeric_dtype\n",
    "for column in df.columns:\n",
    "    if is_numeric_dtype(df[column]):\n",
    "        continue\n",
    "    else:\n",
    "        df[column]=label.fit_transform(df[column])"
   ]
  },
  {
   "cell_type": "code",
   "execution_count": 49,
   "id": "5e34f39b",
   "metadata": {},
   "outputs": [
    {
     "data": {
      "text/html": [
       "<div>\n",
       "<style scoped>\n",
       "    .dataframe tbody tr th:only-of-type {\n",
       "        vertical-align: middle;\n",
       "    }\n",
       "\n",
       "    .dataframe tbody tr th {\n",
       "        vertical-align: top;\n",
       "    }\n",
       "\n",
       "    .dataframe thead th {\n",
       "        text-align: right;\n",
       "    }\n",
       "</style>\n",
       "<table border=\"1\" class=\"dataframe\">\n",
       "  <thead>\n",
       "    <tr style=\"text-align: right;\">\n",
       "      <th></th>\n",
       "      <th>HeartDisease</th>\n",
       "      <th>BMI</th>\n",
       "      <th>Smoking</th>\n",
       "      <th>AlcoholDrinking</th>\n",
       "      <th>Stroke</th>\n",
       "      <th>PhysicalHealth</th>\n",
       "      <th>MentalHealth</th>\n",
       "      <th>DiffWalking</th>\n",
       "      <th>Sex</th>\n",
       "      <th>AgeCategory</th>\n",
       "      <th>Race</th>\n",
       "      <th>Diabetic</th>\n",
       "      <th>PhysicalActivity</th>\n",
       "      <th>GenHealth</th>\n",
       "      <th>SleepTime</th>\n",
       "      <th>Asthma</th>\n",
       "      <th>KidneyDisease</th>\n",
       "      <th>SkinCancer</th>\n",
       "    </tr>\n",
       "  </thead>\n",
       "  <tbody>\n",
       "    <tr>\n",
       "      <th>0</th>\n",
       "      <td>0</td>\n",
       "      <td>16.60</td>\n",
       "      <td>1</td>\n",
       "      <td>0</td>\n",
       "      <td>0</td>\n",
       "      <td>3</td>\n",
       "      <td>30</td>\n",
       "      <td>0</td>\n",
       "      <td>0</td>\n",
       "      <td>7</td>\n",
       "      <td>5</td>\n",
       "      <td>2</td>\n",
       "      <td>1</td>\n",
       "      <td>4</td>\n",
       "      <td>5</td>\n",
       "      <td>1</td>\n",
       "      <td>0</td>\n",
       "      <td>1</td>\n",
       "    </tr>\n",
       "    <tr>\n",
       "      <th>1</th>\n",
       "      <td>0</td>\n",
       "      <td>20.34</td>\n",
       "      <td>0</td>\n",
       "      <td>0</td>\n",
       "      <td>1</td>\n",
       "      <td>0</td>\n",
       "      <td>0</td>\n",
       "      <td>0</td>\n",
       "      <td>0</td>\n",
       "      <td>12</td>\n",
       "      <td>5</td>\n",
       "      <td>0</td>\n",
       "      <td>1</td>\n",
       "      <td>4</td>\n",
       "      <td>7</td>\n",
       "      <td>0</td>\n",
       "      <td>0</td>\n",
       "      <td>0</td>\n",
       "    </tr>\n",
       "    <tr>\n",
       "      <th>2</th>\n",
       "      <td>0</td>\n",
       "      <td>26.58</td>\n",
       "      <td>1</td>\n",
       "      <td>0</td>\n",
       "      <td>0</td>\n",
       "      <td>20</td>\n",
       "      <td>30</td>\n",
       "      <td>0</td>\n",
       "      <td>1</td>\n",
       "      <td>9</td>\n",
       "      <td>5</td>\n",
       "      <td>2</td>\n",
       "      <td>1</td>\n",
       "      <td>1</td>\n",
       "      <td>8</td>\n",
       "      <td>1</td>\n",
       "      <td>0</td>\n",
       "      <td>0</td>\n",
       "    </tr>\n",
       "    <tr>\n",
       "      <th>3</th>\n",
       "      <td>0</td>\n",
       "      <td>24.21</td>\n",
       "      <td>0</td>\n",
       "      <td>0</td>\n",
       "      <td>0</td>\n",
       "      <td>0</td>\n",
       "      <td>0</td>\n",
       "      <td>0</td>\n",
       "      <td>0</td>\n",
       "      <td>11</td>\n",
       "      <td>5</td>\n",
       "      <td>0</td>\n",
       "      <td>0</td>\n",
       "      <td>2</td>\n",
       "      <td>6</td>\n",
       "      <td>0</td>\n",
       "      <td>0</td>\n",
       "      <td>1</td>\n",
       "    </tr>\n",
       "    <tr>\n",
       "      <th>4</th>\n",
       "      <td>0</td>\n",
       "      <td>23.71</td>\n",
       "      <td>0</td>\n",
       "      <td>0</td>\n",
       "      <td>0</td>\n",
       "      <td>28</td>\n",
       "      <td>0</td>\n",
       "      <td>1</td>\n",
       "      <td>0</td>\n",
       "      <td>4</td>\n",
       "      <td>5</td>\n",
       "      <td>0</td>\n",
       "      <td>1</td>\n",
       "      <td>4</td>\n",
       "      <td>8</td>\n",
       "      <td>0</td>\n",
       "      <td>0</td>\n",
       "      <td>0</td>\n",
       "    </tr>\n",
       "    <tr>\n",
       "      <th>...</th>\n",
       "      <td>...</td>\n",
       "      <td>...</td>\n",
       "      <td>...</td>\n",
       "      <td>...</td>\n",
       "      <td>...</td>\n",
       "      <td>...</td>\n",
       "      <td>...</td>\n",
       "      <td>...</td>\n",
       "      <td>...</td>\n",
       "      <td>...</td>\n",
       "      <td>...</td>\n",
       "      <td>...</td>\n",
       "      <td>...</td>\n",
       "      <td>...</td>\n",
       "      <td>...</td>\n",
       "      <td>...</td>\n",
       "      <td>...</td>\n",
       "      <td>...</td>\n",
       "    </tr>\n",
       "    <tr>\n",
       "      <th>319790</th>\n",
       "      <td>1</td>\n",
       "      <td>27.41</td>\n",
       "      <td>1</td>\n",
       "      <td>0</td>\n",
       "      <td>0</td>\n",
       "      <td>7</td>\n",
       "      <td>0</td>\n",
       "      <td>1</td>\n",
       "      <td>1</td>\n",
       "      <td>8</td>\n",
       "      <td>3</td>\n",
       "      <td>2</td>\n",
       "      <td>0</td>\n",
       "      <td>1</td>\n",
       "      <td>6</td>\n",
       "      <td>1</td>\n",
       "      <td>0</td>\n",
       "      <td>0</td>\n",
       "    </tr>\n",
       "    <tr>\n",
       "      <th>319791</th>\n",
       "      <td>0</td>\n",
       "      <td>29.84</td>\n",
       "      <td>1</td>\n",
       "      <td>0</td>\n",
       "      <td>0</td>\n",
       "      <td>0</td>\n",
       "      <td>0</td>\n",
       "      <td>0</td>\n",
       "      <td>1</td>\n",
       "      <td>3</td>\n",
       "      <td>3</td>\n",
       "      <td>0</td>\n",
       "      <td>1</td>\n",
       "      <td>4</td>\n",
       "      <td>5</td>\n",
       "      <td>1</td>\n",
       "      <td>0</td>\n",
       "      <td>0</td>\n",
       "    </tr>\n",
       "    <tr>\n",
       "      <th>319792</th>\n",
       "      <td>0</td>\n",
       "      <td>24.24</td>\n",
       "      <td>0</td>\n",
       "      <td>0</td>\n",
       "      <td>0</td>\n",
       "      <td>0</td>\n",
       "      <td>0</td>\n",
       "      <td>0</td>\n",
       "      <td>0</td>\n",
       "      <td>5</td>\n",
       "      <td>3</td>\n",
       "      <td>0</td>\n",
       "      <td>1</td>\n",
       "      <td>2</td>\n",
       "      <td>6</td>\n",
       "      <td>0</td>\n",
       "      <td>0</td>\n",
       "      <td>0</td>\n",
       "    </tr>\n",
       "    <tr>\n",
       "      <th>319793</th>\n",
       "      <td>0</td>\n",
       "      <td>32.81</td>\n",
       "      <td>0</td>\n",
       "      <td>0</td>\n",
       "      <td>0</td>\n",
       "      <td>0</td>\n",
       "      <td>0</td>\n",
       "      <td>0</td>\n",
       "      <td>0</td>\n",
       "      <td>1</td>\n",
       "      <td>3</td>\n",
       "      <td>0</td>\n",
       "      <td>0</td>\n",
       "      <td>2</td>\n",
       "      <td>12</td>\n",
       "      <td>0</td>\n",
       "      <td>0</td>\n",
       "      <td>0</td>\n",
       "    </tr>\n",
       "    <tr>\n",
       "      <th>319794</th>\n",
       "      <td>0</td>\n",
       "      <td>46.56</td>\n",
       "      <td>0</td>\n",
       "      <td>0</td>\n",
       "      <td>0</td>\n",
       "      <td>0</td>\n",
       "      <td>0</td>\n",
       "      <td>0</td>\n",
       "      <td>0</td>\n",
       "      <td>12</td>\n",
       "      <td>3</td>\n",
       "      <td>0</td>\n",
       "      <td>1</td>\n",
       "      <td>2</td>\n",
       "      <td>8</td>\n",
       "      <td>0</td>\n",
       "      <td>0</td>\n",
       "      <td>0</td>\n",
       "    </tr>\n",
       "  </tbody>\n",
       "</table>\n",
       "<p>301717 rows × 18 columns</p>\n",
       "</div>"
      ],
      "text/plain": [
       "        HeartDisease    BMI  Smoking  AlcoholDrinking  Stroke  PhysicalHealth  \\\n",
       "0                  0  16.60        1                0       0               3   \n",
       "1                  0  20.34        0                0       1               0   \n",
       "2                  0  26.58        1                0       0              20   \n",
       "3                  0  24.21        0                0       0               0   \n",
       "4                  0  23.71        0                0       0              28   \n",
       "...              ...    ...      ...              ...     ...             ...   \n",
       "319790             1  27.41        1                0       0               7   \n",
       "319791             0  29.84        1                0       0               0   \n",
       "319792             0  24.24        0                0       0               0   \n",
       "319793             0  32.81        0                0       0               0   \n",
       "319794             0  46.56        0                0       0               0   \n",
       "\n",
       "        MentalHealth  DiffWalking  Sex  AgeCategory  Race  Diabetic  \\\n",
       "0                 30            0    0            7     5         2   \n",
       "1                  0            0    0           12     5         0   \n",
       "2                 30            0    1            9     5         2   \n",
       "3                  0            0    0           11     5         0   \n",
       "4                  0            1    0            4     5         0   \n",
       "...              ...          ...  ...          ...   ...       ...   \n",
       "319790             0            1    1            8     3         2   \n",
       "319791             0            0    1            3     3         0   \n",
       "319792             0            0    0            5     3         0   \n",
       "319793             0            0    0            1     3         0   \n",
       "319794             0            0    0           12     3         0   \n",
       "\n",
       "        PhysicalActivity  GenHealth  SleepTime  Asthma  KidneyDisease  \\\n",
       "0                      1          4          5       1              0   \n",
       "1                      1          4          7       0              0   \n",
       "2                      1          1          8       1              0   \n",
       "3                      0          2          6       0              0   \n",
       "4                      1          4          8       0              0   \n",
       "...                  ...        ...        ...     ...            ...   \n",
       "319790                 0          1          6       1              0   \n",
       "319791                 1          4          5       1              0   \n",
       "319792                 1          2          6       0              0   \n",
       "319793                 0          2         12       0              0   \n",
       "319794                 1          2          8       0              0   \n",
       "\n",
       "        SkinCancer  \n",
       "0                1  \n",
       "1                0  \n",
       "2                0  \n",
       "3                1  \n",
       "4                0  \n",
       "...            ...  \n",
       "319790           0  \n",
       "319791           0  \n",
       "319792           0  \n",
       "319793           0  \n",
       "319794           0  \n",
       "\n",
       "[301717 rows x 18 columns]"
      ]
     },
     "execution_count": 49,
     "metadata": {},
     "output_type": "execute_result"
    }
   ],
   "source": [
    "df"
   ]
  },
  {
   "cell_type": "code",
   "execution_count": 50,
   "id": "31a5fd71",
   "metadata": {},
   "outputs": [
    {
     "data": {
      "text/html": [
       "<div>\n",
       "<style scoped>\n",
       "    .dataframe tbody tr th:only-of-type {\n",
       "        vertical-align: middle;\n",
       "    }\n",
       "\n",
       "    .dataframe tbody tr th {\n",
       "        vertical-align: top;\n",
       "    }\n",
       "\n",
       "    .dataframe thead th {\n",
       "        text-align: right;\n",
       "    }\n",
       "</style>\n",
       "<table border=\"1\" class=\"dataframe\">\n",
       "  <thead>\n",
       "    <tr style=\"text-align: right;\">\n",
       "      <th></th>\n",
       "      <th>HeartDisease</th>\n",
       "      <th>BMI</th>\n",
       "      <th>Smoking</th>\n",
       "      <th>AlcoholDrinking</th>\n",
       "      <th>Stroke</th>\n",
       "      <th>PhysicalHealth</th>\n",
       "      <th>MentalHealth</th>\n",
       "      <th>DiffWalking</th>\n",
       "      <th>Sex</th>\n",
       "      <th>AgeCategory</th>\n",
       "      <th>Race</th>\n",
       "      <th>Diabetic</th>\n",
       "      <th>PhysicalActivity</th>\n",
       "      <th>GenHealth</th>\n",
       "      <th>SleepTime</th>\n",
       "      <th>Asthma</th>\n",
       "      <th>KidneyDisease</th>\n",
       "      <th>SkinCancer</th>\n",
       "    </tr>\n",
       "  </thead>\n",
       "  <tbody>\n",
       "    <tr>\n",
       "      <th>count</th>\n",
       "      <td>301717.000000</td>\n",
       "      <td>301717.000000</td>\n",
       "      <td>301717.000000</td>\n",
       "      <td>301717.000000</td>\n",
       "      <td>301717.000000</td>\n",
       "      <td>301717.000000</td>\n",
       "      <td>301717.000000</td>\n",
       "      <td>301717.000000</td>\n",
       "      <td>301717.000000</td>\n",
       "      <td>301717.000000</td>\n",
       "      <td>301717.000000</td>\n",
       "      <td>301717.000000</td>\n",
       "      <td>301717.000000</td>\n",
       "      <td>301717.000000</td>\n",
       "      <td>301717.000000</td>\n",
       "      <td>301717.000000</td>\n",
       "      <td>301717.000000</td>\n",
       "      <td>301717.000000</td>\n",
       "    </tr>\n",
       "    <tr>\n",
       "      <th>mean</th>\n",
       "      <td>0.090353</td>\n",
       "      <td>28.441970</td>\n",
       "      <td>0.422267</td>\n",
       "      <td>0.071527</td>\n",
       "      <td>0.039984</td>\n",
       "      <td>3.572298</td>\n",
       "      <td>4.121475</td>\n",
       "      <td>0.147009</td>\n",
       "      <td>0.470792</td>\n",
       "      <td>6.509408</td>\n",
       "      <td>4.365409</td>\n",
       "      <td>0.316926</td>\n",
       "      <td>0.763669</td>\n",
       "      <td>2.221217</td>\n",
       "      <td>7.084559</td>\n",
       "      <td>0.141361</td>\n",
       "      <td>0.039030</td>\n",
       "      <td>0.097084</td>\n",
       "    </tr>\n",
       "    <tr>\n",
       "      <th>std</th>\n",
       "      <td>0.286687</td>\n",
       "      <td>6.468134</td>\n",
       "      <td>0.493921</td>\n",
       "      <td>0.257704</td>\n",
       "      <td>0.195923</td>\n",
       "      <td>8.140656</td>\n",
       "      <td>8.128288</td>\n",
       "      <td>0.354115</td>\n",
       "      <td>0.499147</td>\n",
       "      <td>3.584510</td>\n",
       "      <td>1.235817</td>\n",
       "      <td>0.732372</td>\n",
       "      <td>0.424828</td>\n",
       "      <td>1.511502</td>\n",
       "      <td>1.467122</td>\n",
       "      <td>0.348394</td>\n",
       "      <td>0.193667</td>\n",
       "      <td>0.296073</td>\n",
       "    </tr>\n",
       "    <tr>\n",
       "      <th>min</th>\n",
       "      <td>0.000000</td>\n",
       "      <td>12.020000</td>\n",
       "      <td>0.000000</td>\n",
       "      <td>0.000000</td>\n",
       "      <td>0.000000</td>\n",
       "      <td>0.000000</td>\n",
       "      <td>0.000000</td>\n",
       "      <td>0.000000</td>\n",
       "      <td>0.000000</td>\n",
       "      <td>0.000000</td>\n",
       "      <td>0.000000</td>\n",
       "      <td>0.000000</td>\n",
       "      <td>0.000000</td>\n",
       "      <td>0.000000</td>\n",
       "      <td>1.000000</td>\n",
       "      <td>0.000000</td>\n",
       "      <td>0.000000</td>\n",
       "      <td>0.000000</td>\n",
       "    </tr>\n",
       "    <tr>\n",
       "      <th>25%</th>\n",
       "      <td>0.000000</td>\n",
       "      <td>24.030000</td>\n",
       "      <td>0.000000</td>\n",
       "      <td>0.000000</td>\n",
       "      <td>0.000000</td>\n",
       "      <td>0.000000</td>\n",
       "      <td>0.000000</td>\n",
       "      <td>0.000000</td>\n",
       "      <td>0.000000</td>\n",
       "      <td>4.000000</td>\n",
       "      <td>5.000000</td>\n",
       "      <td>0.000000</td>\n",
       "      <td>1.000000</td>\n",
       "      <td>1.000000</td>\n",
       "      <td>6.000000</td>\n",
       "      <td>0.000000</td>\n",
       "      <td>0.000000</td>\n",
       "      <td>0.000000</td>\n",
       "    </tr>\n",
       "    <tr>\n",
       "      <th>50%</th>\n",
       "      <td>0.000000</td>\n",
       "      <td>27.410000</td>\n",
       "      <td>0.000000</td>\n",
       "      <td>0.000000</td>\n",
       "      <td>0.000000</td>\n",
       "      <td>0.000000</td>\n",
       "      <td>0.000000</td>\n",
       "      <td>0.000000</td>\n",
       "      <td>0.000000</td>\n",
       "      <td>7.000000</td>\n",
       "      <td>5.000000</td>\n",
       "      <td>0.000000</td>\n",
       "      <td>1.000000</td>\n",
       "      <td>2.000000</td>\n",
       "      <td>7.000000</td>\n",
       "      <td>0.000000</td>\n",
       "      <td>0.000000</td>\n",
       "      <td>0.000000</td>\n",
       "    </tr>\n",
       "    <tr>\n",
       "      <th>75%</th>\n",
       "      <td>0.000000</td>\n",
       "      <td>31.650000</td>\n",
       "      <td>1.000000</td>\n",
       "      <td>0.000000</td>\n",
       "      <td>0.000000</td>\n",
       "      <td>2.000000</td>\n",
       "      <td>4.000000</td>\n",
       "      <td>0.000000</td>\n",
       "      <td>1.000000</td>\n",
       "      <td>9.000000</td>\n",
       "      <td>5.000000</td>\n",
       "      <td>0.000000</td>\n",
       "      <td>1.000000</td>\n",
       "      <td>4.000000</td>\n",
       "      <td>8.000000</td>\n",
       "      <td>0.000000</td>\n",
       "      <td>0.000000</td>\n",
       "      <td>0.000000</td>\n",
       "    </tr>\n",
       "    <tr>\n",
       "      <th>max</th>\n",
       "      <td>1.000000</td>\n",
       "      <td>94.850000</td>\n",
       "      <td>1.000000</td>\n",
       "      <td>1.000000</td>\n",
       "      <td>1.000000</td>\n",
       "      <td>30.000000</td>\n",
       "      <td>30.000000</td>\n",
       "      <td>1.000000</td>\n",
       "      <td>1.000000</td>\n",
       "      <td>12.000000</td>\n",
       "      <td>5.000000</td>\n",
       "      <td>3.000000</td>\n",
       "      <td>1.000000</td>\n",
       "      <td>4.000000</td>\n",
       "      <td>24.000000</td>\n",
       "      <td>1.000000</td>\n",
       "      <td>1.000000</td>\n",
       "      <td>1.000000</td>\n",
       "    </tr>\n",
       "  </tbody>\n",
       "</table>\n",
       "</div>"
      ],
      "text/plain": [
       "        HeartDisease            BMI        Smoking  AlcoholDrinking  \\\n",
       "count  301717.000000  301717.000000  301717.000000    301717.000000   \n",
       "mean        0.090353      28.441970       0.422267         0.071527   \n",
       "std         0.286687       6.468134       0.493921         0.257704   \n",
       "min         0.000000      12.020000       0.000000         0.000000   \n",
       "25%         0.000000      24.030000       0.000000         0.000000   \n",
       "50%         0.000000      27.410000       0.000000         0.000000   \n",
       "75%         0.000000      31.650000       1.000000         0.000000   \n",
       "max         1.000000      94.850000       1.000000         1.000000   \n",
       "\n",
       "              Stroke  PhysicalHealth   MentalHealth    DiffWalking  \\\n",
       "count  301717.000000   301717.000000  301717.000000  301717.000000   \n",
       "mean        0.039984        3.572298       4.121475       0.147009   \n",
       "std         0.195923        8.140656       8.128288       0.354115   \n",
       "min         0.000000        0.000000       0.000000       0.000000   \n",
       "25%         0.000000        0.000000       0.000000       0.000000   \n",
       "50%         0.000000        0.000000       0.000000       0.000000   \n",
       "75%         0.000000        2.000000       4.000000       0.000000   \n",
       "max         1.000000       30.000000      30.000000       1.000000   \n",
       "\n",
       "                 Sex    AgeCategory           Race       Diabetic  \\\n",
       "count  301717.000000  301717.000000  301717.000000  301717.000000   \n",
       "mean        0.470792       6.509408       4.365409       0.316926   \n",
       "std         0.499147       3.584510       1.235817       0.732372   \n",
       "min         0.000000       0.000000       0.000000       0.000000   \n",
       "25%         0.000000       4.000000       5.000000       0.000000   \n",
       "50%         0.000000       7.000000       5.000000       0.000000   \n",
       "75%         1.000000       9.000000       5.000000       0.000000   \n",
       "max         1.000000      12.000000       5.000000       3.000000   \n",
       "\n",
       "       PhysicalActivity      GenHealth      SleepTime         Asthma  \\\n",
       "count     301717.000000  301717.000000  301717.000000  301717.000000   \n",
       "mean           0.763669       2.221217       7.084559       0.141361   \n",
       "std            0.424828       1.511502       1.467122       0.348394   \n",
       "min            0.000000       0.000000       1.000000       0.000000   \n",
       "25%            1.000000       1.000000       6.000000       0.000000   \n",
       "50%            1.000000       2.000000       7.000000       0.000000   \n",
       "75%            1.000000       4.000000       8.000000       0.000000   \n",
       "max            1.000000       4.000000      24.000000       1.000000   \n",
       "\n",
       "       KidneyDisease     SkinCancer  \n",
       "count  301717.000000  301717.000000  \n",
       "mean        0.039030       0.097084  \n",
       "std         0.193667       0.296073  \n",
       "min         0.000000       0.000000  \n",
       "25%         0.000000       0.000000  \n",
       "50%         0.000000       0.000000  \n",
       "75%         0.000000       0.000000  \n",
       "max         1.000000       1.000000  "
      ]
     },
     "execution_count": 50,
     "metadata": {},
     "output_type": "execute_result"
    }
   ],
   "source": [
    "df.describe()"
   ]
  },
  {
   "cell_type": "code",
   "execution_count": 51,
   "id": "ddc79723",
   "metadata": {},
   "outputs": [],
   "source": [
    "#sns.countplot(df['HeartDisease'],color='#2B00FF')\n",
    "\n",
    "#plt.pie(df['Smoking'])"
   ]
  },
  {
   "cell_type": "code",
   "execution_count": 52,
   "id": "890749eb",
   "metadata": {},
   "outputs": [
    {
     "data": {
      "image/png": "[encoded data removed]",
      "text/plain": [
       "<Figure size 720x432 with 1 Axes>"
      ]
     },
     "metadata": {
      "needs_background": "light"
     },
     "output_type": "display_data"
    }
   ],
   "source": [
    "fig, ax = plt.subplots(figsize=(10,6))\n",
    "\n",
    "sns.kdeplot(df[df[\"HeartDisease\"]==1][\"Sex\"], shade=True, color=\"red\", label=\"Presence of Heart Disease\", ax=ax)\n",
    "sns.kdeplot(df[df[\"HeartDisease\"]==0][\"Sex\"], shade=True, color=\"green\", label=\"Absence of Heart Disease\", ax=ax)\n",
    "\n",
    "fig.suptitle(\"Presence of Heart Disease by Sex\")\n",
    "\n",
    "ax.legend();"
   ]
  },
  {
   "cell_type": "code",
   "execution_count": 53,
   "id": "a8aedd08",
   "metadata": {},
   "outputs": [
    {
     "data": {
      "image/png": "[encoded data removed]",
      "text/plain": [
       "<Figure size 720x432 with 1 Axes>"
      ]
     },
     "metadata": {
      "needs_background": "light"
     },
     "output_type": "display_data"
    }
   ],
   "source": [
    "fig, ax = plt.subplots(figsize=(10,6))\n",
    "\n",
    "sns.kdeplot(df[df[\"HeartDisease\"]==1][\"Stroke\"], shade=True, color=\"red\", label=\"Presence of Heart Disease\", ax=ax)\n",
    "sns.kdeplot(df[df[\"HeartDisease\"]==0][\"Stroke\"], shade=True, color=\"green\", label=\"Absence of Heart Disease\", ax=ax)\n",
    "\n",
    "fig.suptitle(\"Presence of Heart Disease by Stroke\")\n",
    "\n",
    "ax.legend();"
   ]
  },
  {
   "cell_type": "code",
   "execution_count": 54,
   "id": "2d3d2fac",
   "metadata": {},
   "outputs": [
    {
     "data": {
      "image/png": "[encoded data removed]",
      "text/plain": [
       "<Figure size 720x432 with 1 Axes>"
      ]
     },
     "metadata": {
      "needs_background": "light"
     },
     "output_type": "display_data"
    }
   ],
   "source": [
    "fig, ax = plt.subplots(figsize=(10,6))\n",
    "\n",
    "sns.kdeplot(df[df[\"HeartDisease\"]==1][\"AgeCategory\"], shade=True, color=\"red\", label=\"Presence of Heart Disease\", ax=ax)\n",
    "sns.kdeplot(df[df[\"HeartDisease\"]==0][\"AgeCategory\"], shade=True, color=\"green\", label=\"Absence of Heart Disease\", ax=ax)\n",
    "\n",
    "fig.suptitle(\"Presence of Heart Disease by AgeCategory\")\n",
    "\n",
    "ax.legend();"
   ]
  },
  {
   "cell_type": "code",
   "execution_count": null,
   "id": "e3afcd62",
   "metadata": {},
   "outputs": [],
   "source": []
  },
  {
   "cell_type": "code",
   "execution_count": null,
   "id": "bcdd3359",
   "metadata": {},
   "outputs": [],
   "source": []
  },
  {
   "cell_type": "code",
   "execution_count": null,
   "id": "3f5b4af7",
   "metadata": {},
   "outputs": [],
   "source": []
  },
  {
   "cell_type": "code",
   "execution_count": null,
   "id": "611b3190",
   "metadata": {},
   "outputs": [],
   "source": []
  },
  {
   "cell_type": "code",
   "execution_count": null,
   "id": "acfc058c",
   "metadata": {},
   "outputs": [],
   "source": []
  },
  {
   "cell_type": "code",
   "execution_count": null,
   "id": "2c2bb346",
   "metadata": {},
   "outputs": [],
   "source": []
  },
  {
   "cell_type": "markdown",
   "id": "e87ca9ce",
   "metadata": {},
   "source": [
    "# Seperating x and y"
   ]
  },
  {
   "cell_type": "code",
   "execution_count": 55,
   "id": "64bb6157",
   "metadata": {},
   "outputs": [],
   "source": [
    "x=df.drop('HeartDisease',axis=1)\n",
    "y=df['HeartDisease']"
   ]
  },
  {
   "cell_type": "code",
   "execution_count": 56,
   "id": "df3661b1",
   "metadata": {},
   "outputs": [
    {
     "data": {
      "text/html": [
       "<div>\n",
       "<style scoped>\n",
       "    .dataframe tbody tr th:only-of-type {\n",
       "        vertical-align: middle;\n",
       "    }\n",
       "\n",
       "    .dataframe tbody tr th {\n",
       "        vertical-align: top;\n",
       "    }\n",
       "\n",
       "    .dataframe thead th {\n",
       "        text-align: right;\n",
       "    }\n",
       "</style>\n",
       "<table border=\"1\" class=\"dataframe\">\n",
       "  <thead>\n",
       "    <tr style=\"text-align: right;\">\n",
       "      <th></th>\n",
       "      <th>BMI</th>\n",
       "      <th>Smoking</th>\n",
       "      <th>AlcoholDrinking</th>\n",
       "      <th>Stroke</th>\n",
       "      <th>PhysicalHealth</th>\n",
       "      <th>MentalHealth</th>\n",
       "      <th>DiffWalking</th>\n",
       "      <th>Sex</th>\n",
       "      <th>AgeCategory</th>\n",
       "      <th>Race</th>\n",
       "      <th>Diabetic</th>\n",
       "      <th>PhysicalActivity</th>\n",
       "      <th>GenHealth</th>\n",
       "      <th>SleepTime</th>\n",
       "      <th>Asthma</th>\n",
       "      <th>KidneyDisease</th>\n",
       "      <th>SkinCancer</th>\n",
       "    </tr>\n",
       "  </thead>\n",
       "  <tbody>\n",
       "    <tr>\n",
       "      <th>0</th>\n",
       "      <td>16.60</td>\n",
       "      <td>1</td>\n",
       "      <td>0</td>\n",
       "      <td>0</td>\n",
       "      <td>3</td>\n",
       "      <td>30</td>\n",
       "      <td>0</td>\n",
       "      <td>0</td>\n",
       "      <td>7</td>\n",
       "      <td>5</td>\n",
       "      <td>2</td>\n",
       "      <td>1</td>\n",
       "      <td>4</td>\n",
       "      <td>5</td>\n",
       "      <td>1</td>\n",
       "      <td>0</td>\n",
       "      <td>1</td>\n",
       "    </tr>\n",
       "    <tr>\n",
       "      <th>1</th>\n",
       "      <td>20.34</td>\n",
       "      <td>0</td>\n",
       "      <td>0</td>\n",
       "      <td>1</td>\n",
       "      <td>0</td>\n",
       "      <td>0</td>\n",
       "      <td>0</td>\n",
       "      <td>0</td>\n",
       "      <td>12</td>\n",
       "      <td>5</td>\n",
       "      <td>0</td>\n",
       "      <td>1</td>\n",
       "      <td>4</td>\n",
       "      <td>7</td>\n",
       "      <td>0</td>\n",
       "      <td>0</td>\n",
       "      <td>0</td>\n",
       "    </tr>\n",
       "    <tr>\n",
       "      <th>2</th>\n",
       "      <td>26.58</td>\n",
       "      <td>1</td>\n",
       "      <td>0</td>\n",
       "      <td>0</td>\n",
       "      <td>20</td>\n",
       "      <td>30</td>\n",
       "      <td>0</td>\n",
       "      <td>1</td>\n",
       "      <td>9</td>\n",
       "      <td>5</td>\n",
       "      <td>2</td>\n",
       "      <td>1</td>\n",
       "      <td>1</td>\n",
       "      <td>8</td>\n",
       "      <td>1</td>\n",
       "      <td>0</td>\n",
       "      <td>0</td>\n",
       "    </tr>\n",
       "    <tr>\n",
       "      <th>3</th>\n",
       "      <td>24.21</td>\n",
       "      <td>0</td>\n",
       "      <td>0</td>\n",
       "      <td>0</td>\n",
       "      <td>0</td>\n",
       "      <td>0</td>\n",
       "      <td>0</td>\n",
       "      <td>0</td>\n",
       "      <td>11</td>\n",
       "      <td>5</td>\n",
       "      <td>0</td>\n",
       "      <td>0</td>\n",
       "      <td>2</td>\n",
       "      <td>6</td>\n",
       "      <td>0</td>\n",
       "      <td>0</td>\n",
       "      <td>1</td>\n",
       "    </tr>\n",
       "    <tr>\n",
       "      <th>4</th>\n",
       "      <td>23.71</td>\n",
       "      <td>0</td>\n",
       "      <td>0</td>\n",
       "      <td>0</td>\n",
       "      <td>28</td>\n",
       "      <td>0</td>\n",
       "      <td>1</td>\n",
       "      <td>0</td>\n",
       "      <td>4</td>\n",
       "      <td>5</td>\n",
       "      <td>0</td>\n",
       "      <td>1</td>\n",
       "      <td>4</td>\n",
       "      <td>8</td>\n",
       "      <td>0</td>\n",
       "      <td>0</td>\n",
       "      <td>0</td>\n",
       "    </tr>\n",
       "    <tr>\n",
       "      <th>...</th>\n",
       "      <td>...</td>\n",
       "      <td>...</td>\n",
       "      <td>...</td>\n",
       "      <td>...</td>\n",
       "      <td>...</td>\n",
       "      <td>...</td>\n",
       "      <td>...</td>\n",
       "      <td>...</td>\n",
       "      <td>...</td>\n",
       "      <td>...</td>\n",
       "      <td>...</td>\n",
       "      <td>...</td>\n",
       "      <td>...</td>\n",
       "      <td>...</td>\n",
       "      <td>...</td>\n",
       "      <td>...</td>\n",
       "      <td>...</td>\n",
       "    </tr>\n",
       "    <tr>\n",
       "      <th>319790</th>\n",
       "      <td>27.41</td>\n",
       "      <td>1</td>\n",
       "      <td>0</td>\n",
       "      <td>0</td>\n",
       "      <td>7</td>\n",
       "      <td>0</td>\n",
       "      <td>1</td>\n",
       "      <td>1</td>\n",
       "      <td>8</td>\n",
       "      <td>3</td>\n",
       "      <td>2</td>\n",
       "      <td>0</td>\n",
       "      <td>1</td>\n",
       "      <td>6</td>\n",
       "      <td>1</td>\n",
       "      <td>0</td>\n",
       "      <td>0</td>\n",
       "    </tr>\n",
       "    <tr>\n",
       "      <th>319791</th>\n",
       "      <td>29.84</td>\n",
       "      <td>1</td>\n",
       "      <td>0</td>\n",
       "      <td>0</td>\n",
       "      <td>0</td>\n",
       "      <td>0</td>\n",
       "      <td>0</td>\n",
       "      <td>1</td>\n",
       "      <td>3</td>\n",
       "      <td>3</td>\n",
       "      <td>0</td>\n",
       "      <td>1</td>\n",
       "      <td>4</td>\n",
       "      <td>5</td>\n",
       "      <td>1</td>\n",
       "      <td>0</td>\n",
       "      <td>0</td>\n",
       "    </tr>\n",
       "    <tr>\n",
       "      <th>319792</th>\n",
       "      <td>24.24</td>\n",
       "      <td>0</td>\n",
       "      <td>0</td>\n",
       "      <td>0</td>\n",
       "      <td>0</td>\n",
       "      <td>0</td>\n",
       "      <td>0</td>\n",
       "      <td>0</td>\n",
       "      <td>5</td>\n",
       "      <td>3</td>\n",
       "      <td>0</td>\n",
       "      <td>1</td>\n",
       "      <td>2</td>\n",
       "      <td>6</td>\n",
       "      <td>0</td>\n",
       "      <td>0</td>\n",
       "      <td>0</td>\n",
       "    </tr>\n",
       "    <tr>\n",
       "      <th>319793</th>\n",
       "      <td>32.81</td>\n",
       "      <td>0</td>\n",
       "      <td>0</td>\n",
       "      <td>0</td>\n",
       "      <td>0</td>\n",
       "      <td>0</td>\n",
       "      <td>0</td>\n",
       "      <td>0</td>\n",
       "      <td>1</td>\n",
       "      <td>3</td>\n",
       "      <td>0</td>\n",
       "      <td>0</td>\n",
       "      <td>2</td>\n",
       "      <td>12</td>\n",
       "      <td>0</td>\n",
       "      <td>0</td>\n",
       "      <td>0</td>\n",
       "    </tr>\n",
       "    <tr>\n",
       "      <th>319794</th>\n",
       "      <td>46.56</td>\n",
       "      <td>0</td>\n",
       "      <td>0</td>\n",
       "      <td>0</td>\n",
       "      <td>0</td>\n",
       "      <td>0</td>\n",
       "      <td>0</td>\n",
       "      <td>0</td>\n",
       "      <td>12</td>\n",
       "      <td>3</td>\n",
       "      <td>0</td>\n",
       "      <td>1</td>\n",
       "      <td>2</td>\n",
       "      <td>8</td>\n",
       "      <td>0</td>\n",
       "      <td>0</td>\n",
       "      <td>0</td>\n",
       "    </tr>\n",
       "  </tbody>\n",
       "</table>\n",
       "<p>301717 rows × 17 columns</p>\n",
       "</div>"
      ],
      "text/plain": [
       "          BMI  Smoking  AlcoholDrinking  Stroke  PhysicalHealth  MentalHealth  \\\n",
       "0       16.60        1                0       0               3            30   \n",
       "1       20.34        0                0       1               0             0   \n",
       "2       26.58        1                0       0              20            30   \n",
       "3       24.21        0                0       0               0             0   \n",
       "4       23.71        0                0       0              28             0   \n",
       "...       ...      ...              ...     ...             ...           ...   \n",
       "319790  27.41        1                0       0               7             0   \n",
       "319791  29.84        1                0       0               0             0   \n",
       "319792  24.24        0                0       0               0             0   \n",
       "319793  32.81        0                0       0               0             0   \n",
       "319794  46.56        0                0       0               0             0   \n",
       "\n",
       "        DiffWalking  Sex  AgeCategory  Race  Diabetic  PhysicalActivity  \\\n",
       "0                 0    0            7     5         2                 1   \n",
       "1                 0    0           12     5         0                 1   \n",
       "2                 0    1            9     5         2                 1   \n",
       "3                 0    0           11     5         0                 0   \n",
       "4                 1    0            4     5         0                 1   \n",
       "...             ...  ...          ...   ...       ...               ...   \n",
       "319790            1    1            8     3         2                 0   \n",
       "319791            0    1            3     3         0                 1   \n",
       "319792            0    0            5     3         0                 1   \n",
       "319793            0    0            1     3         0                 0   \n",
       "319794            0    0           12     3         0                 1   \n",
       "\n",
       "        GenHealth  SleepTime  Asthma  KidneyDisease  SkinCancer  \n",
       "0               4          5       1              0           1  \n",
       "1               4          7       0              0           0  \n",
       "2               1          8       1              0           0  \n",
       "3               2          6       0              0           1  \n",
       "4               4          8       0              0           0  \n",
       "...           ...        ...     ...            ...         ...  \n",
       "319790          1          6       1              0           0  \n",
       "319791          4          5       1              0           0  \n",
       "319792          2          6       0              0           0  \n",
       "319793          2         12       0              0           0  \n",
       "319794          2          8       0              0           0  \n",
       "\n",
       "[301717 rows x 17 columns]"
      ]
     },
     "execution_count": 56,
     "metadata": {},
     "output_type": "execute_result"
    }
   ],
   "source": [
    "x1=x2=x\n",
    "x"
   ]
  },
  {
   "cell_type": "code",
   "execution_count": 57,
   "id": "27397875",
   "metadata": {},
   "outputs": [
    {
     "data": {
      "text/plain": [
       "(301717, 17)"
      ]
     },
     "execution_count": 57,
     "metadata": {},
     "output_type": "execute_result"
    }
   ],
   "source": [
    "x.shape"
   ]
  },
  {
   "cell_type": "code",
   "execution_count": 58,
   "id": "2b2084c3",
   "metadata": {},
   "outputs": [
    {
     "data": {
      "text/plain": [
       "0         0\n",
       "1         0\n",
       "2         0\n",
       "3         0\n",
       "4         0\n",
       "         ..\n",
       "319790    1\n",
       "319791    0\n",
       "319792    0\n",
       "319793    0\n",
       "319794    0\n",
       "Name: HeartDisease, Length: 301717, dtype: int32"
      ]
     },
     "execution_count": 58,
     "metadata": {},
     "output_type": "execute_result"
    }
   ],
   "source": [
    "y1=y2=y\n",
    "y"
   ]
  },
  {
   "cell_type": "code",
   "execution_count": 59,
   "id": "03034c98",
   "metadata": {},
   "outputs": [
    {
     "data": {
      "text/plain": [
       "(301717,)"
      ]
     },
     "execution_count": 59,
     "metadata": {},
     "output_type": "execute_result"
    }
   ],
   "source": [
    "y.shape"
   ]
  },
  {
   "cell_type": "code",
   "execution_count": 60,
   "id": "deb99c91",
   "metadata": {},
   "outputs": [
    {
     "data": {
      "text/html": [
       "<div>\n",
       "<style scoped>\n",
       "    .dataframe tbody tr th:only-of-type {\n",
       "        vertical-align: middle;\n",
       "    }\n",
       "\n",
       "    .dataframe tbody tr th {\n",
       "        vertical-align: top;\n",
       "    }\n",
       "\n",
       "    .dataframe thead th {\n",
       "        text-align: right;\n",
       "    }\n",
       "</style>\n",
       "<table border=\"1\" class=\"dataframe\">\n",
       "  <thead>\n",
       "    <tr style=\"text-align: right;\">\n",
       "      <th></th>\n",
       "      <th>BMI</th>\n",
       "      <th>Smoking</th>\n",
       "      <th>AlcoholDrinking</th>\n",
       "      <th>Stroke</th>\n",
       "      <th>PhysicalHealth</th>\n",
       "      <th>MentalHealth</th>\n",
       "      <th>DiffWalking</th>\n",
       "      <th>Sex</th>\n",
       "      <th>AgeCategory</th>\n",
       "      <th>Race</th>\n",
       "      <th>Diabetic</th>\n",
       "      <th>PhysicalActivity</th>\n",
       "      <th>GenHealth</th>\n",
       "      <th>SleepTime</th>\n",
       "      <th>Asthma</th>\n",
       "      <th>KidneyDisease</th>\n",
       "      <th>SkinCancer</th>\n",
       "    </tr>\n",
       "  </thead>\n",
       "  <tbody>\n",
       "    <tr>\n",
       "      <th>0</th>\n",
       "      <td>16.60</td>\n",
       "      <td>1</td>\n",
       "      <td>0</td>\n",
       "      <td>0</td>\n",
       "      <td>3</td>\n",
       "      <td>30</td>\n",
       "      <td>0</td>\n",
       "      <td>0</td>\n",
       "      <td>7</td>\n",
       "      <td>5</td>\n",
       "      <td>2</td>\n",
       "      <td>1</td>\n",
       "      <td>4</td>\n",
       "      <td>5</td>\n",
       "      <td>1</td>\n",
       "      <td>0</td>\n",
       "      <td>1</td>\n",
       "    </tr>\n",
       "    <tr>\n",
       "      <th>1</th>\n",
       "      <td>20.34</td>\n",
       "      <td>0</td>\n",
       "      <td>0</td>\n",
       "      <td>1</td>\n",
       "      <td>0</td>\n",
       "      <td>0</td>\n",
       "      <td>0</td>\n",
       "      <td>0</td>\n",
       "      <td>12</td>\n",
       "      <td>5</td>\n",
       "      <td>0</td>\n",
       "      <td>1</td>\n",
       "      <td>4</td>\n",
       "      <td>7</td>\n",
       "      <td>0</td>\n",
       "      <td>0</td>\n",
       "      <td>0</td>\n",
       "    </tr>\n",
       "    <tr>\n",
       "      <th>2</th>\n",
       "      <td>26.58</td>\n",
       "      <td>1</td>\n",
       "      <td>0</td>\n",
       "      <td>0</td>\n",
       "      <td>20</td>\n",
       "      <td>30</td>\n",
       "      <td>0</td>\n",
       "      <td>1</td>\n",
       "      <td>9</td>\n",
       "      <td>5</td>\n",
       "      <td>2</td>\n",
       "      <td>1</td>\n",
       "      <td>1</td>\n",
       "      <td>8</td>\n",
       "      <td>1</td>\n",
       "      <td>0</td>\n",
       "      <td>0</td>\n",
       "    </tr>\n",
       "    <tr>\n",
       "      <th>3</th>\n",
       "      <td>24.21</td>\n",
       "      <td>0</td>\n",
       "      <td>0</td>\n",
       "      <td>0</td>\n",
       "      <td>0</td>\n",
       "      <td>0</td>\n",
       "      <td>0</td>\n",
       "      <td>0</td>\n",
       "      <td>11</td>\n",
       "      <td>5</td>\n",
       "      <td>0</td>\n",
       "      <td>0</td>\n",
       "      <td>2</td>\n",
       "      <td>6</td>\n",
       "      <td>0</td>\n",
       "      <td>0</td>\n",
       "      <td>1</td>\n",
       "    </tr>\n",
       "    <tr>\n",
       "      <th>4</th>\n",
       "      <td>23.71</td>\n",
       "      <td>0</td>\n",
       "      <td>0</td>\n",
       "      <td>0</td>\n",
       "      <td>28</td>\n",
       "      <td>0</td>\n",
       "      <td>1</td>\n",
       "      <td>0</td>\n",
       "      <td>4</td>\n",
       "      <td>5</td>\n",
       "      <td>0</td>\n",
       "      <td>1</td>\n",
       "      <td>4</td>\n",
       "      <td>8</td>\n",
       "      <td>0</td>\n",
       "      <td>0</td>\n",
       "      <td>0</td>\n",
       "    </tr>\n",
       "    <tr>\n",
       "      <th>...</th>\n",
       "      <td>...</td>\n",
       "      <td>...</td>\n",
       "      <td>...</td>\n",
       "      <td>...</td>\n",
       "      <td>...</td>\n",
       "      <td>...</td>\n",
       "      <td>...</td>\n",
       "      <td>...</td>\n",
       "      <td>...</td>\n",
       "      <td>...</td>\n",
       "      <td>...</td>\n",
       "      <td>...</td>\n",
       "      <td>...</td>\n",
       "      <td>...</td>\n",
       "      <td>...</td>\n",
       "      <td>...</td>\n",
       "      <td>...</td>\n",
       "    </tr>\n",
       "    <tr>\n",
       "      <th>319790</th>\n",
       "      <td>27.41</td>\n",
       "      <td>1</td>\n",
       "      <td>0</td>\n",
       "      <td>0</td>\n",
       "      <td>7</td>\n",
       "      <td>0</td>\n",
       "      <td>1</td>\n",
       "      <td>1</td>\n",
       "      <td>8</td>\n",
       "      <td>3</td>\n",
       "      <td>2</td>\n",
       "      <td>0</td>\n",
       "      <td>1</td>\n",
       "      <td>6</td>\n",
       "      <td>1</td>\n",
       "      <td>0</td>\n",
       "      <td>0</td>\n",
       "    </tr>\n",
       "    <tr>\n",
       "      <th>319791</th>\n",
       "      <td>29.84</td>\n",
       "      <td>1</td>\n",
       "      <td>0</td>\n",
       "      <td>0</td>\n",
       "      <td>0</td>\n",
       "      <td>0</td>\n",
       "      <td>0</td>\n",
       "      <td>1</td>\n",
       "      <td>3</td>\n",
       "      <td>3</td>\n",
       "      <td>0</td>\n",
       "      <td>1</td>\n",
       "      <td>4</td>\n",
       "      <td>5</td>\n",
       "      <td>1</td>\n",
       "      <td>0</td>\n",
       "      <td>0</td>\n",
       "    </tr>\n",
       "    <tr>\n",
       "      <th>319792</th>\n",
       "      <td>24.24</td>\n",
       "      <td>0</td>\n",
       "      <td>0</td>\n",
       "      <td>0</td>\n",
       "      <td>0</td>\n",
       "      <td>0</td>\n",
       "      <td>0</td>\n",
       "      <td>0</td>\n",
       "      <td>5</td>\n",
       "      <td>3</td>\n",
       "      <td>0</td>\n",
       "      <td>1</td>\n",
       "      <td>2</td>\n",
       "      <td>6</td>\n",
       "      <td>0</td>\n",
       "      <td>0</td>\n",
       "      <td>0</td>\n",
       "    </tr>\n",
       "    <tr>\n",
       "      <th>319793</th>\n",
       "      <td>32.81</td>\n",
       "      <td>0</td>\n",
       "      <td>0</td>\n",
       "      <td>0</td>\n",
       "      <td>0</td>\n",
       "      <td>0</td>\n",
       "      <td>0</td>\n",
       "      <td>0</td>\n",
       "      <td>1</td>\n",
       "      <td>3</td>\n",
       "      <td>0</td>\n",
       "      <td>0</td>\n",
       "      <td>2</td>\n",
       "      <td>12</td>\n",
       "      <td>0</td>\n",
       "      <td>0</td>\n",
       "      <td>0</td>\n",
       "    </tr>\n",
       "    <tr>\n",
       "      <th>319794</th>\n",
       "      <td>46.56</td>\n",
       "      <td>0</td>\n",
       "      <td>0</td>\n",
       "      <td>0</td>\n",
       "      <td>0</td>\n",
       "      <td>0</td>\n",
       "      <td>0</td>\n",
       "      <td>0</td>\n",
       "      <td>12</td>\n",
       "      <td>3</td>\n",
       "      <td>0</td>\n",
       "      <td>1</td>\n",
       "      <td>2</td>\n",
       "      <td>8</td>\n",
       "      <td>0</td>\n",
       "      <td>0</td>\n",
       "      <td>0</td>\n",
       "    </tr>\n",
       "  </tbody>\n",
       "</table>\n",
       "<p>301717 rows × 17 columns</p>\n",
       "</div>"
      ],
      "text/plain": [
       "          BMI  Smoking  AlcoholDrinking  Stroke  PhysicalHealth  MentalHealth  \\\n",
       "0       16.60        1                0       0               3            30   \n",
       "1       20.34        0                0       1               0             0   \n",
       "2       26.58        1                0       0              20            30   \n",
       "3       24.21        0                0       0               0             0   \n",
       "4       23.71        0                0       0              28             0   \n",
       "...       ...      ...              ...     ...             ...           ...   \n",
       "319790  27.41        1                0       0               7             0   \n",
       "319791  29.84        1                0       0               0             0   \n",
       "319792  24.24        0                0       0               0             0   \n",
       "319793  32.81        0                0       0               0             0   \n",
       "319794  46.56        0                0       0               0             0   \n",
       "\n",
       "        DiffWalking  Sex  AgeCategory  Race  Diabetic  PhysicalActivity  \\\n",
       "0                 0    0            7     5         2                 1   \n",
       "1                 0    0           12     5         0                 1   \n",
       "2                 0    1            9     5         2                 1   \n",
       "3                 0    0           11     5         0                 0   \n",
       "4                 1    0            4     5         0                 1   \n",
       "...             ...  ...          ...   ...       ...               ...   \n",
       "319790            1    1            8     3         2                 0   \n",
       "319791            0    1            3     3         0                 1   \n",
       "319792            0    0            5     3         0                 1   \n",
       "319793            0    0            1     3         0                 0   \n",
       "319794            0    0           12     3         0                 1   \n",
       "\n",
       "        GenHealth  SleepTime  Asthma  KidneyDisease  SkinCancer  \n",
       "0               4          5       1              0           1  \n",
       "1               4          7       0              0           0  \n",
       "2               1          8       1              0           0  \n",
       "3               2          6       0              0           1  \n",
       "4               4          8       0              0           0  \n",
       "...           ...        ...     ...            ...         ...  \n",
       "319790          1          6       1              0           0  \n",
       "319791          4          5       1              0           0  \n",
       "319792          2          6       0              0           0  \n",
       "319793          2         12       0              0           0  \n",
       "319794          2          8       0              0           0  \n",
       "\n",
       "[301717 rows x 17 columns]"
      ]
     },
     "execution_count": 60,
     "metadata": {},
     "output_type": "execute_result"
    }
   ],
   "source": [
    "x1"
   ]
  },
  {
   "cell_type": "code",
   "execution_count": 61,
   "id": "a7542c05",
   "metadata": {},
   "outputs": [
    {
     "data": {
      "text/html": [
       "<div>\n",
       "<style scoped>\n",
       "    .dataframe tbody tr th:only-of-type {\n",
       "        vertical-align: middle;\n",
       "    }\n",
       "\n",
       "    .dataframe tbody tr th {\n",
       "        vertical-align: top;\n",
       "    }\n",
       "\n",
       "    .dataframe thead th {\n",
       "        text-align: right;\n",
       "    }\n",
       "</style>\n",
       "<table border=\"1\" class=\"dataframe\">\n",
       "  <thead>\n",
       "    <tr style=\"text-align: right;\">\n",
       "      <th></th>\n",
       "      <th>BMI</th>\n",
       "      <th>Smoking</th>\n",
       "      <th>AlcoholDrinking</th>\n",
       "      <th>Stroke</th>\n",
       "      <th>PhysicalHealth</th>\n",
       "      <th>MentalHealth</th>\n",
       "      <th>DiffWalking</th>\n",
       "      <th>Sex</th>\n",
       "      <th>AgeCategory</th>\n",
       "      <th>Race</th>\n",
       "      <th>Diabetic</th>\n",
       "      <th>PhysicalActivity</th>\n",
       "      <th>GenHealth</th>\n",
       "      <th>SleepTime</th>\n",
       "      <th>Asthma</th>\n",
       "      <th>KidneyDisease</th>\n",
       "      <th>SkinCancer</th>\n",
       "    </tr>\n",
       "  </thead>\n",
       "  <tbody>\n",
       "    <tr>\n",
       "      <th>0</th>\n",
       "      <td>16.60</td>\n",
       "      <td>1</td>\n",
       "      <td>0</td>\n",
       "      <td>0</td>\n",
       "      <td>3</td>\n",
       "      <td>30</td>\n",
       "      <td>0</td>\n",
       "      <td>0</td>\n",
       "      <td>7</td>\n",
       "      <td>5</td>\n",
       "      <td>2</td>\n",
       "      <td>1</td>\n",
       "      <td>4</td>\n",
       "      <td>5</td>\n",
       "      <td>1</td>\n",
       "      <td>0</td>\n",
       "      <td>1</td>\n",
       "    </tr>\n",
       "    <tr>\n",
       "      <th>1</th>\n",
       "      <td>20.34</td>\n",
       "      <td>0</td>\n",
       "      <td>0</td>\n",
       "      <td>1</td>\n",
       "      <td>0</td>\n",
       "      <td>0</td>\n",
       "      <td>0</td>\n",
       "      <td>0</td>\n",
       "      <td>12</td>\n",
       "      <td>5</td>\n",
       "      <td>0</td>\n",
       "      <td>1</td>\n",
       "      <td>4</td>\n",
       "      <td>7</td>\n",
       "      <td>0</td>\n",
       "      <td>0</td>\n",
       "      <td>0</td>\n",
       "    </tr>\n",
       "    <tr>\n",
       "      <th>2</th>\n",
       "      <td>26.58</td>\n",
       "      <td>1</td>\n",
       "      <td>0</td>\n",
       "      <td>0</td>\n",
       "      <td>20</td>\n",
       "      <td>30</td>\n",
       "      <td>0</td>\n",
       "      <td>1</td>\n",
       "      <td>9</td>\n",
       "      <td>5</td>\n",
       "      <td>2</td>\n",
       "      <td>1</td>\n",
       "      <td>1</td>\n",
       "      <td>8</td>\n",
       "      <td>1</td>\n",
       "      <td>0</td>\n",
       "      <td>0</td>\n",
       "    </tr>\n",
       "    <tr>\n",
       "      <th>3</th>\n",
       "      <td>24.21</td>\n",
       "      <td>0</td>\n",
       "      <td>0</td>\n",
       "      <td>0</td>\n",
       "      <td>0</td>\n",
       "      <td>0</td>\n",
       "      <td>0</td>\n",
       "      <td>0</td>\n",
       "      <td>11</td>\n",
       "      <td>5</td>\n",
       "      <td>0</td>\n",
       "      <td>0</td>\n",
       "      <td>2</td>\n",
       "      <td>6</td>\n",
       "      <td>0</td>\n",
       "      <td>0</td>\n",
       "      <td>1</td>\n",
       "    </tr>\n",
       "    <tr>\n",
       "      <th>4</th>\n",
       "      <td>23.71</td>\n",
       "      <td>0</td>\n",
       "      <td>0</td>\n",
       "      <td>0</td>\n",
       "      <td>28</td>\n",
       "      <td>0</td>\n",
       "      <td>1</td>\n",
       "      <td>0</td>\n",
       "      <td>4</td>\n",
       "      <td>5</td>\n",
       "      <td>0</td>\n",
       "      <td>1</td>\n",
       "      <td>4</td>\n",
       "      <td>8</td>\n",
       "      <td>0</td>\n",
       "      <td>0</td>\n",
       "      <td>0</td>\n",
       "    </tr>\n",
       "    <tr>\n",
       "      <th>...</th>\n",
       "      <td>...</td>\n",
       "      <td>...</td>\n",
       "      <td>...</td>\n",
       "      <td>...</td>\n",
       "      <td>...</td>\n",
       "      <td>...</td>\n",
       "      <td>...</td>\n",
       "      <td>...</td>\n",
       "      <td>...</td>\n",
       "      <td>...</td>\n",
       "      <td>...</td>\n",
       "      <td>...</td>\n",
       "      <td>...</td>\n",
       "      <td>...</td>\n",
       "      <td>...</td>\n",
       "      <td>...</td>\n",
       "      <td>...</td>\n",
       "    </tr>\n",
       "    <tr>\n",
       "      <th>319790</th>\n",
       "      <td>27.41</td>\n",
       "      <td>1</td>\n",
       "      <td>0</td>\n",
       "      <td>0</td>\n",
       "      <td>7</td>\n",
       "      <td>0</td>\n",
       "      <td>1</td>\n",
       "      <td>1</td>\n",
       "      <td>8</td>\n",
       "      <td>3</td>\n",
       "      <td>2</td>\n",
       "      <td>0</td>\n",
       "      <td>1</td>\n",
       "      <td>6</td>\n",
       "      <td>1</td>\n",
       "      <td>0</td>\n",
       "      <td>0</td>\n",
       "    </tr>\n",
       "    <tr>\n",
       "      <th>319791</th>\n",
       "      <td>29.84</td>\n",
       "      <td>1</td>\n",
       "      <td>0</td>\n",
       "      <td>0</td>\n",
       "      <td>0</td>\n",
       "      <td>0</td>\n",
       "      <td>0</td>\n",
       "      <td>1</td>\n",
       "      <td>3</td>\n",
       "      <td>3</td>\n",
       "      <td>0</td>\n",
       "      <td>1</td>\n",
       "      <td>4</td>\n",
       "      <td>5</td>\n",
       "      <td>1</td>\n",
       "      <td>0</td>\n",
       "      <td>0</td>\n",
       "    </tr>\n",
       "    <tr>\n",
       "      <th>319792</th>\n",
       "      <td>24.24</td>\n",
       "      <td>0</td>\n",
       "      <td>0</td>\n",
       "      <td>0</td>\n",
       "      <td>0</td>\n",
       "      <td>0</td>\n",
       "      <td>0</td>\n",
       "      <td>0</td>\n",
       "      <td>5</td>\n",
       "      <td>3</td>\n",
       "      <td>0</td>\n",
       "      <td>1</td>\n",
       "      <td>2</td>\n",
       "      <td>6</td>\n",
       "      <td>0</td>\n",
       "      <td>0</td>\n",
       "      <td>0</td>\n",
       "    </tr>\n",
       "    <tr>\n",
       "      <th>319793</th>\n",
       "      <td>32.81</td>\n",
       "      <td>0</td>\n",
       "      <td>0</td>\n",
       "      <td>0</td>\n",
       "      <td>0</td>\n",
       "      <td>0</td>\n",
       "      <td>0</td>\n",
       "      <td>0</td>\n",
       "      <td>1</td>\n",
       "      <td>3</td>\n",
       "      <td>0</td>\n",
       "      <td>0</td>\n",
       "      <td>2</td>\n",
       "      <td>12</td>\n",
       "      <td>0</td>\n",
       "      <td>0</td>\n",
       "      <td>0</td>\n",
       "    </tr>\n",
       "    <tr>\n",
       "      <th>319794</th>\n",
       "      <td>46.56</td>\n",
       "      <td>0</td>\n",
       "      <td>0</td>\n",
       "      <td>0</td>\n",
       "      <td>0</td>\n",
       "      <td>0</td>\n",
       "      <td>0</td>\n",
       "      <td>0</td>\n",
       "      <td>12</td>\n",
       "      <td>3</td>\n",
       "      <td>0</td>\n",
       "      <td>1</td>\n",
       "      <td>2</td>\n",
       "      <td>8</td>\n",
       "      <td>0</td>\n",
       "      <td>0</td>\n",
       "      <td>0</td>\n",
       "    </tr>\n",
       "  </tbody>\n",
       "</table>\n",
       "<p>301717 rows × 17 columns</p>\n",
       "</div>"
      ],
      "text/plain": [
       "          BMI  Smoking  AlcoholDrinking  Stroke  PhysicalHealth  MentalHealth  \\\n",
       "0       16.60        1                0       0               3            30   \n",
       "1       20.34        0                0       1               0             0   \n",
       "2       26.58        1                0       0              20            30   \n",
       "3       24.21        0                0       0               0             0   \n",
       "4       23.71        0                0       0              28             0   \n",
       "...       ...      ...              ...     ...             ...           ...   \n",
       "319790  27.41        1                0       0               7             0   \n",
       "319791  29.84        1                0       0               0             0   \n",
       "319792  24.24        0                0       0               0             0   \n",
       "319793  32.81        0                0       0               0             0   \n",
       "319794  46.56        0                0       0               0             0   \n",
       "\n",
       "        DiffWalking  Sex  AgeCategory  Race  Diabetic  PhysicalActivity  \\\n",
       "0                 0    0            7     5         2                 1   \n",
       "1                 0    0           12     5         0                 1   \n",
       "2                 0    1            9     5         2                 1   \n",
       "3                 0    0           11     5         0                 0   \n",
       "4                 1    0            4     5         0                 1   \n",
       "...             ...  ...          ...   ...       ...               ...   \n",
       "319790            1    1            8     3         2                 0   \n",
       "319791            0    1            3     3         0                 1   \n",
       "319792            0    0            5     3         0                 1   \n",
       "319793            0    0            1     3         0                 0   \n",
       "319794            0    0           12     3         0                 1   \n",
       "\n",
       "        GenHealth  SleepTime  Asthma  KidneyDisease  SkinCancer  \n",
       "0               4          5       1              0           1  \n",
       "1               4          7       0              0           0  \n",
       "2               1          8       1              0           0  \n",
       "3               2          6       0              0           1  \n",
       "4               4          8       0              0           0  \n",
       "...           ...        ...     ...            ...         ...  \n",
       "319790          1          6       1              0           0  \n",
       "319791          4          5       1              0           0  \n",
       "319792          2          6       0              0           0  \n",
       "319793          2         12       0              0           0  \n",
       "319794          2          8       0              0           0  \n",
       "\n",
       "[301717 rows x 17 columns]"
      ]
     },
     "execution_count": 61,
     "metadata": {},
     "output_type": "execute_result"
    }
   ],
   "source": [
    "x2"
   ]
  },
  {
   "cell_type": "code",
   "execution_count": 62,
   "id": "0c3a994b",
   "metadata": {},
   "outputs": [
    {
     "data": {
      "text/plain": [
       "0         0\n",
       "1         0\n",
       "2         0\n",
       "3         0\n",
       "4         0\n",
       "         ..\n",
       "319790    1\n",
       "319791    0\n",
       "319792    0\n",
       "319793    0\n",
       "319794    0\n",
       "Name: HeartDisease, Length: 301717, dtype: int32"
      ]
     },
     "execution_count": 62,
     "metadata": {},
     "output_type": "execute_result"
    }
   ],
   "source": [
    "y1"
   ]
  },
  {
   "cell_type": "code",
   "execution_count": 63,
   "id": "051fb619",
   "metadata": {},
   "outputs": [
    {
     "data": {
      "text/plain": [
       "0         0\n",
       "1         0\n",
       "2         0\n",
       "3         0\n",
       "4         0\n",
       "         ..\n",
       "319790    1\n",
       "319791    0\n",
       "319792    0\n",
       "319793    0\n",
       "319794    0\n",
       "Name: HeartDisease, Length: 301717, dtype: int32"
      ]
     },
     "execution_count": 63,
     "metadata": {},
     "output_type": "execute_result"
    }
   ],
   "source": [
    "y2"
   ]
  },
  {
   "cell_type": "markdown",
   "id": "d46800f5",
   "metadata": {},
   "source": [
    "# Imbalanced Data Handling"
   ]
  },
  {
   "cell_type": "code",
   "execution_count": 64,
   "id": "9427e188",
   "metadata": {},
   "outputs": [
    {
     "data": {
      "text/plain": [
       "0    274456\n",
       "1     27261\n",
       "Name: HeartDisease, dtype: int64"
      ]
     },
     "execution_count": 64,
     "metadata": {},
     "output_type": "execute_result"
    }
   ],
   "source": [
    "df.HeartDisease.value_counts()"
   ]
  },
  {
   "cell_type": "code",
   "execution_count": 65,
   "id": "3e8af505",
   "metadata": {},
   "outputs": [],
   "source": [
    "not_HeartDisease=(274456/(274456+27261))*100\n",
    "HeartDisease=(27261/(274456+27261))*100"
   ]
  },
  {
   "cell_type": "code",
   "execution_count": 66,
   "id": "ec2c788a",
   "metadata": {},
   "outputs": [
    {
     "name": "stdout",
     "output_type": "stream",
     "text": [
      "No HeartDisease 90.96471196518591 percent of the total people\n"
     ]
    }
   ],
   "source": [
    "print('No HeartDisease {} percent of the total people'.format(not_HeartDisease))"
   ]
  },
  {
   "cell_type": "code",
   "execution_count": 67,
   "id": "99edae66",
   "metadata": {},
   "outputs": [
    {
     "name": "stdout",
     "output_type": "stream",
     "text": [
      "HeartDisease 9.03528803481408 percent of the total people\n"
     ]
    }
   ],
   "source": [
    "print('HeartDisease {} percent of the total people'.format(HeartDisease))"
   ]
  },
  {
   "cell_type": "code",
   "execution_count": 68,
   "id": "f74a6866",
   "metadata": {},
   "outputs": [],
   "source": [
    "HeartDisease_no=df[df['HeartDisease']==0]\n",
    "HeartDisease_yes=df[df['HeartDisease']==1]"
   ]
  },
  {
   "cell_type": "code",
   "execution_count": 69,
   "id": "e369407e",
   "metadata": {},
   "outputs": [
    {
     "data": {
      "text/plain": [
       "(274456, 18)"
      ]
     },
     "execution_count": 69,
     "metadata": {},
     "output_type": "execute_result"
    }
   ],
   "source": [
    "HeartDisease_no.shape"
   ]
  },
  {
   "cell_type": "code",
   "execution_count": 70,
   "id": "65cd4126",
   "metadata": {},
   "outputs": [
    {
     "data": {
      "text/plain": [
       "(27261, 18)"
      ]
     },
     "execution_count": 70,
     "metadata": {},
     "output_type": "execute_result"
    }
   ],
   "source": [
    "HeartDisease_yes.shape"
   ]
  },
  {
   "cell_type": "markdown",
   "id": "28ec3e5e",
   "metadata": {},
   "source": [
    "# So we have to balance our dataset . Now applying  Random over sampling techniques"
   ]
  },
  {
   "cell_type": "markdown",
   "id": "389fbd1d",
   "metadata": {},
   "source": [
    "# Over sampling"
   ]
  },
  {
   "cell_type": "code",
   "execution_count": 71,
   "id": "36540664",
   "metadata": {},
   "outputs": [],
   "source": [
    "from imblearn.over_sampling import RandomOverSampler\n",
    "random_over_sampler = RandomOverSampler(random_state =100)"
   ]
  },
  {
   "cell_type": "code",
   "execution_count": 72,
   "id": "1b8db88e",
   "metadata": {},
   "outputs": [],
   "source": [
    "x_new,y_new=random_over_sampler.fit_resample(x,y)"
   ]
  },
  {
   "cell_type": "code",
   "execution_count": 73,
   "id": "6892558d",
   "metadata": {},
   "outputs": [],
   "source": [
    "x1_new=x2_new=x3_new=x4_new=x5_new=x6_new=x7_new=x8_new=x9_new=x_new"
   ]
  },
  {
   "cell_type": "code",
   "execution_count": 74,
   "id": "10f93b0d",
   "metadata": {},
   "outputs": [
    {
     "data": {
      "text/html": [
       "<div>\n",
       "<style scoped>\n",
       "    .dataframe tbody tr th:only-of-type {\n",
       "        vertical-align: middle;\n",
       "    }\n",
       "\n",
       "    .dataframe tbody tr th {\n",
       "        vertical-align: top;\n",
       "    }\n",
       "\n",
       "    .dataframe thead th {\n",
       "        text-align: right;\n",
       "    }\n",
       "</style>\n",
       "<table border=\"1\" class=\"dataframe\">\n",
       "  <thead>\n",
       "    <tr style=\"text-align: right;\">\n",
       "      <th></th>\n",
       "      <th>BMI</th>\n",
       "      <th>Smoking</th>\n",
       "      <th>AlcoholDrinking</th>\n",
       "      <th>Stroke</th>\n",
       "      <th>PhysicalHealth</th>\n",
       "      <th>MentalHealth</th>\n",
       "      <th>DiffWalking</th>\n",
       "      <th>Sex</th>\n",
       "      <th>AgeCategory</th>\n",
       "      <th>Race</th>\n",
       "      <th>Diabetic</th>\n",
       "      <th>PhysicalActivity</th>\n",
       "      <th>GenHealth</th>\n",
       "      <th>SleepTime</th>\n",
       "      <th>Asthma</th>\n",
       "      <th>KidneyDisease</th>\n",
       "      <th>SkinCancer</th>\n",
       "    </tr>\n",
       "  </thead>\n",
       "  <tbody>\n",
       "    <tr>\n",
       "      <th>0</th>\n",
       "      <td>16.60</td>\n",
       "      <td>1</td>\n",
       "      <td>0</td>\n",
       "      <td>0</td>\n",
       "      <td>3</td>\n",
       "      <td>30</td>\n",
       "      <td>0</td>\n",
       "      <td>0</td>\n",
       "      <td>7</td>\n",
       "      <td>5</td>\n",
       "      <td>2</td>\n",
       "      <td>1</td>\n",
       "      <td>4</td>\n",
       "      <td>5</td>\n",
       "      <td>1</td>\n",
       "      <td>0</td>\n",
       "      <td>1</td>\n",
       "    </tr>\n",
       "    <tr>\n",
       "      <th>1</th>\n",
       "      <td>20.34</td>\n",
       "      <td>0</td>\n",
       "      <td>0</td>\n",
       "      <td>1</td>\n",
       "      <td>0</td>\n",
       "      <td>0</td>\n",
       "      <td>0</td>\n",
       "      <td>0</td>\n",
       "      <td>12</td>\n",
       "      <td>5</td>\n",
       "      <td>0</td>\n",
       "      <td>1</td>\n",
       "      <td>4</td>\n",
       "      <td>7</td>\n",
       "      <td>0</td>\n",
       "      <td>0</td>\n",
       "      <td>0</td>\n",
       "    </tr>\n",
       "    <tr>\n",
       "      <th>2</th>\n",
       "      <td>26.58</td>\n",
       "      <td>1</td>\n",
       "      <td>0</td>\n",
       "      <td>0</td>\n",
       "      <td>20</td>\n",
       "      <td>30</td>\n",
       "      <td>0</td>\n",
       "      <td>1</td>\n",
       "      <td>9</td>\n",
       "      <td>5</td>\n",
       "      <td>2</td>\n",
       "      <td>1</td>\n",
       "      <td>1</td>\n",
       "      <td>8</td>\n",
       "      <td>1</td>\n",
       "      <td>0</td>\n",
       "      <td>0</td>\n",
       "    </tr>\n",
       "    <tr>\n",
       "      <th>3</th>\n",
       "      <td>24.21</td>\n",
       "      <td>0</td>\n",
       "      <td>0</td>\n",
       "      <td>0</td>\n",
       "      <td>0</td>\n",
       "      <td>0</td>\n",
       "      <td>0</td>\n",
       "      <td>0</td>\n",
       "      <td>11</td>\n",
       "      <td>5</td>\n",
       "      <td>0</td>\n",
       "      <td>0</td>\n",
       "      <td>2</td>\n",
       "      <td>6</td>\n",
       "      <td>0</td>\n",
       "      <td>0</td>\n",
       "      <td>1</td>\n",
       "    </tr>\n",
       "    <tr>\n",
       "      <th>4</th>\n",
       "      <td>23.71</td>\n",
       "      <td>0</td>\n",
       "      <td>0</td>\n",
       "      <td>0</td>\n",
       "      <td>28</td>\n",
       "      <td>0</td>\n",
       "      <td>1</td>\n",
       "      <td>0</td>\n",
       "      <td>4</td>\n",
       "      <td>5</td>\n",
       "      <td>0</td>\n",
       "      <td>1</td>\n",
       "      <td>4</td>\n",
       "      <td>8</td>\n",
       "      <td>0</td>\n",
       "      <td>0</td>\n",
       "      <td>0</td>\n",
       "    </tr>\n",
       "    <tr>\n",
       "      <th>...</th>\n",
       "      <td>...</td>\n",
       "      <td>...</td>\n",
       "      <td>...</td>\n",
       "      <td>...</td>\n",
       "      <td>...</td>\n",
       "      <td>...</td>\n",
       "      <td>...</td>\n",
       "      <td>...</td>\n",
       "      <td>...</td>\n",
       "      <td>...</td>\n",
       "      <td>...</td>\n",
       "      <td>...</td>\n",
       "      <td>...</td>\n",
       "      <td>...</td>\n",
       "      <td>...</td>\n",
       "      <td>...</td>\n",
       "      <td>...</td>\n",
       "    </tr>\n",
       "    <tr>\n",
       "      <th>548907</th>\n",
       "      <td>35.43</td>\n",
       "      <td>0</td>\n",
       "      <td>0</td>\n",
       "      <td>0</td>\n",
       "      <td>0</td>\n",
       "      <td>0</td>\n",
       "      <td>0</td>\n",
       "      <td>0</td>\n",
       "      <td>12</td>\n",
       "      <td>5</td>\n",
       "      <td>0</td>\n",
       "      <td>1</td>\n",
       "      <td>4</td>\n",
       "      <td>5</td>\n",
       "      <td>0</td>\n",
       "      <td>0</td>\n",
       "      <td>1</td>\n",
       "    </tr>\n",
       "    <tr>\n",
       "      <th>548908</th>\n",
       "      <td>23.01</td>\n",
       "      <td>1</td>\n",
       "      <td>0</td>\n",
       "      <td>0</td>\n",
       "      <td>0</td>\n",
       "      <td>20</td>\n",
       "      <td>0</td>\n",
       "      <td>1</td>\n",
       "      <td>8</td>\n",
       "      <td>5</td>\n",
       "      <td>0</td>\n",
       "      <td>1</td>\n",
       "      <td>4</td>\n",
       "      <td>6</td>\n",
       "      <td>0</td>\n",
       "      <td>0</td>\n",
       "      <td>0</td>\n",
       "    </tr>\n",
       "    <tr>\n",
       "      <th>548909</th>\n",
       "      <td>30.80</td>\n",
       "      <td>0</td>\n",
       "      <td>0</td>\n",
       "      <td>0</td>\n",
       "      <td>0</td>\n",
       "      <td>0</td>\n",
       "      <td>0</td>\n",
       "      <td>0</td>\n",
       "      <td>10</td>\n",
       "      <td>4</td>\n",
       "      <td>2</td>\n",
       "      <td>0</td>\n",
       "      <td>2</td>\n",
       "      <td>5</td>\n",
       "      <td>0</td>\n",
       "      <td>0</td>\n",
       "      <td>0</td>\n",
       "    </tr>\n",
       "    <tr>\n",
       "      <th>548910</th>\n",
       "      <td>44.63</td>\n",
       "      <td>0</td>\n",
       "      <td>0</td>\n",
       "      <td>0</td>\n",
       "      <td>0</td>\n",
       "      <td>7</td>\n",
       "      <td>1</td>\n",
       "      <td>0</td>\n",
       "      <td>9</td>\n",
       "      <td>2</td>\n",
       "      <td>2</td>\n",
       "      <td>0</td>\n",
       "      <td>2</td>\n",
       "      <td>8</td>\n",
       "      <td>0</td>\n",
       "      <td>0</td>\n",
       "      <td>0</td>\n",
       "    </tr>\n",
       "    <tr>\n",
       "      <th>548911</th>\n",
       "      <td>30.90</td>\n",
       "      <td>0</td>\n",
       "      <td>0</td>\n",
       "      <td>0</td>\n",
       "      <td>0</td>\n",
       "      <td>10</td>\n",
       "      <td>1</td>\n",
       "      <td>0</td>\n",
       "      <td>9</td>\n",
       "      <td>5</td>\n",
       "      <td>0</td>\n",
       "      <td>1</td>\n",
       "      <td>2</td>\n",
       "      <td>8</td>\n",
       "      <td>0</td>\n",
       "      <td>0</td>\n",
       "      <td>0</td>\n",
       "    </tr>\n",
       "  </tbody>\n",
       "</table>\n",
       "<p>548912 rows × 17 columns</p>\n",
       "</div>"
      ],
      "text/plain": [
       "          BMI  Smoking  AlcoholDrinking  Stroke  PhysicalHealth  MentalHealth  \\\n",
       "0       16.60        1                0       0               3            30   \n",
       "1       20.34        0                0       1               0             0   \n",
       "2       26.58        1                0       0              20            30   \n",
       "3       24.21        0                0       0               0             0   \n",
       "4       23.71        0                0       0              28             0   \n",
       "...       ...      ...              ...     ...             ...           ...   \n",
       "548907  35.43        0                0       0               0             0   \n",
       "548908  23.01        1                0       0               0            20   \n",
       "548909  30.80        0                0       0               0             0   \n",
       "548910  44.63        0                0       0               0             7   \n",
       "548911  30.90        0                0       0               0            10   \n",
       "\n",
       "        DiffWalking  Sex  AgeCategory  Race  Diabetic  PhysicalActivity  \\\n",
       "0                 0    0            7     5         2                 1   \n",
       "1                 0    0           12     5         0                 1   \n",
       "2                 0    1            9     5         2                 1   \n",
       "3                 0    0           11     5         0                 0   \n",
       "4                 1    0            4     5         0                 1   \n",
       "...             ...  ...          ...   ...       ...               ...   \n",
       "548907            0    0           12     5         0                 1   \n",
       "548908            0    1            8     5         0                 1   \n",
       "548909            0    0           10     4         2                 0   \n",
       "548910            1    0            9     2         2                 0   \n",
       "548911            1    0            9     5         0                 1   \n",
       "\n",
       "        GenHealth  SleepTime  Asthma  KidneyDisease  SkinCancer  \n",
       "0               4          5       1              0           1  \n",
       "1               4          7       0              0           0  \n",
       "2               1          8       1              0           0  \n",
       "3               2          6       0              0           1  \n",
       "4               4          8       0              0           0  \n",
       "...           ...        ...     ...            ...         ...  \n",
       "548907          4          5       0              0           1  \n",
       "548908          4          6       0              0           0  \n",
       "548909          2          5       0              0           0  \n",
       "548910          2          8       0              0           0  \n",
       "548911          2          8       0              0           0  \n",
       "\n",
       "[548912 rows x 17 columns]"
      ]
     },
     "execution_count": 74,
     "metadata": {},
     "output_type": "execute_result"
    }
   ],
   "source": [
    "x_new"
   ]
  },
  {
   "cell_type": "code",
   "execution_count": 75,
   "id": "3dc3ec9b",
   "metadata": {},
   "outputs": [
    {
     "data": {
      "text/html": [
       "<div>\n",
       "<style scoped>\n",
       "    .dataframe tbody tr th:only-of-type {\n",
       "        vertical-align: middle;\n",
       "    }\n",
       "\n",
       "    .dataframe tbody tr th {\n",
       "        vertical-align: top;\n",
       "    }\n",
       "\n",
       "    .dataframe thead th {\n",
       "        text-align: right;\n",
       "    }\n",
       "</style>\n",
       "<table border=\"1\" class=\"dataframe\">\n",
       "  <thead>\n",
       "    <tr style=\"text-align: right;\">\n",
       "      <th></th>\n",
       "      <th>BMI</th>\n",
       "      <th>Smoking</th>\n",
       "      <th>AlcoholDrinking</th>\n",
       "      <th>Stroke</th>\n",
       "      <th>PhysicalHealth</th>\n",
       "      <th>MentalHealth</th>\n",
       "      <th>DiffWalking</th>\n",
       "      <th>Sex</th>\n",
       "      <th>AgeCategory</th>\n",
       "      <th>Race</th>\n",
       "      <th>Diabetic</th>\n",
       "      <th>PhysicalActivity</th>\n",
       "      <th>GenHealth</th>\n",
       "      <th>SleepTime</th>\n",
       "      <th>Asthma</th>\n",
       "      <th>KidneyDisease</th>\n",
       "      <th>SkinCancer</th>\n",
       "    </tr>\n",
       "  </thead>\n",
       "  <tbody>\n",
       "    <tr>\n",
       "      <th>0</th>\n",
       "      <td>16.60</td>\n",
       "      <td>1</td>\n",
       "      <td>0</td>\n",
       "      <td>0</td>\n",
       "      <td>3</td>\n",
       "      <td>30</td>\n",
       "      <td>0</td>\n",
       "      <td>0</td>\n",
       "      <td>7</td>\n",
       "      <td>5</td>\n",
       "      <td>2</td>\n",
       "      <td>1</td>\n",
       "      <td>4</td>\n",
       "      <td>5</td>\n",
       "      <td>1</td>\n",
       "      <td>0</td>\n",
       "      <td>1</td>\n",
       "    </tr>\n",
       "    <tr>\n",
       "      <th>1</th>\n",
       "      <td>20.34</td>\n",
       "      <td>0</td>\n",
       "      <td>0</td>\n",
       "      <td>1</td>\n",
       "      <td>0</td>\n",
       "      <td>0</td>\n",
       "      <td>0</td>\n",
       "      <td>0</td>\n",
       "      <td>12</td>\n",
       "      <td>5</td>\n",
       "      <td>0</td>\n",
       "      <td>1</td>\n",
       "      <td>4</td>\n",
       "      <td>7</td>\n",
       "      <td>0</td>\n",
       "      <td>0</td>\n",
       "      <td>0</td>\n",
       "    </tr>\n",
       "    <tr>\n",
       "      <th>2</th>\n",
       "      <td>26.58</td>\n",
       "      <td>1</td>\n",
       "      <td>0</td>\n",
       "      <td>0</td>\n",
       "      <td>20</td>\n",
       "      <td>30</td>\n",
       "      <td>0</td>\n",
       "      <td>1</td>\n",
       "      <td>9</td>\n",
       "      <td>5</td>\n",
       "      <td>2</td>\n",
       "      <td>1</td>\n",
       "      <td>1</td>\n",
       "      <td>8</td>\n",
       "      <td>1</td>\n",
       "      <td>0</td>\n",
       "      <td>0</td>\n",
       "    </tr>\n",
       "    <tr>\n",
       "      <th>3</th>\n",
       "      <td>24.21</td>\n",
       "      <td>0</td>\n",
       "      <td>0</td>\n",
       "      <td>0</td>\n",
       "      <td>0</td>\n",
       "      <td>0</td>\n",
       "      <td>0</td>\n",
       "      <td>0</td>\n",
       "      <td>11</td>\n",
       "      <td>5</td>\n",
       "      <td>0</td>\n",
       "      <td>0</td>\n",
       "      <td>2</td>\n",
       "      <td>6</td>\n",
       "      <td>0</td>\n",
       "      <td>0</td>\n",
       "      <td>1</td>\n",
       "    </tr>\n",
       "    <tr>\n",
       "      <th>4</th>\n",
       "      <td>23.71</td>\n",
       "      <td>0</td>\n",
       "      <td>0</td>\n",
       "      <td>0</td>\n",
       "      <td>28</td>\n",
       "      <td>0</td>\n",
       "      <td>1</td>\n",
       "      <td>0</td>\n",
       "      <td>4</td>\n",
       "      <td>5</td>\n",
       "      <td>0</td>\n",
       "      <td>1</td>\n",
       "      <td>4</td>\n",
       "      <td>8</td>\n",
       "      <td>0</td>\n",
       "      <td>0</td>\n",
       "      <td>0</td>\n",
       "    </tr>\n",
       "    <tr>\n",
       "      <th>...</th>\n",
       "      <td>...</td>\n",
       "      <td>...</td>\n",
       "      <td>...</td>\n",
       "      <td>...</td>\n",
       "      <td>...</td>\n",
       "      <td>...</td>\n",
       "      <td>...</td>\n",
       "      <td>...</td>\n",
       "      <td>...</td>\n",
       "      <td>...</td>\n",
       "      <td>...</td>\n",
       "      <td>...</td>\n",
       "      <td>...</td>\n",
       "      <td>...</td>\n",
       "      <td>...</td>\n",
       "      <td>...</td>\n",
       "      <td>...</td>\n",
       "    </tr>\n",
       "    <tr>\n",
       "      <th>548907</th>\n",
       "      <td>35.43</td>\n",
       "      <td>0</td>\n",
       "      <td>0</td>\n",
       "      <td>0</td>\n",
       "      <td>0</td>\n",
       "      <td>0</td>\n",
       "      <td>0</td>\n",
       "      <td>0</td>\n",
       "      <td>12</td>\n",
       "      <td>5</td>\n",
       "      <td>0</td>\n",
       "      <td>1</td>\n",
       "      <td>4</td>\n",
       "      <td>5</td>\n",
       "      <td>0</td>\n",
       "      <td>0</td>\n",
       "      <td>1</td>\n",
       "    </tr>\n",
       "    <tr>\n",
       "      <th>548908</th>\n",
       "      <td>23.01</td>\n",
       "      <td>1</td>\n",
       "      <td>0</td>\n",
       "      <td>0</td>\n",
       "      <td>0</td>\n",
       "      <td>20</td>\n",
       "      <td>0</td>\n",
       "      <td>1</td>\n",
       "      <td>8</td>\n",
       "      <td>5</td>\n",
       "      <td>0</td>\n",
       "      <td>1</td>\n",
       "      <td>4</td>\n",
       "      <td>6</td>\n",
       "      <td>0</td>\n",
       "      <td>0</td>\n",
       "      <td>0</td>\n",
       "    </tr>\n",
       "    <tr>\n",
       "      <th>548909</th>\n",
       "      <td>30.80</td>\n",
       "      <td>0</td>\n",
       "      <td>0</td>\n",
       "      <td>0</td>\n",
       "      <td>0</td>\n",
       "      <td>0</td>\n",
       "      <td>0</td>\n",
       "      <td>0</td>\n",
       "      <td>10</td>\n",
       "      <td>4</td>\n",
       "      <td>2</td>\n",
       "      <td>0</td>\n",
       "      <td>2</td>\n",
       "      <td>5</td>\n",
       "      <td>0</td>\n",
       "      <td>0</td>\n",
       "      <td>0</td>\n",
       "    </tr>\n",
       "    <tr>\n",
       "      <th>548910</th>\n",
       "      <td>44.63</td>\n",
       "      <td>0</td>\n",
       "      <td>0</td>\n",
       "      <td>0</td>\n",
       "      <td>0</td>\n",
       "      <td>7</td>\n",
       "      <td>1</td>\n",
       "      <td>0</td>\n",
       "      <td>9</td>\n",
       "      <td>2</td>\n",
       "      <td>2</td>\n",
       "      <td>0</td>\n",
       "      <td>2</td>\n",
       "      <td>8</td>\n",
       "      <td>0</td>\n",
       "      <td>0</td>\n",
       "      <td>0</td>\n",
       "    </tr>\n",
       "    <tr>\n",
       "      <th>548911</th>\n",
       "      <td>30.90</td>\n",
       "      <td>0</td>\n",
       "      <td>0</td>\n",
       "      <td>0</td>\n",
       "      <td>0</td>\n",
       "      <td>10</td>\n",
       "      <td>1</td>\n",
       "      <td>0</td>\n",
       "      <td>9</td>\n",
       "      <td>5</td>\n",
       "      <td>0</td>\n",
       "      <td>1</td>\n",
       "      <td>2</td>\n",
       "      <td>8</td>\n",
       "      <td>0</td>\n",
       "      <td>0</td>\n",
       "      <td>0</td>\n",
       "    </tr>\n",
       "  </tbody>\n",
       "</table>\n",
       "<p>548912 rows × 17 columns</p>\n",
       "</div>"
      ],
      "text/plain": [
       "          BMI  Smoking  AlcoholDrinking  Stroke  PhysicalHealth  MentalHealth  \\\n",
       "0       16.60        1                0       0               3            30   \n",
       "1       20.34        0                0       1               0             0   \n",
       "2       26.58        1                0       0              20            30   \n",
       "3       24.21        0                0       0               0             0   \n",
       "4       23.71        0                0       0              28             0   \n",
       "...       ...      ...              ...     ...             ...           ...   \n",
       "548907  35.43        0                0       0               0             0   \n",
       "548908  23.01        1                0       0               0            20   \n",
       "548909  30.80        0                0       0               0             0   \n",
       "548910  44.63        0                0       0               0             7   \n",
       "548911  30.90        0                0       0               0            10   \n",
       "\n",
       "        DiffWalking  Sex  AgeCategory  Race  Diabetic  PhysicalActivity  \\\n",
       "0                 0    0            7     5         2                 1   \n",
       "1                 0    0           12     5         0                 1   \n",
       "2                 0    1            9     5         2                 1   \n",
       "3                 0    0           11     5         0                 0   \n",
       "4                 1    0            4     5         0                 1   \n",
       "...             ...  ...          ...   ...       ...               ...   \n",
       "548907            0    0           12     5         0                 1   \n",
       "548908            0    1            8     5         0                 1   \n",
       "548909            0    0           10     4         2                 0   \n",
       "548910            1    0            9     2         2                 0   \n",
       "548911            1    0            9     5         0                 1   \n",
       "\n",
       "        GenHealth  SleepTime  Asthma  KidneyDisease  SkinCancer  \n",
       "0               4          5       1              0           1  \n",
       "1               4          7       0              0           0  \n",
       "2               1          8       1              0           0  \n",
       "3               2          6       0              0           1  \n",
       "4               4          8       0              0           0  \n",
       "...           ...        ...     ...            ...         ...  \n",
       "548907          4          5       0              0           1  \n",
       "548908          4          6       0              0           0  \n",
       "548909          2          5       0              0           0  \n",
       "548910          2          8       0              0           0  \n",
       "548911          2          8       0              0           0  \n",
       "\n",
       "[548912 rows x 17 columns]"
      ]
     },
     "execution_count": 75,
     "metadata": {},
     "output_type": "execute_result"
    }
   ],
   "source": [
    "x4_new"
   ]
  },
  {
   "cell_type": "code",
   "execution_count": 76,
   "id": "6f3828ad",
   "metadata": {},
   "outputs": [],
   "source": [
    "y1_new=y2_new=y3_new=y4_new=y5_new=y6_new=y7_new=y8_new=y9_new=y_new"
   ]
  },
  {
   "cell_type": "code",
   "execution_count": 77,
   "id": "29e68a7e",
   "metadata": {},
   "outputs": [
    {
     "data": {
      "text/plain": [
       "0         0\n",
       "1         0\n",
       "2         0\n",
       "3         0\n",
       "4         0\n",
       "         ..\n",
       "548907    1\n",
       "548908    1\n",
       "548909    1\n",
       "548910    1\n",
       "548911    1\n",
       "Name: HeartDisease, Length: 548912, dtype: int32"
      ]
     },
     "execution_count": 77,
     "metadata": {},
     "output_type": "execute_result"
    }
   ],
   "source": [
    "y_new"
   ]
  },
  {
   "cell_type": "code",
   "execution_count": 78,
   "id": "e7cc9164",
   "metadata": {},
   "outputs": [
    {
     "data": {
      "text/plain": [
       "0         0\n",
       "1         0\n",
       "2         0\n",
       "3         0\n",
       "4         0\n",
       "         ..\n",
       "548907    1\n",
       "548908    1\n",
       "548909    1\n",
       "548910    1\n",
       "548911    1\n",
       "Name: HeartDisease, Length: 548912, dtype: int32"
      ]
     },
     "execution_count": 78,
     "metadata": {},
     "output_type": "execute_result"
    }
   ],
   "source": [
    "y5_new"
   ]
  },
  {
   "cell_type": "code",
   "execution_count": 79,
   "id": "4d72757a",
   "metadata": {},
   "outputs": [
    {
     "data": {
      "text/plain": [
       "(548912, 17)"
      ]
     },
     "execution_count": 79,
     "metadata": {},
     "output_type": "execute_result"
    }
   ],
   "source": [
    "x_new.shape"
   ]
  },
  {
   "cell_type": "code",
   "execution_count": 80,
   "id": "63100383",
   "metadata": {},
   "outputs": [
    {
     "data": {
      "text/plain": [
       "(548912,)"
      ]
     },
     "execution_count": 80,
     "metadata": {},
     "output_type": "execute_result"
    }
   ],
   "source": [
    "y_new.shape"
   ]
  },
  {
   "cell_type": "code",
   "execution_count": 81,
   "id": "96d73b8b",
   "metadata": {},
   "outputs": [
    {
     "data": {
      "text/plain": [
       "0    274456\n",
       "1    274456\n",
       "Name: HeartDisease, dtype: int64"
      ]
     },
     "execution_count": 81,
     "metadata": {},
     "output_type": "execute_result"
    }
   ],
   "source": [
    "y_new.value_counts()"
   ]
  },
  {
   "cell_type": "code",
   "execution_count": 82,
   "id": "52967eeb",
   "metadata": {},
   "outputs": [
    {
     "data": {
      "text/html": [
       "<div>\n",
       "<style scoped>\n",
       "    .dataframe tbody tr th:only-of-type {\n",
       "        vertical-align: middle;\n",
       "    }\n",
       "\n",
       "    .dataframe tbody tr th {\n",
       "        vertical-align: top;\n",
       "    }\n",
       "\n",
       "    .dataframe thead th {\n",
       "        text-align: right;\n",
       "    }\n",
       "</style>\n",
       "<table border=\"1\" class=\"dataframe\">\n",
       "  <thead>\n",
       "    <tr style=\"text-align: right;\">\n",
       "      <th></th>\n",
       "      <th>BMI</th>\n",
       "      <th>Smoking</th>\n",
       "      <th>AlcoholDrinking</th>\n",
       "      <th>Stroke</th>\n",
       "      <th>PhysicalHealth</th>\n",
       "      <th>MentalHealth</th>\n",
       "      <th>DiffWalking</th>\n",
       "      <th>Sex</th>\n",
       "      <th>AgeCategory</th>\n",
       "      <th>Race</th>\n",
       "      <th>Diabetic</th>\n",
       "      <th>PhysicalActivity</th>\n",
       "      <th>GenHealth</th>\n",
       "      <th>SleepTime</th>\n",
       "      <th>Asthma</th>\n",
       "      <th>KidneyDisease</th>\n",
       "      <th>SkinCancer</th>\n",
       "    </tr>\n",
       "  </thead>\n",
       "  <tbody>\n",
       "    <tr>\n",
       "      <th>0</th>\n",
       "      <td>16.60</td>\n",
       "      <td>1</td>\n",
       "      <td>0</td>\n",
       "      <td>0</td>\n",
       "      <td>3</td>\n",
       "      <td>30</td>\n",
       "      <td>0</td>\n",
       "      <td>0</td>\n",
       "      <td>7</td>\n",
       "      <td>5</td>\n",
       "      <td>2</td>\n",
       "      <td>1</td>\n",
       "      <td>4</td>\n",
       "      <td>5</td>\n",
       "      <td>1</td>\n",
       "      <td>0</td>\n",
       "      <td>1</td>\n",
       "    </tr>\n",
       "    <tr>\n",
       "      <th>1</th>\n",
       "      <td>20.34</td>\n",
       "      <td>0</td>\n",
       "      <td>0</td>\n",
       "      <td>1</td>\n",
       "      <td>0</td>\n",
       "      <td>0</td>\n",
       "      <td>0</td>\n",
       "      <td>0</td>\n",
       "      <td>12</td>\n",
       "      <td>5</td>\n",
       "      <td>0</td>\n",
       "      <td>1</td>\n",
       "      <td>4</td>\n",
       "      <td>7</td>\n",
       "      <td>0</td>\n",
       "      <td>0</td>\n",
       "      <td>0</td>\n",
       "    </tr>\n",
       "    <tr>\n",
       "      <th>2</th>\n",
       "      <td>26.58</td>\n",
       "      <td>1</td>\n",
       "      <td>0</td>\n",
       "      <td>0</td>\n",
       "      <td>20</td>\n",
       "      <td>30</td>\n",
       "      <td>0</td>\n",
       "      <td>1</td>\n",
       "      <td>9</td>\n",
       "      <td>5</td>\n",
       "      <td>2</td>\n",
       "      <td>1</td>\n",
       "      <td>1</td>\n",
       "      <td>8</td>\n",
       "      <td>1</td>\n",
       "      <td>0</td>\n",
       "      <td>0</td>\n",
       "    </tr>\n",
       "    <tr>\n",
       "      <th>3</th>\n",
       "      <td>24.21</td>\n",
       "      <td>0</td>\n",
       "      <td>0</td>\n",
       "      <td>0</td>\n",
       "      <td>0</td>\n",
       "      <td>0</td>\n",
       "      <td>0</td>\n",
       "      <td>0</td>\n",
       "      <td>11</td>\n",
       "      <td>5</td>\n",
       "      <td>0</td>\n",
       "      <td>0</td>\n",
       "      <td>2</td>\n",
       "      <td>6</td>\n",
       "      <td>0</td>\n",
       "      <td>0</td>\n",
       "      <td>1</td>\n",
       "    </tr>\n",
       "    <tr>\n",
       "      <th>4</th>\n",
       "      <td>23.71</td>\n",
       "      <td>0</td>\n",
       "      <td>0</td>\n",
       "      <td>0</td>\n",
       "      <td>28</td>\n",
       "      <td>0</td>\n",
       "      <td>1</td>\n",
       "      <td>0</td>\n",
       "      <td>4</td>\n",
       "      <td>5</td>\n",
       "      <td>0</td>\n",
       "      <td>1</td>\n",
       "      <td>4</td>\n",
       "      <td>8</td>\n",
       "      <td>0</td>\n",
       "      <td>0</td>\n",
       "      <td>0</td>\n",
       "    </tr>\n",
       "    <tr>\n",
       "      <th>...</th>\n",
       "      <td>...</td>\n",
       "      <td>...</td>\n",
       "      <td>...</td>\n",
       "      <td>...</td>\n",
       "      <td>...</td>\n",
       "      <td>...</td>\n",
       "      <td>...</td>\n",
       "      <td>...</td>\n",
       "      <td>...</td>\n",
       "      <td>...</td>\n",
       "      <td>...</td>\n",
       "      <td>...</td>\n",
       "      <td>...</td>\n",
       "      <td>...</td>\n",
       "      <td>...</td>\n",
       "      <td>...</td>\n",
       "      <td>...</td>\n",
       "    </tr>\n",
       "    <tr>\n",
       "      <th>548907</th>\n",
       "      <td>35.43</td>\n",
       "      <td>0</td>\n",
       "      <td>0</td>\n",
       "      <td>0</td>\n",
       "      <td>0</td>\n",
       "      <td>0</td>\n",
       "      <td>0</td>\n",
       "      <td>0</td>\n",
       "      <td>12</td>\n",
       "      <td>5</td>\n",
       "      <td>0</td>\n",
       "      <td>1</td>\n",
       "      <td>4</td>\n",
       "      <td>5</td>\n",
       "      <td>0</td>\n",
       "      <td>0</td>\n",
       "      <td>1</td>\n",
       "    </tr>\n",
       "    <tr>\n",
       "      <th>548908</th>\n",
       "      <td>23.01</td>\n",
       "      <td>1</td>\n",
       "      <td>0</td>\n",
       "      <td>0</td>\n",
       "      <td>0</td>\n",
       "      <td>20</td>\n",
       "      <td>0</td>\n",
       "      <td>1</td>\n",
       "      <td>8</td>\n",
       "      <td>5</td>\n",
       "      <td>0</td>\n",
       "      <td>1</td>\n",
       "      <td>4</td>\n",
       "      <td>6</td>\n",
       "      <td>0</td>\n",
       "      <td>0</td>\n",
       "      <td>0</td>\n",
       "    </tr>\n",
       "    <tr>\n",
       "      <th>548909</th>\n",
       "      <td>30.80</td>\n",
       "      <td>0</td>\n",
       "      <td>0</td>\n",
       "      <td>0</td>\n",
       "      <td>0</td>\n",
       "      <td>0</td>\n",
       "      <td>0</td>\n",
       "      <td>0</td>\n",
       "      <td>10</td>\n",
       "      <td>4</td>\n",
       "      <td>2</td>\n",
       "      <td>0</td>\n",
       "      <td>2</td>\n",
       "      <td>5</td>\n",
       "      <td>0</td>\n",
       "      <td>0</td>\n",
       "      <td>0</td>\n",
       "    </tr>\n",
       "    <tr>\n",
       "      <th>548910</th>\n",
       "      <td>44.63</td>\n",
       "      <td>0</td>\n",
       "      <td>0</td>\n",
       "      <td>0</td>\n",
       "      <td>0</td>\n",
       "      <td>7</td>\n",
       "      <td>1</td>\n",
       "      <td>0</td>\n",
       "      <td>9</td>\n",
       "      <td>2</td>\n",
       "      <td>2</td>\n",
       "      <td>0</td>\n",
       "      <td>2</td>\n",
       "      <td>8</td>\n",
       "      <td>0</td>\n",
       "      <td>0</td>\n",
       "      <td>0</td>\n",
       "    </tr>\n",
       "    <tr>\n",
       "      <th>548911</th>\n",
       "      <td>30.90</td>\n",
       "      <td>0</td>\n",
       "      <td>0</td>\n",
       "      <td>0</td>\n",
       "      <td>0</td>\n",
       "      <td>10</td>\n",
       "      <td>1</td>\n",
       "      <td>0</td>\n",
       "      <td>9</td>\n",
       "      <td>5</td>\n",
       "      <td>0</td>\n",
       "      <td>1</td>\n",
       "      <td>2</td>\n",
       "      <td>8</td>\n",
       "      <td>0</td>\n",
       "      <td>0</td>\n",
       "      <td>0</td>\n",
       "    </tr>\n",
       "  </tbody>\n",
       "</table>\n",
       "<p>548912 rows × 17 columns</p>\n",
       "</div>"
      ],
      "text/plain": [
       "          BMI  Smoking  AlcoholDrinking  Stroke  PhysicalHealth  MentalHealth  \\\n",
       "0       16.60        1                0       0               3            30   \n",
       "1       20.34        0                0       1               0             0   \n",
       "2       26.58        1                0       0              20            30   \n",
       "3       24.21        0                0       0               0             0   \n",
       "4       23.71        0                0       0              28             0   \n",
       "...       ...      ...              ...     ...             ...           ...   \n",
       "548907  35.43        0                0       0               0             0   \n",
       "548908  23.01        1                0       0               0            20   \n",
       "548909  30.80        0                0       0               0             0   \n",
       "548910  44.63        0                0       0               0             7   \n",
       "548911  30.90        0                0       0               0            10   \n",
       "\n",
       "        DiffWalking  Sex  AgeCategory  Race  Diabetic  PhysicalActivity  \\\n",
       "0                 0    0            7     5         2                 1   \n",
       "1                 0    0           12     5         0                 1   \n",
       "2                 0    1            9     5         2                 1   \n",
       "3                 0    0           11     5         0                 0   \n",
       "4                 1    0            4     5         0                 1   \n",
       "...             ...  ...          ...   ...       ...               ...   \n",
       "548907            0    0           12     5         0                 1   \n",
       "548908            0    1            8     5         0                 1   \n",
       "548909            0    0           10     4         2                 0   \n",
       "548910            1    0            9     2         2                 0   \n",
       "548911            1    0            9     5         0                 1   \n",
       "\n",
       "        GenHealth  SleepTime  Asthma  KidneyDisease  SkinCancer  \n",
       "0               4          5       1              0           1  \n",
       "1               4          7       0              0           0  \n",
       "2               1          8       1              0           0  \n",
       "3               2          6       0              0           1  \n",
       "4               4          8       0              0           0  \n",
       "...           ...        ...     ...            ...         ...  \n",
       "548907          4          5       0              0           1  \n",
       "548908          4          6       0              0           0  \n",
       "548909          2          5       0              0           0  \n",
       "548910          2          8       0              0           0  \n",
       "548911          2          8       0              0           0  \n",
       "\n",
       "[548912 rows x 17 columns]"
      ]
     },
     "execution_count": 82,
     "metadata": {},
     "output_type": "execute_result"
    }
   ],
   "source": [
    "x_new"
   ]
  },
  {
   "cell_type": "code",
   "execution_count": 83,
   "id": "6c5918ba",
   "metadata": {},
   "outputs": [
    {
     "data": {
      "text/plain": [
       "0         0\n",
       "1         0\n",
       "2         0\n",
       "3         0\n",
       "4         0\n",
       "         ..\n",
       "548907    1\n",
       "548908    1\n",
       "548909    1\n",
       "548910    1\n",
       "548911    1\n",
       "Name: HeartDisease, Length: 548912, dtype: int32"
      ]
     },
     "execution_count": 83,
     "metadata": {},
     "output_type": "execute_result"
    }
   ],
   "source": [
    "y_new"
   ]
  },
  {
   "cell_type": "markdown",
   "id": "d6d0fe59",
   "metadata": {},
   "source": [
    "# All about DecisionTreeClassifier with Hold out cross validation ,KFold cross validation,stratified k fold cross validation"
   ]
  },
  {
   "cell_type": "markdown",
   "id": "25db7907",
   "metadata": {},
   "source": [
    "# Hold out Cross validation for over sampling"
   ]
  },
  {
   "cell_type": "code",
   "execution_count": 84,
   "id": "caf2ced9",
   "metadata": {},
   "outputs": [],
   "source": [
    "from sklearn.tree import DecisionTreeClassifier\n",
    "\n",
    "dtc=DecisionTreeClassifier()"
   ]
  },
  {
   "cell_type": "code",
   "execution_count": 85,
   "id": "d1845ee1",
   "metadata": {},
   "outputs": [],
   "source": [
    "from sklearn.model_selection import train_test_split "
   ]
  },
  {
   "cell_type": "code",
   "execution_count": 86,
   "id": "5f1e6cf2",
   "metadata": {},
   "outputs": [
    {
     "data": {
      "text/plain": [
       "DecisionTreeClassifier()"
      ]
     },
     "execution_count": 86,
     "metadata": {},
     "output_type": "execute_result"
    }
   ],
   "source": [
    "over_xtrain,over_xtest,over_ytrain,over_ytest = train_test_split(x_new,y_new,test_size = 0.30 ,random_state =42)\n",
    "dtc.fit(over_xtrain,over_ytrain)"
   ]
  },
  {
   "cell_type": "code",
   "execution_count": 87,
   "id": "c59b16f6",
   "metadata": {},
   "outputs": [
    {
     "data": {
      "text/plain": [
       "0.9478181133633725"
      ]
     },
     "execution_count": 87,
     "metadata": {},
     "output_type": "execute_result"
    }
   ],
   "source": [
    "OverSampleing_dataset_accuracy = dtc.score(over_xtest,over_ytest)\n",
    "\n",
    "OverSampleing_dataset_accuracy"
   ]
  },
  {
   "cell_type": "markdown",
   "id": "b837bebe",
   "metadata": {},
   "source": [
    "# KFold Cross Validation for Over sampling"
   ]
  },
  {
   "cell_type": "code",
   "execution_count": 88,
   "id": "d9269bf3",
   "metadata": {},
   "outputs": [],
   "source": [
    "from sklearn.model_selection import KFold, cross_val_score\n",
    "\n",
    "kfold = KFold(n_splits = 10)"
   ]
  },
  {
   "cell_type": "code",
   "execution_count": 89,
   "id": "fe008a72",
   "metadata": {},
   "outputs": [
    {
     "data": {
      "text/plain": [
       "array([0.91461415, 0.91379436, 0.9154324 , 0.9205152 , 0.91778251,\n",
       "       0.96046711, 1.        , 1.        , 1.        , 1.        ])"
      ]
     },
     "execution_count": 89,
     "metadata": {},
     "output_type": "execute_result"
    }
   ],
   "source": [
    "OverSampleingDataset_kfold_result = cross_val_score(dtc,x_new,y_new,cv = kfold)\n",
    "\n",
    "OverSampleingDataset_kfold_result"
   ]
  },
  {
   "cell_type": "code",
   "execution_count": 90,
   "id": "224cc2d1",
   "metadata": {},
   "outputs": [
    {
     "data": {
      "text/plain": [
       "0.9137943598338556"
      ]
     },
     "execution_count": 90,
     "metadata": {},
     "output_type": "execute_result"
    }
   ],
   "source": [
    "OverSampleingDataset_kfold_result.min()"
   ]
  },
  {
   "cell_type": "code",
   "execution_count": 91,
   "id": "0d0b9218",
   "metadata": {},
   "outputs": [
    {
     "data": {
      "text/plain": [
       "1.0"
      ]
     },
     "execution_count": 91,
     "metadata": {},
     "output_type": "execute_result"
    }
   ],
   "source": [
    "OverSampleingDataset_kfold_result.max()"
   ]
  },
  {
   "cell_type": "code",
   "execution_count": 92,
   "id": "aca549f0",
   "metadata": {},
   "outputs": [
    {
     "data": {
      "text/plain": [
       "0.9542605738490622"
      ]
     },
     "execution_count": 92,
     "metadata": {},
     "output_type": "execute_result"
    }
   ],
   "source": [
    "OverSampleingDataset_kfold_result.mean()"
   ]
  },
  {
   "cell_type": "markdown",
   "id": "600c93ff",
   "metadata": {},
   "source": [
    "# StratiFied KFold cross validation for Over sampling"
   ]
  },
  {
   "cell_type": "code",
   "execution_count": 93,
   "id": "184586f7",
   "metadata": {},
   "outputs": [],
   "source": [
    "from sklearn.model_selection import StratifiedKFold\n",
    "\n",
    "Stf_Kfold = StratifiedKFold(n_splits = 10)\n"
   ]
  },
  {
   "cell_type": "code",
   "execution_count": 94,
   "id": "d97968a3",
   "metadata": {},
   "outputs": [
    {
     "data": {
      "text/plain": [
       "array([0.95693362, 0.95587699, 0.95769798, 0.95684174, 0.95724254,\n",
       "       0.95434589, 0.96108652, 0.95257875, 0.95973839, 0.95605837])"
      ]
     },
     "execution_count": 94,
     "metadata": {},
     "output_type": "execute_result"
    }
   ],
   "source": [
    "OverSampleingDataset_Sf_kfold_result = cross_val_score(dtc,x_new,y_new,cv = Stf_Kfold)\n",
    "\n",
    "OverSampleingDataset_Sf_kfold_result"
   ]
  },
  {
   "cell_type": "code",
   "execution_count": 95,
   "id": "de84ae93",
   "metadata": {},
   "outputs": [
    {
     "data": {
      "text/plain": [
       "0.9525787469712703"
      ]
     },
     "execution_count": 95,
     "metadata": {},
     "output_type": "execute_result"
    }
   ],
   "source": [
    "OverSampleingDataset_Sf_kfold_result.min()"
   ]
  },
  {
   "cell_type": "code",
   "execution_count": 96,
   "id": "cdeddefa",
   "metadata": {},
   "outputs": [
    {
     "data": {
      "text/plain": [
       "0.9610865169153413"
      ]
     },
     "execution_count": 96,
     "metadata": {},
     "output_type": "execute_result"
    }
   ],
   "source": [
    "OverSampleingDataset_Sf_kfold_result.max()"
   ]
  },
  {
   "cell_type": "code",
   "execution_count": 97,
   "id": "f9b20faf",
   "metadata": {},
   "outputs": [
    {
     "data": {
      "text/plain": [
       "0.9568400779533803"
      ]
     },
     "execution_count": 97,
     "metadata": {},
     "output_type": "execute_result"
    }
   ],
   "source": [
    "OverSampleingDataset_Sf_kfold_result.mean()"
   ]
  },
  {
   "cell_type": "markdown",
   "id": "e9586c3d",
   "metadata": {},
   "source": [
    "# Hence we see that StratiFied KFold C.V and Over sampling give the best accuracy"
   ]
  },
  {
   "cell_type": "markdown",
   "id": "fb4c5de9",
   "metadata": {},
   "source": [
    "# Now from over sampling ,We draw DecisionTreeModel and calculate all confusion matrix performance"
   ]
  },
  {
   "cell_type": "code",
   "execution_count": 98,
   "id": "a84e80e3",
   "metadata": {},
   "outputs": [
    {
     "data": {
      "text/plain": [
       "DecisionTreeClassifier()"
      ]
     },
     "execution_count": 98,
     "metadata": {},
     "output_type": "execute_result"
    }
   ],
   "source": [
    "dtc.fit(over_xtrain,over_ytrain)"
   ]
  },
  {
   "cell_type": "markdown",
   "id": "5a2a02f9",
   "metadata": {},
   "source": [
    "# Model Evaluating Performance of confusion matrix"
   ]
  },
  {
   "cell_type": "code",
   "execution_count": 99,
   "id": "6b313522",
   "metadata": {},
   "outputs": [
    {
     "data": {
      "text/plain": [
       "array([1, 1, 0, ..., 1, 1, 0])"
      ]
     },
     "execution_count": 99,
     "metadata": {},
     "output_type": "execute_result"
    }
   ],
   "source": [
    "pred_y=dtc.predict(over_xtest)#Predicted Class \n",
    "pred_y"
   ]
  },
  {
   "cell_type": "code",
   "execution_count": 100,
   "id": "8fcae1b8",
   "metadata": {},
   "outputs": [
    {
     "data": {
      "text/plain": [
       "374936    1\n",
       "319916    1\n",
       "56188     0\n",
       "444156    1\n",
       "170814    0\n",
       "         ..\n",
       "285161    0\n",
       "217312    1\n",
       "353792    1\n",
       "318432    1\n",
       "216193    0\n",
       "Name: HeartDisease, Length: 164674, dtype: int32"
      ]
     },
     "execution_count": 100,
     "metadata": {},
     "output_type": "execute_result"
    }
   ],
   "source": [
    "over_ytest"
   ]
  },
  {
   "cell_type": "code",
   "execution_count": 101,
   "id": "c3e65363",
   "metadata": {},
   "outputs": [
    {
     "data": {
      "text/plain": [
       "array([1, 1, 0, ..., 1, 1, 0])"
      ]
     },
     "execution_count": 101,
     "metadata": {},
     "output_type": "execute_result"
    }
   ],
   "source": [
    "np.array(over_ytest) #actual class/y"
   ]
  },
  {
   "cell_type": "code",
   "execution_count": 102,
   "id": "f8bc0203",
   "metadata": {},
   "outputs": [],
   "source": [
    "from sklearn.metrics import classification_report,accuracy_score,confusion_matrix,plot_roc_curve"
   ]
  },
  {
   "cell_type": "code",
   "execution_count": 103,
   "id": "07c72dd8",
   "metadata": {},
   "outputs": [
    {
     "name": "stdout",
     "output_type": "stream",
     "text": [
      "              precision    recall  f1-score   support\n",
      "\n",
      "           0       1.00      0.90      0.94     82143\n",
      "           1       0.91      1.00      0.95     82531\n",
      "\n",
      "    accuracy                           0.95    164674\n",
      "   macro avg       0.95      0.95      0.95    164674\n",
      "weighted avg       0.95      0.95      0.95    164674\n",
      "\n"
     ]
    }
   ],
   "source": [
    "print(classification_report(over_ytest,pred_y))"
   ]
  },
  {
   "cell_type": "code",
   "execution_count": 104,
   "id": "1ed1a60b",
   "metadata": {},
   "outputs": [
    {
     "data": {
      "text/plain": [
       "array([[73574,  8569],\n",
       "       [   58, 82473]], dtype=int64)"
      ]
     },
     "execution_count": 104,
     "metadata": {},
     "output_type": "execute_result"
    }
   ],
   "source": [
    "cm=confusion_matrix(over_ytest,pred_y)\n",
    "cm"
   ]
  },
  {
   "cell_type": "markdown",
   "id": "e122689d",
   "metadata": {},
   "source": [
    "# Visualization with heatmap  performance of confussion matrix"
   ]
  },
  {
   "cell_type": "code",
   "execution_count": 105,
   "id": "d9dc2ad9",
   "metadata": {},
   "outputs": [
    {
     "data": {
      "text/plain": [
       "Text(33.0, 0.5, 'Actual Values')"
      ]
     },
     "execution_count": 105,
     "metadata": {},
     "output_type": "execute_result"
    },
    {
     "data": {
      "image/png": "[encoded data removed]",
      "text/plain": [
       "<Figure size 432x288 with 2 Axes>"
      ]
     },
     "metadata": {
      "needs_background": "light"
     },
     "output_type": "display_data"
    }
   ],
   "source": [
    "sns.heatmap(cm,annot=True)\n",
    "plt.xlabel('Predicted Values')\n",
    "plt.ylabel('Actual Values')"
   ]
  },
  {
   "cell_type": "code",
   "execution_count": 106,
   "id": "a7be9dc4",
   "metadata": {},
   "outputs": [],
   "source": [
    "tp,fn,fp,tn=confusion_matrix(over_ytest,pred_y).reshape(-1)"
   ]
  },
  {
   "cell_type": "code",
   "execution_count": 107,
   "id": "6ad562b4",
   "metadata": {},
   "outputs": [
    {
     "data": {
      "text/plain": [
       "73574"
      ]
     },
     "execution_count": 107,
     "metadata": {},
     "output_type": "execute_result"
    }
   ],
   "source": [
    "tp"
   ]
  },
  {
   "cell_type": "code",
   "execution_count": 108,
   "id": "4ef8eb0f",
   "metadata": {},
   "outputs": [
    {
     "data": {
      "text/plain": [
       "8569"
      ]
     },
     "execution_count": 108,
     "metadata": {},
     "output_type": "execute_result"
    }
   ],
   "source": [
    "fn"
   ]
  },
  {
   "cell_type": "code",
   "execution_count": 109,
   "id": "5c56f54d",
   "metadata": {},
   "outputs": [
    {
     "data": {
      "text/plain": [
       "58"
      ]
     },
     "execution_count": 109,
     "metadata": {},
     "output_type": "execute_result"
    }
   ],
   "source": [
    "fp"
   ]
  },
  {
   "cell_type": "code",
   "execution_count": 110,
   "id": "e0e94d7e",
   "metadata": {},
   "outputs": [
    {
     "data": {
      "text/plain": [
       "82473"
      ]
     },
     "execution_count": 110,
     "metadata": {},
     "output_type": "execute_result"
    }
   ],
   "source": [
    "tn"
   ]
  },
  {
   "cell_type": "code",
   "execution_count": 111,
   "id": "dffdcd1e",
   "metadata": {},
   "outputs": [
    {
     "data": {
      "text/plain": [
       "156047"
      ]
     },
     "execution_count": 111,
     "metadata": {},
     "output_type": "execute_result"
    }
   ],
   "source": [
    "(tp+tn)"
   ]
  },
  {
   "cell_type": "markdown",
   "id": "de56273d",
   "metadata": {},
   "source": [
    "# Accuracy"
   ]
  },
  {
   "cell_type": "code",
   "execution_count": 112,
   "id": "61c68070",
   "metadata": {},
   "outputs": [
    {
     "data": {
      "text/plain": [
       "0.9476116448255341"
      ]
     },
     "execution_count": 112,
     "metadata": {},
     "output_type": "execute_result"
    }
   ],
   "source": [
    "(tp+tn)/(tp+fn+fp+tn)"
   ]
  },
  {
   "cell_type": "markdown",
   "id": "f6715152",
   "metadata": {},
   "source": [
    "# Precision or positive predicted value(PPV)"
   ]
  },
  {
   "cell_type": "code",
   "execution_count": 113,
   "id": "0babac0b",
   "metadata": {},
   "outputs": [
    {
     "name": "stdout",
     "output_type": "stream",
     "text": [
      "0.9992122990004346\n"
     ]
    }
   ],
   "source": [
    "ppv = tp/(tp+fp)\n",
    "print(ppv)"
   ]
  },
  {
   "cell_type": "markdown",
   "id": "5a597bda",
   "metadata": {},
   "source": [
    "# True positive rate(TPR),Sensitivity,Recall,Hit Rate"
   ]
  },
  {
   "cell_type": "code",
   "execution_count": 114,
   "id": "4a63a999",
   "metadata": {},
   "outputs": [
    {
     "name": "stdout",
     "output_type": "stream",
     "text": [
      "0.8956819205531816\n"
     ]
    }
   ],
   "source": [
    "trp = tp/(tp+fn)\n",
    "print(trp)"
   ]
  },
  {
   "cell_type": "markdown",
   "id": "4d3cef09",
   "metadata": {},
   "source": [
    "# False positive rate(1-Specificity)"
   ]
  },
  {
   "cell_type": "code",
   "execution_count": 115,
   "id": "0efa767d",
   "metadata": {},
   "outputs": [
    {
     "name": "stdout",
     "output_type": "stream",
     "text": [
      "0.0007027662332941561\n"
     ]
    }
   ],
   "source": [
    "fpr = fp/(fp+tn)\n",
    "print(fpr)"
   ]
  },
  {
   "cell_type": "markdown",
   "id": "bc8fcd46",
   "metadata": {},
   "source": [
    "# F1-Score,Harmonic Mean"
   ]
  },
  {
   "cell_type": "code",
   "execution_count": 116,
   "id": "d9464219",
   "metadata": {},
   "outputs": [
    {
     "name": "stdout",
     "output_type": "stream",
     "text": [
      "0.9446188412774835\n"
     ]
    }
   ],
   "source": [
    "f1_score = (2*ppv*trp)/(ppv+trp)\n",
    "print(f1_score)"
   ]
  },
  {
   "cell_type": "markdown",
   "id": "3fb8d19e",
   "metadata": {},
   "source": [
    "# True nagative Rate(TNR),Specificity,Selectivity"
   ]
  },
  {
   "cell_type": "code",
   "execution_count": 117,
   "id": "5c304669",
   "metadata": {},
   "outputs": [
    {
     "name": "stdout",
     "output_type": "stream",
     "text": [
      "0.9992972337667059\n"
     ]
    }
   ],
   "source": [
    "tnr = tn/(tn+fp)\n",
    "print(tnr)"
   ]
  },
  {
   "cell_type": "markdown",
   "id": "ec23ff0c",
   "metadata": {},
   "source": [
    "# Critical sucvcess index(CSI),Threat Score(TS)"
   ]
  },
  {
   "cell_type": "code",
   "execution_count": 118,
   "id": "ac188f0b",
   "metadata": {},
   "outputs": [
    {
     "name": "stdout",
     "output_type": "stream",
     "text": [
      "0.8950499385652243\n"
     ]
    }
   ],
   "source": [
    "csi = tp/(tp+fn+fp)\n",
    "print(csi)"
   ]
  },
  {
   "cell_type": "markdown",
   "id": "dd1764da",
   "metadata": {},
   "source": [
    "# False discovery Rate(FDR)"
   ]
  },
  {
   "cell_type": "code",
   "execution_count": 119,
   "id": "f5f58ebd",
   "metadata": {},
   "outputs": [
    {
     "name": "stdout",
     "output_type": "stream",
     "text": [
      "0.0007877009995654064\n"
     ]
    }
   ],
   "source": [
    "fdr = fp/(tp+fp)\n",
    "print(fdr)"
   ]
  },
  {
   "cell_type": "markdown",
   "id": "a24a7982",
   "metadata": {},
   "source": [
    "# Roc and Auc curve for decision tree classifier"
   ]
  },
  {
   "cell_type": "code",
   "execution_count": 120,
   "id": "0600c4eb",
   "metadata": {},
   "outputs": [
    {
     "name": "stderr",
     "output_type": "stream",
     "text": [
      "C:\\Users\\WIN\\Anaconda3\\lib\\site-packages\\sklearn\\utils\\deprecation.py:87: FutureWarning: Function plot_roc_curve is deprecated; Function :func:`plot_roc_curve` is deprecated in 1.0 and will be removed in 1.2. Use one of the class methods: :meth:`sklearn.metric.RocCurveDisplay.from_predictions` or :meth:`sklearn.metric.RocCurveDisplay.from_estimator`.\n",
      "  warnings.warn(msg, category=FutureWarning)\n"
     ]
    },
    {
     "data": {
      "text/plain": [
       "[<matplotlib.lines.Line2D at 0x22d3f04f550>]"
      ]
     },
     "execution_count": 120,
     "metadata": {},
     "output_type": "execute_result"
    },
    {
     "data": {
      "image/png": "[encoded data removed]",
      "text/plain": [
       "<Figure size 432x288 with 1 Axes>"
      ]
     },
     "metadata": {
      "needs_background": "light"
     },
     "output_type": "display_data"
    }
   ],
   "source": [
    "plot_roc_curve(dtc,over_xtest,over_ytest,color='red')\n",
    "plt.plot([0,1],[0,1])"
   ]
  },
  {
   "cell_type": "markdown",
   "id": "80dc0c5a",
   "metadata": {},
   "source": [
    "# Now Optimizing DecisionTreeClassifier Algorithm"
   ]
  },
  {
   "cell_type": "markdown",
   "id": "79c34b6b",
   "metadata": {},
   "source": [
    "# Tuning DecisionTreeClassifier using Randomized Search CV"
   ]
  },
  {
   "cell_type": "code",
   "execution_count": 121,
   "id": "c4fefbae",
   "metadata": {},
   "outputs": [],
   "source": [
    "from sklearn.model_selection import RandomizedSearchCV"
   ]
  },
  {
   "cell_type": "markdown",
   "id": "88fb6651",
   "metadata": {},
   "source": [
    "# Assign Parameters"
   ]
  },
  {
   "cell_type": "code",
   "execution_count": 122,
   "id": "a6aef3f4",
   "metadata": {},
   "outputs": [],
   "source": [
    "splitter=['best','random']\n",
    "criterion=['gini','entropy']\n",
    "max_features=['auto','sqrt','log2']\n",
    "max_depth=np.random.randint(1,12,20)\n",
    "min_samples_split=np.random.randint(1,12,15)\n",
    "max_leaf_nodes=np.random.randint(1,12,15)\n",
    "\n",
    "\n",
    "parameters={\n",
    "    'splitter':splitter,\n",
    "    'criterion':criterion,\n",
    "    'max_features':max_features,\n",
    "    'max_depth':max_depth,\n",
    "    'min_samples_split':min_samples_split,\n",
    "    'max_leaf_nodes':max_leaf_nodes\n",
    "       \n",
    "}"
   ]
  },
  {
   "cell_type": "code",
   "execution_count": 123,
   "id": "85df3d37",
   "metadata": {},
   "outputs": [
    {
     "name": "stdout",
     "output_type": "stream",
     "text": [
      "{'splitter': ['best', 'random'], 'criterion': ['gini', 'entropy'], 'max_features': ['auto', 'sqrt', 'log2'], 'max_depth': array([ 8,  5,  4,  8,  4,  2,  2,  5, 11,  4,  3,  8,  6,  5,  6,  8,  1,\n",
      "        5,  9,  3]), 'min_samples_split': array([ 6,  7,  1,  9,  2,  4,  3,  2,  6,  9,  5, 10,  3,  2,  5]), 'max_leaf_nodes': array([ 9, 10,  9, 10,  4,  1,  3,  8,  2,  1,  8,  9,  5, 10,  6])}\n"
     ]
    }
   ],
   "source": [
    "print(parameters)"
   ]
  },
  {
   "cell_type": "code",
   "execution_count": 124,
   "id": "fa403d8f",
   "metadata": {},
   "outputs": [
    {
     "data": {
      "text/plain": [
       "RandomizedSearchCV(cv=3, estimator=DecisionTreeClassifier(), n_iter=200,\n",
       "                   param_distributions={'criterion': ['gini', 'entropy'],\n",
       "                                        'max_depth': array([ 8,  5,  4,  8,  4,  2,  2,  5, 11,  4,  3,  8,  6,  5,  6,  8,  1,\n",
       "        5,  9,  3]),\n",
       "                                        'max_features': ['auto', 'sqrt',\n",
       "                                                         'log2'],\n",
       "                                        'max_leaf_nodes': array([ 9, 10,  9, 10,  4,  1,  3,  8,  2,  1,  8,  9,  5, 10,  6]),\n",
       "                                        'min_samples_split': array([ 6,  7,  1,  9,  2,  4,  3,  2,  6,  9,  5, 10,  3,  2,  5]),\n",
       "                                        'splitter': ['best', 'random']})"
      ]
     },
     "execution_count": 124,
     "metadata": {},
     "output_type": "execute_result"
    }
   ],
   "source": [
    "import warnings\n",
    "warnings.filterwarnings('ignore')\n",
    "r=RandomizedSearchCV(dtc,parameters,n_iter=200,cv=3)\n",
    "r.fit(over_xtrain,over_ytrain)"
   ]
  },
  {
   "cell_type": "code",
   "execution_count": 125,
   "id": "18feb3c6",
   "metadata": {},
   "outputs": [
    {
     "data": {
      "text/plain": [
       "{'mean_fit_time': array([0.2922008 , 0.31652451, 0.33572547, 0.4157486 , 0.33334486,\n",
       "        0.42423566, 0.27605875, 0.40257279, 0.30579241, 0.3906583 ,\n",
       "        0.21219675, 0.31251701, 0.14063811, 0.14926553, 0.19116672,\n",
       "        0.33336226, 0.42667365, 0.22918383, 0.36460725, 0.16376718,\n",
       "        0.26564566, 0.27606384, 0.15105557, 0.22917636, 0.29168367,\n",
       "        0.26579976, 0.1458509 , 0.15105573, 0.37502758, 0.14064026,\n",
       "        0.30731455, 0.30731352, 0.20314145, 0.15105486, 0.31252058,\n",
       "        0.38543852, 0.37502575, 0.22918208, 0.27605947, 0.27606225,\n",
       "        0.30731535, 0.27085145, 0.2395997 , 0.28126947, 0.27606424,\n",
       "        0.197932  , 0.30210455, 0.23960145, 0.35940178, 0.1458447 ,\n",
       "        0.24481002, 0.28127432, 0.14063851, 0.29689773, 0.31252503,\n",
       "        0.28647534, 0.33335948, 0.30731249, 0.22918471, 0.26563907,\n",
       "        0.19792724, 0.30731773, 0.36460805, 0.30209533, 0.35419218,\n",
       "        0.27085026, 0.36981924, 0.39066251, 0.18230494, 0.27606146,\n",
       "        0.34898448, 0.2395997 , 0.19272399, 0.29689542, 0.23960066,\n",
       "        0.15105255, 0.26042803, 0.16667819, 0.20313327, 0.27085129,\n",
       "        0.24480907, 0.34377853, 0.16667891, 0.20314058, 0.2395997 ,\n",
       "        0.14584541, 0.26564439, 0.26043423, 0.31014085, 0.25522558,\n",
       "        0.37503187, 0.30731352, 0.16147161, 0.39586393, 0.27606034,\n",
       "        0.30210439, 0.4114906 , 0.31252368, 0.22918638, 0.18230359,\n",
       "        0.39586218, 0.3281463 , 0.22397526, 0.32814884, 0.32815003,\n",
       "        0.33335725, 0.28127392, 0.26564511, 0.20312953, 0.25001955,\n",
       "        0.30210511, 0.36981821, 0.29168797, 0.20351466, 0.40106948,\n",
       "        0.26043693, 0.29689566, 0.31773059, 0.28126438, 0.25523011,\n",
       "        0.14585185, 0.27605605, 0.1927228 , 0.2552278 , 0.28647677,\n",
       "        0.17188501, 0.15105367, 0.23960384, 0.22397367, 0.40628378,\n",
       "        0.27606169, 0.15626343, 0.28648003, 0.15105208, 0.29689773,\n",
       "        0.20314248, 0.27085217, 0.3333567 , 0.24480979, 0.29689495,\n",
       "        0.30731575, 0.22918256, 0.15626065, 0.14063938, 0.39586226,\n",
       "        0.36981956, 0.15626327, 0.36981742, 0.26564503, 0.22918455,\n",
       "        0.35419361, 0.29689916, 0.38023289, 0.30731606, 0.29168892,\n",
       "        0.30210614, 0.28127186, 0.33335892, 0.27085447, 0.20313787,\n",
       "        0.2968955 , 0.2968905 , 0.35940067, 0.32815123, 0.38041147,\n",
       "        0.27000562, 0.3584404 , 0.38480274, 0.43127322, 0.3698229 ,\n",
       "        0.15105446, 0.42226283, 0.29689749, 0.26924276, 0.19272002,\n",
       "        0.27085106, 0.31252646, 0.36461139, 0.35939924, 0.31252225,\n",
       "        0.26043574, 0.26043534, 0.25000779, 0.15626359, 0.35419043,\n",
       "        0.29168812, 0.26043741, 0.16147081, 0.33336083, 0.21937529,\n",
       "        0.17441535, 0.27426624, 0.54132263, 0.38694263, 0.15626264,\n",
       "        0.23646688, 0.29168836, 0.28647868, 0.21355605, 0.39065313]),\n",
       " 'std_fit_time': array([1.38124697e-02, 2.00283052e-02, 3.48601655e-02, 3.04260309e-02,\n",
       "        1.94922463e-02, 3.75994608e-02, 1.94887972e-02, 4.09882698e-02,\n",
       "        4.95670035e-02, 1.27595113e-02, 1.00733004e-02, 1.27585407e-02,\n",
       "        6.66151352e-06, 1.22006697e-02, 2.58051711e-02, 1.47312789e-02,\n",
       "        1.96159615e-02, 7.36704465e-03, 1.47306047e-02, 6.39429574e-03,\n",
       "        1.27589273e-02, 1.47327401e-02, 7.36844931e-03, 7.36109351e-03,\n",
       "        1.94818309e-02, 2.19502945e-04, 7.36204693e-03, 7.36704438e-03,\n",
       "        1.27567857e-02, 7.12335772e-06, 1.47313914e-02, 1.94879051e-02,\n",
       "        1.27605819e-02, 7.36726918e-03, 2.41837884e-06, 1.94947869e-02,\n",
       "        1.27579538e-02, 1.47309417e-02, 7.36513394e-03, 1.47336953e-02,\n",
       "        7.36474065e-03, 7.36282994e-03, 1.47303236e-02, 2.20983232e-02,\n",
       "        1.94914734e-02, 1.47309980e-02, 7.36586424e-03, 7.36670716e-03,\n",
       "        2.21000091e-02, 7.36339164e-03, 7.36451556e-03, 4.40913248e-06,\n",
       "        2.65729483e-06, 1.27614578e-02, 1.27572724e-02, 7.36935076e-03,\n",
       "        1.47348755e-02, 2.65604949e-02, 1.94868856e-02, 1.27527957e-02,\n",
       "        7.37148382e-03, 7.36895499e-03, 1.94892857e-02, 1.94789222e-02,\n",
       "        2.65591233e-02, 1.47285260e-02, 1.47327962e-02, 1.24227037e-05,\n",
       "        7.36547086e-03, 7.36586441e-03, 1.94864821e-02, 1.94876927e-02,\n",
       "        7.36726928e-03, 2.55193142e-02, 1.47336953e-02, 7.36277346e-03,\n",
       "        1.47215009e-02, 7.36490890e-03, 7.05744053e-06, 7.36277352e-03,\n",
       "        1.94859510e-02, 1.27546444e-02, 1.47291434e-02, 1.27561044e-02,\n",
       "        7.36507748e-03, 7.37030400e-03, 2.18803086e-06, 1.94899441e-02,\n",
       "        2.57390405e-02, 7.36749394e-03, 3.37540050e-02, 7.36597676e-03,\n",
       "        7.36305484e-03, 7.36462826e-03, 7.36608901e-03, 7.37187738e-03,\n",
       "        1.47341450e-02, 1.27588303e-02, 7.36311072e-03, 7.36569564e-03,\n",
       "        7.36755010e-03, 2.55218450e-02, 7.36637005e-03, 1.27585389e-02,\n",
       "        1.27599004e-02, 1.94895618e-02, 1.07214749e-06, 1.38109105e-06,\n",
       "        7.04041627e-06, 1.27603871e-02, 7.36361642e-03, 3.89785714e-02,\n",
       "        7.36507752e-03, 5.30320827e-04, 1.94896893e-02, 1.94907300e-02,\n",
       "        1.27580511e-02, 1.94902627e-02, 2.20869155e-02, 1.94901353e-02,\n",
       "        7.36406885e-03, 4.10126180e-02, 1.47342011e-02, 7.36912360e-03,\n",
       "        1.47319533e-02, 7.76478716e-06, 7.36710093e-03, 7.36653904e-03,\n",
       "        7.36395362e-03, 2.20983794e-02, 1.47318972e-02, 9.98958356e-07,\n",
       "        7.36620141e-03, 7.36580927e-03, 1.27584404e-02, 3.08002192e-06,\n",
       "        1.47325714e-02, 1.94875440e-02, 7.36603281e-03, 1.27617500e-02,\n",
       "        2.94631197e-02, 1.94887337e-02, 4.27088065e-06, 2.48026634e-06,\n",
       "        4.48062903e-02, 3.21098426e-02, 1.92054843e-06, 1.47330773e-02,\n",
       "        1.27562018e-02, 7.36603406e-03, 1.47327400e-02, 1.27570778e-02,\n",
       "        1.94853784e-02, 7.36726921e-03, 7.36625760e-03, 1.47328524e-02,\n",
       "        1.27590244e-02, 7.36513426e-03, 1.94876927e-02, 1.27575644e-02,\n",
       "        1.27565911e-02, 2.20862973e-02, 2.20966373e-02, 2.55198009e-02,\n",
       "        2.66281529e-02, 5.64588021e-02, 3.29576304e-02, 4.97241886e-02,\n",
       "        1.26123386e-02, 2.57695690e-02, 7.36631458e-03, 3.80778555e-02,\n",
       "        3.66437972e-06, 5.08442771e-03, 7.36653872e-03, 1.47317847e-02,\n",
       "        1.27585378e-02, 1.94896043e-02, 2.55196062e-02, 4.23076364e-06,\n",
       "        7.36586424e-03, 1.94875653e-02, 1.27676872e-02, 6.18358093e-06,\n",
       "        1.94909000e-02, 5.15638192e-02, 1.47347640e-02, 7.36580853e-03,\n",
       "        7.36378504e-03, 2.46830961e-02, 7.49700427e-03, 4.74347142e-02,\n",
       "        6.74830571e-02, 2.50793285e-02, 3.05944706e-06, 2.93156624e-03,\n",
       "        7.36586423e-03, 7.36715689e-03, 1.47335267e-02, 4.41951853e-02]),\n",
       " 'mean_score_time': array([0.04705111, 0.05452259, 0.08562994, 0.06250612, 0.0677282 ,\n",
       "        0.05730279, 0.05730073, 0.06250326, 0.06061467, 0.05726759,\n",
       "        0.05208898, 0.04688096, 0.        , 0.        , 0.        ,\n",
       "        0.05208731, 0.06250246, 0.04688112, 0.05730065, 0.        ,\n",
       "        0.0520889 , 0.04687929, 0.        , 0.04167644, 0.04688382,\n",
       "        0.04687881, 0.        , 0.        , 0.05208969, 0.        ,\n",
       "        0.05208993, 0.05208778, 0.04167144, 0.        , 0.05209215,\n",
       "        0.05730335, 0.05209001, 0.04688112, 0.05208747, 0.04688223,\n",
       "        0.04688319, 0.04687985, 0.04688104, 0.05209597, 0.04687897,\n",
       "        0.03646318, 0.05208969, 0.04687985, 0.05208858, 0.        ,\n",
       "        0.04688191, 0.04687786, 0.        , 0.04688009, 0.05208667,\n",
       "        0.04688334, 0.05729731, 0.05729858, 0.04166985, 0.05209517,\n",
       "        0.04167239, 0.04687993, 0.04688064, 0.04689066, 0.04687969,\n",
       "        0.05209128, 0.0520889 , 0.04687317, 0.04167223, 0.04687675,\n",
       "        0.05209001, 0.03646318, 0.04167239, 0.05209017, 0.04688048,\n",
       "        0.        , 0.05209684, 0.04688112, 0.04688811, 0.04687961,\n",
       "        0.04167302, 0.04167056, 0.0416708 , 0.04688017, 0.04687993,\n",
       "        0.        , 0.05208866, 0.04688048, 0.0520877 , 0.0520858 ,\n",
       "        0.05729842, 0.05729795, 0.        , 0.05729659, 0.05729795,\n",
       "        0.05209184, 0.0520889 , 0.04687977, 0.04687866, 0.0416739 ,\n",
       "        0.05208842, 0.04688446, 0.04687802, 0.05209064, 0.05208794,\n",
       "        0.05729707, 0.04687786, 0.05209112, 0.04688271, 0.04687977,\n",
       "        0.06250572, 0.05209001, 0.05209557, 0.0468808 , 0.0520881 ,\n",
       "        0.0416731 , 0.05208921, 0.05729802, 0.05209446, 0.04687738,\n",
       "        0.        , 0.04688112, 0.04688032, 0.04688303, 0.05209144,\n",
       "        0.04167581, 0.        , 0.04688621, 0.04687985, 0.05208858,\n",
       "        0.04687985, 0.        , 0.05208786, 0.        , 0.05729707,\n",
       "        0.04687683, 0.04167207, 0.05208985, 0.0468816 , 0.05208762,\n",
       "        0.0468839 , 0.04688207, 0.        , 0.        , 0.05209009,\n",
       "        0.05208961, 0.        , 0.04688072, 0.05208826, 0.04687818,\n",
       "        0.05729508, 0.04688096, 0.04688613, 0.04687754, 0.04687897,\n",
       "        0.04687826, 0.04687985, 0.04688056, 0.04687961, 0.04167358,\n",
       "        0.04687913, 0.04688764, 0.05208913, 0.05209128, 0.05729135,\n",
       "        0.07230274, 0.06721091, 0.05469139, 0.06918224, 0.07066361,\n",
       "        0.        , 0.05730104, 0.05729795, 0.04688056, 0.04167318,\n",
       "        0.04688017, 0.04687889, 0.05729683, 0.05209088, 0.04687953,\n",
       "        0.03646318, 0.05209668, 0.04688199, 0.        , 0.05729977,\n",
       "        0.05208977, 0.05729421, 0.        , 0.05208874, 0.07424712,\n",
       "        0.        , 0.06328185, 0.05132159, 0.06497431, 0.        ,\n",
       "        0.05729723, 0.04688001, 0.05208945, 0.04687953, 0.05209057]),\n",
       " 'std_score_time': array([6.17798259e-03, 6.38663851e-03, 1.78347905e-02, 4.44053492e-06,\n",
       "        7.38334112e-03, 7.36766473e-03, 7.36637011e-03, 2.97360213e-07,\n",
       "        1.30345167e-02, 7.34200161e-03, 7.36777618e-03, 8.48537942e-07,\n",
       "        0.00000000e+00, 0.00000000e+00, 0.00000000e+00, 7.36878659e-03,\n",
       "        2.13544032e-06, 4.05233662e-07, 7.36783145e-03, 0.00000000e+00,\n",
       "        7.36614523e-03, 1.27652315e-06, 0.00000000e+00, 7.37109323e-03,\n",
       "        8.42487284e-06, 1.94667955e-07, 0.00000000e+00, 0.00000000e+00,\n",
       "        7.36642623e-03, 0.00000000e+00, 7.36608901e-03, 7.36693232e-03,\n",
       "        7.36535849e-03, 0.00000000e+00, 7.36771875e-03, 7.36114381e-03,\n",
       "        7.36653872e-03, 6.39842898e-06, 7.36766260e-03, 5.28599076e-06,\n",
       "        2.54064677e-06, 1.76637258e-06, 1.51207428e-06, 7.36232761e-03,\n",
       "        1.12391596e-06, 7.36631380e-03, 7.36507749e-03, 2.65015475e-06,\n",
       "        7.36603281e-03, 0.00000000e+00, 1.68587394e-06, 2.21100294e-06,\n",
       "        0.00000000e+00, 7.86741172e-07, 7.36755033e-03, 7.51932537e-06,\n",
       "        7.36749391e-03, 7.36434695e-03, 7.36406619e-03, 7.36541500e-03,\n",
       "        7.36974298e-03, 1.70079347e-06, 2.59232623e-06, 1.29513943e-05,\n",
       "        8.77806426e-07, 7.36075272e-03, 7.36648242e-03, 9.66567726e-06,\n",
       "        7.36608915e-03, 1.65563159e-06, 7.36653868e-03, 7.36530234e-03,\n",
       "        7.36468415e-03, 7.36844926e-03, 1.03008599e-06, 0.00000000e+00,\n",
       "        7.37755296e-03, 6.25769923e-07, 6.62729319e-06, 1.48680106e-06,\n",
       "        7.36698825e-03, 7.36541471e-03, 7.36693195e-03, 1.38109105e-06,\n",
       "        9.60274217e-07, 0.00000000e+00, 7.36614524e-03, 1.75201159e-06,\n",
       "        7.36698816e-03, 7.36614537e-03, 7.36541466e-03, 7.36642626e-03,\n",
       "        0.00000000e+00, 7.36884261e-03, 7.36659478e-03, 7.36895525e-03,\n",
       "        7.36361658e-03, 2.03239311e-06, 4.05233662e-07, 7.36693195e-03,\n",
       "        7.36580805e-03, 5.47267447e-06, 2.92865845e-06, 7.36979798e-03,\n",
       "        7.36665111e-03, 7.36783117e-03, 3.32078654e-06, 7.36474173e-03,\n",
       "        1.11222260e-05, 2.57521498e-06, 1.73024663e-06, 7.36586424e-03,\n",
       "        7.37288871e-03, 1.12391596e-06, 7.36873087e-03, 7.36535856e-03,\n",
       "        7.36558326e-03, 7.36547088e-03, 7.35901872e-03, 2.06017199e-06,\n",
       "        0.00000000e+00, 1.87056896e-06, 1.26658896e-06, 3.95292604e-06,\n",
       "        7.36620140e-03, 7.36963059e-03, 0.00000000e+00, 1.29069405e-05,\n",
       "        4.32817103e-06, 7.36518993e-03, 1.27584405e-02, 0.00000000e+00,\n",
       "        7.36518989e-03, 0.00000000e+00, 7.36547085e-03, 3.53810458e-06,\n",
       "        7.36614521e-03, 7.36530281e-03, 1.43491984e-06, 7.36721298e-03,\n",
       "        5.51062769e-06, 5.94720425e-07, 0.00000000e+00, 0.00000000e+00,\n",
       "        7.36665102e-03, 7.36580807e-03, 0.00000000e+00, 9.73339773e-07,\n",
       "        7.36507750e-03, 1.80877156e-06, 7.36474034e-03, 5.15042996e-07,\n",
       "        7.14283742e-06, 6.25769923e-07, 1.79826554e-06, 2.83663564e-06,\n",
       "        1.14065012e-06, 1.14065012e-06, 2.09964829e-06, 7.36384119e-03,\n",
       "        1.62093465e-06, 1.30107533e-05, 7.36395362e-03, 7.36463116e-03,\n",
       "        7.36311076e-03, 2.57084013e-02, 1.49924622e-02, 7.31051699e-03,\n",
       "        9.43696229e-03, 1.77802342e-02, 0.00000000e+00, 7.37182678e-03,\n",
       "        7.36777490e-03, 1.26658896e-06, 7.36710058e-03, 1.14065012e-06,\n",
       "        1.74478677e-06, 7.36749397e-03, 7.36558345e-03, 6.74349576e-07,\n",
       "        7.36698829e-03, 7.36013712e-03, 8.26212019e-06, 0.00000000e+00,\n",
       "        7.36670742e-03, 7.36687575e-03, 7.36732537e-03, 0.00000000e+00,\n",
       "        7.36642618e-03, 2.83806333e-02, 0.00000000e+00, 2.32024583e-02,\n",
       "        7.96769450e-03, 3.49363756e-03, 0.00000000e+00, 7.36676398e-03,\n",
       "        1.21570099e-06, 7.36608902e-03, 2.19379643e-06, 7.36681986e-03]),\n",
       " 'param_splitter': masked_array(data=['best', 'random', 'random', 'best', 'random', 'best',\n",
       "                    'random', 'best', 'random', 'best', 'best', 'best',\n",
       "                    'best', 'best', 'best', 'best', 'best', 'random',\n",
       "                    'best', 'random', 'best', 'best', 'best', 'random',\n",
       "                    'best', 'random', 'best', 'random', 'best', 'best',\n",
       "                    'random', 'best', 'random', 'random', 'random', 'best',\n",
       "                    'best', 'random', 'random', 'random', 'best', 'random',\n",
       "                    'best', 'random', 'best', 'best', 'random', 'random',\n",
       "                    'best', 'best', 'random', 'best', 'random', 'random',\n",
       "                    'random', 'best', 'best', 'random', 'best', 'random',\n",
       "                    'random', 'best', 'best', 'random', 'best', 'random',\n",
       "                    'best', 'best', 'random', 'random', 'best', 'best',\n",
       "                    'random', 'random', 'random', 'best', 'random',\n",
       "                    'random', 'random', 'random', 'best', 'best', 'random',\n",
       "                    'random', 'best', 'best', 'random', 'best', 'random',\n",
       "                    'random', 'best', 'best', 'random', 'best', 'random',\n",
       "                    'random', 'best', 'best', 'random', 'random', 'best',\n",
       "                    'best', 'best', 'best', 'random', 'best', 'random',\n",
       "                    'random', 'random', 'random', 'random', 'best',\n",
       "                    'random', 'random', 'best', 'best', 'best', 'best',\n",
       "                    'random', 'random', 'random', 'random', 'random',\n",
       "                    'random', 'random', 'random', 'best', 'random',\n",
       "                    'random', 'best', 'best', 'best', 'random', 'best',\n",
       "                    'random', 'random', 'best', 'best', 'best', 'random',\n",
       "                    'random', 'random', 'best', 'random', 'best', 'best',\n",
       "                    'best', 'best', 'random', 'random', 'best', 'random',\n",
       "                    'best', 'random', 'random', 'best', 'random', 'best',\n",
       "                    'random', 'best', 'best', 'best', 'best', 'random',\n",
       "                    'best', 'best', 'random', 'random', 'best', 'best',\n",
       "                    'best', 'best', 'random', 'random', 'best', 'random',\n",
       "                    'best', 'best', 'best', 'best', 'best', 'random',\n",
       "                    'best', 'best', 'best', 'best', 'best', 'random',\n",
       "                    'random', 'random', 'best', 'random', 'best', 'random',\n",
       "                    'random', 'random', 'best', 'random', 'random', 'best'],\n",
       "              mask=[False, False, False, False, False, False, False, False,\n",
       "                    False, False, False, False, False, False, False, False,\n",
       "                    False, False, False, False, False, False, False, False,\n",
       "                    False, False, False, False, False, False, False, False,\n",
       "                    False, False, False, False, False, False, False, False,\n",
       "                    False, False, False, False, False, False, False, False,\n",
       "                    False, False, False, False, False, False, False, False,\n",
       "                    False, False, False, False, False, False, False, False,\n",
       "                    False, False, False, False, False, False, False, False,\n",
       "                    False, False, False, False, False, False, False, False,\n",
       "                    False, False, False, False, False, False, False, False,\n",
       "                    False, False, False, False, False, False, False, False,\n",
       "                    False, False, False, False, False, False, False, False,\n",
       "                    False, False, False, False, False, False, False, False,\n",
       "                    False, False, False, False, False, False, False, False,\n",
       "                    False, False, False, False, False, False, False, False,\n",
       "                    False, False, False, False, False, False, False, False,\n",
       "                    False, False, False, False, False, False, False, False,\n",
       "                    False, False, False, False, False, False, False, False,\n",
       "                    False, False, False, False, False, False, False, False,\n",
       "                    False, False, False, False, False, False, False, False,\n",
       "                    False, False, False, False, False, False, False, False,\n",
       "                    False, False, False, False, False, False, False, False,\n",
       "                    False, False, False, False, False, False, False, False,\n",
       "                    False, False, False, False, False, False, False, False],\n",
       "        fill_value='?',\n",
       "             dtype=object),\n",
       " 'param_min_samples_split': masked_array(data=[3, 2, 10, 3, 9, 9, 5, 10, 9, 10, 5, 3, 4, 2, 5, 4, 7,\n",
       "                    2, 4, 9, 2, 3, 2, 5, 6, 6, 5, 1, 6, 7, 9, 6, 3, 9, 5,\n",
       "                    2, 7, 10, 2, 7, 10, 6, 2, 2, 7, 9, 2, 2, 6, 6, 2, 9, 6,\n",
       "                    7, 10, 3, 2, 2, 9, 2, 6, 5, 9, 9, 7, 6, 6, 5, 5, 4, 2,\n",
       "                    7, 9, 2, 2, 1, 4, 5, 5, 5, 10, 9, 10, 2, 10, 1, 4, 4,\n",
       "                    2, 7, 2, 5, 2, 2, 9, 9, 3, 5, 3, 3, 5, 7, 7, 6, 5, 7,\n",
       "                    6, 10, 10, 9, 3, 10, 4, 6, 4, 5, 10, 2, 2, 3, 1, 9, 9,\n",
       "                    3, 5, 10, 6, 7, 3, 9, 6, 3, 4, 6, 6, 6, 5, 2, 9, 10, 9,\n",
       "                    2, 5, 2, 10, 7, 3, 9, 10, 9, 3, 6, 6, 5, 5, 2, 9, 6,\n",
       "                    10, 9, 6, 3, 9, 6, 6, 5, 7, 7, 6, 2, 3, 9, 9, 3, 2, 3,\n",
       "                    6, 6, 7, 5, 7, 5, 9, 1, 6, 2, 3, 1, 5, 2, 5, 2, 7, 3,\n",
       "                    1, 6, 6, 2, 9, 6],\n",
       "              mask=[False, False, False, False, False, False, False, False,\n",
       "                    False, False, False, False, False, False, False, False,\n",
       "                    False, False, False, False, False, False, False, False,\n",
       "                    False, False, False, False, False, False, False, False,\n",
       "                    False, False, False, False, False, False, False, False,\n",
       "                    False, False, False, False, False, False, False, False,\n",
       "                    False, False, False, False, False, False, False, False,\n",
       "                    False, False, False, False, False, False, False, False,\n",
       "                    False, False, False, False, False, False, False, False,\n",
       "                    False, False, False, False, False, False, False, False,\n",
       "                    False, False, False, False, False, False, False, False,\n",
       "                    False, False, False, False, False, False, False, False,\n",
       "                    False, False, False, False, False, False, False, False,\n",
       "                    False, False, False, False, False, False, False, False,\n",
       "                    False, False, False, False, False, False, False, False,\n",
       "                    False, False, False, False, False, False, False, False,\n",
       "                    False, False, False, False, False, False, False, False,\n",
       "                    False, False, False, False, False, False, False, False,\n",
       "                    False, False, False, False, False, False, False, False,\n",
       "                    False, False, False, False, False, False, False, False,\n",
       "                    False, False, False, False, False, False, False, False,\n",
       "                    False, False, False, False, False, False, False, False,\n",
       "                    False, False, False, False, False, False, False, False,\n",
       "                    False, False, False, False, False, False, False, False,\n",
       "                    False, False, False, False, False, False, False, False],\n",
       "        fill_value='?',\n",
       "             dtype=object),\n",
       " 'param_max_leaf_nodes': masked_array(data=[3, 9, 9, 10, 10, 9, 6, 6, 6, 9, 10, 9, 1, 1, 1, 4, 10,\n",
       "                    10, 8, 1, 10, 3, 1, 3, 5, 6, 1, 5, 10, 1, 10, 4, 9, 1,\n",
       "                    10, 9, 10, 10, 6, 8, 6, 8, 8, 8, 3, 9, 10, 8, 9, 1, 4,\n",
       "                    5, 1, 10, 10, 3, 8, 10, 2, 10, 2, 6, 10, 10, 10, 10,\n",
       "                    10, 10, 3, 9, 10, 2, 4, 9, 4, 10, 9, 9, 9, 5, 2, 8, 9,\n",
       "                    3, 10, 3, 5, 2, 10, 9, 6, 6, 1, 8, 6, 10, 6, 4, 3, 6,\n",
       "                    9, 6, 10, 4, 10, 4, 9, 4, 3, 4, 10, 8, 9, 2, 10, 9, 4,\n",
       "                    10, 8, 5, 1, 9, 10, 6, 8, 10, 1, 9, 10, 10, 3, 1, 8, 1,\n",
       "                    10, 2, 6, 8, 2, 10, 9, 6, 1, 1, 9, 8, 1, 6, 4, 6, 9,\n",
       "                    10, 9, 10, 9, 4, 9, 10, 8, 10, 8, 4, 8, 9, 6, 5, 9, 10,\n",
       "                    9, 5, 1, 8, 10, 9, 9, 5, 6, 10, 8, 5, 8, 6, 2, 3, 10,\n",
       "                    3, 2, 4, 8, 2, 1, 3, 8, 10, 10, 2, 3, 10, 5, 10],\n",
       "              mask=[False, False, False, False, False, False, False, False,\n",
       "                    False, False, False, False, False, False, False, False,\n",
       "                    False, False, False, False, False, False, False, False,\n",
       "                    False, False, False, False, False, False, False, False,\n",
       "                    False, False, False, False, False, False, False, False,\n",
       "                    False, False, False, False, False, False, False, False,\n",
       "                    False, False, False, False, False, False, False, False,\n",
       "                    False, False, False, False, False, False, False, False,\n",
       "                    False, False, False, False, False, False, False, False,\n",
       "                    False, False, False, False, False, False, False, False,\n",
       "                    False, False, False, False, False, False, False, False,\n",
       "                    False, False, False, False, False, False, False, False,\n",
       "                    False, False, False, False, False, False, False, False,\n",
       "                    False, False, False, False, False, False, False, False,\n",
       "                    False, False, False, False, False, False, False, False,\n",
       "                    False, False, False, False, False, False, False, False,\n",
       "                    False, False, False, False, False, False, False, False,\n",
       "                    False, False, False, False, False, False, False, False,\n",
       "                    False, False, False, False, False, False, False, False,\n",
       "                    False, False, False, False, False, False, False, False,\n",
       "                    False, False, False, False, False, False, False, False,\n",
       "                    False, False, False, False, False, False, False, False,\n",
       "                    False, False, False, False, False, False, False, False,\n",
       "                    False, False, False, False, False, False, False, False,\n",
       "                    False, False, False, False, False, False, False, False],\n",
       "        fill_value='?',\n",
       "             dtype=object),\n",
       " 'param_max_features': masked_array(data=['sqrt', 'log2', 'auto', 'log2', 'auto', 'log2', 'sqrt',\n",
       "                    'auto', 'log2', 'auto', 'sqrt', 'sqrt', 'log2', 'auto',\n",
       "                    'log2', 'auto', 'sqrt', 'sqrt', 'auto', 'auto', 'auto',\n",
       "                    'auto', 'sqrt', 'sqrt', 'auto', 'auto', 'sqrt', 'log2',\n",
       "                    'log2', 'auto', 'sqrt', 'sqrt', 'log2', 'log2', 'log2',\n",
       "                    'sqrt', 'log2', 'sqrt', 'sqrt', 'auto', 'log2', 'sqrt',\n",
       "                    'log2', 'log2', 'log2', 'log2', 'auto', 'auto', 'log2',\n",
       "                    'sqrt', 'log2', 'sqrt', 'sqrt', 'log2', 'sqrt', 'sqrt',\n",
       "                    'auto', 'sqrt', 'sqrt', 'sqrt', 'sqrt', 'log2', 'sqrt',\n",
       "                    'sqrt', 'log2', 'sqrt', 'log2', 'auto', 'sqrt', 'log2',\n",
       "                    'auto', 'auto', 'sqrt', 'log2', 'log2', 'log2', 'log2',\n",
       "                    'sqrt', 'auto', 'auto', 'sqrt', 'sqrt', 'log2', 'auto',\n",
       "                    'log2', 'sqrt', 'log2', 'auto', 'sqrt', 'log2', 'auto',\n",
       "                    'auto', 'log2', 'sqrt', 'auto', 'log2', 'auto', 'auto',\n",
       "                    'sqrt', 'log2', 'sqrt', 'auto', 'log2', 'log2', 'log2',\n",
       "                    'sqrt', 'sqrt', 'sqrt', 'sqrt', 'auto', 'sqrt', 'auto',\n",
       "                    'sqrt', 'auto', 'auto', 'sqrt', 'sqrt', 'auto', 'sqrt',\n",
       "                    'auto', 'log2', 'log2', 'sqrt', 'auto', 'sqrt', 'auto',\n",
       "                    'sqrt', 'sqrt', 'log2', 'auto', 'sqrt', 'sqrt', 'auto',\n",
       "                    'auto', 'auto', 'sqrt', 'sqrt', 'auto', 'log2', 'log2',\n",
       "                    'sqrt', 'sqrt', 'log2', 'log2', 'sqrt', 'sqrt', 'sqrt',\n",
       "                    'auto', 'sqrt', 'log2', 'auto', 'log2', 'sqrt', 'sqrt',\n",
       "                    'log2', 'auto', 'sqrt', 'log2', 'auto', 'log2', 'auto',\n",
       "                    'sqrt', 'log2', 'auto', 'sqrt', 'auto', 'sqrt', 'log2',\n",
       "                    'log2', 'auto', 'auto', 'sqrt', 'log2', 'log2', 'sqrt',\n",
       "                    'auto', 'log2', 'log2', 'sqrt', 'auto', 'log2', 'sqrt',\n",
       "                    'log2', 'auto', 'auto', 'sqrt', 'sqrt', 'auto', 'sqrt',\n",
       "                    'sqrt', 'auto', 'auto', 'sqrt', 'sqrt', 'sqrt', 'sqrt',\n",
       "                    'sqrt', 'sqrt', 'log2', 'sqrt'],\n",
       "              mask=[False, False, False, False, False, False, False, False,\n",
       "                    False, False, False, False, False, False, False, False,\n",
       "                    False, False, False, False, False, False, False, False,\n",
       "                    False, False, False, False, False, False, False, False,\n",
       "                    False, False, False, False, False, False, False, False,\n",
       "                    False, False, False, False, False, False, False, False,\n",
       "                    False, False, False, False, False, False, False, False,\n",
       "                    False, False, False, False, False, False, False, False,\n",
       "                    False, False, False, False, False, False, False, False,\n",
       "                    False, False, False, False, False, False, False, False,\n",
       "                    False, False, False, False, False, False, False, False,\n",
       "                    False, False, False, False, False, False, False, False,\n",
       "                    False, False, False, False, False, False, False, False,\n",
       "                    False, False, False, False, False, False, False, False,\n",
       "                    False, False, False, False, False, False, False, False,\n",
       "                    False, False, False, False, False, False, False, False,\n",
       "                    False, False, False, False, False, False, False, False,\n",
       "                    False, False, False, False, False, False, False, False,\n",
       "                    False, False, False, False, False, False, False, False,\n",
       "                    False, False, False, False, False, False, False, False,\n",
       "                    False, False, False, False, False, False, False, False,\n",
       "                    False, False, False, False, False, False, False, False,\n",
       "                    False, False, False, False, False, False, False, False,\n",
       "                    False, False, False, False, False, False, False, False,\n",
       "                    False, False, False, False, False, False, False, False],\n",
       "        fill_value='?',\n",
       "             dtype=object),\n",
       " 'param_max_depth': masked_array(data=[11, 5, 5, 4, 8, 11, 5, 11, 3, 6, 1, 3, 8, 3, 6, 8, 5,\n",
       "                    3, 5, 4, 2, 8, 2, 4, 3, 4, 5, 8, 8, 5, 6, 4, 2, 2, 6,\n",
       "                    11, 6, 3, 5, 5, 4, 4, 2, 8, 3, 1, 5, 3, 5, 11, 8, 4, 8,\n",
       "                    8, 8, 8, 5, 8, 11, 4, 6, 8, 5, 8, 5, 4, 5, 11, 1, 5, 5,\n",
       "                    5, 2, 8, 8, 4, 4, 1, 2, 8, 5, 5, 1, 2, 2, 4, 8, 4, 8,\n",
       "                    3, 5, 3, 8, 6, 4, 5, 8, 6, 5, 1, 8, 5, 2, 6, 6, 9, 4,\n",
       "                    4, 1, 3, 8, 8, 5, 4, 6, 2, 6, 3, 11, 6, 8, 8, 2, 8, 5,\n",
       "                    1, 5, 3, 3, 11, 5, 5, 5, 8, 5, 2, 2, 5, 5, 8, 11, 3, 9,\n",
       "                    1, 6, 11, 5, 11, 5, 2, 5, 4, 4, 8, 8, 11, 9, 4, 5, 1,\n",
       "                    3, 4, 8, 8, 8, 1, 4, 11, 6, 8, 4, 11, 8, 5, 1, 5, 3, 5,\n",
       "                    4, 5, 2, 5, 2, 6, 5, 3, 8, 3, 8, 5, 8, 2, 8, 8, 3, 2,\n",
       "                    6, 5, 2, 9],\n",
       "              mask=[False, False, False, False, False, False, False, False,\n",
       "                    False, False, False, False, False, False, False, False,\n",
       "                    False, False, False, False, False, False, False, False,\n",
       "                    False, False, False, False, False, False, False, False,\n",
       "                    False, False, False, False, False, False, False, False,\n",
       "                    False, False, False, False, False, False, False, False,\n",
       "                    False, False, False, False, False, False, False, False,\n",
       "                    False, False, False, False, False, False, False, False,\n",
       "                    False, False, False, False, False, False, False, False,\n",
       "                    False, False, False, False, False, False, False, False,\n",
       "                    False, False, False, False, False, False, False, False,\n",
       "                    False, False, False, False, False, False, False, False,\n",
       "                    False, False, False, False, False, False, False, False,\n",
       "                    False, False, False, False, False, False, False, False,\n",
       "                    False, False, False, False, False, False, False, False,\n",
       "                    False, False, False, False, False, False, False, False,\n",
       "                    False, False, False, False, False, False, False, False,\n",
       "                    False, False, False, False, False, False, False, False,\n",
       "                    False, False, False, False, False, False, False, False,\n",
       "                    False, False, False, False, False, False, False, False,\n",
       "                    False, False, False, False, False, False, False, False,\n",
       "                    False, False, False, False, False, False, False, False,\n",
       "                    False, False, False, False, False, False, False, False,\n",
       "                    False, False, False, False, False, False, False, False,\n",
       "                    False, False, False, False, False, False, False, False],\n",
       "        fill_value='?',\n",
       "             dtype=object),\n",
       " 'param_criterion': masked_array(data=['entropy', 'entropy', 'gini', 'gini', 'entropy',\n",
       "                    'gini', 'entropy', 'gini', 'gini', 'entropy', 'gini',\n",
       "                    'gini', 'entropy', 'gini', 'gini', 'gini', 'entropy',\n",
       "                    'gini', 'gini', 'gini', 'gini', 'entropy', 'entropy',\n",
       "                    'gini', 'gini', 'gini', 'gini', 'gini', 'entropy',\n",
       "                    'entropy', 'gini', 'gini', 'gini', 'gini', 'entropy',\n",
       "                    'entropy', 'gini', 'entropy', 'entropy', 'gini',\n",
       "                    'gini', 'entropy', 'entropy', 'gini', 'entropy',\n",
       "                    'entropy', 'gini', 'entropy', 'gini', 'entropy',\n",
       "                    'entropy', 'entropy', 'entropy', 'entropy', 'entropy',\n",
       "                    'gini', 'entropy', 'entropy', 'entropy', 'gini',\n",
       "                    'entropy', 'entropy', 'entropy', 'gini', 'gini',\n",
       "                    'entropy', 'gini', 'gini', 'gini', 'gini', 'entropy',\n",
       "                    'entropy', 'entropy', 'entropy', 'gini', 'gini',\n",
       "                    'gini', 'entropy', 'entropy', 'entropy', 'entropy',\n",
       "                    'gini', 'gini', 'entropy', 'entropy', 'gini', 'gini',\n",
       "                    'gini', 'entropy', 'gini', 'gini', 'gini', 'entropy',\n",
       "                    'gini', 'entropy', 'gini', 'entropy', 'entropy',\n",
       "                    'gini', 'gini', 'gini', 'gini', 'entropy', 'gini',\n",
       "                    'gini', 'entropy', 'entropy', 'gini', 'entropy',\n",
       "                    'gini', 'entropy', 'gini', 'entropy', 'entropy',\n",
       "                    'entropy', 'entropy', 'entropy', 'gini', 'gini',\n",
       "                    'gini', 'entropy', 'entropy', 'gini', 'entropy',\n",
       "                    'entropy', 'entropy', 'entropy', 'entropy', 'gini',\n",
       "                    'entropy', 'entropy', 'entropy', 'entropy', 'gini',\n",
       "                    'entropy', 'gini', 'entropy', 'entropy', 'entropy',\n",
       "                    'gini', 'entropy', 'gini', 'gini', 'gini', 'gini',\n",
       "                    'gini', 'entropy', 'gini', 'gini', 'entropy', 'gini',\n",
       "                    'entropy', 'entropy', 'entropy', 'gini', 'gini',\n",
       "                    'gini', 'gini', 'gini', 'entropy', 'gini', 'gini',\n",
       "                    'gini', 'entropy', 'gini', 'entropy', 'entropy',\n",
       "                    'entropy', 'entropy', 'gini', 'entropy', 'entropy',\n",
       "                    'gini', 'entropy', 'entropy', 'entropy', 'gini',\n",
       "                    'entropy', 'gini', 'entropy', 'gini', 'entropy',\n",
       "                    'gini', 'entropy', 'gini', 'entropy', 'gini',\n",
       "                    'entropy', 'gini', 'entropy', 'gini', 'gini',\n",
       "                    'entropy', 'gini', 'gini', 'gini', 'gini', 'gini',\n",
       "                    'entropy', 'gini'],\n",
       "              mask=[False, False, False, False, False, False, False, False,\n",
       "                    False, False, False, False, False, False, False, False,\n",
       "                    False, False, False, False, False, False, False, False,\n",
       "                    False, False, False, False, False, False, False, False,\n",
       "                    False, False, False, False, False, False, False, False,\n",
       "                    False, False, False, False, False, False, False, False,\n",
       "                    False, False, False, False, False, False, False, False,\n",
       "                    False, False, False, False, False, False, False, False,\n",
       "                    False, False, False, False, False, False, False, False,\n",
       "                    False, False, False, False, False, False, False, False,\n",
       "                    False, False, False, False, False, False, False, False,\n",
       "                    False, False, False, False, False, False, False, False,\n",
       "                    False, False, False, False, False, False, False, False,\n",
       "                    False, False, False, False, False, False, False, False,\n",
       "                    False, False, False, False, False, False, False, False,\n",
       "                    False, False, False, False, False, False, False, False,\n",
       "                    False, False, False, False, False, False, False, False,\n",
       "                    False, False, False, False, False, False, False, False,\n",
       "                    False, False, False, False, False, False, False, False,\n",
       "                    False, False, False, False, False, False, False, False,\n",
       "                    False, False, False, False, False, False, False, False,\n",
       "                    False, False, False, False, False, False, False, False,\n",
       "                    False, False, False, False, False, False, False, False,\n",
       "                    False, False, False, False, False, False, False, False,\n",
       "                    False, False, False, False, False, False, False, False],\n",
       "        fill_value='?',\n",
       "             dtype=object),\n",
       " 'params': [{'splitter': 'best',\n",
       "   'min_samples_split': 3,\n",
       "   'max_leaf_nodes': 3,\n",
       "   'max_features': 'sqrt',\n",
       "   'max_depth': 11,\n",
       "   'criterion': 'entropy'},\n",
       "  {'splitter': 'random',\n",
       "   'min_samples_split': 2,\n",
       "   'max_leaf_nodes': 9,\n",
       "   'max_features': 'log2',\n",
       "   'max_depth': 5,\n",
       "   'criterion': 'entropy'},\n",
       "  {'splitter': 'random',\n",
       "   'min_samples_split': 10,\n",
       "   'max_leaf_nodes': 9,\n",
       "   'max_features': 'auto',\n",
       "   'max_depth': 5,\n",
       "   'criterion': 'gini'},\n",
       "  {'splitter': 'best',\n",
       "   'min_samples_split': 3,\n",
       "   'max_leaf_nodes': 10,\n",
       "   'max_features': 'log2',\n",
       "   'max_depth': 4,\n",
       "   'criterion': 'gini'},\n",
       "  {'splitter': 'random',\n",
       "   'min_samples_split': 9,\n",
       "   'max_leaf_nodes': 10,\n",
       "   'max_features': 'auto',\n",
       "   'max_depth': 8,\n",
       "   'criterion': 'entropy'},\n",
       "  {'splitter': 'best',\n",
       "   'min_samples_split': 9,\n",
       "   'max_leaf_nodes': 9,\n",
       "   'max_features': 'log2',\n",
       "   'max_depth': 11,\n",
       "   'criterion': 'gini'},\n",
       "  {'splitter': 'random',\n",
       "   'min_samples_split': 5,\n",
       "   'max_leaf_nodes': 6,\n",
       "   'max_features': 'sqrt',\n",
       "   'max_depth': 5,\n",
       "   'criterion': 'entropy'},\n",
       "  {'splitter': 'best',\n",
       "   'min_samples_split': 10,\n",
       "   'max_leaf_nodes': 6,\n",
       "   'max_features': 'auto',\n",
       "   'max_depth': 11,\n",
       "   'criterion': 'gini'},\n",
       "  {'splitter': 'random',\n",
       "   'min_samples_split': 9,\n",
       "   'max_leaf_nodes': 6,\n",
       "   'max_features': 'log2',\n",
       "   'max_depth': 3,\n",
       "   'criterion': 'gini'},\n",
       "  {'splitter': 'best',\n",
       "   'min_samples_split': 10,\n",
       "   'max_leaf_nodes': 9,\n",
       "   'max_features': 'auto',\n",
       "   'max_depth': 6,\n",
       "   'criterion': 'entropy'},\n",
       "  {'splitter': 'best',\n",
       "   'min_samples_split': 5,\n",
       "   'max_leaf_nodes': 10,\n",
       "   'max_features': 'sqrt',\n",
       "   'max_depth': 1,\n",
       "   'criterion': 'gini'},\n",
       "  {'splitter': 'best',\n",
       "   'min_samples_split': 3,\n",
       "   'max_leaf_nodes': 9,\n",
       "   'max_features': 'sqrt',\n",
       "   'max_depth': 3,\n",
       "   'criterion': 'gini'},\n",
       "  {'splitter': 'best',\n",
       "   'min_samples_split': 4,\n",
       "   'max_leaf_nodes': 1,\n",
       "   'max_features': 'log2',\n",
       "   'max_depth': 8,\n",
       "   'criterion': 'entropy'},\n",
       "  {'splitter': 'best',\n",
       "   'min_samples_split': 2,\n",
       "   'max_leaf_nodes': 1,\n",
       "   'max_features': 'auto',\n",
       "   'max_depth': 3,\n",
       "   'criterion': 'gini'},\n",
       "  {'splitter': 'best',\n",
       "   'min_samples_split': 5,\n",
       "   'max_leaf_nodes': 1,\n",
       "   'max_features': 'log2',\n",
       "   'max_depth': 6,\n",
       "   'criterion': 'gini'},\n",
       "  {'splitter': 'best',\n",
       "   'min_samples_split': 4,\n",
       "   'max_leaf_nodes': 4,\n",
       "   'max_features': 'auto',\n",
       "   'max_depth': 8,\n",
       "   'criterion': 'gini'},\n",
       "  {'splitter': 'best',\n",
       "   'min_samples_split': 7,\n",
       "   'max_leaf_nodes': 10,\n",
       "   'max_features': 'sqrt',\n",
       "   'max_depth': 5,\n",
       "   'criterion': 'entropy'},\n",
       "  {'splitter': 'random',\n",
       "   'min_samples_split': 2,\n",
       "   'max_leaf_nodes': 10,\n",
       "   'max_features': 'sqrt',\n",
       "   'max_depth': 3,\n",
       "   'criterion': 'gini'},\n",
       "  {'splitter': 'best',\n",
       "   'min_samples_split': 4,\n",
       "   'max_leaf_nodes': 8,\n",
       "   'max_features': 'auto',\n",
       "   'max_depth': 5,\n",
       "   'criterion': 'gini'},\n",
       "  {'splitter': 'random',\n",
       "   'min_samples_split': 9,\n",
       "   'max_leaf_nodes': 1,\n",
       "   'max_features': 'auto',\n",
       "   'max_depth': 4,\n",
       "   'criterion': 'gini'},\n",
       "  {'splitter': 'best',\n",
       "   'min_samples_split': 2,\n",
       "   'max_leaf_nodes': 10,\n",
       "   'max_features': 'auto',\n",
       "   'max_depth': 2,\n",
       "   'criterion': 'gini'},\n",
       "  {'splitter': 'best',\n",
       "   'min_samples_split': 3,\n",
       "   'max_leaf_nodes': 3,\n",
       "   'max_features': 'auto',\n",
       "   'max_depth': 8,\n",
       "   'criterion': 'entropy'},\n",
       "  {'splitter': 'best',\n",
       "   'min_samples_split': 2,\n",
       "   'max_leaf_nodes': 1,\n",
       "   'max_features': 'sqrt',\n",
       "   'max_depth': 2,\n",
       "   'criterion': 'entropy'},\n",
       "  {'splitter': 'random',\n",
       "   'min_samples_split': 5,\n",
       "   'max_leaf_nodes': 3,\n",
       "   'max_features': 'sqrt',\n",
       "   'max_depth': 4,\n",
       "   'criterion': 'gini'},\n",
       "  {'splitter': 'best',\n",
       "   'min_samples_split': 6,\n",
       "   'max_leaf_nodes': 5,\n",
       "   'max_features': 'auto',\n",
       "   'max_depth': 3,\n",
       "   'criterion': 'gini'},\n",
       "  {'splitter': 'random',\n",
       "   'min_samples_split': 6,\n",
       "   'max_leaf_nodes': 6,\n",
       "   'max_features': 'auto',\n",
       "   'max_depth': 4,\n",
       "   'criterion': 'gini'},\n",
       "  {'splitter': 'best',\n",
       "   'min_samples_split': 5,\n",
       "   'max_leaf_nodes': 1,\n",
       "   'max_features': 'sqrt',\n",
       "   'max_depth': 5,\n",
       "   'criterion': 'gini'},\n",
       "  {'splitter': 'random',\n",
       "   'min_samples_split': 1,\n",
       "   'max_leaf_nodes': 5,\n",
       "   'max_features': 'log2',\n",
       "   'max_depth': 8,\n",
       "   'criterion': 'gini'},\n",
       "  {'splitter': 'best',\n",
       "   'min_samples_split': 6,\n",
       "   'max_leaf_nodes': 10,\n",
       "   'max_features': 'log2',\n",
       "   'max_depth': 8,\n",
       "   'criterion': 'entropy'},\n",
       "  {'splitter': 'best',\n",
       "   'min_samples_split': 7,\n",
       "   'max_leaf_nodes': 1,\n",
       "   'max_features': 'auto',\n",
       "   'max_depth': 5,\n",
       "   'criterion': 'entropy'},\n",
       "  {'splitter': 'random',\n",
       "   'min_samples_split': 9,\n",
       "   'max_leaf_nodes': 10,\n",
       "   'max_features': 'sqrt',\n",
       "   'max_depth': 6,\n",
       "   'criterion': 'gini'},\n",
       "  {'splitter': 'best',\n",
       "   'min_samples_split': 6,\n",
       "   'max_leaf_nodes': 4,\n",
       "   'max_features': 'sqrt',\n",
       "   'max_depth': 4,\n",
       "   'criterion': 'gini'},\n",
       "  {'splitter': 'random',\n",
       "   'min_samples_split': 3,\n",
       "   'max_leaf_nodes': 9,\n",
       "   'max_features': 'log2',\n",
       "   'max_depth': 2,\n",
       "   'criterion': 'gini'},\n",
       "  {'splitter': 'random',\n",
       "   'min_samples_split': 9,\n",
       "   'max_leaf_nodes': 1,\n",
       "   'max_features': 'log2',\n",
       "   'max_depth': 2,\n",
       "   'criterion': 'gini'},\n",
       "  {'splitter': 'random',\n",
       "   'min_samples_split': 5,\n",
       "   'max_leaf_nodes': 10,\n",
       "   'max_features': 'log2',\n",
       "   'max_depth': 6,\n",
       "   'criterion': 'entropy'},\n",
       "  {'splitter': 'best',\n",
       "   'min_samples_split': 2,\n",
       "   'max_leaf_nodes': 9,\n",
       "   'max_features': 'sqrt',\n",
       "   'max_depth': 11,\n",
       "   'criterion': 'entropy'},\n",
       "  {'splitter': 'best',\n",
       "   'min_samples_split': 7,\n",
       "   'max_leaf_nodes': 10,\n",
       "   'max_features': 'log2',\n",
       "   'max_depth': 6,\n",
       "   'criterion': 'gini'},\n",
       "  {'splitter': 'random',\n",
       "   'min_samples_split': 10,\n",
       "   'max_leaf_nodes': 10,\n",
       "   'max_features': 'sqrt',\n",
       "   'max_depth': 3,\n",
       "   'criterion': 'entropy'},\n",
       "  {'splitter': 'random',\n",
       "   'min_samples_split': 2,\n",
       "   'max_leaf_nodes': 6,\n",
       "   'max_features': 'sqrt',\n",
       "   'max_depth': 5,\n",
       "   'criterion': 'entropy'},\n",
       "  {'splitter': 'random',\n",
       "   'min_samples_split': 7,\n",
       "   'max_leaf_nodes': 8,\n",
       "   'max_features': 'auto',\n",
       "   'max_depth': 5,\n",
       "   'criterion': 'gini'},\n",
       "  {'splitter': 'best',\n",
       "   'min_samples_split': 10,\n",
       "   'max_leaf_nodes': 6,\n",
       "   'max_features': 'log2',\n",
       "   'max_depth': 4,\n",
       "   'criterion': 'gini'},\n",
       "  {'splitter': 'random',\n",
       "   'min_samples_split': 6,\n",
       "   'max_leaf_nodes': 8,\n",
       "   'max_features': 'sqrt',\n",
       "   'max_depth': 4,\n",
       "   'criterion': 'entropy'},\n",
       "  {'splitter': 'best',\n",
       "   'min_samples_split': 2,\n",
       "   'max_leaf_nodes': 8,\n",
       "   'max_features': 'log2',\n",
       "   'max_depth': 2,\n",
       "   'criterion': 'entropy'},\n",
       "  {'splitter': 'random',\n",
       "   'min_samples_split': 2,\n",
       "   'max_leaf_nodes': 8,\n",
       "   'max_features': 'log2',\n",
       "   'max_depth': 8,\n",
       "   'criterion': 'gini'},\n",
       "  {'splitter': 'best',\n",
       "   'min_samples_split': 7,\n",
       "   'max_leaf_nodes': 3,\n",
       "   'max_features': 'log2',\n",
       "   'max_depth': 3,\n",
       "   'criterion': 'entropy'},\n",
       "  {'splitter': 'best',\n",
       "   'min_samples_split': 9,\n",
       "   'max_leaf_nodes': 9,\n",
       "   'max_features': 'log2',\n",
       "   'max_depth': 1,\n",
       "   'criterion': 'entropy'},\n",
       "  {'splitter': 'random',\n",
       "   'min_samples_split': 2,\n",
       "   'max_leaf_nodes': 10,\n",
       "   'max_features': 'auto',\n",
       "   'max_depth': 5,\n",
       "   'criterion': 'gini'},\n",
       "  {'splitter': 'random',\n",
       "   'min_samples_split': 2,\n",
       "   'max_leaf_nodes': 8,\n",
       "   'max_features': 'auto',\n",
       "   'max_depth': 3,\n",
       "   'criterion': 'entropy'},\n",
       "  {'splitter': 'best',\n",
       "   'min_samples_split': 6,\n",
       "   'max_leaf_nodes': 9,\n",
       "   'max_features': 'log2',\n",
       "   'max_depth': 5,\n",
       "   'criterion': 'gini'},\n",
       "  {'splitter': 'best',\n",
       "   'min_samples_split': 6,\n",
       "   'max_leaf_nodes': 1,\n",
       "   'max_features': 'sqrt',\n",
       "   'max_depth': 11,\n",
       "   'criterion': 'entropy'},\n",
       "  {'splitter': 'random',\n",
       "   'min_samples_split': 2,\n",
       "   'max_leaf_nodes': 4,\n",
       "   'max_features': 'log2',\n",
       "   'max_depth': 8,\n",
       "   'criterion': 'entropy'},\n",
       "  {'splitter': 'best',\n",
       "   'min_samples_split': 9,\n",
       "   'max_leaf_nodes': 5,\n",
       "   'max_features': 'sqrt',\n",
       "   'max_depth': 4,\n",
       "   'criterion': 'entropy'},\n",
       "  {'splitter': 'random',\n",
       "   'min_samples_split': 6,\n",
       "   'max_leaf_nodes': 1,\n",
       "   'max_features': 'sqrt',\n",
       "   'max_depth': 8,\n",
       "   'criterion': 'entropy'},\n",
       "  {'splitter': 'random',\n",
       "   'min_samples_split': 7,\n",
       "   'max_leaf_nodes': 10,\n",
       "   'max_features': 'log2',\n",
       "   'max_depth': 8,\n",
       "   'criterion': 'entropy'},\n",
       "  {'splitter': 'random',\n",
       "   'min_samples_split': 10,\n",
       "   'max_leaf_nodes': 10,\n",
       "   'max_features': 'sqrt',\n",
       "   'max_depth': 8,\n",
       "   'criterion': 'entropy'},\n",
       "  {'splitter': 'best',\n",
       "   'min_samples_split': 3,\n",
       "   'max_leaf_nodes': 3,\n",
       "   'max_features': 'sqrt',\n",
       "   'max_depth': 8,\n",
       "   'criterion': 'gini'},\n",
       "  {'splitter': 'best',\n",
       "   'min_samples_split': 2,\n",
       "   'max_leaf_nodes': 8,\n",
       "   'max_features': 'auto',\n",
       "   'max_depth': 5,\n",
       "   'criterion': 'entropy'},\n",
       "  {'splitter': 'random',\n",
       "   'min_samples_split': 2,\n",
       "   'max_leaf_nodes': 10,\n",
       "   'max_features': 'sqrt',\n",
       "   'max_depth': 8,\n",
       "   'criterion': 'entropy'},\n",
       "  {'splitter': 'best',\n",
       "   'min_samples_split': 9,\n",
       "   'max_leaf_nodes': 2,\n",
       "   'max_features': 'sqrt',\n",
       "   'max_depth': 11,\n",
       "   'criterion': 'entropy'},\n",
       "  {'splitter': 'random',\n",
       "   'min_samples_split': 2,\n",
       "   'max_leaf_nodes': 10,\n",
       "   'max_features': 'sqrt',\n",
       "   'max_depth': 4,\n",
       "   'criterion': 'gini'},\n",
       "  {'splitter': 'random',\n",
       "   'min_samples_split': 6,\n",
       "   'max_leaf_nodes': 2,\n",
       "   'max_features': 'sqrt',\n",
       "   'max_depth': 6,\n",
       "   'criterion': 'entropy'},\n",
       "  {'splitter': 'best',\n",
       "   'min_samples_split': 5,\n",
       "   'max_leaf_nodes': 6,\n",
       "   'max_features': 'log2',\n",
       "   'max_depth': 8,\n",
       "   'criterion': 'entropy'},\n",
       "  {'splitter': 'best',\n",
       "   'min_samples_split': 9,\n",
       "   'max_leaf_nodes': 10,\n",
       "   'max_features': 'sqrt',\n",
       "   'max_depth': 5,\n",
       "   'criterion': 'entropy'},\n",
       "  {'splitter': 'random',\n",
       "   'min_samples_split': 9,\n",
       "   'max_leaf_nodes': 10,\n",
       "   'max_features': 'sqrt',\n",
       "   'max_depth': 8,\n",
       "   'criterion': 'gini'},\n",
       "  {'splitter': 'best',\n",
       "   'min_samples_split': 7,\n",
       "   'max_leaf_nodes': 10,\n",
       "   'max_features': 'log2',\n",
       "   'max_depth': 5,\n",
       "   'criterion': 'gini'},\n",
       "  {'splitter': 'random',\n",
       "   'min_samples_split': 6,\n",
       "   'max_leaf_nodes': 10,\n",
       "   'max_features': 'sqrt',\n",
       "   'max_depth': 4,\n",
       "   'criterion': 'entropy'},\n",
       "  {'splitter': 'best',\n",
       "   'min_samples_split': 6,\n",
       "   'max_leaf_nodes': 10,\n",
       "   'max_features': 'log2',\n",
       "   'max_depth': 5,\n",
       "   'criterion': 'gini'},\n",
       "  {'splitter': 'best',\n",
       "   'min_samples_split': 5,\n",
       "   'max_leaf_nodes': 10,\n",
       "   'max_features': 'auto',\n",
       "   'max_depth': 11,\n",
       "   'criterion': 'gini'},\n",
       "  {'splitter': 'random',\n",
       "   'min_samples_split': 5,\n",
       "   'max_leaf_nodes': 3,\n",
       "   'max_features': 'sqrt',\n",
       "   'max_depth': 1,\n",
       "   'criterion': 'gini'},\n",
       "  {'splitter': 'random',\n",
       "   'min_samples_split': 4,\n",
       "   'max_leaf_nodes': 9,\n",
       "   'max_features': 'log2',\n",
       "   'max_depth': 5,\n",
       "   'criterion': 'gini'},\n",
       "  {'splitter': 'best',\n",
       "   'min_samples_split': 2,\n",
       "   'max_leaf_nodes': 10,\n",
       "   'max_features': 'auto',\n",
       "   'max_depth': 5,\n",
       "   'criterion': 'entropy'},\n",
       "  {'splitter': 'best',\n",
       "   'min_samples_split': 7,\n",
       "   'max_leaf_nodes': 2,\n",
       "   'max_features': 'auto',\n",
       "   'max_depth': 5,\n",
       "   'criterion': 'entropy'},\n",
       "  {'splitter': 'random',\n",
       "   'min_samples_split': 9,\n",
       "   'max_leaf_nodes': 4,\n",
       "   'max_features': 'sqrt',\n",
       "   'max_depth': 2,\n",
       "   'criterion': 'entropy'},\n",
       "  {'splitter': 'random',\n",
       "   'min_samples_split': 2,\n",
       "   'max_leaf_nodes': 9,\n",
       "   'max_features': 'log2',\n",
       "   'max_depth': 8,\n",
       "   'criterion': 'entropy'},\n",
       "  {'splitter': 'random',\n",
       "   'min_samples_split': 2,\n",
       "   'max_leaf_nodes': 4,\n",
       "   'max_features': 'log2',\n",
       "   'max_depth': 8,\n",
       "   'criterion': 'gini'},\n",
       "  {'splitter': 'best',\n",
       "   'min_samples_split': 1,\n",
       "   'max_leaf_nodes': 10,\n",
       "   'max_features': 'log2',\n",
       "   'max_depth': 4,\n",
       "   'criterion': 'gini'},\n",
       "  {'splitter': 'random',\n",
       "   'min_samples_split': 4,\n",
       "   'max_leaf_nodes': 9,\n",
       "   'max_features': 'log2',\n",
       "   'max_depth': 4,\n",
       "   'criterion': 'gini'},\n",
       "  {'splitter': 'random',\n",
       "   'min_samples_split': 5,\n",
       "   'max_leaf_nodes': 9,\n",
       "   'max_features': 'sqrt',\n",
       "   'max_depth': 1,\n",
       "   'criterion': 'entropy'},\n",
       "  {'splitter': 'random',\n",
       "   'min_samples_split': 5,\n",
       "   'max_leaf_nodes': 9,\n",
       "   'max_features': 'auto',\n",
       "   'max_depth': 2,\n",
       "   'criterion': 'entropy'},\n",
       "  {'splitter': 'random',\n",
       "   'min_samples_split': 5,\n",
       "   'max_leaf_nodes': 5,\n",
       "   'max_features': 'auto',\n",
       "   'max_depth': 8,\n",
       "   'criterion': 'entropy'},\n",
       "  {'splitter': 'best',\n",
       "   'min_samples_split': 10,\n",
       "   'max_leaf_nodes': 2,\n",
       "   'max_features': 'sqrt',\n",
       "   'max_depth': 5,\n",
       "   'criterion': 'entropy'},\n",
       "  {'splitter': 'best',\n",
       "   'min_samples_split': 9,\n",
       "   'max_leaf_nodes': 8,\n",
       "   'max_features': 'sqrt',\n",
       "   'max_depth': 5,\n",
       "   'criterion': 'gini'},\n",
       "  {'splitter': 'random',\n",
       "   'min_samples_split': 10,\n",
       "   'max_leaf_nodes': 9,\n",
       "   'max_features': 'log2',\n",
       "   'max_depth': 1,\n",
       "   'criterion': 'gini'},\n",
       "  {'splitter': 'random',\n",
       "   'min_samples_split': 2,\n",
       "   'max_leaf_nodes': 3,\n",
       "   'max_features': 'auto',\n",
       "   'max_depth': 2,\n",
       "   'criterion': 'entropy'},\n",
       "  {'splitter': 'best',\n",
       "   'min_samples_split': 10,\n",
       "   'max_leaf_nodes': 10,\n",
       "   'max_features': 'log2',\n",
       "   'max_depth': 2,\n",
       "   'criterion': 'entropy'},\n",
       "  {'splitter': 'best',\n",
       "   'min_samples_split': 1,\n",
       "   'max_leaf_nodes': 3,\n",
       "   'max_features': 'sqrt',\n",
       "   'max_depth': 4,\n",
       "   'criterion': 'gini'},\n",
       "  {'splitter': 'random',\n",
       "   'min_samples_split': 4,\n",
       "   'max_leaf_nodes': 5,\n",
       "   'max_features': 'log2',\n",
       "   'max_depth': 8,\n",
       "   'criterion': 'gini'},\n",
       "  {'splitter': 'best',\n",
       "   'min_samples_split': 4,\n",
       "   'max_leaf_nodes': 2,\n",
       "   'max_features': 'auto',\n",
       "   'max_depth': 4,\n",
       "   'criterion': 'gini'},\n",
       "  {'splitter': 'random',\n",
       "   'min_samples_split': 2,\n",
       "   'max_leaf_nodes': 10,\n",
       "   'max_features': 'sqrt',\n",
       "   'max_depth': 8,\n",
       "   'criterion': 'entropy'},\n",
       "  {'splitter': 'random',\n",
       "   'min_samples_split': 7,\n",
       "   'max_leaf_nodes': 9,\n",
       "   'max_features': 'log2',\n",
       "   'max_depth': 3,\n",
       "   'criterion': 'gini'},\n",
       "  {'splitter': 'best',\n",
       "   'min_samples_split': 2,\n",
       "   'max_leaf_nodes': 6,\n",
       "   'max_features': 'auto',\n",
       "   'max_depth': 5,\n",
       "   'criterion': 'gini'},\n",
       "  {'splitter': 'best',\n",
       "   'min_samples_split': 5,\n",
       "   'max_leaf_nodes': 6,\n",
       "   'max_features': 'auto',\n",
       "   'max_depth': 3,\n",
       "   'criterion': 'gini'},\n",
       "  {'splitter': 'random',\n",
       "   'min_samples_split': 2,\n",
       "   'max_leaf_nodes': 1,\n",
       "   'max_features': 'log2',\n",
       "   'max_depth': 8,\n",
       "   'criterion': 'entropy'},\n",
       "  {'splitter': 'best',\n",
       "   'min_samples_split': 2,\n",
       "   'max_leaf_nodes': 8,\n",
       "   'max_features': 'sqrt',\n",
       "   'max_depth': 6,\n",
       "   'criterion': 'gini'},\n",
       "  {'splitter': 'random',\n",
       "   'min_samples_split': 9,\n",
       "   'max_leaf_nodes': 6,\n",
       "   'max_features': 'auto',\n",
       "   'max_depth': 4,\n",
       "   'criterion': 'entropy'},\n",
       "  {'splitter': 'random',\n",
       "   'min_samples_split': 9,\n",
       "   'max_leaf_nodes': 10,\n",
       "   'max_features': 'log2',\n",
       "   'max_depth': 5,\n",
       "   'criterion': 'gini'},\n",
       "  {'splitter': 'best',\n",
       "   'min_samples_split': 3,\n",
       "   'max_leaf_nodes': 6,\n",
       "   'max_features': 'auto',\n",
       "   'max_depth': 8,\n",
       "   'criterion': 'entropy'},\n",
       "  {'splitter': 'best',\n",
       "   'min_samples_split': 5,\n",
       "   'max_leaf_nodes': 4,\n",
       "   'max_features': 'auto',\n",
       "   'max_depth': 6,\n",
       "   'criterion': 'entropy'},\n",
       "  {'splitter': 'random',\n",
       "   'min_samples_split': 3,\n",
       "   'max_leaf_nodes': 3,\n",
       "   'max_features': 'sqrt',\n",
       "   'max_depth': 5,\n",
       "   'criterion': 'gini'},\n",
       "  {'splitter': 'random',\n",
       "   'min_samples_split': 3,\n",
       "   'max_leaf_nodes': 6,\n",
       "   'max_features': 'log2',\n",
       "   'max_depth': 1,\n",
       "   'criterion': 'gini'},\n",
       "  {'splitter': 'best',\n",
       "   'min_samples_split': 5,\n",
       "   'max_leaf_nodes': 9,\n",
       "   'max_features': 'sqrt',\n",
       "   'max_depth': 8,\n",
       "   'criterion': 'gini'},\n",
       "  {'splitter': 'best',\n",
       "   'min_samples_split': 7,\n",
       "   'max_leaf_nodes': 6,\n",
       "   'max_features': 'auto',\n",
       "   'max_depth': 5,\n",
       "   'criterion': 'gini'},\n",
       "  {'splitter': 'best',\n",
       "   'min_samples_split': 7,\n",
       "   'max_leaf_nodes': 10,\n",
       "   'max_features': 'log2',\n",
       "   'max_depth': 2,\n",
       "   'criterion': 'entropy'},\n",
       "  {'splitter': 'best',\n",
       "   'min_samples_split': 6,\n",
       "   'max_leaf_nodes': 4,\n",
       "   'max_features': 'log2',\n",
       "   'max_depth': 6,\n",
       "   'criterion': 'gini'},\n",
       "  {'splitter': 'random',\n",
       "   'min_samples_split': 5,\n",
       "   'max_leaf_nodes': 10,\n",
       "   'max_features': 'log2',\n",
       "   'max_depth': 6,\n",
       "   'criterion': 'gini'},\n",
       "  {'splitter': 'best',\n",
       "   'min_samples_split': 7,\n",
       "   'max_leaf_nodes': 4,\n",
       "   'max_features': 'sqrt',\n",
       "   'max_depth': 9,\n",
       "   'criterion': 'entropy'},\n",
       "  {'splitter': 'random',\n",
       "   'min_samples_split': 6,\n",
       "   'max_leaf_nodes': 9,\n",
       "   'max_features': 'sqrt',\n",
       "   'max_depth': 4,\n",
       "   'criterion': 'entropy'},\n",
       "  {'splitter': 'random',\n",
       "   'min_samples_split': 10,\n",
       "   'max_leaf_nodes': 4,\n",
       "   'max_features': 'sqrt',\n",
       "   'max_depth': 4,\n",
       "   'criterion': 'gini'},\n",
       "  {'splitter': 'random',\n",
       "   'min_samples_split': 10,\n",
       "   'max_leaf_nodes': 3,\n",
       "   'max_features': 'sqrt',\n",
       "   'max_depth': 1,\n",
       "   'criterion': 'entropy'},\n",
       "  {'splitter': 'random',\n",
       "   'min_samples_split': 9,\n",
       "   'max_leaf_nodes': 4,\n",
       "   'max_features': 'auto',\n",
       "   'max_depth': 3,\n",
       "   'criterion': 'gini'},\n",
       "  {'splitter': 'random',\n",
       "   'min_samples_split': 3,\n",
       "   'max_leaf_nodes': 10,\n",
       "   'max_features': 'sqrt',\n",
       "   'max_depth': 8,\n",
       "   'criterion': 'entropy'},\n",
       "  {'splitter': 'best',\n",
       "   'min_samples_split': 10,\n",
       "   'max_leaf_nodes': 8,\n",
       "   'max_features': 'auto',\n",
       "   'max_depth': 8,\n",
       "   'criterion': 'gini'},\n",
       "  {'splitter': 'random',\n",
       "   'min_samples_split': 4,\n",
       "   'max_leaf_nodes': 9,\n",
       "   'max_features': 'sqrt',\n",
       "   'max_depth': 5,\n",
       "   'criterion': 'entropy'},\n",
       "  {'splitter': 'random',\n",
       "   'min_samples_split': 6,\n",
       "   'max_leaf_nodes': 2,\n",
       "   'max_features': 'auto',\n",
       "   'max_depth': 4,\n",
       "   'criterion': 'entropy'},\n",
       "  {'splitter': 'best',\n",
       "   'min_samples_split': 4,\n",
       "   'max_leaf_nodes': 10,\n",
       "   'max_features': 'auto',\n",
       "   'max_depth': 6,\n",
       "   'criterion': 'entropy'},\n",
       "  {'splitter': 'best',\n",
       "   'min_samples_split': 5,\n",
       "   'max_leaf_nodes': 9,\n",
       "   'max_features': 'sqrt',\n",
       "   'max_depth': 2,\n",
       "   'criterion': 'entropy'},\n",
       "  {'splitter': 'best',\n",
       "   'min_samples_split': 10,\n",
       "   'max_leaf_nodes': 4,\n",
       "   'max_features': 'sqrt',\n",
       "   'max_depth': 6,\n",
       "   'criterion': 'entropy'},\n",
       "  {'splitter': 'best',\n",
       "   'min_samples_split': 2,\n",
       "   'max_leaf_nodes': 10,\n",
       "   'max_features': 'auto',\n",
       "   'max_depth': 3,\n",
       "   'criterion': 'gini'},\n",
       "  {'splitter': 'random',\n",
       "   'min_samples_split': 2,\n",
       "   'max_leaf_nodes': 8,\n",
       "   'max_features': 'sqrt',\n",
       "   'max_depth': 11,\n",
       "   'criterion': 'gini'},\n",
       "  {'splitter': 'random',\n",
       "   'min_samples_split': 3,\n",
       "   'max_leaf_nodes': 5,\n",
       "   'max_features': 'auto',\n",
       "   'max_depth': 6,\n",
       "   'criterion': 'gini'},\n",
       "  {'splitter': 'random',\n",
       "   'min_samples_split': 1,\n",
       "   'max_leaf_nodes': 1,\n",
       "   'max_features': 'log2',\n",
       "   'max_depth': 8,\n",
       "   'criterion': 'entropy'},\n",
       "  {'splitter': 'random',\n",
       "   'min_samples_split': 9,\n",
       "   'max_leaf_nodes': 9,\n",
       "   'max_features': 'log2',\n",
       "   'max_depth': 8,\n",
       "   'criterion': 'entropy'},\n",
       "  {'splitter': 'random',\n",
       "   'min_samples_split': 9,\n",
       "   'max_leaf_nodes': 10,\n",
       "   'max_features': 'sqrt',\n",
       "   'max_depth': 2,\n",
       "   'criterion': 'gini'},\n",
       "  {'splitter': 'random',\n",
       "   'min_samples_split': 3,\n",
       "   'max_leaf_nodes': 6,\n",
       "   'max_features': 'auto',\n",
       "   'max_depth': 8,\n",
       "   'criterion': 'entropy'},\n",
       "  {'splitter': 'random',\n",
       "   'min_samples_split': 5,\n",
       "   'max_leaf_nodes': 8,\n",
       "   'max_features': 'sqrt',\n",
       "   'max_depth': 5,\n",
       "   'criterion': 'entropy'},\n",
       "  {'splitter': 'random',\n",
       "   'min_samples_split': 10,\n",
       "   'max_leaf_nodes': 10,\n",
       "   'max_features': 'auto',\n",
       "   'max_depth': 1,\n",
       "   'criterion': 'entropy'},\n",
       "  {'splitter': 'best',\n",
       "   'min_samples_split': 6,\n",
       "   'max_leaf_nodes': 1,\n",
       "   'max_features': 'sqrt',\n",
       "   'max_depth': 5,\n",
       "   'criterion': 'entropy'},\n",
       "  {'splitter': 'random',\n",
       "   'min_samples_split': 7,\n",
       "   'max_leaf_nodes': 9,\n",
       "   'max_features': 'sqrt',\n",
       "   'max_depth': 3,\n",
       "   'criterion': 'entropy'},\n",
       "  {'splitter': 'random',\n",
       "   'min_samples_split': 3,\n",
       "   'max_leaf_nodes': 10,\n",
       "   'max_features': 'log2',\n",
       "   'max_depth': 3,\n",
       "   'criterion': 'gini'},\n",
       "  {'splitter': 'best',\n",
       "   'min_samples_split': 9,\n",
       "   'max_leaf_nodes': 10,\n",
       "   'max_features': 'auto',\n",
       "   'max_depth': 11,\n",
       "   'criterion': 'entropy'},\n",
       "  {'splitter': 'best',\n",
       "   'min_samples_split': 6,\n",
       "   'max_leaf_nodes': 3,\n",
       "   'max_features': 'sqrt',\n",
       "   'max_depth': 5,\n",
       "   'criterion': 'entropy'},\n",
       "  {'splitter': 'best',\n",
       "   'min_samples_split': 3,\n",
       "   'max_leaf_nodes': 1,\n",
       "   'max_features': 'sqrt',\n",
       "   'max_depth': 5,\n",
       "   'criterion': 'entropy'},\n",
       "  {'splitter': 'random',\n",
       "   'min_samples_split': 4,\n",
       "   'max_leaf_nodes': 8,\n",
       "   'max_features': 'auto',\n",
       "   'max_depth': 5,\n",
       "   'criterion': 'entropy'},\n",
       "  {'splitter': 'best',\n",
       "   'min_samples_split': 6,\n",
       "   'max_leaf_nodes': 1,\n",
       "   'max_features': 'auto',\n",
       "   'max_depth': 8,\n",
       "   'criterion': 'gini'},\n",
       "  {'splitter': 'random',\n",
       "   'min_samples_split': 6,\n",
       "   'max_leaf_nodes': 10,\n",
       "   'max_features': 'auto',\n",
       "   'max_depth': 5,\n",
       "   'criterion': 'entropy'},\n",
       "  {'splitter': 'random',\n",
       "   'min_samples_split': 6,\n",
       "   'max_leaf_nodes': 2,\n",
       "   'max_features': 'sqrt',\n",
       "   'max_depth': 2,\n",
       "   'criterion': 'gini'},\n",
       "  {'splitter': 'best',\n",
       "   'min_samples_split': 5,\n",
       "   'max_leaf_nodes': 6,\n",
       "   'max_features': 'sqrt',\n",
       "   'max_depth': 2,\n",
       "   'criterion': 'entropy'},\n",
       "  {'splitter': 'best',\n",
       "   'min_samples_split': 2,\n",
       "   'max_leaf_nodes': 8,\n",
       "   'max_features': 'auto',\n",
       "   'max_depth': 5,\n",
       "   'criterion': 'entropy'},\n",
       "  {'splitter': 'best',\n",
       "   'min_samples_split': 9,\n",
       "   'max_leaf_nodes': 2,\n",
       "   'max_features': 'log2',\n",
       "   'max_depth': 5,\n",
       "   'criterion': 'entropy'},\n",
       "  {'splitter': 'random',\n",
       "   'min_samples_split': 10,\n",
       "   'max_leaf_nodes': 10,\n",
       "   'max_features': 'log2',\n",
       "   'max_depth': 8,\n",
       "   'criterion': 'gini'},\n",
       "  {'splitter': 'random',\n",
       "   'min_samples_split': 9,\n",
       "   'max_leaf_nodes': 9,\n",
       "   'max_features': 'sqrt',\n",
       "   'max_depth': 11,\n",
       "   'criterion': 'entropy'},\n",
       "  {'splitter': 'random',\n",
       "   'min_samples_split': 2,\n",
       "   'max_leaf_nodes': 6,\n",
       "   'max_features': 'sqrt',\n",
       "   'max_depth': 3,\n",
       "   'criterion': 'gini'},\n",
       "  {'splitter': 'best',\n",
       "   'min_samples_split': 5,\n",
       "   'max_leaf_nodes': 1,\n",
       "   'max_features': 'log2',\n",
       "   'max_depth': 9,\n",
       "   'criterion': 'gini'},\n",
       "  {'splitter': 'random',\n",
       "   'min_samples_split': 2,\n",
       "   'max_leaf_nodes': 1,\n",
       "   'max_features': 'log2',\n",
       "   'max_depth': 1,\n",
       "   'criterion': 'gini'},\n",
       "  {'splitter': 'best',\n",
       "   'min_samples_split': 10,\n",
       "   'max_leaf_nodes': 9,\n",
       "   'max_features': 'sqrt',\n",
       "   'max_depth': 6,\n",
       "   'criterion': 'gini'},\n",
       "  {'splitter': 'best',\n",
       "   'min_samples_split': 7,\n",
       "   'max_leaf_nodes': 8,\n",
       "   'max_features': 'sqrt',\n",
       "   'max_depth': 11,\n",
       "   'criterion': 'gini'},\n",
       "  {'splitter': 'best',\n",
       "   'min_samples_split': 3,\n",
       "   'max_leaf_nodes': 1,\n",
       "   'max_features': 'sqrt',\n",
       "   'max_depth': 5,\n",
       "   'criterion': 'entropy'},\n",
       "  {'splitter': 'best',\n",
       "   'min_samples_split': 9,\n",
       "   'max_leaf_nodes': 6,\n",
       "   'max_features': 'auto',\n",
       "   'max_depth': 11,\n",
       "   'criterion': 'gini'},\n",
       "  {'splitter': 'random',\n",
       "   'min_samples_split': 10,\n",
       "   'max_leaf_nodes': 4,\n",
       "   'max_features': 'sqrt',\n",
       "   'max_depth': 5,\n",
       "   'criterion': 'gini'},\n",
       "  {'splitter': 'random',\n",
       "   'min_samples_split': 9,\n",
       "   'max_leaf_nodes': 6,\n",
       "   'max_features': 'log2',\n",
       "   'max_depth': 2,\n",
       "   'criterion': 'entropy'},\n",
       "  {'splitter': 'best',\n",
       "   'min_samples_split': 3,\n",
       "   'max_leaf_nodes': 9,\n",
       "   'max_features': 'auto',\n",
       "   'max_depth': 5,\n",
       "   'criterion': 'gini'},\n",
       "  {'splitter': 'random',\n",
       "   'min_samples_split': 6,\n",
       "   'max_leaf_nodes': 10,\n",
       "   'max_features': 'log2',\n",
       "   'max_depth': 4,\n",
       "   'criterion': 'entropy'},\n",
       "  {'splitter': 'best',\n",
       "   'min_samples_split': 6,\n",
       "   'max_leaf_nodes': 9,\n",
       "   'max_features': 'sqrt',\n",
       "   'max_depth': 4,\n",
       "   'criterion': 'entropy'},\n",
       "  {'splitter': 'random',\n",
       "   'min_samples_split': 5,\n",
       "   'max_leaf_nodes': 10,\n",
       "   'max_features': 'sqrt',\n",
       "   'max_depth': 8,\n",
       "   'criterion': 'entropy'},\n",
       "  {'splitter': 'random',\n",
       "   'min_samples_split': 5,\n",
       "   'max_leaf_nodes': 9,\n",
       "   'max_features': 'log2',\n",
       "   'max_depth': 8,\n",
       "   'criterion': 'gini'},\n",
       "  {'splitter': 'best',\n",
       "   'min_samples_split': 2,\n",
       "   'max_leaf_nodes': 4,\n",
       "   'max_features': 'auto',\n",
       "   'max_depth': 11,\n",
       "   'criterion': 'gini'},\n",
       "  {'splitter': 'random',\n",
       "   'min_samples_split': 9,\n",
       "   'max_leaf_nodes': 9,\n",
       "   'max_features': 'sqrt',\n",
       "   'max_depth': 9,\n",
       "   'criterion': 'gini'},\n",
       "  {'splitter': 'best',\n",
       "   'min_samples_split': 6,\n",
       "   'max_leaf_nodes': 10,\n",
       "   'max_features': 'log2',\n",
       "   'max_depth': 4,\n",
       "   'criterion': 'gini'},\n",
       "  {'splitter': 'random',\n",
       "   'min_samples_split': 10,\n",
       "   'max_leaf_nodes': 8,\n",
       "   'max_features': 'auto',\n",
       "   'max_depth': 5,\n",
       "   'criterion': 'gini'},\n",
       "  {'splitter': 'best',\n",
       "   'min_samples_split': 9,\n",
       "   'max_leaf_nodes': 10,\n",
       "   'max_features': 'log2',\n",
       "   'max_depth': 1,\n",
       "   'criterion': 'entropy'},\n",
       "  {'splitter': 'best',\n",
       "   'min_samples_split': 6,\n",
       "   'max_leaf_nodes': 8,\n",
       "   'max_features': 'auto',\n",
       "   'max_depth': 3,\n",
       "   'criterion': 'gini'},\n",
       "  {'splitter': 'best',\n",
       "   'min_samples_split': 3,\n",
       "   'max_leaf_nodes': 4,\n",
       "   'max_features': 'sqrt',\n",
       "   'max_depth': 4,\n",
       "   'criterion': 'gini'},\n",
       "  {'splitter': 'best',\n",
       "   'min_samples_split': 9,\n",
       "   'max_leaf_nodes': 8,\n",
       "   'max_features': 'log2',\n",
       "   'max_depth': 8,\n",
       "   'criterion': 'gini'},\n",
       "  {'splitter': 'random',\n",
       "   'min_samples_split': 6,\n",
       "   'max_leaf_nodes': 9,\n",
       "   'max_features': 'auto',\n",
       "   'max_depth': 8,\n",
       "   'criterion': 'entropy'},\n",
       "  {'splitter': 'best',\n",
       "   'min_samples_split': 6,\n",
       "   'max_leaf_nodes': 6,\n",
       "   'max_features': 'sqrt',\n",
       "   'max_depth': 8,\n",
       "   'criterion': 'gini'},\n",
       "  {'splitter': 'best',\n",
       "   'min_samples_split': 5,\n",
       "   'max_leaf_nodes': 5,\n",
       "   'max_features': 'auto',\n",
       "   'max_depth': 1,\n",
       "   'criterion': 'entropy'},\n",
       "  {'splitter': 'random',\n",
       "   'min_samples_split': 7,\n",
       "   'max_leaf_nodes': 9,\n",
       "   'max_features': 'sqrt',\n",
       "   'max_depth': 4,\n",
       "   'criterion': 'entropy'},\n",
       "  {'splitter': 'random',\n",
       "   'min_samples_split': 7,\n",
       "   'max_leaf_nodes': 10,\n",
       "   'max_features': 'log2',\n",
       "   'max_depth': 11,\n",
       "   'criterion': 'entropy'},\n",
       "  {'splitter': 'best',\n",
       "   'min_samples_split': 6,\n",
       "   'max_leaf_nodes': 9,\n",
       "   'max_features': 'log2',\n",
       "   'max_depth': 6,\n",
       "   'criterion': 'entropy'},\n",
       "  {'splitter': 'best',\n",
       "   'min_samples_split': 2,\n",
       "   'max_leaf_nodes': 5,\n",
       "   'max_features': 'auto',\n",
       "   'max_depth': 8,\n",
       "   'criterion': 'gini'},\n",
       "  {'splitter': 'best',\n",
       "   'min_samples_split': 3,\n",
       "   'max_leaf_nodes': 1,\n",
       "   'max_features': 'auto',\n",
       "   'max_depth': 4,\n",
       "   'criterion': 'entropy'},\n",
       "  {'splitter': 'best',\n",
       "   'min_samples_split': 9,\n",
       "   'max_leaf_nodes': 8,\n",
       "   'max_features': 'sqrt',\n",
       "   'max_depth': 11,\n",
       "   'criterion': 'entropy'},\n",
       "  {'splitter': 'random',\n",
       "   'min_samples_split': 9,\n",
       "   'max_leaf_nodes': 10,\n",
       "   'max_features': 'log2',\n",
       "   'max_depth': 8,\n",
       "   'criterion': 'gini'},\n",
       "  {'splitter': 'random',\n",
       "   'min_samples_split': 3,\n",
       "   'max_leaf_nodes': 9,\n",
       "   'max_features': 'log2',\n",
       "   'max_depth': 5,\n",
       "   'criterion': 'entropy'},\n",
       "  {'splitter': 'best',\n",
       "   'min_samples_split': 2,\n",
       "   'max_leaf_nodes': 9,\n",
       "   'max_features': 'sqrt',\n",
       "   'max_depth': 1,\n",
       "   'criterion': 'entropy'},\n",
       "  {'splitter': 'random',\n",
       "   'min_samples_split': 3,\n",
       "   'max_leaf_nodes': 5,\n",
       "   'max_features': 'auto',\n",
       "   'max_depth': 5,\n",
       "   'criterion': 'entropy'},\n",
       "  {'splitter': 'best',\n",
       "   'min_samples_split': 6,\n",
       "   'max_leaf_nodes': 6,\n",
       "   'max_features': 'log2',\n",
       "   'max_depth': 3,\n",
       "   'criterion': 'gini'},\n",
       "  {'splitter': 'best',\n",
       "   'min_samples_split': 6,\n",
       "   'max_leaf_nodes': 10,\n",
       "   'max_features': 'log2',\n",
       "   'max_depth': 5,\n",
       "   'criterion': 'entropy'},\n",
       "  {'splitter': 'best',\n",
       "   'min_samples_split': 7,\n",
       "   'max_leaf_nodes': 8,\n",
       "   'max_features': 'sqrt',\n",
       "   'max_depth': 4,\n",
       "   'criterion': 'gini'},\n",
       "  {'splitter': 'best',\n",
       "   'min_samples_split': 5,\n",
       "   'max_leaf_nodes': 5,\n",
       "   'max_features': 'auto',\n",
       "   'max_depth': 5,\n",
       "   'criterion': 'entropy'},\n",
       "  {'splitter': 'best',\n",
       "   'min_samples_split': 7,\n",
       "   'max_leaf_nodes': 8,\n",
       "   'max_features': 'log2',\n",
       "   'max_depth': 2,\n",
       "   'criterion': 'gini'},\n",
       "  {'splitter': 'random',\n",
       "   'min_samples_split': 5,\n",
       "   'max_leaf_nodes': 6,\n",
       "   'max_features': 'sqrt',\n",
       "   'max_depth': 5,\n",
       "   'criterion': 'entropy'},\n",
       "  {'splitter': 'best',\n",
       "   'min_samples_split': 9,\n",
       "   'max_leaf_nodes': 2,\n",
       "   'max_features': 'log2',\n",
       "   'max_depth': 2,\n",
       "   'criterion': 'gini'},\n",
       "  {'splitter': 'best',\n",
       "   'min_samples_split': 1,\n",
       "   'max_leaf_nodes': 3,\n",
       "   'max_features': 'auto',\n",
       "   'max_depth': 6,\n",
       "   'criterion': 'entropy'},\n",
       "  {'splitter': 'best',\n",
       "   'min_samples_split': 6,\n",
       "   'max_leaf_nodes': 10,\n",
       "   'max_features': 'auto',\n",
       "   'max_depth': 5,\n",
       "   'criterion': 'gini'},\n",
       "  {'splitter': 'best',\n",
       "   'min_samples_split': 2,\n",
       "   'max_leaf_nodes': 3,\n",
       "   'max_features': 'sqrt',\n",
       "   'max_depth': 3,\n",
       "   'criterion': 'entropy'},\n",
       "  {'splitter': 'best',\n",
       "   'min_samples_split': 3,\n",
       "   'max_leaf_nodes': 2,\n",
       "   'max_features': 'sqrt',\n",
       "   'max_depth': 8,\n",
       "   'criterion': 'gini'},\n",
       "  {'splitter': 'random',\n",
       "   'min_samples_split': 1,\n",
       "   'max_leaf_nodes': 4,\n",
       "   'max_features': 'auto',\n",
       "   'max_depth': 3,\n",
       "   'criterion': 'entropy'},\n",
       "  {'splitter': 'random',\n",
       "   'min_samples_split': 5,\n",
       "   'max_leaf_nodes': 8,\n",
       "   'max_features': 'sqrt',\n",
       "   'max_depth': 8,\n",
       "   'criterion': 'gini'},\n",
       "  {'splitter': 'random',\n",
       "   'min_samples_split': 2,\n",
       "   'max_leaf_nodes': 2,\n",
       "   'max_features': 'sqrt',\n",
       "   'max_depth': 5,\n",
       "   'criterion': 'entropy'},\n",
       "  {'splitter': 'best',\n",
       "   'min_samples_split': 5,\n",
       "   'max_leaf_nodes': 1,\n",
       "   'max_features': 'auto',\n",
       "   'max_depth': 8,\n",
       "   'criterion': 'gini'},\n",
       "  {'splitter': 'random',\n",
       "   'min_samples_split': 2,\n",
       "   'max_leaf_nodes': 3,\n",
       "   'max_features': 'auto',\n",
       "   'max_depth': 2,\n",
       "   'criterion': 'gini'},\n",
       "  {'splitter': 'best',\n",
       "   'min_samples_split': 7,\n",
       "   'max_leaf_nodes': 8,\n",
       "   'max_features': 'sqrt',\n",
       "   'max_depth': 8,\n",
       "   'criterion': 'entropy'},\n",
       "  {'splitter': 'random',\n",
       "   'min_samples_split': 3,\n",
       "   'max_leaf_nodes': 10,\n",
       "   'max_features': 'sqrt',\n",
       "   'max_depth': 8,\n",
       "   'criterion': 'gini'},\n",
       "  {'splitter': 'random',\n",
       "   'min_samples_split': 1,\n",
       "   'max_leaf_nodes': 10,\n",
       "   'max_features': 'sqrt',\n",
       "   'max_depth': 3,\n",
       "   'criterion': 'gini'},\n",
       "  {'splitter': 'random',\n",
       "   'min_samples_split': 6,\n",
       "   'max_leaf_nodes': 2,\n",
       "   'max_features': 'sqrt',\n",
       "   'max_depth': 2,\n",
       "   'criterion': 'gini'},\n",
       "  {'splitter': 'best',\n",
       "   'min_samples_split': 6,\n",
       "   'max_leaf_nodes': 3,\n",
       "   'max_features': 'sqrt',\n",
       "   'max_depth': 6,\n",
       "   'criterion': 'gini'},\n",
       "  {'splitter': 'random',\n",
       "   'min_samples_split': 2,\n",
       "   'max_leaf_nodes': 10,\n",
       "   'max_features': 'sqrt',\n",
       "   'max_depth': 5,\n",
       "   'criterion': 'gini'},\n",
       "  {'splitter': 'random',\n",
       "   'min_samples_split': 9,\n",
       "   'max_leaf_nodes': 5,\n",
       "   'max_features': 'log2',\n",
       "   'max_depth': 2,\n",
       "   'criterion': 'entropy'},\n",
       "  {'splitter': 'best',\n",
       "   'min_samples_split': 6,\n",
       "   'max_leaf_nodes': 10,\n",
       "   'max_features': 'sqrt',\n",
       "   'max_depth': 9,\n",
       "   'criterion': 'gini'}],\n",
       " 'split0_test_score': array([0.68087914, 0.67880231, 0.71182854, 0.67517177, 0.71376483,\n",
       "        0.71026702, 0.65586352, 0.68069176, 0.64892255, 0.69571362,\n",
       "        0.56579482, 0.70094472,        nan,        nan,        nan,\n",
       "        0.68275297, 0.70038257, 0.62713148, 0.68093379,        nan,\n",
       "        0.68069176, 0.6657792 ,        nan, 0.69741568, 0.70170206,\n",
       "        0.64409744,        nan,        nan, 0.72473454,        nan,\n",
       "        0.70811993, 0.63999063, 0.69961743,        nan, 0.70288101,\n",
       "        0.66962055, 0.69286384, 0.63848376, 0.67510931, 0.69698626,\n",
       "        0.7137258 , 0.71283573, 0.64576046, 0.70498907, 0.68772642,\n",
       "        0.6657792 , 0.70777639, 0.70797939, 0.71222673,        nan,\n",
       "        0.68280762, 0.6387258 ,        nan, 0.6363757 , 0.69209869,\n",
       "        0.64220019, 0.6490787 , 0.65213929, 0.62132261, 0.6753123 ,\n",
       "        0.54901624, 0.629505  , 0.68930356, 0.64853998, 0.72670206,\n",
       "        0.67251718, 0.71020456, 0.72942692, 0.62132261, 0.68760931,\n",
       "        0.70374766, 0.57025297, 0.62307933, 0.73133198, 0.66029825,\n",
       "               nan, 0.720495  , 0.62132261, 0.59274672, 0.68009057,\n",
       "        0.57720175, 0.71912086, 0.57720175, 0.58746877, 0.66413179,\n",
       "               nan, 0.65681605, 0.59291068, 0.72097908, 0.65273267,\n",
       "        0.70193629, 0.66816833,        nan, 0.72128357, 0.64127889,\n",
       "        0.67923173, 0.70174891, 0.69428482, 0.66668488, 0.56579482,\n",
       "        0.71931605, 0.70525453, 0.6657792 , 0.66165678, 0.70579325,\n",
       "        0.70910369, 0.64024047, 0.61295284, 0.58985009, 0.65275609,\n",
       "        0.67669425, 0.72154903, 0.67890381, 0.54704091, 0.70419269,\n",
       "        0.60178014, 0.6496877 , 0.70847908, 0.68454872, 0.66517021,\n",
       "               nan, 0.68219082, 0.62140069, 0.64358994, 0.67977046,\n",
       "        0.58758588,        nan, 0.68799188, 0.6475406 , 0.72498438,\n",
       "        0.57769363,        nan, 0.6891396 ,        nan, 0.68165209,\n",
       "        0.57162711, 0.66175828, 0.70329482, 0.6657792 , 0.68508745,\n",
       "        0.67215022, 0.69027951,        nan,        nan, 0.66531074,\n",
       "        0.71185197,        nan, 0.69581512, 0.63433011, 0.64325422,\n",
       "        0.70921299, 0.69611181, 0.66948001, 0.67624141, 0.70293567,\n",
       "        0.70703467, 0.72585884, 0.71919113, 0.71724703, 0.6657792 ,\n",
       "        0.68297939, 0.64394129, 0.68605559, 0.71479544, 0.71018114,\n",
       "        0.62132261, 0.69551843, 0.68187071, 0.66313242, 0.63962367,\n",
       "               nan, 0.64558089, 0.67389132, 0.69920362, 0.62132261,\n",
       "        0.67559338, 0.69455028, 0.71395222, 0.71419425, 0.67768582,\n",
       "        0.62132261, 0.62959869, 0.58985009,        nan, 0.71295284,\n",
       "        0.62104154, 0.68069176,        nan, 0.70206121, 0.56579482,\n",
       "               nan, 0.64499532, 0.68628982, 0.69693161,        nan,\n",
       "        0.57720175, 0.69428482, 0.65821362, 0.64363679, 0.69519831]),\n",
       " 'split1_test_score': array([0.66723663, 0.6954692 , 0.68498349, 0.71024914, 0.71525387,\n",
       "        0.69187767, 0.7051273 , 0.69151852, 0.64165866, 0.71390314,\n",
       "        0.62028904, 0.71188876,        nan,        nan,        nan,\n",
       "        0.71123291, 0.71076445, 0.66254421, 0.7092888 ,        nan,\n",
       "        0.68212588, 0.68713841,        nan, 0.68713841, 0.71184191,\n",
       "        0.66352017,        nan,        nan, 0.72452939,        nan,\n",
       "        0.70981191, 0.6616151 , 0.67501308,        nan, 0.70750084,\n",
       "        0.73111907, 0.70821915, 0.64817808, 0.68404657, 0.72360809,\n",
       "        0.67199151, 0.64780331, 0.62028904, 0.68798944, 0.63970674,\n",
       "        0.66723663, 0.6896681 , 0.62742526, 0.72124236,        nan,\n",
       "        0.70917168, 0.71642502,        nan, 0.73083019, 0.71427791,\n",
       "        0.68257091, 0.70840653, 0.70584561, 0.57784649, 0.68012711,\n",
       "        0.60433014, 0.68713841, 0.67802684, 0.7093903 , 0.71603463,\n",
       "        0.67071105, 0.71699498, 0.71330195, 0.54779472, 0.66526128,\n",
       "        0.71800998, 0.66723663, 0.60493133, 0.69254913, 0.64173674,\n",
       "               nan, 0.67028162, 0.65188673, 0.64186166, 0.66882159,\n",
       "        0.66723663, 0.71199806, 0.54779472, 0.58902708, 0.66740059,\n",
       "               nan, 0.63673982, 0.54779472, 0.67043778, 0.70857049,\n",
       "        0.7131536 , 0.66074844,        nan, 0.6490135 , 0.64721773,\n",
       "        0.66888405, 0.69598451, 0.66723663, 0.56531516, 0.62028904,\n",
       "        0.72833173, 0.67961961, 0.59252493, 0.69662474, 0.70286308,\n",
       "        0.63970674, 0.65462722, 0.67019574, 0.64489885, 0.68152468,\n",
       "        0.6692432 , 0.71954028, 0.63882448, 0.62028904, 0.69613286,\n",
       "        0.66740059, 0.64817808, 0.68555345, 0.71871267, 0.68912156,\n",
       "               nan, 0.62028904, 0.60433014, 0.65904637, 0.64573427,\n",
       "        0.58902708,        nan, 0.66313759, 0.62886968, 0.72721523,\n",
       "        0.64817808,        nan, 0.69061282,        nan, 0.70228531,\n",
       "        0.62028904, 0.68912156, 0.66259886, 0.60433014, 0.69005067,\n",
       "        0.69073775, 0.64401658,        nan,        nan, 0.70480719,\n",
       "        0.71899375,        nan, 0.66951647, 0.65080927, 0.69807697,\n",
       "        0.72061774, 0.69664816, 0.65914006, 0.67822984, 0.70383123,\n",
       "        0.66138087, 0.66684624, 0.7092888 , 0.68784891, 0.57120215,\n",
       "        0.62350581, 0.61469093, 0.68503814, 0.71124853, 0.69498513,\n",
       "        0.66723663, 0.66933689, 0.71391095, 0.71741659, 0.70636092,\n",
       "               nan, 0.70936688, 0.68697445, 0.67520827, 0.66723663,\n",
       "        0.68746633, 0.70986657, 0.68735702, 0.68243818, 0.68656845,\n",
       "        0.57815879, 0.67719923, 0.60433014,        nan, 0.71844721,\n",
       "        0.62754238, 0.62028904,        nan, 0.70272254, 0.57784649,\n",
       "               nan, 0.6616151 , 0.72173424, 0.68580329,        nan,\n",
       "        0.57120215, 0.68212588, 0.66994589, 0.60261245, 0.70063789]),\n",
       " 'split2_test_score': array([0.69705416, 0.71049899, 0.68757564, 0.69510224, 0.66032683,\n",
       "        0.72556001, 0.64493789, 0.71095183, 0.63355429, 0.6958752 ,\n",
       "        0.60477518, 0.71202929,        nan,        nan,        nan,\n",
       "        0.66255202, 0.69939647, 0.66765043, 0.72325674,        nan,\n",
       "        0.5981933 , 0.66839216,        nan, 0.62657422, 0.69106567,\n",
       "        0.71577698,        nan,        nan, 0.70942934,        nan,\n",
       "        0.6907924 , 0.68295349, 0.60529048,        nan, 0.72928427,\n",
       "        0.67203054, 0.69149509, 0.62633999, 0.71725263, 0.66594055,\n",
       "        0.71622202, 0.67384973, 0.6622319 , 0.70338619, 0.66814232,\n",
       "        0.62105419, 0.69285363, 0.64380578, 0.73224338,        nan,\n",
       "        0.60650848, 0.68812998,        nan, 0.69151852, 0.71255241,\n",
       "        0.59459396, 0.72513058, 0.70583   , 0.58032152, 0.69784274,\n",
       "        0.54273534, 0.72314743, 0.72278828, 0.70183246, 0.71667486,\n",
       "        0.68359372, 0.72186697, 0.70821134, 0.66814232, 0.6872321 ,\n",
       "        0.68796602, 0.54842714, 0.5658695 , 0.71027257, 0.62267038,\n",
       "               nan, 0.7090858 , 0.56959377, 0.68562372, 0.65690707,\n",
       "        0.62105419, 0.70554111, 0.57351322, 0.55868644, 0.6301033 ,\n",
       "               nan, 0.64199439, 0.68272707, 0.71138906, 0.67637161,\n",
       "        0.70421381, 0.66660421,        nan, 0.73028365, 0.66519882,\n",
       "        0.65525184, 0.71437941, 0.6622319 , 0.61971127, 0.58798866,\n",
       "        0.67323293, 0.7049243 , 0.6073361 , 0.70802395, 0.67876076,\n",
       "        0.69728839, 0.68495226, 0.62633999, 0.62105419, 0.64389166,\n",
       "        0.68960563, 0.73663911, 0.70774288, 0.65526745, 0.71013203,\n",
       "        0.6622319 , 0.70940591, 0.62762826, 0.69311128, 0.67752715,\n",
       "               nan, 0.68599068, 0.58798866, 0.6453595 , 0.62921322,\n",
       "        0.62105419,        nan, 0.66376221, 0.66189617, 0.65928841,\n",
       "        0.6622319 ,        nan, 0.67608273,        nan, 0.69888897,\n",
       "        0.62105419, 0.65007534, 0.7152851 , 0.60477518, 0.69896704,\n",
       "        0.69849858, 0.66526128,        nan,        nan, 0.70996026,\n",
       "        0.72874554,        nan, 0.71373137, 0.61978154, 0.62105419,\n",
       "        0.72053967, 0.69198698, 0.70937468, 0.72678581, 0.69974   ,\n",
       "        0.68461653, 0.71774452, 0.70540838, 0.69882651, 0.56718119,\n",
       "        0.64686639, 0.68922306, 0.70671226, 0.65963195, 0.71350495,\n",
       "        0.56718119, 0.6839763 , 0.72153124, 0.66922759, 0.71720579,\n",
       "               nan, 0.7203679 , 0.68360153, 0.63405398, 0.56718119,\n",
       "        0.66463667, 0.70565823, 0.68620149, 0.70981191, 0.61985181,\n",
       "        0.58055575, 0.68495226, 0.62105419,        nan, 0.68460872,\n",
       "        0.59334473, 0.59334473,        nan, 0.6670024 , 0.66814232,\n",
       "               nan, 0.60282326, 0.72650474, 0.7070558 ,        nan,\n",
       "        0.62105419, 0.68272707, 0.65286269, 0.6622319 , 0.72714497]),\n",
       " 'mean_test_score': array([0.68172331, 0.6949235 , 0.69479589, 0.69350772, 0.69644851,\n",
       "        0.7092349 , 0.66864291, 0.69438737, 0.6413785 , 0.70183065,\n",
       "        0.59695301, 0.70828759,        nan,        nan,        nan,\n",
       "        0.68551263, 0.7035145 , 0.65244204, 0.70449311,        nan,\n",
       "        0.65367031, 0.67376992,        nan, 0.6703761 , 0.70153655,\n",
       "        0.67446486,        nan,        nan, 0.71956442,        nan,\n",
       "        0.70290808, 0.66151974, 0.65997366,        nan, 0.71322204,\n",
       "        0.69092339, 0.69752602, 0.63766728, 0.69213617, 0.69551163,\n",
       "        0.70064644, 0.67816292, 0.64276047, 0.69878823, 0.66519183,\n",
       "        0.65135667, 0.69676604, 0.65973681, 0.72190416,        nan,\n",
       "        0.6661626 , 0.6810936 ,        nan, 0.68624147, 0.70630967,\n",
       "        0.63978835, 0.69420527, 0.6879383 , 0.59316354, 0.68442738,\n",
       "        0.56536057, 0.67993028, 0.69670623, 0.68658758, 0.71980385,\n",
       "        0.67560731, 0.7163555 , 0.71698007, 0.61241988, 0.68003423,\n",
       "        0.70324122, 0.59530558, 0.59796005, 0.71138456, 0.64156846,\n",
       "               nan, 0.69995414, 0.6142677 , 0.64007737, 0.66860641,\n",
       "        0.62183086, 0.71222001, 0.5661699 , 0.5783941 , 0.65387856,\n",
       "               nan, 0.64518342, 0.60781082, 0.70093531, 0.67922492,\n",
       "        0.70643457, 0.66517366,        nan, 0.70019358, 0.65123181,\n",
       "        0.66778921, 0.70403761, 0.67458445, 0.6172371 , 0.59135751,\n",
       "        0.70696024, 0.69659948, 0.62188007, 0.68876849, 0.6958057 ,\n",
       "        0.68203294, 0.65993998, 0.63649619, 0.61860105, 0.65939081,\n",
       "        0.67851436, 0.72590947, 0.67515705, 0.60753247, 0.70348586,\n",
       "        0.64380421, 0.66909056, 0.67388693, 0.69879089, 0.67727297,\n",
       "               nan, 0.66282351, 0.60457316, 0.64933194, 0.65157265,\n",
       "        0.59922239,        nan, 0.67163056, 0.64610215, 0.70382934,\n",
       "        0.62936787,        nan, 0.68527839,        nan, 0.69427546,\n",
       "        0.60432345, 0.66698506, 0.69372626, 0.62496151, 0.69136839,\n",
       "        0.68712885, 0.66651913,        nan,        nan, 0.6933594 ,\n",
       "        0.71986375,        nan, 0.69302098, 0.63497364, 0.65412846,\n",
       "        0.71679013, 0.69491565, 0.67933159, 0.69375236, 0.70216897,\n",
       "        0.68434402, 0.7034832 , 0.7112961 , 0.70130748, 0.60138751,\n",
       "        0.65111719, 0.64928509, 0.692602  , 0.6952253 , 0.70622374,\n",
       "        0.61858014, 0.68294387, 0.70577096, 0.68325887, 0.68773013,\n",
       "               nan, 0.69177189, 0.6814891 , 0.66948862, 0.61858014,\n",
       "        0.67589879, 0.70335836, 0.69583691, 0.70214812, 0.66136869,\n",
       "        0.59334572, 0.66391672, 0.60507814,        nan, 0.70533626,\n",
       "        0.61397622, 0.63144184,        nan, 0.69059538, 0.60392787,\n",
       "               nan, 0.63647789, 0.7115096 , 0.6965969 ,        nan,\n",
       "        0.58981936, 0.68637925, 0.66034073, 0.63616038, 0.70766039]),\n",
       " 'std_test_score': array([0.01218758, 0.01294587, 0.01209031, 0.0143646 , 0.02554912,\n",
       "        0.01377011, 0.02618111, 0.01251907, 0.00627719, 0.00853679,\n",
       "        0.02292444, 0.00519251,        nan,        nan,        nan,\n",
       "        0.01996946, 0.00514227, 0.01801826, 0.0176079 ,        nan,\n",
       "        0.03923254, 0.00951294,        nan, 0.0312555 , 0.00848267,\n",
       "        0.03026911,        nan,        nan, 0.00716708,        nan,\n",
       "        0.00859488, 0.01753964, 0.03995023,        nan, 0.01151324,\n",
       "        0.02843967, 0.0075818 , 0.00893403, 0.01813094, 0.02356575,\n",
       "        0.02028771, 0.02672398, 0.017254  , 0.00766389, 0.01971465,\n",
       "        0.02143535, 0.00789336, 0.03476195, 0.00818515,        nan,\n",
       "        0.04353333, 0.03210841,        nan, 0.038741  , 0.01007334,\n",
       "        0.03595691, 0.03263157, 0.02531372, 0.01993709, 0.0096876 ,\n",
       "        0.02767469, 0.03856764, 0.0190087 , 0.02708007, 0.00488477,\n",
       "        0.00569518, 0.00478258, 0.00904329, 0.04953336, 0.01044719,\n",
       "        0.01227062, 0.05163751, 0.02387034, 0.01585254, 0.01536197,\n",
       "               nan, 0.02149242, 0.03396431, 0.03793786, 0.00946585,\n",
       "        0.03676069, 0.00554613, 0.01308018, 0.01394993, 0.01686453,\n",
       "               nan, 0.00850063, 0.05608443, 0.02191752, 0.02288481,\n",
       "        0.0048412 , 0.00319359,        nan, 0.03637582, 0.01016941,\n",
       "        0.00982031, 0.00768209, 0.01407931, 0.04142098, 0.02237434,\n",
       "        0.02413116, 0.01200734, 0.03162481, 0.01972763, 0.01211181,\n",
       "        0.03031535, 0.01863607, 0.02444788, 0.02254041, 0.01606395,\n",
       "        0.00841197, 0.00763119, 0.02826028, 0.04509467, 0.00573695,\n",
       "        0.02979033, 0.02851392, 0.03402249, 0.01451407, 0.00977975,\n",
       "               nan, 0.03011639, 0.01364148, 0.00690702, 0.02104873,\n",
       "        0.01544863,        nan, 0.01157201, 0.01352132, 0.03150836,\n",
       "        0.03698692,        nan, 0.00653007,        nan, 0.00903312,\n",
       "        0.02312191, 0.0163634 , 0.02254814, 0.02886304, 0.00574242,\n",
       "        0.01105523, 0.01890769,        nan,        nan, 0.01994465,\n",
       "        0.00692415,        nan, 0.01815846, 0.01267519, 0.03237091,\n",
       "        0.00535794, 0.00208243, 0.02165902, 0.02337228, 0.00175602,\n",
       "        0.01863908, 0.02611718, 0.00580305, 0.01212927, 0.04556138,\n",
       "        0.02446533, 0.03066134, 0.00998611, 0.02520993, 0.00806191,\n",
       "        0.04089347, 0.01071347, 0.01718398, 0.024281  , 0.03430331,\n",
       "               nan, 0.0329693 , 0.0055461 , 0.02690297, 0.04089347,\n",
       "        0.00932267, 0.00646087, 0.01281814, 0.01405139, 0.02957999,\n",
       "        0.01980684, 0.02447207, 0.01275   ,        nan, 0.01482723,\n",
       "        0.0148281 , 0.0365209 ,        nan, 0.01668494, 0.04567225,\n",
       "               nan, 0.02474577, 0.01793911, 0.00867953,        nan,\n",
       "        0.02222176, 0.00559547, 0.00713454, 0.02490706, 0.0139555 ]),\n",
       " 'rank_test_score': array([ 84,  53,  55,  61,  48,  14, 105,  56, 137,  34, 166,  15, 182,\n",
       "        186, 191,  77,  26, 125,  23, 193, 124, 100, 199, 102,  35,  98,\n",
       "        195, 194,   5, 192,  31, 115, 118, 189,   9,  68,  43, 140,  65,\n",
       "         51,  38,  92, 135,  42, 111, 127,  44, 120,   2, 185, 110,  86,\n",
       "        179,  76,  19, 139,  58,  71, 169,  79, 174,  88,  45,  74,   4,\n",
       "         95,   8,   6, 156,  87,  30, 167, 165,  12, 136, 190,  40, 154,\n",
       "        138, 106, 149,  10, 173, 172, 123, 176, 133, 157,  37,  90,  18,\n",
       "        112, 196,  39, 128, 107,  24,  97, 153, 170,  17,  46, 148,  70,\n",
       "         50,  83, 119, 141, 150, 121,  91,   1,  96, 158,  27, 134, 104,\n",
       "         99,  41,  93, 198, 114, 160, 130, 126, 164, 197, 101, 132,  25,\n",
       "        146, 200,  78, 178,  57, 161, 108,  60, 147,  67,  73, 109, 181,\n",
       "        184,  62,   3, 188,  63, 144, 122,   7,  54,  89,  59,  32,  80,\n",
       "         28,  13,  36, 163, 129, 131,  64,  52,  20, 151,  82,  21,  81,\n",
       "         72, 175,  66,  85, 103, 151,  94,  29,  49,  33, 116, 168, 113,\n",
       "        159, 187,  22, 155, 145, 183,  69, 162, 180, 142,  11,  47, 177,\n",
       "        171,  75, 117, 143,  16])}"
      ]
     },
     "execution_count": 125,
     "metadata": {},
     "output_type": "execute_result"
    }
   ],
   "source": [
    "r.cv_results_"
   ]
  },
  {
   "cell_type": "code",
   "execution_count": 126,
   "id": "fc24da12",
   "metadata": {},
   "outputs": [
    {
     "data": {
      "text/html": [
       "<div>\n",
       "<style scoped>\n",
       "    .dataframe tbody tr th:only-of-type {\n",
       "        vertical-align: middle;\n",
       "    }\n",
       "\n",
       "    .dataframe tbody tr th {\n",
       "        vertical-align: top;\n",
       "    }\n",
       "\n",
       "    .dataframe thead th {\n",
       "        text-align: right;\n",
       "    }\n",
       "</style>\n",
       "<table border=\"1\" class=\"dataframe\">\n",
       "  <thead>\n",
       "    <tr style=\"text-align: right;\">\n",
       "      <th></th>\n",
       "      <th>mean_fit_time</th>\n",
       "      <th>std_fit_time</th>\n",
       "      <th>mean_score_time</th>\n",
       "      <th>std_score_time</th>\n",
       "      <th>param_splitter</th>\n",
       "      <th>param_min_samples_split</th>\n",
       "      <th>param_max_leaf_nodes</th>\n",
       "      <th>param_max_features</th>\n",
       "      <th>param_max_depth</th>\n",
       "      <th>param_criterion</th>\n",
       "      <th>params</th>\n",
       "      <th>split0_test_score</th>\n",
       "      <th>split1_test_score</th>\n",
       "      <th>split2_test_score</th>\n",
       "      <th>mean_test_score</th>\n",
       "      <th>std_test_score</th>\n",
       "      <th>rank_test_score</th>\n",
       "    </tr>\n",
       "  </thead>\n",
       "  <tbody>\n",
       "    <tr>\n",
       "      <th>0</th>\n",
       "      <td>0.292201</td>\n",
       "      <td>0.013812</td>\n",
       "      <td>0.047051</td>\n",
       "      <td>0.006178</td>\n",
       "      <td>best</td>\n",
       "      <td>3</td>\n",
       "      <td>3</td>\n",
       "      <td>sqrt</td>\n",
       "      <td>11</td>\n",
       "      <td>entropy</td>\n",
       "      <td>{'splitter': 'best', 'min_samples_split': 3, '...</td>\n",
       "      <td>0.680879</td>\n",
       "      <td>0.667237</td>\n",
       "      <td>0.697054</td>\n",
       "      <td>0.681723</td>\n",
       "      <td>0.012188</td>\n",
       "      <td>84</td>\n",
       "    </tr>\n",
       "    <tr>\n",
       "      <th>1</th>\n",
       "      <td>0.316525</td>\n",
       "      <td>0.020028</td>\n",
       "      <td>0.054523</td>\n",
       "      <td>0.006387</td>\n",
       "      <td>random</td>\n",
       "      <td>2</td>\n",
       "      <td>9</td>\n",
       "      <td>log2</td>\n",
       "      <td>5</td>\n",
       "      <td>entropy</td>\n",
       "      <td>{'splitter': 'random', 'min_samples_split': 2,...</td>\n",
       "      <td>0.678802</td>\n",
       "      <td>0.695469</td>\n",
       "      <td>0.710499</td>\n",
       "      <td>0.694924</td>\n",
       "      <td>0.012946</td>\n",
       "      <td>53</td>\n",
       "    </tr>\n",
       "    <tr>\n",
       "      <th>2</th>\n",
       "      <td>0.335725</td>\n",
       "      <td>0.034860</td>\n",
       "      <td>0.085630</td>\n",
       "      <td>0.017835</td>\n",
       "      <td>random</td>\n",
       "      <td>10</td>\n",
       "      <td>9</td>\n",
       "      <td>auto</td>\n",
       "      <td>5</td>\n",
       "      <td>gini</td>\n",
       "      <td>{'splitter': 'random', 'min_samples_split': 10...</td>\n",
       "      <td>0.711829</td>\n",
       "      <td>0.684983</td>\n",
       "      <td>0.687576</td>\n",
       "      <td>0.694796</td>\n",
       "      <td>0.012090</td>\n",
       "      <td>55</td>\n",
       "    </tr>\n",
       "    <tr>\n",
       "      <th>3</th>\n",
       "      <td>0.415749</td>\n",
       "      <td>0.030426</td>\n",
       "      <td>0.062506</td>\n",
       "      <td>0.000004</td>\n",
       "      <td>best</td>\n",
       "      <td>3</td>\n",
       "      <td>10</td>\n",
       "      <td>log2</td>\n",
       "      <td>4</td>\n",
       "      <td>gini</td>\n",
       "      <td>{'splitter': 'best', 'min_samples_split': 3, '...</td>\n",
       "      <td>0.675172</td>\n",
       "      <td>0.710249</td>\n",
       "      <td>0.695102</td>\n",
       "      <td>0.693508</td>\n",
       "      <td>0.014365</td>\n",
       "      <td>61</td>\n",
       "    </tr>\n",
       "    <tr>\n",
       "      <th>4</th>\n",
       "      <td>0.333345</td>\n",
       "      <td>0.019492</td>\n",
       "      <td>0.067728</td>\n",
       "      <td>0.007383</td>\n",
       "      <td>random</td>\n",
       "      <td>9</td>\n",
       "      <td>10</td>\n",
       "      <td>auto</td>\n",
       "      <td>8</td>\n",
       "      <td>entropy</td>\n",
       "      <td>{'splitter': 'random', 'min_samples_split': 9,...</td>\n",
       "      <td>0.713765</td>\n",
       "      <td>0.715254</td>\n",
       "      <td>0.660327</td>\n",
       "      <td>0.696449</td>\n",
       "      <td>0.025549</td>\n",
       "      <td>48</td>\n",
       "    </tr>\n",
       "    <tr>\n",
       "      <th>...</th>\n",
       "      <td>...</td>\n",
       "      <td>...</td>\n",
       "      <td>...</td>\n",
       "      <td>...</td>\n",
       "      <td>...</td>\n",
       "      <td>...</td>\n",
       "      <td>...</td>\n",
       "      <td>...</td>\n",
       "      <td>...</td>\n",
       "      <td>...</td>\n",
       "      <td>...</td>\n",
       "      <td>...</td>\n",
       "      <td>...</td>\n",
       "      <td>...</td>\n",
       "      <td>...</td>\n",
       "      <td>...</td>\n",
       "      <td>...</td>\n",
       "    </tr>\n",
       "    <tr>\n",
       "      <th>195</th>\n",
       "      <td>0.236467</td>\n",
       "      <td>0.002932</td>\n",
       "      <td>0.057297</td>\n",
       "      <td>0.007367</td>\n",
       "      <td>random</td>\n",
       "      <td>6</td>\n",
       "      <td>2</td>\n",
       "      <td>sqrt</td>\n",
       "      <td>2</td>\n",
       "      <td>gini</td>\n",
       "      <td>{'splitter': 'random', 'min_samples_split': 6,...</td>\n",
       "      <td>0.577202</td>\n",
       "      <td>0.571202</td>\n",
       "      <td>0.621054</td>\n",
       "      <td>0.589819</td>\n",
       "      <td>0.022222</td>\n",
       "      <td>171</td>\n",
       "    </tr>\n",
       "    <tr>\n",
       "      <th>196</th>\n",
       "      <td>0.291688</td>\n",
       "      <td>0.007366</td>\n",
       "      <td>0.046880</td>\n",
       "      <td>0.000001</td>\n",
       "      <td>best</td>\n",
       "      <td>6</td>\n",
       "      <td>3</td>\n",
       "      <td>sqrt</td>\n",
       "      <td>6</td>\n",
       "      <td>gini</td>\n",
       "      <td>{'splitter': 'best', 'min_samples_split': 6, '...</td>\n",
       "      <td>0.694285</td>\n",
       "      <td>0.682126</td>\n",
       "      <td>0.682727</td>\n",
       "      <td>0.686379</td>\n",
       "      <td>0.005595</td>\n",
       "      <td>75</td>\n",
       "    </tr>\n",
       "    <tr>\n",
       "      <th>197</th>\n",
       "      <td>0.286479</td>\n",
       "      <td>0.007367</td>\n",
       "      <td>0.052089</td>\n",
       "      <td>0.007366</td>\n",
       "      <td>random</td>\n",
       "      <td>2</td>\n",
       "      <td>10</td>\n",
       "      <td>sqrt</td>\n",
       "      <td>5</td>\n",
       "      <td>gini</td>\n",
       "      <td>{'splitter': 'random', 'min_samples_split': 2,...</td>\n",
       "      <td>0.658214</td>\n",
       "      <td>0.669946</td>\n",
       "      <td>0.652863</td>\n",
       "      <td>0.660341</td>\n",
       "      <td>0.007135</td>\n",
       "      <td>117</td>\n",
       "    </tr>\n",
       "    <tr>\n",
       "      <th>198</th>\n",
       "      <td>0.213556</td>\n",
       "      <td>0.014734</td>\n",
       "      <td>0.046880</td>\n",
       "      <td>0.000002</td>\n",
       "      <td>random</td>\n",
       "      <td>9</td>\n",
       "      <td>5</td>\n",
       "      <td>log2</td>\n",
       "      <td>2</td>\n",
       "      <td>entropy</td>\n",
       "      <td>{'splitter': 'random', 'min_samples_split': 9,...</td>\n",
       "      <td>0.643637</td>\n",
       "      <td>0.602612</td>\n",
       "      <td>0.662232</td>\n",
       "      <td>0.636160</td>\n",
       "      <td>0.024907</td>\n",
       "      <td>143</td>\n",
       "    </tr>\n",
       "    <tr>\n",
       "      <th>199</th>\n",
       "      <td>0.390653</td>\n",
       "      <td>0.044195</td>\n",
       "      <td>0.052091</td>\n",
       "      <td>0.007367</td>\n",
       "      <td>best</td>\n",
       "      <td>6</td>\n",
       "      <td>10</td>\n",
       "      <td>sqrt</td>\n",
       "      <td>9</td>\n",
       "      <td>gini</td>\n",
       "      <td>{'splitter': 'best', 'min_samples_split': 6, '...</td>\n",
       "      <td>0.695198</td>\n",
       "      <td>0.700638</td>\n",
       "      <td>0.727145</td>\n",
       "      <td>0.707660</td>\n",
       "      <td>0.013955</td>\n",
       "      <td>16</td>\n",
       "    </tr>\n",
       "  </tbody>\n",
       "</table>\n",
       "<p>200 rows × 17 columns</p>\n",
       "</div>"
      ],
      "text/plain": [
       "     mean_fit_time  std_fit_time  mean_score_time  std_score_time  \\\n",
       "0         0.292201      0.013812         0.047051        0.006178   \n",
       "1         0.316525      0.020028         0.054523        0.006387   \n",
       "2         0.335725      0.034860         0.085630        0.017835   \n",
       "3         0.415749      0.030426         0.062506        0.000004   \n",
       "4         0.333345      0.019492         0.067728        0.007383   \n",
       "..             ...           ...              ...             ...   \n",
       "195       0.236467      0.002932         0.057297        0.007367   \n",
       "196       0.291688      0.007366         0.046880        0.000001   \n",
       "197       0.286479      0.007367         0.052089        0.007366   \n",
       "198       0.213556      0.014734         0.046880        0.000002   \n",
       "199       0.390653      0.044195         0.052091        0.007367   \n",
       "\n",
       "    param_splitter param_min_samples_split param_max_leaf_nodes  \\\n",
       "0             best                       3                    3   \n",
       "1           random                       2                    9   \n",
       "2           random                      10                    9   \n",
       "3             best                       3                   10   \n",
       "4           random                       9                   10   \n",
       "..             ...                     ...                  ...   \n",
       "195         random                       6                    2   \n",
       "196           best                       6                    3   \n",
       "197         random                       2                   10   \n",
       "198         random                       9                    5   \n",
       "199           best                       6                   10   \n",
       "\n",
       "    param_max_features param_max_depth param_criterion  \\\n",
       "0                 sqrt              11         entropy   \n",
       "1                 log2               5         entropy   \n",
       "2                 auto               5            gini   \n",
       "3                 log2               4            gini   \n",
       "4                 auto               8         entropy   \n",
       "..                 ...             ...             ...   \n",
       "195               sqrt               2            gini   \n",
       "196               sqrt               6            gini   \n",
       "197               sqrt               5            gini   \n",
       "198               log2               2         entropy   \n",
       "199               sqrt               9            gini   \n",
       "\n",
       "                                                params  split0_test_score  \\\n",
       "0    {'splitter': 'best', 'min_samples_split': 3, '...           0.680879   \n",
       "1    {'splitter': 'random', 'min_samples_split': 2,...           0.678802   \n",
       "2    {'splitter': 'random', 'min_samples_split': 10...           0.711829   \n",
       "3    {'splitter': 'best', 'min_samples_split': 3, '...           0.675172   \n",
       "4    {'splitter': 'random', 'min_samples_split': 9,...           0.713765   \n",
       "..                                                 ...                ...   \n",
       "195  {'splitter': 'random', 'min_samples_split': 6,...           0.577202   \n",
       "196  {'splitter': 'best', 'min_samples_split': 6, '...           0.694285   \n",
       "197  {'splitter': 'random', 'min_samples_split': 2,...           0.658214   \n",
       "198  {'splitter': 'random', 'min_samples_split': 9,...           0.643637   \n",
       "199  {'splitter': 'best', 'min_samples_split': 6, '...           0.695198   \n",
       "\n",
       "     split1_test_score  split2_test_score  mean_test_score  std_test_score  \\\n",
       "0             0.667237           0.697054         0.681723        0.012188   \n",
       "1             0.695469           0.710499         0.694924        0.012946   \n",
       "2             0.684983           0.687576         0.694796        0.012090   \n",
       "3             0.710249           0.695102         0.693508        0.014365   \n",
       "4             0.715254           0.660327         0.696449        0.025549   \n",
       "..                 ...                ...              ...             ...   \n",
       "195           0.571202           0.621054         0.589819        0.022222   \n",
       "196           0.682126           0.682727         0.686379        0.005595   \n",
       "197           0.669946           0.652863         0.660341        0.007135   \n",
       "198           0.602612           0.662232         0.636160        0.024907   \n",
       "199           0.700638           0.727145         0.707660        0.013955   \n",
       "\n",
       "     rank_test_score  \n",
       "0                 84  \n",
       "1                 53  \n",
       "2                 55  \n",
       "3                 61  \n",
       "4                 48  \n",
       "..               ...  \n",
       "195              171  \n",
       "196               75  \n",
       "197              117  \n",
       "198              143  \n",
       "199               16  \n",
       "\n",
       "[200 rows x 17 columns]"
      ]
     },
     "execution_count": 126,
     "metadata": {},
     "output_type": "execute_result"
    }
   ],
   "source": [
    "result=pd.DataFrame(r.cv_results_)\n",
    "result"
   ]
  },
  {
   "cell_type": "code",
   "execution_count": 127,
   "id": "e3783d95",
   "metadata": {},
   "outputs": [
    {
     "data": {
      "text/plain": [
       "0.7259094737127558"
      ]
     },
     "execution_count": 127,
     "metadata": {},
     "output_type": "execute_result"
    }
   ],
   "source": [
    "r.best_score_"
   ]
  },
  {
   "cell_type": "code",
   "execution_count": 128,
   "id": "ee224720",
   "metadata": {},
   "outputs": [
    {
     "data": {
      "text/plain": [
       "DecisionTreeClassifier(max_depth=8, max_features='auto', max_leaf_nodes=8,\n",
       "                       min_samples_split=10)"
      ]
     },
     "execution_count": 128,
     "metadata": {},
     "output_type": "execute_result"
    }
   ],
   "source": [
    "new_r=r.best_estimator_\n",
    "new_r"
   ]
  },
  {
   "cell_type": "code",
   "execution_count": 129,
   "id": "0917eb81",
   "metadata": {},
   "outputs": [
    {
     "data": {
      "text/plain": [
       "DecisionTreeClassifier(max_depth=8, max_features='auto', max_leaf_nodes=8,\n",
       "                       min_samples_split=10)"
      ]
     },
     "execution_count": 129,
     "metadata": {},
     "output_type": "execute_result"
    }
   ],
   "source": [
    "new_r.fit(over_xtrain,over_ytrain)"
   ]
  },
  {
   "cell_type": "code",
   "execution_count": 130,
   "id": "738d949a",
   "metadata": {},
   "outputs": [
    {
     "data": {
      "text/plain": [
       "0.6831679560829275"
      ]
     },
     "execution_count": 130,
     "metadata": {},
     "output_type": "execute_result"
    }
   ],
   "source": [
    "new_r.score(over_xtest,over_ytest)"
   ]
  },
  {
   "cell_type": "markdown",
   "id": "aa55b0ac",
   "metadata": {},
   "source": [
    "# 2->RandomForestClassifier algorithm implementation"
   ]
  },
  {
   "cell_type": "markdown",
   "id": "a2a78808",
   "metadata": {},
   "source": [
    "# RFC for holdout cross validation with Randon Over Sampling"
   ]
  },
  {
   "cell_type": "code",
   "execution_count": 131,
   "id": "25a351db",
   "metadata": {},
   "outputs": [],
   "source": [
    "from sklearn.model_selection import train_test_split \n",
    "from sklearn.ensemble import RandomForestClassifier\n",
    "rfc=RandomForestClassifier()"
   ]
  },
  {
   "cell_type": "code",
   "execution_count": 132,
   "id": "67b4b09e",
   "metadata": {},
   "outputs": [
    {
     "data": {
      "text/plain": [
       "RandomForestClassifier()"
      ]
     },
     "execution_count": 132,
     "metadata": {},
     "output_type": "execute_result"
    }
   ],
   "source": [
    "over_xtrain,over_xtest,over_ytrain,over_ytest = train_test_split(x1_new,y1_new,test_size = 0.30 ,random_state =42)\n",
    "rfc.fit(over_xtrain,over_ytrain)"
   ]
  },
  {
   "cell_type": "code",
   "execution_count": 134,
   "id": "0af8c2d9",
   "metadata": {},
   "outputs": [
    {
     "data": {
      "text/plain": [
       "0.9642870155580116"
      ]
     },
     "execution_count": 134,
     "metadata": {},
     "output_type": "execute_result"
    }
   ],
   "source": [
    "OverSampleing_dataset_accuracy1 = rfc.score(over_xtest,over_ytest)\n",
    "\n",
    "OverSampleing_dataset_accuracy1"
   ]
  },
  {
   "cell_type": "markdown",
   "id": "44dd1a66",
   "metadata": {},
   "source": [
    "# RFC for KFold Cross Validation with Random Over sampling"
   ]
  },
  {
   "cell_type": "code",
   "execution_count": 135,
   "id": "31624502",
   "metadata": {},
   "outputs": [],
   "source": [
    "from sklearn.model_selection import KFold, cross_val_score\n",
    "\n",
    "kfold = KFold(n_splits = 10)"
   ]
  },
  {
   "cell_type": "code",
   "execution_count": 136,
   "id": "30aff4a3",
   "metadata": {},
   "outputs": [
    {
     "data": {
      "text/plain": [
       "array([0.94106609, 0.93844276, 0.94168443, 0.94687654, 0.94751416,\n",
       "       0.97527828, 1.        , 1.        , 1.        , 1.        ])"
      ]
     },
     "execution_count": 136,
     "metadata": {},
     "output_type": "execute_result"
    }
   ],
   "source": [
    "OverSampleingDataset_kfold_result1 = cross_val_score(rfc,x1_new,y1_new,cv = kfold)\n",
    "OverSampleingDataset_kfold_result1                  "
   ]
  },
  {
   "cell_type": "code",
   "execution_count": 137,
   "id": "54563269",
   "metadata": {},
   "outputs": [
    {
     "data": {
      "text/plain": [
       "0.938442760329374"
      ]
     },
     "execution_count": 137,
     "metadata": {},
     "output_type": "execute_result"
    }
   ],
   "source": [
    "OverSampleingDataset_kfold_result1.min()                  "
   ]
  },
  {
   "cell_type": "code",
   "execution_count": 138,
   "id": "fd3423b8",
   "metadata": {},
   "outputs": [
    {
     "data": {
      "text/plain": [
       "1.0"
      ]
     },
     "execution_count": 138,
     "metadata": {},
     "output_type": "execute_result"
    }
   ],
   "source": [
    "OverSampleingDataset_kfold_result1.max()                  "
   ]
  },
  {
   "cell_type": "code",
   "execution_count": 139,
   "id": "c6ae2633",
   "metadata": {},
   "outputs": [
    {
     "data": {
      "text/plain": [
       "0.9690862263233431"
      ]
     },
     "execution_count": 139,
     "metadata": {},
     "output_type": "execute_result"
    }
   ],
   "source": [
    "OverSampleingDataset_kfold_result1.mean()                 "
   ]
  },
  {
   "cell_type": "markdown",
   "id": "22fa2d2a",
   "metadata": {},
   "source": [
    "# RFC for StratiFied KFold cross validation for Random over sampling"
   ]
  },
  {
   "cell_type": "code",
   "execution_count": 140,
   "id": "37de3f4e",
   "metadata": {},
   "outputs": [],
   "source": [
    "from sklearn.model_selection import StratifiedKFold\n",
    "\n",
    "Stf_Kfold = StratifiedKFold(n_splits = 10)\n"
   ]
  },
  {
   "cell_type": "code",
   "execution_count": 141,
   "id": "a46d9058",
   "metadata": {},
   "outputs": [
    {
     "data": {
      "text/plain": [
       "array([0.97189026, 0.97070611, 0.96952142, 0.97108816, 0.97230876,\n",
       "       0.96983112, 0.97677215, 0.96999508, 0.97471352, 0.97372976])"
      ]
     },
     "execution_count": 141,
     "metadata": {},
     "output_type": "execute_result"
    }
   ],
   "source": [
    "OverSampleingDataset_Sf_kfold_result1 = cross_val_score(rfc,x1_new,y1_new,cv = Stf_Kfold)\n",
    "\n",
    "OverSampleingDataset_Sf_kfold_result1"
   ]
  },
  {
   "cell_type": "code",
   "execution_count": 142,
   "id": "f95fdcd9",
   "metadata": {},
   "outputs": [
    {
     "data": {
      "text/plain": [
       "0.9695214151682425"
      ]
     },
     "execution_count": 142,
     "metadata": {},
     "output_type": "execute_result"
    }
   ],
   "source": [
    "OverSampleingDataset_Sf_kfold_result1.min()"
   ]
  },
  {
   "cell_type": "code",
   "execution_count": 143,
   "id": "ccd73f31",
   "metadata": {},
   "outputs": [
    {
     "data": {
      "text/plain": [
       "0.9767721484396349"
      ]
     },
     "execution_count": 143,
     "metadata": {},
     "output_type": "execute_result"
    }
   ],
   "source": [
    "OverSampleingDataset_Sf_kfold_result1.max()"
   ]
  },
  {
   "cell_type": "code",
   "execution_count": 144,
   "id": "22d120a9",
   "metadata": {},
   "outputs": [
    {
     "data": {
      "text/plain": [
       "0.9720556328061594"
      ]
     },
     "execution_count": 144,
     "metadata": {},
     "output_type": "execute_result"
    }
   ],
   "source": [
    "OverSampleingDataset_Sf_kfold_result1.mean()"
   ]
  },
  {
   "cell_type": "markdown",
   "id": "4f4d52c1",
   "metadata": {},
   "source": [
    "# Model Evaluating performance of confusion Matrix"
   ]
  },
  {
   "cell_type": "code",
   "execution_count": 145,
   "id": "6a452725",
   "metadata": {},
   "outputs": [
    {
     "data": {
      "text/plain": [
       "array([1, 1, 0, ..., 1, 1, 0])"
      ]
     },
     "execution_count": 145,
     "metadata": {},
     "output_type": "execute_result"
    }
   ],
   "source": [
    "pred_y1=rfc.predict(over_xtest)#Predicted Class \n",
    "pred_y1"
   ]
  },
  {
   "cell_type": "code",
   "execution_count": 146,
   "id": "97a23d38",
   "metadata": {},
   "outputs": [
    {
     "data": {
      "text/plain": [
       "array([1, 1, 0, ..., 1, 1, 0])"
      ]
     },
     "execution_count": 146,
     "metadata": {},
     "output_type": "execute_result"
    }
   ],
   "source": [
    "np.array(over_ytest) #actual class/y"
   ]
  },
  {
   "cell_type": "code",
   "execution_count": 147,
   "id": "d5320846",
   "metadata": {},
   "outputs": [
    {
     "name": "stdout",
     "output_type": "stream",
     "text": [
      "              precision    recall  f1-score   support\n",
      "\n",
      "           0       1.00      0.93      0.96     82143\n",
      "           1       0.93      1.00      0.97     82531\n",
      "\n",
      "    accuracy                           0.96    164674\n",
      "   macro avg       0.97      0.96      0.96    164674\n",
      "weighted avg       0.97      0.96      0.96    164674\n",
      "\n"
     ]
    }
   ],
   "source": [
    "print(classification_report(over_ytest,pred_y1))"
   ]
  },
  {
   "cell_type": "code",
   "execution_count": 148,
   "id": "87df4b5b",
   "metadata": {},
   "outputs": [
    {
     "data": {
      "text/plain": [
       "array([[76323,  5820],\n",
       "       [   61, 82470]], dtype=int64)"
      ]
     },
     "execution_count": 148,
     "metadata": {},
     "output_type": "execute_result"
    }
   ],
   "source": [
    "cm1=confusion_matrix(over_ytest,pred_y1)\n",
    "cm1"
   ]
  },
  {
   "cell_type": "markdown",
   "id": "3c494663",
   "metadata": {},
   "source": [
    "# Visualization with heatmap performance of confussion matrix for RFC"
   ]
  },
  {
   "cell_type": "code",
   "execution_count": 149,
   "id": "8de08788",
   "metadata": {},
   "outputs": [
    {
     "data": {
      "text/plain": [
       "Text(33.0, 0.5, 'Actual Values')"
      ]
     },
     "execution_count": 149,
     "metadata": {},
     "output_type": "execute_result"
    },
    {
     "data": {
      "image/png": "[encoded data removed]",
      "text/plain": [
       "<Figure size 432x288 with 2 Axes>"
      ]
     },
     "metadata": {
      "needs_background": "light"
     },
     "output_type": "display_data"
    }
   ],
   "source": [
    "sns.heatmap(cm1,annot=True)\n",
    "plt.xlabel('Predicted Values')\n",
    "plt.ylabel('Actual Values')"
   ]
  },
  {
   "cell_type": "code",
   "execution_count": 150,
   "id": "fcff6023",
   "metadata": {},
   "outputs": [],
   "source": [
    "tp,fn,fp,tn=confusion_matrix(over_ytest,pred_y1).reshape(-1)"
   ]
  },
  {
   "cell_type": "code",
   "execution_count": 151,
   "id": "400ab100",
   "metadata": {},
   "outputs": [
    {
     "data": {
      "text/plain": [
       "76323"
      ]
     },
     "execution_count": 151,
     "metadata": {},
     "output_type": "execute_result"
    }
   ],
   "source": [
    "tp"
   ]
  },
  {
   "cell_type": "code",
   "execution_count": 152,
   "id": "2859113f",
   "metadata": {},
   "outputs": [
    {
     "data": {
      "text/plain": [
       "5820"
      ]
     },
     "execution_count": 152,
     "metadata": {},
     "output_type": "execute_result"
    }
   ],
   "source": [
    "fn"
   ]
  },
  {
   "cell_type": "code",
   "execution_count": 153,
   "id": "3107cb0d",
   "metadata": {},
   "outputs": [
    {
     "data": {
      "text/plain": [
       "61"
      ]
     },
     "execution_count": 153,
     "metadata": {},
     "output_type": "execute_result"
    }
   ],
   "source": [
    "fp"
   ]
  },
  {
   "cell_type": "code",
   "execution_count": 154,
   "id": "29b0e4ef",
   "metadata": {},
   "outputs": [
    {
     "data": {
      "text/plain": [
       "82470"
      ]
     },
     "execution_count": 154,
     "metadata": {},
     "output_type": "execute_result"
    }
   ],
   "source": [
    "tn"
   ]
  },
  {
   "cell_type": "markdown",
   "id": "4cfe358c",
   "metadata": {},
   "source": [
    "# Accuracy"
   ]
  },
  {
   "cell_type": "code",
   "execution_count": 155,
   "id": "8b639c19",
   "metadata": {},
   "outputs": [
    {
     "data": {
      "text/plain": [
       "0.9642870155580116"
      ]
     },
     "execution_count": 155,
     "metadata": {},
     "output_type": "execute_result"
    }
   ],
   "source": [
    "(tp+tn)/(tp+fn+fp+tn)"
   ]
  },
  {
   "cell_type": "markdown",
   "id": "313a33b3",
   "metadata": {},
   "source": [
    "# Precision or positive predicted value(PPV)"
   ]
  },
  {
   "cell_type": "code",
   "execution_count": 156,
   "id": "1bdc6060",
   "metadata": {},
   "outputs": [
    {
     "name": "stdout",
     "output_type": "stream",
     "text": [
      "0.9992014034352744\n"
     ]
    }
   ],
   "source": [
    "\n",
    "ppv = tp/(tp+fp)\n",
    "print(ppv)"
   ]
  },
  {
   "cell_type": "markdown",
   "id": "5cc50d40",
   "metadata": {},
   "source": [
    "# True positive rate(TPR),Sensitivity,Recall,Hit Rate\n"
   ]
  },
  {
   "cell_type": "code",
   "execution_count": 157,
   "id": "4dac26f8",
   "metadata": {},
   "outputs": [
    {
     "name": "stdout",
     "output_type": "stream",
     "text": [
      "0.9291479493079142\n"
     ]
    }
   ],
   "source": [
    "trp = tp/(tp+fn)\n",
    "print(trp)"
   ]
  },
  {
   "cell_type": "markdown",
   "id": "db6c6086",
   "metadata": {},
   "source": [
    "# False positive rate(1-Specificity)"
   ]
  },
  {
   "cell_type": "code",
   "execution_count": 158,
   "id": "5a1be605",
   "metadata": {},
   "outputs": [
    {
     "name": "stdout",
     "output_type": "stream",
     "text": [
      "0.0007391162108783367\n"
     ]
    }
   ],
   "source": [
    "\n",
    "fpr = fp/(fp+tn)\n",
    "print(fpr)"
   ]
  },
  {
   "cell_type": "markdown",
   "id": "20af1bb8",
   "metadata": {},
   "source": [
    "# F1-Score,Harmonic Mean"
   ]
  },
  {
   "cell_type": "code",
   "execution_count": 159,
   "id": "909b3e5e",
   "metadata": {},
   "outputs": [
    {
     "name": "stdout",
     "output_type": "stream",
     "text": [
      "0.9629022185495215\n"
     ]
    }
   ],
   "source": [
    "f1_score = (2*ppv*trp)/(ppv+trp)\n",
    "print(f1_score)"
   ]
  },
  {
   "cell_type": "markdown",
   "id": "c60f1ac2",
   "metadata": {},
   "source": [
    "# True nagative Rate(TNR),Specificity,Selectivity\n"
   ]
  },
  {
   "cell_type": "code",
   "execution_count": 160,
   "id": "402b93ad",
   "metadata": {},
   "outputs": [
    {
     "name": "stdout",
     "output_type": "stream",
     "text": [
      "0.9992608837891217\n"
     ]
    }
   ],
   "source": [
    "tnr = tn/(tn+fp)\n",
    "print(tnr)"
   ]
  },
  {
   "cell_type": "markdown",
   "id": "57504395",
   "metadata": {},
   "source": [
    "# Critical sucvcess index(CSI),Threat Score(TS)\n"
   ]
  },
  {
   "cell_type": "code",
   "execution_count": 161,
   "id": "bbe3d11a",
   "metadata": {},
   "outputs": [
    {
     "name": "stdout",
     "output_type": "stream",
     "text": [
      "0.9284584691742495\n"
     ]
    }
   ],
   "source": [
    "csi = tp/(tp+fn+fp)\n",
    "print(csi)"
   ]
  },
  {
   "cell_type": "markdown",
   "id": "f0508a9f",
   "metadata": {},
   "source": [
    "# False discovery Rate(FDR)\n"
   ]
  },
  {
   "cell_type": "code",
   "execution_count": 162,
   "id": "9bb7fa0c",
   "metadata": {},
   "outputs": [
    {
     "name": "stdout",
     "output_type": "stream",
     "text": [
      "0.000798596564725597\n"
     ]
    }
   ],
   "source": [
    "fdr = fp/(tp+fp)\n",
    "print(fdr)"
   ]
  },
  {
   "cell_type": "markdown",
   "id": "709b096f",
   "metadata": {},
   "source": [
    "# Roc and Auc curve for Random Forest classifier\n"
   ]
  },
  {
   "cell_type": "code",
   "execution_count": 163,
   "id": "c335b651",
   "metadata": {},
   "outputs": [
    {
     "data": {
      "text/plain": [
       "[<matplotlib.lines.Line2D at 0x22d3712ecd0>]"
      ]
     },
     "execution_count": 163,
     "metadata": {},
     "output_type": "execute_result"
    },
    {
     "data": {
      "image/png": "[encoded data removed]",
      "text/plain": [
       "<Figure size 432x288 with 1 Axes>"
      ]
     },
     "metadata": {
      "needs_background": "light"
     },
     "output_type": "display_data"
    }
   ],
   "source": [
    "plot_roc_curve(rfc,over_xtest,over_ytest,color='red')\n",
    "plt.plot([0,1],[0,1])"
   ]
  },
  {
   "cell_type": "markdown",
   "id": "e1f92103",
   "metadata": {},
   "source": [
    "# Now Optimizing Random Forest Classifier Algorithm\n"
   ]
  },
  {
   "cell_type": "markdown",
   "id": "cad22e0d",
   "metadata": {},
   "source": [
    "# Tuning  Random Forest  Classifier using Randomized Search CV"
   ]
  },
  {
   "cell_type": "code",
   "execution_count": 164,
   "id": "64a2b585",
   "metadata": {},
   "outputs": [],
   "source": [
    "from sklearn.model_selection import RandomizedSearchCV"
   ]
  },
  {
   "cell_type": "markdown",
   "id": "9339e881",
   "metadata": {},
   "source": [
    "# Assign Parameters"
   ]
  },
  {
   "cell_type": "code",
   "execution_count": 165,
   "id": "395049a1",
   "metadata": {},
   "outputs": [],
   "source": [
    "n_estimators=np.random.randint(15,200,20)\n",
    "criterion=['gini','entropy']\n",
    "max_features=['auto','sqrt','log2']\n",
    "max_depth=np.random.randint(1,12,20)\n",
    "min_samples_split=np.random.randint(1,12,15)\n",
    "\n",
    "parameters={\n",
    "    'n_estimators':n_estimators,\n",
    "     'criterion':criterion,\n",
    "    'max_features':max_features,\n",
    "    'max_depth':max_depth,\n",
    "    'min_samples_split':min_samples_split\n",
    "}"
   ]
  },
  {
   "cell_type": "code",
   "execution_count": 166,
   "id": "b1462128",
   "metadata": {},
   "outputs": [
    {
     "name": "stdout",
     "output_type": "stream",
     "text": [
      "{'n_estimators': array([100,  84,  55, 133,  80,  76, 157,  28, 122,  24, 189, 142, 138,\n",
      "        24, 130, 198, 157, 129,  44,  83]), 'criterion': ['gini', 'entropy'], 'max_features': ['auto', 'sqrt', 'log2'], 'max_depth': array([ 3,  3,  3,  4, 11,  9,  3,  8,  2,  1,  6,  6, 11, 10,  3,  8,  4,\n",
      "        1,  8,  7]), 'min_samples_split': array([ 9, 10,  8,  3,  6,  2, 11,  5,  7,  1,  9,  1,  1,  1,  4])}\n"
     ]
    }
   ],
   "source": [
    "print(parameters)"
   ]
  },
  {
   "cell_type": "code",
   "execution_count": null,
   "id": "284613ad",
   "metadata": {},
   "outputs": [],
   "source": [
    "import warnings\n",
    "warnings.filterwarnings('ignore')\n",
    "r=RandomizedSearchCV(rfc,parameters,n_iter=100,cv=3)\n",
    "r.fit(over_xtrain,over_ytrain)"
   ]
  },
  {
   "cell_type": "code",
   "execution_count": null,
   "id": "d2a1a5d3",
   "metadata": {},
   "outputs": [],
   "source": [
    "r.cv_results_"
   ]
  },
  {
   "cell_type": "code",
   "execution_count": null,
   "id": "34fbcee0",
   "metadata": {},
   "outputs": [],
   "source": [
    "result=pd.DataFrame(r.cv_results_)\n",
    "result"
   ]
  },
  {
   "cell_type": "code",
   "execution_count": null,
   "id": "22f81cb3",
   "metadata": {},
   "outputs": [],
   "source": [
    "r.best_score_"
   ]
  },
  {
   "cell_type": "code",
   "execution_count": null,
   "id": "cb686735",
   "metadata": {},
   "outputs": [],
   "source": [
    "new_r=r.best_estimator_\n",
    "new_r"
   ]
  },
  {
   "cell_type": "code",
   "execution_count": null,
   "id": "e0374ebf",
   "metadata": {},
   "outputs": [],
   "source": [
    "new_r.fit(over_xtrain,over_ytrain)"
   ]
  },
  {
   "cell_type": "code",
   "execution_count": null,
   "id": "568e57b1",
   "metadata": {},
   "outputs": [],
   "source": [
    "new_r.score(over_xtest,over_ytest)"
   ]
  },
  {
   "cell_type": "markdown",
   "id": "7ed1e987",
   "metadata": {},
   "source": [
    "# 3-> K Nearest Neighbors Algorithm implementation"
   ]
  },
  {
   "cell_type": "markdown",
   "id": "d6b7a9fb",
   "metadata": {},
   "source": [
    "# KNN for holdout cross validation with Randon Over Sampling"
   ]
  },
  {
   "cell_type": "code",
   "execution_count": null,
   "id": "5fb2f2dc",
   "metadata": {},
   "outputs": [],
   "source": [
    "from sklearn.model_selection import train_test_split \n",
    "from sklearn.neighbors import KNeighborsClassifier\n",
    "knn=KNeighborsClassifier()"
   ]
  },
  {
   "cell_type": "code",
   "execution_count": null,
   "id": "0e645ddd",
   "metadata": {},
   "outputs": [],
   "source": [
    "over_xtrain,over_xtest,over_ytrain,over_ytest = train_test_split(x2_new,y2_new,test_size = 0.30 ,random_state =42)\n",
    "knn.fit(over_xtrain,over_ytrain)"
   ]
  },
  {
   "cell_type": "code",
   "execution_count": null,
   "id": "7bc70f18",
   "metadata": {},
   "outputs": [],
   "source": [
    "knn.fit(over_xtrain,over_ytrain)"
   ]
  },
  {
   "cell_type": "code",
   "execution_count": null,
   "id": "1b658b56",
   "metadata": {},
   "outputs": [],
   "source": [
    "OverSampleing_dataset_accuracy2 = knn.score(over_xtest,over_ytest)\n",
    "OverSampleing_dataset_accuracy2"
   ]
  },
  {
   "cell_type": "markdown",
   "id": "6cd32df5",
   "metadata": {},
   "source": [
    "# KFold cross validation for Random Over sampling\n"
   ]
  },
  {
   "cell_type": "code",
   "execution_count": null,
   "id": "5d2aec19",
   "metadata": {},
   "outputs": [],
   "source": [
    "from sklearn.model_selection import KFold, cross_val_score\n",
    "kfold = KFold(n_splits = 10)"
   ]
  },
  {
   "cell_type": "code",
   "execution_count": null,
   "id": "6a6c2f79",
   "metadata": {},
   "outputs": [],
   "source": [
    "OverSampleingDataset_kfold_result2 = cross_val_score(knn,x2_new,y2_new,cv = kfold)\n",
    "\n",
    "OverSampleingDataset_kfold_result2"
   ]
  },
  {
   "cell_type": "code",
   "execution_count": null,
   "id": "c603e4e5",
   "metadata": {},
   "outputs": [],
   "source": [
    "OverSampleingDataset_kfold_result2.min()"
   ]
  },
  {
   "cell_type": "code",
   "execution_count": null,
   "id": "3fd83e05",
   "metadata": {},
   "outputs": [],
   "source": [
    "OverSampleingDataset_kfold_result2.max()"
   ]
  },
  {
   "cell_type": "code",
   "execution_count": null,
   "id": "1843168c",
   "metadata": {},
   "outputs": [],
   "source": [
    "OverSampleingDataset_kfold_result2.mean()"
   ]
  },
  {
   "cell_type": "markdown",
   "id": "9cdd8e86",
   "metadata": {},
   "source": [
    "# StratiFied KFold cross validation for Over sampling"
   ]
  },
  {
   "cell_type": "code",
   "execution_count": null,
   "id": "58bc5703",
   "metadata": {},
   "outputs": [],
   "source": [
    "from sklearn.model_selection import StratifiedKFold\n",
    "\n",
    "Stf_Kfold = StratifiedKFold(n_splits = 10)"
   ]
  },
  {
   "cell_type": "code",
   "execution_count": null,
   "id": "72d67257",
   "metadata": {},
   "outputs": [],
   "source": [
    "OverSampleingDataset_Sf_kfold_result2 = cross_val_score(knn,x2_new,y2_new,cv = Stf_Kfold)\n",
    "\n",
    "OverSampleingDataset_Sf_kfold_result2"
   ]
  },
  {
   "cell_type": "code",
   "execution_count": null,
   "id": "6fe3e6fc",
   "metadata": {},
   "outputs": [],
   "source": [
    "OverSampleingDataset_Sf_kfold_result2.min()"
   ]
  },
  {
   "cell_type": "code",
   "execution_count": null,
   "id": "30a9fb61",
   "metadata": {},
   "outputs": [],
   "source": [
    "OverSampleingDataset_Sf_kfold_result2.max()"
   ]
  },
  {
   "cell_type": "code",
   "execution_count": null,
   "id": "0211406e",
   "metadata": {},
   "outputs": [],
   "source": [
    "OverSampleingDataset_Sf_kfold_result2.mean()"
   ]
  },
  {
   "cell_type": "markdown",
   "id": "5237af77",
   "metadata": {},
   "source": [
    "# Now from over sampling ,we calculate all confusion matrix performance"
   ]
  },
  {
   "cell_type": "code",
   "execution_count": null,
   "id": "3891d54e",
   "metadata": {},
   "outputs": [],
   "source": [
    "from sklearn.metrics import classification_report,accuracy_score,confusion_matrix,plot_roc_curve\n"
   ]
  },
  {
   "cell_type": "code",
   "execution_count": null,
   "id": "c5a273d7",
   "metadata": {},
   "outputs": [],
   "source": [
    "knn.fit(over_xtrain,over_ytrain)"
   ]
  },
  {
   "cell_type": "code",
   "execution_count": null,
   "id": "a1cff702",
   "metadata": {},
   "outputs": [],
   "source": [
    "pred_y2=knn.predict(over_xtest)#Predicted Class \n",
    "pred_y2"
   ]
  },
  {
   "cell_type": "code",
   "execution_count": null,
   "id": "f3f26f2e",
   "metadata": {},
   "outputs": [],
   "source": [
    "over_ytest"
   ]
  },
  {
   "cell_type": "code",
   "execution_count": null,
   "id": "7fc1ca35",
   "metadata": {},
   "outputs": [],
   "source": [
    "np.array(over_ytest) #actual class/y"
   ]
  },
  {
   "cell_type": "code",
   "execution_count": null,
   "id": "3993e0ce",
   "metadata": {},
   "outputs": [],
   "source": [
    "print(classification_report(over_ytest,pred_y2))"
   ]
  },
  {
   "cell_type": "code",
   "execution_count": null,
   "id": "cf01710b",
   "metadata": {},
   "outputs": [],
   "source": [
    "cm2=confusion_matrix(over_ytest,pred_y2)\n",
    "cm2"
   ]
  },
  {
   "cell_type": "markdown",
   "id": "d39f9946",
   "metadata": {},
   "source": [
    "# Visualization with heatmap performance of confussion matrix for KNN"
   ]
  },
  {
   "cell_type": "code",
   "execution_count": null,
   "id": "591ed8bf",
   "metadata": {},
   "outputs": [],
   "source": [
    "\n",
    "sns.heatmap(cm2,annot=True)\n",
    "plt.xlabel('Predicted Values')\n",
    "plt.ylabel('Actual Values')"
   ]
  },
  {
   "cell_type": "code",
   "execution_count": null,
   "id": "d3aa91fb",
   "metadata": {},
   "outputs": [],
   "source": [
    "tp,fn,fp,tn=confusion_matrix(over_ytest,pred_y2).reshape(-1)"
   ]
  },
  {
   "cell_type": "code",
   "execution_count": null,
   "id": "e2d28542",
   "metadata": {},
   "outputs": [],
   "source": [
    "tp"
   ]
  },
  {
   "cell_type": "code",
   "execution_count": null,
   "id": "78c13f38",
   "metadata": {},
   "outputs": [],
   "source": [
    "fn"
   ]
  },
  {
   "cell_type": "code",
   "execution_count": null,
   "id": "7411f456",
   "metadata": {},
   "outputs": [],
   "source": [
    "fp"
   ]
  },
  {
   "cell_type": "code",
   "execution_count": null,
   "id": "dc9ea75f",
   "metadata": {},
   "outputs": [],
   "source": [
    "tn"
   ]
  },
  {
   "cell_type": "markdown",
   "id": "9d2ed6be",
   "metadata": {},
   "source": [
    "# Accuracy"
   ]
  },
  {
   "cell_type": "code",
   "execution_count": null,
   "id": "a6a11e4d",
   "metadata": {},
   "outputs": [],
   "source": [
    "(tp+tn)/(tp+fn+fp+tn)"
   ]
  },
  {
   "cell_type": "markdown",
   "id": "32aaa850",
   "metadata": {},
   "source": [
    "# Precision or positive predicted value(PPV)"
   ]
  },
  {
   "cell_type": "code",
   "execution_count": null,
   "id": "c23c03e9",
   "metadata": {},
   "outputs": [],
   "source": [
    "ppv = tp/(tp+fp)\n",
    "print(ppv)"
   ]
  },
  {
   "cell_type": "code",
   "execution_count": null,
   "id": "5d30a339",
   "metadata": {},
   "outputs": [],
   "source": []
  },
  {
   "cell_type": "markdown",
   "id": "1a269f56",
   "metadata": {},
   "source": [
    "# True positive rate(TPR),Sensitivity,Recall,Hit Rate"
   ]
  },
  {
   "cell_type": "code",
   "execution_count": null,
   "id": "fe9b48de",
   "metadata": {},
   "outputs": [],
   "source": [
    "\n",
    "trp = tp/(tp+fn)\n",
    "print(trp)\n"
   ]
  },
  {
   "cell_type": "markdown",
   "id": "2228ba06",
   "metadata": {},
   "source": [
    "# False positive rate(1-Specificity)"
   ]
  },
  {
   "cell_type": "code",
   "execution_count": null,
   "id": "11879791",
   "metadata": {},
   "outputs": [],
   "source": [
    "\n",
    "fpr = fp/(fp+tn)\n",
    "print(fpr)"
   ]
  },
  {
   "cell_type": "markdown",
   "id": "58baf720",
   "metadata": {},
   "source": [
    "# F1-Score,Harmonic Mean"
   ]
  },
  {
   "cell_type": "code",
   "execution_count": null,
   "id": "f946ee1c",
   "metadata": {},
   "outputs": [],
   "source": [
    "\n",
    "f1_score = (2*ppv*trp)/(ppv+trp)\n",
    "print(f1_score)\n",
    "\n"
   ]
  },
  {
   "cell_type": "markdown",
   "id": "65126770",
   "metadata": {},
   "source": [
    "# True nagative Rate(TNR),Specificity,Selectivity"
   ]
  },
  {
   "cell_type": "code",
   "execution_count": null,
   "id": "f32ea929",
   "metadata": {},
   "outputs": [],
   "source": [
    "\n",
    "tnr = tn/(tn+fp)\n",
    "print(tnr)"
   ]
  },
  {
   "cell_type": "markdown",
   "id": "db31efa3",
   "metadata": {},
   "source": [
    "# Critical sucvcess index(CSI),Threat Score(TS)"
   ]
  },
  {
   "cell_type": "code",
   "execution_count": null,
   "id": "a2642e83",
   "metadata": {},
   "outputs": [],
   "source": [
    "\n",
    "csi = tp/(tp+fn+fp)\n",
    "print(csi)"
   ]
  },
  {
   "cell_type": "markdown",
   "id": "d202337c",
   "metadata": {},
   "source": [
    "# False discovery Rate(FDR)"
   ]
  },
  {
   "cell_type": "code",
   "execution_count": null,
   "id": "0248a549",
   "metadata": {},
   "outputs": [],
   "source": [
    "\n",
    "fdr = fp/(tp+fp)\n",
    "print(fdr)\n"
   ]
  },
  {
   "cell_type": "markdown",
   "id": "b9ee1aee",
   "metadata": {},
   "source": [
    "# Roc and Auc curve for Random Forest classifier"
   ]
  },
  {
   "cell_type": "code",
   "execution_count": null,
   "id": "f34977c9",
   "metadata": {},
   "outputs": [],
   "source": [
    "\n",
    "plot_roc_curve(knn,over_xtest,over_ytest,color='red')\n",
    "plt.plot([0,1],[0,1])"
   ]
  },
  {
   "cell_type": "markdown",
   "id": "227e6bdd",
   "metadata": {},
   "source": [
    "# Now Optimizing KNN Algorithm"
   ]
  },
  {
   "cell_type": "markdown",
   "id": "ba348594",
   "metadata": {},
   "source": [
    "# Tuning KNN Algorithm using Randomized Search CV"
   ]
  },
  {
   "cell_type": "code",
   "execution_count": null,
   "id": "bfe9b3ee",
   "metadata": {},
   "outputs": [],
   "source": [
    "\n",
    "from sklearn.model_selection import RandomizedSearchCV"
   ]
  },
  {
   "cell_type": "markdown",
   "id": "b950cc5c",
   "metadata": {},
   "source": [
    "# Assign Parameters"
   ]
  },
  {
   "cell_type": "code",
   "execution_count": null,
   "id": "3dd716f4",
   "metadata": {},
   "outputs": [],
   "source": [
    "n_neighbors=np.random.randint(1,12,20)\n",
    "weights=['uniform','distance']\n",
    "algorithm=['auto','ball_tree','kd_tree','brute']\n",
    "leaf_size=np.random.randint(1,12,20)\n",
    "p=np.random.randint(1,12,20)\n",
    "\n",
    "parameters={\n",
    "    'n_neighbors':n_neighbors,\n",
    "    'weights':weights,\n",
    "    'algorithm':algorithm,\n",
    "    'leaf_size':leaf_size,\n",
    "    'p':p\n",
    "}"
   ]
  },
  {
   "cell_type": "code",
   "execution_count": null,
   "id": "50311912",
   "metadata": {},
   "outputs": [],
   "source": [
    "print(parameters)"
   ]
  },
  {
   "cell_type": "code",
   "execution_count": null,
   "id": "51a6280b",
   "metadata": {},
   "outputs": [],
   "source": [
    "import warnings\n",
    "warnings.filterwarnings('ignore')\n",
    "r=RandomizedSearchCV(knn,parameters,n_iter=100,cv=3)\n",
    "r.fit(over_xtrain,over_ytrain)"
   ]
  },
  {
   "cell_type": "code",
   "execution_count": null,
   "id": "df604df8",
   "metadata": {},
   "outputs": [],
   "source": [
    "r.cv_results_"
   ]
  },
  {
   "cell_type": "code",
   "execution_count": null,
   "id": "b2eeda39",
   "metadata": {},
   "outputs": [],
   "source": [
    "result=pd.DataFrame(r.cv_results_)\n",
    "result"
   ]
  },
  {
   "cell_type": "code",
   "execution_count": null,
   "id": "feeadde9",
   "metadata": {},
   "outputs": [],
   "source": [
    "r.best_score_"
   ]
  },
  {
   "cell_type": "code",
   "execution_count": null,
   "id": "c8ae1f71",
   "metadata": {},
   "outputs": [],
   "source": [
    "new_r=r.best_estimator_\n",
    "new_r"
   ]
  },
  {
   "cell_type": "code",
   "execution_count": null,
   "id": "de939735",
   "metadata": {},
   "outputs": [],
   "source": [
    "new_r.fit(over_xtrain,over_ytrain)"
   ]
  },
  {
   "cell_type": "code",
   "execution_count": null,
   "id": "e2cd2aaa",
   "metadata": {},
   "outputs": [],
   "source": [
    "new_r.score(over_xtrain,over_ytrain) "
   ]
  },
  {
   "cell_type": "markdown",
   "id": "c2ed4249",
   "metadata": {},
   "source": [
    "# 4-> Logistic Regression Algorithm Implementation"
   ]
  },
  {
   "cell_type": "markdown",
   "id": "95e04943",
   "metadata": {},
   "source": [
    "# Logistic Regression for holdout cross validation with Randon Over Sampling"
   ]
  },
  {
   "cell_type": "code",
   "execution_count": null,
   "id": "6d0b8024",
   "metadata": {},
   "outputs": [],
   "source": [
    "\n",
    "from sklearn.model_selection import train_test_split \n",
    "from sklearn.linear_model import LogisticRegression\n",
    "lr=LogisticRegression()\n"
   ]
  },
  {
   "cell_type": "code",
   "execution_count": null,
   "id": "149a9c7b",
   "metadata": {},
   "outputs": [],
   "source": [
    "over_xtrain,over_xtest,over_ytrain,over_ytest = train_test_split(x3_new,y3_new,test_size = 0.30 ,random_state =42)\n",
    "lr.fit(over_xtrain,over_ytrain)\n"
   ]
  },
  {
   "cell_type": "code",
   "execution_count": null,
   "id": "4c09f9f7",
   "metadata": {},
   "outputs": [],
   "source": [
    "lr.fit(over_xtrain,over_ytrain)\n"
   ]
  },
  {
   "cell_type": "code",
   "execution_count": null,
   "id": "c6d9e855",
   "metadata": {},
   "outputs": [],
   "source": [
    "OverSampleing_dataset_accuracy3 = lr.score(over_xtest,over_ytest)\n",
    "OverSampleing_dataset_accuracy3"
   ]
  },
  {
   "cell_type": "markdown",
   "id": "41c2ae8a",
   "metadata": {},
   "source": [
    "# Logistic Regression for KFold cross validation for Random Over sampling"
   ]
  },
  {
   "cell_type": "code",
   "execution_count": null,
   "id": "82e12adf",
   "metadata": {},
   "outputs": [],
   "source": [
    "from sklearn.model_selection import KFold, cross_val_score\n",
    "kfold = KFold(n_splits = 10)"
   ]
  },
  {
   "cell_type": "code",
   "execution_count": null,
   "id": "c2d8df75",
   "metadata": {},
   "outputs": [],
   "source": [
    "OverSampleingDataset_kfold_result3 = cross_val_score(lr,x3_new,y3_new,cv = kfold)\n",
    "OverSampleingDataset_kfold_result3"
   ]
  },
  {
   "cell_type": "code",
   "execution_count": null,
   "id": "5d243b05",
   "metadata": {},
   "outputs": [],
   "source": [
    "OverSampleingDataset_kfold_result3.mean()"
   ]
  },
  {
   "cell_type": "markdown",
   "id": "609db0f6",
   "metadata": {},
   "source": [
    "# Logistic Regression for StratiFied KFold cross validation for Over sampling\n"
   ]
  },
  {
   "cell_type": "code",
   "execution_count": null,
   "id": "dc160ed1",
   "metadata": {},
   "outputs": [],
   "source": [
    "from sklearn.model_selection import StratifiedKFold\n",
    "Stf_Kfold = StratifiedKFold(n_splits = 10)"
   ]
  },
  {
   "cell_type": "code",
   "execution_count": null,
   "id": "9a4aa164",
   "metadata": {},
   "outputs": [],
   "source": [
    "OverSampleingDataset_Sf_kfold_result3 = cross_val_score(lr,x3_new,y3_new,cv = Stf_Kfold)\n",
    "OverSampleingDataset_Sf_kfold_result3"
   ]
  },
  {
   "cell_type": "code",
   "execution_count": null,
   "id": "332ef97d",
   "metadata": {},
   "outputs": [],
   "source": [
    "OverSampleingDataset_Sf_kfold_result3.mean()"
   ]
  },
  {
   "cell_type": "markdown",
   "id": "5641b9c7",
   "metadata": {},
   "source": [
    "# Now from over sampling ,we calculate all confusion matrix performance"
   ]
  },
  {
   "cell_type": "code",
   "execution_count": null,
   "id": "25e6ede2",
   "metadata": {},
   "outputs": [],
   "source": [
    "from sklearn.metrics import classification_report,accuracy_score,confusion_matrix,plot_roc_curve\n",
    "lr.fit(over_xtrain,over_ytrain)"
   ]
  },
  {
   "cell_type": "code",
   "execution_count": null,
   "id": "3f62ea30",
   "metadata": {},
   "outputs": [],
   "source": [
    "pred_y3=lr.predict(over_xtest)#Predicted Class \n",
    "pred_y3"
   ]
  },
  {
   "cell_type": "code",
   "execution_count": null,
   "id": "15783bf7",
   "metadata": {},
   "outputs": [],
   "source": [
    "over_ytest"
   ]
  },
  {
   "cell_type": "code",
   "execution_count": null,
   "id": "194436de",
   "metadata": {},
   "outputs": [],
   "source": [
    "np.array(over_ytest) #actual class/y"
   ]
  },
  {
   "cell_type": "code",
   "execution_count": null,
   "id": "a086b7e8",
   "metadata": {},
   "outputs": [],
   "source": [
    "print(classification_report(over_ytest,pred_y3))"
   ]
  },
  {
   "cell_type": "code",
   "execution_count": null,
   "id": "20b24dde",
   "metadata": {},
   "outputs": [],
   "source": [
    "cm3=confusion_matrix(over_ytest,pred_y3)\n",
    "cm3"
   ]
  },
  {
   "cell_type": "markdown",
   "id": "9576709e",
   "metadata": {},
   "source": [
    "# Visualization with heatmap performance of confussion matrix for Logistic regresssion\n",
    "\n"
   ]
  },
  {
   "cell_type": "code",
   "execution_count": null,
   "id": "694dfc9b",
   "metadata": {},
   "outputs": [],
   "source": [
    "sns.heatmap(cm3,annot=True)\n",
    "plt.xlabel('Predicted Values')\n",
    "plt.ylabel('Actual Values')"
   ]
  },
  {
   "cell_type": "code",
   "execution_count": null,
   "id": "2245b79c",
   "metadata": {},
   "outputs": [],
   "source": [
    "tp,fn,fp,tn=confusion_matrix(over_ytest,pred_y3).reshape(-1)"
   ]
  },
  {
   "cell_type": "code",
   "execution_count": null,
   "id": "863d57ca",
   "metadata": {},
   "outputs": [],
   "source": [
    "tp"
   ]
  },
  {
   "cell_type": "code",
   "execution_count": null,
   "id": "05821f2c",
   "metadata": {},
   "outputs": [],
   "source": [
    "fn"
   ]
  },
  {
   "cell_type": "code",
   "execution_count": null,
   "id": "5d5be3f3",
   "metadata": {},
   "outputs": [],
   "source": [
    "fp"
   ]
  },
  {
   "cell_type": "code",
   "execution_count": null,
   "id": "a519f326",
   "metadata": {},
   "outputs": [],
   "source": [
    "tn"
   ]
  },
  {
   "cell_type": "markdown",
   "id": "58f3ef42",
   "metadata": {},
   "source": [
    "# Accuracy"
   ]
  },
  {
   "cell_type": "code",
   "execution_count": null,
   "id": "bbc8e362",
   "metadata": {},
   "outputs": [],
   "source": [
    "(tp+tn)/(tp+fn+fp+tn)"
   ]
  },
  {
   "cell_type": "markdown",
   "id": "1c048cf0",
   "metadata": {},
   "source": [
    "# Precision or positive predicted value(PPV)"
   ]
  },
  {
   "cell_type": "code",
   "execution_count": null,
   "id": "839f55b1",
   "metadata": {},
   "outputs": [],
   "source": [
    "ppv = tp/(tp+fp)\n",
    "print(ppv)"
   ]
  },
  {
   "cell_type": "markdown",
   "id": "c1dd7e26",
   "metadata": {},
   "source": [
    "# True positive rate(TPR),Sensitivity,Recall,Hit Rate"
   ]
  },
  {
   "cell_type": "code",
   "execution_count": null,
   "id": "ffaaa7c0",
   "metadata": {},
   "outputs": [],
   "source": [
    "trp = tp/(tp+fn)\n",
    "print(trp)"
   ]
  },
  {
   "cell_type": "markdown",
   "id": "2caf4cdd",
   "metadata": {},
   "source": [
    "# False positive rate(1-Specificity)"
   ]
  },
  {
   "cell_type": "code",
   "execution_count": null,
   "id": "670e7a7b",
   "metadata": {},
   "outputs": [],
   "source": [
    "fpr = fp/(fp+tn)\n",
    "print(fpr)"
   ]
  },
  {
   "cell_type": "markdown",
   "id": "5a217130",
   "metadata": {},
   "source": [
    "# F1-Score,Harmonic Mean"
   ]
  },
  {
   "cell_type": "code",
   "execution_count": null,
   "id": "dbbaa97c",
   "metadata": {},
   "outputs": [],
   "source": [
    "f1_score = (2*ppv*trp)/(ppv+trp)\n",
    "print(f1_score)"
   ]
  },
  {
   "cell_type": "markdown",
   "id": "b90dda88",
   "metadata": {},
   "source": [
    "# True nagative Rate(TNR),Specificity,Selectivity\n"
   ]
  },
  {
   "cell_type": "code",
   "execution_count": null,
   "id": "33f4e757",
   "metadata": {},
   "outputs": [],
   "source": [
    "tnr = tn/(tn+fp)\n",
    "print(tnr)"
   ]
  },
  {
   "cell_type": "markdown",
   "id": "164f7cfb",
   "metadata": {},
   "source": [
    "# Critical sucvcess index(CSI),Threat Score(TS)"
   ]
  },
  {
   "cell_type": "code",
   "execution_count": null,
   "id": "5747d275",
   "metadata": {},
   "outputs": [],
   "source": [
    "csi = tp/(tp+fn+fp)\n",
    "print(csi)"
   ]
  },
  {
   "cell_type": "markdown",
   "id": "fbad33e9",
   "metadata": {},
   "source": [
    "# False discovery Rate(FDR)\n"
   ]
  },
  {
   "cell_type": "code",
   "execution_count": null,
   "id": "e22e8034",
   "metadata": {},
   "outputs": [],
   "source": [
    "fdr = fp/(tp+fp)\n",
    "print(fdr)"
   ]
  },
  {
   "cell_type": "markdown",
   "id": "1024453c",
   "metadata": {},
   "source": [
    "# Roc and Auc curve for Logistic regression classifier\n"
   ]
  },
  {
   "cell_type": "code",
   "execution_count": null,
   "id": "b91673f4",
   "metadata": {},
   "outputs": [],
   "source": [
    "plot_roc_curve(lr,over_xtest,over_ytest,color='red')\n",
    "plt.plot([0,1],[0,1])"
   ]
  },
  {
   "cell_type": "markdown",
   "id": "d452922c",
   "metadata": {},
   "source": [
    "# Now Optimizing Logistic Regression Algorithm\n",
    "\n",
    "\n"
   ]
  },
  {
   "cell_type": "markdown",
   "id": "cab4917d",
   "metadata": {},
   "source": [
    "# Tuning Logistic Regression Algorithm using Randomized Search CV"
   ]
  },
  {
   "cell_type": "code",
   "execution_count": null,
   "id": "877c3d6d",
   "metadata": {},
   "outputs": [],
   "source": [
    "from sklearn.model_selection import RandomizedSearchCV"
   ]
  },
  {
   "cell_type": "code",
   "execution_count": null,
   "id": "e85fe41b",
   "metadata": {},
   "outputs": [],
   "source": []
  },
  {
   "cell_type": "code",
   "execution_count": null,
   "id": "54bcd94b",
   "metadata": {},
   "outputs": [],
   "source": []
  },
  {
   "cell_type": "markdown",
   "id": "38fe36d4",
   "metadata": {},
   "source": [
    "# 5-> XGBoost Classifier Algorithm Implementation\n"
   ]
  },
  {
   "cell_type": "markdown",
   "id": "3dfc8e1a",
   "metadata": {},
   "source": [
    "# XGBoost Classifier for holdout cross validation with Randon Over Sampling"
   ]
  },
  {
   "cell_type": "code",
   "execution_count": null,
   "id": "1b31fe89",
   "metadata": {},
   "outputs": [],
   "source": [
    "from sklearn.model_selection import train_test_split \n",
    "from xgboost import XGBoostClassifier\n",
    "xgb=XGBoostClassifier()\n"
   ]
  },
  {
   "cell_type": "code",
   "execution_count": null,
   "id": "86c3893a",
   "metadata": {},
   "outputs": [],
   "source": [
    "over_xtrain,over_xtest,over_ytrain,over_ytest = train_test_split(x4_new,y4_new,test_size = 0.30 ,random_state =42)\n",
    "xgb.fit(over_xtrain,over_ytrain)\n"
   ]
  },
  {
   "cell_type": "code",
   "execution_count": null,
   "id": "69c9cebc",
   "metadata": {},
   "outputs": [],
   "source": [
    "OverSampleing_dataset_accuracy4 = xgb.score(over_xtest,over_ytest)\n",
    "OverSampleing_dataset_accuracy4"
   ]
  },
  {
   "cell_type": "markdown",
   "id": "485e288d",
   "metadata": {},
   "source": [
    "# XGBoost for KFold cross validation for Random Over sampling"
   ]
  },
  {
   "cell_type": "code",
   "execution_count": null,
   "id": "4432a320",
   "metadata": {},
   "outputs": [],
   "source": [
    "from sklearn.model_selection import KFold, cross_val_score\n",
    "kfold = KFold(n_splits = 10)"
   ]
  },
  {
   "cell_type": "code",
   "execution_count": null,
   "id": "c1983139",
   "metadata": {},
   "outputs": [],
   "source": [
    "OverSampleingDataset_kfold_result4= cross_val_score(xgb,x4_new,y4_new,cv = kfold)\n",
    "OverSampleingDataset_kfold_result4"
   ]
  },
  {
   "cell_type": "code",
   "execution_count": null,
   "id": "8b2bb39d",
   "metadata": {},
   "outputs": [],
   "source": [
    "OverSampleingDataset_kfold_result4.mean()"
   ]
  },
  {
   "cell_type": "markdown",
   "id": "e3457d1a",
   "metadata": {},
   "source": [
    "# XGBoost for StratiFied KFold cross validation for Over sampling"
   ]
  },
  {
   "cell_type": "code",
   "execution_count": null,
   "id": "5373bf55",
   "metadata": {},
   "outputs": [],
   "source": [
    "from sklearn.model_selection import StratifiedKFold\n",
    "Stf_Kfold = StratifiedKFold(n_splits = 10)"
   ]
  },
  {
   "cell_type": "code",
   "execution_count": null,
   "id": "a0076232",
   "metadata": {},
   "outputs": [],
   "source": [
    "OverSampleingDataset_Sf_kfold_result4 = cross_val_score(xgb,x4_new,y4_new,cv = Stf_Kfold)\n",
    "OverSampleingDataset_Sf_kfold_result4"
   ]
  },
  {
   "cell_type": "code",
   "execution_count": null,
   "id": "d8b144c1",
   "metadata": {},
   "outputs": [],
   "source": [
    "OverSampleingDataset_Sf_kfold_result4.mean()"
   ]
  },
  {
   "cell_type": "markdown",
   "id": "c8e55726",
   "metadata": {},
   "source": [
    "# Now from over sampling ,we calculate all confusion matrix performance"
   ]
  },
  {
   "cell_type": "code",
   "execution_count": null,
   "id": "86e378de",
   "metadata": {},
   "outputs": [],
   "source": [
    "from sklearn.metrics import classification_report,accuracy_score,confusion_matrix,plot_roc_curve\n",
    "xgb.fit(over_xtrain,over_ytrain)"
   ]
  },
  {
   "cell_type": "code",
   "execution_count": null,
   "id": "84050692",
   "metadata": {},
   "outputs": [],
   "source": [
    "pred_y4=xgb.predict(over_xtest)#Predicted Class \n",
    "pred_y4"
   ]
  },
  {
   "cell_type": "code",
   "execution_count": null,
   "id": "d0a25f18",
   "metadata": {},
   "outputs": [],
   "source": [
    "over_ytest"
   ]
  },
  {
   "cell_type": "code",
   "execution_count": null,
   "id": "059d4dad",
   "metadata": {},
   "outputs": [],
   "source": [
    "np.array(over_ytest) #actual class/y"
   ]
  },
  {
   "cell_type": "code",
   "execution_count": null,
   "id": "519d0082",
   "metadata": {},
   "outputs": [],
   "source": [
    "print(classification_report(over_ytest,pred_y4))"
   ]
  },
  {
   "cell_type": "code",
   "execution_count": null,
   "id": "0fd2c8cf",
   "metadata": {},
   "outputs": [],
   "source": [
    "cm4=confusion_matrix(over_ytest,pred_y4)\n",
    "cm4"
   ]
  },
  {
   "cell_type": "markdown",
   "id": "5affe949",
   "metadata": {},
   "source": [
    "# Visualization with heatmap performance of confussion matrix for XGBoost"
   ]
  },
  {
   "cell_type": "code",
   "execution_count": null,
   "id": "35338150",
   "metadata": {},
   "outputs": [],
   "source": [
    "sns.heatmap(cm4,annot=True)\n",
    "plt.xlabel('Predicted Values')\n",
    "plt.ylabel('Actual Values')"
   ]
  },
  {
   "cell_type": "code",
   "execution_count": null,
   "id": "90ec8abc",
   "metadata": {},
   "outputs": [],
   "source": [
    "tp,fn,fp,tn=confusion_matrix(over_ytest,pred_y4).reshape(-1)"
   ]
  },
  {
   "cell_type": "code",
   "execution_count": null,
   "id": "7713d6f3",
   "metadata": {},
   "outputs": [],
   "source": [
    "tp"
   ]
  },
  {
   "cell_type": "code",
   "execution_count": null,
   "id": "e5c3bcb7",
   "metadata": {},
   "outputs": [],
   "source": [
    "fn"
   ]
  },
  {
   "cell_type": "code",
   "execution_count": null,
   "id": "823ee164",
   "metadata": {},
   "outputs": [],
   "source": [
    "fp"
   ]
  },
  {
   "cell_type": "code",
   "execution_count": null,
   "id": "582f7262",
   "metadata": {},
   "outputs": [],
   "source": [
    "tn"
   ]
  },
  {
   "cell_type": "markdown",
   "id": "5257fb87",
   "metadata": {},
   "source": [
    "# Accuracy"
   ]
  },
  {
   "cell_type": "code",
   "execution_count": null,
   "id": "1b89ab8a",
   "metadata": {},
   "outputs": [],
   "source": [
    "(tn+tp)/(tp+fn+fp+tn)"
   ]
  },
  {
   "cell_type": "code",
   "execution_count": null,
   "id": "3ad0d15b",
   "metadata": {},
   "outputs": [],
   "source": [
    "#precision\n",
    "ppv = tp/(tp+fp)\n",
    "print(ppv)"
   ]
  },
  {
   "cell_type": "code",
   "execution_count": null,
   "id": "b10a7257",
   "metadata": {},
   "outputs": [],
   "source": [
    "#Recall\n",
    "trp = tp/(tp+fn)\n",
    "print(trp)"
   ]
  },
  {
   "cell_type": "code",
   "execution_count": null,
   "id": "8bf6880f",
   "metadata": {},
   "outputs": [],
   "source": [
    "#1-Specificity\n",
    "fpr = fp/(fp+tn)\n",
    "print(fpr)"
   ]
  },
  {
   "cell_type": "code",
   "execution_count": null,
   "id": "549f0d2c",
   "metadata": {},
   "outputs": [],
   "source": [
    "#F1-score\n",
    "f1_score = (2*ppv*trp)/(ppv+trp)\n",
    "print(f1_score)"
   ]
  },
  {
   "cell_type": "code",
   "execution_count": null,
   "id": "8ca1ac36",
   "metadata": {},
   "outputs": [],
   "source": [
    "#Specificity\n",
    "tnr = tn/(tn+fp)\n",
    "print(tnr)"
   ]
  },
  {
   "cell_type": "code",
   "execution_count": null,
   "id": "a038aca3",
   "metadata": {},
   "outputs": [],
   "source": [
    "#CSI\n",
    "csi = tp/(tp+fn+fp)\n",
    "print(csi)"
   ]
  },
  {
   "cell_type": "code",
   "execution_count": null,
   "id": "5dc58789",
   "metadata": {},
   "outputs": [],
   "source": [
    "#FDR\n",
    "fdr = fp/(tp+fp)\n",
    "print(fdr)"
   ]
  },
  {
   "cell_type": "markdown",
   "id": "9cb071b4",
   "metadata": {},
   "source": [
    "# Roc and Auc curve for XGBoost classifier"
   ]
  },
  {
   "cell_type": "code",
   "execution_count": null,
   "id": "df0e5639",
   "metadata": {},
   "outputs": [],
   "source": [
    "plot_roc_curve(xgb,over_xtest,over_ytest,color='red')\n",
    "plt.plot([0,1],[0,1])"
   ]
  },
  {
   "cell_type": "markdown",
   "id": "aa2285f8",
   "metadata": {},
   "source": [
    "# Tuning XGBoost Classifier Algorithm using Randomized Search CV"
   ]
  },
  {
   "cell_type": "code",
   "execution_count": null,
   "id": "e238cc55",
   "metadata": {},
   "outputs": [],
   "source": []
  },
  {
   "cell_type": "code",
   "execution_count": null,
   "id": "d9b8b420",
   "metadata": {},
   "outputs": [],
   "source": []
  },
  {
   "cell_type": "code",
   "execution_count": null,
   "id": "28035770",
   "metadata": {},
   "outputs": [],
   "source": []
  },
  {
   "cell_type": "markdown",
   "id": "40709fd0",
   "metadata": {},
   "source": [
    "# 6-> AdaBoost Classifier Algorithm Implementation"
   ]
  },
  {
   "cell_type": "markdown",
   "id": "f5e6ed7a",
   "metadata": {},
   "source": [
    "# AdaBoost for holdout cross validation with Randon Over Sampling"
   ]
  },
  {
   "cell_type": "code",
   "execution_count": null,
   "id": "cf80d6f1",
   "metadata": {},
   "outputs": [],
   "source": [
    "from sklearn.model_selection import train_test_split \n",
    "from sklearn.ensemble import AdaBoostClassifier\n",
    "ada=AdaBoostClassifier()"
   ]
  },
  {
   "cell_type": "code",
   "execution_count": null,
   "id": "b0f1dff8",
   "metadata": {},
   "outputs": [],
   "source": [
    "over_xtrain,over_xtest,over_ytrain,over_ytest = train_test_split(x5_new,y5_new,test_size = 0.30 ,random_state =42)\n",
    "ada.fit(over_xtrain,over_ytrain)\n"
   ]
  },
  {
   "cell_type": "code",
   "execution_count": null,
   "id": "bca8a4d6",
   "metadata": {},
   "outputs": [],
   "source": [
    "OverSampleing_dataset_accuracy5 = ada.score(over_xtest,over_ytest)\n",
    "OverSampleing_dataset_accuracy5"
   ]
  },
  {
   "cell_type": "markdown",
   "id": "5c30ec60",
   "metadata": {},
   "source": [
    "# AdaBoost for KFold cross validation for Random Over sampling"
   ]
  },
  {
   "cell_type": "code",
   "execution_count": null,
   "id": "da2ffbb1",
   "metadata": {},
   "outputs": [],
   "source": [
    "from sklearn.model_selection import KFold, cross_val_score\n",
    "kfold = KFold(n_splits = 10)"
   ]
  },
  {
   "cell_type": "code",
   "execution_count": null,
   "id": "4fb92a0f",
   "metadata": {},
   "outputs": [],
   "source": [
    "OverSampleingDataset_kfold_result5= cross_val_score(ada,x5_new,y5_new,cv = kfold)\n",
    "OverSampleingDataset_kfold_result5"
   ]
  },
  {
   "cell_type": "code",
   "execution_count": null,
   "id": "5844cd0d",
   "metadata": {},
   "outputs": [],
   "source": [
    "OverSampleingDataset_kfold_result5.mean()"
   ]
  },
  {
   "cell_type": "markdown",
   "id": "224b5f01",
   "metadata": {},
   "source": [
    "# AdaBoost for StratiFied KFold cross validation for Over sampling"
   ]
  },
  {
   "cell_type": "code",
   "execution_count": null,
   "id": "17a7c8cf",
   "metadata": {},
   "outputs": [],
   "source": [
    "from sklearn.model_selection import StratifiedKFold\n",
    "Stf_Kfold = StratifiedKFold(n_splits = 10)"
   ]
  },
  {
   "cell_type": "code",
   "execution_count": null,
   "id": "f6cbf831",
   "metadata": {},
   "outputs": [],
   "source": [
    "OverSampleingDataset_Sf_kfold_result5= cross_val_score(ada,x5_new,y5_new,cv = Stf_Kfold)\n",
    "OverSampleingDataset_Sf_kfold_result5"
   ]
  },
  {
   "cell_type": "code",
   "execution_count": null,
   "id": "ec8f9606",
   "metadata": {},
   "outputs": [],
   "source": [
    "OverSampleingDataset_Sf_kfold_result5.mean()"
   ]
  },
  {
   "cell_type": "markdown",
   "id": "606e185c",
   "metadata": {},
   "source": [
    "# Now from over sampling ,we calculate all confusion matrix performance"
   ]
  },
  {
   "cell_type": "code",
   "execution_count": null,
   "id": "ed7d8ca6",
   "metadata": {},
   "outputs": [],
   "source": [
    "from sklearn.metrics import classification_report,accuracy_score,confusion_matrix,plot_roc_curve\n",
    "ada.fit(over_xtrain,over_ytrain)"
   ]
  },
  {
   "cell_type": "code",
   "execution_count": null,
   "id": "e34bc10c",
   "metadata": {},
   "outputs": [],
   "source": [
    "pred_y5=ada.predict(over_xtest)#Predicted Class \n",
    "pred_y5"
   ]
  },
  {
   "cell_type": "code",
   "execution_count": null,
   "id": "c694101c",
   "metadata": {},
   "outputs": [],
   "source": [
    "over_ytest"
   ]
  },
  {
   "cell_type": "code",
   "execution_count": null,
   "id": "c664bfd7",
   "metadata": {},
   "outputs": [],
   "source": [
    "np.array(over_ytest) #actual class/y"
   ]
  },
  {
   "cell_type": "code",
   "execution_count": null,
   "id": "e80086d7",
   "metadata": {},
   "outputs": [],
   "source": [
    "print(classification_report(over_ytest,pred_y5))"
   ]
  },
  {
   "cell_type": "code",
   "execution_count": null,
   "id": "684ecd55",
   "metadata": {},
   "outputs": [],
   "source": [
    "cm5=confusion_matrix(over_ytest,pred_y5)\n",
    "cm5"
   ]
  },
  {
   "cell_type": "markdown",
   "id": "4e4d515c",
   "metadata": {},
   "source": [
    "# Visualization with heatmap performance of confussion matrix for ADaBoost"
   ]
  },
  {
   "cell_type": "code",
   "execution_count": null,
   "id": "c265ef6f",
   "metadata": {},
   "outputs": [],
   "source": [
    "sns.heatmap(cm5,annot=True)\n",
    "plt.xlabel('Predicted Values')\n",
    "plt.ylabel('Actual Values')"
   ]
  },
  {
   "cell_type": "code",
   "execution_count": null,
   "id": "844e037e",
   "metadata": {},
   "outputs": [],
   "source": [
    "tp,fn,fp,tn=confusion_matrix(over_ytest,pred_y5).reshape(-1)"
   ]
  },
  {
   "cell_type": "code",
   "execution_count": null,
   "id": "3118595c",
   "metadata": {},
   "outputs": [],
   "source": [
    "tp"
   ]
  },
  {
   "cell_type": "code",
   "execution_count": null,
   "id": "bb24620a",
   "metadata": {},
   "outputs": [],
   "source": [
    "fn"
   ]
  },
  {
   "cell_type": "code",
   "execution_count": null,
   "id": "c70b73b8",
   "metadata": {},
   "outputs": [],
   "source": [
    "fp"
   ]
  },
  {
   "cell_type": "code",
   "execution_count": null,
   "id": "f19212c2",
   "metadata": {},
   "outputs": [],
   "source": [
    "tn"
   ]
  },
  {
   "cell_type": "markdown",
   "id": "e6584b25",
   "metadata": {},
   "source": [
    "# Accuracy"
   ]
  },
  {
   "cell_type": "code",
   "execution_count": null,
   "id": "8994fbd1",
   "metadata": {},
   "outputs": [],
   "source": [
    "(tp+tn)/(tp+fn+fp+tn)"
   ]
  },
  {
   "cell_type": "code",
   "execution_count": null,
   "id": "61ee8b45",
   "metadata": {},
   "outputs": [],
   "source": [
    "#precision\n",
    "ppv = tp/(tp+fp)\n",
    "print(ppv)"
   ]
  },
  {
   "cell_type": "code",
   "execution_count": null,
   "id": "b6644f02",
   "metadata": {},
   "outputs": [],
   "source": [
    "#Recall\n",
    "trp = tp/(tp+fn)\n",
    "print(trp)"
   ]
  },
  {
   "cell_type": "code",
   "execution_count": null,
   "id": "4ab577a3",
   "metadata": {},
   "outputs": [],
   "source": [
    "#1-Specificity\n",
    "fpr = fp/(fp+tn)\n",
    "print(fpr)"
   ]
  },
  {
   "cell_type": "code",
   "execution_count": null,
   "id": "2dda956e",
   "metadata": {},
   "outputs": [],
   "source": [
    "#F1-score\n",
    "f1_score = (2*ppv*trp)/(ppv+trp)\n",
    "print(f1_score)"
   ]
  },
  {
   "cell_type": "code",
   "execution_count": null,
   "id": "1372c2df",
   "metadata": {},
   "outputs": [],
   "source": [
    "#Specificity\n",
    "tnr = tn/(tn+fp)\n",
    "print(tnr)"
   ]
  },
  {
   "cell_type": "code",
   "execution_count": null,
   "id": "a7638d35",
   "metadata": {},
   "outputs": [],
   "source": [
    "#CSI\n",
    "csi = tp/(tp+fn+fp)\n",
    "print(csi)"
   ]
  },
  {
   "cell_type": "code",
   "execution_count": null,
   "id": "99c8b944",
   "metadata": {},
   "outputs": [],
   "source": [
    "#FDR\n",
    "fdr = fp/(tp+fp)\n",
    "print(fdr)"
   ]
  },
  {
   "cell_type": "markdown",
   "id": "2a8fd8cb",
   "metadata": {},
   "source": [
    "# Roc and Auc curve for AdaBoost classifier"
   ]
  },
  {
   "cell_type": "code",
   "execution_count": null,
   "id": "5c411c4b",
   "metadata": {},
   "outputs": [],
   "source": [
    "plot_roc_curve(ada,over_xtest,over_ytest,color='red')\n",
    "plt.plot([0,1],[0,1])"
   ]
  },
  {
   "cell_type": "markdown",
   "id": "ec44d13b",
   "metadata": {},
   "source": [
    "# Tuning ADaBoost Classifier Algorithm using Randomized Search CV"
   ]
  },
  {
   "cell_type": "markdown",
   "id": "536ff77e",
   "metadata": {},
   "source": [
    "# Assign parameters"
   ]
  },
  {
   "cell_type": "code",
   "execution_count": null,
   "id": "4aac0d66",
   "metadata": {},
   "outputs": [],
   "source": [
    "n_estimators=np.random.randint(15,200,20)\n",
    "algorithm=['SAMME','SAMME.R']\n",
    "\n",
    "\n",
    "parameters={\n",
    "    'n_estimators':n_estimators,\n",
    "    'algorithm':algorithm\n",
    "       \n",
    "}"
   ]
  },
  {
   "cell_type": "code",
   "execution_count": null,
   "id": "e18e0918",
   "metadata": {},
   "outputs": [],
   "source": [
    "print(parameters)"
   ]
  },
  {
   "cell_type": "code",
   "execution_count": null,
   "id": "eb724edf",
   "metadata": {},
   "outputs": [],
   "source": [
    "from sklearn.model_selection import RandomizedSearchCV\n",
    "import warnings\n",
    "warnings.filterwarnings('ignore')\n",
    "r=RandomizedSearchCV(ada,parameters,n_iter=100,cv=3)\n",
    "r.fit(over_xtrain,over_ytrain)"
   ]
  },
  {
   "cell_type": "code",
   "execution_count": null,
   "id": "28462097",
   "metadata": {},
   "outputs": [],
   "source": [
    "r.cv_results_"
   ]
  },
  {
   "cell_type": "code",
   "execution_count": null,
   "id": "b0d4bb80",
   "metadata": {},
   "outputs": [],
   "source": [
    "result=pd.DataFrame(r.cv_results_)\n",
    "result"
   ]
  },
  {
   "cell_type": "code",
   "execution_count": null,
   "id": "6f9988b6",
   "metadata": {},
   "outputs": [],
   "source": [
    "r.best_score_"
   ]
  },
  {
   "cell_type": "code",
   "execution_count": null,
   "id": "b1756e43",
   "metadata": {},
   "outputs": [],
   "source": [
    "new_r=r.best_estimator_\n",
    "new_r"
   ]
  },
  {
   "cell_type": "code",
   "execution_count": null,
   "id": "c5369f88",
   "metadata": {},
   "outputs": [],
   "source": [
    "new_r.fit(over_xtrain,over_ytrain)"
   ]
  },
  {
   "cell_type": "code",
   "execution_count": null,
   "id": "a2a8e633",
   "metadata": {},
   "outputs": [],
   "source": [
    "new_r.score(over_xtest,over_ytest)"
   ]
  },
  {
   "cell_type": "markdown",
   "id": "45a675c7",
   "metadata": {},
   "source": [
    "# 7->GradientBoostingClassifier Algorithm implementation"
   ]
  },
  {
   "cell_type": "markdown",
   "id": "1ef8fe65",
   "metadata": {},
   "source": [
    "# GradientBoosting Classifier for holdout cross validation with Randon Over Sampling\n"
   ]
  },
  {
   "cell_type": "code",
   "execution_count": null,
   "id": "723db79a",
   "metadata": {},
   "outputs": [],
   "source": [
    "from sklearn.model_selection import train_test_split \n",
    "from sklearn.ensemble import GradientBoostingClassifier\n",
    "gbc=GradientBoostingClassifier()"
   ]
  },
  {
   "cell_type": "code",
   "execution_count": null,
   "id": "0e72ed07",
   "metadata": {},
   "outputs": [],
   "source": [
    "over_xtrain,over_xtest,over_ytrain,over_ytest = train_test_split(x6_new,y6_new,test_size = 0.30 ,random_state =42)\n",
    "gbc.fit(over_xtrain,over_ytrain)"
   ]
  },
  {
   "cell_type": "code",
   "execution_count": null,
   "id": "f89e7aa8",
   "metadata": {},
   "outputs": [],
   "source": [
    "OverSampleing_dataset_accuracy6 = gbc.score(over_xtest,over_ytest)\n",
    "OverSampleing_dataset_accuracy6"
   ]
  },
  {
   "cell_type": "markdown",
   "id": "20b3534f",
   "metadata": {},
   "source": [
    "# GradientBoostingClassifier for KFold cross validation for Random Over sampling"
   ]
  },
  {
   "cell_type": "code",
   "execution_count": null,
   "id": "574739eb",
   "metadata": {},
   "outputs": [],
   "source": [
    "from sklearn.model_selection import KFold, cross_val_score\n",
    "kfold = KFold(n_splits = 10)"
   ]
  },
  {
   "cell_type": "code",
   "execution_count": null,
   "id": "b218d844",
   "metadata": {},
   "outputs": [],
   "source": [
    "OverSampleingDataset_kfold_result6= cross_val_score(gbc,x6_new,y6_new,cv = kfold)\n",
    "OverSampleingDataset_kfold_result6"
   ]
  },
  {
   "cell_type": "code",
   "execution_count": null,
   "id": "67b0c84e",
   "metadata": {},
   "outputs": [],
   "source": [
    "OverSampleingDataset_kfold_result6.mean()"
   ]
  },
  {
   "cell_type": "markdown",
   "id": "cc4f5a54",
   "metadata": {},
   "source": [
    "# GradientBoostingClassifier for StratiFied KFold cross validation for Over sampling\n"
   ]
  },
  {
   "cell_type": "code",
   "execution_count": null,
   "id": "67e1b8df",
   "metadata": {},
   "outputs": [],
   "source": [
    "from sklearn.model_selection import StratifiedKFold\n",
    "Stf_Kfold = StratifiedKFold(n_splits = 10)"
   ]
  },
  {
   "cell_type": "code",
   "execution_count": null,
   "id": "35ec21c0",
   "metadata": {},
   "outputs": [],
   "source": [
    "OverSampleingDataset_Sf_kfold_result6= cross_val_score(gbc,x6_new,y6_new,cv = Stf_Kfold)\n",
    "OverSampleingDataset_Sf_kfold_result6"
   ]
  },
  {
   "cell_type": "code",
   "execution_count": null,
   "id": "0b67f6b4",
   "metadata": {},
   "outputs": [],
   "source": [
    "OverSampleingDataset_Sf_kfold_result6.mean()"
   ]
  },
  {
   "cell_type": "markdown",
   "id": "ba360fd0",
   "metadata": {},
   "source": [
    "# Now from over sampling ,we calculate all confusion matrix performance\n"
   ]
  },
  {
   "cell_type": "code",
   "execution_count": null,
   "id": "67993a97",
   "metadata": {},
   "outputs": [],
   "source": [
    "from sklearn.metrics import classification_report,accuracy_score,confusion_matrix,plot_roc_curve\n",
    "gbc.fit(over_xtrain,over_ytrain)\n"
   ]
  },
  {
   "cell_type": "code",
   "execution_count": null,
   "id": "cde05f3b",
   "metadata": {},
   "outputs": [],
   "source": [
    "pred_y6=gbc.predict(over_xtest)#Predicted Class \n",
    "pred_y6"
   ]
  },
  {
   "cell_type": "code",
   "execution_count": null,
   "id": "8a8a9daf",
   "metadata": {},
   "outputs": [],
   "source": [
    "over_ytest"
   ]
  },
  {
   "cell_type": "code",
   "execution_count": null,
   "id": "aba72a78",
   "metadata": {},
   "outputs": [],
   "source": [
    "np.array(over_ytest) #actual class/y"
   ]
  },
  {
   "cell_type": "code",
   "execution_count": null,
   "id": "72428a04",
   "metadata": {},
   "outputs": [],
   "source": [
    "print(classification_report(over_ytest,pred_y6))"
   ]
  },
  {
   "cell_type": "code",
   "execution_count": null,
   "id": "1eba1eca",
   "metadata": {},
   "outputs": [],
   "source": [
    "cm6=classification_report(over_ytest,pred_y6)\n",
    "cm6\n",
    "                    "
   ]
  },
  {
   "cell_type": "markdown",
   "id": "053a9b76",
   "metadata": {},
   "source": [
    "# Visualization with heatmap performance of confussion matrix for GradientBoosting Classifier\n"
   ]
  },
  {
   "cell_type": "code",
   "execution_count": null,
   "id": "378c1d10",
   "metadata": {},
   "outputs": [],
   "source": [
    "sns.heatmap(cm6,annot=True)\n",
    "plt.xlabel('Predicted Values')\n",
    "plt.ylabel('Actual Values')"
   ]
  },
  {
   "cell_type": "code",
   "execution_count": null,
   "id": "97229b4f",
   "metadata": {},
   "outputs": [],
   "source": [
    "tp,fn,fp,tn=confusion_matrix(over_ytest,pred_y6).reshape(-1)"
   ]
  },
  {
   "cell_type": "code",
   "execution_count": null,
   "id": "770a7afc",
   "metadata": {},
   "outputs": [],
   "source": [
    "tp"
   ]
  },
  {
   "cell_type": "code",
   "execution_count": null,
   "id": "152e58ae",
   "metadata": {},
   "outputs": [],
   "source": [
    "fn"
   ]
  },
  {
   "cell_type": "code",
   "execution_count": null,
   "id": "d5c2913e",
   "metadata": {},
   "outputs": [],
   "source": [
    "fp"
   ]
  },
  {
   "cell_type": "code",
   "execution_count": null,
   "id": "13d36f10",
   "metadata": {},
   "outputs": [],
   "source": [
    "tn"
   ]
  },
  {
   "cell_type": "markdown",
   "id": "769a4440",
   "metadata": {},
   "source": [
    "# Accuracy"
   ]
  },
  {
   "cell_type": "code",
   "execution_count": null,
   "id": "fcdc8974",
   "metadata": {},
   "outputs": [],
   "source": [
    "(tp+tp)/(tp+fn+fp+tn)"
   ]
  },
  {
   "cell_type": "code",
   "execution_count": null,
   "id": "caf440c0",
   "metadata": {},
   "outputs": [],
   "source": [
    "#precision\n",
    "ppv = tp/(tp+fp)\n",
    "print(ppv)"
   ]
  },
  {
   "cell_type": "code",
   "execution_count": null,
   "id": "fe5a70ee",
   "metadata": {},
   "outputs": [],
   "source": [
    "#Recall\n",
    "trp = tp/(tp+fn)\n",
    "print(trp)"
   ]
  },
  {
   "cell_type": "code",
   "execution_count": null,
   "id": "759f6dad",
   "metadata": {},
   "outputs": [],
   "source": [
    "#1-Specificity\n",
    "fpr = fp/(fp+tn)\n",
    "print(fpr)"
   ]
  },
  {
   "cell_type": "code",
   "execution_count": null,
   "id": "1bfd7679",
   "metadata": {},
   "outputs": [],
   "source": [
    "#F1-score\n",
    "f1_score = (2*ppv*trp)/(ppv+trp)\n",
    "print(f1_score)"
   ]
  },
  {
   "cell_type": "code",
   "execution_count": null,
   "id": "60badadd",
   "metadata": {},
   "outputs": [],
   "source": [
    "#Specificity\n",
    "tnr = tn/(tn+fp)\n",
    "print(tnr)"
   ]
  },
  {
   "cell_type": "code",
   "execution_count": null,
   "id": "fdb6063e",
   "metadata": {},
   "outputs": [],
   "source": [
    "#CSI\n",
    "csi = tp/(tp+fn+fp)\n",
    "print(csi)"
   ]
  },
  {
   "cell_type": "code",
   "execution_count": null,
   "id": "8157b685",
   "metadata": {},
   "outputs": [],
   "source": [
    "#FDR\n",
    "fdr = fp/(tp+fp)\n",
    "print(fdr)"
   ]
  },
  {
   "cell_type": "markdown",
   "id": "06ca2ef1",
   "metadata": {},
   "source": [
    "# Roc and Auc curve for GradientingBoosting classifier\n"
   ]
  },
  {
   "cell_type": "code",
   "execution_count": null,
   "id": "025e6938",
   "metadata": {},
   "outputs": [],
   "source": [
    "plot_roc_curve(gbc,over_xtest,over_ytest,color='red')\n",
    "plt.plot([0,1],[0,1])\n"
   ]
  },
  {
   "cell_type": "markdown",
   "id": "943761c4",
   "metadata": {},
   "source": [
    "# Tuning GradientBoosting Classifier Algorithm using Randomized Search CV\n"
   ]
  },
  {
   "cell_type": "markdown",
   "id": "bdaae45d",
   "metadata": {},
   "source": [
    "# Assign parameters"
   ]
  },
  {
   "cell_type": "code",
   "execution_count": null,
   "id": "bcd4125f",
   "metadata": {},
   "outputs": [],
   "source": [
    "n_estimators=np.random.randint(15,200,20)\n",
    "loss=['deviance','exponential']\n",
    "learning_rate=0.001\n",
    "criterion=['friedman_mse', 'squared_error', 'mse', 'mae']\n",
    "max_features=['auto','sqrt','log2']\n",
    "max_depth=np.random.randint(1,12,20)\n",
    "min_samples_split=np.random.randint(1,12,15)\n",
    "\n",
    "parameters={\n",
    "    'n_estimators':n_estimators,\n",
    "    'loss':loss,\n",
    "     'criterion':criterion,\n",
    "    'learning_rate':learning_rate,\n",
    "    'max_features':max_features,\n",
    "    'max_depth':max_depth,\n",
    "    'min_samples_split':min_samples_split\n",
    "}"
   ]
  },
  {
   "cell_type": "code",
   "execution_count": null,
   "id": "7d2aec85",
   "metadata": {},
   "outputs": [],
   "source": [
    "print(parameters)"
   ]
  },
  {
   "cell_type": "code",
   "execution_count": null,
   "id": "26e0f592",
   "metadata": {},
   "outputs": [],
   "source": [
    "from sklearn.model_selection import RandomizedSearchCV\n",
    "import warnings\n",
    "warnings.filterwarnings('ignore')\n",
    "r=RandomizedSearchCV(gbc,parameters,n_iter=100,cv=3)\n",
    "r.fit(over_xtrain,over_ytrain)"
   ]
  },
  {
   "cell_type": "code",
   "execution_count": null,
   "id": "eb5ab53c",
   "metadata": {},
   "outputs": [],
   "source": [
    "r.cv_results_"
   ]
  },
  {
   "cell_type": "code",
   "execution_count": null,
   "id": "58b18d4d",
   "metadata": {},
   "outputs": [],
   "source": [
    "result=pd.DataFrame(r.cv_results_)\n",
    "result"
   ]
  },
  {
   "cell_type": "code",
   "execution_count": null,
   "id": "5c552238",
   "metadata": {},
   "outputs": [],
   "source": [
    "r.best_estimator_"
   ]
  },
  {
   "cell_type": "code",
   "execution_count": null,
   "id": "2d7eecd4",
   "metadata": {},
   "outputs": [],
   "source": [
    "new_r=r.best_estimator_\n",
    "new_r"
   ]
  },
  {
   "cell_type": "code",
   "execution_count": null,
   "id": "8c95d259",
   "metadata": {},
   "outputs": [],
   "source": [
    "new_r.fit(over_xtrain,over_ytrain)"
   ]
  },
  {
   "cell_type": "code",
   "execution_count": null,
   "id": "c2957c44",
   "metadata": {},
   "outputs": [],
   "source": [
    "new_r.score(over_xtrain,over_ytrain)"
   ]
  },
  {
   "cell_type": "markdown",
   "id": "dfc4dd71",
   "metadata": {},
   "source": [
    "# 8->HistGradientBoostingClassifier Algorithm implementation\n"
   ]
  },
  {
   "cell_type": "markdown",
   "id": "1df031cf",
   "metadata": {},
   "source": [
    "# HistGradientBoosting Classifier for holdout cross validation with Randon Over Sampling"
   ]
  },
  {
   "cell_type": "code",
   "execution_count": null,
   "id": "816b8362",
   "metadata": {},
   "outputs": [],
   "source": [
    "from sklearn.model_selection import train_test_split \n",
    "from sklearn.ensemble import HistGradientBoostingClassifier\n",
    "hgbc=HistGradientBoostingClassifier()"
   ]
  },
  {
   "cell_type": "code",
   "execution_count": null,
   "id": "a86e59f7",
   "metadata": {},
   "outputs": [],
   "source": [
    "over_xtrain,over_xtest,over_ytrain,over_ytest = train_test_split(x7_new,y7_new,test_size = 0.30 ,random_state =42)\n",
    "hgbc.fit(over_xtrain,over_ytrain)\n"
   ]
  },
  {
   "cell_type": "code",
   "execution_count": null,
   "id": "559cdc9a",
   "metadata": {},
   "outputs": [],
   "source": [
    "OverSampleing_dataset_accuracy7 = hgbc.score(over_xtest,over_ytest)\n",
    "OverSampleing_dataset_accuracy7"
   ]
  },
  {
   "cell_type": "markdown",
   "id": "591c6b5c",
   "metadata": {},
   "source": [
    "# HistGradientBoostingClassifier for KFold cross validation for Random Over sampling\n"
   ]
  },
  {
   "cell_type": "code",
   "execution_count": null,
   "id": "83eb8b7a",
   "metadata": {},
   "outputs": [],
   "source": [
    "from sklearn.model_selection import KFold, cross_val_score\n",
    "kfold = KFold(n_splits = 10)"
   ]
  },
  {
   "cell_type": "code",
   "execution_count": null,
   "id": "a2170fad",
   "metadata": {},
   "outputs": [],
   "source": [
    "OverSampleingDataset_kfold_result7= cross_val_score(hgbc,x7_new,y7_new,cv = kfold)\n",
    "OverSampleingDataset_kfold_result7"
   ]
  },
  {
   "cell_type": "code",
   "execution_count": null,
   "id": "52ed972a",
   "metadata": {},
   "outputs": [],
   "source": [
    "OverSampleingDataset_kfold_result7.mean()"
   ]
  },
  {
   "cell_type": "markdown",
   "id": "65814d76",
   "metadata": {},
   "source": [
    "# HistGradientBoostingClassifier for StratiFied KFold cross validation for Over sampling\n"
   ]
  },
  {
   "cell_type": "code",
   "execution_count": null,
   "id": "d65dfdd9",
   "metadata": {},
   "outputs": [],
   "source": [
    "from sklearn.model_selection import StratifiedKFold\n",
    "Stf_Kfold = StratifiedKFold(n_splits = 10)"
   ]
  },
  {
   "cell_type": "code",
   "execution_count": null,
   "id": "9dcb6863",
   "metadata": {},
   "outputs": [],
   "source": [
    "OverSampleingDataset_Sf_kfold_result7= cross_val_score(hgbc,x7_new,y7_new,cv = Stf_Kfold)\n",
    "OverSampleingDataset_Sf_kfold_result7"
   ]
  },
  {
   "cell_type": "code",
   "execution_count": null,
   "id": "fef66917",
   "metadata": {},
   "outputs": [],
   "source": [
    "OverSampleingDataset_Sf_kfold_result7.mean()"
   ]
  },
  {
   "cell_type": "markdown",
   "id": "af6bfb64",
   "metadata": {},
   "source": [
    "# Now from over sampling ,we calculate all confusion matrix performance\n"
   ]
  },
  {
   "cell_type": "code",
   "execution_count": null,
   "id": "72b6a9d6",
   "metadata": {},
   "outputs": [],
   "source": [
    "from sklearn.metrics import classification_report,accuracy_score,confusion_matrix,plot_roc_curve\n",
    "hgbc.fit(over_xtrain,over_ytrain)"
   ]
  },
  {
   "cell_type": "code",
   "execution_count": null,
   "id": "31d06a63",
   "metadata": {},
   "outputs": [],
   "source": [
    "pred_y7=hgbc.predict(over_xtest)#Predicted Class \n",
    "pred_y7"
   ]
  },
  {
   "cell_type": "code",
   "execution_count": null,
   "id": "bb154dcd",
   "metadata": {},
   "outputs": [],
   "source": [
    "over_ytest"
   ]
  },
  {
   "cell_type": "code",
   "execution_count": null,
   "id": "503c3a50",
   "metadata": {},
   "outputs": [],
   "source": [
    "np.array(over_ytest) #actual class/y"
   ]
  },
  {
   "cell_type": "code",
   "execution_count": null,
   "id": "cb59adf2",
   "metadata": {},
   "outputs": [],
   "source": [
    "print(classification_report(over_ytest,pred_y7))"
   ]
  },
  {
   "cell_type": "code",
   "execution_count": null,
   "id": "99a7f5b2",
   "metadata": {},
   "outputs": [],
   "source": [
    "cm7=classification_report(over_ytest,pred_y7)\n",
    "cm7"
   ]
  },
  {
   "cell_type": "markdown",
   "id": "f927efdd",
   "metadata": {},
   "source": [
    "# Visualization with heatmap performance of confussion matrix for HistGradientBoosting Classifier"
   ]
  },
  {
   "cell_type": "code",
   "execution_count": null,
   "id": "a15f90a1",
   "metadata": {},
   "outputs": [],
   "source": [
    "sns.heatmap(cm7,annot=True)\n",
    "plt.xlabel('Predicted Values')\n",
    "plt.ylabel('Actual Values')"
   ]
  },
  {
   "cell_type": "code",
   "execution_count": null,
   "id": "ee2ee8e8",
   "metadata": {},
   "outputs": [],
   "source": [
    "tp,fn,fp,tn=confusion_matrix(over_ytest,pred_y7).reshape(-1)"
   ]
  },
  {
   "cell_type": "code",
   "execution_count": null,
   "id": "fc6efef2",
   "metadata": {},
   "outputs": [],
   "source": [
    "tp"
   ]
  },
  {
   "cell_type": "code",
   "execution_count": null,
   "id": "4014e834",
   "metadata": {},
   "outputs": [],
   "source": [
    "fn"
   ]
  },
  {
   "cell_type": "code",
   "execution_count": null,
   "id": "6b69f4fe",
   "metadata": {},
   "outputs": [],
   "source": [
    "fp"
   ]
  },
  {
   "cell_type": "code",
   "execution_count": null,
   "id": "9333200a",
   "metadata": {},
   "outputs": [],
   "source": [
    "tn"
   ]
  },
  {
   "cell_type": "markdown",
   "id": "043dacbd",
   "metadata": {},
   "source": [
    "# Accuracy"
   ]
  },
  {
   "cell_type": "code",
   "execution_count": null,
   "id": "3c1b1c57",
   "metadata": {},
   "outputs": [],
   "source": [
    "(tp+tn)/(tp+tn+fn+fp)"
   ]
  },
  {
   "cell_type": "code",
   "execution_count": null,
   "id": "2bb458c3",
   "metadata": {},
   "outputs": [],
   "source": [
    "#precision\n",
    "ppv = tp/(tp+fp)\n",
    "print(ppv)"
   ]
  },
  {
   "cell_type": "code",
   "execution_count": null,
   "id": "ab2b48ee",
   "metadata": {},
   "outputs": [],
   "source": [
    "#Recall\n",
    "trp = tp/(tp+fn)\n",
    "print(trp)"
   ]
  },
  {
   "cell_type": "code",
   "execution_count": null,
   "id": "c7ab7162",
   "metadata": {},
   "outputs": [],
   "source": [
    "#1-Specificity\n",
    "fpr = fp/(fp+tn)\n",
    "print(fpr)"
   ]
  },
  {
   "cell_type": "code",
   "execution_count": null,
   "id": "63d9b834",
   "metadata": {},
   "outputs": [],
   "source": [
    "#F1-score\n",
    "f1_score = (2*ppv*trp)/(ppv+trp)\n",
    "print(f1_score)"
   ]
  },
  {
   "cell_type": "code",
   "execution_count": null,
   "id": "8b3b169c",
   "metadata": {},
   "outputs": [],
   "source": [
    "#Specificity\n",
    "tnr = tn/(tn+fp)\n",
    "print(tnr)"
   ]
  },
  {
   "cell_type": "code",
   "execution_count": null,
   "id": "11f6e50c",
   "metadata": {},
   "outputs": [],
   "source": [
    "#CSI\n",
    "csi = tp/(tp+fn+fp)\n",
    "print(csi)"
   ]
  },
  {
   "cell_type": "code",
   "execution_count": null,
   "id": "a2ef3fad",
   "metadata": {},
   "outputs": [],
   "source": [
    "#FDR\n",
    "fdr = fp/(tp+fp)\n",
    "print(fdr)"
   ]
  },
  {
   "cell_type": "markdown",
   "id": "98e3a511",
   "metadata": {},
   "source": [
    "# Roc and Auc curve for HistGradientingBoosting classifier\n"
   ]
  },
  {
   "cell_type": "code",
   "execution_count": null,
   "id": "d27b95a3",
   "metadata": {},
   "outputs": [],
   "source": [
    "plot_roc_curve(hgbc,over_xtest,over_ytest,color='red')\n",
    "plt.plot([0,1],[0,1])"
   ]
  },
  {
   "cell_type": "markdown",
   "id": "bfb7e991",
   "metadata": {},
   "source": [
    "# Tunning  HistGradientBoosting Classifier Algorithm using Randomized Search CV"
   ]
  },
  {
   "cell_type": "markdown",
   "id": "948db5b0",
   "metadata": {},
   "source": [
    "# Assign parameters"
   ]
  },
  {
   "cell_type": "code",
   "execution_count": null,
   "id": "e50da461",
   "metadata": {},
   "outputs": [],
   "source": [
    "\n",
    "loss=['auto','binary_crossentropy','categorical_crossentropy']\n",
    "learning_rate=0.001\n",
    "max_iter=np.random.randint(15,200,20)\n",
    "max_depth=np.random.randint(1,12,20)\n",
    "min_samples_leaf=np.random.randint(1,12,15)\n",
    "\n",
    "parameters={\n",
    "    'loss':loss,\n",
    "    'learning_rate':learning_rate,\n",
    "    'max_depth':max_depth,\n",
    "    'min_samples_leaf':min_samples_leaf\n",
    "}"
   ]
  },
  {
   "cell_type": "code",
   "execution_count": null,
   "id": "0aeef7fa",
   "metadata": {},
   "outputs": [],
   "source": [
    "print(parameters)"
   ]
  },
  {
   "cell_type": "code",
   "execution_count": null,
   "id": "8c38485b",
   "metadata": {},
   "outputs": [],
   "source": [
    "from sklearn.model_selection import RandomizedSearchCV\n",
    "import warnings\n",
    "warnings.filterwarnings('ignore')\n",
    "r=RandomizedSearchCV(hgbc,parameters,n_iter=100,cv=3)\n",
    "r.fit(over_xtrain,over_ytrain)"
   ]
  },
  {
   "cell_type": "code",
   "execution_count": null,
   "id": "12d15797",
   "metadata": {},
   "outputs": [],
   "source": [
    "r.cv_results_"
   ]
  },
  {
   "cell_type": "code",
   "execution_count": null,
   "id": "570238f7",
   "metadata": {},
   "outputs": [],
   "source": [
    "result=pd.DataFrame(r.cv_results_)\n",
    "result"
   ]
  },
  {
   "cell_type": "code",
   "execution_count": null,
   "id": "7f0c11d9",
   "metadata": {},
   "outputs": [],
   "source": [
    "r.best_estimator_"
   ]
  },
  {
   "cell_type": "code",
   "execution_count": null,
   "id": "9fdcada6",
   "metadata": {},
   "outputs": [],
   "source": [
    "new_r=r.best_estimator_\n",
    "new_r"
   ]
  },
  {
   "cell_type": "code",
   "execution_count": null,
   "id": "e9718e83",
   "metadata": {},
   "outputs": [],
   "source": [
    "new_r.fit(over_xtrain,over_ytrain)"
   ]
  },
  {
   "cell_type": "code",
   "execution_count": null,
   "id": "ee06bed6",
   "metadata": {},
   "outputs": [],
   "source": [
    "new_r.score(over_xtrain,over_ytrain)"
   ]
  },
  {
   "cell_type": "markdown",
   "id": "4259cd34",
   "metadata": {},
   "source": [
    "# 9-> Multinomial Naive Bayes Algorithm Implementation\n"
   ]
  },
  {
   "cell_type": "markdown",
   "id": "a469c9a8",
   "metadata": {},
   "source": [
    "# Multinomial Naive Bayes for holdout cross validation with Randon Over Sampling"
   ]
  },
  {
   "cell_type": "code",
   "execution_count": null,
   "id": "aae4e92e",
   "metadata": {},
   "outputs": [],
   "source": [
    "from sklearn.model_selection import train_test_split \n",
    "from sklearn.naive_bayes import MultinomialNB\n",
    "mnb=MultinomialNB()"
   ]
  },
  {
   "cell_type": "code",
   "execution_count": null,
   "id": "41da1746",
   "metadata": {},
   "outputs": [],
   "source": [
    "over_xtrain,over_xtest,over_ytrain,over_ytest = train_test_split(x8_new,y8_new,test_size = 0.30 ,random_state =42)\n",
    "mnb.fit(over_xtrain,over_ytrain)"
   ]
  },
  {
   "cell_type": "code",
   "execution_count": null,
   "id": "c9235471",
   "metadata": {},
   "outputs": [],
   "source": [
    "OverSampleing_dataset_accuracy8= mnb.score(over_xtest,over_ytest)\n",
    "OverSampleing_dataset_accuracy8"
   ]
  },
  {
   "cell_type": "markdown",
   "id": "a4fa3084",
   "metadata": {},
   "source": [
    "# Multinomial Naive Bayes for KFold cross validation for Random Over sampling\n"
   ]
  },
  {
   "cell_type": "code",
   "execution_count": null,
   "id": "2ace0c8f",
   "metadata": {},
   "outputs": [],
   "source": [
    "from sklearn.model_selection import KFold, cross_val_score\n",
    "kfold = KFold(n_splits = 10)"
   ]
  },
  {
   "cell_type": "code",
   "execution_count": null,
   "id": "1af8ab22",
   "metadata": {},
   "outputs": [],
   "source": [
    "OverSampleingDataset_kfold_result8= cross_val_score(mnb,x8_new,y8_new,cv = kfold)\n",
    "OverSampleingDataset_kfold_result8"
   ]
  },
  {
   "cell_type": "code",
   "execution_count": null,
   "id": "38dcb9f3",
   "metadata": {},
   "outputs": [],
   "source": [
    "OverSampleingDataset_kfold_result8.mean()"
   ]
  },
  {
   "cell_type": "markdown",
   "id": "4a8defad",
   "metadata": {},
   "source": [
    "# Multinomial Naive Bayes for StratiFied KFold cross validation for Over sampling\n"
   ]
  },
  {
   "cell_type": "code",
   "execution_count": null,
   "id": "557c2cbc",
   "metadata": {},
   "outputs": [],
   "source": [
    "from sklearn.model_selection import StratifiedKFold\n",
    "Stf_Kfold = StratifiedKFold(n_splits = 10)"
   ]
  },
  {
   "cell_type": "code",
   "execution_count": null,
   "id": "b7a205a3",
   "metadata": {},
   "outputs": [],
   "source": [
    "OverSampleingDataset_Sf_kfold_result8= cross_val_score(mnb,x8_new,y8_new,cv = Stf_Kfold)\n",
    "OverSampleingDataset_Sf_kfold_result8 "
   ]
  },
  {
   "cell_type": "code",
   "execution_count": null,
   "id": "d1242a41",
   "metadata": {},
   "outputs": [],
   "source": [
    "OverSampleingDataset_Sf_kfold_result8.mean()"
   ]
  },
  {
   "cell_type": "markdown",
   "id": "12dc416a",
   "metadata": {},
   "source": [
    "# Now from over sampling ,we calculate all confusion matrix performance"
   ]
  },
  {
   "cell_type": "code",
   "execution_count": null,
   "id": "4ca385c7",
   "metadata": {},
   "outputs": [],
   "source": [
    "from sklearn.metrics import classification_report,accuracy_score,confusion_matrix,plot_roc_curve\n",
    "mnb.fit(over_xtrain,over_ytrain)"
   ]
  },
  {
   "cell_type": "code",
   "execution_count": null,
   "id": "e3e4248c",
   "metadata": {},
   "outputs": [],
   "source": [
    "pred_y8=mnb.predict(over_xtest)#Predicted Class \n",
    "pred_y8"
   ]
  },
  {
   "cell_type": "code",
   "execution_count": null,
   "id": "15d82300",
   "metadata": {},
   "outputs": [],
   "source": [
    "over_ytest"
   ]
  },
  {
   "cell_type": "code",
   "execution_count": null,
   "id": "2cb98bab",
   "metadata": {},
   "outputs": [],
   "source": [
    "np.array(over_ytest) #actual class/y"
   ]
  },
  {
   "cell_type": "code",
   "execution_count": null,
   "id": "80d6ff1c",
   "metadata": {},
   "outputs": [],
   "source": [
    "print(classification_report(over_ytest,pred_y8))"
   ]
  },
  {
   "cell_type": "code",
   "execution_count": null,
   "id": "079f6781",
   "metadata": {},
   "outputs": [],
   "source": [
    "cm8=confusion_matrix(over_ytest,pred_y8)\n",
    "cm8"
   ]
  },
  {
   "cell_type": "markdown",
   "id": "464c6137",
   "metadata": {},
   "source": [
    "# Visualization with heatmap performance of confussion matrix for Multinomial NB\n"
   ]
  },
  {
   "cell_type": "code",
   "execution_count": null,
   "id": "65a43cff",
   "metadata": {},
   "outputs": [],
   "source": [
    "sns.heatmap(cm8,annot=True)\n",
    "plt.xlabel('Predicted Values')\n",
    "plt.ylabel('Actual Values')"
   ]
  },
  {
   "cell_type": "code",
   "execution_count": null,
   "id": "d2600543",
   "metadata": {},
   "outputs": [],
   "source": [
    "tp,fn,fp,tn=confusion_matrix(over_ytest,pred_y8).reshape(-1)"
   ]
  },
  {
   "cell_type": "code",
   "execution_count": null,
   "id": "b0abc4a4",
   "metadata": {},
   "outputs": [],
   "source": [
    "tp"
   ]
  },
  {
   "cell_type": "code",
   "execution_count": null,
   "id": "bdbd57ee",
   "metadata": {},
   "outputs": [],
   "source": [
    "fn"
   ]
  },
  {
   "cell_type": "code",
   "execution_count": null,
   "id": "7782ad6b",
   "metadata": {},
   "outputs": [],
   "source": [
    "fp"
   ]
  },
  {
   "cell_type": "code",
   "execution_count": null,
   "id": "5e9ace76",
   "metadata": {},
   "outputs": [],
   "source": [
    "tn"
   ]
  },
  {
   "cell_type": "markdown",
   "id": "27621119",
   "metadata": {},
   "source": [
    "# Accuracy"
   ]
  },
  {
   "cell_type": "code",
   "execution_count": null,
   "id": "5109335d",
   "metadata": {},
   "outputs": [],
   "source": [
    "(tp+tn)/(tp+tn+fn+fp)"
   ]
  },
  {
   "cell_type": "code",
   "execution_count": null,
   "id": "e43e9a47",
   "metadata": {},
   "outputs": [],
   "source": [
    "#precision\n",
    "ppv = tp/(tp+fp)\n",
    "print(ppv)"
   ]
  },
  {
   "cell_type": "code",
   "execution_count": null,
   "id": "35927204",
   "metadata": {},
   "outputs": [],
   "source": [
    "#Recall\n",
    "trp = tp/(tp+fn)\n",
    "print(trp)"
   ]
  },
  {
   "cell_type": "code",
   "execution_count": null,
   "id": "6a3b7bd3",
   "metadata": {},
   "outputs": [],
   "source": [
    "#1-Specificity\n",
    "fpr = fp/(fp+tn)\n",
    "print(fpr)"
   ]
  },
  {
   "cell_type": "code",
   "execution_count": null,
   "id": "ce89b665",
   "metadata": {},
   "outputs": [],
   "source": [
    "#F1-score\n",
    "f1_score = (2*ppv*trp)/(ppv+trp)\n",
    "print(f1_score)"
   ]
  },
  {
   "cell_type": "code",
   "execution_count": null,
   "id": "fe6ca588",
   "metadata": {},
   "outputs": [],
   "source": [
    "#Specificity\n",
    "tnr = tn/(tn+fp)\n",
    "print(tnr)"
   ]
  },
  {
   "cell_type": "code",
   "execution_count": null,
   "id": "1fbf734e",
   "metadata": {},
   "outputs": [],
   "source": [
    "#CSI\n",
    "csi = tp/(tp+fn+fp)\n",
    "print(csi)"
   ]
  },
  {
   "cell_type": "code",
   "execution_count": null,
   "id": "3a504dc5",
   "metadata": {},
   "outputs": [],
   "source": [
    "#FDR\n",
    "fdr = fp/(tp+fp)\n",
    "print(fdr)"
   ]
  },
  {
   "cell_type": "markdown",
   "id": "31893847",
   "metadata": {},
   "source": [
    "# Roc and Auc curve for Multinomial NB\n"
   ]
  },
  {
   "cell_type": "code",
   "execution_count": null,
   "id": "0aac7a91",
   "metadata": {},
   "outputs": [],
   "source": [
    "plot_roc_curve(mnb,over_xtest,over_ytest,color='red')\n",
    "plt.plot([0,1],[0,1])"
   ]
  },
  {
   "cell_type": "markdown",
   "id": "033a7fd5",
   "metadata": {},
   "source": [
    "# Tunning"
   ]
  },
  {
   "cell_type": "code",
   "execution_count": null,
   "id": "89113ec7",
   "metadata": {},
   "outputs": [],
   "source": []
  },
  {
   "cell_type": "markdown",
   "id": "a7ff101c",
   "metadata": {},
   "source": [
    "# 10-> Bernoulli Naive Bayes Algorithm Implementation"
   ]
  },
  {
   "cell_type": "markdown",
   "id": "31a7b02c",
   "metadata": {},
   "source": [
    "# Bernoullil Naive Bayes for holdout cross validation with Randon Over Sampling"
   ]
  },
  {
   "cell_type": "code",
   "execution_count": null,
   "id": "a854badb",
   "metadata": {},
   "outputs": [],
   "source": [
    "from sklearn.model_selection import train_test_split \n",
    "from sklearn.naive_bayes import BerenoulliNB\n",
    "bnb=BernoulliNB()"
   ]
  },
  {
   "cell_type": "code",
   "execution_count": null,
   "id": "de0b2ee9",
   "metadata": {},
   "outputs": [],
   "source": [
    "over_xtrain,over_xtest,over_ytrain,over_ytest = train_test_split(x9_new,y9_new,test_size = 0.30 ,random_state =42)\n",
    "bnb.fit(over_xtrain,over_ytrain)"
   ]
  },
  {
   "cell_type": "code",
   "execution_count": null,
   "id": "3b2a8649",
   "metadata": {},
   "outputs": [],
   "source": [
    "OverSampleing_dataset_accuracy9= bnb.score(over_xtest,over_ytest)\n",
    "OverSampleing_dataset_accuracy9"
   ]
  },
  {
   "cell_type": "markdown",
   "id": "a2d0c745",
   "metadata": {},
   "source": [
    "# Bernoulli Naive Bayes for KFold cross validation for Random Over sampling\n"
   ]
  },
  {
   "cell_type": "code",
   "execution_count": null,
   "id": "45e675a0",
   "metadata": {},
   "outputs": [],
   "source": [
    "from sklearn.model_selection import KFold, cross_val_score\n",
    "kfold = KFold(n_splits = 10)"
   ]
  },
  {
   "cell_type": "code",
   "execution_count": null,
   "id": "456c78d2",
   "metadata": {},
   "outputs": [],
   "source": [
    "OverSampleingDataset_kfold_result9= cross_val_score(bnb,x9_new,y9_new,cv = kfold)\n",
    "OverSampleingDataset_kfold_result9"
   ]
  },
  {
   "cell_type": "code",
   "execution_count": null,
   "id": "b7ce1a8d",
   "metadata": {},
   "outputs": [],
   "source": [
    "OverSampleingDataset_kfold_result9.mean()"
   ]
  },
  {
   "cell_type": "markdown",
   "id": "2adaffb6",
   "metadata": {},
   "source": [
    "# Bernoulli Naive Bayes for StratiFied KFold cross validation for Over sampling\n"
   ]
  },
  {
   "cell_type": "code",
   "execution_count": null,
   "id": "2c322ac1",
   "metadata": {},
   "outputs": [],
   "source": [
    "from sklearn.model_selection import StratifiedKFold\n",
    "Stf_Kfold = StratifiedKFold(n_splits = 10)\n",
    " "
   ]
  },
  {
   "cell_type": "code",
   "execution_count": null,
   "id": "d1a95718",
   "metadata": {},
   "outputs": [],
   "source": [
    "OverSampleingDataset_Sf_kfold_result9= cross_val_score(bnb,x9_new,9,cv = Stf_Kfold)\n",
    "OverSampleingDataset_Sf_kfold_result9 "
   ]
  },
  {
   "cell_type": "code",
   "execution_count": null,
   "id": "91e93f83",
   "metadata": {},
   "outputs": [],
   "source": [
    "OverSampleingDataset_Sf_kfold_result9.mean()"
   ]
  },
  {
   "cell_type": "markdown",
   "id": "e6e29f68",
   "metadata": {},
   "source": [
    "# Now from over sampling ,we calculate all confusion matrix performance\n"
   ]
  },
  {
   "cell_type": "code",
   "execution_count": null,
   "id": "026907cb",
   "metadata": {},
   "outputs": [],
   "source": [
    "from sklearn.metrics import classification_report,accuracy_score,confusion_matrix,plot_roc_curve\n",
    "bnb.fit(over_xtrain,over_ytrain)"
   ]
  },
  {
   "cell_type": "code",
   "execution_count": null,
   "id": "817b2def",
   "metadata": {},
   "outputs": [],
   "source": [
    "pred_y9=mnb.predict(over_xtest)#Predicted Class \n",
    "pred_y9"
   ]
  },
  {
   "cell_type": "code",
   "execution_count": null,
   "id": "746b5b7a",
   "metadata": {},
   "outputs": [],
   "source": [
    "over_ytest"
   ]
  },
  {
   "cell_type": "code",
   "execution_count": null,
   "id": "32273675",
   "metadata": {},
   "outputs": [],
   "source": [
    "np.array(over_ytest) #actual class/y"
   ]
  },
  {
   "cell_type": "code",
   "execution_count": null,
   "id": "779f4178",
   "metadata": {},
   "outputs": [],
   "source": [
    "print(classification_report(over_ytest,pred_y9))"
   ]
  },
  {
   "cell_type": "code",
   "execution_count": null,
   "id": "314f1431",
   "metadata": {},
   "outputs": [],
   "source": [
    "cm9=confusion_matrix(over_ytest,pred_y9)\n",
    "cm9"
   ]
  },
  {
   "cell_type": "markdown",
   "id": "43437109",
   "metadata": {},
   "source": [
    "# Visualization with heatmap performance of confussion matrix for Bernoulli NB\n"
   ]
  },
  {
   "cell_type": "code",
   "execution_count": null,
   "id": "4b2fdffb",
   "metadata": {},
   "outputs": [],
   "source": [
    "sns.heatmap(cm9,annot=True)\n",
    "plt.xlabel('Predicted Values')\n",
    "plt.ylabel('Actual Values')"
   ]
  },
  {
   "cell_type": "code",
   "execution_count": null,
   "id": "cb7a143b",
   "metadata": {},
   "outputs": [],
   "source": [
    "\n",
    "tp,fn,fp,tn=confusion_matrix(over_ytest,pred_y9).reshape(-1)"
   ]
  },
  {
   "cell_type": "code",
   "execution_count": null,
   "id": "545a0bbd",
   "metadata": {},
   "outputs": [],
   "source": [
    "tp"
   ]
  },
  {
   "cell_type": "code",
   "execution_count": null,
   "id": "79cf080a",
   "metadata": {},
   "outputs": [],
   "source": [
    "fn"
   ]
  },
  {
   "cell_type": "code",
   "execution_count": null,
   "id": "ba16b0cd",
   "metadata": {},
   "outputs": [],
   "source": [
    "fp"
   ]
  },
  {
   "cell_type": "code",
   "execution_count": null,
   "id": "1baf4511",
   "metadata": {},
   "outputs": [],
   "source": [
    "tn"
   ]
  },
  {
   "cell_type": "markdown",
   "id": "e4268869",
   "metadata": {},
   "source": [
    "# Accuracy\n"
   ]
  },
  {
   "cell_type": "code",
   "execution_count": null,
   "id": "790e3b2b",
   "metadata": {},
   "outputs": [],
   "source": [
    "(tp+tn)/(tp+tn+fn+fp)"
   ]
  },
  {
   "cell_type": "code",
   "execution_count": null,
   "id": "bdcee3b0",
   "metadata": {},
   "outputs": [],
   "source": [
    "#precision\n",
    "ppv = tp/(tp+fp)\n",
    "print(ppv)"
   ]
  },
  {
   "cell_type": "code",
   "execution_count": null,
   "id": "ed66fc99",
   "metadata": {},
   "outputs": [],
   "source": [
    "#Recall\n",
    "trp = tp/(tp+fn)\n",
    "print(trp)"
   ]
  },
  {
   "cell_type": "code",
   "execution_count": null,
   "id": "9dc889c8",
   "metadata": {},
   "outputs": [],
   "source": [
    "#1-Specificity\n",
    "fpr = fp/(fp+tn)\n",
    "print(fpr)"
   ]
  },
  {
   "cell_type": "code",
   "execution_count": null,
   "id": "74bcf643",
   "metadata": {},
   "outputs": [],
   "source": [
    "#F1-score\n",
    "f1_score = (2*ppv*trp)/(ppv+trp)\n",
    "print(f1_score)"
   ]
  },
  {
   "cell_type": "code",
   "execution_count": null,
   "id": "aa76a518",
   "metadata": {},
   "outputs": [],
   "source": [
    "#Specificity\n",
    "tnr = tn/(tn+fp)\n",
    "print(tnr)"
   ]
  },
  {
   "cell_type": "code",
   "execution_count": null,
   "id": "6acdb5ea",
   "metadata": {},
   "outputs": [],
   "source": [
    "#CSI\n",
    "csi = tp/(tp+fn+fp)\n",
    "print(csi)"
   ]
  },
  {
   "cell_type": "code",
   "execution_count": null,
   "id": "3ea29cd9",
   "metadata": {},
   "outputs": [],
   "source": [
    "#FDR\n",
    "fdr = fp/(tp+fp)\n",
    "print(fdr)"
   ]
  },
  {
   "cell_type": "markdown",
   "id": "303bc45c",
   "metadata": {},
   "source": [
    "# Roc and Auc curve for Bernoulli NB\n"
   ]
  },
  {
   "cell_type": "code",
   "execution_count": null,
   "id": "ae7bbedc",
   "metadata": {},
   "outputs": [],
   "source": [
    "plot_roc_curve(bnb,over_xtest,over_ytest,color='red')\n",
    "plt.plot([0,1],[0,1])"
   ]
  },
  {
   "cell_type": "markdown",
   "id": "927ba19a",
   "metadata": {},
   "source": [
    "# Tunning"
   ]
  },
  {
   "cell_type": "code",
   "execution_count": null,
   "id": "5d6fd5f7",
   "metadata": {},
   "outputs": [],
   "source": []
  },
  {
   "cell_type": "markdown",
   "id": "d339bb3a",
   "metadata": {},
   "source": [
    "# 11-> Gaussian Naive Bayes Algorithm Implementation\n"
   ]
  },
  {
   "cell_type": "markdown",
   "id": "9cb5f1e1",
   "metadata": {},
   "source": [
    "# Gaussian Naive Bayes for holdout cross validation with Randon Over Sampling"
   ]
  },
  {
   "cell_type": "code",
   "execution_count": null,
   "id": "01905ce3",
   "metadata": {},
   "outputs": [],
   "source": [
    "from sklearn.model_selection import train_test_split \n",
    "from sklearn.naive_bayes import GaussianNB\n",
    "gnb=BernoulliNB()"
   ]
  },
  {
   "cell_type": "code",
   "execution_count": null,
   "id": "fb45ad75",
   "metadata": {},
   "outputs": [],
   "source": [
    "over_xtrain,over_xtest,over_ytrain,over_ytest = train_test_split(x10_new,y10_new,test_size = 0.30 ,random_state =42)\n",
    "gnb.fit(over_xtrain,over_ytrain)"
   ]
  },
  {
   "cell_type": "code",
   "execution_count": null,
   "id": "f36237f4",
   "metadata": {},
   "outputs": [],
   "source": [
    "OverSampleing_dataset_accuracy10= gnb.score(over_xtest,over_ytest)\n",
    "OverSampleing_dataset_accuracy10"
   ]
  },
  {
   "cell_type": "markdown",
   "id": "6ea4a256",
   "metadata": {},
   "source": [
    "# Gaussian Naive Bayes for KFold cross validation for Random Over sampling\n"
   ]
  },
  {
   "cell_type": "code",
   "execution_count": null,
   "id": "2aa5f0ae",
   "metadata": {},
   "outputs": [],
   "source": [
    "from sklearn.model_selection import KFold, cross_val_score\n",
    "kfold = KFold(n_splits = 10)"
   ]
  },
  {
   "cell_type": "code",
   "execution_count": null,
   "id": "ba3d4755",
   "metadata": {},
   "outputs": [],
   "source": [
    "OverSampleingDataset_kfold_result10= cross_val_score(gnb,x10_new,y10_new,cv = kfold)\n",
    "OverSampleingDataset_kfold_result10"
   ]
  },
  {
   "cell_type": "code",
   "execution_count": null,
   "id": "a9ecd173",
   "metadata": {},
   "outputs": [],
   "source": [
    "OverSampleingDataset_kfold_result10.mean()"
   ]
  },
  {
   "cell_type": "markdown",
   "id": "9d1c88c1",
   "metadata": {},
   "source": [
    "# Gaussian Naive Bayes for StratiFied KFold cross validation for Over sampling\n"
   ]
  },
  {
   "cell_type": "code",
   "execution_count": null,
   "id": "47832a00",
   "metadata": {},
   "outputs": [],
   "source": [
    "from sklearn.model_selection import StratifiedKFold\n",
    "Stf_Kfold = StratifiedKFold(n_splits = 10)"
   ]
  },
  {
   "cell_type": "code",
   "execution_count": null,
   "id": "c6073991",
   "metadata": {},
   "outputs": [],
   "source": [
    "OverSampleingDataset_Sf_kfold_result10= cross_val_score(gnb,x10_new,y10_new,cv = Stf_Kfold)\n",
    "OverSampleingDataset_Sf_kfold_result10 "
   ]
  },
  {
   "cell_type": "code",
   "execution_count": null,
   "id": "0c766f22",
   "metadata": {},
   "outputs": [],
   "source": [
    "OverSampleingDataset_Sf_kfold_result10.mean()"
   ]
  },
  {
   "cell_type": "markdown",
   "id": "f5243b65",
   "metadata": {},
   "source": [
    "# Now from over sampling ,we calculate all confusion matrix performance\n"
   ]
  },
  {
   "cell_type": "code",
   "execution_count": null,
   "id": "2b3f390b",
   "metadata": {},
   "outputs": [],
   "source": [
    "from sklearn.metrics import classification_report,accuracy_score,confusion_matrix,plot_roc_curve\n",
    "gnb.fit(over_xtrain,over_ytrain)"
   ]
  },
  {
   "cell_type": "code",
   "execution_count": null,
   "id": "d0c6e752",
   "metadata": {},
   "outputs": [],
   "source": [
    "pred_y10=gnb.predict(over_xtest)#Predicted Class \n",
    "pred_y10"
   ]
  },
  {
   "cell_type": "code",
   "execution_count": null,
   "id": "5008252c",
   "metadata": {},
   "outputs": [],
   "source": [
    "over_ytest"
   ]
  },
  {
   "cell_type": "code",
   "execution_count": null,
   "id": "688c186b",
   "metadata": {},
   "outputs": [],
   "source": [
    "np.array(over_ytest) #actual class/y"
   ]
  },
  {
   "cell_type": "code",
   "execution_count": null,
   "id": "91811894",
   "metadata": {},
   "outputs": [],
   "source": [
    "print(classification_report(over_ytest,pred_y10))"
   ]
  },
  {
   "cell_type": "code",
   "execution_count": null,
   "id": "c718615d",
   "metadata": {},
   "outputs": [],
   "source": [
    "cm10=confusion_matrix(over_ytest,pred_y10)\n",
    "cm10"
   ]
  },
  {
   "cell_type": "markdown",
   "id": "e00aa1d3",
   "metadata": {},
   "source": [
    "# Visualization with heatmap performance of confussion matrix for Gaussian NB\n"
   ]
  },
  {
   "cell_type": "code",
   "execution_count": null,
   "id": "e7f973c3",
   "metadata": {},
   "outputs": [],
   "source": [
    "sns.heatmap(cm10,annot=True)\n",
    "plt.xlabel('Predicted Values')\n",
    "plt.ylabel('Actual Values')"
   ]
  },
  {
   "cell_type": "code",
   "execution_count": null,
   "id": "bd4f4134",
   "metadata": {},
   "outputs": [],
   "source": [
    "tp,fn,fp,tn=confusion_matrix(over_ytest,pred_y10).reshape(-1)"
   ]
  },
  {
   "cell_type": "code",
   "execution_count": null,
   "id": "436a9f46",
   "metadata": {},
   "outputs": [],
   "source": [
    "tp"
   ]
  },
  {
   "cell_type": "code",
   "execution_count": null,
   "id": "d875c60c",
   "metadata": {},
   "outputs": [],
   "source": [
    "fn"
   ]
  },
  {
   "cell_type": "code",
   "execution_count": null,
   "id": "842ea0e6",
   "metadata": {},
   "outputs": [],
   "source": [
    "fp"
   ]
  },
  {
   "cell_type": "code",
   "execution_count": null,
   "id": "d9ca91d2",
   "metadata": {},
   "outputs": [],
   "source": [
    "tn"
   ]
  },
  {
   "cell_type": "markdown",
   "id": "cfeee7bd",
   "metadata": {},
   "source": [
    "# Accuracy"
   ]
  },
  {
   "cell_type": "code",
   "execution_count": null,
   "id": "ccb50ae8",
   "metadata": {},
   "outputs": [],
   "source": [
    "\n",
    "(tp+tn)/(tp+tn+fn+fp)"
   ]
  },
  {
   "cell_type": "code",
   "execution_count": null,
   "id": "695fda91",
   "metadata": {},
   "outputs": [],
   "source": [
    "#precision\n",
    "ppv = tp/(tp+fp)\n",
    "print(ppv)"
   ]
  },
  {
   "cell_type": "code",
   "execution_count": null,
   "id": "73415769",
   "metadata": {},
   "outputs": [],
   "source": [
    "#Recall\n",
    "trp = tp/(tp+fn)\n",
    "print(trp)"
   ]
  },
  {
   "cell_type": "code",
   "execution_count": null,
   "id": "b26096f6",
   "metadata": {},
   "outputs": [],
   "source": [
    "#1-Specificity\n",
    "fpr = fp/(fp+tn)\n",
    "print(fpr)"
   ]
  },
  {
   "cell_type": "code",
   "execution_count": null,
   "id": "b5e8d257",
   "metadata": {},
   "outputs": [],
   "source": [
    "#F1-score\n",
    "f1_score = (2*ppv*trp)/(ppv+trp)\n",
    "print(f1_score)"
   ]
  },
  {
   "cell_type": "code",
   "execution_count": null,
   "id": "d61dab95",
   "metadata": {},
   "outputs": [],
   "source": [
    "#Specificity\n",
    "tnr = tn/(tn+fp)\n",
    "print(tnr)"
   ]
  },
  {
   "cell_type": "code",
   "execution_count": null,
   "id": "89e97f52",
   "metadata": {},
   "outputs": [],
   "source": [
    "#CSI\n",
    "csi = tp/(tp+fn+fp)\n",
    "print(csi)"
   ]
  },
  {
   "cell_type": "code",
   "execution_count": null,
   "id": "db19c9ff",
   "metadata": {},
   "outputs": [],
   "source": [
    "#FDR\n",
    "fdr = fp/(tp+fp)\n",
    "print(fdr)"
   ]
  },
  {
   "cell_type": "markdown",
   "id": "0ed38283",
   "metadata": {},
   "source": [
    "# Roc and Auc curve for Gaussian NB"
   ]
  },
  {
   "cell_type": "code",
   "execution_count": null,
   "id": "e0650075",
   "metadata": {},
   "outputs": [],
   "source": [
    "plot_roc_curve(gnb,over_xtest,over_ytest,color='red')\n",
    "plt.plot([0,1],[0,1])"
   ]
  },
  {
   "cell_type": "markdown",
   "id": "829aab7b",
   "metadata": {},
   "source": [
    "# Tunning"
   ]
  },
  {
   "cell_type": "code",
   "execution_count": null,
   "id": "dbb70840",
   "metadata": {},
   "outputs": [],
   "source": [
    " "
   ]
  },
  {
   "cell_type": "code",
   "execution_count": null,
   "id": "2d0e0e8e",
   "metadata": {},
   "outputs": [],
   "source": []
  },
  {
   "cell_type": "markdown",
   "id": "82b68b83",
   "metadata": {},
   "source": [
    "# 12-> Support Vector Machine Algorithm Implementation\n"
   ]
  },
  {
   "cell_type": "markdown",
   "id": "aa39f7ee",
   "metadata": {},
   "source": [
    "# Support Vector Machine  for holdout cross validation with Randon Over Sampling\n"
   ]
  },
  {
   "cell_type": "code",
   "execution_count": null,
   "id": "094792b3",
   "metadata": {},
   "outputs": [],
   "source": [
    "from sklearn.model_selection import train_test_split \n",
    "from sklearn.svm import SVC\n",
    "svc=SVC()"
   ]
  },
  {
   "cell_type": "code",
   "execution_count": null,
   "id": "8b4668ce",
   "metadata": {},
   "outputs": [],
   "source": [
    "over_xtrain,over_xtest,over_ytrain,over_ytest = train_test_split(x11_new,y11_new,test_size = 0.30 ,random_state =42)\n",
    "svc.fit(over_xtrain,over_ytrain)"
   ]
  },
  {
   "cell_type": "code",
   "execution_count": null,
   "id": "cc39eb6f",
   "metadata": {},
   "outputs": [],
   "source": [
    "OverSampleing_dataset_accuracy11= svc.score(over_xtest,over_ytest)\n",
    "OverSampleing_dataset_accuracy11"
   ]
  },
  {
   "cell_type": "markdown",
   "id": "07fdbcf9",
   "metadata": {},
   "source": [
    "# SVM for KFold cross validation for Random Over sampling"
   ]
  },
  {
   "cell_type": "code",
   "execution_count": null,
   "id": "c8534347",
   "metadata": {},
   "outputs": [],
   "source": [
    "from sklearn.model_selection import KFold, cross_val_score\n",
    "kfold = KFold(n_splits = 10)"
   ]
  },
  {
   "cell_type": "code",
   "execution_count": null,
   "id": "cc9287da",
   "metadata": {},
   "outputs": [],
   "source": [
    "OverSampleingDataset_kfold_result11= cross_val_score(svc,x11_new,y11_new,cv = kfold)\n",
    "OverSampleingDataset_kfold_result11"
   ]
  },
  {
   "cell_type": "code",
   "execution_count": null,
   "id": "7b1df7a7",
   "metadata": {},
   "outputs": [],
   "source": [
    "OverSampleingDataset_kfold_result11.mean()"
   ]
  },
  {
   "cell_type": "markdown",
   "id": "26679862",
   "metadata": {},
   "source": [
    "# SVM for StratiFied KFold cross validation for Over sampling"
   ]
  },
  {
   "cell_type": "code",
   "execution_count": null,
   "id": "f41fe40e",
   "metadata": {},
   "outputs": [],
   "source": [
    "from sklearn.model_selection import StratifiedKFold\n",
    "Stf_Kfold = StratifiedKFold(n_splits = 10)\n"
   ]
  },
  {
   "cell_type": "code",
   "execution_count": null,
   "id": "496581ba",
   "metadata": {},
   "outputs": [],
   "source": [
    "OverSampleingDataset_Sf_kfold_result11= cross_val_score(svc,x11_new,y11_new,cv = Stf_Kfold)\n",
    "OverSampleingDataset_Sf_kfold_result11 "
   ]
  },
  {
   "cell_type": "code",
   "execution_count": null,
   "id": "b6be307f",
   "metadata": {},
   "outputs": [],
   "source": [
    "OverSampleingDataset_Sf_kfold_result11.mean()"
   ]
  },
  {
   "cell_type": "markdown",
   "id": "43d66ad8",
   "metadata": {},
   "source": [
    "# Now from over sampling ,we calculate all confusion matrix performance\n"
   ]
  },
  {
   "cell_type": "code",
   "execution_count": null,
   "id": "1c4a56ef",
   "metadata": {},
   "outputs": [],
   "source": [
    "from sklearn.metrics import classification_report,accuracy_score,confusion_matrix,plot_roc_curve\n",
    "svc.fit(over_xtrain,over_ytrain)"
   ]
  },
  {
   "cell_type": "code",
   "execution_count": null,
   "id": "12d9e67b",
   "metadata": {},
   "outputs": [],
   "source": [
    "pred_y11=svc.predict(over_xtest)#Predicted Class \n",
    "pred_y11"
   ]
  },
  {
   "cell_type": "code",
   "execution_count": null,
   "id": "0876cad5",
   "metadata": {},
   "outputs": [],
   "source": [
    "over_ytest"
   ]
  },
  {
   "cell_type": "code",
   "execution_count": null,
   "id": "900ed529",
   "metadata": {},
   "outputs": [],
   "source": [
    "np.array(over_ytest) #actual class/y"
   ]
  },
  {
   "cell_type": "code",
   "execution_count": null,
   "id": "f4edb4b2",
   "metadata": {},
   "outputs": [],
   "source": [
    "print(classification_report(over_ytest,pred_y11))"
   ]
  },
  {
   "cell_type": "code",
   "execution_count": null,
   "id": "ec65bbd9",
   "metadata": {},
   "outputs": [],
   "source": [
    "cm11=confusion_matrix(over_ytest,pred_y11)\n",
    "cm11\n"
   ]
  },
  {
   "cell_type": "markdown",
   "id": "25ccb5ca",
   "metadata": {},
   "source": [
    "# Visualization with heatmap performance of confussion matrix for SVM\n"
   ]
  },
  {
   "cell_type": "code",
   "execution_count": null,
   "id": "2393f429",
   "metadata": {},
   "outputs": [],
   "source": [
    "sns.heatmap(cm11,annot=True)\n",
    "plt.xlabel('Predicted Values')\n",
    "plt.ylabel('Actual Values')"
   ]
  },
  {
   "cell_type": "code",
   "execution_count": null,
   "id": "1d066286",
   "metadata": {},
   "outputs": [],
   "source": [
    "tp,fn,fp,tn=confusion_matrix(over_ytest,pred_y10).reshape(-1)"
   ]
  },
  {
   "cell_type": "code",
   "execution_count": null,
   "id": "05bb01d4",
   "metadata": {},
   "outputs": [],
   "source": [
    "tp"
   ]
  },
  {
   "cell_type": "code",
   "execution_count": null,
   "id": "bb21cae0",
   "metadata": {},
   "outputs": [],
   "source": [
    "fn"
   ]
  },
  {
   "cell_type": "code",
   "execution_count": null,
   "id": "66fd632b",
   "metadata": {},
   "outputs": [],
   "source": [
    "fp"
   ]
  },
  {
   "cell_type": "code",
   "execution_count": null,
   "id": "4b1e212a",
   "metadata": {},
   "outputs": [],
   "source": [
    "tn"
   ]
  },
  {
   "cell_type": "markdown",
   "id": "ad4e2a97",
   "metadata": {},
   "source": [
    "# Accuracy"
   ]
  },
  {
   "cell_type": "code",
   "execution_count": null,
   "id": "1491180e",
   "metadata": {},
   "outputs": [],
   "source": [
    "(tp+tn)/(tp+tn+fn+fp)"
   ]
  },
  {
   "cell_type": "code",
   "execution_count": null,
   "id": "1e384ce0",
   "metadata": {},
   "outputs": [],
   "source": [
    "#precision\n",
    "ppv = tp/(tp+fp)\n",
    "print(ppv)"
   ]
  },
  {
   "cell_type": "code",
   "execution_count": null,
   "id": "ee3fb171",
   "metadata": {},
   "outputs": [],
   "source": [
    "#Recall\n",
    "trp = tp/(tp+fn)\n",
    "print(trp)"
   ]
  },
  {
   "cell_type": "code",
   "execution_count": null,
   "id": "0f356e23",
   "metadata": {},
   "outputs": [],
   "source": [
    "#1-Specificity\n",
    "fpr = fp/(fp+tn)\n",
    "print(fpr)"
   ]
  },
  {
   "cell_type": "code",
   "execution_count": null,
   "id": "8d575d23",
   "metadata": {},
   "outputs": [],
   "source": [
    "#F1-score\n",
    "f1_score = (2*ppv*trp)/(ppv+trp)\n",
    "print(f1_score)"
   ]
  },
  {
   "cell_type": "code",
   "execution_count": null,
   "id": "6d912e12",
   "metadata": {},
   "outputs": [],
   "source": [
    "#Specificity\n",
    "tnr = tn/(tn+fp)\n",
    "print(tnr)"
   ]
  },
  {
   "cell_type": "code",
   "execution_count": null,
   "id": "ce6094b0",
   "metadata": {},
   "outputs": [],
   "source": [
    "#CSI\n",
    "csi = tp/(tp+fn+fp)\n",
    "print(csi)"
   ]
  },
  {
   "cell_type": "code",
   "execution_count": null,
   "id": "20068629",
   "metadata": {},
   "outputs": [],
   "source": [
    "#FDR\n",
    "fdr = fp/(tp+fp)\n",
    "print(fdr)"
   ]
  },
  {
   "cell_type": "markdown",
   "id": "0876f2a0",
   "metadata": {},
   "source": [
    "# Roc and Auc curve for SVM\n"
   ]
  },
  {
   "cell_type": "code",
   "execution_count": null,
   "id": "d1730366",
   "metadata": {},
   "outputs": [],
   "source": [
    "plot_roc_curve(svc,over_xtest,over_ytest,color='red')\n",
    "plt.plot([0,1],[0,1])"
   ]
  },
  {
   "cell_type": "code",
   "execution_count": null,
   "id": "c533a742",
   "metadata": {},
   "outputs": [],
   "source": []
  },
  {
   "cell_type": "code",
   "execution_count": null,
   "id": "5e3c203e",
   "metadata": {},
   "outputs": [],
   "source": []
  },
  {
   "cell_type": "code",
   "execution_count": null,
   "id": "05e59b18",
   "metadata": {},
   "outputs": [],
   "source": []
  },
  {
   "cell_type": "code",
   "execution_count": null,
   "id": "a002c660",
   "metadata": {},
   "outputs": [],
   "source": []
  },
  {
   "cell_type": "code",
   "execution_count": null,
   "id": "093bef32",
   "metadata": {},
   "outputs": [],
   "source": []
  },
  {
   "cell_type": "code",
   "execution_count": null,
   "id": "2a52405a",
   "metadata": {},
   "outputs": [],
   "source": []
  },
  {
   "cell_type": "code",
   "execution_count": null,
   "id": "ab178fd5",
   "metadata": {},
   "outputs": [],
   "source": []
  },
  {
   "cell_type": "code",
   "execution_count": null,
   "id": "b8c75b9a",
   "metadata": {},
   "outputs": [],
   "source": []
  }
 ],
 "metadata": {
  "kernelspec": {
   "display_name": "Python 3 (ipykernel)",
   "language": "python",
   "name": "python3"
  },
  "language_info": {
   "codemirror_mode": {
    "name": "ipython",
    "version": 3
   },
   "file_extension": ".py",
   "mimetype": "text/x-python",
   "name": "python",
   "nbconvert_exporter": "python",
   "pygments_lexer": "ipython3",
   "version": "3.9.7"
  }
 },
 "nbformat": 4,
 "nbformat_minor": 5
}
