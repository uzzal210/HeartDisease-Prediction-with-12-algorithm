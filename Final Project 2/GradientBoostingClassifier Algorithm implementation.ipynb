{
 "cells": [
  {
   "cell_type": "code",
   "execution_count": 1,
   "id": "3b5308e5",
   "metadata": {},
   "outputs": [],
   "source": [
    "import pandas as pd\n",
    "import numpy as np\n",
    "import seaborn as sns\n",
    "import matplotlib.pyplot as plt"
   ]
  },
  {
   "cell_type": "code",
   "execution_count": 2,
   "id": "428ef93d",
   "metadata": {},
   "outputs": [
    {
     "data": {
      "text/plain": [
       "(319795, 18)"
      ]
     },
     "execution_count": 2,
     "metadata": {},
     "output_type": "execute_result"
    }
   ],
   "source": [
    "df=pd.read_csv('Heart Disease.csv')\n",
    "df.shape"
   ]
  },
  {
   "cell_type": "markdown",
   "id": "677faf06",
   "metadata": {},
   "source": [
    "# Removing Duplicate value\n"
   ]
  },
  {
   "cell_type": "code",
   "execution_count": 3,
   "id": "3aa98066",
   "metadata": {},
   "outputs": [
    {
     "data": {
      "text/plain": [
       "(301717, 18)"
      ]
     },
     "execution_count": 3,
     "metadata": {},
     "output_type": "execute_result"
    }
   ],
   "source": [
    "df.drop_duplicates(inplace=True)\n",
    "df.shape"
   ]
  },
  {
   "cell_type": "code",
   "execution_count": 4,
   "id": "0c8787e8",
   "metadata": {},
   "outputs": [
    {
     "data": {
      "text/plain": [
       "No     274456\n",
       "Yes     27261\n",
       "Name: HeartDisease, dtype: int64"
      ]
     },
     "execution_count": 4,
     "metadata": {},
     "output_type": "execute_result"
    }
   ],
   "source": [
    "df.HeartDisease.value_counts()"
   ]
  },
  {
   "cell_type": "markdown",
   "id": "9ce86a06",
   "metadata": {},
   "source": [
    "# Encoding The DataSet with LabelEncoder\n"
   ]
  },
  {
   "cell_type": "code",
   "execution_count": 5,
   "id": "48328459",
   "metadata": {},
   "outputs": [],
   "source": [
    "from sklearn.preprocessing import LabelEncoder\n",
    "label=LabelEncoder()"
   ]
  },
  {
   "cell_type": "code",
   "execution_count": 6,
   "id": "a0dcba6f",
   "metadata": {},
   "outputs": [],
   "source": [
    "from pandas.core.dtypes.common import is_numeric_dtype\n",
    "for column in df.columns:\n",
    "    if is_numeric_dtype(df[column]):\n",
    "        continue\n",
    "    else:\n",
    "        df[column]=label.fit_transform(df[column])"
   ]
  },
  {
   "cell_type": "markdown",
   "id": "992469db",
   "metadata": {},
   "source": [
    "# Separating x and y"
   ]
  },
  {
   "cell_type": "code",
   "execution_count": 7,
   "id": "a392419c",
   "metadata": {},
   "outputs": [],
   "source": [
    "x=df.drop('HeartDisease',axis=1)\n",
    "y=df['HeartDisease']"
   ]
  },
  {
   "cell_type": "code",
   "execution_count": 8,
   "id": "2a53eb99",
   "metadata": {},
   "outputs": [
    {
     "data": {
      "text/html": [
       "<div>\n",
       "<style scoped>\n",
       "    .dataframe tbody tr th:only-of-type {\n",
       "        vertical-align: middle;\n",
       "    }\n",
       "\n",
       "    .dataframe tbody tr th {\n",
       "        vertical-align: top;\n",
       "    }\n",
       "\n",
       "    .dataframe thead th {\n",
       "        text-align: right;\n",
       "    }\n",
       "</style>\n",
       "<table border=\"1\" class=\"dataframe\">\n",
       "  <thead>\n",
       "    <tr style=\"text-align: right;\">\n",
       "      <th></th>\n",
       "      <th>BMI</th>\n",
       "      <th>Smoking</th>\n",
       "      <th>AlcoholDrinking</th>\n",
       "      <th>Stroke</th>\n",
       "      <th>PhysicalHealth</th>\n",
       "      <th>MentalHealth</th>\n",
       "      <th>DiffWalking</th>\n",
       "      <th>Sex</th>\n",
       "      <th>AgeCategory</th>\n",
       "      <th>Race</th>\n",
       "      <th>Diabetic</th>\n",
       "      <th>PhysicalActivity</th>\n",
       "      <th>GenHealth</th>\n",
       "      <th>SleepTime</th>\n",
       "      <th>Asthma</th>\n",
       "      <th>KidneyDisease</th>\n",
       "      <th>SkinCancer</th>\n",
       "    </tr>\n",
       "  </thead>\n",
       "  <tbody>\n",
       "    <tr>\n",
       "      <th>0</th>\n",
       "      <td>16.60</td>\n",
       "      <td>1</td>\n",
       "      <td>0</td>\n",
       "      <td>0</td>\n",
       "      <td>3</td>\n",
       "      <td>30</td>\n",
       "      <td>0</td>\n",
       "      <td>0</td>\n",
       "      <td>7</td>\n",
       "      <td>5</td>\n",
       "      <td>2</td>\n",
       "      <td>1</td>\n",
       "      <td>4</td>\n",
       "      <td>5</td>\n",
       "      <td>1</td>\n",
       "      <td>0</td>\n",
       "      <td>1</td>\n",
       "    </tr>\n",
       "    <tr>\n",
       "      <th>1</th>\n",
       "      <td>20.34</td>\n",
       "      <td>0</td>\n",
       "      <td>0</td>\n",
       "      <td>1</td>\n",
       "      <td>0</td>\n",
       "      <td>0</td>\n",
       "      <td>0</td>\n",
       "      <td>0</td>\n",
       "      <td>12</td>\n",
       "      <td>5</td>\n",
       "      <td>0</td>\n",
       "      <td>1</td>\n",
       "      <td>4</td>\n",
       "      <td>7</td>\n",
       "      <td>0</td>\n",
       "      <td>0</td>\n",
       "      <td>0</td>\n",
       "    </tr>\n",
       "    <tr>\n",
       "      <th>2</th>\n",
       "      <td>26.58</td>\n",
       "      <td>1</td>\n",
       "      <td>0</td>\n",
       "      <td>0</td>\n",
       "      <td>20</td>\n",
       "      <td>30</td>\n",
       "      <td>0</td>\n",
       "      <td>1</td>\n",
       "      <td>9</td>\n",
       "      <td>5</td>\n",
       "      <td>2</td>\n",
       "      <td>1</td>\n",
       "      <td>1</td>\n",
       "      <td>8</td>\n",
       "      <td>1</td>\n",
       "      <td>0</td>\n",
       "      <td>0</td>\n",
       "    </tr>\n",
       "    <tr>\n",
       "      <th>3</th>\n",
       "      <td>24.21</td>\n",
       "      <td>0</td>\n",
       "      <td>0</td>\n",
       "      <td>0</td>\n",
       "      <td>0</td>\n",
       "      <td>0</td>\n",
       "      <td>0</td>\n",
       "      <td>0</td>\n",
       "      <td>11</td>\n",
       "      <td>5</td>\n",
       "      <td>0</td>\n",
       "      <td>0</td>\n",
       "      <td>2</td>\n",
       "      <td>6</td>\n",
       "      <td>0</td>\n",
       "      <td>0</td>\n",
       "      <td>1</td>\n",
       "    </tr>\n",
       "    <tr>\n",
       "      <th>4</th>\n",
       "      <td>23.71</td>\n",
       "      <td>0</td>\n",
       "      <td>0</td>\n",
       "      <td>0</td>\n",
       "      <td>28</td>\n",
       "      <td>0</td>\n",
       "      <td>1</td>\n",
       "      <td>0</td>\n",
       "      <td>4</td>\n",
       "      <td>5</td>\n",
       "      <td>0</td>\n",
       "      <td>1</td>\n",
       "      <td>4</td>\n",
       "      <td>8</td>\n",
       "      <td>0</td>\n",
       "      <td>0</td>\n",
       "      <td>0</td>\n",
       "    </tr>\n",
       "    <tr>\n",
       "      <th>...</th>\n",
       "      <td>...</td>\n",
       "      <td>...</td>\n",
       "      <td>...</td>\n",
       "      <td>...</td>\n",
       "      <td>...</td>\n",
       "      <td>...</td>\n",
       "      <td>...</td>\n",
       "      <td>...</td>\n",
       "      <td>...</td>\n",
       "      <td>...</td>\n",
       "      <td>...</td>\n",
       "      <td>...</td>\n",
       "      <td>...</td>\n",
       "      <td>...</td>\n",
       "      <td>...</td>\n",
       "      <td>...</td>\n",
       "      <td>...</td>\n",
       "    </tr>\n",
       "    <tr>\n",
       "      <th>319790</th>\n",
       "      <td>27.41</td>\n",
       "      <td>1</td>\n",
       "      <td>0</td>\n",
       "      <td>0</td>\n",
       "      <td>7</td>\n",
       "      <td>0</td>\n",
       "      <td>1</td>\n",
       "      <td>1</td>\n",
       "      <td>8</td>\n",
       "      <td>3</td>\n",
       "      <td>2</td>\n",
       "      <td>0</td>\n",
       "      <td>1</td>\n",
       "      <td>6</td>\n",
       "      <td>1</td>\n",
       "      <td>0</td>\n",
       "      <td>0</td>\n",
       "    </tr>\n",
       "    <tr>\n",
       "      <th>319791</th>\n",
       "      <td>29.84</td>\n",
       "      <td>1</td>\n",
       "      <td>0</td>\n",
       "      <td>0</td>\n",
       "      <td>0</td>\n",
       "      <td>0</td>\n",
       "      <td>0</td>\n",
       "      <td>1</td>\n",
       "      <td>3</td>\n",
       "      <td>3</td>\n",
       "      <td>0</td>\n",
       "      <td>1</td>\n",
       "      <td>4</td>\n",
       "      <td>5</td>\n",
       "      <td>1</td>\n",
       "      <td>0</td>\n",
       "      <td>0</td>\n",
       "    </tr>\n",
       "    <tr>\n",
       "      <th>319792</th>\n",
       "      <td>24.24</td>\n",
       "      <td>0</td>\n",
       "      <td>0</td>\n",
       "      <td>0</td>\n",
       "      <td>0</td>\n",
       "      <td>0</td>\n",
       "      <td>0</td>\n",
       "      <td>0</td>\n",
       "      <td>5</td>\n",
       "      <td>3</td>\n",
       "      <td>0</td>\n",
       "      <td>1</td>\n",
       "      <td>2</td>\n",
       "      <td>6</td>\n",
       "      <td>0</td>\n",
       "      <td>0</td>\n",
       "      <td>0</td>\n",
       "    </tr>\n",
       "    <tr>\n",
       "      <th>319793</th>\n",
       "      <td>32.81</td>\n",
       "      <td>0</td>\n",
       "      <td>0</td>\n",
       "      <td>0</td>\n",
       "      <td>0</td>\n",
       "      <td>0</td>\n",
       "      <td>0</td>\n",
       "      <td>0</td>\n",
       "      <td>1</td>\n",
       "      <td>3</td>\n",
       "      <td>0</td>\n",
       "      <td>0</td>\n",
       "      <td>2</td>\n",
       "      <td>12</td>\n",
       "      <td>0</td>\n",
       "      <td>0</td>\n",
       "      <td>0</td>\n",
       "    </tr>\n",
       "    <tr>\n",
       "      <th>319794</th>\n",
       "      <td>46.56</td>\n",
       "      <td>0</td>\n",
       "      <td>0</td>\n",
       "      <td>0</td>\n",
       "      <td>0</td>\n",
       "      <td>0</td>\n",
       "      <td>0</td>\n",
       "      <td>0</td>\n",
       "      <td>12</td>\n",
       "      <td>3</td>\n",
       "      <td>0</td>\n",
       "      <td>1</td>\n",
       "      <td>2</td>\n",
       "      <td>8</td>\n",
       "      <td>0</td>\n",
       "      <td>0</td>\n",
       "      <td>0</td>\n",
       "    </tr>\n",
       "  </tbody>\n",
       "</table>\n",
       "<p>301717 rows × 17 columns</p>\n",
       "</div>"
      ],
      "text/plain": [
       "          BMI  Smoking  AlcoholDrinking  Stroke  PhysicalHealth  MentalHealth  \\\n",
       "0       16.60        1                0       0               3            30   \n",
       "1       20.34        0                0       1               0             0   \n",
       "2       26.58        1                0       0              20            30   \n",
       "3       24.21        0                0       0               0             0   \n",
       "4       23.71        0                0       0              28             0   \n",
       "...       ...      ...              ...     ...             ...           ...   \n",
       "319790  27.41        1                0       0               7             0   \n",
       "319791  29.84        1                0       0               0             0   \n",
       "319792  24.24        0                0       0               0             0   \n",
       "319793  32.81        0                0       0               0             0   \n",
       "319794  46.56        0                0       0               0             0   \n",
       "\n",
       "        DiffWalking  Sex  AgeCategory  Race  Diabetic  PhysicalActivity  \\\n",
       "0                 0    0            7     5         2                 1   \n",
       "1                 0    0           12     5         0                 1   \n",
       "2                 0    1            9     5         2                 1   \n",
       "3                 0    0           11     5         0                 0   \n",
       "4                 1    0            4     5         0                 1   \n",
       "...             ...  ...          ...   ...       ...               ...   \n",
       "319790            1    1            8     3         2                 0   \n",
       "319791            0    1            3     3         0                 1   \n",
       "319792            0    0            5     3         0                 1   \n",
       "319793            0    0            1     3         0                 0   \n",
       "319794            0    0           12     3         0                 1   \n",
       "\n",
       "        GenHealth  SleepTime  Asthma  KidneyDisease  SkinCancer  \n",
       "0               4          5       1              0           1  \n",
       "1               4          7       0              0           0  \n",
       "2               1          8       1              0           0  \n",
       "3               2          6       0              0           1  \n",
       "4               4          8       0              0           0  \n",
       "...           ...        ...     ...            ...         ...  \n",
       "319790          1          6       1              0           0  \n",
       "319791          4          5       1              0           0  \n",
       "319792          2          6       0              0           0  \n",
       "319793          2         12       0              0           0  \n",
       "319794          2          8       0              0           0  \n",
       "\n",
       "[301717 rows x 17 columns]"
      ]
     },
     "execution_count": 8,
     "metadata": {},
     "output_type": "execute_result"
    }
   ],
   "source": [
    "x"
   ]
  },
  {
   "cell_type": "code",
   "execution_count": 9,
   "id": "e49e4912",
   "metadata": {},
   "outputs": [
    {
     "data": {
      "text/plain": [
       "0         0\n",
       "1         0\n",
       "2         0\n",
       "3         0\n",
       "4         0\n",
       "         ..\n",
       "319790    1\n",
       "319791    0\n",
       "319792    0\n",
       "319793    0\n",
       "319794    0\n",
       "Name: HeartDisease, Length: 301717, dtype: int32"
      ]
     },
     "execution_count": 9,
     "metadata": {},
     "output_type": "execute_result"
    }
   ],
   "source": [
    "y"
   ]
  },
  {
   "cell_type": "markdown",
   "id": "ab79c93c",
   "metadata": {},
   "source": [
    "# Imbalance Data handling\n"
   ]
  },
  {
   "cell_type": "code",
   "execution_count": 10,
   "id": "d3c228cf",
   "metadata": {},
   "outputs": [
    {
     "data": {
      "text/plain": [
       "0    274456\n",
       "1     27261\n",
       "Name: HeartDisease, dtype: int64"
      ]
     },
     "execution_count": 10,
     "metadata": {},
     "output_type": "execute_result"
    }
   ],
   "source": [
    "df.HeartDisease.value_counts()"
   ]
  },
  {
   "cell_type": "code",
   "execution_count": 11,
   "id": "eda6bf62",
   "metadata": {},
   "outputs": [],
   "source": [
    "not_HeartDisease=(274456/(274456+27261))*100\n",
    "HeartDisease=(27261/(274456+27261))*100"
   ]
  },
  {
   "cell_type": "code",
   "execution_count": 12,
   "id": "481ff449",
   "metadata": {},
   "outputs": [
    {
     "name": "stdout",
     "output_type": "stream",
     "text": [
      "No HeartDisease 90.96471196518591 percent of the total people\n"
     ]
    }
   ],
   "source": [
    "print('No HeartDisease {} percent of the total people'.format(not_HeartDisease))"
   ]
  },
  {
   "cell_type": "code",
   "execution_count": 13,
   "id": "2d0a8f0e",
   "metadata": {},
   "outputs": [
    {
     "name": "stdout",
     "output_type": "stream",
     "text": [
      "HeartDisease 9.03528803481408 percent of the total people\n"
     ]
    }
   ],
   "source": [
    "print('HeartDisease {} percent of the total people'.format(HeartDisease))"
   ]
  },
  {
   "cell_type": "code",
   "execution_count": 14,
   "id": "ab14ba1d",
   "metadata": {},
   "outputs": [],
   "source": [
    "HeartDisease_no=df[df['HeartDisease']==0]\n",
    "HeartDisease_yes=df[df['HeartDisease']==1]"
   ]
  },
  {
   "cell_type": "code",
   "execution_count": 15,
   "id": "771bc568",
   "metadata": {},
   "outputs": [
    {
     "data": {
      "text/plain": [
       "(274456, 18)"
      ]
     },
     "execution_count": 15,
     "metadata": {},
     "output_type": "execute_result"
    }
   ],
   "source": [
    "HeartDisease_no.shape"
   ]
  },
  {
   "cell_type": "code",
   "execution_count": 16,
   "id": "ec7828b6",
   "metadata": {},
   "outputs": [
    {
     "data": {
      "text/plain": [
       "(27261, 18)"
      ]
     },
     "execution_count": 16,
     "metadata": {},
     "output_type": "execute_result"
    }
   ],
   "source": [
    "HeartDisease_yes.shape"
   ]
  },
  {
   "cell_type": "markdown",
   "id": "393ff191",
   "metadata": {},
   "source": [
    "# So we have to balance our dataset . Now applying Random over sampling techniques\n",
    "\n"
   ]
  },
  {
   "cell_type": "code",
   "execution_count": 17,
   "id": "67c51ce5",
   "metadata": {},
   "outputs": [],
   "source": [
    "from imblearn.over_sampling import RandomOverSampler\n",
    "random_over_sampler = RandomOverSampler(random_state =100)"
   ]
  },
  {
   "cell_type": "code",
   "execution_count": 18,
   "id": "eb73dd63",
   "metadata": {},
   "outputs": [
    {
     "data": {
      "text/html": [
       "<div>\n",
       "<style scoped>\n",
       "    .dataframe tbody tr th:only-of-type {\n",
       "        vertical-align: middle;\n",
       "    }\n",
       "\n",
       "    .dataframe tbody tr th {\n",
       "        vertical-align: top;\n",
       "    }\n",
       "\n",
       "    .dataframe thead th {\n",
       "        text-align: right;\n",
       "    }\n",
       "</style>\n",
       "<table border=\"1\" class=\"dataframe\">\n",
       "  <thead>\n",
       "    <tr style=\"text-align: right;\">\n",
       "      <th></th>\n",
       "      <th>BMI</th>\n",
       "      <th>Smoking</th>\n",
       "      <th>AlcoholDrinking</th>\n",
       "      <th>Stroke</th>\n",
       "      <th>PhysicalHealth</th>\n",
       "      <th>MentalHealth</th>\n",
       "      <th>DiffWalking</th>\n",
       "      <th>Sex</th>\n",
       "      <th>AgeCategory</th>\n",
       "      <th>Race</th>\n",
       "      <th>Diabetic</th>\n",
       "      <th>PhysicalActivity</th>\n",
       "      <th>GenHealth</th>\n",
       "      <th>SleepTime</th>\n",
       "      <th>Asthma</th>\n",
       "      <th>KidneyDisease</th>\n",
       "      <th>SkinCancer</th>\n",
       "    </tr>\n",
       "  </thead>\n",
       "  <tbody>\n",
       "    <tr>\n",
       "      <th>0</th>\n",
       "      <td>16.60</td>\n",
       "      <td>1</td>\n",
       "      <td>0</td>\n",
       "      <td>0</td>\n",
       "      <td>3</td>\n",
       "      <td>30</td>\n",
       "      <td>0</td>\n",
       "      <td>0</td>\n",
       "      <td>7</td>\n",
       "      <td>5</td>\n",
       "      <td>2</td>\n",
       "      <td>1</td>\n",
       "      <td>4</td>\n",
       "      <td>5</td>\n",
       "      <td>1</td>\n",
       "      <td>0</td>\n",
       "      <td>1</td>\n",
       "    </tr>\n",
       "    <tr>\n",
       "      <th>1</th>\n",
       "      <td>20.34</td>\n",
       "      <td>0</td>\n",
       "      <td>0</td>\n",
       "      <td>1</td>\n",
       "      <td>0</td>\n",
       "      <td>0</td>\n",
       "      <td>0</td>\n",
       "      <td>0</td>\n",
       "      <td>12</td>\n",
       "      <td>5</td>\n",
       "      <td>0</td>\n",
       "      <td>1</td>\n",
       "      <td>4</td>\n",
       "      <td>7</td>\n",
       "      <td>0</td>\n",
       "      <td>0</td>\n",
       "      <td>0</td>\n",
       "    </tr>\n",
       "    <tr>\n",
       "      <th>2</th>\n",
       "      <td>26.58</td>\n",
       "      <td>1</td>\n",
       "      <td>0</td>\n",
       "      <td>0</td>\n",
       "      <td>20</td>\n",
       "      <td>30</td>\n",
       "      <td>0</td>\n",
       "      <td>1</td>\n",
       "      <td>9</td>\n",
       "      <td>5</td>\n",
       "      <td>2</td>\n",
       "      <td>1</td>\n",
       "      <td>1</td>\n",
       "      <td>8</td>\n",
       "      <td>1</td>\n",
       "      <td>0</td>\n",
       "      <td>0</td>\n",
       "    </tr>\n",
       "    <tr>\n",
       "      <th>3</th>\n",
       "      <td>24.21</td>\n",
       "      <td>0</td>\n",
       "      <td>0</td>\n",
       "      <td>0</td>\n",
       "      <td>0</td>\n",
       "      <td>0</td>\n",
       "      <td>0</td>\n",
       "      <td>0</td>\n",
       "      <td>11</td>\n",
       "      <td>5</td>\n",
       "      <td>0</td>\n",
       "      <td>0</td>\n",
       "      <td>2</td>\n",
       "      <td>6</td>\n",
       "      <td>0</td>\n",
       "      <td>0</td>\n",
       "      <td>1</td>\n",
       "    </tr>\n",
       "    <tr>\n",
       "      <th>4</th>\n",
       "      <td>23.71</td>\n",
       "      <td>0</td>\n",
       "      <td>0</td>\n",
       "      <td>0</td>\n",
       "      <td>28</td>\n",
       "      <td>0</td>\n",
       "      <td>1</td>\n",
       "      <td>0</td>\n",
       "      <td>4</td>\n",
       "      <td>5</td>\n",
       "      <td>0</td>\n",
       "      <td>1</td>\n",
       "      <td>4</td>\n",
       "      <td>8</td>\n",
       "      <td>0</td>\n",
       "      <td>0</td>\n",
       "      <td>0</td>\n",
       "    </tr>\n",
       "    <tr>\n",
       "      <th>...</th>\n",
       "      <td>...</td>\n",
       "      <td>...</td>\n",
       "      <td>...</td>\n",
       "      <td>...</td>\n",
       "      <td>...</td>\n",
       "      <td>...</td>\n",
       "      <td>...</td>\n",
       "      <td>...</td>\n",
       "      <td>...</td>\n",
       "      <td>...</td>\n",
       "      <td>...</td>\n",
       "      <td>...</td>\n",
       "      <td>...</td>\n",
       "      <td>...</td>\n",
       "      <td>...</td>\n",
       "      <td>...</td>\n",
       "      <td>...</td>\n",
       "    </tr>\n",
       "    <tr>\n",
       "      <th>548907</th>\n",
       "      <td>35.43</td>\n",
       "      <td>0</td>\n",
       "      <td>0</td>\n",
       "      <td>0</td>\n",
       "      <td>0</td>\n",
       "      <td>0</td>\n",
       "      <td>0</td>\n",
       "      <td>0</td>\n",
       "      <td>12</td>\n",
       "      <td>5</td>\n",
       "      <td>0</td>\n",
       "      <td>1</td>\n",
       "      <td>4</td>\n",
       "      <td>5</td>\n",
       "      <td>0</td>\n",
       "      <td>0</td>\n",
       "      <td>1</td>\n",
       "    </tr>\n",
       "    <tr>\n",
       "      <th>548908</th>\n",
       "      <td>23.01</td>\n",
       "      <td>1</td>\n",
       "      <td>0</td>\n",
       "      <td>0</td>\n",
       "      <td>0</td>\n",
       "      <td>20</td>\n",
       "      <td>0</td>\n",
       "      <td>1</td>\n",
       "      <td>8</td>\n",
       "      <td>5</td>\n",
       "      <td>0</td>\n",
       "      <td>1</td>\n",
       "      <td>4</td>\n",
       "      <td>6</td>\n",
       "      <td>0</td>\n",
       "      <td>0</td>\n",
       "      <td>0</td>\n",
       "    </tr>\n",
       "    <tr>\n",
       "      <th>548909</th>\n",
       "      <td>30.80</td>\n",
       "      <td>0</td>\n",
       "      <td>0</td>\n",
       "      <td>0</td>\n",
       "      <td>0</td>\n",
       "      <td>0</td>\n",
       "      <td>0</td>\n",
       "      <td>0</td>\n",
       "      <td>10</td>\n",
       "      <td>4</td>\n",
       "      <td>2</td>\n",
       "      <td>0</td>\n",
       "      <td>2</td>\n",
       "      <td>5</td>\n",
       "      <td>0</td>\n",
       "      <td>0</td>\n",
       "      <td>0</td>\n",
       "    </tr>\n",
       "    <tr>\n",
       "      <th>548910</th>\n",
       "      <td>44.63</td>\n",
       "      <td>0</td>\n",
       "      <td>0</td>\n",
       "      <td>0</td>\n",
       "      <td>0</td>\n",
       "      <td>7</td>\n",
       "      <td>1</td>\n",
       "      <td>0</td>\n",
       "      <td>9</td>\n",
       "      <td>2</td>\n",
       "      <td>2</td>\n",
       "      <td>0</td>\n",
       "      <td>2</td>\n",
       "      <td>8</td>\n",
       "      <td>0</td>\n",
       "      <td>0</td>\n",
       "      <td>0</td>\n",
       "    </tr>\n",
       "    <tr>\n",
       "      <th>548911</th>\n",
       "      <td>30.90</td>\n",
       "      <td>0</td>\n",
       "      <td>0</td>\n",
       "      <td>0</td>\n",
       "      <td>0</td>\n",
       "      <td>10</td>\n",
       "      <td>1</td>\n",
       "      <td>0</td>\n",
       "      <td>9</td>\n",
       "      <td>5</td>\n",
       "      <td>0</td>\n",
       "      <td>1</td>\n",
       "      <td>2</td>\n",
       "      <td>8</td>\n",
       "      <td>0</td>\n",
       "      <td>0</td>\n",
       "      <td>0</td>\n",
       "    </tr>\n",
       "  </tbody>\n",
       "</table>\n",
       "<p>548912 rows × 17 columns</p>\n",
       "</div>"
      ],
      "text/plain": [
       "          BMI  Smoking  AlcoholDrinking  Stroke  PhysicalHealth  MentalHealth  \\\n",
       "0       16.60        1                0       0               3            30   \n",
       "1       20.34        0                0       1               0             0   \n",
       "2       26.58        1                0       0              20            30   \n",
       "3       24.21        0                0       0               0             0   \n",
       "4       23.71        0                0       0              28             0   \n",
       "...       ...      ...              ...     ...             ...           ...   \n",
       "548907  35.43        0                0       0               0             0   \n",
       "548908  23.01        1                0       0               0            20   \n",
       "548909  30.80        0                0       0               0             0   \n",
       "548910  44.63        0                0       0               0             7   \n",
       "548911  30.90        0                0       0               0            10   \n",
       "\n",
       "        DiffWalking  Sex  AgeCategory  Race  Diabetic  PhysicalActivity  \\\n",
       "0                 0    0            7     5         2                 1   \n",
       "1                 0    0           12     5         0                 1   \n",
       "2                 0    1            9     5         2                 1   \n",
       "3                 0    0           11     5         0                 0   \n",
       "4                 1    0            4     5         0                 1   \n",
       "...             ...  ...          ...   ...       ...               ...   \n",
       "548907            0    0           12     5         0                 1   \n",
       "548908            0    1            8     5         0                 1   \n",
       "548909            0    0           10     4         2                 0   \n",
       "548910            1    0            9     2         2                 0   \n",
       "548911            1    0            9     5         0                 1   \n",
       "\n",
       "        GenHealth  SleepTime  Asthma  KidneyDisease  SkinCancer  \n",
       "0               4          5       1              0           1  \n",
       "1               4          7       0              0           0  \n",
       "2               1          8       1              0           0  \n",
       "3               2          6       0              0           1  \n",
       "4               4          8       0              0           0  \n",
       "...           ...        ...     ...            ...         ...  \n",
       "548907          4          5       0              0           1  \n",
       "548908          4          6       0              0           0  \n",
       "548909          2          5       0              0           0  \n",
       "548910          2          8       0              0           0  \n",
       "548911          2          8       0              0           0  \n",
       "\n",
       "[548912 rows x 17 columns]"
      ]
     },
     "execution_count": 18,
     "metadata": {},
     "output_type": "execute_result"
    }
   ],
   "source": [
    "x_new,y_new=random_over_sampler.fit_resample(x,y)\n",
    "#x1_new=x2_new=x3_new=x4_new=x5_new=x6_new=x7_new=x8_new=x9_new=x_new\n",
    "x_new"
   ]
  },
  {
   "cell_type": "code",
   "execution_count": 19,
   "id": "bda338dc",
   "metadata": {},
   "outputs": [
    {
     "data": {
      "text/plain": [
       "0         0\n",
       "1         0\n",
       "2         0\n",
       "3         0\n",
       "4         0\n",
       "         ..\n",
       "548907    1\n",
       "548908    1\n",
       "548909    1\n",
       "548910    1\n",
       "548911    1\n",
       "Name: HeartDisease, Length: 548912, dtype: int32"
      ]
     },
     "execution_count": 19,
     "metadata": {},
     "output_type": "execute_result"
    }
   ],
   "source": [
    "#y1_new=y2_new=y3_new=y4_new=y5_new=y6_new=y7_new=y8_new=y9_new=y_new\n",
    "y_new"
   ]
  },
  {
   "cell_type": "code",
   "execution_count": 20,
   "id": "38f47cc5",
   "metadata": {},
   "outputs": [
    {
     "data": {
      "text/plain": [
       "(548912, 17)"
      ]
     },
     "execution_count": 20,
     "metadata": {},
     "output_type": "execute_result"
    }
   ],
   "source": [
    "x_new.shape"
   ]
  },
  {
   "cell_type": "code",
   "execution_count": 21,
   "id": "c796989a",
   "metadata": {},
   "outputs": [
    {
     "data": {
      "text/plain": [
       "(548912,)"
      ]
     },
     "execution_count": 21,
     "metadata": {},
     "output_type": "execute_result"
    }
   ],
   "source": [
    "y_new.shape"
   ]
  },
  {
   "cell_type": "markdown",
   "id": "d068a998",
   "metadata": {},
   "source": [
    "# 7->GradientBoostingClassifier Algorithm implementation\n"
   ]
  },
  {
   "cell_type": "markdown",
   "id": "5945be36",
   "metadata": {},
   "source": [
    "# GradientBoosting Classifier for holdout cross validation with Randon Over Sampling\n"
   ]
  },
  {
   "cell_type": "code",
   "execution_count": 22,
   "id": "274f70a2",
   "metadata": {},
   "outputs": [],
   "source": [
    "from sklearn.model_selection import train_test_split \n",
    "from sklearn.ensemble import GradientBoostingClassifier\n",
    "gbc=GradientBoostingClassifier()\n"
   ]
  },
  {
   "cell_type": "code",
   "execution_count": 23,
   "id": "3cca2ef8",
   "metadata": {},
   "outputs": [
    {
     "data": {
      "text/plain": [
       "GradientBoostingClassifier()"
      ]
     },
     "execution_count": 23,
     "metadata": {},
     "output_type": "execute_result"
    }
   ],
   "source": [
    "over_xtrain,over_xtest,over_ytrain,over_ytest = train_test_split(x_new,y_new,test_size = 0.30 ,random_state =42)\n",
    "gbc.fit(over_xtrain,over_ytrain)"
   ]
  },
  {
   "cell_type": "code",
   "execution_count": 24,
   "id": "32345d38",
   "metadata": {},
   "outputs": [
    {
     "data": {
      "text/plain": [
       "0.7623729307601685"
      ]
     },
     "execution_count": 24,
     "metadata": {},
     "output_type": "execute_result"
    }
   ],
   "source": [
    "OverSampleing_dataset_accuracy6 = gbc.score(over_xtest,over_ytest)\n",
    "OverSampleing_dataset_accuracy6"
   ]
  },
  {
   "cell_type": "markdown",
   "id": "71f77696",
   "metadata": {},
   "source": [
    "# GradientBoostingClassifier for KFold cross validation for Random Over sampling\n"
   ]
  },
  {
   "cell_type": "code",
   "execution_count": 25,
   "id": "19b6936d",
   "metadata": {},
   "outputs": [],
   "source": [
    "from sklearn.model_selection import KFold, cross_val_score\n",
    "kfold = KFold(n_splits = 10)"
   ]
  },
  {
   "cell_type": "code",
   "execution_count": 26,
   "id": "3eb98ec4",
   "metadata": {},
   "outputs": [
    {
     "data": {
      "text/plain": [
       "array([0.69483713, 0.69399913, 0.69144304, 0.70266528, 0.70118963,\n",
       "       0.75480498, 0.74979505, 0.74728098, 0.7517808 , 0.75278279])"
      ]
     },
     "execution_count": 26,
     "metadata": {},
     "output_type": "execute_result"
    }
   ],
   "source": [
    "OverSampleingDataset_kfold_result6= cross_val_score(gbc,x_new,y_new,cv = kfold)\n",
    "OverSampleingDataset_kfold_result6"
   ]
  },
  {
   "cell_type": "code",
   "execution_count": 27,
   "id": "c2c7ee52",
   "metadata": {},
   "outputs": [
    {
     "data": {
      "text/plain": [
       "0.7240578804608035"
      ]
     },
     "execution_count": 27,
     "metadata": {},
     "output_type": "execute_result"
    }
   ],
   "source": [
    "OverSampleingDataset_kfold_result6.mean()"
   ]
  },
  {
   "cell_type": "markdown",
   "id": "4e25471a",
   "metadata": {},
   "source": [
    "# GradientBoostingClassifier for StratiFied KFold cross validation for Over sampling\n"
   ]
  },
  {
   "cell_type": "code",
   "execution_count": 28,
   "id": "f9f89a33",
   "metadata": {},
   "outputs": [],
   "source": [
    "from sklearn.model_selection import StratifiedKFold\n",
    "Stf_Kfold = StratifiedKFold(n_splits = 10)"
   ]
  },
  {
   "cell_type": "code",
   "execution_count": 29,
   "id": "d886362b",
   "metadata": {},
   "outputs": [
    {
     "data": {
      "text/plain": [
       "array([0.76471981, 0.75919988, 0.7642783 , 0.75906797, 0.76471553,\n",
       "       0.75469567, 0.76932466, 0.75301962, 0.76906961, 0.75934124])"
      ]
     },
     "execution_count": 29,
     "metadata": {},
     "output_type": "execute_result"
    }
   ],
   "source": [
    "OverSampleingDataset_Sf_kfold_result6= cross_val_score(gbc,x_new,y_new,cv = Stf_Kfold)\n",
    "OverSampleingDataset_Sf_kfold_result6"
   ]
  },
  {
   "cell_type": "code",
   "execution_count": 30,
   "id": "c22531cc",
   "metadata": {},
   "outputs": [
    {
     "data": {
      "text/plain": [
       "0.7617432294552899"
      ]
     },
     "execution_count": 30,
     "metadata": {},
     "output_type": "execute_result"
    }
   ],
   "source": [
    "OverSampleingDataset_Sf_kfold_result6.mean()"
   ]
  },
  {
   "cell_type": "markdown",
   "id": "5b66fe3c",
   "metadata": {},
   "source": [
    "# Now from over sampling ,we calculate all confusion matrix performance\n",
    "\n",
    "                    "
   ]
  },
  {
   "cell_type": "code",
   "execution_count": 31,
   "id": "1d507b8f",
   "metadata": {},
   "outputs": [
    {
     "data": {
      "text/plain": [
       "GradientBoostingClassifier()"
      ]
     },
     "execution_count": 31,
     "metadata": {},
     "output_type": "execute_result"
    }
   ],
   "source": [
    "from sklearn.metrics import classification_report,accuracy_score,confusion_matrix,plot_roc_curve\n",
    "gbc.fit(over_xtrain,over_ytrain)"
   ]
  },
  {
   "cell_type": "code",
   "execution_count": 32,
   "id": "2bc32779",
   "metadata": {},
   "outputs": [
    {
     "data": {
      "text/plain": [
       "array([1, 1, 0, ..., 1, 1, 1])"
      ]
     },
     "execution_count": 32,
     "metadata": {},
     "output_type": "execute_result"
    }
   ],
   "source": [
    "pred_y6=gbc.predict(over_xtest)#Predicted Class \n",
    "pred_y6"
   ]
  },
  {
   "cell_type": "code",
   "execution_count": 33,
   "id": "9d022ddc",
   "metadata": {},
   "outputs": [
    {
     "data": {
      "text/plain": [
       "374936    1\n",
       "319916    1\n",
       "56188     0\n",
       "444156    1\n",
       "170814    0\n",
       "         ..\n",
       "285161    0\n",
       "217312    1\n",
       "353792    1\n",
       "318432    1\n",
       "216193    0\n",
       "Name: HeartDisease, Length: 164674, dtype: int32"
      ]
     },
     "execution_count": 33,
     "metadata": {},
     "output_type": "execute_result"
    }
   ],
   "source": [
    "over_ytest"
   ]
  },
  {
   "cell_type": "code",
   "execution_count": 34,
   "id": "af3f6c9a",
   "metadata": {},
   "outputs": [
    {
     "data": {
      "text/plain": [
       "array([1, 1, 0, ..., 1, 1, 0])"
      ]
     },
     "execution_count": 34,
     "metadata": {},
     "output_type": "execute_result"
    }
   ],
   "source": [
    "np.array(over_ytest) #actual class/y"
   ]
  },
  {
   "cell_type": "code",
   "execution_count": 35,
   "id": "f7f8dd80",
   "metadata": {},
   "outputs": [
    {
     "name": "stdout",
     "output_type": "stream",
     "text": [
      "              precision    recall  f1-score   support\n",
      "\n",
      "           0       0.78      0.72      0.75     82143\n",
      "           1       0.74      0.80      0.77     82531\n",
      "\n",
      "    accuracy                           0.76    164674\n",
      "   macro avg       0.76      0.76      0.76    164674\n",
      "weighted avg       0.76      0.76      0.76    164674\n",
      "\n"
     ]
    }
   ],
   "source": [
    "print(classification_report(over_ytest,pred_y6))\n"
   ]
  },
  {
   "cell_type": "code",
   "execution_count": 38,
   "id": "33e03686",
   "metadata": {},
   "outputs": [
    {
     "data": {
      "text/plain": [
       "array([[59358, 22785],\n",
       "       [16346, 66185]], dtype=int64)"
      ]
     },
     "execution_count": 38,
     "metadata": {},
     "output_type": "execute_result"
    }
   ],
   "source": [
    "cm6=confusion_matrix(over_ytest,pred_y6)\n",
    "cm6"
   ]
  },
  {
   "cell_type": "markdown",
   "id": "5863c5f3",
   "metadata": {},
   "source": [
    "# Visualization with heatmap performance of confussion matrix for GradientBoosting Classifier\n"
   ]
  },
  {
   "cell_type": "code",
   "execution_count": 39,
   "id": "430576f8",
   "metadata": {},
   "outputs": [
    {
     "data": {
      "text/plain": [
       "Text(33.0, 0.5, 'Actual Values')"
      ]
     },
     "execution_count": 39,
     "metadata": {},
     "output_type": "execute_result"
    },
    {
     "data": {
      "image/png": "[encoded data removed]",
      "text/plain": [
       "<Figure size 432x288 with 2 Axes>"
      ]
     },
     "metadata": {
      "needs_background": "light"
     },
     "output_type": "display_data"
    }
   ],
   "source": [
    "sns.heatmap(cm6,annot=True)\n",
    "plt.xlabel('Predicted Values')\n",
    "plt.ylabel('Actual Values')"
   ]
  },
  {
   "cell_type": "code",
   "execution_count": 40,
   "id": "bc594677",
   "metadata": {},
   "outputs": [],
   "source": [
    "tp,fn,fp,tn=confusion_matrix(over_ytest,pred_y6).reshape(-1)"
   ]
  },
  {
   "cell_type": "code",
   "execution_count": 41,
   "id": "7c8fd567",
   "metadata": {},
   "outputs": [
    {
     "data": {
      "text/plain": [
       "59358"
      ]
     },
     "execution_count": 41,
     "metadata": {},
     "output_type": "execute_result"
    }
   ],
   "source": [
    "tp"
   ]
  },
  {
   "cell_type": "code",
   "execution_count": 42,
   "id": "8f422ae8",
   "metadata": {},
   "outputs": [
    {
     "data": {
      "text/plain": [
       "22785"
      ]
     },
     "execution_count": 42,
     "metadata": {},
     "output_type": "execute_result"
    }
   ],
   "source": [
    "fn"
   ]
  },
  {
   "cell_type": "code",
   "execution_count": 43,
   "id": "9afc0c8f",
   "metadata": {},
   "outputs": [
    {
     "data": {
      "text/plain": [
       "16346"
      ]
     },
     "execution_count": 43,
     "metadata": {},
     "output_type": "execute_result"
    }
   ],
   "source": [
    "fp"
   ]
  },
  {
   "cell_type": "code",
   "execution_count": 44,
   "id": "8e28ef37",
   "metadata": {},
   "outputs": [
    {
     "data": {
      "text/plain": [
       "66185"
      ]
     },
     "execution_count": 44,
     "metadata": {},
     "output_type": "execute_result"
    }
   ],
   "source": [
    "tn"
   ]
  },
  {
   "cell_type": "markdown",
   "id": "d0490a9d",
   "metadata": {},
   "source": [
    "# Accuracy"
   ]
  },
  {
   "cell_type": "code",
   "execution_count": 45,
   "id": "1a3e42cc",
   "metadata": {},
   "outputs": [
    {
     "data": {
      "text/plain": [
       "0.7209152628830295"
      ]
     },
     "execution_count": 45,
     "metadata": {},
     "output_type": "execute_result"
    }
   ],
   "source": [
    "\n",
    "(tp+tp)/(tp+fn+fp+tn)"
   ]
  },
  {
   "cell_type": "code",
   "execution_count": 46,
   "id": "f486c12c",
   "metadata": {},
   "outputs": [
    {
     "name": "stdout",
     "output_type": "stream",
     "text": [
      "0.7840801014477439\n"
     ]
    }
   ],
   "source": [
    "#precision\n",
    "ppv = tp/(tp+fp)\n",
    "print(ppv)"
   ]
  },
  {
   "cell_type": "code",
   "execution_count": 47,
   "id": "4169f0e4",
   "metadata": {},
   "outputs": [
    {
     "name": "stdout",
     "output_type": "stream",
     "text": [
      "0.7226178737080458\n"
     ]
    }
   ],
   "source": [
    "#Recall\n",
    "trp = tp/(tp+fn)\n",
    "print(trp)"
   ]
  },
  {
   "cell_type": "code",
   "execution_count": 48,
   "id": "057dd0fa",
   "metadata": {},
   "outputs": [
    {
     "name": "stdout",
     "output_type": "stream",
     "text": [
      "0.19805891119700475\n"
     ]
    }
   ],
   "source": [
    "#1-Specificity\n",
    "fpr = fp/(fp+tn)\n",
    "print(fpr)"
   ]
  },
  {
   "cell_type": "code",
   "execution_count": 49,
   "id": "90fa81e2",
   "metadata": {},
   "outputs": [
    {
     "name": "stdout",
     "output_type": "stream",
     "text": [
      "0.7520953835042794\n"
     ]
    }
   ],
   "source": [
    "#F1-score\n",
    "f1_score = (2*ppv*trp)/(ppv+trp)\n",
    "print(f1_score)"
   ]
  },
  {
   "cell_type": "code",
   "execution_count": 50,
   "id": "25edd829",
   "metadata": {},
   "outputs": [
    {
     "name": "stdout",
     "output_type": "stream",
     "text": [
      "0.8019410888029952\n"
     ]
    }
   ],
   "source": [
    "#Specificity\n",
    "tnr = tn/(tn+fp)\n",
    "print(tnr)"
   ]
  },
  {
   "cell_type": "code",
   "execution_count": 51,
   "id": "b9917d16",
   "metadata": {},
   "outputs": [
    {
     "name": "stdout",
     "output_type": "stream",
     "text": [
      "0.6026865944420189\n"
     ]
    }
   ],
   "source": [
    "#CSI\n",
    "csi = tp/(tp+fn+fp)\n",
    "print(csi)"
   ]
  },
  {
   "cell_type": "code",
   "execution_count": 52,
   "id": "42e54b86",
   "metadata": {},
   "outputs": [
    {
     "name": "stdout",
     "output_type": "stream",
     "text": [
      "0.21591989855225616\n"
     ]
    }
   ],
   "source": [
    "#FDR\n",
    "fdr = fp/(tp+fp)\n",
    "print(fdr)"
   ]
  },
  {
   "cell_type": "markdown",
   "id": "0ddd9f78",
   "metadata": {},
   "source": [
    "# Roc and Auc curve for GradientingBoosting classifier\n"
   ]
  },
  {
   "cell_type": "code",
   "execution_count": 53,
   "id": "03b343e8",
   "metadata": {},
   "outputs": [
    {
     "name": "stderr",
     "output_type": "stream",
     "text": [
      "C:\\Users\\WIN\\Anaconda3\\lib\\site-packages\\sklearn\\utils\\deprecation.py:87: FutureWarning: Function plot_roc_curve is deprecated; Function :func:`plot_roc_curve` is deprecated in 1.0 and will be removed in 1.2. Use one of the class methods: :meth:`sklearn.metric.RocCurveDisplay.from_predictions` or :meth:`sklearn.metric.RocCurveDisplay.from_estimator`.\n",
      "  warnings.warn(msg, category=FutureWarning)\n"
     ]
    },
    {
     "data": {
      "text/plain": [
       "[<matplotlib.lines.Line2D at 0x1d4d8acc640>]"
      ]
     },
     "execution_count": 53,
     "metadata": {},
     "output_type": "execute_result"
    },
    {
     "data": {
      "image/png": "[encoded data removed]",
      "text/plain": [
       "<Figure size 432x288 with 1 Axes>"
      ]
     },
     "metadata": {
      "needs_background": "light"
     },
     "output_type": "display_data"
    }
   ],
   "source": [
    "plot_roc_curve(gbc,over_xtest,over_ytest,color='red')\n",
    "plt.plot([0,1],[0,1])"
   ]
  },
  {
   "cell_type": "markdown",
   "id": "616f5231",
   "metadata": {},
   "source": [
    "# Tuning GradientBoosting Classifier Algorithm using Randomized Search CV"
   ]
  },
  {
   "cell_type": "code",
   "execution_count": 59,
   "id": "cca9fcdf",
   "metadata": {},
   "outputs": [],
   "source": [
    "n_estimators=np.random.randint(15,200,20)\n",
    "loss=['deviance','exponential']\n",
    "criterion=['friedman_mse', 'squared_error', 'mse', 'mae']\n",
    "max_features=['auto','sqrt','log2']\n",
    "max_depth=np.random.randint(1,12,20)\n",
    "min_samples_split=np.random.randint(1,12,15)\n",
    "parameters={\n",
    "    'n_estimators':n_estimators,\n",
    "    'loss':loss,\n",
    "     'criterion':criterion,\n",
    "    'max_features':max_features,\n",
    "    'max_depth':max_depth,\n",
    "    'min_samples_split':min_samples_split\n",
    "}"
   ]
  },
  {
   "cell_type": "code",
   "execution_count": 60,
   "id": "09929030",
   "metadata": {},
   "outputs": [
    {
     "name": "stdout",
     "output_type": "stream",
     "text": [
      "{'n_estimators': array([ 91,  86,  96,  61, 187, 126, 192, 102,  24,  27,  47,  90, 183,\n",
      "       184, 110, 130, 167, 128,  46,  37]), 'loss': ['deviance', 'exponential'], 'criterion': ['friedman_mse', 'squared_error', 'mse', 'mae'], 'max_features': ['auto', 'sqrt', 'log2'], 'max_depth': array([ 6,  1,  7,  9,  5,  7,  1,  8,  4,  4,  9,  4,  7,  1,  1,  3,  2,\n",
      "        2,  9, 10]), 'min_samples_split': array([ 9,  7, 10,  1,  7,  4,  4,  9,  5,  2,  1,  4,  7,  4,  7])}\n"
     ]
    }
   ],
   "source": [
    "print(parameters)"
   ]
  },
  {
   "cell_type": "code",
   "execution_count": null,
   "id": "6d3e2719",
   "metadata": {},
   "outputs": [],
   "source": [
    "from sklearn.model_selection import RandomizedSearchCV\n",
    "import warnings \n",
    "warnings.filterwarnings('ignore')  \n",
    "r=RandomizedSearchCV(gbc,parameters,n_iter=100,cv=3)\n",
    "r.fit(over_xtrain,over_ytrain)"
   ]
  },
  {
   "cell_type": "code",
   "execution_count": null,
   "id": "88723eec",
   "metadata": {},
   "outputs": [],
   "source": [
    "r.cv_results_"
   ]
  },
  {
   "cell_type": "code",
   "execution_count": null,
   "id": "1c0b16b8",
   "metadata": {},
   "outputs": [],
   "source": [
    "result=pd.DataFrame(r.cv_results_)\n",
    "result"
   ]
  },
  {
   "cell_type": "code",
   "execution_count": null,
   "id": "d97dfe3c",
   "metadata": {},
   "outputs": [],
   "source": [
    "new_r=r.best_estimator_\n",
    "new_r"
   ]
  },
  {
   "cell_type": "code",
   "execution_count": null,
   "id": "cbbbb193",
   "metadata": {},
   "outputs": [],
   "source": [
    "new_r.fit(over_xtrain,over_ytrain)"
   ]
  },
  {
   "cell_type": "code",
   "execution_count": null,
   "id": "4aa33eba",
   "metadata": {},
   "outputs": [],
   "source": [
    "new_r.score(over_xtrain,over_ytrain)"
   ]
  },
  {
   "cell_type": "code",
   "execution_count": null,
   "id": "90b33ef5",
   "metadata": {},
   "outputs": [],
   "source": []
  }
 ],
 "metadata": {
  "kernelspec": {
   "display_name": "Python 3 (ipykernel)",
   "language": "python",
   "name": "python3"
  },
  "language_info": {
   "codemirror_mode": {
    "name": "ipython",
    "version": 3
   },
   "file_extension": ".py",
   "mimetype": "text/x-python",
   "name": "python",
   "nbconvert_exporter": "python",
   "pygments_lexer": "ipython3",
   "version": "3.9.7"
  }
 },
 "nbformat": 4,
 "nbformat_minor": 5
}
